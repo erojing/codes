{
 "cells": [
  {
   "cell_type": "markdown",
   "metadata": {},
   "source": [
    "---\n",
    "\n",
    "_You are currently looking at **version 1.1** of this notebook. To download notebooks and datafiles, as well as get help on Jupyter notebooks in the Coursera platform, visit the [Jupyter Notebook FAQ](https://www.coursera.org/learn/python-text-mining/resources/d9pwm) course resource._\n",
    "\n",
    "---"
   ]
  },
  {
   "cell_type": "markdown",
   "metadata": {},
   "source": [
    "# Assignment 1\n",
    "\n",
    "In this assignment, you'll be working with messy medical data and using regex to extract relevant infromation from the data. \n",
    "\n",
    "Each line of the `dates.txt` file corresponds to a medical note. Each note has a date that needs to be extracted, but each date is encoded in one of many formats.\n",
    "\n",
    "The goal of this assignment is to correctly identify all of the different date variants encoded in this dataset and to properly normalize and sort the dates. \n",
    "\n",
    "Here is a list of some of the variants you might encounter in this dataset:\n",
    "* 04/20/2009; 04/20/09; 4/20/09; 4/3/09\n",
    "* Mar-20-2009; Mar 20, 2009; March 20, 2009;  Mar. 20, 2009; Mar 20 2009;\n",
    "* 20 Mar 2009; 20 March 2009; 20 Mar. 2009; 20 March, 2009\n",
    "* Mar 20th, 2009; Mar 21st, 2009; Mar 22nd, 2009\n",
    "* Feb 2009; Sep 2009; Oct 2010\n",
    "* 6/2008; 12/2009\n",
    "* 2009; 2010\n",
    "\n",
    "Once you have extracted these date patterns from the text, the next step is to sort them in ascending chronological order accoring to the following rules:\n",
    "* Assume all dates in xx/xx/xx format are mm/dd/yy\n",
    "* Assume all dates where year is encoded in only two digits are years from the 1900's (e.g. 1/5/89 is January 5th, 1989)\n",
    "* If the day is missing (e.g. 9/2009), assume it is the first day of the month (e.g. September 1, 2009).\n",
    "* If the month is missing (e.g. 2010), assume it is the first of January of that year (e.g. January 1, 2010).\n",
    "* Watch out for potential typos as this is a raw, real-life derived dataset.\n",
    "\n",
    "With these rules in mind, find the correct date in each note and return a pandas Series in chronological order of the original Series' indices.\n",
    "\n",
    "For example if the original series was this:\n",
    "\n",
    "    0    1999\n",
    "    1    2010\n",
    "    2    1978\n",
    "    3    2015\n",
    "    4    1985\n",
    "\n",
    "Your function should return this:\n",
    "\n",
    "    0    2\n",
    "    1    4\n",
    "    2    0\n",
    "    3    1\n",
    "    4    3\n",
    "\n",
    "Your score will be calculated using [Kendall's tau](https://en.wikipedia.org/wiki/Kendall_rank_correlation_coefficient), a correlation measure for ordinal data.\n",
    "\n",
    "*This function should return a Series of length 500 and dtype int.*"
   ]
  },
  {
   "cell_type": "code",
   "execution_count": 93,
   "metadata": {
    "collapsed": true
   },
   "outputs": [],
   "source": [
    "import pandas as pd\n",
    "from datetime import datetime\n",
    "import re"
   ]
  },
  {
   "cell_type": "code",
   "execution_count": 119,
   "metadata": {
    "collapsed": true
   },
   "outputs": [],
   "source": [
    "def date_sorter():\n",
    "    doc = []\n",
    "    with open('dates.txt') as file:\n",
    "        for line in file:\n",
    "            doc.append(line)\n",
    "\n",
    "    df = pd.DataFrame(doc,columns=['raw'])\n",
    "    #截取原始date資料\n",
    "    df['date_type1'] = df['raw'].str.findall(r'\\d?\\d[-/]\\d?\\d[-/]\\d{2,4}')\n",
    "    df['date_type2'] = df['raw'].str.findall(r'(?:\\d?\\d[-, ]*)?(?:Jan|Feb|Mar|Apr|May|Jun|Jul|Aug|Sep|Oct|Nov|Dec)[a-z,.]*(?:[ ]\\d?\\d[a-z-, ]*)?[- ]*\\d{2,4}')\n",
    "    df['date_type3'] = df['raw'].str.findall(r'\\d?\\d[-/]\\d{4}')\n",
    "    df['date_type4'] = df['raw'].str.findall(r'\\d{4}')\n",
    "    df['final_date'] = 0\n",
    "    #date轉換為可計算的datetime\n",
    "    p = {'Jan':1,'January':1,'Janaury':1,'Feb':2,'February':2,'Mar':3,'March':3,'Apr':4,'April':4,'May':5,'Jun':6,'June':6,\n",
    "     'Jul':7,'July':7,'Aug':8,'August':8,'Sep':9,'September':9,'Oct':10,'October':10,'Nov':11,'November':11,'Dec':12,'December':12,'Decemeber':12}\n",
    "    for i in df.index:\n",
    "        if df.loc[i,'date_type1']==[]:\n",
    "            if df.loc[i,'date_type2']==[]:\n",
    "                if df.loc[i,'date_type3']==[]:\n",
    "                    df.loc[i,'final_date'] = datetime(int(df.loc[i,'date_type4'][0]),1,1)\n",
    "                else:\n",
    "                    date = df.loc[i,'date_type3'][0].split('/')\n",
    "                    df.loc[i,'final_date'] = datetime(int(date[1]),int(date[0]),1)\n",
    "            else:\n",
    "                date = re.split(r'[,. ]+',df.loc[i,'date_type2'][0])\n",
    "                if date[0].isalpha() and len(date)==3:\n",
    "                    date[0] = p.get(date[0])\n",
    "                    df.loc[i,'final_date'] = datetime(int(date[2]),int(date[0]),int(date[1]))\n",
    "                elif date[0].isalpha() and len(date)==2:\n",
    "                    date[0] = p.get(date[0])\n",
    "                    df.loc[i,'final_date'] = datetime(int(date[1]),int(date[0]),1)\n",
    "                else:\n",
    "                    if len(date)==2:\n",
    "                        date.append(date[0][0])\n",
    "                        date.append(date[0][1:])\n",
    "                        date[0] = p.get(date[3])\n",
    "                        df.loc[i,'final_date'] = datetime(int(date[1]),int(date[0]),int(date[2]))\n",
    "                    else:\n",
    "                        date[1] = p.get(date[1])\n",
    "                        df.loc[i,'final_date'] = datetime(int(date[2]),int(date[1]),int(date[0]))\n",
    "        else:\n",
    "            date = re.split(r'[/-]+',df.loc[i,'date_type1'][0])\n",
    "            if int(date[2])<100:\n",
    "                date[2] = '19' + date[2]\n",
    "                df.loc[i,'final_date'] = datetime(int(date[2]),int(date[0]),int(date[1]))\n",
    "            else:\n",
    "                df.loc[i,'final_date'] = datetime(int(date[2]),int(date[0]),int(date[1]))\n",
    "    #轉換成答案要求的series\n",
    "    ans = pd.Series(list(df.sort_values('final_date').index))\n",
    "    return ans"
   ]
  },
  {
   "cell_type": "code",
   "execution_count": null,
   "metadata": {
    "collapsed": true
   },
   "outputs": [],
   "source": []
  }
 ],
 "metadata": {
  "coursera": {
   "course_slug": "python-text-mining",
   "graded_item_id": "LvcWI",
   "launcher_item_id": "krne9",
   "part_id": "Mkp1I"
  },
  "kernelspec": {
   "display_name": "Python 3",
   "language": "python",
   "name": "python3"
  },
  "language_info": {
   "codemirror_mode": {
    "name": "ipython",
    "version": 3
   },
   "file_extension": ".py",
   "mimetype": "text/x-python",
   "name": "python",
   "nbconvert_exporter": "python",
   "pygments_lexer": "ipython3",
   "version": "3.6.2"
  }
 },
 "nbformat": 4,
 "nbformat_minor": 2
}
