{
 "cells": [
  {
   "cell_type": "markdown",
   "metadata": {},
   "source": [
    "---\n",
    "\n",
    "_You are currently looking at **version 1.1** of this notebook. To download notebooks and datafiles, as well as get help on Jupyter notebooks in the Coursera platform, visit the [Jupyter Notebook FAQ](https://www.coursera.org/learn/python-data-analysis/resources/0dhYG) course resource._\n",
    "\n",
    "---"
   ]
  },
  {
   "cell_type": "code",
   "execution_count": 1,
   "metadata": {
    "collapsed": true
   },
   "outputs": [],
   "source": [
    "import pandas as pd\n",
    "import numpy as np\n",
    "from scipy.stats import ttest_ind"
   ]
  },
  {
   "cell_type": "markdown",
   "metadata": {},
   "source": [
    "# Assignment 4 - Hypothesis Testing\n",
    "This assignment requires more individual learning than previous assignments - you are encouraged to check out the [pandas documentation](http://pandas.pydata.org/pandas-docs/stable/) to find functions or methods you might not have used yet, or ask questions on [Stack Overflow](http://stackoverflow.com/) and tag them as pandas and python related. And of course, the discussion forums are open for interaction with your peers and the course staff.\n",
    "\n",
    "Definitions:\n",
    "* A _quarter_ is a specific three month period, Q1 is January through March, Q2 is April through June, Q3 is July through September, Q4 is October through December.\n",
    "* A _recession_ is defined as starting with two consecutive quarters of GDP decline, and ending with two consecutive quarters of GDP growth.\n",
    "* A _recession bottom_ is the quarter within a recession which had the lowest GDP.\n",
    "* A _university town_ is a city which has a high percentage of university students compared to the total population of the city.\n",
    "\n",
    "**Hypothesis**: University towns have their mean housing prices less effected by recessions. Run a t-test to compare the ratio of the mean price of houses in university towns the quarter before the recession starts compared to the recession bottom. (`price_ratio=quarter_before_recession/recession_bottom`)\n",
    "\n",
    "The following data files are available for this assignment:\n",
    "* From the [Zillow research data site](http://www.zillow.com/research/data/) there is housing data for the United States. In particular the datafile for [all homes at a city level](http://files.zillowstatic.com/research/public/City/City_Zhvi_AllHomes.csv), ```City_Zhvi_AllHomes.csv```, has median home sale prices at a fine grained level.\n",
    "* From the Wikipedia page on college towns is a list of [university towns in the United States](https://en.wikipedia.org/wiki/List_of_college_towns#College_towns_in_the_United_States) which has been copy and pasted into the file ```university_towns.txt```.\n",
    "* From Bureau of Economic Analysis, US Department of Commerce, the [GDP over time](http://www.bea.gov/national/index.htm#gdp) of the United States in current dollars (use the chained value in 2009 dollars), in quarterly intervals, in the file ```gdplev.xls```. For this assignment, only look at GDP data from the first quarter of 2000 onward.\n",
    "\n",
    "Each function in this assignment below is worth 10%, with the exception of ```run_ttest()```, which is worth 50%."
   ]
  },
  {
   "cell_type": "code",
   "execution_count": 2,
   "metadata": {
    "collapsed": true
   },
   "outputs": [],
   "source": [
    "# Use this dictionary to map state names to two letter acronyms\n",
    "states = {'OH': 'Ohio', 'KY': 'Kentucky', 'AS': 'American Samoa', 'NV': 'Nevada', 'WY': 'Wyoming', 'NA': 'National', 'AL': 'Alabama', 'MD': 'Maryland', 'AK': 'Alaska', 'UT': 'Utah', 'OR': 'Oregon', 'MT': 'Montana', 'IL': 'Illinois', 'TN': 'Tennessee', 'DC': 'District of Columbia', 'VT': 'Vermont', 'ID': 'Idaho', 'AR': 'Arkansas', 'ME': 'Maine', 'WA': 'Washington', 'HI': 'Hawaii', 'WI': 'Wisconsin', 'MI': 'Michigan', 'IN': 'Indiana', 'NJ': 'New Jersey', 'AZ': 'Arizona', 'GU': 'Guam', 'MS': 'Mississippi', 'PR': 'Puerto Rico', 'NC': 'North Carolina', 'TX': 'Texas', 'SD': 'South Dakota', 'MP': 'Northern Mariana Islands', 'IA': 'Iowa', 'MO': 'Missouri', 'CT': 'Connecticut', 'WV': 'West Virginia', 'SC': 'South Carolina', 'LA': 'Louisiana', 'KS': 'Kansas', 'NY': 'New York', 'NE': 'Nebraska', 'OK': 'Oklahoma', 'FL': 'Florida', 'CA': 'California', 'CO': 'Colorado', 'PA': 'Pennsylvania', 'DE': 'Delaware', 'NM': 'New Mexico', 'RI': 'Rhode Island', 'MN': 'Minnesota', 'VI': 'Virgin Islands', 'NH': 'New Hampshire', 'MA': 'Massachusetts', 'GA': 'Georgia', 'ND': 'North Dakota', 'VA': 'Virginia'}"
   ]
  },
  {
   "cell_type": "code",
   "execution_count": 49,
   "metadata": {
    "collapsed": true,
    "umich_part_id": "021",
    "umich_partlist_id": "004"
   },
   "outputs": [],
   "source": [
    "def get_list_of_university_towns():\n",
    "    '''Returns a DataFrame of towns and the states they are in from the \n",
    "    university_towns.txt list. The format of the DataFrame should be:\n",
    "    DataFrame( [ [\"Michigan\", \"Ann Arbor\"], [\"Michigan\", \"Yipsilanti\"] ], \n",
    "    columns=[\"State\", \"RegionName\"]  )\n",
    "    \n",
    "    The following cleaning needs to be done:\n",
    "\n",
    "    1. For \"State\", removing characters from \"[\" to the end.\n",
    "    2. For \"RegionName\", when applicable, removing every character from \" (\" to the end.\n",
    "    3. Depending on how you read the data, you may need to remove newline character '\\n'. '''\n",
    "    university_towns = pd.read_table(\"university_towns.txt\",header=None).rename(columns={0:'RegionName'})\n",
    "    university_towns['State']=0\n",
    "    university_towns = university_towns[['State','RegionName']]\n",
    "    for index,row in university_towns.iterrows():\n",
    "        if \"[edit]\" in row['RegionName']:\n",
    "            state_name = row['RegionName'].split('[')[0]\n",
    "            university_towns.loc[index,'State'] = state_name\n",
    "            university_towns.loc[index,'RegionName'] = row['RegionName'].split('[')[0]\n",
    "        else:\n",
    "            university_towns.loc[index,'State'] = state_name\n",
    "            university_towns.loc[index,'RegionName'] = row['RegionName'].split(' (')[0]\n",
    "    university_towns = university_towns[(university_towns['State']!=university_towns['RegionName'])].reset_index(drop=True)\n",
    "    return university_towns"
   ]
  },
  {
   "cell_type": "code",
   "execution_count": 60,
   "metadata": {
    "umich_part_id": "022",
    "umich_partlist_id": "004"
   },
   "outputs": [
    {
     "data": {
      "text/plain": [
       "'2008q3'"
      ]
     },
     "execution_count": 60,
     "metadata": {},
     "output_type": "execute_result"
    }
   ],
   "source": [
    "def get_recession_start():\n",
    "    '''Returns the year and quarter of the recession start time as a \n",
    "    string value in a format such as 2005q3'''\n",
    "    gdp = pd.read_excel('gdplev.xls',skiprows=7)\n",
    "    gdp.drop(['Unnamed: 0', 'Unnamed: 1','Unnamed: 2','Unnamed: 3','Unnamed: 5','Unnamed: 7'], axis=1,inplace=True)\n",
    "    gdp.rename(columns={'Unnamed: 4':'time','Unnamed: 6':'GDP'}, inplace=True)\n",
    "    gdp.drop(gdp.head(216).index,axis=0,inplace=True)\n",
    "    gdp['recession1'] = gdp['GDP'].diff(1).shift(-1)\n",
    "    gdp['recession2'] = gdp['recession1'].shift(-1)\n",
    "    gdp['end_recession1'] = gdp['GDP'].diff(-1).shift(1)\n",
    "    gdp['end_recession2'] = gdp['end_recession1'].shift(1)\n",
    "    recession_start_data = gdp[(gdp['recession1']<0) & (gdp['recession2']<0) & (gdp['end_recession1']>0)]\n",
    "    recession_start_data['data_num'] = recession_start_data.index\n",
    "    recession_start_data['data_num_delta'] = recession_start_data['data_num'].diff(1)\n",
    "    recession_start_data['if_near'] = recession_start_data['data_num_delta'].map(lambda x:1 if x<=2 else 0)\n",
    "    return recession_start_data[recession_start_data['if_near']==0]['time'].tolist()[0]"
   ]
  },
  {
   "cell_type": "code",
   "execution_count": 62,
   "metadata": {
    "collapsed": true,
    "umich_part_id": "023",
    "umich_partlist_id": "004"
   },
   "outputs": [],
   "source": [
    "def get_recession_end():\n",
    "    '''Returns the year and quarter of the recession end time as a \n",
    "    string value in a format such as 2005q3'''\n",
    "    gdp = pd.read_excel('gdplev.xls',skiprows=7)\n",
    "    gdp.drop(['Unnamed: 0', 'Unnamed: 1','Unnamed: 2','Unnamed: 3','Unnamed: 5','Unnamed: 7'], axis=1,inplace=True)\n",
    "    gdp.rename(columns={'Unnamed: 4':'time','Unnamed: 6':'GDP'}, inplace=True)\n",
    "    gdp.drop(gdp.head(216).index,axis=0,inplace=True)\n",
    "    gdp['recession1'] = gdp['GDP'].diff(1).shift(-1)\n",
    "    gdp['recession2'] = gdp['recession1'].shift(-1)\n",
    "    recession_start_data = gdp[(gdp['recession1']<0) & (gdp['recession2']<0)]\n",
    "    recession_start_data['data_num'] = recession_start_data.index\n",
    "    recession_start_data['data_num_delta'] = recession_start_data['data_num'].diff(1)\n",
    "    recession_start_data['if_near'] = recession_start_data['data_num_delta'].map(lambda x:1 if x<=2 else 0)\n",
    "    recession_start_data['if_start'] = 1\n",
    "    recession_start_data = recession_start_data[recession_start_data['if_near']==0]\n",
    "    gdp['end_recession1'] = gdp['GDP'].diff(-1).shift(1)\n",
    "    gdp['end_recession2'] = gdp['end_recession1'].shift(1)\n",
    "    recession_end_data = gdp[(gdp['end_recession1']<0) & (gdp['end_recession2']<0)]\n",
    "    recession_end_data['data_num'] = recession_end_data.index\n",
    "    recession_end_data['data_num_delta'] = recession_end_data['data_num'].diff(1)\n",
    "    recession_end_data['if_near'] = recession_end_data['data_num_delta'].map(lambda x:1 if x<=2 else 0)\n",
    "    recession_end_data['if_start'] = 0    \n",
    "    recession_end_data = recession_end_data[recession_end_data['if_near']==0]\n",
    "    recession = pd.concat([recession_start_data,recession_end_data]).sort_index()\n",
    "    recession['recession_foward'] = recession['if_start'].diff(1).shift(-1)\n",
    "    recession['recession_backward'] = recession['if_start'].diff(-1).shift(1)\n",
    "    return recession[recession['recession_backward']==1]['time'].tolist()[0]"
   ]
  },
  {
   "cell_type": "code",
   "execution_count": 6,
   "metadata": {
    "collapsed": true,
    "umich_part_id": "024",
    "umich_partlist_id": "004"
   },
   "outputs": [],
   "source": [
    "def get_recession_bottom():\n",
    "    '''Returns the year and quarter of the recession bottom time as a \n",
    "    string value in a format such as 2005q3'''\n",
    "    gdp = pd.read_excel('gdplev.xls',skiprows=7)\n",
    "    gdp.drop(['Unnamed: 0', 'Unnamed: 1','Unnamed: 2','Unnamed: 3','Unnamed: 5','Unnamed: 7'], axis=1,inplace=True)\n",
    "    gdp.rename(columns={'Unnamed: 4':'time','Unnamed: 6':'GDP'}, inplace=True)\n",
    "    gdp.drop(gdp.head(216).index,axis=0,inplace=True)\n",
    "    gdp = gdp.set_index('time')\n",
    "    recession_start = get_recession_start()\n",
    "    recession_end = get_recession_end()\n",
    "    recession_period = gdp.loc[recession_start:recession_end]\n",
    "    return recession_period['GDP'].argmin()"
   ]
  },
  {
   "cell_type": "code",
   "execution_count": 48,
   "metadata": {
    "collapsed": true,
    "umich_part_id": "025",
    "umich_partlist_id": "004"
   },
   "outputs": [],
   "source": [
    "def convert_housing_data_to_quarters():\n",
    "    '''Converts the housing data to quarters and returns it as mean \n",
    "    values in a dataframe. This dataframe should be a dataframe with\n",
    "    columns for 2000q1 through 2016q3, and should have a multi-index\n",
    "    in the shape of [\"State\",\"RegionName\"].\n",
    "    \n",
    "    Note: Quarters are defined in the assignment description, they are\n",
    "    not arbitrary three month periods.\n",
    "    \n",
    "    The resulting dataframe should have 67 columns, and 10,730 rows.\n",
    "    '''\n",
    "    import datetime as dt\n",
    "    price = pd.read_csv('City_Zhvi_AllHomes.csv')\n",
    "    price.replace({'State':states}, inplace = True)\n",
    "    price = price.set_index(['State','RegionName'])\n",
    "    dates = pd.DataFrame(index=pd.date_range('01-2000', '09-2016', freq='M'))\n",
    "    dates_list = dates.index.to_series().apply(lambda x: dt.datetime.strftime(x,'%Y-%m')).tolist()\n",
    "    price = price[dates_list]\n",
    "    price = price.groupby(pd.PeriodIndex(price.columns, freq='Q'),axis=1).mean().rename(columns=lambda c: str(c).lower())    \n",
    "    return price"
   ]
  },
  {
   "cell_type": "code",
   "execution_count": 66,
   "metadata": {
    "collapsed": true,
    "umich_part_id": "026",
    "umich_partlist_id": "004"
   },
   "outputs": [],
   "source": [
    "def run_ttest():\n",
    "    '''First creates new data showing the decline or growth of housing prices\n",
    "    between the recession start and the recession bottom. Then runs a ttest\n",
    "    comparing the university town values to the non-university towns values, \n",
    "    return whether the alternative hypothesis (that the two groups are the same)\n",
    "    is true or not as well as the p-value of the confidence. \n",
    "    \n",
    "    Return the tuple (different, p, better) where different=True if the t-test is\n",
    "    True at a p<0.01 (we reject the null hypothesis), or different=False if \n",
    "    otherwise (we cannot reject the null hypothesis). The variable p should\n",
    "    be equal to the exact p value returned from scipy.stats.ttest_ind(). The\n",
    "    value for better should be either \"university town\" or \"non-university town\"\n",
    "    depending on which has a lower mean price ratio (which is equivilent to a\n",
    "    reduced market loss).'''\n",
    "    price = convert_housing_data_to_quarters()\n",
    "    if get_recession_start().split('q')[1]=='1':\n",
    "        first = str(int(get_recession_start().split('q')[0])-1)\n",
    "        second = 'q4'\n",
    "        start_year = first + second\n",
    "    elif get_recession_start().split('q')[1]=='2':\n",
    "        first = get_recession_start().split('q')[0]\n",
    "        second = 'q1'\n",
    "        start_year = first + second\n",
    "    elif get_recession_start().split('q')[1]=='3':\n",
    "        first = get_recession_start().split('q')[0]\n",
    "        second = 'q2'\n",
    "        start_year = first + second\n",
    "    else:\n",
    "        first = get_recession_start().split('q')[0]\n",
    "        second = 'q3'\n",
    "        start_year = first + second\n",
    "    bottom = get_recession_bottom()\n",
    "    university_towns = get_list_of_university_towns()\n",
    "    price['ratio'] = price[start_year]/price[bottom]\n",
    "    university_towns = university_towns.set_index(['State','RegionName'])\n",
    "    university_towns_price = pd.merge(price,university_towns,how='right',left_index=True, right_index=True)['ratio']\n",
    "    university_towns_price = university_towns_price.dropna()\n",
    "    not_university_towns = set(price.index) - set(university_towns_price.index)\n",
    "    not_university_towns_price = price.loc[list(not_university_towns)]['ratio'].dropna()\n",
    "    statistic,p_value = tuple(ttest_ind(university_towns_price,not_university_towns_price))\n",
    "    different = p_value<0.01\n",
    "    if statistic<0:\n",
    "        better = 'university town'\n",
    "    else:\n",
    "        better = 'non-university town'\n",
    "    return (different,p_value,better)"
   ]
  },
  {
   "cell_type": "code",
   "execution_count": null,
   "metadata": {
    "collapsed": true
   },
   "outputs": [],
   "source": []
  }
 ],
 "metadata": {
  "coursera": {
   "course_slug": "python-data-analysis",
   "graded_item_id": "Il9Fx",
   "launcher_item_id": "TeDW0",
   "part_id": "WGlun"
  },
  "kernelspec": {
   "display_name": "Python 3",
   "language": "python",
   "name": "python3"
  },
  "language_info": {
   "codemirror_mode": {
    "name": "ipython",
    "version": 3
   },
   "file_extension": ".py",
   "mimetype": "text/x-python",
   "name": "python",
   "nbconvert_exporter": "python",
   "pygments_lexer": "ipython3",
   "version": "3.6.2"
  },
  "umich": {
   "id": "Assignment 4",
   "version": "1.1"
  }
 },
 "nbformat": 4,
 "nbformat_minor": 1
}
