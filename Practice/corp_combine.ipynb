{
 "cells": [
  {
   "cell_type": "code",
   "execution_count": 1,
   "metadata": {},
   "outputs": [],
   "source": [
    "import numpy as np\n",
    "import pandas as pd"
   ]
  },
  {
   "cell_type": "code",
   "execution_count": 3,
   "metadata": {},
   "outputs": [],
   "source": [
    "corp_col_dict = {\"corp_id\": str, \"corp_name\": str, \"website\": str}\n",
    "corp = pd.read_excel('C:/Users/user/Downloads/corp_website_done.xlsx', dtype=corp_col_dict)"
   ]
  },
  {
   "cell_type": "code",
   "execution_count": 5,
   "metadata": {},
   "outputs": [],
   "source": [
    "jumbo_corp_dict = {\"公司代號\": str, \"公司名稱\": str, \"外國企業註冊地國\": str, \"住址\": str, \"營利事業統一編號\": str, \"網址\": str}\n",
    "jumbo_corp = pd.read_csv('C:/Users/user/Downloads/t187ap03_L.csv', dtype=jumbo_corp_dict)\n",
    "big_corp_dict = {\"公司代號\": str, \"公司名稱\": str, \"外國企業註冊地國\": str, \"住址\": str, \"營利事業統一編號\": str, \"網址\": str}\n",
    "big_corp = pd.read_csv('C:/Users/user/Downloads/t187ap03_O.csv', dtype=big_corp_dict)"
   ]
  },
  {
   "cell_type": "code",
   "execution_count": 7,
   "metadata": {},
   "outputs": [],
   "source": [
    "jumbo_corp['營利事業統一編號'] = jumbo_corp['營利事業統一編號'].map(lambda x:(\"0\"*(8-len(x))+x) if len(x)<8 else x)\n",
    "big_corp['營利事業統一編號'] = big_corp['營利事業統一編號'].map(lambda x:(\"0\"*(8-len(x))+x) if len(x)<8 else x)"
   ]
  },
  {
   "cell_type": "code",
   "execution_count": 19,
   "metadata": {},
   "outputs": [],
   "source": [
    "corp_ref = pd.concat([jumbo_corp,big_corp])"
   ]
  },
  {
   "cell_type": "code",
   "execution_count": 20,
   "metadata": {},
   "outputs": [],
   "source": [
    "final_corp = pd.merge(corp,corp_ref[[\"公司代號\", \"公司名稱\", \"外國企業註冊地國\", \"住址\", \"營利事業統一編號\", \"網址\"]], left_on=\"corp_id\", right_on=\"營利事業統一編號\",how=\"left\")"
   ]
  },
  {
   "cell_type": "code",
   "execution_count": 22,
   "metadata": {},
   "outputs": [],
   "source": [
    "final_corp.to_excel('C:/Users/user/Downloads/corp_website_final.xlsx',index=False)"
   ]
  },
  {
   "cell_type": "code",
   "execution_count": 25,
   "metadata": {},
   "outputs": [
    {
     "data": {
      "text/plain": [
       "[90,\n",
       " 108,\n",
       " 140,\n",
       " 184,\n",
       " 226,\n",
       " 577,\n",
       " 657,\n",
       " 726,\n",
       " 761,\n",
       " 1002,\n",
       " 1137,\n",
       " 1144,\n",
       " 1157,\n",
       " 1179,\n",
       " 1259,\n",
       " 1367,\n",
       " 1418,\n",
       " 1520,\n",
       " 1789,\n",
       " 1832]"
      ]
     },
     "execution_count": 25,
     "metadata": {},
     "output_type": "execute_result"
    }
   ],
   "source": [
    "sorted(list(np.random.choice(2000,20,replace=False)))"
   ]
  }
 ],
 "metadata": {
  "kernelspec": {
   "display_name": "Python 3.7.11",
   "language": "python",
   "name": "python3"
  },
  "language_info": {
   "codemirror_mode": {
    "name": "ipython",
    "version": 3
   },
   "file_extension": ".py",
   "mimetype": "text/x-python",
   "name": "python",
   "nbconvert_exporter": "python",
   "pygments_lexer": "ipython3",
   "version": "3.7.11"
  },
  "orig_nbformat": 4,
  "vscode": {
   "interpreter": {
    "hash": "8ff56f40573db3d12d7a42873a727db0057b53b940618814c8caf34798970a91"
   }
  }
 },
 "nbformat": 4,
 "nbformat_minor": 2
}
