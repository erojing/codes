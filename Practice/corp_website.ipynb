{
 "cells": [
  {
   "cell_type": "code",
   "execution_count": 3,
   "metadata": {},
   "outputs": [],
   "source": [
    "import requests\n",
    "from bs4 import BeautifulSoup\n",
    "import numpy as np\n",
    "import pandas as pd\n",
    "import os\n",
    "import time\n",
    "import datetime\n",
    "import re\n",
    "import warnings\n",
    "warnings.filterwarnings('ignore')\n",
    "from selenium import webdriver\n",
    "from selenium.webdriver.chrome.options import Options\n",
    "from selenium.webdriver.support.ui import Select\n",
    "import time"
   ]
  },
  {
   "cell_type": "code",
   "execution_count": 116,
   "metadata": {},
   "outputs": [],
   "source": [
    "col_dict = {\"corp_id\": str, \"corp_name\": str, \"website\": str}\n",
    "corp = pd.read_excel('corp_website.xlsx', dtype=col_dict)"
   ]
  },
  {
   "cell_type": "code",
   "execution_count": 117,
   "metadata": {},
   "outputs": [],
   "source": [
    "corp_id_list = list(corp[\"corp_id\"])"
   ]
  },
  {
   "cell_type": "code",
   "execution_count": 118,
   "metadata": {},
   "outputs": [
    {
     "data": {
      "text/html": [
       "<div>\n",
       "<style scoped>\n",
       "    .dataframe tbody tr th:only-of-type {\n",
       "        vertical-align: middle;\n",
       "    }\n",
       "\n",
       "    .dataframe tbody tr th {\n",
       "        vertical-align: top;\n",
       "    }\n",
       "\n",
       "    .dataframe thead th {\n",
       "        text-align: right;\n",
       "    }\n",
       "</style>\n",
       "<table border=\"1\" class=\"dataframe\">\n",
       "  <thead>\n",
       "    <tr style=\"text-align: right;\">\n",
       "      <th></th>\n",
       "      <th>corp_id</th>\n",
       "      <th>corp_name</th>\n",
       "      <th>corp_name_web</th>\n",
       "      <th>corp_name_web_eng</th>\n",
       "      <th>website</th>\n",
       "      <th>check</th>\n",
       "    </tr>\n",
       "  </thead>\n",
       "  <tbody>\n",
       "    <tr>\n",
       "      <th>0</th>\n",
       "      <td>22099131</td>\n",
       "      <td>台灣積體電路製造股份有限公司</td>\n",
       "      <td>NaN</td>\n",
       "      <td>NaN</td>\n",
       "      <td>NaN</td>\n",
       "      <td>NaN</td>\n",
       "    </tr>\n",
       "    <tr>\n",
       "      <th>1</th>\n",
       "      <td>01615407</td>\n",
       "      <td>全翔食品行</td>\n",
       "      <td>NaN</td>\n",
       "      <td>NaN</td>\n",
       "      <td>NaN</td>\n",
       "      <td>NaN</td>\n",
       "    </tr>\n",
       "    <tr>\n",
       "      <th>2</th>\n",
       "      <td>7788</td>\n",
       "      <td>NaN</td>\n",
       "      <td>NaN</td>\n",
       "      <td>NaN</td>\n",
       "      <td>NaN</td>\n",
       "      <td>NaN</td>\n",
       "    </tr>\n",
       "    <tr>\n",
       "      <th>3</th>\n",
       "      <td>12336458</td>\n",
       "      <td>NaN</td>\n",
       "      <td>NaN</td>\n",
       "      <td>NaN</td>\n",
       "      <td>NaN</td>\n",
       "      <td>NaN</td>\n",
       "    </tr>\n",
       "    <tr>\n",
       "      <th>4</th>\n",
       "      <td>8046542</td>\n",
       "      <td>NaN</td>\n",
       "      <td>NaN</td>\n",
       "      <td>NaN</td>\n",
       "      <td>NaN</td>\n",
       "      <td>NaN</td>\n",
       "    </tr>\n",
       "    <tr>\n",
       "      <th>5</th>\n",
       "      <td>84149961</td>\n",
       "      <td>NaN</td>\n",
       "      <td>NaN</td>\n",
       "      <td>NaN</td>\n",
       "      <td>NaN</td>\n",
       "      <td>NaN</td>\n",
       "    </tr>\n",
       "  </tbody>\n",
       "</table>\n",
       "</div>"
      ],
      "text/plain": [
       "    corp_id       corp_name  corp_name_web  corp_name_web_eng website  check\n",
       "0  22099131  台灣積體電路製造股份有限公司            NaN                NaN     NaN    NaN\n",
       "1  01615407           全翔食品行            NaN                NaN     NaN    NaN\n",
       "2      7788             NaN            NaN                NaN     NaN    NaN\n",
       "3  12336458             NaN            NaN                NaN     NaN    NaN\n",
       "4   8046542             NaN            NaN                NaN     NaN    NaN\n",
       "5  84149961             NaN            NaN                NaN     NaN    NaN"
      ]
     },
     "execution_count": 118,
     "metadata": {},
     "output_type": "execute_result"
    }
   ],
   "source": [
    "corp"
   ]
  },
  {
   "cell_type": "code",
   "execution_count": 119,
   "metadata": {},
   "outputs": [
    {
     "data": {
      "text/plain": [
       "['22099131', '01615407', '7788', '12336458', '8046542', '84149961']"
      ]
     },
     "execution_count": 119,
     "metadata": {},
     "output_type": "execute_result"
    }
   ],
   "source": [
    "corp_id_list"
   ]
  },
  {
   "cell_type": "code",
   "execution_count": 100,
   "metadata": {},
   "outputs": [],
   "source": [
    "#selenium settings\n",
    "options = Options()\n",
    "options.add_argument(\"--disable-gpu\");\n",
    "chrome = webdriver.Chrome('./chromedriver',options=options)\n",
    "#設定等待時間\n",
    "chrome.implicitly_wait(5)\n",
    "chrome.set_page_load_timeout(30)"
   ]
  },
  {
   "cell_type": "code",
   "execution_count": 120,
   "metadata": {},
   "outputs": [],
   "source": [
    "#loop\n",
    "for id in corp_id_list:\n",
    "    chrome.get(\"https://www.twincn.com/item.aspx?no=\"+str(id))\n",
    "    try:\n",
    "        table_tr_list = chrome.find_element(\"class name\", \"table-responsive\").find_elements(\"tag name\", \"tr\")\n",
    "        table_list = []\n",
    "        for tr in table_tr_list:\n",
    "            #將每一個tr的資料根據td查詢出來，返回結果為list物件\n",
    "            table_td_list = tr.find_elements(\"tag name\", \"td\")\n",
    "            row_list = []\n",
    "            for td in table_td_list:    #遍歷每一個td\n",
    "                row_list.append(td.text)    #取出表格的資料，並放入行列表裡\n",
    "            table_list.append(row_list)\n",
    "        for i in table_list:\n",
    "            if i[0]=='網址':\n",
    "                corp.loc[corp[\"corp_id\"]==id,\"website\"] = i[1]\n",
    "            elif i[0]=='公司名稱':\n",
    "                corp.loc[corp[\"corp_id\"]==id,\"corp_name_web\"] = i[1]\n",
    "            elif i[0]=='英文名稱':\n",
    "                corp.loc[corp[\"corp_id\"]==id,\"corp_name_web_eng\"] = i[1]      \n",
    "            corp.loc[corp[\"corp_id\"]==id,\"check\"] = \"Y\"\n",
    "    except:\n",
    "        corp.loc[corp[\"corp_id\"]==id,\"check\"] = \"N\""
   ]
  },
  {
   "cell_type": "code",
   "execution_count": 121,
   "metadata": {},
   "outputs": [
    {
     "data": {
      "text/html": [
       "<div>\n",
       "<style scoped>\n",
       "    .dataframe tbody tr th:only-of-type {\n",
       "        vertical-align: middle;\n",
       "    }\n",
       "\n",
       "    .dataframe tbody tr th {\n",
       "        vertical-align: top;\n",
       "    }\n",
       "\n",
       "    .dataframe thead th {\n",
       "        text-align: right;\n",
       "    }\n",
       "</style>\n",
       "<table border=\"1\" class=\"dataframe\">\n",
       "  <thead>\n",
       "    <tr style=\"text-align: right;\">\n",
       "      <th></th>\n",
       "      <th>corp_id</th>\n",
       "      <th>corp_name</th>\n",
       "      <th>corp_name_web</th>\n",
       "      <th>corp_name_web_eng</th>\n",
       "      <th>website</th>\n",
       "      <th>check</th>\n",
       "    </tr>\n",
       "  </thead>\n",
       "  <tbody>\n",
       "    <tr>\n",
       "      <th>0</th>\n",
       "      <td>22099131</td>\n",
       "      <td>台灣積體電路製造股份有限公司</td>\n",
       "      <td>台灣積體電路製造股份有限公司</td>\n",
       "      <td>Taiwan Semiconductor Manufacturing Company Lim...</td>\n",
       "      <td>https://www.tsmc.com</td>\n",
       "      <td>Y</td>\n",
       "    </tr>\n",
       "    <tr>\n",
       "      <th>1</th>\n",
       "      <td>01615407</td>\n",
       "      <td>全翔食品行</td>\n",
       "      <td>全翔食品行</td>\n",
       "      <td>NaN</td>\n",
       "      <td>NaN</td>\n",
       "      <td>Y</td>\n",
       "    </tr>\n",
       "    <tr>\n",
       "      <th>2</th>\n",
       "      <td>7788</td>\n",
       "      <td>NaN</td>\n",
       "      <td>NaN</td>\n",
       "      <td>NaN</td>\n",
       "      <td>NaN</td>\n",
       "      <td>N</td>\n",
       "    </tr>\n",
       "    <tr>\n",
       "      <th>3</th>\n",
       "      <td>12336458</td>\n",
       "      <td>NaN</td>\n",
       "      <td>NaN</td>\n",
       "      <td>NaN</td>\n",
       "      <td>NaN</td>\n",
       "      <td>N</td>\n",
       "    </tr>\n",
       "    <tr>\n",
       "      <th>4</th>\n",
       "      <td>8046542</td>\n",
       "      <td>NaN</td>\n",
       "      <td>NaN</td>\n",
       "      <td>NaN</td>\n",
       "      <td>NaN</td>\n",
       "      <td>N</td>\n",
       "    </tr>\n",
       "    <tr>\n",
       "      <th>5</th>\n",
       "      <td>84149961</td>\n",
       "      <td>NaN</td>\n",
       "      <td>聯發科技股份有限公司</td>\n",
       "      <td>MEDIATEK INC.</td>\n",
       "      <td>http://www.mediatek.com</td>\n",
       "      <td>Y</td>\n",
       "    </tr>\n",
       "  </tbody>\n",
       "</table>\n",
       "</div>"
      ],
      "text/plain": [
       "    corp_id       corp_name   corp_name_web  \\\n",
       "0  22099131  台灣積體電路製造股份有限公司  台灣積體電路製造股份有限公司   \n",
       "1  01615407           全翔食品行           全翔食品行   \n",
       "2      7788             NaN             NaN   \n",
       "3  12336458             NaN             NaN   \n",
       "4   8046542             NaN             NaN   \n",
       "5  84149961             NaN      聯發科技股份有限公司   \n",
       "\n",
       "                                   corp_name_web_eng                  website  \\\n",
       "0  Taiwan Semiconductor Manufacturing Company Lim...     https://www.tsmc.com   \n",
       "1                                                NaN                      NaN   \n",
       "2                                                NaN                      NaN   \n",
       "3                                                NaN                      NaN   \n",
       "4                                                NaN                      NaN   \n",
       "5                                      MEDIATEK INC.  http://www.mediatek.com   \n",
       "\n",
       "  check  \n",
       "0     Y  \n",
       "1     Y  \n",
       "2     N  \n",
       "3     N  \n",
       "4     N  \n",
       "5     Y  "
      ]
     },
     "execution_count": 121,
     "metadata": {},
     "output_type": "execute_result"
    }
   ],
   "source": [
    "corp"
   ]
  },
  {
   "cell_type": "code",
   "execution_count": 122,
   "metadata": {},
   "outputs": [],
   "source": [
    "corp.to_excel('corp_website_done.xlsx',index=False)"
   ]
  }
 ],
 "metadata": {
  "kernelspec": {
   "display_name": "Python 3.7.11 ('pytorch')",
   "language": "python",
   "name": "python3"
  },
  "language_info": {
   "codemirror_mode": {
    "name": "ipython",
    "version": 3
   },
   "file_extension": ".py",
   "mimetype": "text/x-python",
   "name": "python",
   "nbconvert_exporter": "python",
   "pygments_lexer": "ipython3",
   "version": "3.7.11"
  },
  "orig_nbformat": 4,
  "vscode": {
   "interpreter": {
    "hash": "0747f93ff6db21b2db2bf35ad4858dd0825b9c21797c41b4cc32097944ab3f10"
   }
  }
 },
 "nbformat": 4,
 "nbformat_minor": 2
}
