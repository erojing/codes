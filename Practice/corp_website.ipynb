{
 "cells": [
  {
   "cell_type": "code",
   "execution_count": 1,
   "metadata": {},
   "outputs": [],
   "source": [
    "import requests\n",
    "import numpy as np\n",
    "import pandas as pd\n",
    "import os\n",
    "import time\n",
    "import datetime\n",
    "import re\n",
    "import warnings\n",
    "warnings.filterwarnings('ignore')\n",
    "from selenium import webdriver\n",
    "from selenium.webdriver.chrome.options import Options\n",
    "from selenium.webdriver.support.ui import Select\n",
    "import time\n",
    "import numpy as np"
   ]
  },
  {
   "cell_type": "code",
   "execution_count": 2,
   "metadata": {},
   "outputs": [],
   "source": [
    "col_dict = {\"corp_id\": str, \"corp_name\": str, \"website\": str}\n",
    "corp = pd.read_excel('C:/Users/user/Downloads/corp_website_done.xlsx', dtype=col_dict)"
   ]
  },
  {
   "cell_type": "code",
   "execution_count": 3,
   "metadata": {},
   "outputs": [],
   "source": [
    "corp['corp_id'] = corp['corp_id'].map(lambda x:(\"0\"*(8-len(x))+x) if len(x)<8 else x)"
   ]
  },
  {
   "cell_type": "code",
   "execution_count": 4,
   "metadata": {},
   "outputs": [],
   "source": [
    "corp_id_list_total = list(corp[\"corp_id\"])"
   ]
  },
  {
   "cell_type": "code",
   "execution_count": 13,
   "metadata": {},
   "outputs": [],
   "source": [
    "#selenium settings\n",
    "options = Options()\n",
    "options.add_argument(\"--disable-gpu\");\n",
    "chrome = webdriver.Chrome('./chromedriver',options=options)\n",
    "#設定等待時間\n",
    "chrome.implicitly_wait(5)\n",
    "chrome.set_page_load_timeout(15)"
   ]
  },
  {
   "cell_type": "code",
   "execution_count": 16,
   "metadata": {},
   "outputs": [],
   "source": [
    "#一次500筆避免觸發反爬蟲(可能是依單一IP總筆數觸發?)\n",
    "corp_id_list = corp_id_list_total[11000:11500]"
   ]
  },
  {
   "cell_type": "code",
   "execution_count": 17,
   "metadata": {},
   "outputs": [
    {
     "data": {
      "text/plain": [
       "['81395361', '82796809', '82778350', '81193652', '82797820']"
      ]
     },
     "execution_count": 17,
     "metadata": {},
     "output_type": "execute_result"
    }
   ],
   "source": [
    "corp_id_list[:5]"
   ]
  },
  {
   "cell_type": "code",
   "execution_count": 18,
   "metadata": {},
   "outputs": [
    {
     "name": "stdout",
     "output_type": "stream",
     "text": [
      "已完成50筆\n",
      "已完成100筆\n",
      "已完成150筆\n",
      "已完成200筆\n",
      "已完成250筆\n",
      "已完成300筆\n",
      "已完成350筆\n",
      "已完成400筆\n",
      "已完成450筆\n",
      "已完成500筆\n"
     ]
    }
   ],
   "source": [
    "#loop\n",
    "counter=1\n",
    "for id in corp_id_list:\n",
    "    try:\n",
    "        chrome.get(\"https://www.twincn.com/item.aspx?no=\"+str(id))\n",
    "        try:\n",
    "            table_tr_list = chrome.find_element(\"class name\", \"table-responsive\").find_elements(\"tag name\", \"tr\")\n",
    "            table_list = []\n",
    "            for tr in table_tr_list:\n",
    "                #將每一個tr的資料根據td查詢出來，返回結果為list物件\n",
    "                table_td_list = tr.find_elements(\"tag name\", \"td\")\n",
    "                row_list = []\n",
    "                for td in table_td_list:    #遍歷每一個td\n",
    "                    row_list.append(td.text)    #取出表格的資料，並放入行列表裡\n",
    "                table_list.append(row_list)\n",
    "            for i in table_list:\n",
    "                if i[0]=='網址':\n",
    "                    corp.loc[corp[\"corp_id\"]==id,\"website\"] = i[1]\n",
    "                elif i[0]=='公司名稱':\n",
    "                    corp.loc[corp[\"corp_id\"]==id,\"corp_name_web\"] = i[1]\n",
    "                elif i[0]=='商業名稱':\n",
    "                    corp.loc[corp[\"corp_id\"]==id,\"comm_name\"] = i[1] \n",
    "                elif i[0]=='分公司名稱':\n",
    "                    corp.loc[corp[\"corp_id\"]==id,\"branch_name\"] = i[1]                \n",
    "                elif i[0]=='英文名稱':\n",
    "                    corp.loc[corp[\"corp_id\"]==id,\"corp_name_web_eng\"] = i[1]      \n",
    "                corp.loc[corp[\"corp_id\"]==id,\"check\"] = \"Y\"\n",
    "        except:\n",
    "            try:\n",
    "                check_in_homepage = chrome.find_element(\"id\", \"search-btn\")\n",
    "                corp.loc[corp[\"corp_id\"]==id,\"check\"] = \"N\"\n",
    "            except:\n",
    "                corp.loc[corp[\"corp_id\"]==id,\"time_out\"] = \"Y\"\n",
    "                print(\"觸發反爬蟲,目前資料處理至第{}筆,corp_id為{}\".format(corp_id_list_total.index(id),id))\n",
    "                break\n",
    "        rand_time = np.random.randint(5)\n",
    "        time.sleep(rand_time)  #強制等待\n",
    "        counter = counter+1\n",
    "        if counter%50==0:\n",
    "            print(\"已完成{}筆\".format(counter))\n",
    "            corp.to_excel('C:/Users/user/Downloads/corp_website_done.xlsx',index=False)\n",
    "    except:\n",
    "        corp.loc[corp[\"corp_id\"]==id,\"time_out\"] = \"Y\""
   ]
  },
  {
   "cell_type": "code",
   "execution_count": 19,
   "metadata": {},
   "outputs": [],
   "source": [
    "corp.to_excel('C:/Users/user/Downloads/corp_website_done.xlsx',index=False)"
   ]
  }
 ],
 "metadata": {
  "kernelspec": {
   "display_name": "Python 3.7.11",
   "language": "python",
   "name": "python3"
  },
  "language_info": {
   "codemirror_mode": {
    "name": "ipython",
    "version": 3
   },
   "file_extension": ".py",
   "mimetype": "text/x-python",
   "name": "python",
   "nbconvert_exporter": "python",
   "pygments_lexer": "ipython3",
   "version": "3.7.11"
  },
  "orig_nbformat": 4,
  "vscode": {
   "interpreter": {
    "hash": "8ff56f40573db3d12d7a42873a727db0057b53b940618814c8caf34798970a91"
   }
  }
 },
 "nbformat": 4,
 "nbformat_minor": 2
}
