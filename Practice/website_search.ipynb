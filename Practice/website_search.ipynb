{
 "cells": [
  {
   "cell_type": "code",
   "execution_count": 1,
   "metadata": {},
   "outputs": [],
   "source": [
    "import requests\n",
    "import numpy as np\n",
    "import pandas as pd\n",
    "import os\n",
    "import time\n",
    "import datetime\n",
    "import re\n",
    "import warnings\n",
    "warnings.filterwarnings('ignore')\n",
    "from selenium import webdriver\n",
    "from selenium.webdriver.chrome.options import Options\n",
    "from selenium.webdriver.support.ui import Select\n",
    "import time\n",
    "import numpy as np\n",
    "from selenium.webdriver.common.keys import Keys\n",
    "from bs4 import BeautifulSoup"
   ]
  },
  {
   "cell_type": "code",
   "execution_count": null,
   "metadata": {},
   "outputs": [],
   "source": [
    "#讀取檔案\n",
    "col_dict = {\"corp_id\": str, \"corp_name\": str, \"website\": str}\n",
    "corp = pd.read_excel('C:/Users/user/Downloads/corp_website_done.xlsx', dtype=col_dict)"
   ]
  },
  {
   "cell_type": "code",
   "execution_count": 2,
   "metadata": {},
   "outputs": [],
   "source": [
    "#testing case\n",
    "corp_name = '宜星國際股份有限公司'"
   ]
  },
  {
   "cell_type": "code",
   "execution_count": 5,
   "metadata": {},
   "outputs": [],
   "source": [
    "#selenium settings\n",
    "options = Options()\n",
    "options.add_argument(\"--disable-gpu\");\n",
    "chrome = webdriver.Chrome('./chromedriver',options=options)\n",
    "#設定等待時間\n",
    "chrome.implicitly_wait(5)\n",
    "chrome.set_page_load_timeout(15)"
   ]
  },
  {
   "cell_type": "code",
   "execution_count": null,
   "metadata": {},
   "outputs": [],
   "source": [
    "#輸入搜尋\n",
    "chrome.get('http://www.google.com')\n",
    "search = chrome.find_element(\"name\",\"q\")\n",
    "n_pages = 5\n",
    "search.send_keys(corp_name)\n",
    "search.send_keys(Keys.RETURN)\n",
    "time.sleep(5) # sleep for 5 seconds so you can see the results"
   ]
  },
  {
   "cell_type": "code",
   "execution_count": 15,
   "metadata": {},
   "outputs": [],
   "source": [
    "#過濾網站名單\n",
    "black_list = [\n",
    "    'www.104.com.tw',\n",
    "    'www.1111.com.tw',\n",
    "    'www.taiwanslot.com.tw',\n",
    "    'www.yes123.com.tw',\n",
    "    'www.twincn.com',\n",
    "    'www.findcompany.com.tw',\n",
    "    'alltwcompany.com',\n",
    "    'alltwbiz.com',\n",
    "    'www.twfile.com',\n",
    "    'twcorp.tw',\n",
    "    'twypage.com',\n",
    "    'opengovtw.com',\n",
    "    'gotw101.com',\n",
    "    'twinc.com.tw',\n",
    "    'costring.com',\n",
    "    'teach.datagove.com',\n",
    "    'www.1111tc.com.tw',\n",
    "    'interview.tw',\n",
    "    'datagovtw.com',\n",
    "    'tiponet.tipo.gov.tw',\n",
    "    'www.iyp.com.tw',\n",
    "    'm.iyp.com.tw',\n",
    "    'trade.1111.com.tw',\n",
    "    'ns.com.tw',\n",
    "    'www.518.com.tw',\n",
    "    'salary.tw',\n",
    "    'poi.zhupiter.com'\n",
    "]"
   ]
  },
  {
   "cell_type": "code",
   "execution_count": 94,
   "metadata": {},
   "outputs": [],
   "source": [
    "#擷取搜尋結果頁面\n",
    "names = []\n",
    "links = []\n",
    "soup = BeautifulSoup(chrome.page_source, 'html.parser')\n",
    "search = soup.find_all('div', class_=\"yuRUbf\")\n",
    "for h in search:\n",
    "    names.append(h.h3.text)\n",
    "    links.append(h.a.get('href'))\n",
    "#點擊下一頁\n",
    "chrome.find_element(\"link text\",\"下一頁\").click()"
   ]
  },
  {
   "cell_type": "code",
   "execution_count": 96,
   "metadata": {},
   "outputs": [],
   "source": [
    "#原始5頁所有結果\n",
    "tuple_list = list(zip(names, links))\n",
    "#原始結果附於表格內\n",
    "\n",
    "\n",
    "#過濾網頁\n",
    "for i in list(tuple_list):\n",
    "    if any(substring in i[1] for substring in black_list):\n",
    "        tuple_list.remove(i)\n",
    "#過濾結果前5\n"
   ]
  },
  {
   "cell_type": "code",
   "execution_count": 103,
   "metadata": {},
   "outputs": [
    {
     "data": {
      "text/plain": [
       "[('宜凱國際有限公司', 'https://kmetija-gorjak.si/747252.html'),\n",
       " ('四星國際股份有限公司', 'https://rosies-thun.ch/271080.html'),\n",
       " ('宜星農產股份有限公司 - 烘焙炊蒸食品',\n",
       "  'https://bake.moreptt.com/tag/%E5%AE%9C%E6%98%9F%E8%BE%B2%E7%94%A2%E8%82%A1%E4%BB%BD%E6%9C%89%E9%99%90%E5%85%AC%E5%8F%B8/'),\n",
       " ('宜星企業有限公司的統編、統一編號: 04324760 - 樂趣地圖',\n",
       "  'https://poi.zhupiter.com/taxid-%E7%B5%B1%E4%B8%80%E7%B7%A8%E8%99%9F-04324760.html'),\n",
       " ('宜鼎國際股份有限公司薪水情報', 'https://salary.tw/c/UPgx'),\n",
       " ('宜記國際股份有限公司- 最新職缺徵才簡介 - 518熊班',\n",
       "  'https://www.518.com.tw/company-Q14KJ8.html')]"
      ]
     },
     "execution_count": 103,
     "metadata": {},
     "output_type": "execute_result"
    }
   ],
   "source": [
    "tuple_list"
   ]
  },
  {
   "cell_type": "code",
   "execution_count": 98,
   "metadata": {},
   "outputs": [],
   "source": []
  },
  {
   "cell_type": "code",
   "execution_count": null,
   "metadata": {},
   "outputs": [],
   "source": []
  }
 ],
 "metadata": {
  "kernelspec": {
   "display_name": "Python 3.7.11 ('pytorch')",
   "language": "python",
   "name": "python3"
  },
  "language_info": {
   "codemirror_mode": {
    "name": "ipython",
    "version": 3
   },
   "file_extension": ".py",
   "mimetype": "text/x-python",
   "name": "python",
   "nbconvert_exporter": "python",
   "pygments_lexer": "ipython3",
   "version": "3.7.11"
  },
  "orig_nbformat": 4,
  "vscode": {
   "interpreter": {
    "hash": "0747f93ff6db21b2db2bf35ad4858dd0825b9c21797c41b4cc32097944ab3f10"
   }
  }
 },
 "nbformat": 4,
 "nbformat_minor": 2
}
