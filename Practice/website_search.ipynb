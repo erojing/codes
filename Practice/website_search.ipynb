{
 "cells": [
  {
   "cell_type": "code",
   "execution_count": 1,
   "metadata": {},
   "outputs": [],
   "source": [
    "import requests\n",
    "import numpy as np\n",
    "import pandas as pd\n",
    "import os\n",
    "import time\n",
    "import datetime\n",
    "import re\n",
    "import warnings\n",
    "warnings.filterwarnings('ignore')\n",
    "from selenium import webdriver\n",
    "from selenium.webdriver.chrome.options import Options\n",
    "from selenium.webdriver.support.ui import Select\n",
    "import time\n",
    "import numpy as np\n",
    "from selenium.webdriver.common.keys import Keys\n",
    "from bs4 import BeautifulSoup\n",
    "from selenium.webdriver import ActionChains\n",
    "from selenium.webdriver.common.by import By\n",
    "from selenium.webdriver.support import expected_conditions as ec\n",
    "from selenium.webdriver.support.ui import WebDriverWait"
   ]
  },
  {
   "cell_type": "code",
   "execution_count": 41,
   "metadata": {},
   "outputs": [],
   "source": [
    "#讀取檔案\n",
    "col_dict = {\"統編\": str, \"名稱\": str, \"備註\": str}\n",
    "corp_file = pd.read_excel('C:/Users/user/Downloads/corp_web_search.xlsx', dtype=col_dict)\n",
    "#testing case\n",
    "corp_name_total = list(corp_file['名稱'])"
   ]
  },
  {
   "cell_type": "code",
   "execution_count": 42,
   "metadata": {},
   "outputs": [],
   "source": [
    "#過濾網站名單\n",
    "black_list = [\n",
    "    'www.104.com.tw',\n",
    "    'www.1111.com.tw',\n",
    "    'www.taiwanslot.com.tw',\n",
    "    'www.yes123.com.tw',\n",
    "    'www.twincn.com',\n",
    "    'www.findcompany.com.tw',\n",
    "    'alltwcompany.com',\n",
    "    'alltwbiz.com',\n",
    "    'www.twfile.com',\n",
    "    'twcorp.tw',\n",
    "    'twypage.com',\n",
    "    'opengovtw.com',\n",
    "    'gotw101.com',\n",
    "    'twinc.com.tw',\n",
    "    'costring.com',\n",
    "    'teach.datagove.com',\n",
    "    'www.1111tc.com.tw',\n",
    "    'interview.tw',\n",
    "    'datagovtw.com',\n",
    "    'tiponet.tipo.gov.tw',\n",
    "    'www.iyp.com.tw',\n",
    "    'm.iyp.com.tw',\n",
    "    'trade.1111.com.tw',\n",
    "    'ns.com.tw',\n",
    "    'www.518.com.tw',\n",
    "    'salary.tw',\n",
    "    'poi.zhupiter.com',\n",
    "    'web66.com.tw',\n",
    "    'www.tmbia.org.tw',\n",
    "    'mo.com.tw',\n",
    "    'smb.nss.com.tw',\n",
    "    'www.taiwanbuying.com.tw',\n",
    "    'abiz.tw',\n",
    "    'aibee.com.tw',\n",
    "    'www.companys.com.tw',\n",
    "    '121.com.tw',\n",
    "    'tw.stock.yahoo.com',\n",
    "    'hragency.imobile01.com',\n",
    "    'abiz.tw',\n",
    "    'tw.datagove.com',\n",
    "    'company.5432.tw',\n",
    "    'fda188.datagove.com',\n",
    "    'data.zhupiter.com',\n",
    "    'mo.com.tw',\n",
    "    'hc.store.tnn.tw',\n",
    "    '121.com.tw',\n",
    "    'findcorp.tw',\n",
    "    'tw.bizpo.net',\n",
    "    'opendatatw.com',\n",
    "    'www.moc.gov.tw',\n",
    "    'notebz.com',\n",
    "    'www.ftc.gov.tw',\n",
    "    'tw66.com.tw',\n",
    "    'find168.com.tw',\n",
    "    'www.arch-world.com.tw',\n",
    "    'tw.indeed.com',\n",
    "    'fda36.datagove.com',\n",
    "    'zh-tw.facebook.com',\n",
    "    'www.facebook.com',\n",
    "    'aibee.tw',\n",
    "    'job.taiwanjobs.gov.tw',\n",
    "    'biz.5168.mx',\n",
    "    'huangyedu.com',\n",
    "    'www.ezsogosi.com',\n",
    "    'tw.ypgo.net',\n",
    "    'www.web393.com',\n",
    "    'fda68.datagove.com',\n",
    "    'www.tuugo.tw',\n",
    "    'data.bznk.com',\n",
    "    'taiwan.datagove.com',\n",
    "    'hotel.imobile01.com',\n",
    "    'smartpark.tw',\n",
    "    'vip.arch-world.com.tw',\n",
    "    'tw.gothejob.com',\n",
    "    'www.bizzword.com',\n",
    "    'ofdays.com',\n",
    "    'twnypage.com'\n",
    "]"
   ]
  },
  {
   "cell_type": "code",
   "execution_count": 95,
   "metadata": {},
   "outputs": [],
   "source": [
    "corp_name = corp_name_total[130:150]"
   ]
  },
  {
   "cell_type": "code",
   "execution_count": 96,
   "metadata": {},
   "outputs": [
    {
     "data": {
      "text/plain": [
       "['薪傳水電企業有限公司',\n",
       " '樂邁行銷有限公司',\n",
       " '永瑞隆國際有限公司',\n",
       " '昌峰企業股份有限公司',\n",
       " '優尼肯股份有限公司',\n",
       " '鼎顓實業有限公司',\n",
       " '肇瑛實業有限公司',\n",
       " '富功自動化有限公司',\n",
       " '聯廷人力資源有限公司',\n",
       " '傑祥漁業股份有限公司',\n",
       " '和春保全股份有限公司',\n",
       " '福苓興業有限公司',\n",
       " '亞太精鍍股份有限公司',\n",
       " '中汰有限公司',\n",
       " '元智管理顧問有限公司',\n",
       " '明欣排氣管有限公司',\n",
       " '喬森精品國際股份有限公司',\n",
       " '松利不\\ue008鋼有限公司',\n",
       " '英展生技有限公司',\n",
       " '永基國際開發股份有限公司']"
      ]
     },
     "execution_count": 96,
     "metadata": {},
     "output_type": "execute_result"
    }
   ],
   "source": [
    "corp_name"
   ]
  },
  {
   "cell_type": "code",
   "execution_count": 21,
   "metadata": {},
   "outputs": [
    {
     "name": "stdout",
     "output_type": "stream",
     "text": [
      "['65.21.141.242:10100', '81.12.44.197:3129', '193.122.71.184:3128', '85.214.124.194:5001', '113.108.148.102:10415', '133.18.197.218:8080', '45.167.126.249:9992', '157.100.12.138:999', '122.155.165.191:3128', '181.225.68.29:999']\n"
     ]
    }
   ],
   "source": [
    "# with open('proxy_list.txt', 'r') as file:\n",
    "#     proxy_ips = file.read().splitlines()\n",
    "#     print(proxy_ips)"
   ]
  },
  {
   "cell_type": "code",
   "execution_count": 91,
   "metadata": {},
   "outputs": [],
   "source": [
    "# proxy_ip = np.random.choice(proxy_ips)\n",
    "#selenium settings\n",
    "chrome_options = webdriver.ChromeOptions()\n",
    "#無痕模式\n",
    "chrome_options.add_argument(\"--incognito\")\n",
    "#將擴充套件放入至Webdriver的開啟網頁內容\n",
    "chrome_options.add_extension('./7.0.10_0.crx')\n",
    "# chrome_options.add_argument('--proxy-server=%s' % proxy_ip)\n",
    "chrome = webdriver.Chrome('./chromedriver',options=chrome_options)\n",
    "#設定等待時間\n",
    "chrome.implicitly_wait(5)\n",
    "chrome.set_page_load_timeout(15)"
   ]
  },
  {
   "cell_type": "code",
   "execution_count": 40,
   "metadata": {},
   "outputs": [],
   "source": [
    "# # i am not robot check\n",
    "# # find iframe\n",
    "# captcha_iframe = WebDriverWait(chrome, 10).until(\n",
    "#     ec.presence_of_element_located(\n",
    "#         (\n",
    "#             By.TAG_NAME, 'iframe'\n",
    "#         )\n",
    "#     )\n",
    "# )\n",
    "\n",
    "# ActionChains(chrome).move_to_element(captcha_iframe).click().perform()\n",
    "\n",
    "# # click im not robot\n",
    "# captcha_box = WebDriverWait(chrome, 10).until(\n",
    "#     ec.presence_of_element_located(\n",
    "#         (\n",
    "#             By.ID, 'g-recaptcha-response'\n",
    "#         )\n",
    "#     )\n",
    "# )\n",
    "\n",
    "# chrome.execute_script(\"arguments[0].click()\", captcha_box)"
   ]
  },
  {
   "cell_type": "code",
   "execution_count": 77,
   "metadata": {},
   "outputs": [],
   "source": [
    "#開啟VPN\n",
    "chrome.get(\"chrome-extension://gjknjjomckknofjidppipffbpoekiipm/panel/index.html\")\n",
    "#透過find_element_by_xpath找到點擊的位置並且點擊\n",
    "# chrome.find_element(By.XPATH,'//*[@id=\"screenMain\"]/div[3]/button[2]').click()\n",
    "chrome.find_element(By.XPATH,'//*[@id=\"screenMain\"]/div[3]/button[1]').click()"
   ]
  },
  {
   "cell_type": "code",
   "execution_count": 97,
   "metadata": {},
   "outputs": [
    {
     "name": "stdout",
     "output_type": "stream",
     "text": [
      "I am not a robot, 需要人工點選\n",
      "出現異常未成功爬取,目前資料處理至第130筆,名稱為「薪傳水電企業有限公司」\n",
      "I am not a robot, 需要人工點選\n",
      "出現異常未成功爬取,目前資料處理至第134筆,名稱為「優尼肯股份有限公司」\n",
      "I am not a robot, 需要人工點選\n",
      "出現異常未成功爬取,目前資料處理至第138筆,名稱為「聯廷人力資源有限公司」\n",
      "I am not a robot, 需要人工點選\n",
      "出現異常未成功爬取,目前資料處理至第142筆,名稱為「亞太精鍍股份有限公司」\n",
      "I am not a robot, 需要人工點選\n",
      "出現異常未成功爬取,目前資料處理至第146筆,名稱為「喬森精品國際股份有限公司」\n"
     ]
    }
   ],
   "source": [
    "#loop\n",
    "n_pages = 3\n",
    "counting_done = 0\n",
    "for corp in corp_name:\n",
    "    chrome.get('https://www.google.com/')\n",
    "    search = chrome.find_element(\"name\",\"q\")\n",
    "    time.sleep(np.random.randint(10)) # sleep for 5 seconds so you can see the results\n",
    "    search.send_keys(corp)\n",
    "    search.send_keys(Keys.RETURN)\n",
    "    try:\n",
    "        #判斷是否進入機器人頁面\n",
    "        chrome.find_element(\"link text\",\"下一頁\")\n",
    "        #擷取搜尋結果頁面\n",
    "        names = []\n",
    "        links = []\n",
    "        counter = 0\n",
    "        while counter < n_pages:\n",
    "            time.sleep(np.random.randint(10))\n",
    "            soup = BeautifulSoup(chrome.page_source, 'html.parser')\n",
    "            search = soup.find_all('div', class_=\"yuRUbf\")\n",
    "            for h in search:\n",
    "                names.append(h.h3.text)\n",
    "                links.append(h.a.get('href'))\n",
    "            #點擊下一頁\n",
    "            chrome.find_element(\"link text\",\"下一頁\").click()\n",
    "            counter = counter+1\n",
    "        time.sleep(np.random.randint(10))\n",
    "        #原始5頁所有結果\n",
    "        tuple_list = list(zip(names, links))\n",
    "        #原始結果附於表格內\n",
    "        corp_file.loc[corp_file[\"名稱\"]==corp,\"raw data\"] = str(tuple_list)\n",
    "        #過濾網頁\n",
    "        for i in list(tuple_list):\n",
    "            if any(substring in i[1] for substring in black_list):\n",
    "                tuple_list.remove(i)\n",
    "        #過濾結果前5\n",
    "        corp_file.loc[corp_file[\"名稱\"]==corp,\"網站名稱1\"] = tuple_list[0][0]\n",
    "        corp_file.loc[corp_file[\"名稱\"]==corp,\"網址1\"] = tuple_list[0][1]\n",
    "        corp_file.loc[corp_file[\"名稱\"]==corp,\"網站名稱2\"] = tuple_list[1][0]\n",
    "        corp_file.loc[corp_file[\"名稱\"]==corp,\"網址2\"] = tuple_list[1][1]\n",
    "        corp_file.loc[corp_file[\"名稱\"]==corp,\"網站名稱3\"] = tuple_list[2][0]\n",
    "        corp_file.loc[corp_file[\"名稱\"]==corp,\"網址3\"] = tuple_list[2][1]\n",
    "        corp_file.loc[corp_file[\"名稱\"]==corp,\"網站名稱4\"] = tuple_list[3][0]\n",
    "        corp_file.loc[corp_file[\"名稱\"]==corp,\"網址4\"] = tuple_list[3][1]\n",
    "        corp_file.loc[corp_file[\"名稱\"]==corp,\"網站名稱5\"] = tuple_list[4][0]\n",
    "        corp_file.loc[corp_file[\"名稱\"]==corp,\"網址5\"] = tuple_list[4][1]\n",
    "        counting_done = counting_done+1\n",
    "        if counting_done%25==0:\n",
    "            print(\"已完成{}筆\".format(counting_done))\n",
    "            corp_file.to_excel('C:/Users/user/Downloads/corp_website_search_done.xlsx',index=False)\n",
    "    except:\n",
    "        print('I am not a robot, 需要人工點選')\n",
    "        print(\"出現異常未成功爬取,目前資料處理至第{}筆,名稱為「{}」\".format(corp_name_total.index(corp),corp))\n",
    "        time.sleep(30)"
   ]
  },
  {
   "cell_type": "code",
   "execution_count": 99,
   "metadata": {},
   "outputs": [],
   "source": [
    "corp_file.to_excel('C:/Users/user/Downloads/corp_website_search_done.xlsx',index=False)"
   ]
  }
 ],
 "metadata": {
  "kernelspec": {
   "display_name": "Python 3.7.11",
   "language": "python",
   "name": "python3"
  },
  "language_info": {
   "codemirror_mode": {
    "name": "ipython",
    "version": 3
   },
   "file_extension": ".py",
   "mimetype": "text/x-python",
   "name": "python",
   "nbconvert_exporter": "python",
   "pygments_lexer": "ipython3",
   "version": "3.7.11"
  },
  "orig_nbformat": 4,
  "vscode": {
   "interpreter": {
    "hash": "8ff56f40573db3d12d7a42873a727db0057b53b940618814c8caf34798970a91"
   }
  }
 },
 "nbformat": 4,
 "nbformat_minor": 2
}
