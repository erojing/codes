{
 "cells": [
  {
   "cell_type": "code",
   "execution_count": 1,
   "metadata": {},
   "outputs": [],
   "source": [
    "import requests\n",
    "import numpy as np\n",
    "import pandas as pd\n",
    "import os\n",
    "import time\n",
    "import datetime\n",
    "import re\n",
    "import warnings\n",
    "warnings.filterwarnings('ignore')\n",
    "from selenium import webdriver\n",
    "from selenium.webdriver.chrome.options import Options\n",
    "from selenium.webdriver.support.ui import Select\n",
    "import time\n",
    "import numpy as np\n",
    "from selenium.webdriver.common.keys import Keys\n",
    "from bs4 import BeautifulSoup\n",
    "from selenium.webdriver import ActionChains\n",
    "from selenium.webdriver.common.by import By\n",
    "from selenium.webdriver.support import expected_conditions as ec\n",
    "from selenium.webdriver.support.ui import WebDriverWait"
   ]
  },
  {
   "cell_type": "code",
   "execution_count": 2,
   "metadata": {},
   "outputs": [],
   "source": [
    "#讀取檔案\n",
    "col_dict = {\"統編\": str, \"名稱\": str, \"備註\": str}\n",
    "corp_file = pd.read_excel('C:/Users/user/Downloads/corp_search_total_done.xlsx', dtype=col_dict)\n",
    "#testing case\n",
    "corp_name_total = list(corp_file['名稱'])"
   ]
  },
  {
   "cell_type": "code",
   "execution_count": 3,
   "metadata": {},
   "outputs": [],
   "source": [
    "#過濾網站名單\n",
    "black_list = [\n",
    "    'www.104.com.tw',\n",
    "    'www.1111.com.tw',\n",
    "    'www.taiwanslot.com.tw',\n",
    "    'www.yes123.com.tw',\n",
    "    'www.twincn.com',\n",
    "    'www.findcompany.com.tw',\n",
    "    'alltwcompany.com',\n",
    "    'alltwbiz.com',\n",
    "    'www.twfile.com',\n",
    "    'twcorp.tw',\n",
    "    'twypage.com',\n",
    "    'opengovtw.com',\n",
    "    'gotw101.com',\n",
    "    'twinc.com.tw',\n",
    "    'costring.com',\n",
    "    'teach.datagove.com',\n",
    "    'www.1111tc.com.tw',\n",
    "    'interview.tw',\n",
    "    'datagovtw.com',\n",
    "    'tiponet.tipo.gov.tw',\n",
    "    'www.iyp.com.tw',\n",
    "    'm.iyp.com.tw',\n",
    "    'trade.1111.com.tw',\n",
    "    'ns.com.tw',\n",
    "    'www.518.com.tw',\n",
    "    'salary.tw',\n",
    "    'poi.zhupiter.com',\n",
    "    'web66.com.tw',\n",
    "    'www.tmbia.org.tw',\n",
    "    'mo.com.tw',\n",
    "    'smb.nss.com.tw',\n",
    "    'www.taiwanbuying.com.tw',\n",
    "    'abiz.tw',\n",
    "    'aibee.com.tw',\n",
    "    'www.companys.com.tw',\n",
    "    '121.com.tw',\n",
    "    'tw.stock.yahoo.com',\n",
    "    'hragency.imobile01.com',\n",
    "    'abiz.tw',\n",
    "    'tw.datagove.com',\n",
    "    'company.5432.tw',\n",
    "    'fda188.datagove.com',\n",
    "    'data.zhupiter.com',\n",
    "    'mo.com.tw',\n",
    "    'hc.store.tnn.tw',\n",
    "    '121.com.tw',\n",
    "    'findcorp.tw',\n",
    "    'tw.bizpo.net',\n",
    "    'opendatatw.com',\n",
    "    'www.moc.gov.tw',\n",
    "    'notebz.com',\n",
    "    'www.ftc.gov.tw',\n",
    "    'tw66.com.tw',\n",
    "    'find168.com.tw',\n",
    "    'www.arch-world.com.tw',\n",
    "    'tw.indeed.com',\n",
    "    'fda36.datagove.com',\n",
    "    'zh-tw.facebook.com',\n",
    "    'www.facebook.com',\n",
    "    'aibee.tw',\n",
    "    'job.taiwanjobs.gov.tw',\n",
    "    'biz.5168.mx',\n",
    "    'huangyedu.com',\n",
    "    'www.ezsogosi.com',\n",
    "    'tw.ypgo.net',\n",
    "    'www.web393.com',\n",
    "    'fda68.datagove.com',\n",
    "    'www.tuugo.tw',\n",
    "    'data.bznk.com',\n",
    "    'taiwan.datagove.com',\n",
    "    'hotel.imobile01.com',\n",
    "    'smartpark.tw',\n",
    "    'vip.arch-world.com.tw',\n",
    "    'tw.gothejob.com',\n",
    "    'www.bizzword.com',\n",
    "    'ofdays.com',\n",
    "    'twnypage.com'\n",
    "]"
   ]
  },
  {
   "cell_type": "code",
   "execution_count": 12,
   "metadata": {},
   "outputs": [],
   "source": [
    "# corp_name = corp_name_total[121:150]\n",
    "corp_name = list(corp_file[(corp_file['負責同仁']=='')&(corp_file['raw data'].isna())]['名稱'])[50:50]"
   ]
  },
  {
   "cell_type": "code",
   "execution_count": 13,
   "metadata": {},
   "outputs": [
    {
     "data": {
      "text/plain": [
       "50"
      ]
     },
     "execution_count": 13,
     "metadata": {},
     "output_type": "execute_result"
    }
   ],
   "source": [
    "len(corp_name)"
   ]
  },
  {
   "cell_type": "code",
   "execution_count": 6,
   "metadata": {},
   "outputs": [],
   "source": [
    "def open_browser():\n",
    "    #selenium settings\n",
    "    chrome_options = webdriver.ChromeOptions()\n",
    "    #無痕模式\n",
    "    chrome_options.add_argument(\"--incognito\")\n",
    "    #將擴充套件放入至Webdriver的開啟網頁內容\n",
    "    # chrome_options.add_extension('./7.0.10_0.crx')\n",
    "    # chrome_options.add_argument('--proxy-server=%s' % proxy_ip)\n",
    "    chrome = webdriver.Chrome('./chromedriver',options=chrome_options)\n",
    "    #設定等待時間\n",
    "    chrome.implicitly_wait(5)\n",
    "    chrome.set_page_load_timeout(15)\n",
    "    return chrome"
   ]
  },
  {
   "cell_type": "code",
   "execution_count": 40,
   "metadata": {},
   "outputs": [],
   "source": [
    "# # i am not robot check\n",
    "# # find iframe\n",
    "# captcha_iframe = WebDriverWait(chrome, 10).until(\n",
    "#     ec.presence_of_element_located(\n",
    "#         (\n",
    "#             By.TAG_NAME, 'iframe'\n",
    "#         )\n",
    "#     )\n",
    "# )\n",
    "\n",
    "# ActionChains(chrome).move_to_element(captcha_iframe).click().perform()\n",
    "\n",
    "# # click im not robot\n",
    "# captcha_box = WebDriverWait(chrome, 10).until(\n",
    "#     ec.presence_of_element_located(\n",
    "#         (\n",
    "#             By.ID, 'g-recaptcha-response'\n",
    "#         )\n",
    "#     )\n",
    "# )\n",
    "\n",
    "# chrome.execute_script(\"arguments[0].click()\", captcha_box)"
   ]
  },
  {
   "cell_type": "code",
   "execution_count": 77,
   "metadata": {},
   "outputs": [],
   "source": [
    "# #開啟VPN\n",
    "# chrome.get(\"chrome-extension://gjknjjomckknofjidppipffbpoekiipm/panel/index.html\")\n",
    "# #透過find_element_by_xpath找到點擊的位置並且點擊\n",
    "# # chrome.find_element(By.XPATH,'//*[@id=\"screenMain\"]/div[3]/button[2]').click()\n",
    "# chrome.find_element(By.XPATH,'//*[@id=\"screenMain\"]/div[3]/button[1]').click()"
   ]
  },
  {
   "cell_type": "code",
   "execution_count": 14,
   "metadata": {},
   "outputs": [
    {
     "name": "stdout",
     "output_type": "stream",
     "text": [
      "I am not a robot, 需要人工點選/符合條件家數不足5筆\n",
      "出現異常需檢查,目前資料處理至第3540筆,名稱為「良泰機車行」\n",
      "已完成25筆\n"
     ]
    }
   ],
   "source": [
    "#loop\n",
    "n_pages = 3\n",
    "counting_done = 1\n",
    "# chrome = open_browser()\n",
    "for corp in corp_name:\n",
    "    if (counting_done//5)%2==1:\n",
    "        chrome.get('https://www.google.com.tw/')\n",
    "    elif (counting_done//5)%2==0:\n",
    "        chrome.get('https://www.google.com/')\n",
    "    #search bar\n",
    "    search = chrome.find_element(\"name\",\"q\")\n",
    "    search.send_keys(corp)\n",
    "    time.sleep(np.random.randint(5,7))\n",
    "    search.send_keys(Keys.RETURN)\n",
    "    try:\n",
    "        #判斷是否進入機器人頁面\n",
    "        chrome.find_element(\"link text\",\"下一頁\")\n",
    "        #擷取搜尋結果頁面\n",
    "        names = []\n",
    "        links = []\n",
    "        counter = 0\n",
    "        while counter < n_pages:\n",
    "            time.sleep(np.random.randint(8,15))\n",
    "            soup = BeautifulSoup(chrome.page_source, 'html.parser')\n",
    "            search = soup.find_all('div', class_=\"yuRUbf\")\n",
    "            for h in search:\n",
    "                #website name\n",
    "                names.append(h.h3.text)\n",
    "                #website link\n",
    "                links.append(h.a.get('href'))\n",
    "            counter = counter+1\n",
    "            try:\n",
    "                #點擊下一頁\n",
    "                chrome.find_element(\"link text\",\"下一頁\").click()\n",
    "            except:\n",
    "                print(\"第{}筆,名稱為「{}」,搜尋結果不足3頁\".format(corp_name_total.index(corp),corp))\n",
    "                break\n",
    "        time.sleep(np.random.randint(5))\n",
    "        #原始所有結果\n",
    "        tuple_list = list(zip(names, links))\n",
    "        #原始結果附於表格內\n",
    "        corp_file.loc[corp_file[\"名稱\"]==corp,\"raw data\"] = str(tuple_list)\n",
    "        #過濾網頁\n",
    "        for i in list(tuple_list):\n",
    "            if any(substring in i[1] for substring in black_list):\n",
    "                tuple_list.remove(i)\n",
    "        counting_done = counting_done+1\n",
    "        #過濾結果前5(不足5筆error跳去except)\n",
    "        corp_file.loc[corp_file[\"名稱\"]==corp,\"網站名稱1\"] = tuple_list[0][0]\n",
    "        corp_file.loc[corp_file[\"名稱\"]==corp,\"網址1\"] = tuple_list[0][1]\n",
    "        corp_file.loc[corp_file[\"名稱\"]==corp,\"網站名稱2\"] = tuple_list[1][0]\n",
    "        corp_file.loc[corp_file[\"名稱\"]==corp,\"網址2\"] = tuple_list[1][1]\n",
    "        corp_file.loc[corp_file[\"名稱\"]==corp,\"網站名稱3\"] = tuple_list[2][0]\n",
    "        corp_file.loc[corp_file[\"名稱\"]==corp,\"網址3\"] = tuple_list[2][1]\n",
    "        corp_file.loc[corp_file[\"名稱\"]==corp,\"網站名稱4\"] = tuple_list[3][0]\n",
    "        corp_file.loc[corp_file[\"名稱\"]==corp,\"網址4\"] = tuple_list[3][1]\n",
    "        corp_file.loc[corp_file[\"名稱\"]==corp,\"網站名稱5\"] = tuple_list[4][0]\n",
    "        corp_file.loc[corp_file[\"名稱\"]==corp,\"網址5\"] = tuple_list[4][1]\n",
    "        #定期存檔紀錄\n",
    "        if counting_done%25==0:\n",
    "            print(\"已完成{}筆\".format(counting_done))\n",
    "            corp_file.to_excel('C:/Users/user/Downloads/corp_search_total_done.xlsx',index=False)\n",
    "        #50筆重啟一次\n",
    "        if counting_done%50==0:\n",
    "            chrome.close()\n",
    "            chrome = open_browser()\n",
    "    except:\n",
    "        counting_done = counting_done+1\n",
    "        print('I am not a robot, 需要人工點選/符合條件家數不足5筆')\n",
    "        print(\"出現異常需檢查,目前資料處理至第{}筆,名稱為「{}」\".format(corp_name_total.index(corp),corp))\n",
    "        time.sleep(np.random.randint(5))"
   ]
  },
  {
   "cell_type": "code",
   "execution_count": 8,
   "metadata": {},
   "outputs": [],
   "source": [
    "corp_file.to_excel('C:/Users/user/Downloads/corp_search_total_done.xlsx',index=False)"
   ]
  }
 ],
 "metadata": {
  "kernelspec": {
   "display_name": "Python 3.7.11 ('pytorch')",
   "language": "python",
   "name": "python3"
  },
  "language_info": {
   "codemirror_mode": {
    "name": "ipython",
    "version": 3
   },
   "file_extension": ".py",
   "mimetype": "text/x-python",
   "name": "python",
   "nbconvert_exporter": "python",
   "pygments_lexer": "ipython3",
   "version": "3.7.11"
  },
  "orig_nbformat": 4,
  "vscode": {
   "interpreter": {
    "hash": "0747f93ff6db21b2db2bf35ad4858dd0825b9c21797c41b4cc32097944ab3f10"
   }
  }
 },
 "nbformat": 4,
 "nbformat_minor": 2
}
