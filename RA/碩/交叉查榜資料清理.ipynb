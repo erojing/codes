{
 "cells": [
  {
   "cell_type": "code",
   "execution_count": 2,
   "metadata": {
    "collapsed": true
   },
   "outputs": [],
   "source": [
    "import pandas as pd\n",
    "import numpy as np\n",
    "import os"
   ]
  },
  {
   "cell_type": "code",
   "execution_count": 18,
   "metadata": {},
   "outputs": [],
   "source": [
    "path2 = \"D:\\PythonPractice\\RA/105/\"\n",
    "files2= os.listdir(path2)"
   ]
  },
  {
   "cell_type": "code",
   "execution_count": 19,
   "metadata": {
    "collapsed": false
   },
   "outputs": [
    {
     "name": "stdout",
     "output_type": "stream",
     "text": [
      "002師大 332\n"
     ]
    },
    {
     "name": "stdout",
     "output_type": "stream",
     "text": [
      "005東吳 242\n"
     ]
    },
    {
     "name": "stdout",
     "output_type": "stream",
     "text": [
      "009東海 472\n"
     ]
    },
    {
     "name": "stdout",
     "output_type": "stream",
     "text": [
      "017文化 562\n"
     ]
    },
    {
     "name": "stdout",
     "output_type": "stream",
     "text": [
      "020輔仁 532\n"
     ]
    },
    {
     "name": "stdout",
     "output_type": "stream",
     "text": [
      "022高雄師範 172\n"
     ]
    },
    {
     "name": "stdout",
     "output_type": "stream",
     "text": [
      "027中山 212\n"
     ]
    },
    {
     "name": "stdout",
     "output_type": "stream",
     "text": [
      "031台中教育 152\n"
     ]
    },
    {
     "name": "stdout",
     "output_type": "stream",
     "text": [
      "032台北教育 212\n032台北教育 222\n032台北教育 232\n"
     ]
    },
    {
     "name": "stdout",
     "output_type": "stream",
     "text": [
      "033台南 192\n"
     ]
    },
    {
     "name": "stdout",
     "output_type": "stream",
     "text": [
      "034東華 382\n"
     ]
    },
    {
     "name": "stdout",
     "output_type": "stream",
     "text": [
      "035台北市立大學 192\n"
     ]
    },
    {
     "name": "stdout",
     "output_type": "stream",
     "text": [
      "036屏東 292\n"
     ]
    },
    {
     "name": "stdout",
     "output_type": "stream",
     "text": [
      "037新竹教育大學 152\n037新竹教育大學 162\n037新竹教育大學 172\n"
     ]
    },
    {
     "name": "stdout",
     "output_type": "stream",
     "text": [
      "038台東 172\n"
     ]
    },
    {
     "name": "stdout",
     "output_type": "stream",
     "text": [
      "050實踐 342\n"
     ]
    },
    {
     "name": "stdout",
     "output_type": "stream",
     "text": [
      "056台灣藝術大學 052\n056台灣藝術大學 062\n056台灣藝術大學 072\n056台灣藝術大學 082\n056台灣藝術大學 092\n056台灣藝術大學 102\n056台灣藝術大學 112\n"
     ]
    },
    {
     "name": "stdout",
     "output_type": "stream",
     "text": [
      "079真理 242\n"
     ]
    },
    {
     "name": "stdout",
     "output_type": "stream",
     "text": [
      "100嘉義 392\n"
     ]
    }
   ],
   "source": [
    "#crossdept且在學校資料夾下\n",
    "for j in files2:\n",
    "    path = \"D:\\PythonPractice\\RA/105/{}\".format(j)\n",
    "    files= os.listdir(path)\n",
    "    for k in files:\n",
    "        try:\n",
    "            df = pd.read_csv('D:\\PythonPractice\\RA/105/{}/{}'.format(j,k),engine='python')\n",
    "            school = df['cross_dept.V4']\n",
    "            第一階段通過學校 = school.str.split(\" \").str.get(0).str.title()\n",
    "            第一階段通過科系 = school.str.split(\" \").str.get(1).str.title()\n",
    "            a = df['cross_dept.V1']\n",
    "            錄取 = []\n",
    "            for i in a:\n",
    "                try:\n",
    "                    錄取.append(''.join([k for k in i if not k.isdigit()]))\n",
    "                except:\n",
    "                    錄取.append(i)\n",
    "            序 = []\n",
    "            for i in a:\n",
    "                try:\n",
    "                    序.append(''.join([k for k in i if k.isdigit()]))\n",
    "                except:\n",
    "                    序.append(i)\n",
    "            b = df['cross_dept.V5']\n",
    "            第二階段錄取 = []\n",
    "            for i in b:\n",
    "                try:\n",
    "                    第二階段錄取.append(''.join([k for k in i if not k.isdigit()]))\n",
    "                except:\n",
    "                    第二階段錄取.append(i)\n",
    "            第二階段序 = []\n",
    "            for i in b:\n",
    "                try:\n",
    "                    第二階段序.append(''.join([k for k in i if k.isdigit()]))\n",
    "                except:\n",
    "                    第二階段序.append(i)\n",
    "            學校 = [第一階段通過學校[0]]\n",
    "            科系 = [第一階段通過科系[0]]\n",
    "            c = df['cross_dept.V2']\n",
    "            准考證號碼 = []\n",
    "            for i in c:\n",
    "                try:\n",
    "                    准考證號碼.append(''.join([k for k in i if k.isdigit()]))\n",
    "                except:\n",
    "                    准考證號碼.append(i)\n",
    "            d = df['cross_dept.V3']\n",
    "            姓名 = []\n",
    "            for i in d:\n",
    "                try:\n",
    "                    姓名.append(''.join([k for k in i if not k.isdigit()]))\n",
    "                except:\n",
    "                    姓名.append(i)\n",
    "            結果 = df['V7']\n",
    "            var = {\n",
    "                '學校':學校,\n",
    "                '科系':科系\n",
    "            }\n",
    "            final = {\n",
    "                '錄取':錄取,\n",
    "                '序':序,\n",
    "                '准考證號碼':准考證號碼,\n",
    "                '姓名':姓名,\n",
    "                '第一階段通過學校':第一階段通過學校,\n",
    "                '第一階段通過科系':第一階段通過科系,\n",
    "                '第二階段錄取':第二階段錄取,\n",
    "                '第二階段序':第二階段序,\n",
    "                '結果':結果\n",
    "            }\n",
    "            df1 = pd.DataFrame(var)\n",
    "            df2 = pd.DataFrame(final)\n",
    "            result = pd.concat([df1,df2],axis = 1)\n",
    "            result.to_excel('D:\\PythonPractice\\RA/105-2/{}/{}.xls'.format(j,科系[0]),index=False)\n",
    "        except:\n",
    "            print(j,k)"
   ]
  },
  {
   "cell_type": "code",
   "execution_count": 9,
   "metadata": {
    "collapsed": true
   },
   "outputs": [],
   "source": [
    "#非crossdept且在學校資料夾下\n",
    "for j in files2:\n",
    "    path = \"D:\\PythonPractice\\RA/100/{}\".format(j)\n",
    "    files= os.listdir(path)\n",
    "    for k in files:\n",
    "        try:\n",
    "            df = pd.read_csv('D:\\PythonPractice\\RA/100/{}/{}'.format(j,k),engine='python')\n",
    "            school = df['V4']\n",
    "            第一階段通過學校 = school.str.split(\" \").str.get(0).str.title()\n",
    "            第一階段通過科系 = school.str.split(\" \").str.get(1).str.title()\n",
    "            a = df['V1']\n",
    "            錄取 = []\n",
    "            for i in a:\n",
    "                try:\n",
    "                    錄取.append(''.join([k for k in i if not k.isdigit()]))\n",
    "                except:\n",
    "                    錄取.append(i)\n",
    "            序 = []\n",
    "            for i in a:\n",
    "                try:\n",
    "                    序.append(''.join([k for k in i if k.isdigit()]))\n",
    "                except:\n",
    "                    序.append(i)\n",
    "            b = df['V5']\n",
    "            第二階段錄取 = []\n",
    "            for i in b:\n",
    "                try:\n",
    "                    第二階段錄取.append(''.join([k for k in i if not k.isdigit()]))\n",
    "                except:\n",
    "                    第二階段錄取.append(i)\n",
    "            第二階段序 = []\n",
    "            for i in b:\n",
    "                try:\n",
    "                    第二階段序.append(''.join([k for k in i if k.isdigit()]))\n",
    "                except:\n",
    "                    第二階段序.append(i)\n",
    "            學校 = [第一階段通過學校[0]]\n",
    "            科系 = [第一階段通過科系[0]]\n",
    "            c = df['V2']\n",
    "            准考證號碼 = []\n",
    "            for i in c:\n",
    "                try:\n",
    "                    准考證號碼.append(''.join([k for k in i if k.isdigit()]))\n",
    "                except:\n",
    "                    准考證號碼.append(i)\n",
    "            d = df['V3']\n",
    "            姓名 = []\n",
    "            for i in d:\n",
    "                try:\n",
    "                    姓名.append(''.join([k for k in i if not k.isdigit()]))\n",
    "                except:\n",
    "                    姓名.append(i)\n",
    "            結果 = df['V7']\n",
    "            var = {\n",
    "                '學校':學校,\n",
    "                '科系':科系\n",
    "            }\n",
    "            final = {\n",
    "                '錄取':錄取,\n",
    "                '序':序,\n",
    "                '准考證號碼':准考證號碼,\n",
    "                '姓名':姓名,\n",
    "                '第一階段通過學校':第一階段通過學校,\n",
    "                '第一階段通過科系':第一階段通過科系,\n",
    "                '第二階段錄取':第二階段錄取,\n",
    "                '第二階段序':第二階段序,\n",
    "                '結果':結果\n",
    "            }\n",
    "            df1 = pd.DataFrame(var)\n",
    "            df2 = pd.DataFrame(final)\n",
    "            result = pd.concat([df1,df2],axis = 1)\n",
    "            result.to_excel('D:\\PythonPractice\\RA/100-2/{}/{}.xls'.format(j,科系[0]),index=False)\n",
    "        except:\n",
    "            pass"
   ]
  },
  {
   "cell_type": "code",
   "execution_count": 34,
   "metadata": {
    "collapsed": true
   },
   "outputs": [],
   "source": [
    "#非crossdept且在學校資料夾下(V6)\n",
    "for j in files2:\n",
    "    path = \"D:\\PythonPractice\\RA/100/{}\".format(j)\n",
    "    files= os.listdir(path)\n",
    "    for k in files:\n",
    "        try:\n",
    "            df = pd.read_csv('D:\\PythonPractice\\RA/100/{}/{}'.format(j,k),engine='python')\n",
    "            school = df['V4']\n",
    "            第一階段通過學校 = school.str.split(\" \").str.get(0).str.title()\n",
    "            第一階段通過科系 = school.str.split(\" \").str.get(1).str.title()\n",
    "            a = df['V1']\n",
    "            錄取 = []\n",
    "            for i in a:\n",
    "                try:\n",
    "                    錄取.append(''.join([k for k in i if not k.isdigit()]))\n",
    "                except:\n",
    "                    錄取.append(i)\n",
    "            序 = []\n",
    "            for i in a:\n",
    "                try:\n",
    "                    序.append(''.join([k for k in i if k.isdigit()]))\n",
    "                except:\n",
    "                    序.append(i)\n",
    "            b = df['V5']\n",
    "            第二階段錄取 = []\n",
    "            for i in b:\n",
    "                try:\n",
    "                    第二階段錄取.append(''.join([k for k in i if not k.isdigit()]))\n",
    "                except:\n",
    "                    第二階段錄取.append(i)\n",
    "            第二階段序 = []\n",
    "            for i in b:\n",
    "                try:\n",
    "                    第二階段序.append(''.join([k for k in i if k.isdigit()]))\n",
    "                except:\n",
    "                    第二階段序.append(i)\n",
    "            學校 = [第一階段通過學校[0]]\n",
    "            科系 = [第一階段通過科系[0]]\n",
    "            c = df['V2']\n",
    "            准考證號碼 = []\n",
    "            for i in c:\n",
    "                try:\n",
    "                    准考證號碼.append(''.join([k for k in i if k.isdigit()]))\n",
    "                except:\n",
    "                    准考證號碼.append(i)\n",
    "            d = df['V3']\n",
    "            姓名 = []\n",
    "            for i in d:\n",
    "                try:\n",
    "                    姓名.append(''.join([k for k in i if not k.isdigit()]))\n",
    "                except:\n",
    "                    姓名.append(i)\n",
    "            特殊辨別 = df['V6']\n",
    "            var = {\n",
    "                '學校':學校,\n",
    "                '科系':科系\n",
    "            }\n",
    "            final = {\n",
    "                '錄取':錄取,\n",
    "                '序':序,\n",
    "                '准考證號碼':准考證號碼,\n",
    "                '姓名':姓名,\n",
    "                '第一階段通過學校':第一階段通過學校,\n",
    "                '第一階段通過科系':第一階段通過科系,\n",
    "                '第二階段錄取':第二階段錄取,\n",
    "                '第二階段序':第二階段序,\n",
    "                '結果':結果\n",
    "            }\n",
    "            df1 = pd.DataFrame(var)\n",
    "            df2 = pd.DataFrame(final)\n",
    "            result = pd.concat([df1,df2],axis = 1)\n",
    "            result.to_excel('D:\\PythonPractice\\RA/100-2/{}/{}.xls'.format(j,科系[0]),index=False)\n",
    "        except:\n",
    "            pass"
   ]
  },
  {
   "cell_type": "code",
   "execution_count": 20,
   "metadata": {
    "collapsed": true
   },
   "outputs": [
    {
     "name": "stdout",
     "output_type": "stream",
     "text": [
      "002師大 332 0000.csv\n"
     ]
    },
    {
     "name": "stdout",
     "output_type": "stream",
     "text": [
      "002師大 332 0610.csv\n002師大 332 0902.csv\n"
     ]
    },
    {
     "name": "stdout",
     "output_type": "stream",
     "text": [
      "005東吳 242 0610.csv\n"
     ]
    },
    {
     "name": "stdout",
     "output_type": "stream",
     "text": [
      "009東海 472 0610.csv\n017文化 562 0000.csv\n"
     ]
    },
    {
     "name": "stdout",
     "output_type": "stream",
     "text": [
      "017文化 562 0610.csv\n"
     ]
    },
    {
     "name": "stdout",
     "output_type": "stream",
     "text": [
      "020輔仁 532 0610.csv\n022高雄師範 172 0000.csv\n"
     ]
    },
    {
     "name": "stdout",
     "output_type": "stream",
     "text": [
      "022高雄師範 172 0610.csv\n027中山 212 0000.csv\n"
     ]
    },
    {
     "name": "stdout",
     "output_type": "stream",
     "text": [
      "027中山 212 0601.csv\n"
     ]
    },
    {
     "name": "stdout",
     "output_type": "stream",
     "text": [
      "031台中教育 152 0610.csv\n032台北教育 212 0000.csv\n"
     ]
    },
    {
     "name": "stdout",
     "output_type": "stream",
     "text": [
      "032台北教育 212 0610.csv\n032台北教育 222 0101.csv\n032台北教育 232 0301.csv\n033台南 192 0000.csv\n"
     ]
    },
    {
     "name": "stdout",
     "output_type": "stream",
     "text": [
      "033台南 192 0610.csv\n034東華 382 0000.csv\n035台北市立大學 192 0000.csv\n"
     ]
    },
    {
     "name": "stdout",
     "output_type": "stream",
     "text": [
      "035台北市立大學 192 0610.csv\n035台北市立大學 192 0902.csv\n035台北市立大學 192 0905.csv\n036屏東 292 0000.csv\n"
     ]
    },
    {
     "name": "stdout",
     "output_type": "stream",
     "text": [
      "036屏東 292 0610.csv\n"
     ]
    },
    {
     "name": "stdout",
     "output_type": "stream",
     "text": [
      "037新竹教育大學 152 0610.csv\n037新竹教育大學 152 0902.csv\n037新竹教育大學 162 0801.csv\n037新竹教育大學 172 0101.csv\n038台東 172 0502.csv\n"
     ]
    },
    {
     "name": "stdout",
     "output_type": "stream",
     "text": [
      "050實踐 342 0000.csv\n"
     ]
    },
    {
     "name": "stdout",
     "output_type": "stream",
     "text": [
      "050實踐 342 0610.csv\n056台灣藝術大學 052 0801.csv\n056台灣藝術大學 062 0101.csv\n056台灣藝術大學 072 0000.csv\n056台灣藝術大學 072 0301.csv\n056台灣藝術大學 092 0501.csv\n056台灣藝術大學 092 0502.csv\n"
     ]
    },
    {
     "name": "stdout",
     "output_type": "stream",
     "text": [
      "056台灣藝術大學 102 0610.csv\n056台灣藝術大學 112 0701.csv\n079真理 242 0000.csv\n"
     ]
    },
    {
     "name": "stdout",
     "output_type": "stream",
     "text": [
      "100嘉義 392 0000.csv\n"
     ]
    },
    {
     "name": "stdout",
     "output_type": "stream",
     "text": [
      "100嘉義 392 0610.csv\n"
     ]
    }
   ],
   "source": [
    "#crossdept且在學校資料夾內的資料夾\n",
    "for j in files2:\n",
    "    path = \"D:\\PythonPractice\\RA/105/{}\".format(j)\n",
    "    files= os.listdir(path)\n",
    "    for k in files:\n",
    "        path3 = 'D:\\PythonPractice\\RA/105/{}/{}'.format(j,k)\n",
    "        try:\n",
    "            files3 = os.listdir(path3)\n",
    "            for l in files3:\n",
    "                try:\n",
    "                    df = pd.read_csv('D:\\PythonPractice\\RA/105/{}/{}/{}'.format(j,k,l),engine='python')\n",
    "                    school = df['cross_dept.V4']\n",
    "                    第一階段通過學校 = school.str.split(\" \").str.get(0).str.title()\n",
    "                    第一階段通過科系 = school.str.split(\" \").str.get(1).str.title()\n",
    "                    a = df['cross_dept.V1']\n",
    "                    錄取 = []\n",
    "                    for i in a:\n",
    "                        try:\n",
    "                            錄取.append(''.join([k for k in i if not k.isdigit()]))\n",
    "                        except:\n",
    "                            錄取.append(i)\n",
    "                    序 = []\n",
    "                    for i in a:\n",
    "                        try:\n",
    "                            序.append(''.join([k for k in i if k.isdigit()]))\n",
    "                        except:\n",
    "                            序.append(i)\n",
    "                    b = df['cross_dept.V5']\n",
    "                    第二階段錄取 = []\n",
    "                    for i in b:\n",
    "                        try:\n",
    "                            第二階段錄取.append(''.join([k for k in i if not k.isdigit()]))\n",
    "                        except:\n",
    "                            第二階段錄取.append(i)\n",
    "                    第二階段序 = []\n",
    "                    for i in b:\n",
    "                        try:\n",
    "                            第二階段序.append(''.join([k for k in i if k.isdigit()]))\n",
    "                        except:\n",
    "                            第二階段序.append(i)\n",
    "                    學校 = [第一階段通過學校[0]]\n",
    "                    科系 = [第一階段通過科系[0]]\n",
    "                    c = df['cross_dept.V2']\n",
    "                    准考證號碼 = []\n",
    "                    for i in c:\n",
    "                        try:\n",
    "                            准考證號碼.append(''.join([k for k in i if k.isdigit()]))\n",
    "                        except:\n",
    "                            准考證號碼.append(i)\n",
    "                    d = df['cross_dept.V3']\n",
    "                    姓名 = []\n",
    "                    for i in d:\n",
    "                        try:\n",
    "                            姓名.append(''.join([k for k in i if not k.isdigit()]))\n",
    "                        except:\n",
    "                            姓名.append(i)\n",
    "                    結果 = df['V7']\n",
    "                    var = {\n",
    "                        '學校':學校,\n",
    "                        '科系':科系\n",
    "                    }\n",
    "                    final = {\n",
    "                        '錄取':錄取,\n",
    "                        '序':序,\n",
    "                        '准考證號碼':准考證號碼,\n",
    "                        '姓名':姓名,\n",
    "                        '第一階段通過學校':第一階段通過學校,\n",
    "                        '第一階段通過科系':第一階段通過科系,\n",
    "                        '第二階段錄取':第二階段錄取,\n",
    "                        '第二階段序':第二階段序,\n",
    "                        '結果':結果\n",
    "                    }\n",
    "                    df1 = pd.DataFrame(var)\n",
    "                    df2 = pd.DataFrame(final)\n",
    "                    result = pd.concat([df1,df2],axis = 1)\n",
    "                    result.to_excel('D:\\PythonPractice\\RA/105-2/{}/{}.xls'.format(j,科系[0]),index=False)\n",
    "                except:\n",
    "                    print(j,k,l)\n",
    "        except:\n",
    "            pass"
   ]
  },
  {
   "cell_type": "code",
   "execution_count": 21,
   "metadata": {
    "collapsed": true
   },
   "outputs": [
    {
     "name": "stdout",
     "output_type": "stream",
     "text": [
      "002師大 332 0101.csv\n002師大 332 0301.csv\n002師大 332 0401.csv\n002師大 332 0402.csv\n002師大 332 0403.csv\n002師大 332 0404.csv\n002師大 332 0601.csv\n002師大 332 0602.csv\n002師大 332 0603.csv\n002師大 332 0607.csv\n002師大 332 0608.csv\n002師大 332 0609.csv\n002師大 332 0701.csv\n002師大 332 0801.csv\n002師大 332 0901.csv\n005東吳 242 0101.csv\n005東吳 242 0301.csv\n005東吳 242 0401.csv\n005東吳 242 0402.csv\n005東吳 242 0403.csv\n005東吳 242 0601.csv\n005東吳 242 0602.csv\n005東吳 242 0603.csv\n005東吳 242 0607.csv\n005東吳 242 0608.csv\n005東吳 242 0609.csv\n005東吳 242 0701.csv\n005東吳 242 0801.csv\n009東海 472 0101.csv\n009東海 472 0301.csv\n009東海 472 0401.csv\n009東海 472 0402.csv\n009東海 472 0403.csv\n009東海 472 0601.csv\n009東海 472 0602.csv\n009東海 472 0603.csv\n009東海 472 0604.csv\n009東海 472 0605.csv\n009東海 472 0606.csv\n009東海 472 0607.csv\n009東海 472 0608.csv\n009東海 472 0609.csv\n"
     ]
    },
    {
     "name": "stdout",
     "output_type": "stream",
     "text": [
      "009東海 472 0610.csv\n009東海 472 0701.csv\n009東海 472 0801.csv\n017文化 562 0101.csv\n017文化 562 0301.csv\n017文化 562 0401.csv\n017文化 562 0402.csv\n017文化 562 0403.csv\n017文化 562 0404.csv\n017文化 562 0601.csv\n017文化 562 0602.csv\n017文化 562 0603.csv\n017文化 562 0604.csv\n017文化 562 0606.csv\n017文化 562 0608.csv\n017文化 562 0609.csv\n017文化 562 0701.csv\n020輔仁 532 0101.csv\n020輔仁 532 0301.csv\n020輔仁 532 0401.csv\n020輔仁 532 0402.csv\n020輔仁 532 0403.csv\n020輔仁 532 0404.csv\n020輔仁 532 0601.csv\n020輔仁 532 0602.csv\n020輔仁 532 0603.csv\n020輔仁 532 0605.csv\n020輔仁 532 0606.csv\n020輔仁 532 0607.csv\n020輔仁 532 0608.csv\n020輔仁 532 0609.csv\n020輔仁 "
     ]
    },
    {
     "name": "stdout",
     "output_type": "stream",
     "text": [
      "532 0701.csv\n020輔仁 532 0801.csv\n022高雄師範 172 0101.csv\n022高雄師範 172 0301.csv\n022高雄師範 172 0401.csv\n022高雄師範 172 0402.csv\n022高雄師範 172 0403.csv\n022高雄師範 172 0404.csv\n022高雄師範 172 0601.csv\n022高雄師範 172 0602.csv\n022高雄師範 172 0603.csv\n022高雄師範 172 0607.csv\n022高雄師範 172 0608.csv\n022高雄師範 172 0609.csv\n022高雄師範 172 0701.csv\n022高雄師範 172 0801.csv\n027中山 212 0101.csv\n027中山 212 0301.csv\n027中山 212 0401.csv\n027中山 212 0402.csv\n027中山 212 0403.csv\n027中山 212 0404.csv\n027中山 212 0601.csv\n027中山 212 0602.csv\n027中山 212 0603.csv\n027中山 212 0608.csv\n027中山 212 0609.csv\n027中山 212 0701.csv\n031台中教育 152 0101.csv\n031台中教育 152 0301.csv\n"
     ]
    },
    {
     "name": "stdout",
     "output_type": "stream",
     "text": [
      "031台中教育 152 0401.csv\n031台中教育 152 0402.csv\n031台中教育 152 0403.csv\n031台中教育 152 0404.csv\n031台中教育 152 0601.csv\n031台中教育 152 0603.csv\n031台中教育 152 0606.csv\n031台中教育 152 0608.csv\n031台中教育 152 0609.csv\n031台中教育 152 0701.csv\n031台中教育 152 0801.csv\n032台北教育 212 0101.csv\n032台北教育 212 0301.csv\n032台北教育 212 0401.csv\n032台北教育 212 0402.csv\n032台北教育 212 0403.csv\n032台北教育 212 0404.csv\n032台北教育 212 0601.csv\n032台北教育 212 0603.csv\n032台北教育 212 0605.csv\n032台北教育 212 0606.csv\n032台北教育 212 0607.csv\n032台北教育 212 0608.csv\n032台北教育 212 0609.csv\n032台北教育 212 0701.csv\n032台北教育 212 0801.csv\n"
     ]
    },
    {
     "name": "stdout",
     "output_type": "stream",
     "text": [
      "033台南 192 0101.csv\n033台南 192 0301.csv\n033台南 192 0401.csv\n033台南 192 0402.csv\n033台南 192 0403.csv\n033台南 192 0404.csv\n033台南 192 0601.csv\n033台南 192 0603.csv\n033台南 192 0604.csv\n033台南 192 0605.csv\n033台南 192 0606.csv\n033台南 192 0607.csv\n033台南 192 0608.csv\n033台南 192 0609.csv\n033台南 192 0701.csv\n033台南 192 0801.csv\n034東華 382 0101.csv\n034東華 382 0301.csv\n034東華 382 0401.csv\n034東華 382 0402.csv\n034東華 382 0403.csv\n034東華 382 0601.csv\n034東華 382 0602.csv\n035台北市立大學 192 0101.csv\n035台北市立大學 192 0301.csv\n035台北市立大學 192 0401.csv\n035台北市立大學 192 0402.csv\n035台北市立大學 192 0403.csv\n035台北市立大學 192 0404.csv\n035台北市立大學 "
     ]
    },
    {
     "name": "stdout",
     "output_type": "stream",
     "text": [
      "192 0601.csv\n035台北市立大學 192 0602.csv\n035台北市立大學 192 0603.csv\n035台北市立大學 192 0607.csv\n035台北市立大學 192 0608.csv\n035台北市立大學 192 0609.csv\n035台北市立大學 192 0701.csv\n035台北市立大學 192 0801.csv\n035台北市立大學 192 0901.csv\n036屏東 292 0101.csv\n036屏東 292 0301.csv\n036屏東 292 0401.csv\n036屏東 292 0402.csv\n036屏東 292 0403.csv\n036屏東 292 0601.csv\n036屏東 292 0602.csv\n036屏東 292 0603.csv\n036屏東 292 0607.csv\n036屏東 292 0608.csv\n036屏東 292 0609.csv\n036屏東 292 0701.csv\n036屏東 292 0801.csv\n037新竹教育大學 152 0101.csv\n037新竹教育大學 152 0301.csv\n037新竹教育大學 152 0401.csv\n037新竹教育大學 152 0402.csv\n"
     ]
    },
    {
     "name": "stdout",
     "output_type": "stream",
     "text": [
      "037新竹教育大學 152 0403.csv\n037新竹教育大學 152 0601.csv\n037新竹教育大學 152 0602.csv\n037新竹教育大學 152 0603.csv\n037新竹教育大學 152 0604.csv\n037新竹教育大學 152 0605.csv\n037新竹教育大學 152 0606.csv\n037新竹教育大學 152 0608.csv\n038台東 172 0101.csv\n038台東 172 0301.csv\n038台東 172 0401.csv\n038台東 172 0402.csv\n038台東 172 0403.csv\n038台東 172 0404.csv\n038台東 172 0602.csv\n038台東 172 0603.csv\n038台東 172 0606.csv\n038台東 172 0607.csv\n038台東 172 0608.csv\n038台東 172 0609.csv\n038台東 172 0701.csv\n038台東 172 0801.csv\n050實踐 342 0101.csv\n050實踐 342 0301.csv\n050實踐 342 0401.csv\n050實踐 342 0402.csv\n050實踐 342 0403.csv\n050實踐 342 0601.csv\n"
     ]
    },
    {
     "name": "stdout",
     "output_type": "stream",
     "text": [
      "050實踐 342 0602.csv\n050實踐 342 0603.csv\n050實踐 342 0604.csv\n050實踐 342 0606.csv\n050實踐 342 0608.csv\n050實踐 342 0609.csv\n050實踐 342 0701.csv\n"
     ]
    },
    {
     "name": "stdout",
     "output_type": "stream",
     "text": [
      "056台灣藝術大學 082 0401.csv\n056台灣藝術大學 082 0402.csv\n056台灣藝術大學 082 0403.csv\n056台灣藝術大學 082 0404.csv\n056台灣藝術大學 102 0601.csv\n056台灣藝術大學 102 0602.csv\n056台灣藝術大學 102 0603.csv\n056台灣藝術大學 102 0604.csv\n056台灣藝術大學 102 0605.csv\n056台灣藝術大學 102 0606.csv\n056台灣藝術大學 102 0607.csv\n056台灣藝術大學 102 0608.csv\n079真理 242 0101.csv\n079真理 242 0301.csv\n079真理 242 0401.csv\n079真理 242 0402.csv\n079真理 242 0403.csv\n079真理 242 0404.csv\n079真理 242 0601.csv\n079真理 242 0602.csv\n079真理 242 0603.csv\n079真理 242 0605.csv\n079真理 242 0606.csv\n079真理 242 0607.csv\n079真理 242 0608.csv\n079真理 242 0609.csv\n079真理 242 0701.csv\n079真理 242 0801.csv\n100嘉義"
     ]
    },
    {
     "name": "stdout",
     "output_type": "stream",
     "text": [
      " 392 0101.csv\n100嘉義 392 0301.csv\n100嘉義 392 0401.csv\n100嘉義 392 0402.csv\n100嘉義 392 0403.csv\n100嘉義 392 0404.csv\n100嘉義 392 0601.csv\n100嘉義 392 0602.csv\n100嘉義 392 0603.csv\n100嘉義 392 0605.csv\n100嘉義 392 0606.csv\n100嘉義 392 0607.csv\n100嘉義 392 0608.csv\n100嘉義 392 0609.csv\n100嘉義 392 0701.csv\n100嘉義 392 0801.csv\n"
     ]
    }
   ],
   "source": [
    "#並非crossdept且在學校資料夾內的資料夾\n",
    "for j in files2:\n",
    "    path = \"D:\\PythonPractice\\RA/105/{}\".format(j)\n",
    "    files= os.listdir(path)\n",
    "    for k in files:\n",
    "        path3 = 'D:\\PythonPractice\\RA/105/{}/{}'.format(j,k)\n",
    "        try:\n",
    "            files3 = os.listdir(path3)\n",
    "            for l in files3:\n",
    "                try:\n",
    "                    df = pd.read_csv('D:\\PythonPractice\\RA/105/{}/{}/{}'.format(j,k,l),engine='python')\n",
    "                    school = df['V4']\n",
    "                    第一階段通過學校 = school.str.split(\" \").str.get(0).str.title()\n",
    "                    第一階段通過科系 = school.str.split(\" \").str.get(1).str.title()\n",
    "                    a = df['V1']\n",
    "                    錄取 = []\n",
    "                    for i in a:\n",
    "                        try:\n",
    "                            錄取.append(''.join([k for k in i if not k.isdigit()]))\n",
    "                        except:\n",
    "                            錄取.append(i)\n",
    "                    序 = []\n",
    "                    for i in a:\n",
    "                        try:\n",
    "                            序.append(''.join([k for k in i if k.isdigit()]))\n",
    "                        except:\n",
    "                            序.append(i)\n",
    "                    b = df['V5']\n",
    "                    第二階段錄取 = []\n",
    "                    for i in b:\n",
    "                        try:\n",
    "                            第二階段錄取.append(''.join([k for k in i if not k.isdigit()]))\n",
    "                        except:\n",
    "                            第二階段錄取.append(i)\n",
    "                    第二階段序 = []\n",
    "                    for i in b:\n",
    "                        try:\n",
    "                            第二階段序.append(''.join([k for k in i if k.isdigit()]))\n",
    "                        except:\n",
    "                            第二階段序.append(i)\n",
    "                    學校 = [第一階段通過學校[0]]\n",
    "                    科系 = [第一階段通過科系[0]]\n",
    "                    c = df['V2']\n",
    "                    准考證號碼 = []\n",
    "                    for i in c:\n",
    "                        try:\n",
    "                            准考證號碼.append(''.join([k for k in i if k.isdigit()]))\n",
    "                        except:\n",
    "                            准考證號碼.append(i)\n",
    "                    d = df['V3']\n",
    "                    姓名 = []\n",
    "                    for i in d:\n",
    "                        try:\n",
    "                            姓名.append(''.join([k for k in i if not k.isdigit()]))\n",
    "                        except:\n",
    "                            姓名.append(i)\n",
    "                    結果 = df['V7']\n",
    "                    var = {\n",
    "                        '學校':學校,\n",
    "                        '科系':科系\n",
    "                    }\n",
    "                    final = {\n",
    "                        '錄取':錄取,\n",
    "                        '序':序,\n",
    "                        '准考證號碼':准考證號碼,\n",
    "                        '姓名':姓名,\n",
    "                        '第一階段通過學校':第一階段通過學校,\n",
    "                        '第一階段通過科系':第一階段通過科系,\n",
    "                        '第二階段錄取':第二階段錄取,\n",
    "                        '第二階段序':第二階段序,\n",
    "                        '結果':結果\n",
    "                    }\n",
    "                    df1 = pd.DataFrame(var)\n",
    "                    df2 = pd.DataFrame(final)\n",
    "                    result = pd.concat([df1,df2],axis = 1)\n",
    "                    result.to_excel('D:\\PythonPractice\\RA/105-2/{}/{}.xls'.format(j,科系[0]),index=False)\n",
    "                except:\n",
    "                    print(j,k,l)\n",
    "        except:\n",
    "            pass"
   ]
  },
  {
   "cell_type": "code",
   "execution_count": 22,
   "metadata": {
    "collapsed": true
   },
   "outputs": [],
   "source": [
    "#並非crossdept且在學校資料夾內的資料夾(特殊:無V7)\n",
    "for j in files2:\n",
    "    path = \"D:\\PythonPractice\\RA/105/{}\".format(j)\n",
    "    files= os.listdir(path)\n",
    "    for k in files:\n",
    "        path3 = 'D:\\PythonPractice\\RA/105/{}/{}'.format(j,k)\n",
    "        try:\n",
    "            files3 = os.listdir(path3)\n",
    "            for l in files3:\n",
    "                try:\n",
    "                    df = pd.read_csv('D:\\PythonPractice\\RA/105/{}/{}/{}'.format(j,k,l),engine='python')\n",
    "                    school = df['V4']\n",
    "                    第一階段通過學校 = school.str.split(\" \").str.get(0).str.title()\n",
    "                    第一階段通過科系 = school.str.split(\" \").str.get(1).str.title()\n",
    "                    a = df['V1']\n",
    "                    錄取 = []\n",
    "                    for i in a:\n",
    "                        try:\n",
    "                            錄取.append(''.join([k for k in i if not k.isdigit()]))\n",
    "                        except:\n",
    "                            錄取.append(i)\n",
    "                    序 = []\n",
    "                    for i in a:\n",
    "                        try:\n",
    "                            序.append(''.join([k for k in i if k.isdigit()]))\n",
    "                        except:\n",
    "                            序.append(i)\n",
    "                    b = df['V5']\n",
    "                    第二階段錄取 = []\n",
    "                    for i in b:\n",
    "                        try:\n",
    "                            第二階段錄取.append(''.join([k for k in i if not k.isdigit()]))\n",
    "                        except:\n",
    "                            第二階段錄取.append(i)\n",
    "                    第二階段序 = []\n",
    "                    for i in b:\n",
    "                        try:\n",
    "                            第二階段序.append(''.join([k for k in i if k.isdigit()]))\n",
    "                        except:\n",
    "                            第二階段序.append(i)\n",
    "                    學校 = [第一階段通過學校[0]]\n",
    "                    科系 = [第一階段通過科系[0]]\n",
    "                    c = df['V2']\n",
    "                    准考證號碼 = []\n",
    "                    for i in c:\n",
    "                        try:\n",
    "                            准考證號碼.append(''.join([k for k in i if k.isdigit()]))\n",
    "                        except:\n",
    "                            准考證號碼.append(i)\n",
    "                    d = df['V3']\n",
    "                    姓名 = []\n",
    "                    for i in d:\n",
    "                        try:\n",
    "                            姓名.append(''.join([k for k in i if not k.isdigit()]))\n",
    "                        except:\n",
    "                            姓名.append(i)\n",
    "                    特殊分辨 = df['V6']\n",
    "                    var = {\n",
    "                        '學校':學校,\n",
    "                        '科系':科系\n",
    "                    }\n",
    "                    final = {\n",
    "                        '錄取':錄取,\n",
    "                        '序':序,\n",
    "                        '准考證號碼':准考證號碼,\n",
    "                        '姓名':姓名,\n",
    "                        '第一階段通過學校':第一階段通過學校,\n",
    "                        '第一階段通過科系':第一階段通過科系,\n",
    "                        '第二階段錄取':第二階段錄取,\n",
    "                        '第二階段序':第二階段序,\n",
    "                    }\n",
    "                    df1 = pd.DataFrame(var)\n",
    "                    df2 = pd.DataFrame(final)\n",
    "                    result = pd.concat([df1,df2],axis = 1)\n",
    "                    result.to_excel('D:\\PythonPractice\\RA/105-2/{}/{}.xls'.format(j,科系[0]),index=False)\n",
    "                except:\n",
    "                    pass\n",
    "        except:\n",
    "            pass"
   ]
  },
  {
   "cell_type": "code",
   "execution_count": null,
   "metadata": {},
   "outputs": [],
   "source": []
  }
 ],
 "metadata": {
  "kernelspec": {
   "display_name": "Python 2",
   "language": "python",
   "name": "python2"
  },
  "language_info": {
   "codemirror_mode": {
    "name": "ipython",
    "version": 2
   },
   "file_extension": ".py",
   "mimetype": "text/x-python",
   "name": "python",
   "nbconvert_exporter": "python",
   "pygments_lexer": "ipython2",
   "version": "2.7.6"
  }
 },
 "nbformat": 4,
 "nbformat_minor": 0
}
