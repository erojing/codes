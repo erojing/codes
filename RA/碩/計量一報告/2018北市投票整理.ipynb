{
 "cells": [
  {
   "cell_type": "code",
   "execution_count": 1,
   "metadata": {
    "collapsed": true
   },
   "outputs": [],
   "source": [
    "import matplotlib.pyplot as plt\n",
    "import numpy as np\n",
    "import pandas as pd"
   ]
  },
  {
   "cell_type": "code",
   "execution_count": 4,
   "metadata": {},
   "outputs": [],
   "source": [
    "df = pd.read_excel('D:\\PythonPractice\\整理後資料.xlsx')"
   ]
  },
  {
   "cell_type": "code",
   "execution_count": 25,
   "metadata": {},
   "outputs": [],
   "source": [
    "var1=np.array(df['柯變異數'])\n",
    "var2=np.array(df['10變異數'])"
   ]
  },
  {
   "cell_type": "code",
   "execution_count": 21,
   "metadata": {},
   "outputs": [],
   "source": [
    "def varcovar(array):\n",
    "    k = 0\n",
    "    varnew = np.zeros(shape=(len(array),len(array))) \n",
    "    for i in array:\n",
    "        x = np.zeros(len(array))\n",
    "        x[k] = i\n",
    "        varnew[k] = x\n",
    "        k = k+1\n",
    "    return varnew"
   ]
  },
  {
   "cell_type": "code",
   "execution_count": 26,
   "metadata": {},
   "outputs": [],
   "source": [
    "var1 = varcovar(var1)\n",
    "var2 = varcovar(var2)"
   ]
  },
  {
   "cell_type": "code",
   "execution_count": 46,
   "metadata": {},
   "outputs": [],
   "source": [
    "x1 = np.transpose(np.array([np.ones(len(var1)),df['65歲以上比例'],df['大學以上比例']]))\n",
    "x2 = np.transpose(np.array([np.ones(len(var2)),df['50歲以上比例'],df['大學以上比例']]))"
   ]
  },
  {
   "cell_type": "code",
   "execution_count": 42,
   "metadata": {},
   "outputs": [],
   "source": [
    "y1 = np.array(df['柯得票率'])\n",
    "y2 = np.array(df['10同意率'])"
   ]
  },
  {
   "cell_type": "code",
   "execution_count": 44,
   "metadata": {},
   "outputs": [],
   "source": [
    "var1in=np.linalg.inv(var1)\n",
    "var2in=np.linalg.inv(var2)"
   ]
  },
  {
   "cell_type": "code",
   "execution_count": 49,
   "metadata": {},
   "outputs": [],
   "source": [
    "def beta(x,y,inv):\n",
    "    a = np.linalg.inv(np.dot(np.dot(np.transpose(x),inv),x))\n",
    "    b = np.dot(np.dot(np.transpose(x),inv),y)\n",
    "    c = np.dot(a,b)\n",
    "    return c"
   ]
  },
  {
   "cell_type": "code",
   "execution_count": 53,
   "metadata": {},
   "outputs": [
    {
     "name": "stdout",
     "output_type": "stream",
     "text": [
      "[ 0.55879114 -0.17747431 -0.37306017]\n[ 0.39928841 -0.09193094  0.03900179]\n"
     ]
    }
   ],
   "source": [
    "beta1 = beta(x1,y1,var1in)\n",
    "beta2 = beta(x2,y2,var2in)\n",
    "print(beta1)\n",
    "print(beta2)"
   ]
  },
  {
   "cell_type": "code",
   "execution_count": 141,
   "metadata": {},
   "outputs": [],
   "source": [
    "R = varcovar([1,1])\n",
    "rvalue = np.array([0])\n",
    "ehat1 = y1-np.dot(x1,beta1)\n",
    "ehat2 = y2-np.dot(x2,beta2)\n",
    "sigma1 = np.dot(np.transpose(ehat1),ehat1)/(len(y1)-2)\n",
    "sigma2 = np.dot(np.transpose(ehat2),ehat2)/(len(y2)-2)"
   ]
  },
  {
   "cell_type": "code",
   "execution_count": 79,
   "metadata": {},
   "outputs": [],
   "source": [
    "def Ftest(R,beta,x,rvalue,q,sigmahat):\n",
    "    a = np.transpose(np.dot(R,beta)-rvalue)\n",
    "    b = np.linalg.inv(np.dot(np.dot(R,np.linalg.inv(np.dot(np.transpose(x),x))),np.transpose(R)))\n",
    "    c = np.transpose(a)\n",
    "    w = np.dot(np.dot(a,b),c)/(q*sigmahat)\n",
    "    return w"
   ]
  },
  {
   "cell_type": "code",
   "execution_count": 105,
   "metadata": {},
   "outputs": [
    {
     "name": "stdout",
     "output_type": "stream",
     "text": [
      "429.068384259467 110.81582242152201\n"
     ]
    }
   ],
   "source": [
    "F1 = Ftest(R,beta1[1:],x1[:,1:],rvalue,2,sigma1)\n",
    "F2 = Ftest(R,beta2[1:],x2[:,1:],rvalue,2,sigma2)\n",
    "print(F1,F2)"
   ]
  },
  {
   "cell_type": "code",
   "execution_count": 145,
   "metadata": {},
   "outputs": [],
   "source": [
    "def Rsquare(y,sigma):\n",
    "    k = 0\n",
    "    for i in y:\n",
    "        k = k + np.square(i - np.mean(y))\n",
    "    R = 1-(sigma/(k/(len(y)-1)))\n",
    "    return R"
   ]
  },
  {
   "cell_type": "code",
   "execution_count": 151,
   "metadata": {},
   "outputs": [
    {
     "name": "stdout",
     "output_type": "stream",
     "text": [
      "0.3354847623420346 0.04766194823937242\n"
     ]
    }
   ],
   "source": [
    "R1 = Rsquare(y1,sigma1)\n",
    "R2 = Rsquare(y2,sigma2)\n",
    "print(R1,R2)"
   ]
  },
  {
   "cell_type": "code",
   "execution_count": 148,
   "metadata": {},
   "outputs": [
    {
     "name": "stdout",
     "output_type": "stream",
     "text": [
      "5.576446969696969e-05\n"
     ]
    }
   ],
   "source": [
    "k = 0\n",
    "for i in y2:\n",
    "    k = k + np.square(i - np.mean(y2))\n",
    "print(k/(len(y2)-1))\n"
   ]
  },
  {
   "cell_type": "code",
   "execution_count": 149,
   "metadata": {},
   "outputs": [
    {
     "data": {
      "text/plain": [
       "0.9523380517606276"
      ]
     },
     "execution_count": 149,
     "metadata": {},
     "output_type": "execute_result"
    }
   ],
   "source": [
    "sigma2/(k/11)"
   ]
  },
  {
   "cell_type": "code",
   "execution_count": 129,
   "metadata": {},
   "outputs": [
    {
     "data": {
      "text/plain": [
       "5.310662642867667e-05"
      ]
     },
     "execution_count": 129,
     "metadata": {},
     "output_type": "execute_result"
    }
   ],
   "source": [
    "np.dot(np.transpose(ehat2),ehat2)/(len(y2)-2)"
   ]
  },
  {
   "cell_type": "code",
   "execution_count": 150,
   "metadata": {},
   "outputs": [
    {
     "data": {
      "text/plain": [
       "5.310662642867667e-05"
      ]
     },
     "execution_count": 150,
     "metadata": {},
     "output_type": "execute_result"
    }
   ],
   "source": [
    "sigma2"
   ]
  },
  {
   "cell_type": "code",
   "execution_count": null,
   "metadata": {},
   "outputs": [],
   "source": []
  }
 ],
 "metadata": {
  "kernelspec": {
   "display_name": "Python 2",
   "language": "python",
   "name": "python2"
  },
  "language_info": {
   "codemirror_mode": {
    "name": "ipython",
    "version": 2
   },
   "file_extension": ".py",
   "mimetype": "text/x-python",
   "name": "python",
   "nbconvert_exporter": "python",
   "pygments_lexer": "ipython2",
   "version": "2.7.6"
  }
 },
 "nbformat": 4,
 "nbformat_minor": 0
}
