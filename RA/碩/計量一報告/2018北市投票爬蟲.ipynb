{
 "cells": [
  {
   "cell_type": "code",
   "execution_count": 1,
   "metadata": {
    "collapsed": true
   },
   "outputs": [],
   "source": [
    "interest = ['01','02','03','04','05','06','07','08','09','10','11','12']"
   ]
  },
  {
   "cell_type": "code",
   "execution_count": 2,
   "metadata": {},
   "outputs": [],
   "source": [
    "import pandas as pd\n",
    "def getref(url):\n",
    "    res = requests.get(url)       \n",
    "    soup=BeautifulSoup(res.text,'lxml')\n",
    "    dfs = pd.read_html(res.text) \n",
    "    votes=dfs[0]\n",
    "    votes.drop([0,1,3,6],axis=1,inplace=True)\n",
    "    votes.drop([0,2,3,4,6,7],axis=0,inplace=True)\n",
    "    votes.columns=votes.loc[1]\n",
    "    votes.drop([1],axis=0,inplace=True)\n",
    "    area=soup.select_one('b').text\n",
    "    votes['投票地區']=area\n",
    "    return votes"
   ]
  },
  {
   "cell_type": "code",
   "execution_count": 4,
   "metadata": {},
   "outputs": [],
   "source": [
    "import requests\n",
    "import pandas as pd\n",
    "from bs4 import BeautifulSoup"
   ]
  },
  {
   "cell_type": "code",
   "execution_count": 5,
   "metadata": {},
   "outputs": [],
   "source": [
    "domain = 'http://vote.2018.nat.gov.tw/pc/zh_TW/TC/n6300000'\n",
    "tail = '00000000.html'\n",
    "results = []\n",
    "for ele in interest:\n",
    "    results.append(getref(domain + ele + tail))"
   ]
  },
  {
   "cell_type": "code",
   "execution_count": 13,
   "metadata": {},
   "outputs": [],
   "source": [
    "results = pd.concat(results)"
   ]
  },
  {
   "cell_type": "code",
   "execution_count": 15,
   "metadata": {},
   "outputs": [],
   "source": [
    "writer = pd.ExcelWriter('D:\\PythonPractice\\win.xlsx')\n",
    "results.to_excel(writer,sheet_name='votes')\n",
    "writer.save()"
   ]
  },
  {
   "cell_type": "code",
   "execution_count": 16,
   "metadata": {},
   "outputs": [],
   "source": [
    "domain2 = 'http://referendum.2018.nat.gov.tw/pc/zh_TW/04/6300000'\n",
    "tail2 = '00000000.html'"
   ]
  },
  {
   "cell_type": "code",
   "execution_count": 26,
   "metadata": {},
   "outputs": [],
   "source": [
    "def getref2(url):\n",
    "    res = requests.get(url)       \n",
    "    soup=BeautifulSoup(res.text,'lxml')\n",
    "    dfs = pd.read_html(res.text) \n",
    "    votes=dfs[2]\n",
    "    votes.columns=votes.loc[1]\n",
    "    votes.drop([0,1,3,4],axis=0,inplace=True)\n",
    "    votes.reset_index(drop=True,inplace=True)\n",
    "    totalvotes = dfs[3]\n",
    "    totalvotes.columns=totalvotes.loc[0]\n",
    "    totalvotes.drop([0,2,3],axis=0,inplace=True)\n",
    "    totalvotes.reset_index(drop=True,inplace=True)\n",
    "    m = pd.concat([votes,totalvotes],axis=1)\n",
    "    area=soup.select_one('b').text\n",
    "    m['投票地區']=area\n",
    "    return m\n",
    "results2 = []\n",
    "for ele in interest:\n",
    "    results2.append(getref2(domain2 + ele + tail2))"
   ]
  },
  {
   "cell_type": "code",
   "execution_count": 27,
   "metadata": {},
   "outputs": [],
   "source": [
    "results2 = pd.concat(results2)\n",
    "writer = pd.ExcelWriter('D:\\PythonPractice\\policy.xlsx')\n",
    "results2.to_excel(writer,sheet_name='10')\n",
    "writer.save()"
   ]
  },
  {
   "cell_type": "code",
   "execution_count": 64,
   "metadata": {},
   "outputs": [],
   "source": [
    "r01=list(range(527,644))\n",
    "r02=list(range(644,786))\n",
    "r03=list(range(1214,1402))\n",
    "r04=list(range(786,918))\n",
    "r05=list(range(1001,1097))\n",
    "r06=list(range(919,1001))\n",
    "r07=list(range(1097,1214))\n",
    "r08=list(range(1402,1564))\n",
    "r09=list(range(455,527))\n",
    "r10=list(range(305,455))\n",
    "r11=list(range(142,305))\n",
    "r12=list(range(1,142))\n",
    "domain = 'http://vote.2018.nat.gov.tw/pc/zh_TW/TC/n6300000'\n",
    "results3=[]"
   ]
  },
  {
   "cell_type": "code",
   "execution_count": 66,
   "metadata": {},
   "outputs": [],
   "source": [
    "def detail(results,domain):\n",
    "    for ele in interest:\n",
    "        if ele == '01':\n",
    "            for i in r01:\n",
    "                results.append(getref(domain + ele + '00000' + str(i) + '.html'))\n",
    "        if ele == '02':\n",
    "            for i in r02:\n",
    "                results.append(getref(domain + ele + '00000' + str(i) + '.html'))\n",
    "        if ele == '03':\n",
    "            for i in r03:\n",
    "                results.append(getref(domain + ele + '0000' +str(i) + '.html'))\n",
    "        if ele == '04':\n",
    "            for i in r04:\n",
    "                results.append(getref(domain + ele + '00000' + str(i) + '.html'))\n",
    "        if ele == '05':\n",
    "            for i in r05:\n",
    "                results.append(getref(domain + ele + '0000' +str(i) + '.html'))\n",
    "        if ele == '06':\n",
    "            for i in r06:\n",
    "                if i<1000:\n",
    "                    results.append(getref(domain + ele + '00000' + str(i) + '.html'))\n",
    "                else:\n",
    "                    results.append(getref(domain + ele + '0000' +str(i) + '.html'))\n",
    "        if ele == '07':\n",
    "            for i in r07:\n",
    "                results.append(getref(domain + ele + '0000' +str(i) + '.html'))\n",
    "        if ele == '08':\n",
    "            for i in r08:\n",
    "                results.append(getref(domain + ele + '0000' +str(i) + '.html'))\n",
    "        if ele == '09':\n",
    "            for i in r09:\n",
    "                results.append(getref(domain + ele + '00000' + str(i) + '.html'))\n",
    "        if ele == '10':\n",
    "            for i in r10:\n",
    "                results.append(getref(domain + ele + '00000' + str(i) + '.html'))\n",
    "        if ele == '11':\n",
    "            for i in r11:\n",
    "                results.append(getref(domain + ele + '00000' + str(i) + '.html'))\n",
    "        if ele == '12':\n",
    "            for i in r12:\n",
    "                if i < 10:\n",
    "                    results.append(getref(domain + ele + '0000000' + str(i) + '.html'))\n",
    "                elif i > 99:\n",
    "                    results.append(getref(domain + ele + '00000' + str(i) + '.html'))\n",
    "                else:\n",
    "                    results.append(getref(domain + ele + '000000' + str(i) + '.html'))"
   ]
  },
  {
   "cell_type": "code",
   "execution_count": 67,
   "metadata": {},
   "outputs": [],
   "source": [
    "results3 = pd.concat(detail(results3,domain))\n",
    "writer = pd.ExcelWriter('D:\\PythonPractice\\win2.xlsx')\n",
    "results3.to_excel(writer,sheet_name='votes')\n",
    "writer.save()"
   ]
  },
  {
   "cell_type": "code",
   "execution_count": 68,
   "metadata": {},
   "outputs": [],
   "source": [
    "results4=[]\n",
    "for ele in interest:\n",
    "    if ele == '01':\n",
    "        for i in r01:\n",
    "            results4.append(getref2(domain2 + ele + '00000' + str(i) + '.html'))\n",
    "    if ele == '02':\n",
    "        for i in r02:\n",
    "            results4.append(getref2(domain2 + ele + '00000' + str(i) + '.html'))\n",
    "    if ele == '03':\n",
    "        for i in r03:\n",
    "            results4.append(getref2(domain2 + ele + '0000' +str(i) + '.html'))\n",
    "    if ele == '04':\n",
    "        for i in r04:\n",
    "            results4.append(getref2(domain2 + ele + '00000' + str(i) + '.html'))\n",
    "    if ele == '05':\n",
    "        for i in r05:\n",
    "            results4.append(getref2(domain2 + ele + '0000' +str(i) + '.html'))\n",
    "    if ele == '06':\n",
    "        for i in r06:\n",
    "            if i<1000:\n",
    "                results4.append(getref2(domain2 + ele + '00000' + str(i) + '.html'))\n",
    "            else:\n",
    "                results4.append(getref2(domain2 + ele + '0000' +str(i) + '.html'))\n",
    "    if ele == '07':\n",
    "        for i in r07:\n",
    "            results4.append(getref2(domain2 + ele + '0000' +str(i) + '.html'))\n",
    "    if ele == '08':\n",
    "        for i in r08:\n",
    "            results4.append(getref2(domain2 + ele + '0000' +str(i) + '.html'))\n",
    "    if ele == '09':\n",
    "        for i in r09:\n",
    "            results4.append(getref2(domain2 + ele + '00000' + str(i) + '.html'))\n",
    "    if ele == '10':\n",
    "        for i in r10:\n",
    "            results4.append(getref2(domain2 + ele + '00000' + str(i) + '.html'))\n",
    "    if ele == '11':\n",
    "        for i in r11:\n",
    "            results4.append(getref2(domain2 + ele + '00000' + str(i) + '.html'))\n",
    "    if ele == '12':\n",
    "        for i in r12:\n",
    "            if i < 10:\n",
    "                results4.append(getref2(domain2 + ele + '0000000' + str(i) + '.html'))\n",
    "            elif i > 99:\n",
    "                results4.append(getref2(domain2 + ele + '00000' + str(i) + '.html'))\n",
    "            else:\n",
    "                results4.append(getref2(domain2 + ele + '000000' + str(i) + '.html'))"
   ]
  },
  {
   "cell_type": "code",
   "execution_count": 69,
   "metadata": {},
   "outputs": [],
   "source": [
    "results4 = pd.concat(detail(results4,domain2))\n",
    "writer = pd.ExcelWriter('D:\\PythonPractice\\policy2.xlsx')\n",
    "results4.to_excel(writer,sheet_name='10')\n",
    "writer.save()"
   ]
  },
  {
   "cell_type": "code",
   "execution_count": null,
   "metadata": {},
   "outputs": [],
   "source": []
  }
 ],
 "metadata": {
  "kernelspec": {
   "display_name": "Python 2",
   "language": "python",
   "name": "python2"
  },
  "language_info": {
   "codemirror_mode": {
    "name": "ipython",
    "version": 2
   },
   "file_extension": ".py",
   "mimetype": "text/x-python",
   "name": "python",
   "nbconvert_exporter": "python",
   "pygments_lexer": "ipython2",
   "version": "2.7.6"
  }
 },
 "nbformat": 4,
 "nbformat_minor": 0
}
