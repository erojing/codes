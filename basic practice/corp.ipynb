{
 "cells": [
  {
   "cell_type": "code",
   "execution_count": 1,
   "metadata": {},
   "outputs": [],
   "source": [
    "import numpy as np\n",
    "import pandas as pd \n",
    "import re "
   ]
  },
  {
   "cell_type": "code",
   "execution_count": 2,
   "metadata": {},
   "outputs": [],
   "source": [
    "col_dict = {\"corp_id\":str, \"corp_name\":str, \"website\":str, \"公司代號\":str}\n",
    "corp = pd.read_excel('C:/Users/user/Downloads/corp_website_done (1).xlsx',dtype=col_dict)"
   ]
  },
  {
   "cell_type": "code",
   "execution_count": 3,
   "metadata": {},
   "outputs": [],
   "source": [
    "corp['OBU']=corp['corp_id'].map(lambda x:bool(re.search('[a-zA-Z]',x)))"
   ]
  },
  {
   "cell_type": "code",
   "execution_count": 4,
   "metadata": {},
   "outputs": [],
   "source": [
    "def type_check(row):\n",
    "    if row['公司名稱'] is not np.nan:\n",
    "        output='上市櫃'\n",
    "    elif row['OBU']==True:\n",
    "        output='海外'\n",
    "    else:\n",
    "        output='中小企業/獨資'\n",
    "    return output"
   ]
  },
  {
   "cell_type": "code",
   "execution_count": 5,
   "metadata": {},
   "outputs": [],
   "source": [
    "corp['備註'] = corp.apply(type_check,axis=1)"
   ]
  },
  {
   "cell_type": "code",
   "execution_count": 6,
   "metadata": {},
   "outputs": [],
   "source": [
    "def final_name(row):\n",
    "    if row['corp_name_web'] is not np.nan:\n",
    "        name = row['corp_name_web']\n",
    "    elif row['comm_name'] is not np.nan:\n",
    "        name = row['comm_name']\n",
    "    else:\n",
    "        name = row['branch_name']\n",
    "    return name"
   ]
  },
  {
   "cell_type": "code",
   "execution_count": 7,
   "metadata": {},
   "outputs": [],
   "source": [
    "corp['final name'] = corp.apply(final_name,axis=1)"
   ]
  },
  {
   "cell_type": "code",
   "execution_count": 8,
   "metadata": {},
   "outputs": [],
   "source": [
    "corp.to_excel('C:/Users/user/Downloads/corp_final.xlsx',index=False)"
   ]
  }
 ],
 "metadata": {
  "kernelspec": {
   "display_name": "Python 3.7.11",
   "language": "python",
   "name": "python3"
  },
  "language_info": {
   "codemirror_mode": {
    "name": "ipython",
    "version": 3
   },
   "file_extension": ".py",
   "mimetype": "text/x-python",
   "name": "python",
   "nbconvert_exporter": "python",
   "pygments_lexer": "ipython3",
   "version": "3.7.11"
  },
  "orig_nbformat": 4,
  "vscode": {
   "interpreter": {
    "hash": "8ff56f40573db3d12d7a42873a727db0057b53b940618814c8caf34798970a91"
   }
  }
 },
 "nbformat": 4,
 "nbformat_minor": 2
}
