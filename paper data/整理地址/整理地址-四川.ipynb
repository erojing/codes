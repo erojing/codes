{
 "cells": [
  {
   "cell_type": "code",
   "execution_count": 1,
   "metadata": {},
   "outputs": [],
   "source": [
    "import pandas as pd\n",
    "import numpy as np\n",
    "import matplotlib.pyplot as plt\n",
    "import re\n",
    "import time\n",
    "import datetime\n",
    "import geocoder\n",
    "pd.set_option('display.max_rows',500)\n",
    "pd.set_option('display.max_columns',50)\n",
    "pd.set_option('max_colwidth',200)\n",
    "%matplotlib inline\n",
    "import requests\n",
    "import json\n",
    "import urllib\n",
    "from urllib.request import urlopen\n",
    "\n",
    "def getGeoForAddress(address):\n",
    "    add = urllib.parse.quote(address)\n",
    "    addressUrl = \"https://maps.googleapis.com/maps/api/geocode/json?address=\" + add + '&key='\n",
    "    res = requests.get(addressUrl)\n",
    "    js = json.loads(res.text)\n",
    "    if js.get('results'):\n",
    "        lat = js.get('results')[0]['geometry']['location']['lat']\n",
    "        lng = js.get('results')[0]['geometry']['location']['lng']\n",
    "    else:\n",
    "        lat = ''\n",
    "        lng = ''\n",
    "    return [lat, lng]\n",
    "def ngram(text, n=3, pad=True):\n",
    "    text = text.strip()\n",
    "    if pad:\n",
    "        text = \" %s \" % text\n",
    "    return set([text[i:i+n] for i in range(len(text)-n+1)])\n",
    "    \n",
    "def create_ngram(text1, text2, n=3, pad=True):\n",
    "    return ngram(text1, n=n, pad=pad), ngram(text2, n=n, pad=pad)\n",
    "\n",
    "def tversky_index(text1, text2, a=None, b=None, q=3, pad=True):\n",
    "    text1, text2 = create_ngram(text1, text2, n=q, pad=pad)\n",
    "    agree_tot = len(text1.intersection(text2))\n",
    "    v1 = len(text1) - agree_tot\n",
    "    v2 = len(text2) - agree_tot\n",
    "    \n",
    "    if a != None and b != None:\n",
    "        a = a/float(a+b)\n",
    "        b = b/float(a+b)\n",
    "    elif a <= 1.0 and a >= 0.0:\n",
    "        b = 1-a\n",
    "    elif b <= 1.0 and b >= 0.0:\n",
    "        a = 1-b\n",
    "    else:\n",
    "        a = 0.5\n",
    "        b = 0.5        \n",
    "    return float(agree_tot)/(agree_tot+a*v1+b*v2)\n",
    "# incoPat為申請人list\n",
    "def fuzzy(incoPat,indus):\n",
    "    corptype = ['有限','公司','责任','集团','股份','控股']\n",
    "    text1 = incoPat\n",
    "    text2 = indus\n",
    "    incoPat_nor = []   \n",
    "    for text in text1:\n",
    "        for i in corptype:\n",
    "            if i in text:\n",
    "                text = re.sub(i,'',text)\n",
    "        incoPat_nor.append(text)\n",
    "    for i in corptype:\n",
    "        if i in text2:\n",
    "            text2 = re.sub(i,'',text2)\n",
    "    similar = []\n",
    "    for text in incoPat_nor:\n",
    "        dice = tversky_index(text,text2, a=0.5, q=min(2,len(text),len(text2)), pad=False)\n",
    "        if dice>0.7:\n",
    "            similar.append([incoPat[incoPat_nor.index(text)],dice])\n",
    "        else:\n",
    "            pass\n",
    "    if len(similar)>0:\n",
    "        return similar[[k[1] for k in similar].index(max([i[1] for i in similar]))][0]\n",
    "    else:\n",
    "        return indus\n",
    "city_code = pd.read_excel('C:/Users/user/Dropbox/paper/科技園區/China/省地縣碼對照.xls')\n",
    "city_code = city_code[~city_code['代碼'].isnull()].drop(['标注','说明'],axis=1)\n",
    "city_code['代碼_str'] = city_code['代碼'].apply(lambda x:str(int(x)))\n",
    "city_code = city_code.drop('代碼',axis=1)"
   ]
  },
  {
   "cell_type": "markdown",
   "metadata": {},
   "source": [
    "# 四川資料整合"
   ]
  },
  {
   "cell_type": "code",
   "execution_count": 2,
   "metadata": {},
   "outputs": [],
   "source": [
    "df1 = pd.read_excel(r'E:\\paper\\專利資料-新型&授權\\新型授權-四川1.xls')\n",
    "df2 = pd.read_excel(r'E:\\paper\\專利資料-新型&授權\\新型授權-四川2.xls')\n",
    "df3 = pd.read_excel(r'E:\\paper\\專利資料-新型&授權\\新型授權-四川3.xls')\n",
    "df4 = pd.read_excel(r'E:\\paper\\專利資料-新型&授權\\新型授權-四川4.xls')\n",
    "\n",
    "patent_df = pd.concat([df1,df2,df3,df4],ignore_index=True,sort=True)"
   ]
  },
  {
   "cell_type": "code",
   "execution_count": 4,
   "metadata": {},
   "outputs": [
    {
     "name": "stderr",
     "output_type": "stream",
     "text": [
      "D:\\Anaconda\\lib\\site-packages\\IPython\\core\\interactiveshell.py:3058: DtypeWarning: Columns (0,3,16) have mixed types. Specify dtype option on import or set low_memory=False.\n",
      "  interactivity=interactivity, compiler=compiler, result=result)\n"
     ]
    }
   ],
   "source": [
    "#for PC\n",
    "patent_df = patent_df[patent_df['专利类型']=='发明授权']\n",
    "patent_df = patent_df[patent_df['申请人地址'].map(lambda x:len(re.findall(r'\\D+[\\s\\S]+',x)))==1]\n",
    "patent_df['申请人地址'] = patent_df['申请人地址'].map(lambda x:re.findall(r'\\D+[\\s\\S]+',x)[0])\n",
    "patent_df['申请人地址'] = patent_df['申请人地址'].map(lambda x:re.sub(r\"\\s+\", \"\",x))\n",
    "patent_df_firm = patent_df[patent_df['申请人类型'].str.contains('企业')]\n",
    "applicant = patent_df_firm['申请人'].str.split(';',expand=True).stack().reset_index(level=1,drop=True).rename('申请人2')\n",
    "patent_df_firm = patent_df_firm.join(applicant)\n",
    "patent_df_firm['類別'] = patent_df_firm['申请人类型'].map(lambda x:x.strip().split('  '))\n",
    "patent_df_firm = patent_df_firm[~patent_df_firm['标题'].duplicated()]\n",
    "patent_df_firm['申请人类型'] = patent_df_firm.apply(lambda x:x['類別'][0],axis=1)\n",
    "patent_df_firm = patent_df_firm[patent_df_firm['申请人类型']=='企业'].sort_values('申请日')\n",
    "patent_df_firm.drop(['類別','申请人'],axis=1,inplace=True)\n",
    "patent_df_firm.rename(columns={'申请人2':'申请人'},inplace=True)\n",
    "patent_df_firm = patent_df_firm[patent_df_firm['申请日']<datetime.datetime.strptime('2013-01-01','%Y-%m-%d')]\n",
    "patent_df_firm.drop_duplicates('申请人地址', keep='last', inplace=True)\n",
    "patent_df_firm.drop_duplicates('申请人', keep='last', inplace=True)\n",
    "\n",
    "\n",
    "firm_df = pd.read_csv(r'E:\\paper\\Firm csv\\firm_data_2012.csv')\n",
    "firm_gd = firm_df[firm_df['區域代碼'].astype(str).str.contains(r'51\\d{10}')==True]\n",
    "firm_gd = firm_gd.loc[:,['法人代碼','企業名稱','地址','區域代碼','行業代碼']]\n",
    "firm_gd['區域代碼_str'] = firm_gd['區域代碼'].astype(str).map(lambda x:x[0:6])\n",
    "firm_gd = pd.merge(firm_gd,city_code,left_on='區域代碼_str',right_on='代碼_str',how='left')\n",
    "firm_gd['名稱'].fillna('',inplace=True)\n",
    "firm_gd['市級'].fillna('',inplace=True)\n",
    "firm_gd['省份'].fillna('',inplace=True)\n",
    "firm_gd['地址'].fillna('',inplace=True)\n",
    "firm_gd['地址'] = firm_gd['地址'].map(lambda x:re.sub(r\"\\s+\", \"\",x))\n",
    "firm_gd['地址'] = firm_gd.apply(lambda x:re.sub(x['省份'],\"\",x['地址']),axis=1)\n",
    "firm_gd['地址'] = firm_gd.apply(lambda x:re.sub(x['市級'],\"\",x['地址']),axis=1)\n",
    "firm_gd['地址'] = firm_gd.apply(lambda x:re.sub(x['名稱'],\"\",x['地址']),axis=1)\n",
    "firm_gd['地址'] = firm_gd['省份']+firm_gd['市級']+firm_gd['名稱']+firm_gd['地址']\n",
    "firm_gd.drop(['省份','市級','名稱','代碼_str'],axis=1,inplace=True)\n",
    "firm_gd.dropna(subset=['企業名稱'],inplace=True)"
   ]
  },
  {
   "cell_type": "code",
   "execution_count": 4,
   "metadata": {},
   "outputs": [],
   "source": [
    "patent_df_firm = patent_df_firm[patent_df_firm['申请日']>datetime.datetime.strptime('2007-12-31','%Y-%m-%d')]\n",
    "incoPat = list(patent_df_firm['申请人'])"
   ]
  },
  {
   "cell_type": "code",
   "execution_count": 5,
   "metadata": {},
   "outputs": [
    {
     "data": {
      "text/plain": [
       "(7445, 38)"
      ]
     },
     "execution_count": 5,
     "metadata": {},
     "output_type": "execute_result"
    }
   ],
   "source": [
    "patent_df_firm.shape"
   ]
  },
  {
   "cell_type": "code",
   "execution_count": 6,
   "metadata": {},
   "outputs": [
    {
     "data": {
      "text/plain": [
       "(11798, 6)"
      ]
     },
     "execution_count": 6,
     "metadata": {},
     "output_type": "execute_result"
    }
   ],
   "source": [
    "firm_gd.shape"
   ]
  },
  {
   "cell_type": "code",
   "execution_count": 7,
   "metadata": {},
   "outputs": [],
   "source": [
    "firm_gd['name_模糊比對'] = firm_gd['企業名稱'].map(lambda x:fuzzy(incoPat,x))"
   ]
  },
  {
   "cell_type": "code",
   "execution_count": 8,
   "metadata": {},
   "outputs": [],
   "source": [
    "firm_gd.to_excel(r'E:\\paper\\清理結果-新型&授權\\四川_廠商.xlsx')"
   ]
  },
  {
   "cell_type": "markdown",
   "metadata": {},
   "source": [
    "# 非模糊比對"
   ]
  },
  {
   "cell_type": "code",
   "execution_count": 9,
   "metadata": {},
   "outputs": [
    {
     "name": "stdout",
     "output_type": "stream",
     "text": [
      "(1943, 45)\n",
      "(17300, 45)\n"
     ]
    }
   ],
   "source": [
    "merge_df = firm_gd.merge(patent_df_firm,left_on='企業名稱',right_on='申请人',how='outer')\n",
    "merge_df.fillna('',inplace=True)\n",
    "print(merge_df[(merge_df['企業名稱']!='')&(merge_df['申请人']!='')].shape)\n",
    "print(merge_df.shape)"
   ]
  },
  {
   "cell_type": "code",
   "execution_count": 10,
   "metadata": {
    "collapsed": true
   },
   "outputs": [
    {
     "name": "stdout",
     "output_type": "stream",
     "text": [
      "(6338, 50)\n",
      "(13887, 50)\n"
     ]
    },
    {
     "name": "stderr",
     "output_type": "stream",
     "text": [
      "D:\\Anaconda\\lib\\site-packages\\pandas\\core\\strings.py:1843: UserWarning: This pattern has match groups. To actually get the groups, use str.extract.\n",
      "  return func(self, *args, **kwargs)\n",
      "D:\\Anaconda\\lib\\site-packages\\ipykernel_launcher.py:4: SettingWithCopyWarning: \n",
      "A value is trying to be set on a copy of a slice from a DataFrame.\n",
      "Try using .loc[row_indexer,col_indexer] = value instead\n",
      "\n",
      "See the caveats in the documentation: http://pandas.pydata.org/pandas-docs/stable/user_guide/indexing.html#returning-a-view-versus-a-copy\n",
      "  after removing the cwd from sys.path.\n",
      "D:\\Anaconda\\lib\\site-packages\\ipykernel_launcher.py:5: SettingWithCopyWarning: \n",
      "A value is trying to be set on a copy of a slice from a DataFrame.\n",
      "Try using .loc[row_indexer,col_indexer] = value instead\n",
      "\n",
      "See the caveats in the documentation: http://pandas.pydata.org/pandas-docs/stable/user_guide/indexing.html#returning-a-view-versus-a-copy\n",
      "  \"\"\"\n",
      "D:\\Anaconda\\lib\\site-packages\\pandas\\core\\indexing.py:376: SettingWithCopyWarning: \n",
      "A value is trying to be set on a copy of a slice from a DataFrame.\n",
      "Try using .loc[row_indexer,col_indexer] = value instead\n",
      "\n",
      "See the caveats in the documentation: http://pandas.pydata.org/pandas-docs/stable/user_guide/indexing.html#returning-a-view-versus-a-copy\n",
      "  self.obj[key] = _infer_fill_value(value)\n",
      "D:\\Anaconda\\lib\\site-packages\\pandas\\core\\indexing.py:494: SettingWithCopyWarning: \n",
      "A value is trying to be set on a copy of a slice from a DataFrame.\n",
      "Try using .loc[row_indexer,col_indexer] = value instead\n",
      "\n",
      "See the caveats in the documentation: http://pandas.pydata.org/pandas-docs/stable/user_guide/indexing.html#returning-a-view-versus-a-copy\n",
      "  self.obj[item] = s\n"
     ]
    }
   ],
   "source": [
    "merge_df['name'] = merge_df.apply(lambda x:x['申请人'] if x['申请人']!='' else x['企業名稱'],axis=1)\n",
    "merge_df['address'] = merge_df.apply(lambda x:x['申请人地址'] if x['申请人地址']!='' else x['地址'],axis=1)\n",
    "merge_df_clean = merge_df[merge_df['address'].str.contains(r'\\w+(街|道|路|巷|村|小区|园区|社区)')]\n",
    "merge_df_clean['address'] = merge_df_clean['address'].map(lambda x: x+'号' if ((x[-1].isdigit()) and (re.match(r'\\w+[街道路巷]',x))) else x)\n",
    "merge_df_clean['完整地址'] = merge_df_clean['address'].map(lambda x:1 if re.compile(r'\\w+[街道路巷]\\S+号').search(x) else 0)\n",
    "merge_df_clean.loc[:,'lat'] = 0\n",
    "merge_df_clean.loc[:,'lnt'] = 0\n",
    "print(merge_df_clean[merge_df_clean['完整地址']==1].shape)\n",
    "print(merge_df_clean.shape)"
   ]
  },
  {
   "cell_type": "code",
   "execution_count": 11,
   "metadata": {},
   "outputs": [],
   "source": [
    "merge_df_clean.to_excel(r'E:\\paper\\清理結果-新型&授權\\四川_結果.xlsx')"
   ]
  },
  {
   "cell_type": "markdown",
   "metadata": {},
   "source": [
    "# merge舊資料"
   ]
  },
  {
   "cell_type": "code",
   "execution_count": 5,
   "metadata": {},
   "outputs": [
    {
     "name": "stdout",
     "output_type": "stream",
     "text": [
      "(927, 44)\n",
      "(13780, 44)\n",
      "(3870, 49)\n",
      "(13780, 49)\n"
     ]
    }
   ],
   "source": [
    "merge_df = firm_gd.merge(patent_df_firm,left_on='企業名稱',right_on='申请人',how='outer')\n",
    "merge_df.fillna('',inplace=True)\n",
    "print(merge_df[(merge_df['企業名稱']!='')&(merge_df['申请人']!='')].shape)\n",
    "print(merge_df.shape)\n",
    "merge_df['name'] = merge_df.apply(lambda x:x['申请人'] if x['申请人']!='' else x['企業名稱'],axis=1)\n",
    "merge_df['address'] = merge_df.apply(lambda x:x['申请人地址'] if x['申请人地址']!='' else x['地址'],axis=1)\n",
    "merge_df_clean = merge_df\n",
    "merge_df_clean['address'] = merge_df_clean['address'].map(lambda x: x+'号' if ((x[-1].isdigit()) and (re.match(r'\\w+[街道路巷]',x))) else x)\n",
    "merge_df_clean['完整地址'] = merge_df_clean['address'].map(lambda x:1 if re.compile(r'\\w+[街道路巷]\\S+号').search(x) else 0)\n",
    "merge_df_clean.loc[:,'lat'] = 0\n",
    "merge_df_clean.loc[:,'lnt'] = 0\n",
    "print(merge_df_clean[merge_df_clean['完整地址']==1].shape)\n",
    "print(merge_df_clean.shape)"
   ]
  },
  {
   "cell_type": "code",
   "execution_count": 6,
   "metadata": {},
   "outputs": [
    {
     "data": {
      "text/plain": [
       "Index(['Unnamed: 0', '法人代碼', '企業名稱', '地址', '區域代碼', '行業代碼', '區域代碼_str',\n",
       "       'name_模糊比對', 'CPC', 'IPC', 'inpadoc同族', 'inpadoc同族个数', '专利寿命（月）',\n",
       "       '专利类型', '中国申请人区县', '中国申请人地市', '优先权信息', '公开国别', '公开（公告）号', '公开（公告）日',\n",
       "       '发明人', '合享价值度', '同族国家', '失效日', '序号', '引证专利', '引证科技文献', '扩展同族', '扩展同族个数',\n",
       "       '文献页数', '权利要求数量', '标准化申请人', '标题', '申请人', '申请人国别代码', '申请人地址', '申请人省市代码',\n",
       "       '申请人类型', '申请号', '申请日', '简单同族', '简单同族个数', '被引证专利', '被引证国别(forward)',\n",
       "       '被引证次数', '链接到incoPat', 'name', 'address', '完整地址', 'lat', 'lnt', '成都',\n",
       "       '綿陽', '自貢', '樂山', '專利數', '早期園區', '近期園區'],\n",
       "      dtype='object')"
      ]
     },
     "execution_count": 6,
     "metadata": {},
     "output_type": "execute_result"
    }
   ],
   "source": [
    "done_data = pd.read_excel(r'E:\\paper\\清理結果-園區內外\\四川_結果.xlsx')\n",
    "done_data.columns"
   ]
  },
  {
   "cell_type": "code",
   "execution_count": 7,
   "metadata": {},
   "outputs": [
    {
     "data": {
      "text/plain": [
       "(3670, 56)"
      ]
     },
     "execution_count": 7,
     "metadata": {},
     "output_type": "execute_result"
    }
   ],
   "source": [
    "merge_df_clean.drop(['lat','lnt'],axis=1,inplace=True)\n",
    "merge_df_clean = merge_df_clean.merge(done_data[['name','lat','lnt','成都','綿陽','自貢','樂山','專利數','早期園區','近期園區']],left_on='name',right_on='name',how='left')\n",
    "merge_df_clean['lat'].fillna('',inplace=True)\n",
    "merge_df_clean[merge_df_clean['lat']==''].shape"
   ]
  },
  {
   "cell_type": "code",
   "execution_count": 8,
   "metadata": {},
   "outputs": [],
   "source": [
    "merge_df_clean.to_excel(r'E:\\paper\\清理結果-新\\四川_結果.xlsx')"
   ]
  },
  {
   "cell_type": "markdown",
   "metadata": {},
   "source": [
    "# 模糊比對"
   ]
  },
  {
   "cell_type": "code",
   "execution_count": 12,
   "metadata": {},
   "outputs": [
    {
     "name": "stdout",
     "output_type": "stream",
     "text": [
      "(2148, 45)\n",
      "(17036, 45)\n"
     ]
    }
   ],
   "source": [
    "merge_df_fuzzy = firm_gd.merge(patent_df_firm,left_on='name_模糊比對',right_on='申请人',how='outer')\n",
    "merge_df_fuzzy.fillna('',inplace=True)\n",
    "merge_df_fuzzy.drop_duplicates(['name_模糊比對','申请人'], keep='last', inplace=True)\n",
    "print(merge_df_fuzzy[(merge_df_fuzzy['申请人']!='')&(merge_df_fuzzy['企業名稱']!='')].shape)\n",
    "print(merge_df_fuzzy.shape)"
   ]
  },
  {
   "cell_type": "code",
   "execution_count": 13,
   "metadata": {},
   "outputs": [
    {
     "name": "stdout",
     "output_type": "stream",
     "text": [
      "(6235, 50)\n",
      "(13683, 50)\n"
     ]
    },
    {
     "name": "stderr",
     "output_type": "stream",
     "text": [
      "D:\\Anaconda\\lib\\site-packages\\ipykernel_launcher.py:4: SettingWithCopyWarning: \n",
      "A value is trying to be set on a copy of a slice from a DataFrame.\n",
      "Try using .loc[row_indexer,col_indexer] = value instead\n",
      "\n",
      "See the caveats in the documentation: http://pandas.pydata.org/pandas-docs/stable/user_guide/indexing.html#returning-a-view-versus-a-copy\n",
      "  after removing the cwd from sys.path.\n",
      "D:\\Anaconda\\lib\\site-packages\\ipykernel_launcher.py:5: SettingWithCopyWarning: \n",
      "A value is trying to be set on a copy of a slice from a DataFrame.\n",
      "Try using .loc[row_indexer,col_indexer] = value instead\n",
      "\n",
      "See the caveats in the documentation: http://pandas.pydata.org/pandas-docs/stable/user_guide/indexing.html#returning-a-view-versus-a-copy\n",
      "  \"\"\"\n"
     ]
    }
   ],
   "source": [
    "merge_df_fuzzy['name'] = merge_df_fuzzy.apply(lambda x:x['申请人'] if x['申请人']!='' else x['企業名稱'],axis=1)\n",
    "merge_df_fuzzy['address'] = merge_df_fuzzy.apply(lambda x:x['申请人地址'] if x['申请人地址']!='' else x['地址'],axis=1)\n",
    "merge_df_fuzzy_clean = merge_df_fuzzy[merge_df_fuzzy['address'].str.contains(r'\\w+(街|道|路|巷|村|小区|园区|社区)')]\n",
    "merge_df_fuzzy_clean['address'] = merge_df_fuzzy_clean['address'].map(lambda x: x+'号' if ((x[-1].isdigit()) and (re.match(r'\\w+[街道路巷]',x))) else x)\n",
    "merge_df_fuzzy_clean['完整地址'] = merge_df_fuzzy_clean['address'].map(lambda x:1 if re.compile(r'\\w+[街道路巷]\\S+号').search(x) else 0)\n",
    "merge_df_fuzzy_clean.loc[:,'lat'] = 0\n",
    "merge_df_fuzzy_clean.loc[:,'lnt'] = 0\n",
    "print(merge_df_fuzzy_clean[merge_df_fuzzy_clean['完整地址']==1].shape)\n",
    "print(merge_df_fuzzy_clean.shape)"
   ]
  },
  {
   "cell_type": "code",
   "execution_count": 14,
   "metadata": {},
   "outputs": [],
   "source": [
    "merge_df_fuzzy_clean.to_excel(r'E:\\paper\\清理結果-新型&授權\\四川_模糊結果.xlsx')"
   ]
  },
  {
   "cell_type": "markdown",
   "metadata": {},
   "source": [
    "# 定位"
   ]
  },
  {
   "cell_type": "code",
   "execution_count": 2,
   "metadata": {},
   "outputs": [],
   "source": [
    "merge_df_clean = pd.read_excel(r'E:\\paper\\清理結果-新型&授權\\四川_結果.xlsx',index_col=0)"
   ]
  },
  {
   "cell_type": "code",
   "execution_count": 3,
   "metadata": {},
   "outputs": [
    {
     "data": {
      "text/plain": [
       "(3670, 56)"
      ]
     },
     "execution_count": 3,
     "metadata": {},
     "output_type": "execute_result"
    }
   ],
   "source": [
    "merge_df_clean = pd.read_excel(r'E:\\paper\\清理結果-新\\四川_結果.xlsx',index_col=0)\n",
    "merge_df_clean.fillna('',inplace=True)\n",
    "merge_df_clean[merge_df_clean['lat']==''].shape"
   ]
  },
  {
   "cell_type": "code",
   "execution_count": 4,
   "metadata": {},
   "outputs": [],
   "source": [
    "for i in merge_df_clean[merge_df_clean['lat']==''].index:\n",
    "    address = merge_df_clean.loc[i,'address']\n",
    "    g = getGeoForAddress(address)\n",
    "    merge_df_clean.loc[i,'lat'] = g[0]\n",
    "    merge_df_clean.loc[i,'lnt'] = g[1]"
   ]
  },
  {
   "cell_type": "code",
   "execution_count": 5,
   "metadata": {},
   "outputs": [
    {
     "name": "stdout",
     "output_type": "stream",
     "text": [
      "(13780, 56)\n",
      "(152, 56)\n"
     ]
    }
   ],
   "source": [
    "print(merge_df_clean.shape)\n",
    "print(merge_df_clean[merge_df_clean['lat']==''].shape)"
   ]
  },
  {
   "cell_type": "code",
   "execution_count": 6,
   "metadata": {},
   "outputs": [],
   "source": [
    "merge_df_clean.to_excel(r'E:\\paper\\清理結果-新\\四川_結果.xlsx')"
   ]
  },
  {
   "cell_type": "markdown",
   "metadata": {},
   "source": [
    "# 作圖"
   ]
  },
  {
   "cell_type": "code",
   "execution_count": 7,
   "metadata": {},
   "outputs": [],
   "source": [
    "from geopy.distance import geodesic\n",
    "def how_far(a,b):\n",
    "    try:\n",
    "        return geodesic(a,b).kilometers\n",
    "    except:\n",
    "        return np.nan\n",
    "applicant = patent_df['申请人'].str.split(';',expand=True).stack().reset_index(level=1,drop=True).rename('申请人2')\n",
    "applicant = applicant.map(lambda x:x.strip())\n",
    "patent_df_new = patent_df.join(applicant)\n",
    "patent_count = patent_df_new.groupby('申请人2')['标题'].count().rename('專利數')"
   ]
  },
  {
   "cell_type": "code",
   "execution_count": 8,
   "metadata": {},
   "outputs": [
    {
     "data": {
      "text/plain": [
       "申请人2\n",
       "LBS国际有限公司          1\n",
       "杜江                 1\n",
       "杜桂生                1\n",
       "杜林生                1\n",
       "杜林                 1\n",
       "                ... \n",
       "西南石油大学          1541\n",
       "四川长虹电器股份有限公司    1763\n",
       "西南交通大学          2366\n",
       "四川大学            4322\n",
       "电子科技大学          4649\n",
       "Name: 專利數, Length: 39597, dtype: int64"
      ]
     },
     "execution_count": 8,
     "metadata": {},
     "output_type": "execute_result"
    }
   ],
   "source": [
    "patent_count.sort_values()"
   ]
  },
  {
   "cell_type": "code",
   "execution_count": 5,
   "metadata": {},
   "outputs": [],
   "source": [
    "merge_df = pd.read_excel(r'E:\\paper\\清理結果-新型&授權\\四川_結果.xlsx',index_col=0)\n",
    "target1 = (30.59236,104.06727)\n",
    "merge_df['成都'] = merge_df.apply(lambda x:how_far(target1,(x['lat'],x['lnt'])),axis=1)\n",
    "target2 = (31.46605,104.66275)\n",
    "merge_df['綿陽'] = merge_df.apply(lambda x:how_far(target2,(x['lat'],x['lnt'])),axis=1)\n",
    "target3 = (29.33235,104.78195)\n",
    "merge_df['自貢'] = merge_df.apply(lambda x:how_far(target3,(x['lat'],x['lnt'])),axis=1)\n",
    "target4 = (29.55211,103.76567)\n",
    "merge_df['樂山'] = merge_df.apply(lambda x:how_far(target4,(x['lat'],x['lnt'])),axis=1)\n",
    "merge_df = merge_df.merge(patent_count,left_on='name',right_on='申请人2',how='left')\n",
    "merge_df['專利數'].fillna(0,inplace=True)"
   ]
  },
  {
   "cell_type": "code",
   "execution_count": 9,
   "metadata": {},
   "outputs": [],
   "source": [
    "merge_df = pd.read_excel(r'E:\\paper\\清理結果-新\\四川_結果.xlsx',index_col=0)\n",
    "merge_df.fillna('',inplace=True)\n",
    "merge_df.drop('專利數',axis=1,inplace=True)\n",
    "target1 = (30.59236,104.06727)\n",
    "target2 = (31.46605,104.66275)\n",
    "target3 = (29.33235,104.78195)\n",
    "target4 = (29.55211,103.76567)\n",
    "\n",
    "for i in merge_df[merge_df['成都']==''].index:\n",
    "    merge_df.loc[i,'成都'] = how_far(target1,(merge_df.loc[i,'lat'],merge_df.loc[i,'lnt']))\n",
    "    merge_df.loc[i,'綿陽'] = how_far(target2,(merge_df.loc[i,'lat'],merge_df.loc[i,'lnt']))\n",
    "    merge_df.loc[i,'自貢'] = how_far(target3,(merge_df.loc[i,'lat'],merge_df.loc[i,'lnt']))\n",
    "    merge_df.loc[i,'樂山'] = how_far(target4,(merge_df.loc[i,'lat'],merge_df.loc[i,'lnt']))\n",
    "merge_df = merge_df.merge(patent_count,left_on='name',right_on='申请人2',how='left')\n",
    "merge_df['專利數'].fillna(0,inplace=True)"
   ]
  },
  {
   "cell_type": "code",
   "execution_count": 10,
   "metadata": {},
   "outputs": [],
   "source": [
    "merge_df['早期園區'] = merge_df.apply(lambda x:1 if ((x['成都']<10)or(x['綿陽']<10)) else 0,axis=1)\n",
    "merge_df['近期園區'] = merge_df.apply(lambda x:1 if ((x['自貢']<10)or(x['樂山']<10)) else 0,axis=1)"
   ]
  },
  {
   "cell_type": "code",
   "execution_count": 11,
   "metadata": {},
   "outputs": [],
   "source": [
    "merge_df.to_excel(r'E:\\paper\\清理結果-新園區內外\\四川_結果.xlsx')"
   ]
  },
  {
   "cell_type": "code",
   "execution_count": 12,
   "metadata": {},
   "outputs": [
    {
     "name": "stdout",
     "output_type": "stream",
     "text": [
      "(13780, 56)\n",
      "0.6925253991291728\n",
      "0.008635703918722787\n"
     ]
    }
   ],
   "source": [
    "print(merge_df.shape)\n",
    "print(len(merge_df[merge_df['專利數']==0]['專利數'])/len(merge_df['專利數']))\n",
    "print(len(merge_df[merge_df['專利數']>=100]['專利數'])/len(merge_df['專利數']))"
   ]
  },
  {
   "cell_type": "code",
   "execution_count": 13,
   "metadata": {},
   "outputs": [
    {
     "data": {
      "text/plain": [
       "專利數\n",
       "0.0       9543\n",
       "1.0        861\n",
       "2.0        484\n",
       "3.0        299\n",
       "4.0        233\n",
       "5.0        174\n",
       "6.0        217\n",
       "7.0        176\n",
       "8.0        178\n",
       "9.0        134\n",
       "10.0       139\n",
       "11.0       111\n",
       "12.0        90\n",
       "13.0        79\n",
       "14.0        54\n",
       "15.0        64\n",
       "16.0        53\n",
       "17.0        50\n",
       "18.0        52\n",
       "19.0        47\n",
       "20.0        36\n",
       "21.0        23\n",
       "22.0        31\n",
       "23.0        30\n",
       "24.0        28\n",
       "25.0        30\n",
       "26.0        31\n",
       "27.0        12\n",
       "28.0        17\n",
       "29.0        14\n",
       "30.0        13\n",
       "31.0        19\n",
       "32.0        16\n",
       "33.0        12\n",
       "34.0        11\n",
       "35.0        13\n",
       "36.0        12\n",
       "37.0        10\n",
       "38.0        13\n",
       "39.0        12\n",
       "40.0         9\n",
       "41.0        14\n",
       "42.0         9\n",
       "43.0         8\n",
       "44.0        10\n",
       "45.0         8\n",
       "46.0         8\n",
       "47.0         5\n",
       "48.0         8\n",
       "49.0         6\n",
       "50.0        10\n",
       "51.0         3\n",
       "52.0         5\n",
       "53.0         5\n",
       "54.0         5\n",
       "55.0         5\n",
       "56.0         8\n",
       "57.0         7\n",
       "58.0         6\n",
       "59.0         1\n",
       "60.0         3\n",
       "61.0         4\n",
       "62.0         6\n",
       "63.0         3\n",
       "64.0         4\n",
       "65.0         7\n",
       "66.0         5\n",
       "67.0         1\n",
       "68.0         3\n",
       "69.0         4\n",
       "70.0         6\n",
       "71.0         3\n",
       "72.0         1\n",
       "73.0         4\n",
       "74.0         1\n",
       "76.0         5\n",
       "77.0         5\n",
       "78.0         2\n",
       "79.0         1\n",
       "80.0         1\n",
       "81.0         2\n",
       "82.0         2\n",
       "83.0         4\n",
       "84.0         2\n",
       "85.0         2\n",
       "87.0         1\n",
       "88.0         4\n",
       "89.0         2\n",
       "90.0         4\n",
       "91.0         2\n",
       "93.0         1\n",
       "94.0         2\n",
       "95.0         1\n",
       "96.0         1\n",
       "98.0         1\n",
       "101.0        2\n",
       "102.0        1\n",
       "103.0        1\n",
       "105.0        1\n",
       "106.0        2\n",
       "107.0        1\n",
       "108.0        2\n",
       "109.0        1\n",
       "110.0        1\n",
       "111.0        1\n",
       "112.0        1\n",
       "114.0        1\n",
       "116.0        1\n",
       "117.0        2\n",
       "118.0        2\n",
       "120.0        2\n",
       "122.0        2\n",
       "123.0        1\n",
       "124.0        1\n",
       "127.0        1\n",
       "129.0        1\n",
       "130.0        2\n",
       "131.0        1\n",
       "132.0        4\n",
       "133.0        1\n",
       "134.0        1\n",
       "139.0        1\n",
       "140.0        2\n",
       "142.0        1\n",
       "143.0        2\n",
       "145.0        1\n",
       "146.0        1\n",
       "148.0        1\n",
       "149.0        1\n",
       "150.0        1\n",
       "151.0        1\n",
       "153.0        1\n",
       "158.0        1\n",
       "159.0        2\n",
       "160.0        1\n",
       "168.0        1\n",
       "169.0        1\n",
       "172.0        1\n",
       "173.0        1\n",
       "177.0        1\n",
       "182.0        1\n",
       "186.0        1\n",
       "188.0        1\n",
       "189.0        1\n",
       "190.0        1\n",
       "192.0        1\n",
       "194.0        1\n",
       "198.0        1\n",
       "200.0        1\n",
       "202.0        2\n",
       "210.0        1\n",
       "219.0        1\n",
       "220.0        1\n",
       "222.0        1\n",
       "226.0        1\n",
       "235.0        1\n",
       "241.0        1\n",
       "242.0        1\n",
       "243.0        2\n",
       "246.0        1\n",
       "247.0        1\n",
       "252.0        1\n",
       "253.0        2\n",
       "270.0        1\n",
       "287.0        1\n",
       "288.0        1\n",
       "291.0        1\n",
       "296.0        1\n",
       "303.0        1\n",
       "305.0        1\n",
       "306.0        1\n",
       "331.0        2\n",
       "341.0        1\n",
       "346.0        1\n",
       "372.0        1\n",
       "391.0        1\n",
       "394.0        1\n",
       "399.0        1\n",
       "403.0        1\n",
       "406.0        1\n",
       "412.0        1\n",
       "443.0        1\n",
       "445.0        1\n",
       "455.0        1\n",
       "468.0        1\n",
       "485.0        1\n",
       "509.0        1\n",
       "534.0        2\n",
       "621.0        1\n",
       "647.0        1\n",
       "737.0        1\n",
       "785.0        1\n",
       "1072.0       1\n",
       "1111.0       1\n",
       "1763.0       1\n",
       "Name: IPC, dtype: int64"
      ]
     },
     "execution_count": 13,
     "metadata": {},
     "output_type": "execute_result"
    }
   ],
   "source": [
    "merge_df.groupby('專利數')['IPC'].count()"
   ]
  },
  {
   "cell_type": "code",
   "execution_count": 14,
   "metadata": {},
   "outputs": [
    {
     "data": {
      "text/plain": [
       "專利數\n",
       "0.0     113\n",
       "1.0      11\n",
       "2.0       6\n",
       "3.0       1\n",
       "5.0       1\n",
       "6.0       4\n",
       "9.0       2\n",
       "10.0      2\n",
       "11.0      1\n",
       "13.0      2\n",
       "14.0      1\n",
       "15.0      2\n",
       "16.0      1\n",
       "17.0      1\n",
       "24.0      1\n",
       "29.0      1\n",
       "34.0      1\n",
       "38.0      1\n",
       "Name: IPC, dtype: int64"
      ]
     },
     "execution_count": 14,
     "metadata": {},
     "output_type": "execute_result"
    }
   ],
   "source": [
    "merge_df[merge_df['lat']==''].groupby('專利數')['IPC'].count()"
   ]
  },
  {
   "cell_type": "code",
   "execution_count": 15,
   "metadata": {},
   "outputs": [
    {
     "data": {
      "text/plain": [
       "Text(0, 0.5, '無法定位廠商數量')"
      ]
     },
     "execution_count": 15,
     "metadata": {},
     "output_type": "execute_result"
    },
    {
     "data": {
      "image/png": "[encoded data removed]",
      "text/plain": [
       "<Figure size 432x288 with 2 Axes>"
      ]
     },
     "metadata": {
      "needs_background": "light"
     },
     "output_type": "display_data"
    }
   ],
   "source": [
    "from matplotlib.font_manager import FontProperties\n",
    "myfont = FontProperties(fname=r'C:\\Windows\\Fonts\\msjhbd.ttc')\n",
    "fig = plt.figure()\n",
    "ax1 = fig.add_subplot(111)\n",
    "ax1.plot(merge_df[merge_df['lat']!=0].groupby('專利數')['IPC'].count().index,merge_df[merge_df['lat']!=0].groupby('專利數')['IPC'].count())\n",
    "ax1.set_title('四川',fontproperties=myfont,fontsize=15)\n",
    "ax1.set_ylabel('廠商數量',fontproperties=myfont)\n",
    "ax1.set_xlabel('專利數量',fontproperties=myfont)\n",
    "ax1.set_xlim([0,100])\n",
    "ax1.set_ylim([0,1000])\n",
    "ax2 = ax1.twinx()\n",
    "ax2.bar(merge_df[merge_df['lat']==''].groupby('專利數')['IPC'].count().index,merge_df[merge_df['lat']==''].groupby('專利數')['IPC'].count(),color='red')\n",
    "ax2.set_ylim([0,20])\n",
    "ax2.set_ylabel('無法定位廠商數量',fontproperties=myfont)\n"
   ]
  },
  {
   "cell_type": "code",
   "execution_count": 2,
   "metadata": {},
   "outputs": [
    {
     "name": "stdout",
     "output_type": "stream",
     "text": [
      "1895\n",
      "0.13999704491725767\n",
      "63\n"
     ]
    }
   ],
   "source": [
    "region = pd.read_excel(r'E:\\paper\\清理結果-新園區內外\\四川_結果.xlsx',index_col=0)\n",
    "region.fillna('',inplace=True)\n",
    "corptype = ['有限','责任','集团','股份','控股','总公司','分公司','公司']\n",
    "region['name_clean'] = region['name']\n",
    "for k in corptype:\n",
    "    region['name_clean'] = region['name_clean'].map(lambda x:re.sub(k,'',x))\n",
    "region['name_clean'] = region['name_clean'].map(lambda x:re.sub(r'\\(.*?\\)','',x))\n",
    "region['name_clean'] = region['name_clean'].map(lambda x:re.sub(r'\\（.*?\\）','',x))\n",
    "region['name_clean'] = region['name_clean'].map(lambda x:re.sub(r'\\(.*?\\）','',x))\n",
    "region['name_clean'] = region['name_clean'].map(lambda x:re.sub(r'\\（.*?\\)','',x))\n",
    "region['name_clean'] = region['name_clean'].map(lambda x:re.sub(r'[\\s+-─]','',x))\n",
    "clean = region[region.duplicated(['name_clean'],keep=False)].sort_values(by=['企業名稱'])\n",
    "patents = clean.groupby('name_clean')['專利數'].sum()\n",
    "final = clean.drop('專利數',axis=1).merge(patents,left_on='name_clean',right_on='name_clean',how='left')\n",
    "final.drop_duplicates(['name_clean'],keep='last',inplace=True)\n",
    "region.drop_duplicates(['name_clean'],keep=False,inplace=True)\n",
    "cleaned = pd.concat([region,final],ignore_index=True,sort=False)\n",
    "located = cleaned[cleaned['lat']!='']\n",
    "not_merge = located[located['企業名稱']=='']\n",
    "print(len(not_merge['專利數']))\n",
    "print(len(not_merge['專利數'])/len(located['專利數']))\n",
    "print(len(not_merge[not_merge['專利數']>100]['專利數']))"
   ]
  },
  {
   "cell_type": "code",
   "execution_count": 3,
   "metadata": {},
   "outputs": [
    {
     "data": {
      "text/plain": [
       "專利數\n",
       "1       492\n",
       "2       248\n",
       "3       147\n",
       "4       107\n",
       "5        77\n",
       "6        63\n",
       "7        64\n",
       "8        64\n",
       "9        45\n",
       "10       50\n",
       "11       31\n",
       "12       33\n",
       "13       26\n",
       "14       24\n",
       "15       15\n",
       "16       14\n",
       "17       13\n",
       "18       19\n",
       "19       25\n",
       "20       15\n",
       "21       10\n",
       "22       14\n",
       "23       12\n",
       "24       11\n",
       "25        9\n",
       "26       15\n",
       "27        7\n",
       "28        9\n",
       "29       10\n",
       "30        2\n",
       "31        6\n",
       "32        8\n",
       "33        8\n",
       "34        3\n",
       "35        7\n",
       "36        4\n",
       "37        3\n",
       "38        6\n",
       "39        6\n",
       "40        2\n",
       "41        8\n",
       "42        6\n",
       "43        3\n",
       "44        3\n",
       "45        2\n",
       "46        3\n",
       "47        1\n",
       "48        3\n",
       "49        3\n",
       "50        6\n",
       "51        3\n",
       "52        2\n",
       "53        2\n",
       "54        2\n",
       "55        4\n",
       "56        4\n",
       "57        4\n",
       "58        2\n",
       "59        2\n",
       "60        2\n",
       "61        2\n",
       "62        5\n",
       "63        2\n",
       "64        2\n",
       "65        1\n",
       "66        2\n",
       "67        1\n",
       "68        1\n",
       "69        1\n",
       "70        3\n",
       "71        2\n",
       "72        1\n",
       "73        2\n",
       "74        1\n",
       "76        2\n",
       "77        5\n",
       "81        1\n",
       "82        1\n",
       "83        1\n",
       "84        1\n",
       "85        1\n",
       "88        1\n",
       "89        1\n",
       "90        1\n",
       "96        2\n",
       "101       2\n",
       "102       1\n",
       "106       2\n",
       "107       1\n",
       "116       1\n",
       "117       1\n",
       "120       2\n",
       "122       1\n",
       "123       1\n",
       "124       1\n",
       "131       1\n",
       "132       4\n",
       "134       1\n",
       "140       2\n",
       "143       1\n",
       "145       1\n",
       "149       1\n",
       "150       1\n",
       "158       1\n",
       "159       2\n",
       "168       1\n",
       "169       1\n",
       "172       1\n",
       "186       1\n",
       "189       1\n",
       "195       1\n",
       "202       2\n",
       "210       1\n",
       "220       1\n",
       "222       1\n",
       "235       2\n",
       "243       2\n",
       "247       1\n",
       "252       1\n",
       "253       1\n",
       "270       1\n",
       "291       1\n",
       "296       1\n",
       "298       1\n",
       "305       1\n",
       "306       1\n",
       "331       1\n",
       "346       1\n",
       "394       1\n",
       "443       1\n",
       "445       1\n",
       "621       1\n",
       "647       1\n",
       "737       1\n",
       "1072      1\n",
       "1241      1\n",
       "1763      1\n",
       "Name: IPC, dtype: int64"
      ]
     },
     "execution_count": 3,
     "metadata": {},
     "output_type": "execute_result"
    }
   ],
   "source": [
    "not_merge.groupby('專利數')['IPC'].count()"
   ]
  },
  {
   "cell_type": "code",
   "execution_count": 4,
   "metadata": {
    "scrolled": true
   },
   "outputs": [
    {
     "data": {
      "text/html": [
       "<div>\n",
       "<style scoped>\n",
       "    .dataframe tbody tr th:only-of-type {\n",
       "        vertical-align: middle;\n",
       "    }\n",
       "\n",
       "    .dataframe tbody tr th {\n",
       "        vertical-align: top;\n",
       "    }\n",
       "\n",
       "    .dataframe thead th {\n",
       "        text-align: right;\n",
       "    }\n",
       "</style>\n",
       "<table border=\"1\" class=\"dataframe\">\n",
       "  <thead>\n",
       "    <tr style=\"text-align: right;\">\n",
       "      <th></th>\n",
       "      <th>法人代碼</th>\n",
       "      <th>企業名稱</th>\n",
       "      <th>地址</th>\n",
       "      <th>區域代碼</th>\n",
       "      <th>行業代碼</th>\n",
       "      <th>區域代碼_str</th>\n",
       "      <th>CPC</th>\n",
       "      <th>IPC</th>\n",
       "      <th>inpadoc同族</th>\n",
       "      <th>inpadoc同族个数</th>\n",
       "      <th>专利寿命（月）</th>\n",
       "      <th>专利类型</th>\n",
       "      <th>中国申请人区县</th>\n",
       "      <th>中国申请人地市</th>\n",
       "      <th>优先权信息</th>\n",
       "      <th>公开国别</th>\n",
       "      <th>公开（公告）号</th>\n",
       "      <th>公开（公告）日</th>\n",
       "      <th>发明人</th>\n",
       "      <th>合享价值度</th>\n",
       "      <th>同族国家</th>\n",
       "      <th>失效日</th>\n",
       "      <th>序号</th>\n",
       "      <th>引证专利</th>\n",
       "      <th>引证科技文献</th>\n",
       "      <th>...</th>\n",
       "      <th>申请人地址</th>\n",
       "      <th>申请人省市代码</th>\n",
       "      <th>申请人类型</th>\n",
       "      <th>申请号</th>\n",
       "      <th>申请日</th>\n",
       "      <th>简单同族</th>\n",
       "      <th>简单同族个数</th>\n",
       "      <th>被引证专利</th>\n",
       "      <th>被引证国别(forward)</th>\n",
       "      <th>被引证次数</th>\n",
       "      <th>链接到incoPat</th>\n",
       "      <th>申请人</th>\n",
       "      <th>name</th>\n",
       "      <th>address</th>\n",
       "      <th>完整地址</th>\n",
       "      <th>lat</th>\n",
       "      <th>lnt</th>\n",
       "      <th>成都</th>\n",
       "      <th>綿陽</th>\n",
       "      <th>自貢</th>\n",
       "      <th>樂山</th>\n",
       "      <th>早期園區</th>\n",
       "      <th>近期園區</th>\n",
       "      <th>專利數</th>\n",
       "      <th>name_clean</th>\n",
       "    </tr>\n",
       "  </thead>\n",
       "  <tbody>\n",
       "    <tr>\n",
       "      <td>13594</td>\n",
       "      <td></td>\n",
       "      <td></td>\n",
       "      <td></td>\n",
       "      <td></td>\n",
       "      <td></td>\n",
       "      <td></td>\n",
       "      <td>Y02P10/212</td>\n",
       "      <td>C21C7/068; C21C7/06; C21C7/10</td>\n",
       "      <td>CN103911487B; CN103911487A</td>\n",
       "      <td>2</td>\n",
       "      <td></td>\n",
       "      <td>发明授权</td>\n",
       "      <td>[东区]</td>\n",
       "      <td>[攀枝花]</td>\n",
       "      <td></td>\n",
       "      <td>CN</td>\n",
       "      <td>CN103911487B</td>\n",
       "      <td>2015-11-18 00:00:00</td>\n",
       "      <td>雷辉; 李利刚; 李盛; 彭琦; 聂绍刚; 黄登华</td>\n",
       "      <td>9</td>\n",
       "      <td>CN</td>\n",
       "      <td></td>\n",
       "      <td>16510</td>\n",
       "      <td>CN101215618A; CN101550475A; CN102477472A; CN102719600A</td>\n",
       "      <td></td>\n",
       "      <td>...</td>\n",
       "      <td>四川省攀枝花市东区向阳村</td>\n",
       "      <td>四川; 51</td>\n",
       "      <td>企业</td>\n",
       "      <td>CN201210591651.3</td>\n",
       "      <td>2012-12-31 00:00:00</td>\n",
       "      <td>CN103911487B; CN103911487A</td>\n",
       "      <td>2</td>\n",
       "      <td></td>\n",
       "      <td></td>\n",
       "      <td>0</td>\n",
       "      <td>到incoPat中查看\\r\\nCN103911487B</td>\n",
       "      <td>攀钢集团攀枝花钢钒有限公司</td>\n",
       "      <td>攀钢集团攀枝花钢钒有限公司</td>\n",
       "      <td>四川省攀枝花市东区向阳村</td>\n",
       "      <td>0</td>\n",
       "      <td>26.5531</td>\n",
       "      <td>101.686</td>\n",
       "      <td>504.596644</td>\n",
       "      <td>616.846926</td>\n",
       "      <td>433.156763</td>\n",
       "      <td>390.158872</td>\n",
       "      <td>0</td>\n",
       "      <td>0</td>\n",
       "      <td>1072</td>\n",
       "      <td>攀钢攀枝花钢钒</td>\n",
       "    </tr>\n",
       "    <tr>\n",
       "      <td>13602</td>\n",
       "      <td></td>\n",
       "      <td></td>\n",
       "      <td></td>\n",
       "      <td></td>\n",
       "      <td></td>\n",
       "      <td></td>\n",
       "      <td></td>\n",
       "      <td>C21C7/064; C22B34/22</td>\n",
       "      <td>CN101215619A; CN100577822C</td>\n",
       "      <td>2</td>\n",
       "      <td></td>\n",
       "      <td>发明授权</td>\n",
       "      <td>[东区]</td>\n",
       "      <td>[攀枝花]</td>\n",
       "      <td></td>\n",
       "      <td>CN</td>\n",
       "      <td>CN100577822C</td>\n",
       "      <td>2010-01-06 00:00:00</td>\n",
       "      <td>戈文荪; 何为; 彭毅; 王建</td>\n",
       "      <td>10</td>\n",
       "      <td>CN</td>\n",
       "      <td></td>\n",
       "      <td>29541</td>\n",
       "      <td>CN1275625A; CN101074454A</td>\n",
       "      <td></td>\n",
       "      <td>...</td>\n",
       "      <td>四川省攀枝花市桃园街1号</td>\n",
       "      <td>四川; 51</td>\n",
       "      <td>企业</td>\n",
       "      <td>CN200810002011.8</td>\n",
       "      <td>2008-01-03 00:00:00</td>\n",
       "      <td>CN101215619A; CN100577822C</td>\n",
       "      <td>2</td>\n",
       "      <td></td>\n",
       "      <td></td>\n",
       "      <td>0</td>\n",
       "      <td>到incoPat中查看\\r\\nCN100577822C</td>\n",
       "      <td>攀钢集团攀枝花钢铁研究院</td>\n",
       "      <td>攀钢集团攀枝花钢铁研究院</td>\n",
       "      <td>四川省攀枝花市桃园街1号</td>\n",
       "      <td>1</td>\n",
       "      <td>26.58</td>\n",
       "      <td>101.722</td>\n",
       "      <td>500.319848</td>\n",
       "      <td>612.556621</td>\n",
       "      <td>428.522545</td>\n",
       "      <td>385.758145</td>\n",
       "      <td>0</td>\n",
       "      <td>0</td>\n",
       "      <td>1241</td>\n",
       "      <td>攀钢攀枝花钢铁研究院</td>\n",
       "    </tr>\n",
       "    <tr>\n",
       "      <td>13582</td>\n",
       "      <td></td>\n",
       "      <td></td>\n",
       "      <td></td>\n",
       "      <td></td>\n",
       "      <td></td>\n",
       "      <td></td>\n",
       "      <td>H04L63/10; H04L63/1441; H04L63/1458</td>\n",
       "      <td>H04L29/06; H04L29/08</td>\n",
       "      <td>WO2014101786A1; CN103078855A; CN103078855B</td>\n",
       "      <td>3</td>\n",
       "      <td></td>\n",
       "      <td>发明授权</td>\n",
       "      <td>[江油]</td>\n",
       "      <td>[绵阳]</td>\n",
       "      <td></td>\n",
       "      <td>CN</td>\n",
       "      <td>CN103078855B</td>\n",
       "      <td>2016-07-06 00:00:00</td>\n",
       "      <td>刘孟红; 展华益; 张恩阳</td>\n",
       "      <td>9</td>\n",
       "      <td>CN, WO</td>\n",
       "      <td></td>\n",
       "      <td>8679</td>\n",
       "      <td>CN101197874A; CN101179462A</td>\n",
       "      <td></td>\n",
       "      <td>...</td>\n",
       "      <td>四川省绵阳市高新区绵兴东路35号</td>\n",
       "      <td>四川; 51</td>\n",
       "      <td>企业</td>\n",
       "      <td>CN201210590040.7</td>\n",
       "      <td>2012-12-29 00:00:00</td>\n",
       "      <td>CN103078855B; WO2014101786A1; CN103078855A</td>\n",
       "      <td>3</td>\n",
       "      <td></td>\n",
       "      <td></td>\n",
       "      <td>0</td>\n",
       "      <td>到incoPat中查看\\r\\nCN103078855B</td>\n",
       "      <td>四川长虹电器股份有限公司</td>\n",
       "      <td>四川长虹电器股份有限公司</td>\n",
       "      <td>四川省绵阳市高新区绵兴东路35号</td>\n",
       "      <td>1</td>\n",
       "      <td>31.4592</td>\n",
       "      <td>104.681</td>\n",
       "      <td>112.547682</td>\n",
       "      <td>1.859595</td>\n",
       "      <td>235.987112</td>\n",
       "      <td>228.941541</td>\n",
       "      <td>1</td>\n",
       "      <td>0</td>\n",
       "      <td>1763</td>\n",
       "      <td>四川长虹电器</td>\n",
       "    </tr>\n",
       "  </tbody>\n",
       "</table>\n",
       "<p>3 rows × 57 columns</p>\n",
       "</div>"
      ],
      "text/plain": [
       "      法人代碼 企業名稱 地址 區域代碼 行業代碼 區域代碼_str                                  CPC  \\\n",
       "13594                                                           Y02P10/212   \n",
       "13602                                                                        \n",
       "13582                                  H04L63/10; H04L63/1441; H04L63/1458   \n",
       "\n",
       "                                 IPC  \\\n",
       "13594  C21C7/068; C21C7/06; C21C7/10   \n",
       "13602           C21C7/064; C22B34/22   \n",
       "13582           H04L29/06; H04L29/08   \n",
       "\n",
       "                                        inpadoc同族 inpadoc同族个数 专利寿命（月）  专利类型  \\\n",
       "13594                  CN103911487B; CN103911487A           2          发明授权   \n",
       "13602                  CN101215619A; CN100577822C           2          发明授权   \n",
       "13582  WO2014101786A1; CN103078855A; CN103078855B           3          发明授权   \n",
       "\n",
       "      中国申请人区县 中国申请人地市 优先权信息 公开国别       公开（公告）号              公开（公告）日  \\\n",
       "13594    [东区]   [攀枝花]         CN  CN103911487B  2015-11-18 00:00:00   \n",
       "13602    [东区]   [攀枝花]         CN  CN100577822C  2010-01-06 00:00:00   \n",
       "13582    [江油]    [绵阳]         CN  CN103078855B  2016-07-06 00:00:00   \n",
       "\n",
       "                             发明人 合享价值度    同族国家 失效日     序号  \\\n",
       "13594  雷辉; 李利刚; 李盛; 彭琦; 聂绍刚; 黄登华     9      CN      16510   \n",
       "13602            戈文荪; 何为; 彭毅; 王建    10      CN      29541   \n",
       "13582              刘孟红; 展华益; 张恩阳     9  CN, WO       8679   \n",
       "\n",
       "                                                         引证专利 引证科技文献  ...  \\\n",
       "13594  CN101215618A; CN101550475A; CN102477472A; CN102719600A         ...   \n",
       "13602                                CN1275625A; CN101074454A         ...   \n",
       "13582                              CN101197874A; CN101179462A         ...   \n",
       "\n",
       "                  申请人地址 申请人省市代码 申请人类型               申请号                  申请日  \\\n",
       "13594      四川省攀枝花市东区向阳村  四川; 51    企业  CN201210591651.3  2012-12-31 00:00:00   \n",
       "13602      四川省攀枝花市桃园街1号  四川; 51    企业  CN200810002011.8  2008-01-03 00:00:00   \n",
       "13582  四川省绵阳市高新区绵兴东路35号  四川; 51    企业  CN201210590040.7  2012-12-29 00:00:00   \n",
       "\n",
       "                                             简单同族 简单同族个数 被引证专利 被引证国别(forward)  \\\n",
       "13594                  CN103911487B; CN103911487A      2                        \n",
       "13602                  CN101215619A; CN100577822C      2                        \n",
       "13582  CN103078855B; WO2014101786A1; CN103078855A      3                        \n",
       "\n",
       "      被引证次数                   链接到incoPat            申请人           name  \\\n",
       "13594     0  到incoPat中查看\\r\\nCN103911487B  攀钢集团攀枝花钢钒有限公司  攀钢集团攀枝花钢钒有限公司   \n",
       "13602     0  到incoPat中查看\\r\\nCN100577822C   攀钢集团攀枝花钢铁研究院   攀钢集团攀枝花钢铁研究院   \n",
       "13582     0  到incoPat中查看\\r\\nCN103078855B   四川长虹电器股份有限公司   四川长虹电器股份有限公司   \n",
       "\n",
       "                address 完整地址      lat      lnt          成都          綿陽  \\\n",
       "13594      四川省攀枝花市东区向阳村    0  26.5531  101.686  504.596644  616.846926   \n",
       "13602      四川省攀枝花市桃园街1号    1    26.58  101.722  500.319848  612.556621   \n",
       "13582  四川省绵阳市高新区绵兴东路35号    1  31.4592  104.681  112.547682    1.859595   \n",
       "\n",
       "               自貢          樂山  早期園區 近期園區   專利數  name_clean  \n",
       "13594  433.156763  390.158872     0    0  1072     攀钢攀枝花钢钒  \n",
       "13602  428.522545  385.758145     0    0  1241  攀钢攀枝花钢铁研究院  \n",
       "13582  235.987112  228.941541     1    0  1763      四川长虹电器  \n",
       "\n",
       "[3 rows x 57 columns]"
      ]
     },
     "execution_count": 4,
     "metadata": {},
     "output_type": "execute_result"
    }
   ],
   "source": [
    "not_merge[not_merge['專利數']>=1000].sort_values('專利數')"
   ]
  },
  {
   "cell_type": "code",
   "execution_count": 6,
   "metadata": {},
   "outputs": [
    {
     "data": {
      "text/plain": [
       "Text(0.5, 0, '專利數量')"
      ]
     },
     "execution_count": 6,
     "metadata": {},
     "output_type": "execute_result"
    },
    {
     "data": {
      "image/png": "[encoded data removed]",
      "text/plain": [
       "<Figure size 432x288 with 1 Axes>"
      ]
     },
     "metadata": {
      "needs_background": "light"
     },
     "output_type": "display_data"
    }
   ],
   "source": [
    "from matplotlib.font_manager import FontProperties\n",
    "myfont = FontProperties(fname=r'C:\\Windows\\Fonts\\msjhbd.ttc')\n",
    "fig = plt.figure()\n",
    "ax1 = fig.add_subplot(111)\n",
    "ax1.plot(not_merge.groupby('專利數')['IPC'].count().index,not_merge.groupby('專利數')['IPC'].count())\n",
    "ax1.set_title('四川',fontproperties=myfont,fontsize=15)\n",
    "ax1.set_xlim([0,100])\n",
    "ax1.set_ylabel('廠商數量',fontproperties=myfont)\n",
    "ax1.set_xlabel('專利數量',fontproperties=myfont)"
   ]
  },
  {
   "cell_type": "code",
   "execution_count": 5,
   "metadata": {},
   "outputs": [],
   "source": [
    "cleaned.to_excel(r'E:\\paper\\名稱merge\\四川_結果.xlsx')"
   ]
  },
  {
   "cell_type": "code",
   "execution_count": 9,
   "metadata": {},
   "outputs": [
    {
     "data": {
      "text/plain": [
       "<matplotlib.legend.Legend at 0x23dbb89a888>"
      ]
     },
     "execution_count": 9,
     "metadata": {},
     "output_type": "execute_result"
    },
    {
     "data": {
      "image/png": "[encoded data removed]",
      "text/plain": [
       "<Figure size 360x360 with 1 Axes>"
      ]
     },
     "metadata": {
      "needs_background": "light"
     },
     "output_type": "display_data"
    }
   ],
   "source": [
    "from matplotlib.font_manager import FontProperties\n",
    "myfont = FontProperties(fname=r'C:\\Windows\\Fonts\\msjhbd.ttc')\n",
    "fig = plt.figure(figsize = (5,5))\n",
    "ax1 = fig.add_subplot(111)\n",
    "ax1.set_ylabel('Patent Counts')\n",
    "bar1 = ax1.bar(1,merge_df[merge_df['早期園區']==1]['專利數'].sum(),alpha=0.7,width=0.35,color='r',label='早期園區')\n",
    "bar2 = ax1.bar(1+0.35,merge_df[merge_df['近期園區']==1]['專利數'].sum(),alpha=0.7,width=0.35,color='b',label='近期園區')\n",
    "bar3 = ax1.bar(1+0.7,merge_df[(merge_df['近期園區']==0)&(merge_df['早期園區']==0)]['專利數'].sum(),alpha=0.7,width=0.35,color='k',label='園區外')\n",
    "\n",
    "plt.text(1, merge_df[merge_df['早期園區']==1]['專利數'].sum(), '%.0f' % merge_df[merge_df['早期園區']==1]['專利數'].sum(), ha='center', va= 'bottom',fontsize=12)  \n",
    "plt.text(1.35, merge_df[merge_df['近期園區']==1]['專利數'].sum(), '%.0f' % merge_df[merge_df['近期園區']==1]['專利數'].sum(), ha='center', va= 'bottom',fontsize=12)  \n",
    "plt.text(1.7, merge_df[(merge_df['近期園區']==0)&(merge_df['早期園區']==0)]['專利數'].sum(), '%.0f' % merge_df[(merge_df['近期園區']==0)&(merge_df['早期園區']==0)]['專利數'].sum(), ha='center', va= 'bottom',fontsize=12)  \n",
    "\n",
    "plt.title('四川',fontproperties=myfont,fontsize=20)\n",
    "plt.xticks([0.75,1,2],['','',''],fontproperties=myfont)\n",
    "plt.legend(handles = [bar1,bar2,bar3], loc='upper left',prop=myfont)"
   ]
  },
  {
   "cell_type": "code",
   "execution_count": 10,
   "metadata": {},
   "outputs": [
    {
     "data": {
      "text/plain": [
       "<matplotlib.legend.Legend at 0x23dbba6c908>"
      ]
     },
     "execution_count": 10,
     "metadata": {},
     "output_type": "execute_result"
    },
    {
     "data": {
      "image/png": "[encoded data removed]",
      "text/plain": [
       "<Figure size 360x360 with 1 Axes>"
      ]
     },
     "metadata": {
      "needs_background": "light"
     },
     "output_type": "display_data"
    }
   ],
   "source": [
    "fig = plt.figure(figsize = (5,5))\n",
    "ax1 = fig.add_subplot(111)\n",
    "ax1.set_ylabel('Patent Counts/Firms ')\n",
    "bar1 = ax1.bar(1,merge_df[merge_df['早期園區']==1]['專利數'].sum()/merge_df[merge_df['早期園區']==1]['專利數'].count(),alpha=0.7,width=0.35,color='r',label='早期園區')\n",
    "bar2 = ax1.bar(1+0.35,merge_df[merge_df['近期園區']==1]['專利數'].sum()/merge_df[merge_df['近期園區']==1]['專利數'].count(),alpha=0.7,width=0.35,color='b',label='近期園區')\n",
    "bar3 = ax1.bar(1+0.7,merge_df[(merge_df['近期園區']==0)&(merge_df['早期園區']==0)]['專利數'].sum()/merge_df[(merge_df['近期園區']==0)&(merge_df['早期園區']==0)]['專利數'].count(),alpha=0.7,width=0.35,color='k',label='園區外')\n",
    "\n",
    "plt.text(1, (merge_df[merge_df['早期園區']==1]['專利數'].sum()/merge_df[merge_df['早期園區']==1]['專利數'].count()), '%.2f' % (merge_df[merge_df['早期園區']==1]['專利數'].sum()/merge_df[merge_df['早期園區']==1]['專利數'].count()), ha='center', va= 'bottom',fontsize=12)  \n",
    "plt.text(1.35, (merge_df[merge_df['近期園區']==1]['專利數'].sum()/merge_df[merge_df['近期園區']==1]['專利數'].count()), '%.2f' % (merge_df[merge_df['近期園區']==1]['專利數'].sum()/merge_df[merge_df['近期園區']==1]['專利數'].count()), ha='center', va= 'bottom',fontsize=12)  \n",
    "plt.text(1.7, (merge_df[(merge_df['近期園區']==0)&(merge_df['早期園區']==0)]['專利數'].sum()/merge_df[(merge_df['近期園區']==0)&(merge_df['早期園區']==0)]['專利數'].count()), '%.0f' % (merge_df[(merge_df['近期園區']==0)&(merge_df['早期園區']==0)]['專利數'].sum()/merge_df[(merge_df['近期園區']==0)&(merge_df['早期園區']==0)]['專利數'].count()), ha='center', va= 'bottom',fontsize=12)  \n",
    "\n",
    "plt.title('四川',fontproperties=myfont,fontsize=20)\n",
    "plt.xticks([0.75,1,2],['','',''],fontproperties=myfont)\n",
    "plt.legend(handles = [bar1,bar2,bar3], loc='upper right',prop=myfont)"
   ]
  },
  {
   "cell_type": "code",
   "execution_count": null,
   "metadata": {},
   "outputs": [],
   "source": []
  }
 ],
 "metadata": {
  "kernelspec": {
   "display_name": "Python 3",
   "language": "python",
   "name": "python3"
  },
  "language_info": {
   "codemirror_mode": {
    "name": "ipython",
    "version": 3
   },
   "file_extension": ".py",
   "mimetype": "text/x-python",
   "name": "python",
   "nbconvert_exporter": "python",
   "pygments_lexer": "ipython3",
   "version": "3.7.4"
  }
 },
 "nbformat": 4,
 "nbformat_minor": 2
}
