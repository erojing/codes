{
 "cells": [
  {
   "cell_type": "code",
   "execution_count": 1,
   "metadata": {},
   "outputs": [],
   "source": [
    "import pandas as pd\n",
    "import numpy as np\n",
    "import matplotlib.pyplot as plt\n",
    "import re\n",
    "import time\n",
    "import datetime\n",
    "import geocoder\n",
    "pd.set_option('display.max_rows',500)\n",
    "pd.set_option('display.max_columns',50)\n",
    "pd.set_option('max_colwidth',200)\n",
    "%matplotlib inline\n",
    "import requests\n",
    "import json\n",
    "import urllib\n",
    "from urllib.request import urlopen\n",
    "\n",
    "def getGeoForAddress(address):\n",
    "    add = urllib.parse.quote(address)\n",
    "    addressUrl = \"https://maps.googleapis.com/maps/api/geocode/json?address=\" + add + '&key='\n",
    "    res = requests.get(addressUrl)\n",
    "    js = json.loads(res.text)\n",
    "    if js.get('results'):\n",
    "        lat = js.get('results')[0]['geometry']['location']['lat']\n",
    "        lng = js.get('results')[0]['geometry']['location']['lng']\n",
    "    else:\n",
    "        lat = ''\n",
    "        lng = ''\n",
    "    return [lat, lng]\n",
    "def ngram(text, n=3, pad=True):\n",
    "    text = text.strip()\n",
    "    if pad:\n",
    "        text = \" %s \" % text\n",
    "    return set([text[i:i+n] for i in range(len(text)-n+1)])\n",
    "    \n",
    "def create_ngram(text1, text2, n=3, pad=True):\n",
    "    return ngram(text1, n=n, pad=pad), ngram(text2, n=n, pad=pad)\n",
    "\n",
    "def tversky_index(text1, text2, a=None, b=None, q=3, pad=True):\n",
    "    text1, text2 = create_ngram(text1, text2, n=q, pad=pad)\n",
    "    agree_tot = len(text1.intersection(text2))\n",
    "    v1 = len(text1) - agree_tot\n",
    "    v2 = len(text2) - agree_tot\n",
    "    \n",
    "    if a != None and b != None:\n",
    "        a = a/float(a+b)\n",
    "        b = b/float(a+b)\n",
    "    elif a <= 1.0 and a >= 0.0:\n",
    "        b = 1-a\n",
    "    elif b <= 1.0 and b >= 0.0:\n",
    "        a = 1-b\n",
    "    else:\n",
    "        a = 0.5\n",
    "        b = 0.5        \n",
    "    return float(agree_tot)/(agree_tot+a*v1+b*v2)\n",
    "# incoPat為申請人list\n",
    "def fuzzy(incoPat,indus):\n",
    "    corptype = ['有限','公司','责任','集团','股份','控股']\n",
    "    text1 = incoPat\n",
    "    text2 = indus\n",
    "    incoPat_nor = []   \n",
    "    for text in text1:\n",
    "        for i in corptype:\n",
    "            if i in text:\n",
    "                text = re.sub(i,'',text)\n",
    "        incoPat_nor.append(text)\n",
    "    for i in corptype:\n",
    "        if i in text2:\n",
    "            text2 = re.sub(i,'',text2)\n",
    "    similar = []\n",
    "    for text in incoPat_nor:\n",
    "        dice = tversky_index(text,text2, a=0.5, q=min(2,len(text),len(text2)), pad=False)\n",
    "        if dice>0.7:\n",
    "            similar.append([incoPat[incoPat_nor.index(text)],dice])\n",
    "        else:\n",
    "            pass\n",
    "    if len(similar)>0:\n",
    "        return similar[[k[1] for k in similar].index(max([i[1] for i in similar]))][0]\n",
    "    else:\n",
    "        return indus\n",
    "city_code = pd.read_excel('C:/Users/user/Dropbox/paper/科技園區/China/省地縣碼對照.xls')\n",
    "city_code = city_code[~city_code['代碼'].isnull()].drop(['标注','说明'],axis=1)\n",
    "city_code['代碼_str'] = city_code['代碼'].apply(lambda x:str(int(x)))\n",
    "city_code = city_code.drop('代碼',axis=1)"
   ]
  },
  {
   "cell_type": "markdown",
   "metadata": {},
   "source": [
    "# 天津資料整合"
   ]
  },
  {
   "cell_type": "code",
   "execution_count": 2,
   "metadata": {},
   "outputs": [],
   "source": [
    "df1 = pd.read_excel(r'E:\\paper\\專利資料-新型&授權\\新型授權-天津1.xls')\n",
    "df2 = pd.read_excel(r'E:\\paper\\專利資料-新型&授權\\新型授權-天津2.xls')\n",
    "df3 = pd.read_excel(r'E:\\paper\\專利資料-新型&授權\\新型授權-天津3.xls')\n",
    "patent_df = pd.concat([df1,df2,df3],ignore_index=True,sort=True)"
   ]
  },
  {
   "cell_type": "code",
   "execution_count": 7,
   "metadata": {},
   "outputs": [
    {
     "data": {
      "text/plain": [
       "(147799, 38)"
      ]
     },
     "execution_count": 7,
     "metadata": {},
     "output_type": "execute_result"
    }
   ],
   "source": [
    "patent_df.shape"
   ]
  },
  {
   "cell_type": "code",
   "execution_count": 8,
   "metadata": {},
   "outputs": [],
   "source": [
    "patent_df['申请人地址'].fillna('',inplace=True)\n",
    "patent_df = patent_df[patent_df['申请人地址']!='']"
   ]
  },
  {
   "cell_type": "code",
   "execution_count": 9,
   "metadata": {},
   "outputs": [
    {
     "data": {
      "text/plain": [
       "(147799, 38)"
      ]
     },
     "execution_count": 9,
     "metadata": {},
     "output_type": "execute_result"
    }
   ],
   "source": [
    "patent_df.shape"
   ]
  },
  {
   "cell_type": "code",
   "execution_count": 3,
   "metadata": {},
   "outputs": [
    {
     "name": "stderr",
     "output_type": "stream",
     "text": [
      "D:\\Anaconda\\lib\\site-packages\\IPython\\core\\interactiveshell.py:3058: DtypeWarning: Columns (0,3,16) have mixed types. Specify dtype option on import or set low_memory=False.\n",
      "  interactivity=interactivity, compiler=compiler, result=result)\n"
     ]
    }
   ],
   "source": [
    "#for PC\n",
    "patent_df = patent_df[patent_df['专利类型']=='发明授权']\n",
    "patent_df = patent_df[patent_df['申请人地址'].map(lambda x:len(re.findall(r'\\D+[\\s\\S]+',x)))==1]\n",
    "patent_df['申请人地址'] = patent_df['申请人地址'].map(lambda x:re.findall(r'\\D+[\\s\\S]+',x)[0])\n",
    "patent_df['申请人地址'] = patent_df['申请人地址'].map(lambda x:re.sub(r\"\\s+\", \"\",x))\n",
    "patent_df_firm = patent_df[patent_df['申请人类型'].str.contains('企业')]\n",
    "applicant = patent_df_firm['申请人'].str.split(';',expand=True).stack().reset_index(level=1,drop=True).rename('申请人2')\n",
    "patent_df_firm = patent_df_firm.join(applicant)\n",
    "patent_df_firm['類別'] = patent_df_firm['申请人类型'].map(lambda x:x.strip().split('  '))\n",
    "patent_df_firm = patent_df_firm[~patent_df_firm['标题'].duplicated()]\n",
    "patent_df_firm['申请人类型'] = patent_df_firm.apply(lambda x:x['類別'][0],axis=1)\n",
    "patent_df_firm = patent_df_firm[patent_df_firm['申请人类型']=='企业'].sort_values('申请日')\n",
    "patent_df_firm.drop(['類別','申请人'],axis=1,inplace=True)\n",
    "patent_df_firm.rename(columns={'申请人2':'申请人'},inplace=True)\n",
    "patent_df_firm = patent_df_firm[patent_df_firm['申请日']<datetime.datetime.strptime('2013-01-01','%Y-%m-%d')]\n",
    "patent_df_firm.drop_duplicates('申请人地址', keep='last', inplace=True)\n",
    "patent_df_firm.drop_duplicates('申请人', keep='last', inplace=True)\n",
    "\n",
    "firm_df = pd.read_csv(r'E:\\paper\\Firm csv\\firm_data_2012.csv')\n",
    "firm_gd = firm_df[firm_df['區域代碼'].astype(str).str.contains(r'12\\d{10}')==True]\n",
    "firm_gd = firm_gd.loc[:,['法人代碼','企業名稱','地址','區域代碼','行業代碼']]\n",
    "firm_gd['區域代碼_str'] = firm_gd['區域代碼'].astype(str).map(lambda x:x[0:6])\n",
    "firm_gd = pd.merge(firm_gd,city_code,left_on='區域代碼_str',right_on='代碼_str',how='left')\n",
    "firm_gd['名稱'].fillna('',inplace=True)\n",
    "firm_gd['市級'].fillna('',inplace=True)\n",
    "firm_gd['省份'].fillna('',inplace=True)\n",
    "firm_gd['地址'].fillna('',inplace=True)\n",
    "firm_gd['地址'] = firm_gd['地址'].map(lambda x:re.sub(r\"\\s+\", \"\",x))\n",
    "firm_gd['地址'] = firm_gd.apply(lambda x:re.sub(x['省份'],\"\",x['地址']),axis=1)\n",
    "firm_gd['地址'] = firm_gd.apply(lambda x:re.sub(x['市級'],\"\",x['地址']),axis=1)\n",
    "firm_gd['地址'] = firm_gd.apply(lambda x:re.sub(x['名稱'],\"\",x['地址']),axis=1)\n",
    "firm_gd['地址'] = firm_gd['省份']+firm_gd['市級']+firm_gd['名稱']+firm_gd['地址']\n",
    "firm_gd.drop(['省份','市級','名稱','代碼_str'],axis=1,inplace=True)\n",
    "firm_gd.dropna(subset=['企業名稱'],inplace=True)"
   ]
  },
  {
   "cell_type": "code",
   "execution_count": 12,
   "metadata": {},
   "outputs": [],
   "source": [
    "patent_df_firm = patent_df_firm[patent_df_firm['申请日']>datetime.datetime.strptime('2007-12-31','%Y-%m-%d')]\n",
    "incoPat = list(patent_df_firm['申请人'])"
   ]
  },
  {
   "cell_type": "code",
   "execution_count": 18,
   "metadata": {},
   "outputs": [
    {
     "data": {
      "text/plain": [
       "(9080, 38)"
      ]
     },
     "execution_count": 18,
     "metadata": {},
     "output_type": "execute_result"
    }
   ],
   "source": [
    "patent_df_firm.shape"
   ]
  },
  {
   "cell_type": "code",
   "execution_count": 16,
   "metadata": {},
   "outputs": [
    {
     "data": {
      "text/plain": [
       "(4840, 6)"
      ]
     },
     "execution_count": 16,
     "metadata": {},
     "output_type": "execute_result"
    }
   ],
   "source": [
    "firm_gd.shape"
   ]
  },
  {
   "cell_type": "code",
   "execution_count": 19,
   "metadata": {},
   "outputs": [],
   "source": [
    "firm_gd['name_模糊比對'] = firm_gd['企業名稱'].map(lambda x:fuzzy(incoPat,x))"
   ]
  },
  {
   "cell_type": "code",
   "execution_count": 20,
   "metadata": {},
   "outputs": [],
   "source": [
    "firm_gd.to_excel(r'E:\\paper\\清理結果-新型&授權\\天津_廠商.xlsx')"
   ]
  },
  {
   "cell_type": "markdown",
   "metadata": {},
   "source": [
    "# 非模糊比對"
   ]
  },
  {
   "cell_type": "code",
   "execution_count": 21,
   "metadata": {},
   "outputs": [
    {
     "name": "stdout",
     "output_type": "stream",
     "text": [
      "(1405, 45)\n",
      "(12515, 45)\n"
     ]
    }
   ],
   "source": [
    "merge_df = firm_gd.merge(patent_df_firm,left_on='企業名稱',right_on='申请人',how='outer')\n",
    "merge_df.fillna('',inplace=True)\n",
    "print(merge_df[(merge_df['企業名稱']!='')&(merge_df['申请人']!='')].shape)\n",
    "print(merge_df.shape)"
   ]
  },
  {
   "cell_type": "code",
   "execution_count": 22,
   "metadata": {
    "collapsed": true
   },
   "outputs": [
    {
     "name": "stdout",
     "output_type": "stream",
     "text": [
      "(6386, 50)\n",
      "(10153, 50)\n"
     ]
    },
    {
     "name": "stderr",
     "output_type": "stream",
     "text": [
      "D:\\Anaconda\\lib\\site-packages\\pandas\\core\\strings.py:1843: UserWarning: This pattern has match groups. To actually get the groups, use str.extract.\n",
      "  return func(self, *args, **kwargs)\n",
      "D:\\Anaconda\\lib\\site-packages\\ipykernel_launcher.py:4: SettingWithCopyWarning: \n",
      "A value is trying to be set on a copy of a slice from a DataFrame.\n",
      "Try using .loc[row_indexer,col_indexer] = value instead\n",
      "\n",
      "See the caveats in the documentation: http://pandas.pydata.org/pandas-docs/stable/user_guide/indexing.html#returning-a-view-versus-a-copy\n",
      "  after removing the cwd from sys.path.\n",
      "D:\\Anaconda\\lib\\site-packages\\ipykernel_launcher.py:5: SettingWithCopyWarning: \n",
      "A value is trying to be set on a copy of a slice from a DataFrame.\n",
      "Try using .loc[row_indexer,col_indexer] = value instead\n",
      "\n",
      "See the caveats in the documentation: http://pandas.pydata.org/pandas-docs/stable/user_guide/indexing.html#returning-a-view-versus-a-copy\n",
      "  \"\"\"\n",
      "D:\\Anaconda\\lib\\site-packages\\pandas\\core\\indexing.py:376: SettingWithCopyWarning: \n",
      "A value is trying to be set on a copy of a slice from a DataFrame.\n",
      "Try using .loc[row_indexer,col_indexer] = value instead\n",
      "\n",
      "See the caveats in the documentation: http://pandas.pydata.org/pandas-docs/stable/user_guide/indexing.html#returning-a-view-versus-a-copy\n",
      "  self.obj[key] = _infer_fill_value(value)\n",
      "D:\\Anaconda\\lib\\site-packages\\pandas\\core\\indexing.py:494: SettingWithCopyWarning: \n",
      "A value is trying to be set on a copy of a slice from a DataFrame.\n",
      "Try using .loc[row_indexer,col_indexer] = value instead\n",
      "\n",
      "See the caveats in the documentation: http://pandas.pydata.org/pandas-docs/stable/user_guide/indexing.html#returning-a-view-versus-a-copy\n",
      "  self.obj[item] = s\n"
     ]
    }
   ],
   "source": [
    "merge_df['name'] = merge_df.apply(lambda x:x['申请人'] if x['申请人']!='' else x['企業名稱'],axis=1)\n",
    "merge_df['address'] = merge_df.apply(lambda x:x['申请人地址'] if x['申请人地址']!='' else x['地址'],axis=1)\n",
    "merge_df_clean = merge_df[merge_df['address'].str.contains(r'\\w+(街|道|路|巷|村|小区|园区|社区)')]\n",
    "merge_df_clean['address'] = merge_df_clean['address'].map(lambda x: x+'号' if ((x[-1].isdigit()) and (re.match(r'\\w+[街道路巷]',x))) else x)\n",
    "merge_df_clean['完整地址'] = merge_df_clean['address'].map(lambda x:1 if re.compile(r'\\w+[街道路巷]\\S+号').search(x) else 0)\n",
    "merge_df_clean.loc[:,'lat'] = 0\n",
    "merge_df_clean.loc[:,'lnt'] = 0\n",
    "print(merge_df_clean[merge_df_clean['完整地址']==1].shape)\n",
    "print(merge_df_clean.shape)"
   ]
  },
  {
   "cell_type": "code",
   "execution_count": 23,
   "metadata": {},
   "outputs": [],
   "source": [
    "merge_df_clean.to_excel(r'E:\\paper\\清理結果-新型&授權\\天津_結果.xlsx')"
   ]
  },
  {
   "cell_type": "markdown",
   "metadata": {},
   "source": [
    "# merge舊資料"
   ]
  },
  {
   "cell_type": "code",
   "execution_count": 15,
   "metadata": {},
   "outputs": [
    {
     "name": "stdout",
     "output_type": "stream",
     "text": [
      "(492, 44)\n",
      "(6533, 44)\n",
      "(2950, 49)\n",
      "(6501, 49)\n"
     ]
    }
   ],
   "source": [
    "merge_df = firm_gd.merge(patent_df_firm,left_on='企業名稱',right_on='申请人',how='outer')\n",
    "merge_df.fillna('',inplace=True)\n",
    "print(merge_df[(merge_df['企業名稱']!='')&(merge_df['申请人']!='')].shape)\n",
    "print(merge_df.shape)\n",
    "merge_df['name'] = merge_df.apply(lambda x:x['申请人'] if x['申请人']!='' else x['企業名稱'],axis=1)\n",
    "merge_df['address'] = merge_df.apply(lambda x:x['申请人地址'] if x['申请人地址']!='' else x['地址'],axis=1)\n",
    "merge_df = merge_df[merge_df['address']!='']\n",
    "merge_df_clean = merge_df\n",
    "merge_df_clean['address'] = merge_df_clean['address'].map(lambda x: x+'号' if ((x[-1].isdigit()) and (re.match(r'\\w+[街道路巷]',x))) else x)\n",
    "merge_df_clean['完整地址'] = merge_df_clean['address'].map(lambda x:1 if re.compile(r'\\w+[街道路巷]\\S+号').search(x) else 0)\n",
    "merge_df_clean.loc[:,'lat'] = 0\n",
    "merge_df_clean.loc[:,'lnt'] = 0\n",
    "print(merge_df_clean[merge_df_clean['完整地址']==1].shape)\n",
    "print(merge_df_clean.shape)"
   ]
  },
  {
   "cell_type": "code",
   "execution_count": 16,
   "metadata": {},
   "outputs": [
    {
     "data": {
      "text/plain": [
       "Index(['Unnamed: 0', '法人代碼', '企業名稱', '地址', '區域代碼', '行業代碼', '區域代碼_str',\n",
       "       'name_模糊比對', 'CPC', 'IPC', 'inpadoc同族', 'inpadoc同族个数', '专利寿命（月）',\n",
       "       '专利类型', '中国申请人区县', '中国申请人地市', '优先权信息', '公开国别', '公开（公告）号', '公开（公告）日',\n",
       "       '发明人', '合享价值度', '同族国家', '失效日', '序号', '引证专利', '引证科技文献', '扩展同族', '扩展同族个数',\n",
       "       '文献页数', '权利要求数量', '标准化申请人', '标题', '申请人', '申请人国别代码', '申请人地址', '申请人省市代码',\n",
       "       '申请人类型', '申请号', '申请日', '简单同族', '简单同族个数', '被引证专利', '被引证国别(forward)',\n",
       "       '被引证次数', '链接到incoPat', 'name', 'address', '完整地址', 'lat', 'lnt', '天津濱海',\n",
       "       '專利數', '早期園區', '近期園區'],\n",
       "      dtype='object')"
      ]
     },
     "execution_count": 16,
     "metadata": {},
     "output_type": "execute_result"
    }
   ],
   "source": [
    "done_data = pd.read_excel(r'E:\\paper\\清理結果-園區內外\\天津_結果.xlsx')\n",
    "done_data.columns"
   ]
  },
  {
   "cell_type": "code",
   "execution_count": 17,
   "metadata": {},
   "outputs": [
    {
     "data": {
      "text/plain": [
       "(1987, 53)"
      ]
     },
     "execution_count": 17,
     "metadata": {},
     "output_type": "execute_result"
    }
   ],
   "source": [
    "merge_df_clean.drop(['lat','lnt'],axis=1,inplace=True)\n",
    "merge_df_clean = merge_df_clean.merge(done_data[['name','lat','lnt','天津濱海','專利數','早期園區','近期園區']],left_on='name',right_on='name',how='left')\n",
    "merge_df_clean['lat'].fillna('',inplace=True)\n",
    "merge_df_clean[merge_df_clean['lat']==''].shape"
   ]
  },
  {
   "cell_type": "code",
   "execution_count": 18,
   "metadata": {},
   "outputs": [],
   "source": [
    "merge_df_clean.to_excel(r'E:\\paper\\清理結果-新\\天津_結果.xlsx')"
   ]
  },
  {
   "cell_type": "markdown",
   "metadata": {},
   "source": [
    "# 模糊比對"
   ]
  },
  {
   "cell_type": "code",
   "execution_count": 24,
   "metadata": {},
   "outputs": [
    {
     "name": "stdout",
     "output_type": "stream",
     "text": [
      "(1574, 45)\n",
      "(12278, 45)\n"
     ]
    }
   ],
   "source": [
    "merge_df_fuzzy = firm_gd.merge(patent_df_firm,left_on='name_模糊比對',right_on='申请人',how='outer')\n",
    "merge_df_fuzzy.fillna('',inplace=True)\n",
    "merge_df_fuzzy.drop_duplicates(['name_模糊比對','申请人'], keep='last', inplace=True)\n",
    "print(merge_df_fuzzy[(merge_df_fuzzy['申请人']!='')&(merge_df_fuzzy['企業名稱']!='')].shape)\n",
    "print(merge_df_fuzzy.shape)"
   ]
  },
  {
   "cell_type": "code",
   "execution_count": 25,
   "metadata": {
    "scrolled": true
   },
   "outputs": [
    {
     "name": "stdout",
     "output_type": "stream",
     "text": [
      "(6321, 50)\n",
      "(10014, 50)\n"
     ]
    },
    {
     "name": "stderr",
     "output_type": "stream",
     "text": [
      "D:\\Anaconda\\lib\\site-packages\\ipykernel_launcher.py:4: SettingWithCopyWarning: \n",
      "A value is trying to be set on a copy of a slice from a DataFrame.\n",
      "Try using .loc[row_indexer,col_indexer] = value instead\n",
      "\n",
      "See the caveats in the documentation: http://pandas.pydata.org/pandas-docs/stable/user_guide/indexing.html#returning-a-view-versus-a-copy\n",
      "  after removing the cwd from sys.path.\n",
      "D:\\Anaconda\\lib\\site-packages\\ipykernel_launcher.py:5: SettingWithCopyWarning: \n",
      "A value is trying to be set on a copy of a slice from a DataFrame.\n",
      "Try using .loc[row_indexer,col_indexer] = value instead\n",
      "\n",
      "See the caveats in the documentation: http://pandas.pydata.org/pandas-docs/stable/user_guide/indexing.html#returning-a-view-versus-a-copy\n",
      "  \"\"\"\n"
     ]
    }
   ],
   "source": [
    "merge_df_fuzzy['name'] = merge_df_fuzzy.apply(lambda x:x['申请人'] if x['申请人']!='' else x['企業名稱'],axis=1)\n",
    "merge_df_fuzzy['address'] = merge_df_fuzzy.apply(lambda x:x['申请人地址'] if x['申请人地址']!='' else x['地址'],axis=1)\n",
    "merge_df_fuzzy_clean = merge_df_fuzzy[merge_df_fuzzy['address'].str.contains(r'\\w+(街|道|路|巷|村|小区|园区|社区)')]\n",
    "merge_df_fuzzy_clean['address'] = merge_df_fuzzy_clean['address'].map(lambda x: x+'号' if ((x[-1].isdigit()) and (re.match(r'\\w+[街道路巷]',x))) else x)\n",
    "merge_df_fuzzy_clean['完整地址'] = merge_df_fuzzy_clean['address'].map(lambda x:1 if re.compile(r'\\w+[街道路巷]\\S+号').search(x) else 0)\n",
    "merge_df_fuzzy_clean.loc[:,'lat'] = 0\n",
    "merge_df_fuzzy_clean.loc[:,'lnt'] = 0\n",
    "print(merge_df_fuzzy_clean[merge_df_fuzzy_clean['完整地址']==1].shape)\n",
    "print(merge_df_fuzzy_clean.shape)"
   ]
  },
  {
   "cell_type": "code",
   "execution_count": 26,
   "metadata": {},
   "outputs": [],
   "source": [
    "merge_df_fuzzy_clean.to_excel(r'E:\\paper\\清理結果-新型&授權\\天津_模糊結果.xlsx')"
   ]
  },
  {
   "cell_type": "markdown",
   "metadata": {},
   "source": [
    "# 定位"
   ]
  },
  {
   "cell_type": "code",
   "execution_count": 2,
   "metadata": {},
   "outputs": [],
   "source": [
    "merge_df_clean = pd.read_excel(r'E:\\paper\\清理結果-新型&授權\\天津_結果.xlsx',index_col=0)"
   ]
  },
  {
   "cell_type": "code",
   "execution_count": 3,
   "metadata": {},
   "outputs": [
    {
     "data": {
      "text/plain": [
       "(1987, 53)"
      ]
     },
     "execution_count": 3,
     "metadata": {},
     "output_type": "execute_result"
    }
   ],
   "source": [
    "merge_df_clean = pd.read_excel(r'E:\\paper\\清理結果-新\\天津_結果.xlsx',index_col=0)\n",
    "merge_df_clean.fillna('',inplace=True)\n",
    "merge_df_clean[merge_df_clean['lat']==''].shape"
   ]
  },
  {
   "cell_type": "code",
   "execution_count": 4,
   "metadata": {},
   "outputs": [],
   "source": [
    "for i in merge_df_clean[merge_df_clean['lat']==''].index:\n",
    "    address = merge_df_clean.loc[i,'address']\n",
    "    g = getGeoForAddress(address)\n",
    "    merge_df_clean.loc[i,'lat'] = g[0]\n",
    "    merge_df_clean.loc[i,'lnt'] = g[1]"
   ]
  },
  {
   "cell_type": "code",
   "execution_count": 5,
   "metadata": {},
   "outputs": [
    {
     "name": "stdout",
     "output_type": "stream",
     "text": [
      "(6501, 53)\n",
      "(177, 53)\n"
     ]
    }
   ],
   "source": [
    "print(merge_df_clean.shape)\n",
    "print(merge_df_clean[merge_df_clean['lat']==''].shape)"
   ]
  },
  {
   "cell_type": "code",
   "execution_count": 6,
   "metadata": {},
   "outputs": [],
   "source": [
    "merge_df_clean.to_excel(r'E:\\paper\\清理結果-新\\天津_結果.xlsx')"
   ]
  },
  {
   "cell_type": "markdown",
   "metadata": {},
   "source": [
    "# 作圖"
   ]
  },
  {
   "cell_type": "code",
   "execution_count": 7,
   "metadata": {},
   "outputs": [],
   "source": [
    "from geopy.distance import geodesic\n",
    "def how_far(a,b):\n",
    "    try:\n",
    "        return geodesic(a,b).kilometers\n",
    "    except:\n",
    "        return np.nan\n",
    "applicant = patent_df['申请人'].str.split(';',expand=True).stack().reset_index(level=1,drop=True).rename('申请人2')\n",
    "applicant = applicant.map(lambda x:x.strip())\n",
    "patent_df_new = patent_df.join(applicant)\n",
    "patent_count = patent_df_new.groupby('申请人2')['标题'].count().rename('專利數')"
   ]
  },
  {
   "cell_type": "code",
   "execution_count": 8,
   "metadata": {},
   "outputs": [
    {
     "data": {
      "text/plain": [
       "申请人2\n",
       "BETAFENCE金属制品(天津)有限公司       1\n",
       "曹国平                         1\n",
       "曹嘉坤                         1\n",
       "曹启武                         1\n",
       "曹双成                         1\n",
       "                         ... \n",
       "天津工业大学                   1357\n",
       "河北工业大学                   1684\n",
       "南开大学                     1933\n",
       "乐金电子(天津)电器有限公司           3078\n",
       "天津大学                     7053\n",
       "Name: 專利數, Length: 34006, dtype: int64"
      ]
     },
     "execution_count": 8,
     "metadata": {},
     "output_type": "execute_result"
    }
   ],
   "source": [
    "patent_count.sort_values()"
   ]
  },
  {
   "cell_type": "code",
   "execution_count": 5,
   "metadata": {},
   "outputs": [],
   "source": [
    "merge_df = pd.read_excel(r'E:\\paper\\清理結果-新型&授權\\天津_結果.xlsx',index_col=0)\n",
    "target1 = (39.09561,117.12518)\n",
    "merge_df['天津濱海'] = merge_df.apply(lambda x:how_far(target1,(x['lat'],x['lnt'])),axis=1)\n",
    "merge_df = merge_df.merge(patent_count,left_on='name',right_on='申请人2',how='left')\n",
    "merge_df['專利數'].fillna(0,inplace=True)"
   ]
  },
  {
   "cell_type": "code",
   "execution_count": 9,
   "metadata": {},
   "outputs": [],
   "source": [
    "merge_df = pd.read_excel(r'E:\\paper\\清理結果-新\\天津_結果.xlsx',index_col=0)\n",
    "merge_df.fillna('',inplace=True)\n",
    "merge_df.drop('專利數',axis=1,inplace=True)\n",
    "target1 = (39.09561,117.12518)\n",
    "\n",
    "for i in merge_df[merge_df['天津濱海']==''].index:\n",
    "    merge_df.loc[i,'天津濱海'] = how_far(target1,(merge_df.loc[i,'lat'],merge_df.loc[i,'lnt']))\n",
    "merge_df = merge_df.merge(patent_count,left_on='name',right_on='申请人2',how='left')\n",
    "merge_df['專利數'].fillna(0,inplace=True)"
   ]
  },
  {
   "cell_type": "code",
   "execution_count": 10,
   "metadata": {},
   "outputs": [],
   "source": [
    "merge_df['早期園區'] = merge_df.apply(lambda x:1 if (x['天津濱海']<10) else 0,axis=1)\n",
    "merge_df['近期園區'] = 0"
   ]
  },
  {
   "cell_type": "code",
   "execution_count": 11,
   "metadata": {},
   "outputs": [],
   "source": [
    "merge_df.to_excel(r'E:\\paper\\清理結果-新園區內外\\天津_結果.xlsx')"
   ]
  },
  {
   "cell_type": "code",
   "execution_count": 12,
   "metadata": {},
   "outputs": [
    {
     "name": "stdout",
     "output_type": "stream",
     "text": [
      "(6501, 53)\n",
      "0.48500230733733274\n",
      "0.012767266574373173\n"
     ]
    }
   ],
   "source": [
    "print(merge_df.shape)\n",
    "print(len(merge_df[merge_df['專利數']==0]['專利數'])/len(merge_df['專利數']))\n",
    "print(len(merge_df[merge_df['專利數']>=100]['專利數'])/len(merge_df['專利數']))"
   ]
  },
  {
   "cell_type": "code",
   "execution_count": 13,
   "metadata": {},
   "outputs": [
    {
     "data": {
      "text/plain": [
       "專利數\n",
       "0.0       3153\n",
       "1.0        697\n",
       "2.0        424\n",
       "3.0        229\n",
       "4.0        177\n",
       "5.0        147\n",
       "6.0        146\n",
       "7.0        132\n",
       "8.0        102\n",
       "9.0         94\n",
       "10.0        83\n",
       "11.0        70\n",
       "12.0        73\n",
       "13.0        61\n",
       "14.0        54\n",
       "15.0        44\n",
       "16.0        55\n",
       "17.0        39\n",
       "18.0        31\n",
       "19.0        44\n",
       "20.0        20\n",
       "21.0        26\n",
       "22.0        27\n",
       "23.0        34\n",
       "24.0        20\n",
       "25.0        23\n",
       "26.0        30\n",
       "27.0        19\n",
       "28.0        14\n",
       "29.0        19\n",
       "30.0        16\n",
       "31.0        12\n",
       "32.0         7\n",
       "33.0        15\n",
       "34.0         9\n",
       "35.0        12\n",
       "36.0        10\n",
       "37.0         9\n",
       "38.0         9\n",
       "39.0         6\n",
       "40.0         8\n",
       "41.0        15\n",
       "42.0         5\n",
       "43.0         7\n",
       "44.0         9\n",
       "45.0         8\n",
       "46.0         7\n",
       "47.0         5\n",
       "48.0         5\n",
       "49.0         7\n",
       "50.0         6\n",
       "51.0        12\n",
       "52.0         3\n",
       "53.0         7\n",
       "54.0        10\n",
       "55.0         1\n",
       "56.0         6\n",
       "57.0         9\n",
       "58.0         5\n",
       "59.0         6\n",
       "60.0         2\n",
       "61.0         2\n",
       "62.0         5\n",
       "63.0         3\n",
       "64.0         2\n",
       "65.0         3\n",
       "66.0         1\n",
       "67.0         3\n",
       "68.0         3\n",
       "69.0         2\n",
       "70.0         2\n",
       "71.0         4\n",
       "72.0         5\n",
       "73.0         1\n",
       "74.0         3\n",
       "75.0         1\n",
       "76.0         6\n",
       "77.0         2\n",
       "79.0         3\n",
       "80.0         2\n",
       "81.0         3\n",
       "82.0         1\n",
       "83.0         1\n",
       "84.0         2\n",
       "85.0         1\n",
       "87.0         3\n",
       "88.0         1\n",
       "89.0         2\n",
       "90.0         1\n",
       "91.0         4\n",
       "92.0         2\n",
       "95.0         2\n",
       "96.0         1\n",
       "97.0         2\n",
       "98.0         2\n",
       "99.0         2\n",
       "100.0        2\n",
       "101.0        1\n",
       "102.0        1\n",
       "103.0        1\n",
       "104.0        1\n",
       "105.0        2\n",
       "106.0        1\n",
       "109.0        1\n",
       "110.0        2\n",
       "111.0        2\n",
       "112.0        2\n",
       "113.0        1\n",
       "114.0        3\n",
       "116.0        1\n",
       "118.0        1\n",
       "120.0        1\n",
       "121.0        1\n",
       "122.0        1\n",
       "124.0        2\n",
       "125.0        1\n",
       "127.0        1\n",
       "129.0        1\n",
       "130.0        1\n",
       "132.0        1\n",
       "134.0        1\n",
       "136.0        1\n",
       "140.0        2\n",
       "141.0        1\n",
       "145.0        1\n",
       "148.0        1\n",
       "149.0        1\n",
       "157.0        1\n",
       "159.0        1\n",
       "164.0        1\n",
       "179.0        1\n",
       "184.0        1\n",
       "190.0        1\n",
       "194.0        1\n",
       "200.0        1\n",
       "201.0        1\n",
       "206.0        1\n",
       "209.0        2\n",
       "217.0        1\n",
       "221.0        1\n",
       "223.0        1\n",
       "234.0        1\n",
       "236.0        1\n",
       "244.0        1\n",
       "252.0        1\n",
       "257.0        1\n",
       "258.0        1\n",
       "263.0        1\n",
       "265.0        1\n",
       "273.0        1\n",
       "278.0        1\n",
       "285.0        1\n",
       "288.0        1\n",
       "314.0        2\n",
       "316.0        1\n",
       "329.0        1\n",
       "333.0        1\n",
       "388.0        1\n",
       "399.0        1\n",
       "449.0        1\n",
       "462.0        1\n",
       "551.0        1\n",
       "563.0        1\n",
       "571.0        1\n",
       "574.0        1\n",
       "718.0        1\n",
       "1259.0       1\n",
       "3078.0       1\n",
       "Name: IPC, dtype: int64"
      ]
     },
     "execution_count": 13,
     "metadata": {},
     "output_type": "execute_result"
    }
   ],
   "source": [
    "merge_df.groupby('專利數')['IPC'].count()"
   ]
  },
  {
   "cell_type": "code",
   "execution_count": 14,
   "metadata": {},
   "outputs": [
    {
     "data": {
      "text/plain": [
       "專利數\n",
       "0.0     149\n",
       "1.0       6\n",
       "2.0       4\n",
       "3.0       4\n",
       "4.0       2\n",
       "5.0       1\n",
       "6.0       1\n",
       "8.0       2\n",
       "10.0      2\n",
       "11.0      1\n",
       "15.0      1\n",
       "26.0      1\n",
       "41.0      1\n",
       "61.0      1\n",
       "63.0      1\n",
       "Name: IPC, dtype: int64"
      ]
     },
     "execution_count": 14,
     "metadata": {},
     "output_type": "execute_result"
    }
   ],
   "source": [
    "merge_df[merge_df['lat']==''].groupby('專利數')['IPC'].count()"
   ]
  },
  {
   "cell_type": "code",
   "execution_count": 15,
   "metadata": {},
   "outputs": [
    {
     "data": {
      "text/plain": [
       "Text(0, 0.5, '無法定位廠商數量')"
      ]
     },
     "execution_count": 15,
     "metadata": {},
     "output_type": "execute_result"
    },
    {
     "data": {
      "image/png": "[encoded data removed]",
      "text/plain": [
       "<Figure size 432x288 with 2 Axes>"
      ]
     },
     "metadata": {
      "needs_background": "light"
     },
     "output_type": "display_data"
    }
   ],
   "source": [
    "from matplotlib.font_manager import FontProperties\n",
    "myfont = FontProperties(fname=r'C:\\Windows\\Fonts\\msjhbd.ttc')\n",
    "fig = plt.figure()\n",
    "ax1 = fig.add_subplot(111)\n",
    "ax1.plot(merge_df[merge_df['lat']!=0].groupby('專利數')['IPC'].count().index,merge_df[merge_df['lat']!=0].groupby('專利數')['IPC'].count())\n",
    "ax1.set_title('天津',fontproperties=myfont,fontsize=15)\n",
    "ax1.set_ylabel('廠商數量',fontproperties=myfont)\n",
    "ax1.set_xlabel('專利數量',fontproperties=myfont)\n",
    "ax1.set_xlim([0,100])\n",
    "ax1.set_ylim([0,800])\n",
    "ax2 = ax1.twinx()\n",
    "ax2.bar(merge_df[merge_df['lat']==''].groupby('專利數')['IPC'].count().index,merge_df[merge_df['lat']==''].groupby('專利數')['IPC'].count(),color='red')\n",
    "ax2.set_ylim([0,20])\n",
    "ax2.set_ylabel('無法定位廠商數量',fontproperties=myfont)\n"
   ]
  },
  {
   "cell_type": "code",
   "execution_count": 2,
   "metadata": {},
   "outputs": [
    {
     "name": "stdout",
     "output_type": "stream",
     "text": [
      "1602\n",
      "0.25644309268448856\n",
      "25\n"
     ]
    }
   ],
   "source": [
    "region = pd.read_excel(r'E:\\paper\\清理結果-新園區內外\\天津_結果.xlsx',index_col=0)\n",
    "region.fillna('',inplace=True)\n",
    "corptype = ['有限','公司','责任','集团','股份','控股','总公司','分公司']\n",
    "region['name_clean'] = region['name']\n",
    "for k in corptype:\n",
    "    region['name_clean'] = region['name_clean'].map(lambda x:re.sub(k,'',x))\n",
    "region['name_clean'] = region['name_clean'].map(lambda x:re.sub(r'\\(.*?\\)','',x))\n",
    "region['name_clean'] = region['name_clean'].map(lambda x:re.sub(r'\\（.*?\\）','',x))\n",
    "region['name_clean'] = region['name_clean'].map(lambda x:re.sub(r'\\(.*?\\）','',x))\n",
    "region['name_clean'] = region['name_clean'].map(lambda x:re.sub(r'\\（.*?\\)','',x))\n",
    "region['name_clean'] = region['name_clean'].map(lambda x:re.sub(r'[\\s+-─]','',x))\n",
    "clean = region[region.duplicated(['name_clean'],keep=False)].sort_values(by=['企業名稱'])\n",
    "patents = clean.groupby('name_clean')['專利數'].sum()\n",
    "final = clean.drop('專利數',axis=1).merge(patents,left_on='name_clean',right_on='name_clean',how='left')\n",
    "final.drop_duplicates(['name_clean'],keep='last',inplace=True)\n",
    "region.drop_duplicates(['name_clean'],keep=False,inplace=True)\n",
    "cleaned = pd.concat([region,final],ignore_index=True,sort=False)\n",
    "located = cleaned[cleaned['lat']!='']\n",
    "not_merge = located[located['企業名稱']=='']\n",
    "print(len(not_merge['專利數']))\n",
    "print(len(not_merge['專利數'])/len(located['專利數']))\n",
    "print(len(not_merge[not_merge['專利數']>100]['專利數']))"
   ]
  },
  {
   "cell_type": "code",
   "execution_count": 3,
   "metadata": {
    "scrolled": true
   },
   "outputs": [
    {
     "data": {
      "text/plain": [
       "專利數\n",
       "1      403\n",
       "2      245\n",
       "3      135\n",
       "4      100\n",
       "5       70\n",
       "6       60\n",
       "7       57\n",
       "8       42\n",
       "9       42\n",
       "10      30\n",
       "11      27\n",
       "12      30\n",
       "13      23\n",
       "14      22\n",
       "15      13\n",
       "16      23\n",
       "17      13\n",
       "18      11\n",
       "19      19\n",
       "20      10\n",
       "21      11\n",
       "22      11\n",
       "23       9\n",
       "24      11\n",
       "25      11\n",
       "26      14\n",
       "27       6\n",
       "28       6\n",
       "29       8\n",
       "30       6\n",
       "31       5\n",
       "32       1\n",
       "33       6\n",
       "34       5\n",
       "35       4\n",
       "36       5\n",
       "37       4\n",
       "38       3\n",
       "39       3\n",
       "41       7\n",
       "42       1\n",
       "43       2\n",
       "44       6\n",
       "45       4\n",
       "46       3\n",
       "47       3\n",
       "49       3\n",
       "50       3\n",
       "51       4\n",
       "52       1\n",
       "53       1\n",
       "54       3\n",
       "55       1\n",
       "56       1\n",
       "57       3\n",
       "58       1\n",
       "59       2\n",
       "60       1\n",
       "62       4\n",
       "65       2\n",
       "67       1\n",
       "68       1\n",
       "70       1\n",
       "72       2\n",
       "74       1\n",
       "76       2\n",
       "77       1\n",
       "79       1\n",
       "83       1\n",
       "84       1\n",
       "85       1\n",
       "89       1\n",
       "97       1\n",
       "98       1\n",
       "100      1\n",
       "101      1\n",
       "102      1\n",
       "105      1\n",
       "107      1\n",
       "110      1\n",
       "112      1\n",
       "116      1\n",
       "122      1\n",
       "124      1\n",
       "132      1\n",
       "141      1\n",
       "148      1\n",
       "153      1\n",
       "209      2\n",
       "217      1\n",
       "221      1\n",
       "223      1\n",
       "258      1\n",
       "314      1\n",
       "316      1\n",
       "388      1\n",
       "449      1\n",
       "462      1\n",
       "563      1\n",
       "Name: IPC, dtype: int64"
      ]
     },
     "execution_count": 3,
     "metadata": {},
     "output_type": "execute_result"
    }
   ],
   "source": [
    "not_merge.groupby('專利數')['IPC'].count()"
   ]
  },
  {
   "cell_type": "code",
   "execution_count": 4,
   "metadata": {},
   "outputs": [
    {
     "data": {
      "text/html": [
       "<div>\n",
       "<style scoped>\n",
       "    .dataframe tbody tr th:only-of-type {\n",
       "        vertical-align: middle;\n",
       "    }\n",
       "\n",
       "    .dataframe tbody tr th {\n",
       "        vertical-align: top;\n",
       "    }\n",
       "\n",
       "    .dataframe thead th {\n",
       "        text-align: right;\n",
       "    }\n",
       "</style>\n",
       "<table border=\"1\" class=\"dataframe\">\n",
       "  <thead>\n",
       "    <tr style=\"text-align: right;\">\n",
       "      <th></th>\n",
       "      <th>法人代碼</th>\n",
       "      <th>企業名稱</th>\n",
       "      <th>地址</th>\n",
       "      <th>區域代碼</th>\n",
       "      <th>行業代碼</th>\n",
       "      <th>區域代碼_str</th>\n",
       "      <th>CPC</th>\n",
       "      <th>IPC</th>\n",
       "      <th>inpadoc同族</th>\n",
       "      <th>inpadoc同族个数</th>\n",
       "      <th>专利寿命（月）</th>\n",
       "      <th>专利类型</th>\n",
       "      <th>中国申请人区县</th>\n",
       "      <th>中国申请人地市</th>\n",
       "      <th>优先权信息</th>\n",
       "      <th>公开国别</th>\n",
       "      <th>公开（公告）号</th>\n",
       "      <th>公开（公告）日</th>\n",
       "      <th>发明人</th>\n",
       "      <th>合享价值度</th>\n",
       "      <th>同族国家</th>\n",
       "      <th>失效日</th>\n",
       "      <th>序号</th>\n",
       "      <th>引证专利</th>\n",
       "      <th>引证科技文献</th>\n",
       "      <th>...</th>\n",
       "      <th>标准化申请人</th>\n",
       "      <th>标题</th>\n",
       "      <th>申请人国别代码</th>\n",
       "      <th>申请人地址</th>\n",
       "      <th>申请人省市代码</th>\n",
       "      <th>申请人类型</th>\n",
       "      <th>申请号</th>\n",
       "      <th>申请日</th>\n",
       "      <th>简单同族</th>\n",
       "      <th>简单同族个数</th>\n",
       "      <th>被引证专利</th>\n",
       "      <th>被引证国别(forward)</th>\n",
       "      <th>被引证次数</th>\n",
       "      <th>链接到incoPat</th>\n",
       "      <th>申请人</th>\n",
       "      <th>name</th>\n",
       "      <th>address</th>\n",
       "      <th>完整地址</th>\n",
       "      <th>lat</th>\n",
       "      <th>lnt</th>\n",
       "      <th>天津濱海</th>\n",
       "      <th>早期園區</th>\n",
       "      <th>近期園區</th>\n",
       "      <th>專利數</th>\n",
       "      <th>name_clean</th>\n",
       "    </tr>\n",
       "  </thead>\n",
       "  <tbody>\n",
       "    <tr>\n",
       "      <td>6136</td>\n",
       "      <td></td>\n",
       "      <td></td>\n",
       "      <td></td>\n",
       "      <td></td>\n",
       "      <td></td>\n",
       "      <td></td>\n",
       "      <td></td>\n",
       "      <td>E01B7/00; E01B7/18; E01B7/02; E01B7/12</td>\n",
       "      <td>CN102852055B; CN102852055A</td>\n",
       "      <td>2</td>\n",
       "      <td></td>\n",
       "      <td>发明授权</td>\n",
       "      <td>[河北]</td>\n",
       "      <td>[天津]</td>\n",
       "      <td></td>\n",
       "      <td>CN</td>\n",
       "      <td>CN102852055B</td>\n",
       "      <td>2015-05-13 00:00:00</td>\n",
       "      <td>刘道通; 程保青; 田苗盛; 杨宝峰; 杨其振; 于春华</td>\n",
       "      <td>9</td>\n",
       "      <td>CN</td>\n",
       "      <td></td>\n",
       "      <td>16923</td>\n",
       "      <td>CN2730917Y; KR1020120075842A</td>\n",
       "      <td>&lt;text&gt;张桂云.60kg/m钢轨9号单开道岔设计.《铁道标准设计》.1989, (第03期), &lt;/text&gt;</td>\n",
       "      <td>...</td>\n",
       "      <td></td>\n",
       "      <td>城市轨道交通用单开道岔</td>\n",
       "      <td>中国</td>\n",
       "      <td>天津市河北区中山路10号</td>\n",
       "      <td>天津; 12</td>\n",
       "      <td>企业</td>\n",
       "      <td>CN201210389648.3</td>\n",
       "      <td>2012-10-15 00:00:00</td>\n",
       "      <td>CN102852055B; CN102852055A</td>\n",
       "      <td>2</td>\n",
       "      <td></td>\n",
       "      <td></td>\n",
       "      <td>0</td>\n",
       "      <td>到incoPat中查看\\r\\nCN102852055B</td>\n",
       "      <td>铁道第三勘察设计院集团有限公司</td>\n",
       "      <td>铁道第三勘察设计院集团有限公司</td>\n",
       "      <td>天津市河北区中山路10号</td>\n",
       "      <td>1</td>\n",
       "      <td>39.1673</td>\n",
       "      <td>117.234</td>\n",
       "      <td>12.301212</td>\n",
       "      <td>0</td>\n",
       "      <td>0</td>\n",
       "      <td>314</td>\n",
       "      <td>铁道第三勘察设计院</td>\n",
       "    </tr>\n",
       "    <tr>\n",
       "      <td>6310</td>\n",
       "      <td></td>\n",
       "      <td></td>\n",
       "      <td></td>\n",
       "      <td></td>\n",
       "      <td></td>\n",
       "      <td></td>\n",
       "      <td></td>\n",
       "      <td>C21D9/70; F27D1/16</td>\n",
       "      <td>CN105543467B; CN103898311B; CN103898311A; CN105543467A; CN105695725B</td>\n",
       "      <td>5</td>\n",
       "      <td></td>\n",
       "      <td>发明授权</td>\n",
       "      <td>[滨海]</td>\n",
       "      <td>[天津]</td>\n",
       "      <td></td>\n",
       "      <td>CN</td>\n",
       "      <td>CN105695725B</td>\n",
       "      <td>2018-08-03 00:00:00</td>\n",
       "      <td>高美忠; 张鹏飞</td>\n",
       "      <td>9</td>\n",
       "      <td>CN</td>\n",
       "      <td></td>\n",
       "      <td>459</td>\n",
       "      <td>CN105543467A</td>\n",
       "      <td></td>\n",
       "      <td>...</td>\n",
       "      <td>[中冶集团-C]</td>\n",
       "      <td>配有膨胀缝的环形加热炉炉底工作层施工方法</td>\n",
       "      <td>中国</td>\n",
       "      <td>天津市滨海新区空港经济区西二道88号</td>\n",
       "      <td>天津; 12</td>\n",
       "      <td>企业</td>\n",
       "      <td>CN201610074622.8</td>\n",
       "      <td>2012-12-26 00:00:00</td>\n",
       "      <td>CN105695725A; CN105695725B</td>\n",
       "      <td>2</td>\n",
       "      <td></td>\n",
       "      <td></td>\n",
       "      <td>0</td>\n",
       "      <td>到incoPat中查看\\r\\nCN105695725B</td>\n",
       "      <td>中冶天工集团有限公司</td>\n",
       "      <td>中冶天工集团有限公司</td>\n",
       "      <td>天津市滨海新区空港经济区西二道88号</td>\n",
       "      <td>1</td>\n",
       "      <td>39.1538</td>\n",
       "      <td>117.392</td>\n",
       "      <td>23.967696</td>\n",
       "      <td>0</td>\n",
       "      <td>0</td>\n",
       "      <td>316</td>\n",
       "      <td>中冶天工</td>\n",
       "    </tr>\n",
       "    <tr>\n",
       "      <td>6312</td>\n",
       "      <td></td>\n",
       "      <td></td>\n",
       "      <td></td>\n",
       "      <td></td>\n",
       "      <td></td>\n",
       "      <td></td>\n",
       "      <td></td>\n",
       "      <td>H01L35/34</td>\n",
       "      <td>CN103022338B; CN103022338A</td>\n",
       "      <td>2</td>\n",
       "      <td>0</td>\n",
       "      <td>发明授权</td>\n",
       "      <td>[西青]</td>\n",
       "      <td>[天津]</td>\n",
       "      <td></td>\n",
       "      <td>CN</td>\n",
       "      <td>CN103022338B</td>\n",
       "      <td>2017-05-03 00:00:00</td>\n",
       "      <td>张丽丽; 任保国; 刘静榕</td>\n",
       "      <td>9</td>\n",
       "      <td>CN</td>\n",
       "      <td></td>\n",
       "      <td>2269</td>\n",
       "      <td>CN1604353A; CN102308400A; CN101794766A; CN101040392A; JP10022532A; CN102187488A</td>\n",
       "      <td></td>\n",
       "      <td>...</td>\n",
       "      <td>[中国电科-T]</td>\n",
       "      <td>级联温差发电器件的制备方法</td>\n",
       "      <td>中国</td>\n",
       "      <td>天津市西青区海泰工业园华科七路6号</td>\n",
       "      <td>天津; 12</td>\n",
       "      <td>企业</td>\n",
       "      <td>CN201210576701.0</td>\n",
       "      <td>2012-12-26 00:00:00</td>\n",
       "      <td>CN103022338B; CN103022338A</td>\n",
       "      <td>2</td>\n",
       "      <td></td>\n",
       "      <td></td>\n",
       "      <td>0</td>\n",
       "      <td>到incoPat中查看\\r\\nCN103022338B</td>\n",
       "      <td>中国电子科技集团公司第十八研究所</td>\n",
       "      <td>中国电子科技集团公司第十八研究所</td>\n",
       "      <td>天津市西青区海泰工业园华科七路6号</td>\n",
       "      <td>1</td>\n",
       "      <td>39.0963</td>\n",
       "      <td>117.068</td>\n",
       "      <td>4.970065</td>\n",
       "      <td>1</td>\n",
       "      <td>0</td>\n",
       "      <td>388</td>\n",
       "      <td>中国电子科技第十八研究所</td>\n",
       "    </tr>\n",
       "    <tr>\n",
       "      <td>5128</td>\n",
       "      <td></td>\n",
       "      <td></td>\n",
       "      <td></td>\n",
       "      <td></td>\n",
       "      <td></td>\n",
       "      <td></td>\n",
       "      <td></td>\n",
       "      <td>A61J3/06; F25D13/00; F25D15/00</td>\n",
       "      <td>CN101229099A; CN101229099B</td>\n",
       "      <td>2</td>\n",
       "      <td></td>\n",
       "      <td>发明授权</td>\n",
       "      <td>[河东]</td>\n",
       "      <td>[天津]</td>\n",
       "      <td></td>\n",
       "      <td>CN</td>\n",
       "      <td>CN101229099B</td>\n",
       "      <td>2011-06-08 00:00:00</td>\n",
       "      <td>闫希军; 孙小兵; 张文生; 荣昌盛; 王世庆; 章顺楠; 刘军</td>\n",
       "      <td>10</td>\n",
       "      <td>CN</td>\n",
       "      <td></td>\n",
       "      <td>36724</td>\n",
       "      <td>CN201154086Y; CN1857391A; WO2007083562A1; CN2508752Y</td>\n",
       "      <td></td>\n",
       "      <td>...</td>\n",
       "      <td>[天士力司-C]</td>\n",
       "      <td>采用冷风加冷阱冷却气体制备滴丸的设备</td>\n",
       "      <td>中国</td>\n",
       "      <td>天津市北辰科技园区普济河东道2号天士力现代中药城</td>\n",
       "      <td>天津; 12</td>\n",
       "      <td>企业</td>\n",
       "      <td>CN200710060641.6</td>\n",
       "      <td>2007-12-28 00:00:00</td>\n",
       "      <td>CN101229099B; CN101229099A</td>\n",
       "      <td>2</td>\n",
       "      <td></td>\n",
       "      <td></td>\n",
       "      <td>0</td>\n",
       "      <td>到incoPat中查看\\r\\nCN101229099B</td>\n",
       "      <td>天津天士力制药股份有限公司</td>\n",
       "      <td>天津天士力制药股份有限公司</td>\n",
       "      <td>天津市北辰科技园区普济河东道2号天士力现代中药城</td>\n",
       "      <td>1</td>\n",
       "      <td>39.2096</td>\n",
       "      <td>117.215</td>\n",
       "      <td>14.859711</td>\n",
       "      <td>0</td>\n",
       "      <td>0</td>\n",
       "      <td>449</td>\n",
       "      <td>天津天士力制药</td>\n",
       "    </tr>\n",
       "    <tr>\n",
       "      <td>6047</td>\n",
       "      <td></td>\n",
       "      <td></td>\n",
       "      <td></td>\n",
       "      <td></td>\n",
       "      <td></td>\n",
       "      <td></td>\n",
       "      <td></td>\n",
       "      <td>E02D29/16</td>\n",
       "      <td>CN102900103A; CN102900103B</td>\n",
       "      <td>2</td>\n",
       "      <td>0</td>\n",
       "      <td>发明授权</td>\n",
       "      <td>[东丽]</td>\n",
       "      <td>[天津]</td>\n",
       "      <td></td>\n",
       "      <td>CN</td>\n",
       "      <td>CN102900103B</td>\n",
       "      <td>2014-11-26 00:00:00</td>\n",
       "      <td>肖策; 宋建信; 宋增力; 蒋伟; 王占东; 李剑; 谢飞; 邹树荣; 叶志翔; 陈大刚</td>\n",
       "      <td>9</td>\n",
       "      <td>CN</td>\n",
       "      <td></td>\n",
       "      <td>30792</td>\n",
       "      <td>CN101403218A; CN202347544U; CN101503872A; KR100730517B1; JP2006249721A</td>\n",
       "      <td></td>\n",
       "      <td>...</td>\n",
       "      <td>[中冶集团-C]</td>\n",
       "      <td>一种地下防水混凝土结构的施工缝及其墙体模板安装方法</td>\n",
       "      <td>中国</td>\n",
       "      <td>天津市东丽区无瑕街天津二十冶</td>\n",
       "      <td>天津; 12</td>\n",
       "      <td>企业</td>\n",
       "      <td>CN201210299188.5</td>\n",
       "      <td>2012-08-21 00:00:00</td>\n",
       "      <td>CN102900103B; CN102900103A</td>\n",
       "      <td>2</td>\n",
       "      <td></td>\n",
       "      <td></td>\n",
       "      <td>0</td>\n",
       "      <td>到incoPat中查看\\r\\nCN102900103B</td>\n",
       "      <td>天津二十冶建设有限公司</td>\n",
       "      <td>天津二十冶建设有限公司</td>\n",
       "      <td>天津市东丽区无瑕街天津二十冶</td>\n",
       "      <td>0</td>\n",
       "      <td>39.0472</td>\n",
       "      <td>117.503</td>\n",
       "      <td>33.122302</td>\n",
       "      <td>0</td>\n",
       "      <td>0</td>\n",
       "      <td>462</td>\n",
       "      <td>天津二十冶建设</td>\n",
       "    </tr>\n",
       "    <tr>\n",
       "      <td>5997</td>\n",
       "      <td></td>\n",
       "      <td></td>\n",
       "      <td></td>\n",
       "      <td></td>\n",
       "      <td></td>\n",
       "      <td></td>\n",
       "      <td></td>\n",
       "      <td>E02D33/00</td>\n",
       "      <td>CN102776902B; CN102776902A</td>\n",
       "      <td>2</td>\n",
       "      <td>0</td>\n",
       "      <td>发明授权</td>\n",
       "      <td>[滨海新]</td>\n",
       "      <td>[天津]</td>\n",
       "      <td></td>\n",
       "      <td>CN</td>\n",
       "      <td>CN102776902B</td>\n",
       "      <td>2014-05-21 00:00:00</td>\n",
       "      <td>张立敏; 段前忠; 王存贵; 刘义猛; 郭亚军; 王冲; 刘聚杰</td>\n",
       "      <td>9</td>\n",
       "      <td>CN</td>\n",
       "      <td></td>\n",
       "      <td>41474</td>\n",
       "      <td></td>\n",
       "      <td></td>\n",
       "      <td>...</td>\n",
       "      <td>[中国建筑-C]</td>\n",
       "      <td>用于基坑围护结构变形测量的测斜管的绑扎方法</td>\n",
       "      <td>中国</td>\n",
       "      <td>天津市塘沽杭州道72号</td>\n",
       "      <td>天津; 12</td>\n",
       "      <td>企业</td>\n",
       "      <td>CN201210239273.2</td>\n",
       "      <td>2012-07-11 00:00:00</td>\n",
       "      <td>CN102776902B; CN102776902A</td>\n",
       "      <td>2</td>\n",
       "      <td></td>\n",
       "      <td></td>\n",
       "      <td>0</td>\n",
       "      <td>到incoPat中查看\\r\\nCN102776902B</td>\n",
       "      <td>中国建筑第六工程局有限公司</td>\n",
       "      <td>中国建筑第六工程局有限公司</td>\n",
       "      <td>天津市塘沽杭州道72号</td>\n",
       "      <td>1</td>\n",
       "      <td>39.0381</td>\n",
       "      <td>117.645</td>\n",
       "      <td>45.440548</td>\n",
       "      <td>0</td>\n",
       "      <td>0</td>\n",
       "      <td>563</td>\n",
       "      <td>中国建筑第六工程局</td>\n",
       "    </tr>\n",
       "  </tbody>\n",
       "</table>\n",
       "<p>6 rows × 54 columns</p>\n",
       "</div>"
      ],
      "text/plain": [
       "     法人代碼 企業名稱 地址 區域代碼 行業代碼 區域代碼_str CPC  \\\n",
       "6136                                       \n",
       "6310                                       \n",
       "6312                                       \n",
       "5128                                       \n",
       "6047                                       \n",
       "5997                                       \n",
       "\n",
       "                                         IPC  \\\n",
       "6136  E01B7/00; E01B7/18; E01B7/02; E01B7/12   \n",
       "6310                      C21D9/70; F27D1/16   \n",
       "6312                               H01L35/34   \n",
       "5128          A61J3/06; F25D13/00; F25D15/00   \n",
       "6047                               E02D29/16   \n",
       "5997                               E02D33/00   \n",
       "\n",
       "                                                                 inpadoc同族  \\\n",
       "6136                                            CN102852055B; CN102852055A   \n",
       "6310  CN105543467B; CN103898311B; CN103898311A; CN105543467A; CN105695725B   \n",
       "6312                                            CN103022338B; CN103022338A   \n",
       "5128                                            CN101229099A; CN101229099B   \n",
       "6047                                            CN102900103A; CN102900103B   \n",
       "5997                                            CN102776902B; CN102776902A   \n",
       "\n",
       "     inpadoc同族个数 专利寿命（月）  专利类型 中国申请人区县 中国申请人地市 优先权信息 公开国别       公开（公告）号  \\\n",
       "6136           2          发明授权    [河北]    [天津]         CN  CN102852055B   \n",
       "6310           5          发明授权    [滨海]    [天津]         CN  CN105695725B   \n",
       "6312           2       0  发明授权    [西青]    [天津]         CN  CN103022338B   \n",
       "5128           2          发明授权    [河东]    [天津]         CN  CN101229099B   \n",
       "6047           2       0  发明授权    [东丽]    [天津]         CN  CN102900103B   \n",
       "5997           2       0  发明授权   [滨海新]    [天津]         CN  CN102776902B   \n",
       "\n",
       "                  公开（公告）日                                           发明人 合享价值度  \\\n",
       "6136  2015-05-13 00:00:00                  刘道通; 程保青; 田苗盛; 杨宝峰; 杨其振; 于春华     9   \n",
       "6310  2018-08-03 00:00:00                                      高美忠; 张鹏飞     9   \n",
       "6312  2017-05-03 00:00:00                                 张丽丽; 任保国; 刘静榕     9   \n",
       "5128  2011-06-08 00:00:00              闫希军; 孙小兵; 张文生; 荣昌盛; 王世庆; 章顺楠; 刘军    10   \n",
       "6047  2014-11-26 00:00:00  肖策; 宋建信; 宋增力; 蒋伟; 王占东; 李剑; 谢飞; 邹树荣; 叶志翔; 陈大刚     9   \n",
       "5997  2014-05-21 00:00:00              张立敏; 段前忠; 王存贵; 刘义猛; 郭亚军; 王冲; 刘聚杰     9   \n",
       "\n",
       "     同族国家 失效日     序号  \\\n",
       "6136   CN      16923   \n",
       "6310   CN        459   \n",
       "6312   CN       2269   \n",
       "5128   CN      36724   \n",
       "6047   CN      30792   \n",
       "5997   CN      41474   \n",
       "\n",
       "                                                                                 引证专利  \\\n",
       "6136                                                     CN2730917Y; KR1020120075842A   \n",
       "6310                                                                     CN105543467A   \n",
       "6312  CN1604353A; CN102308400A; CN101794766A; CN101040392A; JP10022532A; CN102187488A   \n",
       "5128                             CN201154086Y; CN1857391A; WO2007083562A1; CN2508752Y   \n",
       "6047           CN101403218A; CN202347544U; CN101503872A; KR100730517B1; JP2006249721A   \n",
       "5997                                                                                    \n",
       "\n",
       "                                                         引证科技文献  ...  \\\n",
       "6136  <text>张桂云.60kg/m钢轨9号单开道岔设计.《铁道标准设计》.1989, (第03期), </text>  ...   \n",
       "6310                                                             ...   \n",
       "6312                                                             ...   \n",
       "5128                                                             ...   \n",
       "6047                                                             ...   \n",
       "5997                                                             ...   \n",
       "\n",
       "        标准化申请人                         标题 申请人国别代码                     申请人地址  \\\n",
       "6136                          城市轨道交通用单开道岔      中国              天津市河北区中山路10号   \n",
       "6310  [中冶集团-C]       配有膨胀缝的环形加热炉炉底工作层施工方法      中国        天津市滨海新区空港经济区西二道88号   \n",
       "6312  [中国电科-T]              级联温差发电器件的制备方法      中国         天津市西青区海泰工业园华科七路6号   \n",
       "5128  [天士力司-C]         采用冷风加冷阱冷却气体制备滴丸的设备      中国  天津市北辰科技园区普济河东道2号天士力现代中药城   \n",
       "6047  [中冶集团-C]  一种地下防水混凝土结构的施工缝及其墙体模板安装方法      中国            天津市东丽区无瑕街天津二十冶   \n",
       "5997  [中国建筑-C]      用于基坑围护结构变形测量的测斜管的绑扎方法      中国               天津市塘沽杭州道72号   \n",
       "\n",
       "     申请人省市代码 申请人类型               申请号                  申请日  \\\n",
       "6136  天津; 12    企业  CN201210389648.3  2012-10-15 00:00:00   \n",
       "6310  天津; 12    企业  CN201610074622.8  2012-12-26 00:00:00   \n",
       "6312  天津; 12    企业  CN201210576701.0  2012-12-26 00:00:00   \n",
       "5128  天津; 12    企业  CN200710060641.6  2007-12-28 00:00:00   \n",
       "6047  天津; 12    企业  CN201210299188.5  2012-08-21 00:00:00   \n",
       "5997  天津; 12    企业  CN201210239273.2  2012-07-11 00:00:00   \n",
       "\n",
       "                            简单同族 简单同族个数 被引证专利 被引证国别(forward) 被引证次数  \\\n",
       "6136  CN102852055B; CN102852055A      2                          0   \n",
       "6310  CN105695725A; CN105695725B      2                          0   \n",
       "6312  CN103022338B; CN103022338A      2                          0   \n",
       "5128  CN101229099B; CN101229099A      2                          0   \n",
       "6047  CN102900103B; CN102900103A      2                          0   \n",
       "5997  CN102776902B; CN102776902A      2                          0   \n",
       "\n",
       "                       链接到incoPat               申请人              name  \\\n",
       "6136  到incoPat中查看\\r\\nCN102852055B   铁道第三勘察设计院集团有限公司   铁道第三勘察设计院集团有限公司   \n",
       "6310  到incoPat中查看\\r\\nCN105695725B        中冶天工集团有限公司        中冶天工集团有限公司   \n",
       "6312  到incoPat中查看\\r\\nCN103022338B  中国电子科技集团公司第十八研究所  中国电子科技集团公司第十八研究所   \n",
       "5128  到incoPat中查看\\r\\nCN101229099B     天津天士力制药股份有限公司     天津天士力制药股份有限公司   \n",
       "6047  到incoPat中查看\\r\\nCN102900103B       天津二十冶建设有限公司       天津二十冶建设有限公司   \n",
       "5997  到incoPat中查看\\r\\nCN102776902B     中国建筑第六工程局有限公司     中国建筑第六工程局有限公司   \n",
       "\n",
       "                       address 完整地址      lat      lnt       天津濱海  早期園區 近期園區  \\\n",
       "6136              天津市河北区中山路10号    1  39.1673  117.234  12.301212     0    0   \n",
       "6310        天津市滨海新区空港经济区西二道88号    1  39.1538  117.392  23.967696     0    0   \n",
       "6312         天津市西青区海泰工业园华科七路6号    1  39.0963  117.068   4.970065     1    0   \n",
       "5128  天津市北辰科技园区普济河东道2号天士力现代中药城    1  39.2096  117.215  14.859711     0    0   \n",
       "6047            天津市东丽区无瑕街天津二十冶    0  39.0472  117.503  33.122302     0    0   \n",
       "5997               天津市塘沽杭州道72号    1  39.0381  117.645  45.440548     0    0   \n",
       "\n",
       "      專利數    name_clean  \n",
       "6136  314     铁道第三勘察设计院  \n",
       "6310  316          中冶天工  \n",
       "6312  388  中国电子科技第十八研究所  \n",
       "5128  449       天津天士力制药  \n",
       "6047  462       天津二十冶建设  \n",
       "5997  563     中国建筑第六工程局  \n",
       "\n",
       "[6 rows x 54 columns]"
      ]
     },
     "execution_count": 4,
     "metadata": {},
     "output_type": "execute_result"
    }
   ],
   "source": [
    "not_merge[not_merge['專利數']>=300].sort_values('專利數')"
   ]
  },
  {
   "cell_type": "code",
   "execution_count": 5,
   "metadata": {},
   "outputs": [
    {
     "data": {
      "text/plain": [
       "Text(0.5, 0, '專利數量')"
      ]
     },
     "execution_count": 5,
     "metadata": {},
     "output_type": "execute_result"
    },
    {
     "data": {
      "image/png": "[encoded data removed]",
      "text/plain": [
       "<Figure size 432x288 with 1 Axes>"
      ]
     },
     "metadata": {
      "needs_background": "light"
     },
     "output_type": "display_data"
    }
   ],
   "source": [
    "from matplotlib.font_manager import FontProperties\n",
    "myfont = FontProperties(fname=r'C:\\Windows\\Fonts\\msjhbd.ttc')\n",
    "fig = plt.figure()\n",
    "ax1 = fig.add_subplot(111)\n",
    "ax1.plot(not_merge.groupby('專利數')['IPC'].count().index,not_merge.groupby('專利數')['IPC'].count())\n",
    "ax1.set_title('天津',fontproperties=myfont,fontsize=15)\n",
    "ax1.set_xlim([0,100])\n",
    "ax1.set_ylabel('廠商數量',fontproperties=myfont)\n",
    "ax1.set_xlabel('專利數量',fontproperties=myfont)"
   ]
  },
  {
   "cell_type": "code",
   "execution_count": 6,
   "metadata": {},
   "outputs": [],
   "source": [
    "cleaned.to_excel(r'E:\\paper\\名稱merge\\天津_結果.xlsx')"
   ]
  },
  {
   "cell_type": "code",
   "execution_count": 9,
   "metadata": {},
   "outputs": [
    {
     "data": {
      "text/plain": [
       "<matplotlib.legend.Legend at 0x2251e543548>"
      ]
     },
     "execution_count": 9,
     "metadata": {},
     "output_type": "execute_result"
    },
    {
     "data": {
      "image/png": "[encoded data removed]",
      "text/plain": [
       "<Figure size 360x360 with 1 Axes>"
      ]
     },
     "metadata": {
      "needs_background": "light"
     },
     "output_type": "display_data"
    }
   ],
   "source": [
    "from matplotlib.font_manager import FontProperties\n",
    "myfont = FontProperties(fname=r'C:\\Windows\\Fonts\\msjhbd.ttc')\n",
    "fig = plt.figure(figsize = (5,5))\n",
    "ax1 = fig.add_subplot(111)\n",
    "ax1.set_ylabel('Patent Counts')\n",
    "bar1 = ax1.bar(1,merge_df[merge_df['早期園區']==1]['專利數'].sum(),alpha=0.7,width=0.35,color='r',label='早期園區')\n",
    "bar2 = ax1.bar(1+0.35,merge_df[merge_df['近期園區']==1]['專利數'].sum(),alpha=0.7,width=0.35,color='b',label='近期園區')\n",
    "bar3 = ax1.bar(1+0.7,merge_df[(merge_df['近期園區']==0)&(merge_df['早期園區']==0)]['專利數'].sum(),alpha=0.7,width=0.35,color='k',label='園區外')\n",
    "\n",
    "plt.text(1, merge_df[merge_df['早期園區']==1]['專利數'].sum(), '%.0f' % merge_df[merge_df['早期園區']==1]['專利數'].sum(), ha='center', va= 'bottom',fontsize=12)  \n",
    "plt.text(1.35, merge_df[merge_df['近期園區']==1]['專利數'].sum(), '%.0f' % merge_df[merge_df['近期園區']==1]['專利數'].sum(), ha='center', va= 'bottom',fontsize=12)  \n",
    "plt.text(1.7, merge_df[(merge_df['近期園區']==0)&(merge_df['早期園區']==0)]['專利數'].sum(), '%.0f' % merge_df[(merge_df['近期園區']==0)&(merge_df['早期園區']==0)]['專利數'].sum(), ha='center', va= 'bottom',fontsize=12)  \n",
    "\n",
    "plt.title('天津',fontproperties=myfont,fontsize=20)\n",
    "plt.xticks([0.75,1,2],['','',''],fontproperties=myfont)\n",
    "plt.legend(handles = [bar1,bar2,bar3], loc='upper left',prop=myfont)"
   ]
  },
  {
   "cell_type": "code",
   "execution_count": 13,
   "metadata": {},
   "outputs": [
    {
     "name": "stderr",
     "output_type": "stream",
     "text": [
      "D:\\Anaconda\\lib\\site-packages\\ipykernel_launcher.py:5: RuntimeWarning: invalid value encountered in double_scalars\n",
      "  \"\"\"\n",
      "D:\\Anaconda\\lib\\site-packages\\ipykernel_launcher.py:9: RuntimeWarning: invalid value encountered in double_scalars\n",
      "  if __name__ == '__main__':\n"
     ]
    },
    {
     "data": {
      "text/plain": [
       "<matplotlib.legend.Legend at 0x2251e631308>"
      ]
     },
     "execution_count": 13,
     "metadata": {},
     "output_type": "execute_result"
    },
    {
     "name": "stderr",
     "output_type": "stream",
     "text": [
      "posx and posy should be finite values\n",
      "posx and posy should be finite values\n",
      "posx and posy should be finite values\n"
     ]
    },
    {
     "data": {
      "image/png": "[encoded data removed]",
      "text/plain": [
       "<Figure size 360x360 with 1 Axes>"
      ]
     },
     "metadata": {
      "needs_background": "light"
     },
     "output_type": "display_data"
    }
   ],
   "source": [
    "fig = plt.figure(figsize = (5,5))\n",
    "ax1 = fig.add_subplot(111)\n",
    "ax1.set_ylabel('Patent Counts/Firms ')\n",
    "bar1 = ax1.bar(1,merge_df[merge_df['早期園區']==1]['專利數'].sum()/merge_df[merge_df['早期園區']==1]['專利數'].count(),alpha=0.7,width=0.35,color='r',label='早期園區')\n",
    "bar2 = ax1.bar(1+0.35,merge_df[merge_df['近期園區']==1]['專利數'].sum()/merge_df[merge_df['近期園區']==1]['專利數'].count(),alpha=0.7,width=0.35,color='b',label='近期園區')\n",
    "bar3 = ax1.bar(1+0.7,merge_df[(merge_df['近期園區']==0)&(merge_df['早期園區']==0)]['專利數'].sum()/merge_df[(merge_df['近期園區']==0)&(merge_df['早期園區']==0)]['專利數'].count(),alpha=0.7,width=0.35,color='k',label='園區外')\n",
    "\n",
    "plt.text(1, (merge_df[merge_df['早期園區']==1]['專利數'].sum()/merge_df[merge_df['早期園區']==1]['專利數'].count()), '%.2f' % (merge_df[merge_df['早期園區']==1]['專利數'].sum()/merge_df[merge_df['早期園區']==1]['專利數'].count()), ha='center', va= 'bottom',fontsize=12)  \n",
    "plt.text(1.35, (merge_df[merge_df['近期園區']==1]['專利數'].sum()/merge_df[merge_df['近期園區']==1]['專利數'].count()), '%.2f' % (merge_df[merge_df['近期園區']==1]['專利數'].sum()/merge_df[merge_df['近期園區']==1]['專利數'].count()), ha='center', va= 'bottom',fontsize=12)  \n",
    "plt.text(1.7, (merge_df[(merge_df['近期園區']==0)&(merge_df['早期園區']==0)]['專利數'].sum()/merge_df[(merge_df['近期園區']==0)&(merge_df['早期園區']==0)]['專利數'].count()), '%.2f' % (merge_df[(merge_df['近期園區']==0)&(merge_df['早期園區']==0)]['專利數'].sum()/merge_df[(merge_df['近期園區']==0)&(merge_df['早期園區']==0)]['專利數'].count()), ha='center', va= 'bottom',fontsize=12)  \n",
    "\n",
    "plt.title('天津',fontproperties=myfont,fontsize=20)\n",
    "plt.xticks([0.75,1,2],['','',''],fontproperties=myfont)\n",
    "plt.legend(handles = [bar1,bar2,bar3], loc='lower right',prop=myfont)"
   ]
  },
  {
   "cell_type": "code",
   "execution_count": null,
   "metadata": {},
   "outputs": [],
   "source": []
  }
 ],
 "metadata": {
  "kernelspec": {
   "display_name": "Python 3",
   "language": "python",
   "name": "python3"
  },
  "language_info": {
   "codemirror_mode": {
    "name": "ipython",
    "version": 3
   },
   "file_extension": ".py",
   "mimetype": "text/x-python",
   "name": "python",
   "nbconvert_exporter": "python",
   "pygments_lexer": "ipython3",
   "version": "3.7.4"
  }
 },
 "nbformat": 4,
 "nbformat_minor": 2
}
