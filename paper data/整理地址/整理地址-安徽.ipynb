{
 "cells": [
  {
   "cell_type": "code",
   "execution_count": 1,
   "metadata": {},
   "outputs": [],
   "source": [
    "import pandas as pd\n",
    "import numpy as np\n",
    "import matplotlib.pyplot as plt\n",
    "import re\n",
    "import time\n",
    "import datetime\n",
    "import geocoder\n",
    "pd.set_option('display.max_rows',500)\n",
    "pd.set_option('display.max_columns',50)\n",
    "pd.set_option('max_colwidth',200)\n",
    "%matplotlib inline\n",
    "import requests\n",
    "import json\n",
    "import urllib\n",
    "from urllib.request import urlopen\n",
    "\n",
    "def getGeoForAddress(address):\n",
    "    add = urllib.parse.quote(address)\n",
    "    addressUrl = \"https://maps.googleapis.com/maps/api/geocode/json?address=\" + add + '&key='\n",
    "    res = requests.get(addressUrl)\n",
    "    js = json.loads(res.text)\n",
    "    if js.get('results'):\n",
    "        lat = js.get('results')[0]['geometry']['location']['lat']\n",
    "        lng = js.get('results')[0]['geometry']['location']['lng']\n",
    "    else:\n",
    "        lat = ''\n",
    "        lng = ''\n",
    "    return [lat, lng]\n",
    "def ngram(text, n=3, pad=True):\n",
    "    text = text.strip()\n",
    "    if pad:\n",
    "        text = \" %s \" % text\n",
    "    return set([text[i:i+n] for i in range(len(text)-n+1)])\n",
    "    \n",
    "def create_ngram(text1, text2, n=3, pad=True):\n",
    "    return ngram(text1, n=n, pad=pad), ngram(text2, n=n, pad=pad)\n",
    "\n",
    "def tversky_index(text1, text2, a=None, b=None, q=3, pad=True):\n",
    "    text1, text2 = create_ngram(text1, text2, n=q, pad=pad)\n",
    "    agree_tot = len(text1.intersection(text2))\n",
    "    v1 = len(text1) - agree_tot\n",
    "    v2 = len(text2) - agree_tot\n",
    "    \n",
    "    if a != None and b != None:\n",
    "        a = a/float(a+b)\n",
    "        b = b/float(a+b)\n",
    "    elif a <= 1.0 and a >= 0.0:\n",
    "        b = 1-a\n",
    "    elif b <= 1.0 and b >= 0.0:\n",
    "        a = 1-b\n",
    "    else:\n",
    "        a = 0.5\n",
    "        b = 0.5        \n",
    "    return float(agree_tot)/(agree_tot+a*v1+b*v2)\n",
    "# incoPat為申請人list\n",
    "def fuzzy(incoPat,indus):\n",
    "    corptype = ['有限','公司','责任','集团','股份','控股']\n",
    "    text1 = incoPat\n",
    "    text2 = indus\n",
    "    incoPat_nor = []   \n",
    "    for text in text1:\n",
    "        for i in corptype:\n",
    "            if i in text:\n",
    "                text = re.sub(i,'',text)\n",
    "        incoPat_nor.append(text)\n",
    "    for i in corptype:\n",
    "        if i in text2:\n",
    "            text2 = re.sub(i,'',text2)\n",
    "    similar = []\n",
    "    for text in incoPat_nor:\n",
    "        dice = tversky_index(text,text2, a=0.5, q=min(2,len(text),len(text2)), pad=False)\n",
    "        if dice>0.7:\n",
    "            similar.append([incoPat[incoPat_nor.index(text)],dice])\n",
    "        else:\n",
    "            pass\n",
    "    if len(similar)>0:\n",
    "        return similar[[k[1] for k in similar].index(max([i[1] for i in similar]))][0]\n",
    "    else:\n",
    "        return indus\n",
    "city_code = pd.read_excel('C:/Users/user/Dropbox/paper/科技園區/China/省地縣碼對照.xls')\n",
    "city_code = city_code[~city_code['代碼'].isnull()].drop(['标注','说明'],axis=1)\n",
    "city_code['代碼_str'] = city_code['代碼'].apply(lambda x:str(int(x)))\n",
    "city_code = city_code.drop('代碼',axis=1)"
   ]
  },
  {
   "cell_type": "markdown",
   "metadata": {},
   "source": [
    "# 安徽資料整合"
   ]
  },
  {
   "cell_type": "code",
   "execution_count": 2,
   "metadata": {},
   "outputs": [],
   "source": [
    "df1 = pd.read_excel(r'E:\\paper\\專利資料-新型&授權\\新型授權-安徽1.xls')\n",
    "df2 = pd.read_excel(r'E:\\paper\\專利資料-新型&授權\\新型授權-安徽2.xls')\n",
    "df3 = pd.read_excel(r'E:\\paper\\專利資料-新型&授權\\新型授權-安徽3.xls')\n",
    "df4 = pd.read_excel(r'E:\\paper\\專利資料-新型&授權\\新型授權-安徽4.xls')\n",
    "patent_df = pd.concat([df1,df2,df3,df4],ignore_index=True,sort=True)"
   ]
  },
  {
   "cell_type": "code",
   "execution_count": 3,
   "metadata": {},
   "outputs": [
    {
     "data": {
      "text/plain": [
       "(207972, 38)"
      ]
     },
     "execution_count": 3,
     "metadata": {},
     "output_type": "execute_result"
    }
   ],
   "source": [
    "patent_df.shape"
   ]
  },
  {
   "cell_type": "code",
   "execution_count": 4,
   "metadata": {},
   "outputs": [],
   "source": [
    "patent_df['申请人地址'].fillna('',inplace=True)\n",
    "patent_df = patent_df[patent_df['申请人地址']!='']"
   ]
  },
  {
   "cell_type": "code",
   "execution_count": 5,
   "metadata": {},
   "outputs": [
    {
     "data": {
      "text/plain": [
       "(207972, 38)"
      ]
     },
     "execution_count": 5,
     "metadata": {},
     "output_type": "execute_result"
    }
   ],
   "source": [
    "patent_df.shape"
   ]
  },
  {
   "cell_type": "code",
   "execution_count": 3,
   "metadata": {},
   "outputs": [
    {
     "name": "stderr",
     "output_type": "stream",
     "text": [
      "D:\\Anaconda\\lib\\site-packages\\IPython\\core\\interactiveshell.py:3058: DtypeWarning: Columns (0,3,16) have mixed types. Specify dtype option on import or set low_memory=False.\n",
      "  interactivity=interactivity, compiler=compiler, result=result)\n"
     ]
    }
   ],
   "source": [
    "#for PC\n",
    "patent_df = patent_df[patent_df['专利类型']=='发明授权']\n",
    "patent_df = patent_df[patent_df['申请人地址'].map(lambda x:len(re.findall(r'\\D+[\\s\\S]+',x)))==1]\n",
    "patent_df['申请人地址'] = patent_df['申请人地址'].map(lambda x:re.findall(r'\\D+[\\s\\S]+',x)[0])\n",
    "patent_df['申请人地址'] = patent_df['申请人地址'].map(lambda x:re.sub(r\"\\s+\", \"\",x))\n",
    "patent_df_firm = patent_df[patent_df['申请人类型'].str.contains('企业')]\n",
    "applicant = patent_df_firm['申请人'].str.split(';',expand=True).stack().reset_index(level=1,drop=True).rename('申请人2')\n",
    "patent_df_firm = patent_df_firm.join(applicant)\n",
    "patent_df_firm['類別'] = patent_df_firm['申请人类型'].map(lambda x:x.strip().split('  '))\n",
    "patent_df_firm = patent_df_firm[~patent_df_firm['标题'].duplicated()]\n",
    "patent_df_firm['申请人类型'] = patent_df_firm.apply(lambda x:x['類別'][0],axis=1)\n",
    "patent_df_firm = patent_df_firm[patent_df_firm['申请人类型']=='企业'].sort_values('申请日')\n",
    "patent_df_firm.drop(['類別','申请人'],axis=1,inplace=True)\n",
    "patent_df_firm.rename(columns={'申请人2':'申请人'},inplace=True)\n",
    "patent_df_firm = patent_df_firm[patent_df_firm['申请日']<datetime.datetime.strptime('2013-01-01','%Y-%m-%d')]\n",
    "patent_df_firm.drop_duplicates('申请人地址', keep='last', inplace=True)\n",
    "patent_df_firm.drop_duplicates('申请人', keep='last', inplace=True)\n",
    "\n",
    "firm_df = pd.read_csv(r'E:\\paper\\Firm csv\\firm_data_2012.csv')\n",
    "firm_gd = firm_df[firm_df['區域代碼'].astype(str).str.contains(r'34\\d{10}')==True]\n",
    "firm_gd = firm_gd.loc[:,['法人代碼','企業名稱','地址','區域代碼','行業代碼']]\n",
    "firm_gd['區域代碼_str'] = firm_gd['區域代碼'].astype(str).map(lambda x:x[0:6])\n",
    "firm_gd = pd.merge(firm_gd,city_code,left_on='區域代碼_str',right_on='代碼_str',how='left')\n",
    "firm_gd['名稱'].fillna('',inplace=True)\n",
    "firm_gd['市級'].fillna('',inplace=True)\n",
    "firm_gd['省份'].fillna('',inplace=True)\n",
    "firm_gd['地址'].fillna('',inplace=True)\n",
    "firm_gd['地址'] = firm_gd['地址'].map(lambda x:re.sub(r\"\\s+\", \"\",x))\n",
    "firm_gd['地址'] = firm_gd.apply(lambda x:re.sub(x['省份'],\"\",x['地址']),axis=1)\n",
    "firm_gd['地址'] = firm_gd.apply(lambda x:re.sub(x['市級'],\"\",x['地址']),axis=1)\n",
    "firm_gd['地址'] = firm_gd.apply(lambda x:re.sub(x['名稱'],\"\",x['地址']),axis=1)\n",
    "firm_gd['地址'] = firm_gd['省份']+firm_gd['市級']+firm_gd['名稱']+firm_gd['地址']\n",
    "firm_gd.drop(['省份','市級','名稱','代碼_str'],axis=1,inplace=True)\n",
    "firm_gd.dropna(subset=['企業名稱'],inplace=True)"
   ]
  },
  {
   "cell_type": "code",
   "execution_count": 7,
   "metadata": {},
   "outputs": [],
   "source": [
    "patent_df_firm = patent_df_firm[patent_df_firm['申请日']>datetime.datetime.strptime('2007-12-31','%Y-%m-%d')]\n",
    "incoPat = list(patent_df_firm['申请人'])"
   ]
  },
  {
   "cell_type": "code",
   "execution_count": 12,
   "metadata": {},
   "outputs": [
    {
     "data": {
      "text/plain": [
       "(9749, 38)"
      ]
     },
     "execution_count": 12,
     "metadata": {},
     "output_type": "execute_result"
    }
   ],
   "source": [
    "patent_df_firm.shape"
   ]
  },
  {
   "cell_type": "code",
   "execution_count": 13,
   "metadata": {},
   "outputs": [
    {
     "data": {
      "text/plain": [
       "(13270, 6)"
      ]
     },
     "execution_count": 13,
     "metadata": {},
     "output_type": "execute_result"
    }
   ],
   "source": [
    "firm_gd.shape"
   ]
  },
  {
   "cell_type": "code",
   "execution_count": 14,
   "metadata": {},
   "outputs": [],
   "source": [
    "firm_gd['name_模糊比對'] = firm_gd['企業名稱'].map(lambda x:fuzzy(incoPat,x))"
   ]
  },
  {
   "cell_type": "code",
   "execution_count": 15,
   "metadata": {},
   "outputs": [],
   "source": [
    "firm_gd.to_excel(r'E:\\paper\\清理結果-新型&授權\\安徽_廠商.xlsx')"
   ]
  },
  {
   "cell_type": "markdown",
   "metadata": {},
   "source": [
    "# 非模糊比對"
   ]
  },
  {
   "cell_type": "code",
   "execution_count": 16,
   "metadata": {},
   "outputs": [
    {
     "name": "stdout",
     "output_type": "stream",
     "text": [
      "(3213, 45)\n",
      "(19806, 45)\n"
     ]
    }
   ],
   "source": [
    "merge_df = firm_gd.merge(patent_df_firm,left_on='企業名稱',right_on='申请人',how='outer')\n",
    "merge_df.fillna('',inplace=True)\n",
    "print(merge_df[(merge_df['企業名稱']!='')&(merge_df['申请人']!='')].shape)\n",
    "print(merge_df.shape)"
   ]
  },
  {
   "cell_type": "code",
   "execution_count": 17,
   "metadata": {
    "collapsed": true
   },
   "outputs": [
    {
     "name": "stdout",
     "output_type": "stream",
     "text": [
      "(5110, 50)\n",
      "(12955, 50)\n"
     ]
    },
    {
     "name": "stderr",
     "output_type": "stream",
     "text": [
      "D:\\Anaconda\\lib\\site-packages\\pandas\\core\\strings.py:1843: UserWarning: This pattern has match groups. To actually get the groups, use str.extract.\n",
      "  return func(self, *args, **kwargs)\n",
      "D:\\Anaconda\\lib\\site-packages\\ipykernel_launcher.py:4: SettingWithCopyWarning: \n",
      "A value is trying to be set on a copy of a slice from a DataFrame.\n",
      "Try using .loc[row_indexer,col_indexer] = value instead\n",
      "\n",
      "See the caveats in the documentation: http://pandas.pydata.org/pandas-docs/stable/user_guide/indexing.html#returning-a-view-versus-a-copy\n",
      "  after removing the cwd from sys.path.\n",
      "D:\\Anaconda\\lib\\site-packages\\ipykernel_launcher.py:5: SettingWithCopyWarning: \n",
      "A value is trying to be set on a copy of a slice from a DataFrame.\n",
      "Try using .loc[row_indexer,col_indexer] = value instead\n",
      "\n",
      "See the caveats in the documentation: http://pandas.pydata.org/pandas-docs/stable/user_guide/indexing.html#returning-a-view-versus-a-copy\n",
      "  \"\"\"\n",
      "D:\\Anaconda\\lib\\site-packages\\pandas\\core\\indexing.py:376: SettingWithCopyWarning: \n",
      "A value is trying to be set on a copy of a slice from a DataFrame.\n",
      "Try using .loc[row_indexer,col_indexer] = value instead\n",
      "\n",
      "See the caveats in the documentation: http://pandas.pydata.org/pandas-docs/stable/user_guide/indexing.html#returning-a-view-versus-a-copy\n",
      "  self.obj[key] = _infer_fill_value(value)\n",
      "D:\\Anaconda\\lib\\site-packages\\pandas\\core\\indexing.py:494: SettingWithCopyWarning: \n",
      "A value is trying to be set on a copy of a slice from a DataFrame.\n",
      "Try using .loc[row_indexer,col_indexer] = value instead\n",
      "\n",
      "See the caveats in the documentation: http://pandas.pydata.org/pandas-docs/stable/user_guide/indexing.html#returning-a-view-versus-a-copy\n",
      "  self.obj[item] = s\n"
     ]
    }
   ],
   "source": [
    "merge_df['name'] = merge_df.apply(lambda x:x['申请人'] if x['申请人']!='' else x['企業名稱'],axis=1)\n",
    "merge_df['address'] = merge_df.apply(lambda x:x['申请人地址'] if x['申请人地址']!='' else x['地址'],axis=1)\n",
    "merge_df_clean = merge_df[merge_df['address'].str.contains(r'\\w+(街|道|路|巷|村|小区|园区|社区)')]\n",
    "merge_df_clean['address'] = merge_df_clean['address'].map(lambda x: x+'号' if ((x[-1].isdigit()) and (re.match(r'\\w+[街道路巷]',x))) else x)\n",
    "merge_df_clean['完整地址'] = merge_df_clean['address'].map(lambda x:1 if re.compile(r'\\w+[街道路巷]\\S+号').search(x) else 0)\n",
    "merge_df_clean.loc[:,'lat'] = 0\n",
    "merge_df_clean.loc[:,'lnt'] = 0\n",
    "print(merge_df_clean[merge_df_clean['完整地址']==1].shape)\n",
    "print(merge_df_clean.shape)"
   ]
  },
  {
   "cell_type": "code",
   "execution_count": 18,
   "metadata": {},
   "outputs": [],
   "source": [
    "merge_df_clean.to_excel(r'E:\\paper\\清理結果-新型&授權\\安徽_結果.xlsx')"
   ]
  },
  {
   "cell_type": "markdown",
   "metadata": {},
   "source": [
    "# merge舊資料"
   ]
  },
  {
   "cell_type": "code",
   "execution_count": 5,
   "metadata": {},
   "outputs": [
    {
     "name": "stdout",
     "output_type": "stream",
     "text": [
      "(1142, 44)\n",
      "(14741, 44)\n",
      "(2609, 49)\n",
      "(14713, 49)\n"
     ]
    }
   ],
   "source": [
    "merge_df = firm_gd.merge(patent_df_firm,left_on='企業名稱',right_on='申请人',how='outer')\n",
    "merge_df.fillna('',inplace=True)\n",
    "print(merge_df[(merge_df['企業名稱']!='')&(merge_df['申请人']!='')].shape)\n",
    "print(merge_df.shape)\n",
    "merge_df['name'] = merge_df.apply(lambda x:x['申请人'] if x['申请人']!='' else x['企業名稱'],axis=1)\n",
    "merge_df['address'] = merge_df.apply(lambda x:x['申请人地址'] if x['申请人地址']!='' else x['地址'],axis=1)\n",
    "merge_df = merge_df[merge_df['address']!='']\n",
    "merge_df_clean = merge_df\n",
    "merge_df_clean['address'] = merge_df_clean['address'].map(lambda x: x+'号' if ((x[-1].isdigit()) and (re.match(r'\\w+[街道路巷]',x))) else x)\n",
    "merge_df_clean['完整地址'] = merge_df_clean['address'].map(lambda x:1 if re.compile(r'\\w+[街道路巷]\\S+号').search(x) else 0)\n",
    "merge_df_clean.loc[:,'lat'] = 0\n",
    "merge_df_clean.loc[:,'lnt'] = 0\n",
    "print(merge_df_clean[merge_df_clean['完整地址']==1].shape)\n",
    "print(merge_df_clean.shape)"
   ]
  },
  {
   "cell_type": "code",
   "execution_count": 6,
   "metadata": {},
   "outputs": [
    {
     "data": {
      "text/plain": [
       "Index(['Unnamed: 0', '法人代碼', '企業名稱', '地址', '區域代碼', '行業代碼', '區域代碼_str',\n",
       "       'name_模糊比對', 'CPC', 'IPC', 'inpadoc同族', 'inpadoc同族个数', '专利寿命（月）',\n",
       "       '专利类型', '中国申请人区县', '中国申请人地市', '优先权信息', '公开国别', '公开（公告）号', '公开（公告）日',\n",
       "       '发明人', '合享价值度', '同族国家', '失效日', '序号', '引证专利', '引证科技文献', '扩展同族', '扩展同族个数',\n",
       "       '文献页数', '权利要求数量', '标准化申请人', '标题', '申请人', '申请人国别代码', '申请人地址', '申请人省市代码',\n",
       "       '申请人类型', '申请号', '申请日', '简单同族', '简单同族个数', '被引证专利', '被引证国别(forward)',\n",
       "       '被引证次数', '链接到incoPat', 'name', 'address', '完整地址', 'lat', 'lnt', '合肥',\n",
       "       '蚌埠', '蕪湖', '馬鞍山慈湖', '專利數', '早期園區', '近期園區'],\n",
       "      dtype='object')"
      ]
     },
     "execution_count": 6,
     "metadata": {},
     "output_type": "execute_result"
    }
   ],
   "source": [
    "done_data = pd.read_excel(r'E:\\paper\\清理結果-園區內外\\安徽_結果.xlsx')\n",
    "done_data.columns"
   ]
  },
  {
   "cell_type": "code",
   "execution_count": 7,
   "metadata": {},
   "outputs": [
    {
     "data": {
      "text/plain": [
       "(5987, 56)"
      ]
     },
     "execution_count": 7,
     "metadata": {},
     "output_type": "execute_result"
    }
   ],
   "source": [
    "merge_df_clean.drop(['lat','lnt'],axis=1,inplace=True)\n",
    "merge_df_clean = merge_df_clean.merge(done_data[['name','lat','lnt','合肥','蚌埠','蕪湖','馬鞍山慈湖','專利數','早期園區','近期園區']],left_on='name',right_on='name',how='left')\n",
    "merge_df_clean['lat'].fillna('',inplace=True)\n",
    "merge_df_clean[merge_df_clean['lat']==''].shape"
   ]
  },
  {
   "cell_type": "code",
   "execution_count": 8,
   "metadata": {},
   "outputs": [],
   "source": [
    "merge_df_clean.to_excel(r'E:\\paper\\清理結果-新\\安徽_結果.xlsx')"
   ]
  },
  {
   "cell_type": "markdown",
   "metadata": {},
   "source": [
    "# 模糊比對"
   ]
  },
  {
   "cell_type": "code",
   "execution_count": 19,
   "metadata": {},
   "outputs": [
    {
     "name": "stdout",
     "output_type": "stream",
     "text": [
      "(3454, 45)\n",
      "(19477, 45)\n"
     ]
    }
   ],
   "source": [
    "merge_df_fuzzy = firm_gd.merge(patent_df_firm,left_on='name_模糊比對',right_on='申请人',how='outer')\n",
    "merge_df_fuzzy.fillna('',inplace=True)\n",
    "merge_df_fuzzy.drop_duplicates(['name_模糊比對','申请人'], keep='last', inplace=True)\n",
    "print(merge_df_fuzzy[(merge_df_fuzzy['申请人']!='')&(merge_df_fuzzy['企業名稱']!='')].shape)\n",
    "print(merge_df_fuzzy.shape)"
   ]
  },
  {
   "cell_type": "code",
   "execution_count": 20,
   "metadata": {
    "scrolled": true
   },
   "outputs": [
    {
     "name": "stdout",
     "output_type": "stream",
     "text": [
      "(5053, 50)\n",
      "(12765, 50)\n"
     ]
    },
    {
     "name": "stderr",
     "output_type": "stream",
     "text": [
      "D:\\Anaconda\\lib\\site-packages\\ipykernel_launcher.py:4: SettingWithCopyWarning: \n",
      "A value is trying to be set on a copy of a slice from a DataFrame.\n",
      "Try using .loc[row_indexer,col_indexer] = value instead\n",
      "\n",
      "See the caveats in the documentation: http://pandas.pydata.org/pandas-docs/stable/user_guide/indexing.html#returning-a-view-versus-a-copy\n",
      "  after removing the cwd from sys.path.\n",
      "D:\\Anaconda\\lib\\site-packages\\ipykernel_launcher.py:5: SettingWithCopyWarning: \n",
      "A value is trying to be set on a copy of a slice from a DataFrame.\n",
      "Try using .loc[row_indexer,col_indexer] = value instead\n",
      "\n",
      "See the caveats in the documentation: http://pandas.pydata.org/pandas-docs/stable/user_guide/indexing.html#returning-a-view-versus-a-copy\n",
      "  \"\"\"\n"
     ]
    }
   ],
   "source": [
    "merge_df_fuzzy['name'] = merge_df_fuzzy.apply(lambda x:x['申请人'] if x['申请人']!='' else x['企業名稱'],axis=1)\n",
    "merge_df_fuzzy['address'] = merge_df_fuzzy.apply(lambda x:x['申请人地址'] if x['申请人地址']!='' else x['地址'],axis=1)\n",
    "merge_df_fuzzy_clean = merge_df_fuzzy[merge_df_fuzzy['address'].str.contains(r'\\w+(街|道|路|巷|村|小区|园区|社区)')]\n",
    "merge_df_fuzzy_clean['address'] = merge_df_fuzzy_clean['address'].map(lambda x: x+'号' if ((x[-1].isdigit()) and (re.match(r'\\w+[街道路巷]',x))) else x)\n",
    "merge_df_fuzzy_clean['完整地址'] = merge_df_fuzzy_clean['address'].map(lambda x:1 if re.compile(r'\\w+[街道路巷]\\S+号').search(x) else 0)\n",
    "merge_df_fuzzy_clean.loc[:,'lat'] = 0\n",
    "merge_df_fuzzy_clean.loc[:,'lnt'] = 0\n",
    "print(merge_df_fuzzy_clean[merge_df_fuzzy_clean['完整地址']==1].shape)\n",
    "print(merge_df_fuzzy_clean.shape)"
   ]
  },
  {
   "cell_type": "code",
   "execution_count": 21,
   "metadata": {},
   "outputs": [],
   "source": [
    "merge_df_fuzzy_clean.to_excel(r'E:\\paper\\清理結果-新型&授權\\安徽_模糊結果.xlsx')"
   ]
  },
  {
   "cell_type": "markdown",
   "metadata": {},
   "source": [
    "# 定位"
   ]
  },
  {
   "cell_type": "code",
   "execution_count": 3,
   "metadata": {},
   "outputs": [],
   "source": [
    "merge_df_clean = pd.read_excel(r'E:\\paper\\清理結果-新型&授權\\安徽_結果.xlsx',index_col=0)"
   ]
  },
  {
   "cell_type": "code",
   "execution_count": 3,
   "metadata": {},
   "outputs": [
    {
     "data": {
      "text/plain": [
       "(5987, 56)"
      ]
     },
     "execution_count": 3,
     "metadata": {},
     "output_type": "execute_result"
    }
   ],
   "source": [
    "merge_df_clean = pd.read_excel(r'E:\\paper\\清理結果-新\\安徽_結果.xlsx',index_col=0)\n",
    "merge_df_clean.fillna('',inplace=True)\n",
    "merge_df_clean[merge_df_clean['lat']==''].shape"
   ]
  },
  {
   "cell_type": "code",
   "execution_count": 4,
   "metadata": {},
   "outputs": [],
   "source": [
    "for i in merge_df_clean[merge_df_clean['lat']==''].index:\n",
    "    address = merge_df_clean.loc[i,'address']\n",
    "    g = getGeoForAddress(address)\n",
    "    merge_df_clean.loc[i,'lat'] = g[0]\n",
    "    merge_df_clean.loc[i,'lnt'] = g[1]"
   ]
  },
  {
   "cell_type": "code",
   "execution_count": 5,
   "metadata": {},
   "outputs": [
    {
     "name": "stdout",
     "output_type": "stream",
     "text": [
      "(14713, 56)\n",
      "(366, 56)\n"
     ]
    }
   ],
   "source": [
    "print(merge_df_clean.shape)\n",
    "print(merge_df_clean[merge_df_clean['lat']==''].shape)"
   ]
  },
  {
   "cell_type": "code",
   "execution_count": 6,
   "metadata": {},
   "outputs": [],
   "source": [
    "merge_df_clean.to_excel(r'E:\\paper\\清理結果-新\\安徽_結果.xlsx')"
   ]
  },
  {
   "cell_type": "markdown",
   "metadata": {},
   "source": [
    "# 作圖"
   ]
  },
  {
   "cell_type": "code",
   "execution_count": 8,
   "metadata": {},
   "outputs": [],
   "source": [
    "from geopy.distance import geodesic\n",
    "def how_far(a,b):\n",
    "    try:\n",
    "        return geodesic(a,b).kilometers\n",
    "    except:\n",
    "        return np.nan\n",
    "applicant = patent_df['申请人'].str.split(';',expand=True).stack().reset_index(level=1,drop=True).rename('申请人2')\n",
    "applicant = applicant.map(lambda x:x.strip())\n",
    "patent_df_new = patent_df.join(applicant)\n",
    "patent_count = patent_df_new.groupby('申请人2')['标题'].count().rename('專利數')"
   ]
  },
  {
   "cell_type": "code",
   "execution_count": 9,
   "metadata": {},
   "outputs": [
    {
     "data": {
      "text/plain": [
       "申请人2\n",
       "(中外合资)合肥荣事达洗衣机有限公司       1\n",
       "杜元君                      1\n",
       "杜劲松                      1\n",
       "杜卫国                      1\n",
       "杜和兵                      1\n",
       "                      ... \n",
       "安徽理工大学                2118\n",
       "合肥工业大学                2308\n",
       "中国科学技术大学              2416\n",
       "安徽江淮汽车股份有限公司          3743\n",
       "奇瑞汽车股份有限公司            5176\n",
       "Name: 專利數, Length: 29140, dtype: int64"
      ]
     },
     "execution_count": 9,
     "metadata": {},
     "output_type": "execute_result"
    }
   ],
   "source": [
    "patent_count.sort_values()"
   ]
  },
  {
   "cell_type": "code",
   "execution_count": 5,
   "metadata": {},
   "outputs": [],
   "source": [
    "merge_df = pd.read_excel(r'E:\\paper\\清理結果-新型&授權\\安徽_結果.xlsx',index_col=0)\n",
    "target1 = (31.84174,117.19985)\n",
    "merge_df['合肥'] = merge_df.apply(lambda x:how_far(target1,(x['lat'],x['lnt'])),axis=1)\n",
    "target2 = (32.90903,117.32002)\n",
    "merge_df['蚌埠'] = merge_df.apply(lambda x:how_far(target2,(x['lat'],x['lnt'])),axis=1)\n",
    "target3 = (31.27009,118.38663)\n",
    "merge_df['蕪湖'] = merge_df.apply(lambda x:how_far(target3,(x['lat'],x['lnt'])),axis=1)\n",
    "target4 = (31.74369,118.5146)\n",
    "merge_df['馬鞍山慈湖'] = merge_df.apply(lambda x:how_far(target4,(x['lat'],x['lnt'])),axis=1)\n",
    "merge_df = merge_df.merge(patent_count,left_on='name',right_on='申请人2',how='left')\n",
    "merge_df['專利數'].fillna(0,inplace=True)"
   ]
  },
  {
   "cell_type": "code",
   "execution_count": 10,
   "metadata": {},
   "outputs": [],
   "source": [
    "merge_df = pd.read_excel(r'E:\\paper\\清理結果-新\\安徽_結果.xlsx',index_col=0)\n",
    "merge_df.fillna('',inplace=True)\n",
    "merge_df.drop('專利數',axis=1,inplace=True)\n",
    "target1 = (31.84174,117.19985)\n",
    "target2 = (32.90903,117.32002)\n",
    "target3 = (31.27009,118.38663)\n",
    "target4 = (31.74369,118.5146)\n",
    "\n",
    "for i in merge_df[merge_df['合肥']==''].index:\n",
    "    merge_df.loc[i,'合肥'] = how_far(target1,(merge_df.loc[i,'lat'],merge_df.loc[i,'lnt']))\n",
    "    merge_df.loc[i,'蚌埠'] = how_far(target2,(merge_df.loc[i,'lat'],merge_df.loc[i,'lnt']))\n",
    "    merge_df.loc[i,'蕪湖'] = how_far(target3,(merge_df.loc[i,'lat'],merge_df.loc[i,'lnt']))\n",
    "    merge_df.loc[i,'馬鞍山慈湖'] = how_far(target4,(merge_df.loc[i,'lat'],merge_df.loc[i,'lnt']))\n",
    "merge_df = merge_df.merge(patent_count,left_on='name',right_on='申请人2',how='left')\n",
    "merge_df['專利數'].fillna(0,inplace=True)"
   ]
  },
  {
   "cell_type": "code",
   "execution_count": 11,
   "metadata": {},
   "outputs": [],
   "source": [
    "merge_df['早期園區'] = merge_df.apply(lambda x:1 if (x['合肥']<10) else 0,axis=1)\n",
    "merge_df['近期園區'] = merge_df.apply(lambda x:1 if ((x['蚌埠']<10)or(x['蕪湖']<10)or(x['馬鞍山慈湖']<10)) else 0,axis=1)"
   ]
  },
  {
   "cell_type": "code",
   "execution_count": 12,
   "metadata": {},
   "outputs": [],
   "source": [
    "merge_df.to_excel(r'E:\\paper\\清理結果-新園區內外\\安徽_結果.xlsx')"
   ]
  },
  {
   "cell_type": "code",
   "execution_count": 13,
   "metadata": {},
   "outputs": [
    {
     "name": "stdout",
     "output_type": "stream",
     "text": [
      "(14713, 56)\n",
      "0.6466390267110719\n",
      "0.008156052470604228\n"
     ]
    }
   ],
   "source": [
    "print(merge_df.shape)\n",
    "print(len(merge_df[merge_df['專利數']==0]['專利數'])/len(merge_df['專利數']))\n",
    "print(len(merge_df[merge_df['專利數']>=100]['專利數'])/len(merge_df['專利數']))"
   ]
  },
  {
   "cell_type": "code",
   "execution_count": 14,
   "metadata": {},
   "outputs": [
    {
     "data": {
      "text/plain": [
       "專利數\n",
       "0.0       9514\n",
       "1.0        495\n",
       "2.0        350\n",
       "3.0        251\n",
       "4.0        221\n",
       "5.0        198\n",
       "6.0        318\n",
       "7.0        295\n",
       "8.0        266\n",
       "9.0        249\n",
       "10.0       218\n",
       "11.0       163\n",
       "12.0       148\n",
       "13.0       154\n",
       "14.0       122\n",
       "15.0       122\n",
       "16.0       128\n",
       "17.0       108\n",
       "18.0        75\n",
       "19.0        86\n",
       "20.0        79\n",
       "21.0        68\n",
       "22.0        62\n",
       "23.0        66\n",
       "24.0        53\n",
       "25.0        53\n",
       "26.0        29\n",
       "27.0        32\n",
       "28.0        38\n",
       "29.0        34\n",
       "30.0        33\n",
       "31.0        27\n",
       "32.0        38\n",
       "33.0        29\n",
       "34.0        19\n",
       "35.0        21\n",
       "36.0        19\n",
       "37.0        17\n",
       "38.0        26\n",
       "39.0        12\n",
       "40.0        19\n",
       "41.0        11\n",
       "42.0        17\n",
       "43.0        18\n",
       "44.0        10\n",
       "45.0         9\n",
       "46.0        15\n",
       "47.0        19\n",
       "48.0        11\n",
       "49.0        11\n",
       "50.0        14\n",
       "51.0         2\n",
       "52.0         4\n",
       "53.0        11\n",
       "54.0         6\n",
       "55.0         6\n",
       "56.0         7\n",
       "57.0        13\n",
       "58.0        10\n",
       "59.0         7\n",
       "60.0         8\n",
       "61.0         7\n",
       "62.0         6\n",
       "63.0         6\n",
       "64.0         8\n",
       "65.0         7\n",
       "66.0         2\n",
       "67.0         5\n",
       "68.0         2\n",
       "69.0         3\n",
       "70.0         3\n",
       "71.0         4\n",
       "72.0         7\n",
       "73.0         4\n",
       "74.0         2\n",
       "75.0         3\n",
       "76.0         5\n",
       "77.0         3\n",
       "78.0         1\n",
       "79.0         2\n",
       "80.0         4\n",
       "81.0         4\n",
       "82.0         3\n",
       "83.0         5\n",
       "84.0         1\n",
       "85.0         3\n",
       "86.0         2\n",
       "87.0         1\n",
       "88.0         2\n",
       "89.0         5\n",
       "90.0         4\n",
       "91.0         1\n",
       "92.0         3\n",
       "93.0         2\n",
       "94.0         1\n",
       "95.0         3\n",
       "96.0         2\n",
       "97.0         1\n",
       "99.0         2\n",
       "100.0        1\n",
       "101.0        1\n",
       "102.0        1\n",
       "103.0        3\n",
       "104.0        3\n",
       "105.0        2\n",
       "106.0        1\n",
       "107.0        3\n",
       "108.0        2\n",
       "110.0        3\n",
       "111.0        1\n",
       "112.0        1\n",
       "113.0        4\n",
       "115.0        1\n",
       "116.0        2\n",
       "121.0        2\n",
       "122.0        1\n",
       "125.0        1\n",
       "126.0        2\n",
       "127.0        2\n",
       "128.0        1\n",
       "129.0        1\n",
       "130.0        2\n",
       "131.0        1\n",
       "132.0        1\n",
       "134.0        2\n",
       "135.0        2\n",
       "136.0        2\n",
       "137.0        1\n",
       "140.0        2\n",
       "142.0        3\n",
       "145.0        1\n",
       "148.0        1\n",
       "152.0        1\n",
       "156.0        1\n",
       "157.0        1\n",
       "158.0        1\n",
       "159.0        1\n",
       "160.0        1\n",
       "166.0        1\n",
       "172.0        1\n",
       "174.0        1\n",
       "177.0        1\n",
       "178.0        1\n",
       "179.0        2\n",
       "180.0        1\n",
       "181.0        1\n",
       "183.0        1\n",
       "186.0        1\n",
       "188.0        1\n",
       "193.0        1\n",
       "195.0        1\n",
       "200.0        1\n",
       "203.0        1\n",
       "207.0        1\n",
       "214.0        1\n",
       "215.0        1\n",
       "217.0        1\n",
       "231.0        1\n",
       "253.0        1\n",
       "255.0        1\n",
       "257.0        2\n",
       "259.0        1\n",
       "262.0        1\n",
       "271.0        1\n",
       "282.0        1\n",
       "285.0        1\n",
       "306.0        1\n",
       "316.0        1\n",
       "324.0        1\n",
       "356.0        1\n",
       "386.0        1\n",
       "390.0        1\n",
       "393.0        1\n",
       "394.0        1\n",
       "407.0        1\n",
       "414.0        1\n",
       "421.0        1\n",
       "427.0        1\n",
       "431.0        1\n",
       "449.0        1\n",
       "483.0        1\n",
       "485.0        1\n",
       "550.0        1\n",
       "558.0        1\n",
       "716.0        1\n",
       "849.0        1\n",
       "932.0        1\n",
       "1038.0       1\n",
       "1171.0       1\n",
       "1395.0       1\n",
       "1409.0       1\n",
       "3743.0       1\n",
       "5176.0       1\n",
       "Name: IPC, dtype: int64"
      ]
     },
     "execution_count": 14,
     "metadata": {},
     "output_type": "execute_result"
    }
   ],
   "source": [
    "merge_df.groupby('專利數')['IPC'].count()"
   ]
  },
  {
   "cell_type": "code",
   "execution_count": 15,
   "metadata": {},
   "outputs": [
    {
     "data": {
      "text/plain": [
       "專利數\n",
       "0.0     294\n",
       "1.0       4\n",
       "2.0       2\n",
       "3.0       5\n",
       "4.0       4\n",
       "5.0       2\n",
       "6.0       4\n",
       "7.0       4\n",
       "8.0       1\n",
       "9.0       9\n",
       "10.0      3\n",
       "11.0      2\n",
       "13.0      2\n",
       "14.0      3\n",
       "15.0      3\n",
       "17.0      2\n",
       "18.0      1\n",
       "19.0      2\n",
       "20.0      3\n",
       "21.0      1\n",
       "22.0      3\n",
       "25.0      2\n",
       "28.0      1\n",
       "29.0      1\n",
       "30.0      2\n",
       "31.0      1\n",
       "37.0      1\n",
       "39.0      1\n",
       "49.0      1\n",
       "57.0      1\n",
       "90.0      1\n",
       "Name: IPC, dtype: int64"
      ]
     },
     "execution_count": 15,
     "metadata": {},
     "output_type": "execute_result"
    }
   ],
   "source": [
    "merge_df[merge_df['lat']==''].groupby('專利數')['IPC'].count()"
   ]
  },
  {
   "cell_type": "code",
   "execution_count": 17,
   "metadata": {},
   "outputs": [
    {
     "data": {
      "text/plain": [
       "Text(0, 0.5, '無法定位廠商數量')"
      ]
     },
     "execution_count": 17,
     "metadata": {},
     "output_type": "execute_result"
    },
    {
     "data": {
      "image/png": "[encoded data removed]",
      "text/plain": [
       "<Figure size 432x288 with 2 Axes>"
      ]
     },
     "metadata": {
      "needs_background": "light"
     },
     "output_type": "display_data"
    }
   ],
   "source": [
    "from matplotlib.font_manager import FontProperties\n",
    "myfont = FontProperties(fname=r'C:\\Windows\\Fonts\\msjhbd.ttc')\n",
    "fig = plt.figure()\n",
    "ax1 = fig.add_subplot(111)\n",
    "ax1.plot(merge_df[merge_df['lat']!=0].groupby('專利數')['IPC'].count().index,merge_df[merge_df['lat']!=0].groupby('專利數')['IPC'].count())\n",
    "ax1.set_title('安徽',fontproperties=myfont,fontsize=15)\n",
    "ax1.set_ylabel('廠商數量',fontproperties=myfont)\n",
    "ax1.set_xlabel('專利數量',fontproperties=myfont)\n",
    "ax1.set_xlim([0,100])\n",
    "ax1.set_ylim([0,500])\n",
    "ax2 = ax1.twinx()\n",
    "ax2.bar(merge_df[merge_df['lat']==''].groupby('專利數')['IPC'].count().index,merge_df[merge_df['lat']==''].groupby('專利數')['IPC'].count(),color='red')\n",
    "ax2.set_ylim([0,20])\n",
    "ax2.set_ylabel('無法定位廠商數量',fontproperties=myfont)\n"
   ]
  },
  {
   "cell_type": "code",
   "execution_count": 2,
   "metadata": {},
   "outputs": [
    {
     "name": "stdout",
     "output_type": "stream",
     "text": [
      "1371\n",
      "0.09625781085445483\n",
      "29\n"
     ]
    }
   ],
   "source": [
    "region = pd.read_excel(r'E:\\paper\\清理結果-新園區內外\\安徽_結果.xlsx',index_col=0)\n",
    "region.fillna('',inplace=True)\n",
    "corptype = ['有限','公司','责任','集团','股份','控股','总公司','分公司']\n",
    "region['name_clean'] = region['name']\n",
    "for k in corptype:\n",
    "    region['name_clean'] = region['name_clean'].map(lambda x:re.sub(k,'',x))\n",
    "region['name_clean'] = region['name_clean'].map(lambda x:re.sub(r'\\(.*?\\)','',x))\n",
    "region['name_clean'] = region['name_clean'].map(lambda x:re.sub(r'\\（.*?\\）','',x))\n",
    "region['name_clean'] = region['name_clean'].map(lambda x:re.sub(r'\\(.*?\\）','',x))\n",
    "region['name_clean'] = region['name_clean'].map(lambda x:re.sub(r'\\（.*?\\)','',x))\n",
    "region['name_clean'] = region['name_clean'].map(lambda x:re.sub(r'[\\s+-─]','',x))\n",
    "clean = region[region.duplicated(['name_clean'],keep=False)].sort_values(by=['企業名稱'])\n",
    "patents = clean.groupby('name_clean')['專利數'].sum()\n",
    "final = clean.drop('專利數',axis=1).merge(patents,left_on='name_clean',right_on='name_clean',how='left')\n",
    "final.drop_duplicates(['name_clean'],keep='last',inplace=True)\n",
    "region.drop_duplicates(['name_clean'],keep=False,inplace=True)\n",
    "cleaned = pd.concat([region,final],ignore_index=True,sort=False)\n",
    "located = cleaned[cleaned['lat']!='']\n",
    "not_merge = located[located['企業名稱']=='']\n",
    "print(len(not_merge['專利數']))\n",
    "print(len(not_merge['專利數'])/len(located['專利數']))\n",
    "print(len(not_merge[not_merge['專利數']>100]['專利數']))"
   ]
  },
  {
   "cell_type": "code",
   "execution_count": 3,
   "metadata": {},
   "outputs": [
    {
     "data": {
      "text/plain": [
       "專利數\n",
       "1       241\n",
       "2       142\n",
       "3        83\n",
       "4        89\n",
       "5        65\n",
       "6        57\n",
       "7        58\n",
       "8        52\n",
       "9        47\n",
       "10       35\n",
       "11       29\n",
       "12       38\n",
       "13       37\n",
       "14       29\n",
       "15       24\n",
       "16       29\n",
       "17       24\n",
       "18       14\n",
       "19       19\n",
       "20       12\n",
       "21       12\n",
       "22       11\n",
       "23        9\n",
       "24       17\n",
       "25       13\n",
       "26        7\n",
       "27        4\n",
       "28        8\n",
       "29        7\n",
       "30        8\n",
       "31        2\n",
       "32        5\n",
       "33        6\n",
       "34        6\n",
       "35        5\n",
       "36        1\n",
       "37        4\n",
       "38        4\n",
       "39        3\n",
       "40        5\n",
       "41        2\n",
       "42        6\n",
       "43        6\n",
       "44        4\n",
       "45        4\n",
       "46        2\n",
       "47        2\n",
       "48        1\n",
       "49        1\n",
       "50        4\n",
       "53        6\n",
       "54        1\n",
       "55        2\n",
       "56        2\n",
       "57        3\n",
       "58        1\n",
       "59        3\n",
       "60        2\n",
       "62        2\n",
       "63        1\n",
       "64        2\n",
       "65        1\n",
       "67        1\n",
       "69        1\n",
       "70        1\n",
       "72        1\n",
       "73        2\n",
       "76        2\n",
       "77        1\n",
       "78        1\n",
       "80        2\n",
       "82        1\n",
       "83        1\n",
       "85        1\n",
       "86        1\n",
       "87        1\n",
       "88        1\n",
       "89        2\n",
       "93        1\n",
       "96        1\n",
       "97        1\n",
       "102       1\n",
       "103       1\n",
       "107       1\n",
       "110       1\n",
       "112       1\n",
       "113       1\n",
       "116       1\n",
       "122       1\n",
       "130       1\n",
       "131       1\n",
       "132       1\n",
       "140       1\n",
       "142       1\n",
       "152       1\n",
       "158       1\n",
       "159       1\n",
       "172       1\n",
       "174       1\n",
       "179       1\n",
       "181       1\n",
       "190       1\n",
       "193       1\n",
       "203       1\n",
       "255       1\n",
       "324       1\n",
       "414       1\n",
       "431       1\n",
       "1171      1\n",
       "1409      1\n",
       "Name: IPC, dtype: int64"
      ]
     },
     "execution_count": 3,
     "metadata": {},
     "output_type": "execute_result"
    }
   ],
   "source": [
    "not_merge.groupby('專利數')['IPC'].count()"
   ]
  },
  {
   "cell_type": "code",
   "execution_count": 4,
   "metadata": {
    "scrolled": true
   },
   "outputs": [
    {
     "data": {
      "text/html": [
       "<div>\n",
       "<style scoped>\n",
       "    .dataframe tbody tr th:only-of-type {\n",
       "        vertical-align: middle;\n",
       "    }\n",
       "\n",
       "    .dataframe tbody tr th {\n",
       "        vertical-align: top;\n",
       "    }\n",
       "\n",
       "    .dataframe thead th {\n",
       "        text-align: right;\n",
       "    }\n",
       "</style>\n",
       "<table border=\"1\" class=\"dataframe\">\n",
       "  <thead>\n",
       "    <tr style=\"text-align: right;\">\n",
       "      <th></th>\n",
       "      <th>法人代碼</th>\n",
       "      <th>企業名稱</th>\n",
       "      <th>地址</th>\n",
       "      <th>區域代碼</th>\n",
       "      <th>行業代碼</th>\n",
       "      <th>區域代碼_str</th>\n",
       "      <th>CPC</th>\n",
       "      <th>IPC</th>\n",
       "      <th>inpadoc同族</th>\n",
       "      <th>inpadoc同族个数</th>\n",
       "      <th>专利寿命（月）</th>\n",
       "      <th>专利类型</th>\n",
       "      <th>中国申请人区县</th>\n",
       "      <th>中国申请人地市</th>\n",
       "      <th>优先权信息</th>\n",
       "      <th>公开国别</th>\n",
       "      <th>公开（公告）号</th>\n",
       "      <th>公开（公告）日</th>\n",
       "      <th>发明人</th>\n",
       "      <th>合享价值度</th>\n",
       "      <th>同族国家</th>\n",
       "      <th>失效日</th>\n",
       "      <th>序号</th>\n",
       "      <th>引证专利</th>\n",
       "      <th>引证科技文献</th>\n",
       "      <th>...</th>\n",
       "      <th>申请人地址</th>\n",
       "      <th>申请人省市代码</th>\n",
       "      <th>申请人类型</th>\n",
       "      <th>申请号</th>\n",
       "      <th>申请日</th>\n",
       "      <th>简单同族</th>\n",
       "      <th>简单同族个数</th>\n",
       "      <th>被引证专利</th>\n",
       "      <th>被引证国别(forward)</th>\n",
       "      <th>被引证次数</th>\n",
       "      <th>链接到incoPat</th>\n",
       "      <th>申请人</th>\n",
       "      <th>name</th>\n",
       "      <th>address</th>\n",
       "      <th>完整地址</th>\n",
       "      <th>lat</th>\n",
       "      <th>lnt</th>\n",
       "      <th>合肥</th>\n",
       "      <th>蚌埠</th>\n",
       "      <th>蕪湖</th>\n",
       "      <th>馬鞍山慈湖</th>\n",
       "      <th>早期園區</th>\n",
       "      <th>近期園區</th>\n",
       "      <th>專利數</th>\n",
       "      <th>name_clean</th>\n",
       "    </tr>\n",
       "  </thead>\n",
       "  <tbody>\n",
       "    <tr>\n",
       "      <td>14434</td>\n",
       "      <td></td>\n",
       "      <td></td>\n",
       "      <td></td>\n",
       "      <td></td>\n",
       "      <td></td>\n",
       "      <td></td>\n",
       "      <td></td>\n",
       "      <td>E04G21/00</td>\n",
       "      <td>CN102979305A; CN102979305B</td>\n",
       "      <td>2</td>\n",
       "      <td>0</td>\n",
       "      <td>发明授权</td>\n",
       "      <td>[雨山]</td>\n",
       "      <td>[马鞍山]</td>\n",
       "      <td></td>\n",
       "      <td>CN</td>\n",
       "      <td>CN102979305B</td>\n",
       "      <td>2015-09-23 00:00:00</td>\n",
       "      <td>陈明宝; 刘祖国</td>\n",
       "      <td>9</td>\n",
       "      <td>CN</td>\n",
       "      <td></td>\n",
       "      <td>23629</td>\n",
       "      <td>CN102635244A; CN1067231A; CN201661082U; JP2011000799A</td>\n",
       "      <td>&lt;text&gt;王俊芳.高温环境下混凝土筒仓滑模温度控制技术研究与应用.《工业建筑》.2011, 第4卷(第S1期), 第1节第2段、第2.3.1节第4段、第2.3.3节第3段.&lt;/text&gt;</td>\n",
       "      <td>...</td>\n",
       "      <td>安徽省马鞍山市雨山区雨山东路88号</td>\n",
       "      <td>安徽; 34</td>\n",
       "      <td>企业</td>\n",
       "      <td>CN201210539585.5</td>\n",
       "      <td>2012-12-14 00:00:00</td>\n",
       "      <td>CN102979305B; CN102979305A</td>\n",
       "      <td>2</td>\n",
       "      <td></td>\n",
       "      <td></td>\n",
       "      <td>0</td>\n",
       "      <td>到incoPat中查看\\r\\nCN102979305B</td>\n",
       "      <td>中国十七冶集团有限公司</td>\n",
       "      <td>中国十七冶集团有限公司</td>\n",
       "      <td>安徽省马鞍山市雨山区雨山东路88号</td>\n",
       "      <td>1</td>\n",
       "      <td>31.6732</td>\n",
       "      <td>118.533</td>\n",
       "      <td>127.711020</td>\n",
       "      <td>178.445185</td>\n",
       "      <td>46.814616</td>\n",
       "      <td>8.020783</td>\n",
       "      <td>0</td>\n",
       "      <td>1</td>\n",
       "      <td>1171</td>\n",
       "      <td>中国十七冶</td>\n",
       "    </tr>\n",
       "    <tr>\n",
       "      <td>14509</td>\n",
       "      <td></td>\n",
       "      <td></td>\n",
       "      <td></td>\n",
       "      <td></td>\n",
       "      <td></td>\n",
       "      <td></td>\n",
       "      <td></td>\n",
       "      <td>F25D29/00</td>\n",
       "      <td>CN102997610B; CN102997610A</td>\n",
       "      <td>2</td>\n",
       "      <td></td>\n",
       "      <td>发明授权</td>\n",
       "      <td>[肥东]</td>\n",
       "      <td>[合肥]</td>\n",
       "      <td></td>\n",
       "      <td>CN</td>\n",
       "      <td>CN102997610B</td>\n",
       "      <td>2015-01-21 00:00:00</td>\n",
       "      <td>王振兴; 胡海宏; 孙超; 任伟</td>\n",
       "      <td>9</td>\n",
       "      <td>CN</td>\n",
       "      <td></td>\n",
       "      <td>43176</td>\n",
       "      <td>CN1304023A; CN102589082A; CN101726073A; CN101963149A; JP2012102895A; JP07190509A</td>\n",
       "      <td></td>\n",
       "      <td>...</td>\n",
       "      <td>安徽省合肥市长江西路669号</td>\n",
       "      <td>安徽; 34</td>\n",
       "      <td>企业</td>\n",
       "      <td>CN201210590023.3</td>\n",
       "      <td>2012-12-31 00:00:00</td>\n",
       "      <td>CN102997610A; CN102997610B</td>\n",
       "      <td>2</td>\n",
       "      <td></td>\n",
       "      <td></td>\n",
       "      <td>0</td>\n",
       "      <td>到incoPat中查看\\r\\nCN102997610B</td>\n",
       "      <td>合肥美的电冰箱有限公司</td>\n",
       "      <td>合肥美的电冰箱有限公司</td>\n",
       "      <td>安徽省合肥市长江西路669号</td>\n",
       "      <td>1</td>\n",
       "      <td>31.8478</td>\n",
       "      <td>117.208</td>\n",
       "      <td>0.991504</td>\n",
       "      <td>118.153937</td>\n",
       "      <td>128.980925</td>\n",
       "      <td>124.321310</td>\n",
       "      <td>1</td>\n",
       "      <td>0</td>\n",
       "      <td>1409</td>\n",
       "      <td>合肥美的电冰箱</td>\n",
       "    </tr>\n",
       "  </tbody>\n",
       "</table>\n",
       "<p>2 rows × 57 columns</p>\n",
       "</div>"
      ],
      "text/plain": [
       "      法人代碼 企業名稱 地址 區域代碼 行業代碼 區域代碼_str CPC        IPC  \\\n",
       "14434                                      E04G21/00   \n",
       "14509                                      F25D29/00   \n",
       "\n",
       "                        inpadoc同族 inpadoc同族个数 专利寿命（月）  专利类型 中国申请人区县 中国申请人地市  \\\n",
       "14434  CN102979305A; CN102979305B           2       0  发明授权    [雨山]   [马鞍山]   \n",
       "14509  CN102997610B; CN102997610A           2          发明授权    [肥东]    [合肥]   \n",
       "\n",
       "      优先权信息 公开国别       公开（公告）号              公开（公告）日               发明人 合享价值度  \\\n",
       "14434         CN  CN102979305B  2015-09-23 00:00:00          陈明宝; 刘祖国     9   \n",
       "14509         CN  CN102997610B  2015-01-21 00:00:00  王振兴; 胡海宏; 孙超; 任伟     9   \n",
       "\n",
       "      同族国家 失效日     序号  \\\n",
       "14434   CN      23629   \n",
       "14509   CN      43176   \n",
       "\n",
       "                                                                                   引证专利  \\\n",
       "14434                             CN102635244A; CN1067231A; CN201661082U; JP2011000799A   \n",
       "14509  CN1304023A; CN102589082A; CN101726073A; CN101963149A; JP2012102895A; JP07190509A   \n",
       "\n",
       "                                                                                               引证科技文献  \\\n",
       "14434  <text>王俊芳.高温环境下混凝土筒仓滑模温度控制技术研究与应用.《工业建筑》.2011, 第4卷(第S1期), 第1节第2段、第2.3.1节第4段、第2.3.3节第3段.</text>   \n",
       "14509                                                                                                   \n",
       "\n",
       "       ...              申请人地址 申请人省市代码 申请人类型               申请号  \\\n",
       "14434  ...  安徽省马鞍山市雨山区雨山东路88号  安徽; 34    企业  CN201210539585.5   \n",
       "14509  ...     安徽省合肥市长江西路669号  安徽; 34    企业  CN201210590023.3   \n",
       "\n",
       "                       申请日                        简单同族 简单同族个数 被引证专利  \\\n",
       "14434  2012-12-14 00:00:00  CN102979305B; CN102979305A      2         \n",
       "14509  2012-12-31 00:00:00  CN102997610A; CN102997610B      2         \n",
       "\n",
       "      被引证国别(forward) 被引证次数                   链接到incoPat          申请人  \\\n",
       "14434                    0  到incoPat中查看\\r\\nCN102979305B  中国十七冶集团有限公司   \n",
       "14509                    0  到incoPat中查看\\r\\nCN102997610B  合肥美的电冰箱有限公司   \n",
       "\n",
       "              name            address 完整地址      lat      lnt          合肥  \\\n",
       "14434  中国十七冶集团有限公司  安徽省马鞍山市雨山区雨山东路88号    1  31.6732  118.533  127.711020   \n",
       "14509  合肥美的电冰箱有限公司     安徽省合肥市长江西路669号    1  31.8478  117.208    0.991504   \n",
       "\n",
       "               蚌埠          蕪湖       馬鞍山慈湖  早期園區 近期園區   專利數  name_clean  \n",
       "14434  178.445185   46.814616    8.020783     0    1  1171       中国十七冶  \n",
       "14509  118.153937  128.980925  124.321310     1    0  1409     合肥美的电冰箱  \n",
       "\n",
       "[2 rows x 57 columns]"
      ]
     },
     "execution_count": 4,
     "metadata": {},
     "output_type": "execute_result"
    }
   ],
   "source": [
    "not_merge[not_merge['專利數']>=1000].sort_values('專利數')"
   ]
  },
  {
   "cell_type": "code",
   "execution_count": 5,
   "metadata": {},
   "outputs": [
    {
     "data": {
      "text/plain": [
       "Text(0.5, 0, '專利數量')"
      ]
     },
     "execution_count": 5,
     "metadata": {},
     "output_type": "execute_result"
    },
    {
     "data": {
      "image/png": "[encoded data removed]",
      "text/plain": [
       "<Figure size 432x288 with 1 Axes>"
      ]
     },
     "metadata": {
      "needs_background": "light"
     },
     "output_type": "display_data"
    }
   ],
   "source": [
    "from matplotlib.font_manager import FontProperties\n",
    "myfont = FontProperties(fname=r'C:\\Windows\\Fonts\\msjhbd.ttc')\n",
    "fig = plt.figure()\n",
    "ax1 = fig.add_subplot(111)\n",
    "ax1.plot(not_merge.groupby('專利數')['IPC'].count().index,not_merge.groupby('專利數')['IPC'].count())\n",
    "ax1.set_title('安徽',fontproperties=myfont,fontsize=15)\n",
    "ax1.set_xlim([0,100])\n",
    "ax1.set_ylabel('廠商數量',fontproperties=myfont)\n",
    "ax1.set_xlabel('專利數量',fontproperties=myfont)"
   ]
  },
  {
   "cell_type": "code",
   "execution_count": 6,
   "metadata": {},
   "outputs": [],
   "source": [
    "cleaned.to_excel(r'E:\\paper\\名稱merge\\安徽_結果.xlsx')"
   ]
  },
  {
   "cell_type": "code",
   "execution_count": 9,
   "metadata": {},
   "outputs": [
    {
     "data": {
      "text/plain": [
       "<matplotlib.legend.Legend at 0x18664ff7dc8>"
      ]
     },
     "execution_count": 9,
     "metadata": {},
     "output_type": "execute_result"
    },
    {
     "data": {
      "image/png": "[encoded data removed]",
      "text/plain": [
       "<Figure size 360x360 with 1 Axes>"
      ]
     },
     "metadata": {
      "needs_background": "light"
     },
     "output_type": "display_data"
    }
   ],
   "source": [
    "from matplotlib.font_manager import FontProperties\n",
    "myfont = FontProperties(fname=r'C:\\Windows\\Fonts\\msjhbd.ttc')\n",
    "fig = plt.figure(figsize = (5,5))\n",
    "ax1 = fig.add_subplot(111)\n",
    "ax1.set_ylabel('Patent Counts')\n",
    "bar1 = ax1.bar(1,merge_df[merge_df['早期園區']==1]['專利數'].sum(),alpha=0.7,width=0.35,color='r',label='早期園區')\n",
    "bar2 = ax1.bar(1+0.35,merge_df[merge_df['近期園區']==1]['專利數'].sum(),alpha=0.7,width=0.35,color='b',label='近期園區')\n",
    "bar3 = ax1.bar(1+0.7,merge_df[(merge_df['近期園區']==0)&(merge_df['早期園區']==0)]['專利數'].sum(),alpha=0.7,width=0.35,color='k',label='園區外')\n",
    "\n",
    "plt.text(1, merge_df[merge_df['早期園區']==1]['專利數'].sum()+100, '%.0f' % merge_df[merge_df['早期園區']==1]['專利數'].sum(), ha='center', va= 'bottom',fontsize=12)  \n",
    "plt.text(1.35, merge_df[merge_df['近期園區']==1]['專利數'].sum()+100, '%.0f' % merge_df[merge_df['近期園區']==1]['專利數'].sum(), ha='center', va= 'bottom',fontsize=12)  \n",
    "plt.text(1.7, merge_df[(merge_df['近期園區']==0)&(merge_df['早期園區']==0)]['專利數'].sum()+100, '%.0f' % merge_df[(merge_df['近期園區']==0)&(merge_df['早期園區']==0)]['專利數'].sum(), ha='center', va= 'bottom',fontsize=12)  \n",
    "\n",
    "plt.title('安徽',fontproperties=myfont,fontsize=20)\n",
    "plt.xticks([0.75,1,2],['','',''],fontproperties=myfont)\n",
    "plt.legend(handles = [bar1,bar2,bar3], loc='upper left',prop=myfont)"
   ]
  },
  {
   "cell_type": "code",
   "execution_count": 11,
   "metadata": {},
   "outputs": [
    {
     "data": {
      "text/plain": [
       "<matplotlib.legend.Legend at 0x1865fc43fc8>"
      ]
     },
     "execution_count": 11,
     "metadata": {},
     "output_type": "execute_result"
    },
    {
     "data": {
      "image/png": "[encoded data removed]",
      "text/plain": [
       "<Figure size 360x360 with 1 Axes>"
      ]
     },
     "metadata": {
      "needs_background": "light"
     },
     "output_type": "display_data"
    }
   ],
   "source": [
    "fig = plt.figure(figsize = (5,5))\n",
    "ax1 = fig.add_subplot(111)\n",
    "ax1.set_ylabel('Patent Counts/Firms ')\n",
    "bar1 = ax1.bar(1,merge_df[merge_df['早期園區']==1]['專利數'].sum()/merge_df[merge_df['早期園區']==1]['專利數'].count(),alpha=0.7,width=0.35,color='r',label='早期園區')\n",
    "bar2 = ax1.bar(1+0.35,merge_df[merge_df['近期園區']==1]['專利數'].sum()/merge_df[merge_df['近期園區']==1]['專利數'].count(),alpha=0.7,width=0.35,color='b',label='近期園區')\n",
    "bar3 = ax1.bar(1+0.7,merge_df[(merge_df['近期園區']==0)&(merge_df['早期園區']==0)]['專利數'].sum()/merge_df[(merge_df['近期園區']==0)&(merge_df['早期園區']==0)]['專利數'].count(),alpha=0.7,width=0.35,color='k',label='園區外')\n",
    "\n",
    "plt.text(1, (merge_df[merge_df['早期園區']==1]['專利數'].sum()/merge_df[merge_df['早期園區']==1]['專利數'].count()), '%.2f' % (merge_df[merge_df['早期園區']==1]['專利數'].sum()/merge_df[merge_df['早期園區']==1]['專利數'].count()), ha='center', va= 'bottom',fontsize=12)  \n",
    "plt.text(1.35, (merge_df[merge_df['近期園區']==1]['專利數'].sum()/merge_df[merge_df['近期園區']==1]['專利數'].count()), '%.2f' % (merge_df[merge_df['近期園區']==1]['專利數'].sum()/merge_df[merge_df['近期園區']==1]['專利數'].count()), ha='center', va= 'bottom',fontsize=12)  \n",
    "plt.text(1.7, (merge_df[(merge_df['近期園區']==0)&(merge_df['早期園區']==0)]['專利數'].sum()/merge_df[(merge_df['近期園區']==0)&(merge_df['早期園區']==0)]['專利數'].count()), '%.2f' % (merge_df[(merge_df['近期園區']==0)&(merge_df['早期園區']==0)]['專利數'].sum()/merge_df[(merge_df['近期園區']==0)&(merge_df['早期園區']==0)]['專利數'].count()), ha='center', va= 'bottom',fontsize=12)  \n",
    "\n",
    "plt.title('安徽',fontproperties=myfont,fontsize=20)\n",
    "plt.xticks([0.75,1,2],['','',''],fontproperties=myfont)\n",
    "plt.legend(handles = [bar1,bar2,bar3], loc='upper right',prop=myfont)"
   ]
  },
  {
   "cell_type": "code",
   "execution_count": null,
   "metadata": {},
   "outputs": [],
   "source": []
  }
 ],
 "metadata": {
  "kernelspec": {
   "display_name": "Python 3",
   "language": "python",
   "name": "python3"
  },
  "language_info": {
   "codemirror_mode": {
    "name": "ipython",
    "version": 3
   },
   "file_extension": ".py",
   "mimetype": "text/x-python",
   "name": "python",
   "nbconvert_exporter": "python",
   "pygments_lexer": "ipython3",
   "version": "3.7.4"
  }
 },
 "nbformat": 4,
 "nbformat_minor": 2
}
