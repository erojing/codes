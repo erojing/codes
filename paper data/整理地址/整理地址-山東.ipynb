{
 "cells": [
  {
   "cell_type": "code",
   "execution_count": 1,
   "metadata": {},
   "outputs": [],
   "source": [
    "import pandas as pd\n",
    "import numpy as np\n",
    "import matplotlib.pyplot as plt\n",
    "import re\n",
    "import time\n",
    "import datetime\n",
    "import geocoder\n",
    "pd.set_option('display.max_rows',500)\n",
    "pd.set_option('display.max_columns',50)\n",
    "pd.set_option('max_colwidth',200)\n",
    "%matplotlib inline\n",
    "import requests\n",
    "import json\n",
    "import urllib\n",
    "from urllib.request import urlopen\n",
    "\n",
    "def getGeoForAddress(address):\n",
    "    add = urllib.parse.quote(address)\n",
    "    addressUrl = \"https://maps.googleapis.com/maps/api/geocode/json?address=\" + add + '&key='\n",
    "    res = requests.get(addressUrl)\n",
    "    js = json.loads(res.text)\n",
    "    if js.get('results'):\n",
    "        lat = js.get('results')[0]['geometry']['location']['lat']\n",
    "        lng = js.get('results')[0]['geometry']['location']['lng']\n",
    "    else:\n",
    "        lat = ''\n",
    "        lng = ''\n",
    "    return [lat, lng]\n",
    "def ngram(text, n=3, pad=True):\n",
    "    text = text.strip()\n",
    "    if pad:\n",
    "        text = \" %s \" % text\n",
    "    return set([text[i:i+n] for i in range(len(text)-n+1)])\n",
    "    \n",
    "def create_ngram(text1, text2, n=3, pad=True):\n",
    "    return ngram(text1, n=n, pad=pad), ngram(text2, n=n, pad=pad)\n",
    "\n",
    "def tversky_index(text1, text2, a=None, b=None, q=3, pad=True):\n",
    "    text1, text2 = create_ngram(text1, text2, n=q, pad=pad)\n",
    "    agree_tot = len(text1.intersection(text2))\n",
    "    v1 = len(text1) - agree_tot\n",
    "    v2 = len(text2) - agree_tot\n",
    "    \n",
    "    if a != None and b != None:\n",
    "        a = a/float(a+b)\n",
    "        b = b/float(a+b)\n",
    "    elif a <= 1.0 and a >= 0.0:\n",
    "        b = 1-a\n",
    "    elif b <= 1.0 and b >= 0.0:\n",
    "        a = 1-b\n",
    "    else:\n",
    "        a = 0.5\n",
    "        b = 0.5        \n",
    "    return float(agree_tot)/(agree_tot+a*v1+b*v2)\n",
    "# incoPat為申請人list\n",
    "def fuzzy(incoPat,indus):\n",
    "    corptype = ['有限','公司','责任','集团','股份','控股']\n",
    "    text1 = incoPat\n",
    "    text2 = indus\n",
    "    incoPat_nor = []   \n",
    "    for text in text1:\n",
    "        for i in corptype:\n",
    "            if i in text:\n",
    "                text = re.sub(i,'',text)\n",
    "        incoPat_nor.append(text)\n",
    "    for i in corptype:\n",
    "        if i in text2:\n",
    "            text2 = re.sub(i,'',text2)\n",
    "    similar = []\n",
    "    for text in incoPat_nor:\n",
    "        dice = tversky_index(text,text2, a=0.5, q=min(2,len(text),len(text2)), pad=False)\n",
    "        if dice>0.7:\n",
    "            similar.append([incoPat[incoPat_nor.index(text)],dice])\n",
    "        else:\n",
    "            pass\n",
    "    if len(similar)>0:\n",
    "        return similar[[k[1] for k in similar].index(max([i[1] for i in similar]))][0]\n",
    "    else:\n",
    "        return indus\n",
    "city_code = pd.read_excel('C:/Users/user/Dropbox/paper/科技園區/China/省地縣碼對照.xls')\n",
    "city_code = city_code[~city_code['代碼'].isnull()].drop(['标注','说明'],axis=1)\n",
    "city_code['代碼_str'] = city_code['代碼'].apply(lambda x:str(int(x)))\n",
    "city_code = city_code.drop('代碼',axis=1)"
   ]
  },
  {
   "cell_type": "markdown",
   "metadata": {},
   "source": [
    "# 山東資料整合"
   ]
  },
  {
   "cell_type": "code",
   "execution_count": 2,
   "metadata": {},
   "outputs": [],
   "source": [
    "df1 = pd.read_excel(r'E:\\paper\\專利資料-新型&授權\\新型授權-山東1.xls')\n",
    "df2 = pd.read_excel(r'E:\\paper\\專利資料-新型&授權\\新型授權-山東2.xls')\n",
    "df3 = pd.read_excel(r'E:\\paper\\專利資料-新型&授權\\新型授權-山東3.xls')\n",
    "df4 = pd.read_excel(r'E:\\paper\\專利資料-新型&授權\\新型授權-山東4.xls')\n",
    "df5 = pd.read_excel(r'E:\\paper\\專利資料-新型&授權\\新型授權-山東5.xls')\n",
    "df6 = pd.read_excel(r'E:\\paper\\專利資料-新型&授權\\新型授權-山東6.xls')\n",
    "df7 = pd.read_excel(r'E:\\paper\\專利資料-新型&授權\\新型授權-山東7.xls')\n",
    "df8 = pd.read_excel(r'E:\\paper\\專利資料-新型&授權\\新型授權-山東8.xls')\n",
    "df9 = pd.read_excel(r'E:\\paper\\專利資料-新型&授權\\新型授權-山東9.xls')\n",
    "df10 = pd.read_excel(r'E:\\paper\\專利資料-新型&授權\\新型授權-山東10.xls')\n",
    "df11 = pd.read_excel(r'E:\\paper\\專利資料-新型&授權\\新型授權-山東11.xls')\n",
    "\n",
    "patent_df = pd.concat([df1,df2,df3,df4,df5,df6,df7,df8,df9,df10,df11],ignore_index=True,sort=True)"
   ]
  },
  {
   "cell_type": "code",
   "execution_count": 4,
   "metadata": {},
   "outputs": [
    {
     "name": "stderr",
     "output_type": "stream",
     "text": [
      "D:\\Anaconda\\lib\\site-packages\\IPython\\core\\interactiveshell.py:3058: DtypeWarning: Columns (0,3,16) have mixed types. Specify dtype option on import or set low_memory=False.\n",
      "  interactivity=interactivity, compiler=compiler, result=result)\n"
     ]
    }
   ],
   "source": [
    "#for PC\n",
    "patent_df = patent_df[patent_df['专利类型']=='发明授权']\n",
    "patent_df = patent_df[patent_df['申请人地址'].map(lambda x:len(re.findall(r'\\D+[\\s\\S]+',x)))==1]\n",
    "patent_df['申请人地址'] = patent_df['申请人地址'].map(lambda x:re.findall(r'\\D+[\\s\\S]+',x)[0])\n",
    "patent_df['申请人地址'] = patent_df['申请人地址'].map(lambda x:re.sub(r\"\\s+\", \"\",x))\n",
    "patent_df_firm = patent_df[patent_df['申请人类型'].str.contains('企业')]\n",
    "applicant = patent_df_firm['申请人'].str.split(';',expand=True).stack().reset_index(level=1,drop=True).rename('申请人2')\n",
    "patent_df_firm = patent_df_firm.join(applicant)\n",
    "patent_df_firm['類別'] = patent_df_firm['申请人类型'].map(lambda x:x.strip().split('  '))\n",
    "patent_df_firm = patent_df_firm[~patent_df_firm['标题'].duplicated()]\n",
    "patent_df_firm['申请人类型'] = patent_df_firm.apply(lambda x:x['類別'][0],axis=1)\n",
    "patent_df_firm = patent_df_firm[patent_df_firm['申请人类型']=='企业'].sort_values('申请日')\n",
    "patent_df_firm.drop(['類別','申请人'],axis=1,inplace=True)\n",
    "patent_df_firm.rename(columns={'申请人2':'申请人'},inplace=True)\n",
    "patent_df_firm = patent_df_firm[patent_df_firm['申请日']<datetime.datetime.strptime('2013-01-01','%Y-%m-%d')]\n",
    "patent_df_firm.drop_duplicates('申请人地址', keep='last', inplace=True)\n",
    "patent_df_firm.drop_duplicates('申请人', keep='last', inplace=True)\n",
    "\n",
    "firm_df = pd.read_csv(r'E:\\paper\\Firm csv\\firm_data_2012.csv')\n",
    "firm_gd = firm_df[firm_df['區域代碼'].astype(str).str.contains(r'37\\d{10}')==True]\n",
    "firm_gd = firm_gd.loc[:,['法人代碼','企業名稱','地址','區域代碼','行業代碼']]\n",
    "firm_gd['區域代碼_str'] = firm_gd['區域代碼'].astype(str).map(lambda x:x[0:6])\n",
    "firm_gd = pd.merge(firm_gd,city_code,left_on='區域代碼_str',right_on='代碼_str',how='left')\n",
    "firm_gd['名稱'].fillna('',inplace=True)\n",
    "firm_gd['市級'].fillna('',inplace=True)\n",
    "firm_gd['省份'].fillna('',inplace=True)\n",
    "firm_gd['地址'].fillna('',inplace=True)\n",
    "firm_gd['地址'] = firm_gd['地址'].map(lambda x:re.sub(r\"\\s+\", \"\",x))\n",
    "firm_gd['地址'] = firm_gd.apply(lambda x:re.sub(x['省份'],\"\",x['地址']),axis=1)\n",
    "firm_gd['地址'] = firm_gd.apply(lambda x:re.sub(x['市級'],\"\",x['地址']),axis=1)\n",
    "firm_gd['地址'] = firm_gd.apply(lambda x:re.sub(x['名稱'],\"\",x['地址']),axis=1)\n",
    "firm_gd['地址'] = firm_gd['省份']+firm_gd['市級']+firm_gd['名稱']+firm_gd['地址']\n",
    "firm_gd.drop(['省份','市級','名稱','代碼_str'],axis=1,inplace=True)\n",
    "firm_gd.dropna(subset=['企業名稱'],inplace=True)"
   ]
  },
  {
   "cell_type": "code",
   "execution_count": 4,
   "metadata": {},
   "outputs": [],
   "source": [
    "patent_df_firm = patent_df_firm[patent_df_firm['申请日']>datetime.datetime.strptime('2007-12-31','%Y-%m-%d')]\n",
    "incoPat = list(patent_df_firm['申请人'])"
   ]
  },
  {
   "cell_type": "code",
   "execution_count": 5,
   "metadata": {},
   "outputs": [
    {
     "data": {
      "text/plain": [
       "(15353, 38)"
      ]
     },
     "execution_count": 5,
     "metadata": {},
     "output_type": "execute_result"
    }
   ],
   "source": [
    "patent_df_firm.shape"
   ]
  },
  {
   "cell_type": "code",
   "execution_count": 6,
   "metadata": {},
   "outputs": [
    {
     "data": {
      "text/plain": [
       "(35597, 6)"
      ]
     },
     "execution_count": 6,
     "metadata": {},
     "output_type": "execute_result"
    }
   ],
   "source": [
    "firm_gd.shape"
   ]
  },
  {
   "cell_type": "code",
   "execution_count": null,
   "metadata": {},
   "outputs": [],
   "source": [
    "firm_gd['name_模糊比對'] = firm_gd['企業名稱'].map(lambda x:fuzzy(incoPat,x))"
   ]
  },
  {
   "cell_type": "code",
   "execution_count": 7,
   "metadata": {},
   "outputs": [],
   "source": [
    "firm_gd.to_excel(r'E:\\paper\\清理結果-新型&授權\\山東_廠商.xlsx')"
   ]
  },
  {
   "cell_type": "markdown",
   "metadata": {},
   "source": [
    "# 非模糊比對"
   ]
  },
  {
   "cell_type": "code",
   "execution_count": 8,
   "metadata": {},
   "outputs": [
    {
     "name": "stdout",
     "output_type": "stream",
     "text": [
      "(4690, 44)\n",
      "(46261, 44)\n"
     ]
    }
   ],
   "source": [
    "merge_df = firm_gd.merge(patent_df_firm,left_on='企業名稱',right_on='申请人',how='outer')\n",
    "merge_df.fillna('',inplace=True)\n",
    "print(merge_df[(merge_df['企業名稱']!='')&(merge_df['申请人']!='')].shape)\n",
    "print(merge_df.shape)"
   ]
  },
  {
   "cell_type": "code",
   "execution_count": 9,
   "metadata": {
    "collapsed": true
   },
   "outputs": [
    {
     "name": "stderr",
     "output_type": "stream",
     "text": [
      "D:\\Anaconda\\lib\\site-packages\\pandas\\core\\strings.py:1843: UserWarning: This pattern has match groups. To actually get the groups, use str.extract.\n",
      "  return func(self, *args, **kwargs)\n",
      "D:\\Anaconda\\lib\\site-packages\\ipykernel_launcher.py:4: SettingWithCopyWarning: \n",
      "A value is trying to be set on a copy of a slice from a DataFrame.\n",
      "Try using .loc[row_indexer,col_indexer] = value instead\n",
      "\n",
      "See the caveats in the documentation: http://pandas.pydata.org/pandas-docs/stable/user_guide/indexing.html#returning-a-view-versus-a-copy\n",
      "  after removing the cwd from sys.path.\n"
     ]
    },
    {
     "name": "stdout",
     "output_type": "stream",
     "text": [
      "(11849, 49)\n",
      "(34381, 49)\n"
     ]
    },
    {
     "name": "stderr",
     "output_type": "stream",
     "text": [
      "D:\\Anaconda\\lib\\site-packages\\ipykernel_launcher.py:5: SettingWithCopyWarning: \n",
      "A value is trying to be set on a copy of a slice from a DataFrame.\n",
      "Try using .loc[row_indexer,col_indexer] = value instead\n",
      "\n",
      "See the caveats in the documentation: http://pandas.pydata.org/pandas-docs/stable/user_guide/indexing.html#returning-a-view-versus-a-copy\n",
      "  \"\"\"\n",
      "D:\\Anaconda\\lib\\site-packages\\pandas\\core\\indexing.py:376: SettingWithCopyWarning: \n",
      "A value is trying to be set on a copy of a slice from a DataFrame.\n",
      "Try using .loc[row_indexer,col_indexer] = value instead\n",
      "\n",
      "See the caveats in the documentation: http://pandas.pydata.org/pandas-docs/stable/user_guide/indexing.html#returning-a-view-versus-a-copy\n",
      "  self.obj[key] = _infer_fill_value(value)\n",
      "D:\\Anaconda\\lib\\site-packages\\pandas\\core\\indexing.py:494: SettingWithCopyWarning: \n",
      "A value is trying to be set on a copy of a slice from a DataFrame.\n",
      "Try using .loc[row_indexer,col_indexer] = value instead\n",
      "\n",
      "See the caveats in the documentation: http://pandas.pydata.org/pandas-docs/stable/user_guide/indexing.html#returning-a-view-versus-a-copy\n",
      "  self.obj[item] = s\n"
     ]
    }
   ],
   "source": [
    "merge_df['name'] = merge_df.apply(lambda x:x['申请人'] if x['申请人']!='' else x['企業名稱'],axis=1)\n",
    "merge_df['address'] = merge_df.apply(lambda x:x['申请人地址'] if x['申请人地址']!='' else x['地址'],axis=1)\n",
    "merge_df_clean = merge_df[merge_df['address'].str.contains(r'\\w+(街|道|路|巷|村|小区|园区|社区)')]\n",
    "merge_df_clean['address'] = merge_df_clean['address'].map(lambda x: x+'号' if ((x[-1].isdigit()) and (re.match(r'\\w+[街道路巷]',x))) else x)\n",
    "merge_df_clean['完整地址'] = merge_df_clean['address'].map(lambda x:1 if re.compile(r'\\w+[街道路巷]\\S+号').search(x) else 0)\n",
    "merge_df_clean.loc[:,'lat'] = 0\n",
    "merge_df_clean.loc[:,'lnt'] = 0\n",
    "print(merge_df_clean[merge_df_clean['完整地址']==1].shape)\n",
    "print(merge_df_clean.shape)"
   ]
  },
  {
   "cell_type": "code",
   "execution_count": 10,
   "metadata": {},
   "outputs": [],
   "source": [
    "merge_df_clean.to_excel(r'E:\\paper\\清理結果-新型&授權\\山東_結果.xlsx')"
   ]
  },
  {
   "cell_type": "markdown",
   "metadata": {},
   "source": [
    "# merge舊資料"
   ]
  },
  {
   "cell_type": "code",
   "execution_count": 5,
   "metadata": {},
   "outputs": [
    {
     "name": "stdout",
     "output_type": "stream",
     "text": [
      "(1982, 44)\n",
      "(38842, 44)\n",
      "(7400, 49)\n",
      "(38842, 49)\n"
     ]
    }
   ],
   "source": [
    "merge_df = firm_gd.merge(patent_df_firm,left_on='企業名稱',right_on='申请人',how='outer')\n",
    "merge_df.fillna('',inplace=True)\n",
    "print(merge_df[(merge_df['企業名稱']!='')&(merge_df['申请人']!='')].shape)\n",
    "print(merge_df.shape)\n",
    "merge_df['name'] = merge_df.apply(lambda x:x['申请人'] if x['申请人']!='' else x['企業名稱'],axis=1)\n",
    "merge_df['address'] = merge_df.apply(lambda x:x['申请人地址'] if x['申请人地址']!='' else x['地址'],axis=1)\n",
    "merge_df = merge_df[merge_df['address']!='']\n",
    "merge_df_clean = merge_df\n",
    "merge_df_clean['address'] = merge_df_clean['address'].map(lambda x: x+'号' if ((x[-1].isdigit()) and (re.match(r'\\w+[街道路巷]',x))) else x)\n",
    "merge_df_clean['完整地址'] = merge_df_clean['address'].map(lambda x:1 if re.compile(r'\\w+[街道路巷]\\S+号').search(x) else 0)\n",
    "merge_df_clean.loc[:,'lat'] = 0\n",
    "merge_df_clean.loc[:,'lnt'] = 0\n",
    "print(merge_df_clean[merge_df_clean['完整地址']==1].shape)\n",
    "print(merge_df_clean.shape)"
   ]
  },
  {
   "cell_type": "code",
   "execution_count": 6,
   "metadata": {},
   "outputs": [
    {
     "data": {
      "text/plain": [
       "Index(['Unnamed: 0', '法人代碼', '企業名稱', '地址', '區域代碼', '行業代碼', '區域代碼_str', 'CPC',\n",
       "       'IPC', 'inpadoc同族', 'inpadoc同族个数', '专利寿命（月）', '专利类型', '中国申请人区县',\n",
       "       '中国申请人地市', '优先权信息', '公开国别', '公开（公告）号', '公开（公告）日', '发明人', '合享价值度',\n",
       "       '同族国家', '失效日', '序号', '引证专利', '引证科技文献', '扩展同族', '扩展同族个数', '文献页数',\n",
       "       '权利要求数量', '标准化申请人', '标题', '申请人', '申请人国别代码', '申请人地址', '申请人省市代码', '申请人类型',\n",
       "       '申请号', '申请日', '简单同族', '简单同族个数', '被引证专利', '被引证国别(forward)', '被引证次数',\n",
       "       '链接到incoPat', 'name', 'address', '完整地址', 'lat', 'lnt', '濟南', '威海火炬',\n",
       "       '青島', '濰坊', '淄博', '濟寧', '煙台', '臨沂', '泰安', '專利數', '早期園區', '近期園區'],\n",
       "      dtype='object')"
      ]
     },
     "execution_count": 6,
     "metadata": {},
     "output_type": "execute_result"
    }
   ],
   "source": [
    "done_data = pd.read_excel(r'E:\\paper\\清理結果-園區內外\\山東_結果.xlsx')\n",
    "done_data.columns"
   ]
  },
  {
   "cell_type": "code",
   "execution_count": 7,
   "metadata": {},
   "outputs": [
    {
     "data": {
      "text/plain": [
       "(12185, 61)"
      ]
     },
     "execution_count": 7,
     "metadata": {},
     "output_type": "execute_result"
    }
   ],
   "source": [
    "merge_df_clean.drop(['lat','lnt'],axis=1,inplace=True)\n",
    "merge_df_clean = merge_df_clean.merge(done_data[['name','lat','lnt','濟南','威海火炬','青島','濰坊','淄博','濟寧','煙台','臨沂','泰安','專利數','早期園區','近期園區']],left_on='name',right_on='name',how='left')\n",
    "merge_df_clean['lat'].fillna('',inplace=True)\n",
    "merge_df_clean[merge_df_clean['lat']==''].shape"
   ]
  },
  {
   "cell_type": "code",
   "execution_count": 8,
   "metadata": {},
   "outputs": [],
   "source": [
    "merge_df_clean.to_excel(r'E:\\paper\\清理結果-新\\山東_結果.xlsx')"
   ]
  },
  {
   "cell_type": "markdown",
   "metadata": {},
   "source": [
    "# 模糊比對"
   ]
  },
  {
   "cell_type": "code",
   "execution_count": null,
   "metadata": {},
   "outputs": [],
   "source": [
    "merge_df_fuzzy = firm_gd.merge(patent_df_firm,left_on='name_模糊比對',right_on='申请人',how='outer')\n",
    "merge_df_fuzzy.fillna('',inplace=True)\n",
    "merge_df_fuzzy.drop_duplicates(['name_模糊比對','申请人'], keep='last', inplace=True)\n",
    "print(merge_df_fuzzy[(merge_df_fuzzy['申请人']!='')&(merge_df_fuzzy['企業名稱']!='')].shape)\n",
    "print(merge_df_fuzzy.shape)"
   ]
  },
  {
   "cell_type": "code",
   "execution_count": null,
   "metadata": {},
   "outputs": [],
   "source": [
    "merge_df_fuzzy['name'] = merge_df_fuzzy.apply(lambda x:x['申请人'] if x['申请人']!='' else x['企業名稱'],axis=1)\n",
    "merge_df_fuzzy['address'] = merge_df_fuzzy.apply(lambda x:x['申请人地址'] if x['申请人地址']!='' else x['地址'],axis=1)\n",
    "merge_df_fuzzy_clean = merge_df_fuzzy[merge_df_fuzzy['address'].str.contains(r'\\w+(街|道|路|巷|村|小区|园区|社区)')]\n",
    "merge_df_fuzzy_clean['address'] = merge_df_fuzzy_clean['address'].map(lambda x: x+'号' if ((x[-1].isdigit()) and (re.match(r'\\w+[街道路巷]',x))) else x)\n",
    "merge_df_fuzzy_clean['完整地址'] = merge_df_fuzzy_clean['address'].map(lambda x:1 if re.compile(r'\\w+[街道路巷]\\S+号').search(x) else 0)\n",
    "merge_df_fuzzy_clean.loc[:,'lat'] = 0\n",
    "merge_df_fuzzy_clean.loc[:,'lnt'] = 0\n",
    "print(merge_df_fuzzy_clean[merge_df_fuzzy_clean['完整地址']==1].shape)\n",
    "print(merge_df_fuzzy_clean.shape)"
   ]
  },
  {
   "cell_type": "code",
   "execution_count": null,
   "metadata": {},
   "outputs": [],
   "source": [
    "merge_df_fuzzy_clean.to_excel(r'E:\\paper\\清理結果-新型&授權\\山東_模糊結果.xlsx')"
   ]
  },
  {
   "cell_type": "markdown",
   "metadata": {},
   "source": [
    "# 定位"
   ]
  },
  {
   "cell_type": "code",
   "execution_count": 2,
   "metadata": {},
   "outputs": [],
   "source": [
    "merge_df_clean = pd.read_excel(r'E:\\paper\\清理結果-新型&授權\\山東_結果.xlsx',index_col=0)"
   ]
  },
  {
   "cell_type": "code",
   "execution_count": 4,
   "metadata": {},
   "outputs": [
    {
     "data": {
      "text/plain": [
       "(12185, 61)"
      ]
     },
     "execution_count": 4,
     "metadata": {},
     "output_type": "execute_result"
    }
   ],
   "source": [
    "merge_df_clean = pd.read_excel(r'E:\\paper\\清理結果-新\\山東_結果.xlsx',index_col=0)\n",
    "merge_df_clean.fillna('',inplace=True)\n",
    "merge_df_clean[merge_df_clean['lat']==''].shape"
   ]
  },
  {
   "cell_type": "code",
   "execution_count": 5,
   "metadata": {},
   "outputs": [],
   "source": [
    "for i in merge_df_clean[merge_df_clean['lat']==''].index:\n",
    "    address = merge_df_clean.loc[i,'address']\n",
    "    g = getGeoForAddress(address)\n",
    "    merge_df_clean.loc[i,'lat'] = g[0]\n",
    "    merge_df_clean.loc[i,'lnt'] = g[1]"
   ]
  },
  {
   "cell_type": "code",
   "execution_count": 8,
   "metadata": {},
   "outputs": [
    {
     "name": "stdout",
     "output_type": "stream",
     "text": [
      "(38844, 61)\n",
      "(569, 61)\n"
     ]
    }
   ],
   "source": [
    "print(merge_df_clean.shape)\n",
    "print(merge_df_clean[merge_df_clean['lat']==''].shape)"
   ]
  },
  {
   "cell_type": "code",
   "execution_count": 7,
   "metadata": {},
   "outputs": [],
   "source": [
    "merge_df_clean.to_excel(r'E:\\paper\\清理結果-新\\山東_結果.xlsx')"
   ]
  },
  {
   "cell_type": "markdown",
   "metadata": {},
   "source": [
    "# 作圖"
   ]
  },
  {
   "cell_type": "code",
   "execution_count": 9,
   "metadata": {},
   "outputs": [],
   "source": [
    "from geopy.distance import geodesic\n",
    "def how_far(a,b):\n",
    "    try:\n",
    "        return geodesic(a,b).kilometers\n",
    "    except:\n",
    "        return np.nan\n",
    "applicant = patent_df['申请人'].str.split(';',expand=True).stack().reset_index(level=1,drop=True).rename('申请人2')\n",
    "applicant = applicant.map(lambda x:x.strip())\n",
    "patent_df_new = patent_df.join(applicant)\n",
    "patent_count = patent_df_new.groupby('申请人2')['标题'].count().rename('專利數')"
   ]
  },
  {
   "cell_type": "code",
   "execution_count": 10,
   "metadata": {},
   "outputs": [
    {
     "data": {
      "text/plain": [
       "申请人2\n",
       "龚魁杰                1\n",
       "荏原冷熱システム株式会社       1\n",
       "荐世春                1\n",
       "荣 伟                1\n",
       "荣 进                1\n",
       "                ... \n",
       "青岛海信电器股份有限公司    2135\n",
       "中国石油大学(华东)      2299\n",
       "山东科技大学          5584\n",
       "山东大学            5791\n",
       "海尔集团公司          5931\n",
       "Name: 專利數, Length: 142622, dtype: int64"
      ]
     },
     "execution_count": 10,
     "metadata": {},
     "output_type": "execute_result"
    }
   ],
   "source": [
    "patent_count.sort_values()"
   ]
  },
  {
   "cell_type": "code",
   "execution_count": null,
   "metadata": {},
   "outputs": [],
   "source": [
    "merge_df = pd.read_excel(r'E:\\paper\\清理結果-新型&授權\\山東_結果.xlsx',index_col=0)\n",
    "target1 = (36.68008,117.11706)\n",
    "merge_df['濟南'] = merge_df.apply(lambda x:how_far(target1,(x['lat'],x['lnt'])),axis=1)\n",
    "target2 = (37.50861,122.03625)\n",
    "merge_df['威海火炬'] = merge_df.apply(lambda x:how_far(target2,(x['lat'],x['lnt'])),axis=1)\n",
    "target3 = (36.26636,120.27788)\n",
    "merge_df['青島'] = merge_df.apply(lambda x:how_far(target3,(x['lat'],x['lnt'])),axis=1)\n",
    "target4 = (36.65236,119.16199)\n",
    "merge_df['濰坊'] = merge_df.apply(lambda x:how_far(target4,(x['lat'],x['lnt'])),axis=1)\n",
    "target5 = (36.84739,118.04303)\n",
    "merge_df['淄博'] = merge_df.apply(lambda x:how_far(target5,(x['lat'],x['lnt'])),axis=1)\n",
    "target6 = (35.4244,116.61995)\n",
    "merge_df['濟寧'] = merge_df.apply(lambda x:how_far(target6,(x['lat'],x['lnt'])),axis=1)\n",
    "target7 = (37.42215,121.52786)\n",
    "merge_df['煙台'] = merge_df.apply(lambda x:how_far(target7,(x['lat'],x['lnt'])),axis=1)\n",
    "target8 = (34.98569,118.26425)\n",
    "merge_df['臨沂'] = merge_df.apply(lambda x:how_far(target8,(x['lat'],x['lnt'])),axis=1)\n",
    "target9 = (36.20249,117.17753)\n",
    "merge_df['泰安'] = merge_df.apply(lambda x:how_far(target9,(x['lat'],x['lnt'])),axis=1)\n",
    "merge_df = merge_df.merge(patent_count,left_on='name',right_on='申请人2',how='left')\n",
    "merge_df['專利數'].fillna(0,inplace=True)"
   ]
  },
  {
   "cell_type": "code",
   "execution_count": 11,
   "metadata": {},
   "outputs": [],
   "source": [
    "merge_df = pd.read_excel(r'E:\\paper\\清理結果-新\\山東_結果.xlsx',index_col=0)\n",
    "merge_df.fillna('',inplace=True)\n",
    "merge_df.drop('專利數',axis=1,inplace=True)"
   ]
  },
  {
   "cell_type": "code",
   "execution_count": 12,
   "metadata": {},
   "outputs": [],
   "source": [
    "target1 = (36.68008,117.11706)\n",
    "target2 = (37.50861,122.03625)\n",
    "target3 = (36.26636,120.27788)\n",
    "target4 = (36.65236,119.16199)\n",
    "target5 = (36.84739,118.04303)\n",
    "target6 = (35.4244,116.61995)\n",
    "target7 = (37.42215,121.52786)\n",
    "target8 = (34.98569,118.26425)\n",
    "target9 = (36.20249,117.17753)\n",
    "\n",
    "for i in merge_df[merge_df['濟南']==''].index:\n",
    "    merge_df.loc[i,'濟南'] = how_far(target1,(merge_df.loc[i,'lat'],merge_df.loc[i,'lnt']))\n",
    "    merge_df.loc[i,'威海火炬'] = how_far(target2,(merge_df.loc[i,'lat'],merge_df.loc[i,'lnt']))\n",
    "    merge_df.loc[i,'青島'] = how_far(target3,(merge_df.loc[i,'lat'],merge_df.loc[i,'lnt']))\n",
    "    merge_df.loc[i,'濰坊'] = how_far(target4,(merge_df.loc[i,'lat'],merge_df.loc[i,'lnt']))\n",
    "    merge_df.loc[i,'淄博'] = how_far(target5,(merge_df.loc[i,'lat'],merge_df.loc[i,'lnt']))\n",
    "    merge_df.loc[i,'濟寧'] = how_far(target6,(merge_df.loc[i,'lat'],merge_df.loc[i,'lnt']))\n",
    "    merge_df.loc[i,'煙台'] = how_far(target7,(merge_df.loc[i,'lat'],merge_df.loc[i,'lnt']))\n",
    "    merge_df.loc[i,'臨沂'] = how_far(target8,(merge_df.loc[i,'lat'],merge_df.loc[i,'lnt']))\n",
    "    merge_df.loc[i,'泰安'] = how_far(target9,(merge_df.loc[i,'lat'],merge_df.loc[i,'lnt']))\n",
    "merge_df = merge_df.merge(patent_count,left_on='name',right_on='申请人2',how='left')\n",
    "merge_df['專利數'].fillna(0,inplace=True)"
   ]
  },
  {
   "cell_type": "code",
   "execution_count": 13,
   "metadata": {},
   "outputs": [],
   "source": [
    "merge_df['早期園區'] = merge_df.apply(lambda x:1 if ((x['濟南']<10)or(x['威海火炬']<10)or(x['青島']<10)or(x['濰坊']<10)or(x['淄博']<10)) else 0,axis=1)\n",
    "merge_df['近期園區'] = merge_df.apply(lambda x:1 if ((x['濟寧']<10)or(x['煙台']<10)or(x['臨沂']<10)or(x['泰安']<10)) else 0,axis=1)"
   ]
  },
  {
   "cell_type": "code",
   "execution_count": 14,
   "metadata": {
    "scrolled": true
   },
   "outputs": [],
   "source": [
    "merge_df.to_excel(r'E:\\paper\\清理結果-新園區內外\\山東_結果.xlsx')"
   ]
  },
  {
   "cell_type": "code",
   "execution_count": 15,
   "metadata": {},
   "outputs": [
    {
     "name": "stdout",
     "output_type": "stream",
     "text": [
      "(38844, 61)\n",
      "0.7766965297085779\n",
      "0.00455668829162805\n"
     ]
    }
   ],
   "source": [
    "print(merge_df.shape)\n",
    "print(len(merge_df[merge_df['專利數']==0]['專利數'])/len(merge_df['專利數']))\n",
    "print(len(merge_df[merge_df['專利數']>=100]['專利數'])/len(merge_df['專利數']))"
   ]
  },
  {
   "cell_type": "code",
   "execution_count": 16,
   "metadata": {},
   "outputs": [
    {
     "data": {
      "text/plain": [
       "專利數\n",
       "0.0       30170\n",
       "1.0        1661\n",
       "2.0         916\n",
       "3.0         651\n",
       "4.0         505\n",
       "5.0         378\n",
       "6.0         431\n",
       "7.0         425\n",
       "8.0         404\n",
       "9.0         269\n",
       "10.0        288\n",
       "11.0        214\n",
       "12.0        265\n",
       "13.0        165\n",
       "14.0        172\n",
       "15.0        154\n",
       "16.0        127\n",
       "17.0        124\n",
       "18.0         82\n",
       "19.0        101\n",
       "20.0         82\n",
       "21.0         71\n",
       "22.0         73\n",
       "23.0         45\n",
       "24.0         64\n",
       "25.0         49\n",
       "26.0         46\n",
       "27.0         41\n",
       "28.0         38\n",
       "29.0         39\n",
       "30.0         31\n",
       "31.0         21\n",
       "32.0         32\n",
       "33.0         19\n",
       "34.0         30\n",
       "35.0         20\n",
       "36.0         17\n",
       "37.0         19\n",
       "38.0         19\n",
       "39.0         23\n",
       "40.0         10\n",
       "41.0         21\n",
       "42.0         21\n",
       "43.0         10\n",
       "44.0         20\n",
       "45.0         14\n",
       "46.0          8\n",
       "47.0         14\n",
       "48.0         13\n",
       "49.0          9\n",
       "50.0         11\n",
       "51.0         12\n",
       "52.0         10\n",
       "53.0         11\n",
       "54.0         13\n",
       "55.0          8\n",
       "56.0          9\n",
       "57.0          9\n",
       "58.0          7\n",
       "59.0         10\n",
       "60.0          6\n",
       "61.0          9\n",
       "62.0         10\n",
       "63.0          6\n",
       "64.0          8\n",
       "65.0          2\n",
       "66.0          3\n",
       "67.0          7\n",
       "68.0          7\n",
       "69.0          4\n",
       "70.0          4\n",
       "71.0          7\n",
       "72.0          3\n",
       "73.0          4\n",
       "74.0          6\n",
       "75.0          4\n",
       "76.0          4\n",
       "77.0          5\n",
       "78.0          5\n",
       "79.0          2\n",
       "80.0          1\n",
       "81.0          3\n",
       "82.0          2\n",
       "83.0          1\n",
       "84.0          3\n",
       "85.0          3\n",
       "87.0          3\n",
       "88.0          4\n",
       "89.0          2\n",
       "90.0          2\n",
       "91.0          4\n",
       "92.0          1\n",
       "93.0          2\n",
       "94.0          1\n",
       "95.0          2\n",
       "96.0          2\n",
       "97.0          2\n",
       "98.0          1\n",
       "99.0          1\n",
       "100.0         2\n",
       "101.0         3\n",
       "102.0         2\n",
       "103.0         6\n",
       "104.0         1\n",
       "105.0         2\n",
       "106.0         5\n",
       "107.0         5\n",
       "108.0         3\n",
       "109.0         1\n",
       "110.0         3\n",
       "111.0         1\n",
       "112.0         4\n",
       "113.0         1\n",
       "114.0         4\n",
       "115.0         3\n",
       "116.0         2\n",
       "117.0         1\n",
       "119.0         1\n",
       "120.0         2\n",
       "121.0         2\n",
       "123.0         1\n",
       "124.0         3\n",
       "125.0         2\n",
       "126.0         1\n",
       "129.0         3\n",
       "130.0         1\n",
       "132.0         1\n",
       "133.0         2\n",
       "135.0         1\n",
       "136.0         2\n",
       "138.0         2\n",
       "139.0         1\n",
       "141.0         2\n",
       "143.0         1\n",
       "148.0         4\n",
       "149.0         2\n",
       "153.0         1\n",
       "154.0         1\n",
       "155.0         2\n",
       "156.0         1\n",
       "159.0         1\n",
       "160.0         1\n",
       "161.0         1\n",
       "162.0         1\n",
       "164.0         2\n",
       "165.0         2\n",
       "170.0         1\n",
       "171.0         2\n",
       "172.0         2\n",
       "173.0         1\n",
       "175.0         2\n",
       "176.0         3\n",
       "178.0         2\n",
       "180.0         2\n",
       "181.0         2\n",
       "182.0         1\n",
       "186.0         1\n",
       "189.0         2\n",
       "190.0         1\n",
       "191.0         1\n",
       "193.0         1\n",
       "194.0         1\n",
       "200.0         1\n",
       "204.0         1\n",
       "209.0         1\n",
       "215.0         1\n",
       "217.0         2\n",
       "227.0         2\n",
       "228.0         1\n",
       "232.0         1\n",
       "248.0         1\n",
       "255.0         1\n",
       "260.0         1\n",
       "265.0         1\n",
       "270.0         1\n",
       "273.0         3\n",
       "275.0         1\n",
       "276.0         1\n",
       "298.0         1\n",
       "299.0         1\n",
       "300.0         1\n",
       "311.0         1\n",
       "319.0         1\n",
       "327.0         1\n",
       "336.0         1\n",
       "337.0         1\n",
       "341.0         1\n",
       "348.0         1\n",
       "390.0         1\n",
       "419.0         1\n",
       "428.0         1\n",
       "429.0         1\n",
       "450.0         1\n",
       "464.0         1\n",
       "504.0         1\n",
       "519.0         1\n",
       "525.0         1\n",
       "559.0         1\n",
       "631.0         1\n",
       "640.0         1\n",
       "695.0         1\n",
       "791.0         1\n",
       "837.0         1\n",
       "927.0         1\n",
       "1101.0        1\n",
       "1136.0        1\n",
       "1410.0        1\n",
       "1529.0        1\n",
       "1617.0        1\n",
       "1706.0        1\n",
       "1816.0        1\n",
       "1896.0        1\n",
       "2135.0        1\n",
       "5931.0        1\n",
       "Name: IPC, dtype: int64"
      ]
     },
     "execution_count": 16,
     "metadata": {},
     "output_type": "execute_result"
    }
   ],
   "source": [
    "merge_df.groupby('專利數')['IPC'].count()"
   ]
  },
  {
   "cell_type": "code",
   "execution_count": 17,
   "metadata": {},
   "outputs": [
    {
     "data": {
      "text/plain": [
       "專利數\n",
       "0.0     483\n",
       "1.0      16\n",
       "2.0      14\n",
       "3.0       6\n",
       "4.0       6\n",
       "5.0       6\n",
       "6.0       4\n",
       "7.0       1\n",
       "8.0       3\n",
       "9.0       3\n",
       "10.0      1\n",
       "11.0      3\n",
       "12.0      4\n",
       "13.0      3\n",
       "15.0      2\n",
       "17.0      2\n",
       "20.0      1\n",
       "21.0      2\n",
       "24.0      1\n",
       "27.0      1\n",
       "28.0      3\n",
       "30.0      2\n",
       "33.0      1\n",
       "77.0      1\n",
       "Name: IPC, dtype: int64"
      ]
     },
     "execution_count": 17,
     "metadata": {},
     "output_type": "execute_result"
    }
   ],
   "source": [
    "merge_df[merge_df['lat']==''].groupby('專利數')['IPC'].count()"
   ]
  },
  {
   "cell_type": "code",
   "execution_count": 19,
   "metadata": {},
   "outputs": [
    {
     "data": {
      "text/plain": [
       "Text(0, 0.5, '無法定位廠商數量')"
      ]
     },
     "execution_count": 19,
     "metadata": {},
     "output_type": "execute_result"
    },
    {
     "data": {
      "image/png": "[encoded data removed]",
      "text/plain": [
       "<Figure size 432x288 with 2 Axes>"
      ]
     },
     "metadata": {
      "needs_background": "light"
     },
     "output_type": "display_data"
    }
   ],
   "source": [
    "from matplotlib.font_manager import FontProperties\n",
    "myfont = FontProperties(fname=r'C:\\Windows\\Fonts\\msjhbd.ttc')\n",
    "fig = plt.figure()\n",
    "ax1 = fig.add_subplot(111)\n",
    "ax1.plot(merge_df[merge_df['lat']!=0].groupby('專利數')['IPC'].count().index,merge_df[merge_df['lat']!=0].groupby('專利數')['IPC'].count())\n",
    "ax1.set_title('山東',fontproperties=myfont,fontsize=15)\n",
    "ax1.set_ylabel('廠商數量',fontproperties=myfont)\n",
    "ax1.set_xlabel('專利數量',fontproperties=myfont)\n",
    "ax1.set_xlim([0,100])\n",
    "ax1.set_ylim([0,1700])\n",
    "ax2 = ax1.twinx()\n",
    "ax2.bar(merge_df[merge_df['lat']==''].groupby('專利數')['IPC'].count().index,merge_df[merge_df['lat']==''].groupby('專利數')['IPC'].count(),color='red')\n",
    "ax2.set_ylim([0,20])\n",
    "ax2.set_ylabel('無法定位廠商數量',fontproperties=myfont)\n"
   ]
  },
  {
   "cell_type": "code",
   "execution_count": 7,
   "metadata": {},
   "outputs": [
    {
     "name": "stdout",
     "output_type": "stream",
     "text": [
      "3056\n",
      "0.08023945806858163\n",
      "72\n"
     ]
    }
   ],
   "source": [
    "region = pd.read_excel(r'E:\\paper\\清理結果-新園區內外\\山東_結果.xlsx',index_col=0)\n",
    "region.fillna('',inplace=True)\n",
    "corptype = ['有限','公司','责任','集团','股份','控股','总公司','分公司']\n",
    "region['name_clean'] = region['name']\n",
    "for k in corptype:\n",
    "    region['name_clean'] = region['name_clean'].map(lambda x:re.sub(k,'',x))\n",
    "region['name_clean'] = region['name_clean'].map(lambda x:re.sub(r'\\(.*?\\)','',x))\n",
    "region['name_clean'] = region['name_clean'].map(lambda x:re.sub(r'\\（.*?\\）','',x))\n",
    "region['name_clean'] = region['name_clean'].map(lambda x:re.sub(r'\\(.*?\\）','',x))\n",
    "region['name_clean'] = region['name_clean'].map(lambda x:re.sub(r'\\（.*?\\)','',x))\n",
    "region['name_clean'] = region['name_clean'].map(lambda x:re.sub(r'[\\s+-─]','',x))\n",
    "clean = region[region.duplicated(['name_clean'],keep=False)].sort_values(by=['企業名稱'])\n",
    "patents = clean.groupby('name_clean')['專利數'].sum()\n",
    "final = clean.drop('專利數',axis=1).merge(patents,left_on='name_clean',right_on='name_clean',how='left')\n",
    "final.drop_duplicates(['name_clean'],keep='last',inplace=True)\n",
    "region.drop_duplicates(['name_clean'],keep=False,inplace=True)\n",
    "cleaned = pd.concat([region,final],ignore_index=True,sort=False)\n",
    "located = cleaned[cleaned['lat']!='']\n",
    "not_merge = located[located['企業名稱']=='']\n",
    "print(len(not_merge['專利數']))\n",
    "print(len(not_merge['專利數'])/len(located['專利數']))\n",
    "print(len(not_merge[not_merge['專利數']>100]['專利數']))"
   ]
  },
  {
   "cell_type": "code",
   "execution_count": 9,
   "metadata": {},
   "outputs": [
    {
     "data": {
      "text/plain": [
       "專利數\n",
       "1       747\n",
       "2       365\n",
       "3       252\n",
       "4       210\n",
       "5       145\n",
       "6       105\n",
       "7       127\n",
       "8        84\n",
       "9        82\n",
       "10       70\n",
       "11       59\n",
       "12       79\n",
       "13       50\n",
       "14       46\n",
       "15       36\n",
       "16       34\n",
       "17       39\n",
       "18       25\n",
       "19       31\n",
       "20       21\n",
       "21       25\n",
       "22       20\n",
       "23       11\n",
       "24       20\n",
       "25       15\n",
       "26       12\n",
       "27       11\n",
       "28       13\n",
       "29       16\n",
       "30        8\n",
       "31        9\n",
       "32       12\n",
       "33        8\n",
       "34        9\n",
       "35        7\n",
       "36        6\n",
       "37        7\n",
       "38        6\n",
       "39       12\n",
       "40        1\n",
       "41       11\n",
       "42        8\n",
       "43        4\n",
       "44        9\n",
       "45        3\n",
       "46        5\n",
       "47        4\n",
       "48        5\n",
       "49        2\n",
       "50        5\n",
       "51        5\n",
       "52        4\n",
       "53        4\n",
       "54        5\n",
       "55        1\n",
       "56        2\n",
       "57        2\n",
       "58        2\n",
       "59        4\n",
       "60        2\n",
       "61        4\n",
       "62        3\n",
       "63        6\n",
       "64        3\n",
       "65        1\n",
       "66        3\n",
       "67        1\n",
       "68        3\n",
       "69        3\n",
       "70        2\n",
       "71        1\n",
       "72        1\n",
       "73        1\n",
       "74        1\n",
       "75        1\n",
       "76        2\n",
       "77        2\n",
       "78        2\n",
       "79        2\n",
       "81        1\n",
       "84        1\n",
       "85        2\n",
       "88        2\n",
       "89        1\n",
       "91        3\n",
       "92        1\n",
       "93        2\n",
       "94        1\n",
       "95        1\n",
       "96        2\n",
       "97        1\n",
       "100       2\n",
       "101       1\n",
       "102       1\n",
       "103       2\n",
       "105       1\n",
       "106       3\n",
       "107       2\n",
       "108       1\n",
       "111       1\n",
       "112       2\n",
       "113       1\n",
       "114       1\n",
       "115       1\n",
       "116       1\n",
       "120       1\n",
       "125       1\n",
       "126       1\n",
       "130       1\n",
       "132       1\n",
       "140       1\n",
       "141       1\n",
       "148       3\n",
       "149       1\n",
       "154       1\n",
       "160       1\n",
       "161       1\n",
       "164       2\n",
       "165       1\n",
       "172       1\n",
       "175       1\n",
       "176       2\n",
       "178       1\n",
       "180       1\n",
       "181       1\n",
       "189       2\n",
       "194       1\n",
       "204       1\n",
       "209       1\n",
       "215       1\n",
       "217       1\n",
       "227       1\n",
       "232       1\n",
       "248       1\n",
       "273       2\n",
       "278       1\n",
       "299       1\n",
       "319       1\n",
       "327       1\n",
       "336       1\n",
       "341       1\n",
       "348       1\n",
       "390       1\n",
       "450       1\n",
       "464       1\n",
       "504       1\n",
       "525       1\n",
       "640       1\n",
       "695       1\n",
       "1101      1\n",
       "1706      1\n",
       "1822      1\n",
       "2135      1\n",
       "Name: IPC, dtype: int64"
      ]
     },
     "execution_count": 9,
     "metadata": {},
     "output_type": "execute_result"
    }
   ],
   "source": [
    "not_merge.groupby('專利數')['IPC'].count()"
   ]
  },
  {
   "cell_type": "code",
   "execution_count": 10,
   "metadata": {
    "scrolled": true
   },
   "outputs": [
    {
     "data": {
      "text/html": [
       "<div>\n",
       "<style scoped>\n",
       "    .dataframe tbody tr th:only-of-type {\n",
       "        vertical-align: middle;\n",
       "    }\n",
       "\n",
       "    .dataframe tbody tr th {\n",
       "        vertical-align: top;\n",
       "    }\n",
       "\n",
       "    .dataframe thead th {\n",
       "        text-align: right;\n",
       "    }\n",
       "</style>\n",
       "<table border=\"1\" class=\"dataframe\">\n",
       "  <thead>\n",
       "    <tr style=\"text-align: right;\">\n",
       "      <th></th>\n",
       "      <th>法人代碼</th>\n",
       "      <th>企業名稱</th>\n",
       "      <th>地址</th>\n",
       "      <th>區域代碼</th>\n",
       "      <th>行業代碼</th>\n",
       "      <th>區域代碼_str</th>\n",
       "      <th>CPC</th>\n",
       "      <th>IPC</th>\n",
       "      <th>inpadoc同族</th>\n",
       "      <th>inpadoc同族个数</th>\n",
       "      <th>专利寿命（月）</th>\n",
       "      <th>专利类型</th>\n",
       "      <th>中国申请人区县</th>\n",
       "      <th>中国申请人地市</th>\n",
       "      <th>优先权信息</th>\n",
       "      <th>公开国别</th>\n",
       "      <th>公开（公告）号</th>\n",
       "      <th>公开（公告）日</th>\n",
       "      <th>发明人</th>\n",
       "      <th>合享价值度</th>\n",
       "      <th>同族国家</th>\n",
       "      <th>失效日</th>\n",
       "      <th>序号</th>\n",
       "      <th>引证专利</th>\n",
       "      <th>引证科技文献</th>\n",
       "      <th>...</th>\n",
       "      <th>简单同族</th>\n",
       "      <th>简单同族个数</th>\n",
       "      <th>被引证专利</th>\n",
       "      <th>被引证国别(forward)</th>\n",
       "      <th>被引证次数</th>\n",
       "      <th>链接到incoPat</th>\n",
       "      <th>申请人</th>\n",
       "      <th>name</th>\n",
       "      <th>address</th>\n",
       "      <th>完整地址</th>\n",
       "      <th>lat</th>\n",
       "      <th>lnt</th>\n",
       "      <th>濟南</th>\n",
       "      <th>威海火炬</th>\n",
       "      <th>青島</th>\n",
       "      <th>濰坊</th>\n",
       "      <th>淄博</th>\n",
       "      <th>濟寧</th>\n",
       "      <th>煙台</th>\n",
       "      <th>臨沂</th>\n",
       "      <th>泰安</th>\n",
       "      <th>早期園區</th>\n",
       "      <th>近期園區</th>\n",
       "      <th>專利數</th>\n",
       "      <th>name_clean</th>\n",
       "    </tr>\n",
       "  </thead>\n",
       "  <tbody>\n",
       "    <tr>\n",
       "      <td>36200</td>\n",
       "      <td></td>\n",
       "      <td></td>\n",
       "      <td></td>\n",
       "      <td></td>\n",
       "      <td></td>\n",
       "      <td></td>\n",
       "      <td></td>\n",
       "      <td>F25D25/00</td>\n",
       "      <td>CN101221008A; CN100520254C</td>\n",
       "      <td>2</td>\n",
       "      <td>0</td>\n",
       "      <td>发明授权</td>\n",
       "      <td>[崂山]</td>\n",
       "      <td>[青岛]</td>\n",
       "      <td></td>\n",
       "      <td>CN</td>\n",
       "      <td>CN100520254C</td>\n",
       "      <td>2009-07-29 00:00:00</td>\n",
       "      <td>赵明华; 高丽霞; 马杰; 孙福</td>\n",
       "      <td>9</td>\n",
       "      <td>CN</td>\n",
       "      <td></td>\n",
       "      <td>3390</td>\n",
       "      <td>CN2407305Y; US20050160854A1; JP03225188A; CA2492681A1; WO2007007950A1; CN1305763A</td>\n",
       "      <td></td>\n",
       "      <td>...</td>\n",
       "      <td>CN101221008A; CN100520254C</td>\n",
       "      <td>2</td>\n",
       "      <td></td>\n",
       "      <td></td>\n",
       "      <td>0</td>\n",
       "      <td>到incoPat中查看\\r\\nCN100520254C</td>\n",
       "      <td>青岛海尔股份有限公司</td>\n",
       "      <td>青岛海尔股份有限公司</td>\n",
       "      <td>山东省青岛市海尔路1号海尔信息园</td>\n",
       "      <td>1</td>\n",
       "      <td>36.1334</td>\n",
       "      <td>120.43</td>\n",
       "      <td>303.248026</td>\n",
       "      <td>209.363589</td>\n",
       "      <td>20.099695</td>\n",
       "      <td>127.475816</td>\n",
       "      <td>228.044862</td>\n",
       "      <td>353.297518</td>\n",
       "      <td>173.387422</td>\n",
       "      <td>233.994375</td>\n",
       "      <td>292.688947</td>\n",
       "      <td>0</td>\n",
       "      <td>0</td>\n",
       "      <td>1101</td>\n",
       "      <td>青岛海尔</td>\n",
       "    </tr>\n",
       "    <tr>\n",
       "      <td>38333</td>\n",
       "      <td></td>\n",
       "      <td></td>\n",
       "      <td></td>\n",
       "      <td></td>\n",
       "      <td></td>\n",
       "      <td></td>\n",
       "      <td></td>\n",
       "      <td>B66D1/74; B66D1/08; F15B11/17</td>\n",
       "      <td>CN102976224A; CN102976224B</td>\n",
       "      <td>2</td>\n",
       "      <td>60</td>\n",
       "      <td>发明授权</td>\n",
       "      <td>[市中]</td>\n",
       "      <td>[济南]</td>\n",
       "      <td></td>\n",
       "      <td>CN</td>\n",
       "      <td>CN102976224B</td>\n",
       "      <td>2014-09-10 00:00:00</td>\n",
       "      <td>刘福云; 吕兴润</td>\n",
       "      <td>5</td>\n",
       "      <td>CN</td>\n",
       "      <td>2017-12-19 00:00:00</td>\n",
       "      <td>29579</td>\n",
       "      <td></td>\n",
       "      <td></td>\n",
       "      <td>...</td>\n",
       "      <td>CN102976224B; CN102976224A</td>\n",
       "      <td>2</td>\n",
       "      <td></td>\n",
       "      <td></td>\n",
       "      <td>0</td>\n",
       "      <td>View in incopat\\r\\nCN102976224B</td>\n",
       "      <td>中国重汽集团济南动力有限公司</td>\n",
       "      <td>中国重汽集团济南动力有限公司</td>\n",
       "      <td>山东省济南市市中区英雄山路65号</td>\n",
       "      <td>1</td>\n",
       "      <td>36.6119</td>\n",
       "      <td>117.005</td>\n",
       "      <td>12.554851</td>\n",
       "      <td>458.355144</td>\n",
       "      <td>295.930587</td>\n",
       "      <td>192.966954</td>\n",
       "      <td>96.334299</td>\n",
       "      <td>136.261614</td>\n",
       "      <td>412.373540</td>\n",
       "      <td>213.336963</td>\n",
       "      <td>47.997418</td>\n",
       "      <td>0</td>\n",
       "      <td>0</td>\n",
       "      <td>1706</td>\n",
       "      <td>中国重汽济南动力</td>\n",
       "    </tr>\n",
       "    <tr>\n",
       "      <td>38494</td>\n",
       "      <td></td>\n",
       "      <td></td>\n",
       "      <td></td>\n",
       "      <td></td>\n",
       "      <td></td>\n",
       "      <td></td>\n",
       "      <td></td>\n",
       "      <td>G06F21/70</td>\n",
       "      <td>CN103020545B; CN103020545A</td>\n",
       "      <td>2</td>\n",
       "      <td></td>\n",
       "      <td>发明授权</td>\n",
       "      <td>[历下]</td>\n",
       "      <td>[济南]</td>\n",
       "      <td></td>\n",
       "      <td>CN</td>\n",
       "      <td>CN103020545B</td>\n",
       "      <td>2016-03-02 00:00:00</td>\n",
       "      <td>井立财; 李博乐</td>\n",
       "      <td>9</td>\n",
       "      <td>CN</td>\n",
       "      <td></td>\n",
       "      <td>23123</td>\n",
       "      <td>CN1828548A; CN1851611A; CN1855062A; US20060284915A1</td>\n",
       "      <td></td>\n",
       "      <td>...</td>\n",
       "      <td>CN103020545B; CN103020545A</td>\n",
       "      <td>2</td>\n",
       "      <td></td>\n",
       "      <td></td>\n",
       "      <td>0</td>\n",
       "      <td>View in incopat\\r\\nCN103020545B</td>\n",
       "      <td>浪潮电子信息产业股份有限公司</td>\n",
       "      <td>浪潮电子信息产业股份有限公司</td>\n",
       "      <td>山东省济南市高新区舜雅路1036号</td>\n",
       "      <td>1</td>\n",
       "      <td>36.6815</td>\n",
       "      <td>117.127</td>\n",
       "      <td>0.939655</td>\n",
       "      <td>445.889693</td>\n",
       "      <td>286.068441</td>\n",
       "      <td>181.913229</td>\n",
       "      <td>83.796851</td>\n",
       "      <td>146.794941</td>\n",
       "      <td>399.919668</td>\n",
       "      <td>214.370485</td>\n",
       "      <td>53.349068</td>\n",
       "      <td>1</td>\n",
       "      <td>0</td>\n",
       "      <td>1822</td>\n",
       "      <td>浪潮电子信息产业</td>\n",
       "    </tr>\n",
       "    <tr>\n",
       "      <td>38458</td>\n",
       "      <td></td>\n",
       "      <td></td>\n",
       "      <td></td>\n",
       "      <td></td>\n",
       "      <td></td>\n",
       "      <td></td>\n",
       "      <td></td>\n",
       "      <td>H04N21/458; G06F17/30</td>\n",
       "      <td>CN103024555B; CN103024555A</td>\n",
       "      <td>2</td>\n",
       "      <td></td>\n",
       "      <td>发明授权</td>\n",
       "      <td>[黄岛]</td>\n",
       "      <td>[青岛]</td>\n",
       "      <td></td>\n",
       "      <td>CN</td>\n",
       "      <td>CN103024555B</td>\n",
       "      <td>2015-08-26 00:00:00</td>\n",
       "      <td>路玉太</td>\n",
       "      <td>9</td>\n",
       "      <td>CN</td>\n",
       "      <td></td>\n",
       "      <td>32830</td>\n",
       "      <td>CN101026721A; CN1937723A; CN102523500A; WO2010093189A2</td>\n",
       "      <td></td>\n",
       "      <td>...</td>\n",
       "      <td>CN103024555A; CN103024555B</td>\n",
       "      <td>2</td>\n",
       "      <td></td>\n",
       "      <td></td>\n",
       "      <td>0</td>\n",
       "      <td>View in incopat\\r\\nCN103024555B</td>\n",
       "      <td>青岛海信电器股份有限公司</td>\n",
       "      <td>青岛海信电器股份有限公司</td>\n",
       "      <td>山东省青岛市经济技术开发区前湾港路218号</td>\n",
       "      <td>1</td>\n",
       "      <td>35.9984</td>\n",
       "      <td>120.162</td>\n",
       "      <td>283.601853</td>\n",
       "      <td>236.850792</td>\n",
       "      <td>31.511749</td>\n",
       "      <td>115.432180</td>\n",
       "      <td>212.074913</td>\n",
       "      <td>326.752693</td>\n",
       "      <td>199.641528</td>\n",
       "      <td>205.594244</td>\n",
       "      <td>269.672649</td>\n",
       "      <td>0</td>\n",
       "      <td>0</td>\n",
       "      <td>2135</td>\n",
       "      <td>青岛海信电器</td>\n",
       "    </tr>\n",
       "  </tbody>\n",
       "</table>\n",
       "<p>4 rows × 62 columns</p>\n",
       "</div>"
      ],
      "text/plain": [
       "      法人代碼 企業名稱 地址 區域代碼 行業代碼 區域代碼_str CPC                            IPC  \\\n",
       "36200                                                          F25D25/00   \n",
       "38333                                      B66D1/74; B66D1/08; F15B11/17   \n",
       "38494                                                          G06F21/70   \n",
       "38458                                              H04N21/458; G06F17/30   \n",
       "\n",
       "                        inpadoc同族 inpadoc同族个数 专利寿命（月）  专利类型 中国申请人区县 中国申请人地市  \\\n",
       "36200  CN101221008A; CN100520254C           2       0  发明授权    [崂山]    [青岛]   \n",
       "38333  CN102976224A; CN102976224B           2      60  发明授权    [市中]    [济南]   \n",
       "38494  CN103020545B; CN103020545A           2          发明授权    [历下]    [济南]   \n",
       "38458  CN103024555B; CN103024555A           2          发明授权    [黄岛]    [青岛]   \n",
       "\n",
       "      优先权信息 公开国别       公开（公告）号              公开（公告）日               发明人 合享价值度  \\\n",
       "36200         CN  CN100520254C  2009-07-29 00:00:00  赵明华; 高丽霞; 马杰; 孙福     9   \n",
       "38333         CN  CN102976224B  2014-09-10 00:00:00          刘福云; 吕兴润     5   \n",
       "38494         CN  CN103020545B  2016-03-02 00:00:00          井立财; 李博乐     9   \n",
       "38458         CN  CN103024555B  2015-08-26 00:00:00               路玉太     9   \n",
       "\n",
       "      同族国家                  失效日     序号  \\\n",
       "36200   CN                        3390   \n",
       "38333   CN  2017-12-19 00:00:00  29579   \n",
       "38494   CN                       23123   \n",
       "38458   CN                       32830   \n",
       "\n",
       "                                                                                    引证专利  \\\n",
       "36200  CN2407305Y; US20050160854A1; JP03225188A; CA2492681A1; WO2007007950A1; CN1305763A   \n",
       "38333                                                                                      \n",
       "38494                                CN1828548A; CN1851611A; CN1855062A; US20060284915A1   \n",
       "38458                             CN101026721A; CN1937723A; CN102523500A; WO2010093189A2   \n",
       "\n",
       "      引证科技文献  ...                        简单同族 简单同族个数 被引证专利 被引证国别(forward)  \\\n",
       "36200         ...  CN101221008A; CN100520254C      2                        \n",
       "38333         ...  CN102976224B; CN102976224A      2                        \n",
       "38494         ...  CN103020545B; CN103020545A      2                        \n",
       "38458         ...  CN103024555A; CN103024555B      2                        \n",
       "\n",
       "      被引证次数                       链接到incoPat             申请人            name  \\\n",
       "36200     0      到incoPat中查看\\r\\nCN100520254C      青岛海尔股份有限公司      青岛海尔股份有限公司   \n",
       "38333     0  View in incopat\\r\\nCN102976224B  中国重汽集团济南动力有限公司  中国重汽集团济南动力有限公司   \n",
       "38494     0  View in incopat\\r\\nCN103020545B  浪潮电子信息产业股份有限公司  浪潮电子信息产业股份有限公司   \n",
       "38458     0  View in incopat\\r\\nCN103024555B    青岛海信电器股份有限公司    青岛海信电器股份有限公司   \n",
       "\n",
       "                     address 完整地址      lat      lnt          濟南        威海火炬  \\\n",
       "36200       山东省青岛市海尔路1号海尔信息园    1  36.1334   120.43  303.248026  209.363589   \n",
       "38333       山东省济南市市中区英雄山路65号    1  36.6119  117.005   12.554851  458.355144   \n",
       "38494      山东省济南市高新区舜雅路1036号    1  36.6815  117.127    0.939655  445.889693   \n",
       "38458  山东省青岛市经济技术开发区前湾港路218号    1  35.9984  120.162  283.601853  236.850792   \n",
       "\n",
       "               青島          濰坊          淄博          濟寧          煙台          臨沂  \\\n",
       "36200   20.099695  127.475816  228.044862  353.297518  173.387422  233.994375   \n",
       "38333  295.930587  192.966954   96.334299  136.261614  412.373540  213.336963   \n",
       "38494  286.068441  181.913229   83.796851  146.794941  399.919668  214.370485   \n",
       "38458   31.511749  115.432180  212.074913  326.752693  199.641528  205.594244   \n",
       "\n",
       "               泰安  早期園區 近期園區   專利數  name_clean  \n",
       "36200  292.688947     0    0  1101        青岛海尔  \n",
       "38333   47.997418     0    0  1706    中国重汽济南动力  \n",
       "38494   53.349068     1    0  1822    浪潮电子信息产业  \n",
       "38458  269.672649     0    0  2135      青岛海信电器  \n",
       "\n",
       "[4 rows x 62 columns]"
      ]
     },
     "execution_count": 10,
     "metadata": {},
     "output_type": "execute_result"
    }
   ],
   "source": [
    "not_merge[not_merge['專利數']>=1000].sort_values('專利數')"
   ]
  },
  {
   "cell_type": "code",
   "execution_count": 12,
   "metadata": {},
   "outputs": [
    {
     "data": {
      "text/plain": [
       "Text(0.5, 0, '專利數量')"
      ]
     },
     "execution_count": 12,
     "metadata": {},
     "output_type": "execute_result"
    },
    {
     "data": {
      "image/png": "[encoded data removed]",
      "text/plain": [
       "<Figure size 432x288 with 1 Axes>"
      ]
     },
     "metadata": {
      "needs_background": "light"
     },
     "output_type": "display_data"
    }
   ],
   "source": [
    "from matplotlib.font_manager import FontProperties\n",
    "myfont = FontProperties(fname=r'C:\\Windows\\Fonts\\msjhbd.ttc')\n",
    "fig = plt.figure()\n",
    "ax1 = fig.add_subplot(111)\n",
    "ax1.plot(not_merge.groupby('專利數')['IPC'].count().index,not_merge.groupby('專利數')['IPC'].count())\n",
    "ax1.set_title('山東',fontproperties=myfont,fontsize=15)\n",
    "ax1.set_xlim([0,100])\n",
    "ax1.set_ylabel('廠商數量',fontproperties=myfont)\n",
    "ax1.set_xlabel('專利數量',fontproperties=myfont)"
   ]
  },
  {
   "cell_type": "code",
   "execution_count": 11,
   "metadata": {},
   "outputs": [],
   "source": [
    "cleaned.to_excel(r'E:\\paper\\名稱merge\\山東_結果.xlsx')"
   ]
  },
  {
   "cell_type": "code",
   "execution_count": 9,
   "metadata": {},
   "outputs": [
    {
     "data": {
      "text/plain": [
       "<matplotlib.legend.Legend at 0x23638561108>"
      ]
     },
     "execution_count": 9,
     "metadata": {},
     "output_type": "execute_result"
    },
    {
     "data": {
      "image/png": "[encoded data removed]",
      "text/plain": [
       "<Figure size 360x360 with 1 Axes>"
      ]
     },
     "metadata": {
      "needs_background": "light"
     },
     "output_type": "display_data"
    }
   ],
   "source": [
    "from matplotlib.font_manager import FontProperties\n",
    "myfont = FontProperties(fname=r'C:\\Windows\\Fonts\\msjhbd.ttc')\n",
    "fig = plt.figure(figsize = (5,5))\n",
    "ax1 = fig.add_subplot(111)\n",
    "ax1.set_ylabel('Patent Counts')\n",
    "bar1 = ax1.bar(1,merge_df[merge_df['早期園區']==1]['專利數'].sum(),alpha=0.7,width=0.35,color='r',label='早期園區')\n",
    "bar2 = ax1.bar(1+0.35,merge_df[merge_df['近期園區']==1]['專利數'].sum(),alpha=0.7,width=0.35,color='b',label='近期園區')\n",
    "bar3 = ax1.bar(1+0.7,merge_df[(merge_df['近期園區']==0)&(merge_df['早期園區']==0)]['專利數'].sum(),alpha=0.7,width=0.35,color='k',label='園區外')\n",
    "\n",
    "plt.text(1, merge_df[merge_df['早期園區']==1]['專利數'].sum(), '%.0f' % merge_df[merge_df['早期園區']==1]['專利數'].sum(), ha='center', va= 'bottom',fontsize=12)  \n",
    "plt.text(1.35, merge_df[merge_df['近期園區']==1]['專利數'].sum(), '%.0f' % merge_df[merge_df['近期園區']==1]['專利數'].sum(), ha='center', va= 'bottom',fontsize=12)  \n",
    "plt.text(1.7, merge_df[(merge_df['近期園區']==0)&(merge_df['早期園區']==0)]['專利數'].sum(), '%.0f' % merge_df[(merge_df['近期園區']==0)&(merge_df['早期園區']==0)]['專利數'].sum(), ha='center', va= 'bottom',fontsize=12)  \n",
    "\n",
    "plt.title('山東',fontproperties=myfont,fontsize=20)\n",
    "plt.xticks([0.75,1,2],['','',''],fontproperties=myfont)\n",
    "plt.legend(handles = [bar1,bar2,bar3], loc='upper left',prop=myfont)"
   ]
  },
  {
   "cell_type": "code",
   "execution_count": 10,
   "metadata": {},
   "outputs": [
    {
     "data": {
      "text/plain": [
       "<matplotlib.legend.Legend at 0x23640ff3388>"
      ]
     },
     "execution_count": 10,
     "metadata": {},
     "output_type": "execute_result"
    },
    {
     "data": {
      "image/png": "[encoded data removed]",
      "text/plain": [
       "<Figure size 360x360 with 1 Axes>"
      ]
     },
     "metadata": {
      "needs_background": "light"
     },
     "output_type": "display_data"
    }
   ],
   "source": [
    "fig = plt.figure(figsize = (5,5))\n",
    "ax1 = fig.add_subplot(111)\n",
    "ax1.set_ylabel('Patent Counts/Firms ')\n",
    "bar1 = ax1.bar(1,merge_df[merge_df['早期園區']==1]['專利數'].sum()/merge_df[merge_df['早期園區']==1]['專利數'].count(),alpha=0.7,width=0.35,color='r',label='早期園區')\n",
    "bar2 = ax1.bar(1+0.35,merge_df[merge_df['近期園區']==1]['專利數'].sum()/merge_df[merge_df['近期園區']==1]['專利數'].count(),alpha=0.7,width=0.35,color='b',label='近期園區')\n",
    "bar3 = ax1.bar(1+0.7,merge_df[(merge_df['近期園區']==0)&(merge_df['早期園區']==0)]['專利數'].sum()/merge_df[(merge_df['近期園區']==0)&(merge_df['早期園區']==0)]['專利數'].count(),alpha=0.7,width=0.35,color='k',label='園區外')\n",
    "\n",
    "plt.text(1, (merge_df[merge_df['早期園區']==1]['專利數'].sum()/merge_df[merge_df['早期園區']==1]['專利數'].count()), '%.2f' % (merge_df[merge_df['早期園區']==1]['專利數'].sum()/merge_df[merge_df['早期園區']==1]['專利數'].count()), ha='center', va= 'bottom',fontsize=12)  \n",
    "plt.text(1.35, (merge_df[merge_df['近期園區']==1]['專利數'].sum()/merge_df[merge_df['近期園區']==1]['專利數'].count()), '%.2f' % (merge_df[merge_df['近期園區']==1]['專利數'].sum()/merge_df[merge_df['近期園區']==1]['專利數'].count()), ha='center', va= 'bottom',fontsize=12)  \n",
    "plt.text(1.7, (merge_df[(merge_df['近期園區']==0)&(merge_df['早期園區']==0)]['專利數'].sum()/merge_df[(merge_df['近期園區']==0)&(merge_df['早期園區']==0)]['專利數'].count()), '%.0f' % (merge_df[(merge_df['近期園區']==0)&(merge_df['早期園區']==0)]['專利數'].sum()/merge_df[(merge_df['近期園區']==0)&(merge_df['早期園區']==0)]['專利數'].count()), ha='center', va= 'bottom',fontsize=12)  \n",
    "\n",
    "plt.title('山東',fontproperties=myfont,fontsize=20)\n",
    "plt.xticks([0.75,1,2],['','',''],fontproperties=myfont)\n",
    "plt.legend(handles = [bar1,bar2,bar3], loc='upper right',prop=myfont)"
   ]
  },
  {
   "cell_type": "code",
   "execution_count": null,
   "metadata": {},
   "outputs": [],
   "source": []
  }
 ],
 "metadata": {
  "kernelspec": {
   "display_name": "Python 3",
   "language": "python",
   "name": "python3"
  },
  "language_info": {
   "codemirror_mode": {
    "name": "ipython",
    "version": 3
   },
   "file_extension": ".py",
   "mimetype": "text/x-python",
   "name": "python",
   "nbconvert_exporter": "python",
   "pygments_lexer": "ipython3",
   "version": "3.7.4"
  }
 },
 "nbformat": 4,
 "nbformat_minor": 2
}
