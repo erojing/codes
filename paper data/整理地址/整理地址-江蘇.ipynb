{
 "cells": [
  {
   "cell_type": "code",
   "execution_count": 1,
   "metadata": {},
   "outputs": [],
   "source": [
    "import pandas as pd\n",
    "import numpy as np\n",
    "import matplotlib.pyplot as plt\n",
    "import re\n",
    "import time\n",
    "import datetime\n",
    "import geocoder\n",
    "pd.set_option('display.max_rows',500)\n",
    "pd.set_option('display.max_columns',50)\n",
    "pd.set_option('max_colwidth',200)\n",
    "%matplotlib inline\n",
    "import requests\n",
    "import json\n",
    "import urllib\n",
    "from urllib.request import urlopen\n",
    "\n",
    "def getGeoForAddress(address):\n",
    "    add = urllib.parse.quote(address)\n",
    "    addressUrl = \"https://maps.googleapis.com/maps/api/geocode/json?address=\" + add + '&key='\n",
    "    res = requests.get(addressUrl)\n",
    "    js = json.loads(res.text)\n",
    "    if js.get('results'):\n",
    "        lat = js.get('results')[0]['geometry']['location']['lat']\n",
    "        lng = js.get('results')[0]['geometry']['location']['lng']\n",
    "    else:\n",
    "        lat = ''\n",
    "        lng = ''\n",
    "    return [lat, lng]\n",
    "def ngram(text, n=3, pad=True):\n",
    "    text = text.strip()\n",
    "    if pad:\n",
    "        text = \" %s \" % text\n",
    "    return set([text[i:i+n] for i in range(len(text)-n+1)])\n",
    "    \n",
    "def create_ngram(text1, text2, n=3, pad=True):\n",
    "    return ngram(text1, n=n, pad=pad), ngram(text2, n=n, pad=pad)\n",
    "\n",
    "def tversky_index(text1, text2, a=None, b=None, q=3, pad=True):\n",
    "    text1, text2 = create_ngram(text1, text2, n=q, pad=pad)\n",
    "    agree_tot = len(text1.intersection(text2))\n",
    "    v1 = len(text1) - agree_tot\n",
    "    v2 = len(text2) - agree_tot\n",
    "    \n",
    "    if a != None and b != None:\n",
    "        a = a/float(a+b)\n",
    "        b = b/float(a+b)\n",
    "    elif a <= 1.0 and a >= 0.0:\n",
    "        b = 1-a\n",
    "    elif b <= 1.0 and b >= 0.0:\n",
    "        a = 1-b\n",
    "    else:\n",
    "        a = 0.5\n",
    "        b = 0.5        \n",
    "    return float(agree_tot)/(agree_tot+a*v1+b*v2)\n",
    "# incoPat為申請人list\n",
    "def fuzzy(incoPat,indus):\n",
    "    corptype = ['有限','公司','责任','集团','股份','控股']\n",
    "    text1 = incoPat\n",
    "    text2 = indus\n",
    "    incoPat_nor = []   \n",
    "    for text in text1:\n",
    "        for i in corptype:\n",
    "            if i in text:\n",
    "                text = re.sub(i,'',text)\n",
    "        incoPat_nor.append(text)\n",
    "    for i in corptype:\n",
    "        if i in text2:\n",
    "            text2 = re.sub(i,'',text2)\n",
    "    similar = []\n",
    "    for text in incoPat_nor:\n",
    "        dice = tversky_index(text,text2, a=0.5, q=min(2,len(text),len(text2)), pad=False)\n",
    "        if dice>0.7:\n",
    "            similar.append([incoPat[incoPat_nor.index(text)],dice])\n",
    "        else:\n",
    "            pass\n",
    "    if len(similar)>0:\n",
    "        return similar[[k[1] for k in similar].index(max([i[1] for i in similar]))][0]\n",
    "    else:\n",
    "        return indus\n",
    "city_code = pd.read_excel('C:/Users/user/Dropbox/paper/科技園區/China/省地縣碼對照.xls')\n",
    "city_code = city_code[~city_code['代碼'].isnull()].drop(['标注','说明'],axis=1)\n",
    "city_code['代碼_str'] = city_code['代碼'].apply(lambda x:str(int(x)))\n",
    "city_code = city_code.drop('代碼',axis=1)"
   ]
  },
  {
   "cell_type": "markdown",
   "metadata": {},
   "source": [
    "# 江蘇資料整合"
   ]
  },
  {
   "cell_type": "code",
   "execution_count": 2,
   "metadata": {},
   "outputs": [],
   "source": [
    "df1 = pd.read_excel(r'E:\\paper\\專利資料-新型&授權\\新型授權-江蘇1.xls')\n",
    "df2 = pd.read_excel(r'E:\\paper\\專利資料-新型&授權\\新型授權-江蘇2.xls')\n",
    "df3 = pd.read_excel(r'E:\\paper\\專利資料-新型&授權\\新型授權-江蘇3.xls')\n",
    "df4 = pd.read_excel(r'E:\\paper\\專利資料-新型&授權\\新型授權-江蘇4.xls')\n",
    "df5 = pd.read_excel(r'E:\\paper\\專利資料-新型&授權\\新型授權-江蘇5.xls')\n",
    "df6 = pd.read_excel(r'E:\\paper\\專利資料-新型&授權\\新型授權-江蘇6.xls')\n",
    "df7 = pd.read_excel(r'E:\\paper\\專利資料-新型&授權\\新型授權-江蘇7.xls')\n",
    "df8 = pd.read_excel(r'E:\\paper\\專利資料-新型&授權\\新型授權-江蘇8.xls')\n",
    "df9 = pd.read_excel(r'E:\\paper\\專利資料-新型&授權\\新型授權-江蘇9.xls')\n",
    "df10 = pd.read_excel(r'E:\\paper\\專利資料-新型&授權\\新型授權-江蘇10.xls')\n",
    "df11 = pd.read_excel(r'E:\\paper\\專利資料-新型&授權\\新型授權-江蘇11.xls')\n",
    "df12 = pd.read_excel(r'E:\\paper\\專利資料-新型&授權\\新型授權-江蘇12.xls')\n",
    "df13 = pd.read_excel(r'E:\\paper\\專利資料-新型&授權\\新型授權-江蘇13.xls')\n",
    "df14 = pd.read_excel(r'E:\\paper\\專利資料-新型&授權\\新型授權-江蘇14.xls')\n",
    "df15 = pd.read_excel(r'E:\\paper\\專利資料-新型&授權\\新型授權-江蘇15.xls')\n",
    "\n",
    "patent_df = pd.concat([df1,df2,df3,df4,df5,df6,df7,df8,df9,df10,df11,df12,df13,df14,df15],ignore_index=True,sort=True)"
   ]
  },
  {
   "cell_type": "code",
   "execution_count": 3,
   "metadata": {},
   "outputs": [
    {
     "data": {
      "text/plain": [
       "(709591, 38)"
      ]
     },
     "execution_count": 3,
     "metadata": {},
     "output_type": "execute_result"
    }
   ],
   "source": [
    "patent_df.shape"
   ]
  },
  {
   "cell_type": "code",
   "execution_count": 4,
   "metadata": {},
   "outputs": [],
   "source": [
    "patent_df['申请人地址'].fillna('',inplace=True)\n",
    "patent_df = patent_df[patent_df['申请人地址']!='']"
   ]
  },
  {
   "cell_type": "code",
   "execution_count": 5,
   "metadata": {},
   "outputs": [
    {
     "data": {
      "text/plain": [
       "(709591, 38)"
      ]
     },
     "execution_count": 5,
     "metadata": {},
     "output_type": "execute_result"
    }
   ],
   "source": [
    "patent_df.shape"
   ]
  },
  {
   "cell_type": "code",
   "execution_count": 3,
   "metadata": {},
   "outputs": [
    {
     "name": "stderr",
     "output_type": "stream",
     "text": [
      "D:\\Anaconda\\lib\\site-packages\\IPython\\core\\interactiveshell.py:3058: DtypeWarning: Columns (0,3,16) have mixed types. Specify dtype option on import or set low_memory=False.\n",
      "  interactivity=interactivity, compiler=compiler, result=result)\n"
     ]
    }
   ],
   "source": [
    "#for PC\n",
    "patent_df = patent_df[patent_df['专利类型']=='发明授权']\n",
    "patent_df = patent_df[patent_df['申请人地址'].map(lambda x:len(re.findall(r'\\D+[\\s\\S]+',x)))==1]\n",
    "patent_df['申请人地址'] = patent_df['申请人地址'].map(lambda x:re.findall(r'\\D+[\\s\\S]+',x)[0])\n",
    "patent_df['申请人地址'] = patent_df['申请人地址'].map(lambda x:re.sub(r\"\\s+\", \"\",x))\n",
    "patent_df_firm = patent_df[patent_df['申请人类型'].str.contains('企业')]\n",
    "applicant = patent_df_firm['申请人'].str.split(';',expand=True).stack().reset_index(level=1,drop=True).rename('申请人2')\n",
    "patent_df_firm = patent_df_firm.join(applicant)\n",
    "patent_df_firm['類別'] = patent_df_firm['申请人类型'].map(lambda x:x.strip().split('  '))\n",
    "patent_df_firm = patent_df_firm[~patent_df_firm['标题'].duplicated()]\n",
    "patent_df_firm['申请人类型'] = patent_df_firm.apply(lambda x:x['類別'][0],axis=1)\n",
    "patent_df_firm = patent_df_firm[patent_df_firm['申请人类型']=='企业'].sort_values('申请日')\n",
    "patent_df_firm.drop(['類別','申请人'],axis=1,inplace=True)\n",
    "patent_df_firm.rename(columns={'申请人2':'申请人'},inplace=True)\n",
    "patent_df_firm = patent_df_firm[patent_df_firm['申请日']<datetime.datetime.strptime('2013-01-01','%Y-%m-%d')]\n",
    "patent_df_firm.drop_duplicates('申请人地址', keep='last', inplace=True)\n",
    "patent_df_firm.drop_duplicates('申请人', keep='last', inplace=True)\n",
    "\n",
    "firm_df = pd.read_csv(r'E:\\paper\\Firm csv\\firm_data_2012.csv')\n",
    "firm_gd = firm_df[firm_df['區域代碼'].astype(str).str.contains(r'32\\d{10}')==True]\n",
    "firm_gd = firm_gd.loc[:,['法人代碼','企業名稱','地址','區域代碼','行業代碼']]\n",
    "firm_gd['區域代碼_str'] = firm_gd['區域代碼'].astype(str).map(lambda x:x[0:6])\n",
    "firm_gd = pd.merge(firm_gd,city_code,left_on='區域代碼_str',right_on='代碼_str',how='left')\n",
    "firm_gd['名稱'].fillna('',inplace=True)\n",
    "firm_gd['市級'].fillna('',inplace=True)\n",
    "firm_gd['省份'].fillna('',inplace=True)\n",
    "firm_gd['地址'].fillna('',inplace=True)\n",
    "firm_gd['地址'] = firm_gd['地址'].map(lambda x:re.sub(r\"\\s+\", \"\",x))\n",
    "firm_gd['地址'] = firm_gd.apply(lambda x:re.sub(x['省份'],\"\",x['地址']),axis=1)\n",
    "firm_gd['地址'] = firm_gd.apply(lambda x:re.sub(x['市級'],\"\",x['地址']),axis=1)\n",
    "firm_gd['地址'] = firm_gd.apply(lambda x:re.sub(x['名稱'],\"\",x['地址']),axis=1)\n",
    "firm_gd['地址'] = firm_gd['省份']+firm_gd['市級']+firm_gd['名稱']+firm_gd['地址']\n",
    "firm_gd.drop(['省份','市級','名稱','代碼_str'],axis=1,inplace=True)\n",
    "firm_gd.dropna(subset=['企業名稱'],inplace=True)"
   ]
  },
  {
   "cell_type": "code",
   "execution_count": 7,
   "metadata": {},
   "outputs": [],
   "source": [
    "patent_df_firm = patent_df_firm[patent_df_firm['申请日']>datetime.datetime.strptime('2007-12-31','%Y-%m-%d')]\n",
    "incoPat = list(patent_df_firm['申请人'])"
   ]
  },
  {
   "cell_type": "code",
   "execution_count": 8,
   "metadata": {},
   "outputs": [
    {
     "data": {
      "text/plain": [
       "(36773, 38)"
      ]
     },
     "execution_count": 8,
     "metadata": {},
     "output_type": "execute_result"
    }
   ],
   "source": [
    "patent_df_firm.shape"
   ]
  },
  {
   "cell_type": "code",
   "execution_count": 9,
   "metadata": {},
   "outputs": [
    {
     "data": {
      "text/plain": [
       "(43954, 6)"
      ]
     },
     "execution_count": 9,
     "metadata": {},
     "output_type": "execute_result"
    }
   ],
   "source": [
    "firm_gd.shape"
   ]
  },
  {
   "cell_type": "markdown",
   "metadata": {},
   "source": [
    "## 模糊比對待跑"
   ]
  },
  {
   "cell_type": "code",
   "execution_count": 10,
   "metadata": {
    "collapsed": true
   },
   "outputs": [
    {
     "ename": "KeyboardInterrupt",
     "evalue": "",
     "output_type": "error",
     "traceback": [
      "\u001b[1;31m---------------------------------------------------------------------------\u001b[0m",
      "\u001b[1;31mKeyboardInterrupt\u001b[0m                         Traceback (most recent call last)",
      "\u001b[1;32m<ipython-input-10-b7acc392f491>\u001b[0m in \u001b[0;36m<module>\u001b[1;34m\u001b[0m\n\u001b[1;32m----> 1\u001b[1;33m \u001b[0mfirm_gd\u001b[0m\u001b[1;33m[\u001b[0m\u001b[1;34m'name_模糊比對'\u001b[0m\u001b[1;33m]\u001b[0m \u001b[1;33m=\u001b[0m \u001b[0mfirm_gd\u001b[0m\u001b[1;33m[\u001b[0m\u001b[1;34m'企業名稱'\u001b[0m\u001b[1;33m]\u001b[0m\u001b[1;33m.\u001b[0m\u001b[0mmap\u001b[0m\u001b[1;33m(\u001b[0m\u001b[1;32mlambda\u001b[0m \u001b[0mx\u001b[0m\u001b[1;33m:\u001b[0m\u001b[0mfuzzy\u001b[0m\u001b[1;33m(\u001b[0m\u001b[0mincoPat\u001b[0m\u001b[1;33m,\u001b[0m\u001b[0mx\u001b[0m\u001b[1;33m)\u001b[0m\u001b[1;33m)\u001b[0m\u001b[1;33m\u001b[0m\u001b[1;33m\u001b[0m\u001b[0m\n\u001b[0m",
      "\u001b[1;32mD:\\Anaconda\\lib\\site-packages\\pandas\\core\\series.py\u001b[0m in \u001b[0;36mmap\u001b[1;34m(self, arg, na_action)\u001b[0m\n\u001b[0;32m   3823\u001b[0m         \u001b[0mdtype\u001b[0m\u001b[1;33m:\u001b[0m \u001b[0mobject\u001b[0m\u001b[1;33m\u001b[0m\u001b[1;33m\u001b[0m\u001b[0m\n\u001b[0;32m   3824\u001b[0m         \"\"\"\n\u001b[1;32m-> 3825\u001b[1;33m         \u001b[0mnew_values\u001b[0m \u001b[1;33m=\u001b[0m \u001b[0msuper\u001b[0m\u001b[1;33m(\u001b[0m\u001b[1;33m)\u001b[0m\u001b[1;33m.\u001b[0m\u001b[0m_map_values\u001b[0m\u001b[1;33m(\u001b[0m\u001b[0marg\u001b[0m\u001b[1;33m,\u001b[0m \u001b[0mna_action\u001b[0m\u001b[1;33m=\u001b[0m\u001b[0mna_action\u001b[0m\u001b[1;33m)\u001b[0m\u001b[1;33m\u001b[0m\u001b[1;33m\u001b[0m\u001b[0m\n\u001b[0m\u001b[0;32m   3826\u001b[0m         \u001b[1;32mreturn\u001b[0m \u001b[0mself\u001b[0m\u001b[1;33m.\u001b[0m\u001b[0m_constructor\u001b[0m\u001b[1;33m(\u001b[0m\u001b[0mnew_values\u001b[0m\u001b[1;33m,\u001b[0m \u001b[0mindex\u001b[0m\u001b[1;33m=\u001b[0m\u001b[0mself\u001b[0m\u001b[1;33m.\u001b[0m\u001b[0mindex\u001b[0m\u001b[1;33m)\u001b[0m\u001b[1;33m.\u001b[0m\u001b[0m__finalize__\u001b[0m\u001b[1;33m(\u001b[0m\u001b[0mself\u001b[0m\u001b[1;33m)\u001b[0m\u001b[1;33m\u001b[0m\u001b[1;33m\u001b[0m\u001b[0m\n\u001b[0;32m   3827\u001b[0m \u001b[1;33m\u001b[0m\u001b[0m\n",
      "\u001b[1;32mD:\\Anaconda\\lib\\site-packages\\pandas\\core\\base.py\u001b[0m in \u001b[0;36m_map_values\u001b[1;34m(self, mapper, na_action)\u001b[0m\n\u001b[0;32m   1298\u001b[0m \u001b[1;33m\u001b[0m\u001b[0m\n\u001b[0;32m   1299\u001b[0m         \u001b[1;31m# mapper is a function\u001b[0m\u001b[1;33m\u001b[0m\u001b[1;33m\u001b[0m\u001b[1;33m\u001b[0m\u001b[0m\n\u001b[1;32m-> 1300\u001b[1;33m         \u001b[0mnew_values\u001b[0m \u001b[1;33m=\u001b[0m \u001b[0mmap_f\u001b[0m\u001b[1;33m(\u001b[0m\u001b[0mvalues\u001b[0m\u001b[1;33m,\u001b[0m \u001b[0mmapper\u001b[0m\u001b[1;33m)\u001b[0m\u001b[1;33m\u001b[0m\u001b[1;33m\u001b[0m\u001b[0m\n\u001b[0m\u001b[0;32m   1301\u001b[0m \u001b[1;33m\u001b[0m\u001b[0m\n\u001b[0;32m   1302\u001b[0m         \u001b[1;32mreturn\u001b[0m \u001b[0mnew_values\u001b[0m\u001b[1;33m\u001b[0m\u001b[1;33m\u001b[0m\u001b[0m\n",
      "\u001b[1;32mpandas\\_libs\\lib.pyx\u001b[0m in \u001b[0;36mpandas._libs.lib.map_infer\u001b[1;34m()\u001b[0m\n",
      "\u001b[1;32m<ipython-input-10-b7acc392f491>\u001b[0m in \u001b[0;36m<lambda>\u001b[1;34m(x)\u001b[0m\n\u001b[1;32m----> 1\u001b[1;33m \u001b[0mfirm_gd\u001b[0m\u001b[1;33m[\u001b[0m\u001b[1;34m'name_模糊比對'\u001b[0m\u001b[1;33m]\u001b[0m \u001b[1;33m=\u001b[0m \u001b[0mfirm_gd\u001b[0m\u001b[1;33m[\u001b[0m\u001b[1;34m'企業名稱'\u001b[0m\u001b[1;33m]\u001b[0m\u001b[1;33m.\u001b[0m\u001b[0mmap\u001b[0m\u001b[1;33m(\u001b[0m\u001b[1;32mlambda\u001b[0m \u001b[0mx\u001b[0m\u001b[1;33m:\u001b[0m\u001b[0mfuzzy\u001b[0m\u001b[1;33m(\u001b[0m\u001b[0mincoPat\u001b[0m\u001b[1;33m,\u001b[0m\u001b[0mx\u001b[0m\u001b[1;33m)\u001b[0m\u001b[1;33m)\u001b[0m\u001b[1;33m\u001b[0m\u001b[1;33m\u001b[0m\u001b[0m\n\u001b[0m",
      "\u001b[1;32m<ipython-input-1-0340935c6494>\u001b[0m in \u001b[0;36mfuzzy\u001b[1;34m(incoPat, indus)\u001b[0m\n\u001b[0;32m     69\u001b[0m     \u001b[0msimilar\u001b[0m \u001b[1;33m=\u001b[0m \u001b[1;33m[\u001b[0m\u001b[1;33m]\u001b[0m\u001b[1;33m\u001b[0m\u001b[1;33m\u001b[0m\u001b[0m\n\u001b[0;32m     70\u001b[0m     \u001b[1;32mfor\u001b[0m \u001b[0mtext\u001b[0m \u001b[1;32min\u001b[0m \u001b[0mincoPat_nor\u001b[0m\u001b[1;33m:\u001b[0m\u001b[1;33m\u001b[0m\u001b[1;33m\u001b[0m\u001b[0m\n\u001b[1;32m---> 71\u001b[1;33m         \u001b[0mdice\u001b[0m \u001b[1;33m=\u001b[0m \u001b[0mtversky_index\u001b[0m\u001b[1;33m(\u001b[0m\u001b[0mtext\u001b[0m\u001b[1;33m,\u001b[0m\u001b[0mtext2\u001b[0m\u001b[1;33m,\u001b[0m \u001b[0ma\u001b[0m\u001b[1;33m=\u001b[0m\u001b[1;36m0.5\u001b[0m\u001b[1;33m,\u001b[0m \u001b[0mq\u001b[0m\u001b[1;33m=\u001b[0m\u001b[0mmin\u001b[0m\u001b[1;33m(\u001b[0m\u001b[1;36m2\u001b[0m\u001b[1;33m,\u001b[0m\u001b[0mlen\u001b[0m\u001b[1;33m(\u001b[0m\u001b[0mtext\u001b[0m\u001b[1;33m)\u001b[0m\u001b[1;33m,\u001b[0m\u001b[0mlen\u001b[0m\u001b[1;33m(\u001b[0m\u001b[0mtext2\u001b[0m\u001b[1;33m)\u001b[0m\u001b[1;33m)\u001b[0m\u001b[1;33m,\u001b[0m \u001b[0mpad\u001b[0m\u001b[1;33m=\u001b[0m\u001b[1;32mFalse\u001b[0m\u001b[1;33m)\u001b[0m\u001b[1;33m\u001b[0m\u001b[1;33m\u001b[0m\u001b[0m\n\u001b[0m\u001b[0;32m     72\u001b[0m         \u001b[1;32mif\u001b[0m \u001b[0mdice\u001b[0m\u001b[1;33m>\u001b[0m\u001b[1;36m0.7\u001b[0m\u001b[1;33m:\u001b[0m\u001b[1;33m\u001b[0m\u001b[1;33m\u001b[0m\u001b[0m\n\u001b[0;32m     73\u001b[0m             \u001b[0msimilar\u001b[0m\u001b[1;33m.\u001b[0m\u001b[0mappend\u001b[0m\u001b[1;33m(\u001b[0m\u001b[1;33m[\u001b[0m\u001b[0mincoPat\u001b[0m\u001b[1;33m[\u001b[0m\u001b[0mincoPat_nor\u001b[0m\u001b[1;33m.\u001b[0m\u001b[0mindex\u001b[0m\u001b[1;33m(\u001b[0m\u001b[0mtext\u001b[0m\u001b[1;33m)\u001b[0m\u001b[1;33m]\u001b[0m\u001b[1;33m,\u001b[0m\u001b[0mdice\u001b[0m\u001b[1;33m]\u001b[0m\u001b[1;33m)\u001b[0m\u001b[1;33m\u001b[0m\u001b[1;33m\u001b[0m\u001b[0m\n",
      "\u001b[1;32m<ipython-input-1-0340935c6494>\u001b[0m in \u001b[0;36mtversky_index\u001b[1;34m(text1, text2, a, b, q, pad)\u001b[0m\n\u001b[0;32m     52\u001b[0m         \u001b[0ma\u001b[0m \u001b[1;33m=\u001b[0m \u001b[1;36m0.5\u001b[0m\u001b[1;33m\u001b[0m\u001b[1;33m\u001b[0m\u001b[0m\n\u001b[0;32m     53\u001b[0m         \u001b[0mb\u001b[0m \u001b[1;33m=\u001b[0m \u001b[1;36m0.5\u001b[0m\u001b[1;33m\u001b[0m\u001b[1;33m\u001b[0m\u001b[0m\n\u001b[1;32m---> 54\u001b[1;33m     \u001b[1;32mreturn\u001b[0m \u001b[0mfloat\u001b[0m\u001b[1;33m(\u001b[0m\u001b[0magree_tot\u001b[0m\u001b[1;33m)\u001b[0m\u001b[1;33m/\u001b[0m\u001b[1;33m(\u001b[0m\u001b[0magree_tot\u001b[0m\u001b[1;33m+\u001b[0m\u001b[0ma\u001b[0m\u001b[1;33m*\u001b[0m\u001b[0mv1\u001b[0m\u001b[1;33m+\u001b[0m\u001b[0mb\u001b[0m\u001b[1;33m*\u001b[0m\u001b[0mv2\u001b[0m\u001b[1;33m)\u001b[0m\u001b[1;33m\u001b[0m\u001b[1;33m\u001b[0m\u001b[0m\n\u001b[0m\u001b[0;32m     55\u001b[0m \u001b[1;31m# incoPat為申請人list\u001b[0m\u001b[1;33m\u001b[0m\u001b[1;33m\u001b[0m\u001b[1;33m\u001b[0m\u001b[0m\n\u001b[0;32m     56\u001b[0m \u001b[1;32mdef\u001b[0m \u001b[0mfuzzy\u001b[0m\u001b[1;33m(\u001b[0m\u001b[0mincoPat\u001b[0m\u001b[1;33m,\u001b[0m\u001b[0mindus\u001b[0m\u001b[1;33m)\u001b[0m\u001b[1;33m:\u001b[0m\u001b[1;33m\u001b[0m\u001b[1;33m\u001b[0m\u001b[0m\n",
      "\u001b[1;31mKeyboardInterrupt\u001b[0m: "
     ]
    }
   ],
   "source": [
    "firm_gd['name_模糊比對'] = firm_gd['企業名稱'].map(lambda x:fuzzy(incoPat,x))"
   ]
  },
  {
   "cell_type": "code",
   "execution_count": 12,
   "metadata": {},
   "outputs": [],
   "source": [
    "firm_gd.to_excel(r'E:\\paper\\清理結果-新型&授權\\江蘇_廠商.xlsx')"
   ]
  },
  {
   "cell_type": "markdown",
   "metadata": {},
   "source": [
    "# 非模糊比對"
   ]
  },
  {
   "cell_type": "code",
   "execution_count": 13,
   "metadata": {},
   "outputs": [
    {
     "name": "stdout",
     "output_type": "stream",
     "text": [
      "(9639, 44)\n",
      "(71088, 44)\n"
     ]
    }
   ],
   "source": [
    "merge_df = firm_gd.merge(patent_df_firm,left_on='企業名稱',right_on='申请人',how='outer')\n",
    "merge_df.fillna('',inplace=True)\n",
    "print(merge_df[(merge_df['企業名稱']!='')&(merge_df['申请人']!='')].shape)\n",
    "print(merge_df.shape)"
   ]
  },
  {
   "cell_type": "code",
   "execution_count": 14,
   "metadata": {
    "collapsed": true
   },
   "outputs": [
    {
     "name": "stderr",
     "output_type": "stream",
     "text": [
      "D:\\Anaconda\\lib\\site-packages\\pandas\\core\\strings.py:1843: UserWarning: This pattern has match groups. To actually get the groups, use str.extract.\n",
      "  return func(self, *args, **kwargs)\n",
      "D:\\Anaconda\\lib\\site-packages\\ipykernel_launcher.py:4: SettingWithCopyWarning: \n",
      "A value is trying to be set on a copy of a slice from a DataFrame.\n",
      "Try using .loc[row_indexer,col_indexer] = value instead\n",
      "\n",
      "See the caveats in the documentation: http://pandas.pydata.org/pandas-docs/stable/user_guide/indexing.html#returning-a-view-versus-a-copy\n",
      "  after removing the cwd from sys.path.\n",
      "D:\\Anaconda\\lib\\site-packages\\ipykernel_launcher.py:5: SettingWithCopyWarning: \n",
      "A value is trying to be set on a copy of a slice from a DataFrame.\n",
      "Try using .loc[row_indexer,col_indexer] = value instead\n",
      "\n",
      "See the caveats in the documentation: http://pandas.pydata.org/pandas-docs/stable/user_guide/indexing.html#returning-a-view-versus-a-copy\n",
      "  \"\"\"\n"
     ]
    },
    {
     "name": "stdout",
     "output_type": "stream",
     "text": [
      "(33664, 49)\n",
      "(57985, 49)\n"
     ]
    },
    {
     "name": "stderr",
     "output_type": "stream",
     "text": [
      "D:\\Anaconda\\lib\\site-packages\\pandas\\core\\indexing.py:376: SettingWithCopyWarning: \n",
      "A value is trying to be set on a copy of a slice from a DataFrame.\n",
      "Try using .loc[row_indexer,col_indexer] = value instead\n",
      "\n",
      "See the caveats in the documentation: http://pandas.pydata.org/pandas-docs/stable/user_guide/indexing.html#returning-a-view-versus-a-copy\n",
      "  self.obj[key] = _infer_fill_value(value)\n",
      "D:\\Anaconda\\lib\\site-packages\\pandas\\core\\indexing.py:494: SettingWithCopyWarning: \n",
      "A value is trying to be set on a copy of a slice from a DataFrame.\n",
      "Try using .loc[row_indexer,col_indexer] = value instead\n",
      "\n",
      "See the caveats in the documentation: http://pandas.pydata.org/pandas-docs/stable/user_guide/indexing.html#returning-a-view-versus-a-copy\n",
      "  self.obj[item] = s\n"
     ]
    }
   ],
   "source": [
    "merge_df['name'] = merge_df.apply(lambda x:x['申请人'] if x['申请人']!='' else x['企業名稱'],axis=1)\n",
    "merge_df['address'] = merge_df.apply(lambda x:x['申请人地址'] if x['申请人地址']!='' else x['地址'],axis=1)\n",
    "merge_df_clean = merge_df[merge_df['address'].str.contains(r'\\w+(街|道|路|巷|村|小区|园区|社区)')]\n",
    "merge_df_clean['address'] = merge_df_clean['address'].map(lambda x: x+'号' if ((x[-1].isdigit()) and (re.match(r'\\w+[街道路巷]',x))) else x)\n",
    "merge_df_clean['完整地址'] = merge_df_clean['address'].map(lambda x:1 if re.compile(r'\\w+[街道路巷]\\S+号').search(x) else 0)\n",
    "merge_df_clean.loc[:,'lat'] = 0\n",
    "merge_df_clean.loc[:,'lnt'] = 0\n",
    "print(merge_df_clean[merge_df_clean['完整地址']==1].shape)\n",
    "print(merge_df_clean.shape)"
   ]
  },
  {
   "cell_type": "code",
   "execution_count": 15,
   "metadata": {},
   "outputs": [],
   "source": [
    "merge_df_clean.to_excel(r'E:\\paper\\清理結果-新型&授權\\江蘇_結果.xlsx')"
   ]
  },
  {
   "cell_type": "markdown",
   "metadata": {},
   "source": [
    "# merge舊資料"
   ]
  },
  {
   "cell_type": "code",
   "execution_count": 4,
   "metadata": {},
   "outputs": [
    {
     "name": "stdout",
     "output_type": "stream",
     "text": [
      "(4603, 44)\n",
      "(52673, 44)\n",
      "(20866, 49)\n",
      "(52666, 49)\n"
     ]
    }
   ],
   "source": [
    "merge_df = firm_gd.merge(patent_df_firm,left_on='企業名稱',right_on='申请人',how='outer')\n",
    "merge_df.fillna('',inplace=True)\n",
    "print(merge_df[(merge_df['企業名稱']!='')&(merge_df['申请人']!='')].shape)\n",
    "print(merge_df.shape)\n",
    "merge_df['name'] = merge_df.apply(lambda x:x['申请人'] if x['申请人']!='' else x['企業名稱'],axis=1)\n",
    "merge_df['address'] = merge_df.apply(lambda x:x['申请人地址'] if x['申请人地址']!='' else x['地址'],axis=1)\n",
    "merge_df = merge_df[merge_df['address']!='']\n",
    "merge_df_clean = merge_df\n",
    "merge_df_clean['address'] = merge_df_clean['address'].map(lambda x: x+'号' if ((x[-1].isdigit()) and (re.match(r'\\w+[街道路巷]',x))) else x)\n",
    "merge_df_clean['完整地址'] = merge_df_clean['address'].map(lambda x:1 if re.compile(r'\\w+[街道路巷]\\S+号').search(x) else 0)\n",
    "merge_df_clean.loc[:,'lat'] = 0\n",
    "merge_df_clean.loc[:,'lnt'] = 0\n",
    "print(merge_df_clean[merge_df_clean['完整地址']==1].shape)\n",
    "print(merge_df_clean.shape)"
   ]
  },
  {
   "cell_type": "code",
   "execution_count": 5,
   "metadata": {},
   "outputs": [
    {
     "data": {
      "text/plain": [
       "Index(['Unnamed: 0', '法人代碼', '企業名稱', '地址', '區域代碼', '行業代碼', '區域代碼_str', 'CPC',\n",
       "       'IPC', 'inpadoc同族', 'inpadoc同族个数', '专利寿命（月）', '专利类型', '中国申请人区县',\n",
       "       '中国申请人地市', '优先权信息', '公开国别', '公开（公告）号', '公开（公告）日', '发明人', '合享价值度',\n",
       "       '同族国家', '失效日', '序号', '引证专利', '引证科技文献', '扩展同族', '扩展同族个数', '文献页数',\n",
       "       '权利要求数量', '标准化申请人', '标题', '申请人', '申请人国别代码', '申请人地址', '申请人省市代码', '申请人类型',\n",
       "       '申请号', '申请日', '简单同族', '简单同族个数', '被引证专利', '被引证国别(forward)', '被引证次数',\n",
       "       '链接到incoPat', 'name', 'address', '完整地址', 'lat', 'lnt', '南京', '蘇州', '無錫',\n",
       "       '常州', '蘇州工業園', '崑山', '江陰', '武進', '泰州醫藥', '徐州', '專利數', '早期園區', '近期園區'],\n",
       "      dtype='object')"
      ]
     },
     "execution_count": 5,
     "metadata": {},
     "output_type": "execute_result"
    }
   ],
   "source": [
    "done_data = pd.read_excel(r'E:\\paper\\清理結果-園區內外\\江蘇_結果.xlsx')\n",
    "done_data.columns"
   ]
  },
  {
   "cell_type": "code",
   "execution_count": 6,
   "metadata": {},
   "outputs": [
    {
     "data": {
      "text/plain": [
       "(12791, 62)"
      ]
     },
     "execution_count": 6,
     "metadata": {},
     "output_type": "execute_result"
    }
   ],
   "source": [
    "merge_df_clean.drop(['lat','lnt'],axis=1,inplace=True)\n",
    "merge_df_clean = merge_df_clean.merge(done_data[['name','lat','lnt','南京','蘇州','無錫','常州','蘇州工業園','崑山','江陰','武進','泰州醫藥','徐州','專利數','早期園區','近期園區']],left_on='name',right_on='name',how='left')\n",
    "merge_df_clean['lat'].fillna('',inplace=True)\n",
    "merge_df_clean[merge_df_clean['lat']==''].shape"
   ]
  },
  {
   "cell_type": "code",
   "execution_count": 7,
   "metadata": {},
   "outputs": [],
   "source": [
    "merge_df_clean.to_excel(r'E:\\paper\\清理結果-新\\江蘇_結果.xlsx')"
   ]
  },
  {
   "cell_type": "markdown",
   "metadata": {},
   "source": [
    "# 模糊比對"
   ]
  },
  {
   "cell_type": "code",
   "execution_count": null,
   "metadata": {},
   "outputs": [],
   "source": [
    "merge_df_fuzzy = firm_gd.merge(patent_df_firm,left_on='name_模糊比對',right_on='申请人',how='outer')\n",
    "merge_df_fuzzy.fillna('',inplace=True)\n",
    "merge_df_fuzzy.drop_duplicates(['name_模糊比對','申请人'], keep='last', inplace=True)\n",
    "print(merge_df_fuzzy[(merge_df_fuzzy['申请人']!='')&(merge_df_fuzzy['企業名稱']!='')].shape)\n",
    "print(merge_df_fuzzy.shape)"
   ]
  },
  {
   "cell_type": "code",
   "execution_count": null,
   "metadata": {},
   "outputs": [],
   "source": [
    "merge_df_fuzzy['name'] = merge_df_fuzzy.apply(lambda x:x['申请人'] if x['申请人']!='' else x['企業名稱'],axis=1)\n",
    "merge_df_fuzzy['address'] = merge_df_fuzzy.apply(lambda x:x['申请人地址'] if x['申请人地址']!='' else x['地址'],axis=1)\n",
    "merge_df_fuzzy_clean = merge_df_fuzzy[merge_df_fuzzy['address'].str.contains(r'\\w+(街|道|路|巷|村|小区|园区|社区)')]\n",
    "merge_df_fuzzy_clean['address'] = merge_df_fuzzy_clean['address'].map(lambda x: x+'号' if ((x[-1].isdigit()) and (re.match(r'\\w+[街道路巷]',x))) else x)\n",
    "merge_df_fuzzy_clean['完整地址'] = merge_df_fuzzy_clean['address'].map(lambda x:1 if re.compile(r'\\w+[街道路巷]\\S+号').search(x) else 0)\n",
    "merge_df_fuzzy_clean.loc[:,'lat'] = 0\n",
    "merge_df_fuzzy_clean.loc[:,'lnt'] = 0\n",
    "print(merge_df_fuzzy_clean[merge_df_fuzzy_clean['完整地址']==1].shape)\n",
    "print(merge_df_fuzzy_clean.shape)"
   ]
  },
  {
   "cell_type": "code",
   "execution_count": null,
   "metadata": {},
   "outputs": [],
   "source": [
    "merge_df_fuzzy_clean.to_excel(r'E:\\paper\\清理結果-新型&授權\\江蘇_模糊結果.xlsx')"
   ]
  },
  {
   "cell_type": "markdown",
   "metadata": {},
   "source": [
    "# 定位"
   ]
  },
  {
   "cell_type": "code",
   "execution_count": 2,
   "metadata": {},
   "outputs": [],
   "source": [
    "merge_df_clean = pd.read_excel(r'E:\\paper\\清理結果-新型&授權\\江蘇_結果.xlsx',index_col=0)"
   ]
  },
  {
   "cell_type": "code",
   "execution_count": 3,
   "metadata": {},
   "outputs": [
    {
     "data": {
      "text/plain": [
       "(12791, 62)"
      ]
     },
     "execution_count": 3,
     "metadata": {},
     "output_type": "execute_result"
    }
   ],
   "source": [
    "merge_df_clean = pd.read_excel(r'E:\\paper\\清理結果-新\\江蘇_結果.xlsx',index_col=0)\n",
    "merge_df_clean.fillna('',inplace=True)\n",
    "merge_df_clean[merge_df_clean['lat']==''].shape"
   ]
  },
  {
   "cell_type": "code",
   "execution_count": 4,
   "metadata": {},
   "outputs": [],
   "source": [
    "for i in merge_df_clean[merge_df_clean['lat']==''].index:\n",
    "    address = merge_df_clean.loc[i,'address']\n",
    "    g = getGeoForAddress(address)\n",
    "    merge_df_clean.loc[i,'lat'] = g[0]\n",
    "    merge_df_clean.loc[i,'lnt'] = g[1]"
   ]
  },
  {
   "cell_type": "code",
   "execution_count": 17,
   "metadata": {},
   "outputs": [
    {
     "name": "stdout",
     "output_type": "stream",
     "text": [
      "(52666, 62)\n",
      "(868, 62)\n"
     ]
    }
   ],
   "source": [
    "print(merge_df_clean.shape)\n",
    "print(merge_df_clean[merge_df_clean['lat']==''].shape)"
   ]
  },
  {
   "cell_type": "code",
   "execution_count": 18,
   "metadata": {},
   "outputs": [],
   "source": [
    "merge_df_clean.to_excel(r'E:\\paper\\清理結果-新\\江蘇_結果.xlsx')"
   ]
  },
  {
   "cell_type": "markdown",
   "metadata": {},
   "source": [
    "# 作圖"
   ]
  },
  {
   "cell_type": "code",
   "execution_count": 3,
   "metadata": {},
   "outputs": [],
   "source": [
    "from geopy.distance import geodesic\n",
    "def how_far(a,b):\n",
    "    try:\n",
    "        return geodesic(a,b).kilometers\n",
    "    except:\n",
    "        return np.nan\n",
    "applicant = patent_df['申请人'].str.split(';',expand=True).stack().reset_index(level=1,drop=True).rename('申请人2')\n",
    "applicant = applicant.map(lambda x:x.strip())\n",
    "patent_df_new = patent_df.join(applicant)\n",
    "patent_count = patent_df_new.groupby('申请人2')['标题'].count().rename('專利數')"
   ]
  },
  {
   "cell_type": "code",
   "execution_count": 4,
   "metadata": {},
   "outputs": [
    {
     "data": {
      "text/plain": [
       "申请人2\n",
       "(中外合资)泰州宏达化纤绳网有限公司        1\n",
       "武进市芙蓉防腐材料厂                1\n",
       "武进市英特曼电子电器有限公司            1\n",
       "武进市范群干燥设备厂                1\n",
       "武进市西夏墅燃气安全设备厂             1\n",
       "                      ...  \n",
       "江苏大学                   5201\n",
       "中国矿业大学                 5713\n",
       "鸿海精密工业股份有限公司           8134\n",
       "富士康(昆山)电脑接插件有限公司       8373\n",
       "东南大学                  10088\n",
       "Name: 專利數, Length: 109816, dtype: int64"
      ]
     },
     "execution_count": 4,
     "metadata": {},
     "output_type": "execute_result"
    }
   ],
   "source": [
    "patent_count.sort_values()"
   ]
  },
  {
   "cell_type": "code",
   "execution_count": 5,
   "metadata": {},
   "outputs": [],
   "source": [
    "merge_df = pd.read_excel(r'E:\\paper\\清理結果-新型&授權\\江蘇_結果.xlsx',index_col=0)\n",
    "target1 = (32.16916,118.70646)\n",
    "merge_df['南京'] = merge_df.apply(lambda x:how_far(target1,(x['lat'],x['lnt'])),axis=1)\n",
    "target2 = (31.29696,120.55688)\n",
    "merge_df['蘇州'] = merge_df.apply(lambda x:how_far(target2,(x['lat'],x['lnt'])),axis=1)\n",
    "target3 = (31.54877,120.35393)\n",
    "merge_df['無錫'] = merge_df.apply(lambda x:how_far(target3,(x['lat'],x['lnt'])),axis=1)\n",
    "target4 = (31.83028,119.97137)\n",
    "merge_df['常州'] = merge_df.apply(lambda x:how_far(target4,(x['lat'],x['lnt'])),axis=1)\n",
    "target5 = (31.31961,120.77058)\n",
    "merge_df['蘇州工業園'] = merge_df.apply(lambda x:how_far(target5,(x['lat'],x['lnt'])),axis=1)\n",
    "target6 = (31.32733,120.88654)\n",
    "merge_df['崑山'] = merge_df.apply(lambda x:how_far(target6,(x['lat'],x['lnt'])),axis=1)\n",
    "target7 = (31.9199,120.30443)\n",
    "merge_df['江陰'] = merge_df.apply(lambda x:how_far(target7,(x['lat'],x['lnt'])),axis=1)\n",
    "target8 = (31.66728,119.95946)\n",
    "merge_df['武進'] = merge_df.apply(lambda x:how_far(target8,(x['lat'],x['lnt'])),axis=1)\n",
    "target9 = (32.39439,119.90592)\n",
    "merge_df['泰州醫藥'] = merge_df.apply(lambda x:how_far(target9,(x['lat'],x['lnt'])),axis=1)\n",
    "target10 = (34.19027,117.18842)\n",
    "merge_df['徐州'] = merge_df.apply(lambda x:how_far(target10,(x['lat'],x['lnt'])),axis=1)\n",
    "merge_df = merge_df.merge(patent_count,left_on='name',right_on='申请人2',how='left')\n",
    "merge_df['專利數'].fillna(0,inplace=True)"
   ]
  },
  {
   "cell_type": "code",
   "execution_count": 6,
   "metadata": {},
   "outputs": [],
   "source": [
    "merge_df = pd.read_excel(r'E:\\paper\\清理結果-新\\江蘇_結果.xlsx',index_col=0)\n",
    "merge_df.fillna('',inplace=True)\n",
    "merge_df.drop('專利數',axis=1,inplace=True)\n",
    "target1 = (32.16916,118.70646)\n",
    "target2 = (31.29696,120.55688)\n",
    "target3 = (31.54877,120.35393)\n",
    "target4 = (31.83028,119.97137)\n",
    "target5 = (31.31961,120.77058)\n",
    "target6 = (31.32733,120.88654)\n",
    "target7 = (31.9199,120.30443)\n",
    "target8 = (31.66728,119.95946)\n",
    "target9 = (32.39439,119.90592)\n",
    "target10 = (34.19027,117.18842)\n",
    "\n",
    "for i in merge_df[merge_df['南京']==''].index:\n",
    "    merge_df.loc[i,'南京'] = how_far(target1,(merge_df.loc[i,'lat'],merge_df.loc[i,'lnt']))\n",
    "    merge_df.loc[i,'蘇州'] = how_far(target2,(merge_df.loc[i,'lat'],merge_df.loc[i,'lnt']))\n",
    "    merge_df.loc[i,'無錫'] = how_far(target3,(merge_df.loc[i,'lat'],merge_df.loc[i,'lnt']))\n",
    "    merge_df.loc[i,'常州'] = how_far(target4,(merge_df.loc[i,'lat'],merge_df.loc[i,'lnt']))\n",
    "    merge_df.loc[i,'蘇州工業園'] = how_far(target5,(merge_df.loc[i,'lat'],merge_df.loc[i,'lnt']))\n",
    "    merge_df.loc[i,'崑山'] = how_far(target6,(merge_df.loc[i,'lat'],merge_df.loc[i,'lnt']))\n",
    "    merge_df.loc[i,'江陰'] = how_far(target7,(merge_df.loc[i,'lat'],merge_df.loc[i,'lnt']))\n",
    "    merge_df.loc[i,'武進'] = how_far(target8,(merge_df.loc[i,'lat'],merge_df.loc[i,'lnt']))\n",
    "    merge_df.loc[i,'泰州醫藥'] = how_far(target9,(merge_df.loc[i,'lat'],merge_df.loc[i,'lnt']))\n",
    "    merge_df.loc[i,'徐州'] = how_far(target10,(merge_df.loc[i,'lat'],merge_df.loc[i,'lnt']))\n",
    "merge_df = merge_df.merge(patent_count,left_on='name',right_on='申请人2',how='left')\n",
    "merge_df['專利數'].fillna(0,inplace=True)"
   ]
  },
  {
   "cell_type": "code",
   "execution_count": 7,
   "metadata": {},
   "outputs": [],
   "source": [
    "merge_df['早期園區'] = merge_df.apply(lambda x:1 if ((x['南京']<10)or(x['蘇州']<10)or(x['無錫']<10)or(x['常州']<10)or(x['蘇州工業園']<10)) else 0,axis=1)\n",
    "merge_df['近期園區'] = merge_df.apply(lambda x:1 if ((x['崑山']<10)or(x['江陰']<10)or(x['武進']<10)or(x['泰州醫藥']<10)or(x['徐州']<10)) else 0,axis=1)"
   ]
  },
  {
   "cell_type": "code",
   "execution_count": 11,
   "metadata": {
    "scrolled": true
   },
   "outputs": [],
   "source": [
    "merge_df.to_excel(r'E:\\paper\\清理結果-新園區內外\\江蘇_結果.xlsx')"
   ]
  },
  {
   "cell_type": "code",
   "execution_count": 8,
   "metadata": {},
   "outputs": [
    {
     "name": "stdout",
     "output_type": "stream",
     "text": [
      "(52666, 62)\n",
      "0.6277864276762997\n",
      "0.007557057684274484\n"
     ]
    }
   ],
   "source": [
    "print(merge_df.shape)\n",
    "print(len(merge_df[merge_df['專利數']==0]['專利數'])/len(merge_df['專利數']))\n",
    "print(len(merge_df[merge_df['專利數']>=100]['專利數'])/len(merge_df['專利數']))"
   ]
  },
  {
   "cell_type": "code",
   "execution_count": 9,
   "metadata": {
    "collapsed": true
   },
   "outputs": [
    {
     "data": {
      "text/plain": [
       "專利數\n",
       "0.0       33063\n",
       "1.0        2658\n",
       "2.0        1829\n",
       "3.0        1242\n",
       "4.0        1035\n",
       "5.0         795\n",
       "6.0         838\n",
       "7.0         850\n",
       "8.0         821\n",
       "9.0         692\n",
       "10.0        688\n",
       "11.0        570\n",
       "12.0        543\n",
       "13.0        491\n",
       "14.0        477\n",
       "15.0        423\n",
       "16.0        351\n",
       "17.0        381\n",
       "18.0        328\n",
       "19.0        290\n",
       "20.0        291\n",
       "21.0        243\n",
       "22.0        201\n",
       "23.0        204\n",
       "24.0        179\n",
       "25.0        150\n",
       "26.0        154\n",
       "27.0        155\n",
       "28.0        141\n",
       "29.0        115\n",
       "30.0        101\n",
       "31.0        101\n",
       "32.0        100\n",
       "33.0         88\n",
       "34.0         82\n",
       "35.0         83\n",
       "36.0         91\n",
       "37.0         79\n",
       "38.0         70\n",
       "39.0         69\n",
       "40.0         53\n",
       "41.0         59\n",
       "42.0         47\n",
       "43.0         52\n",
       "44.0         32\n",
       "45.0         37\n",
       "46.0         45\n",
       "47.0         34\n",
       "48.0         31\n",
       "49.0         35\n",
       "50.0         35\n",
       "51.0         36\n",
       "52.0         33\n",
       "53.0         29\n",
       "54.0         32\n",
       "55.0         31\n",
       "56.0         28\n",
       "57.0         27\n",
       "58.0         27\n",
       "59.0         23\n",
       "60.0         14\n",
       "61.0         22\n",
       "62.0         24\n",
       "63.0         21\n",
       "64.0         14\n",
       "65.0         18\n",
       "66.0         18\n",
       "67.0         25\n",
       "68.0         20\n",
       "69.0         17\n",
       "70.0         12\n",
       "71.0         15\n",
       "72.0         12\n",
       "73.0         16\n",
       "74.0         16\n",
       "75.0         15\n",
       "76.0         11\n",
       "77.0          8\n",
       "78.0         11\n",
       "79.0          5\n",
       "80.0         13\n",
       "81.0          6\n",
       "82.0          6\n",
       "83.0         13\n",
       "84.0         13\n",
       "85.0         11\n",
       "86.0          7\n",
       "87.0         10\n",
       "88.0          5\n",
       "89.0          8\n",
       "90.0          5\n",
       "91.0         11\n",
       "92.0          5\n",
       "93.0         10\n",
       "94.0         11\n",
       "95.0          4\n",
       "96.0          5\n",
       "97.0          8\n",
       "98.0         10\n",
       "99.0          5\n",
       "100.0         5\n",
       "101.0         5\n",
       "102.0         6\n",
       "103.0         9\n",
       "104.0         4\n",
       "105.0         3\n",
       "106.0         7\n",
       "107.0         5\n",
       "108.0         5\n",
       "109.0         8\n",
       "110.0         7\n",
       "111.0         5\n",
       "112.0         8\n",
       "113.0         5\n",
       "114.0         6\n",
       "115.0         3\n",
       "116.0         5\n",
       "117.0         4\n",
       "118.0         2\n",
       "119.0         6\n",
       "120.0         3\n",
       "121.0         3\n",
       "122.0         1\n",
       "123.0         5\n",
       "124.0         3\n",
       "125.0         3\n",
       "126.0         2\n",
       "127.0         5\n",
       "128.0         2\n",
       "131.0         2\n",
       "132.0         2\n",
       "134.0         2\n",
       "135.0         1\n",
       "136.0         1\n",
       "137.0         3\n",
       "138.0         4\n",
       "139.0         2\n",
       "140.0         5\n",
       "141.0         4\n",
       "142.0         1\n",
       "143.0         2\n",
       "144.0         2\n",
       "145.0         3\n",
       "146.0         2\n",
       "147.0         3\n",
       "148.0         2\n",
       "149.0         6\n",
       "150.0         1\n",
       "151.0         1\n",
       "152.0         3\n",
       "154.0         3\n",
       "155.0         3\n",
       "156.0         1\n",
       "157.0         1\n",
       "158.0         2\n",
       "159.0         2\n",
       "161.0         4\n",
       "163.0         2\n",
       "164.0         1\n",
       "165.0         1\n",
       "166.0         1\n",
       "168.0         3\n",
       "169.0         1\n",
       "170.0         3\n",
       "171.0         1\n",
       "172.0         7\n",
       "175.0         1\n",
       "176.0         2\n",
       "178.0         1\n",
       "179.0         1\n",
       "180.0         1\n",
       "182.0         2\n",
       "183.0         2\n",
       "185.0         2\n",
       "186.0         2\n",
       "187.0         2\n",
       "189.0         3\n",
       "192.0         1\n",
       "193.0         1\n",
       "194.0         1\n",
       "197.0         1\n",
       "198.0         1\n",
       "200.0         1\n",
       "201.0         2\n",
       "202.0         1\n",
       "204.0         2\n",
       "205.0         2\n",
       "206.0         1\n",
       "207.0         2\n",
       "208.0         3\n",
       "210.0         2\n",
       "212.0         1\n",
       "215.0         1\n",
       "216.0         2\n",
       "217.0         2\n",
       "219.0         1\n",
       "221.0         1\n",
       "224.0         1\n",
       "226.0         2\n",
       "227.0         2\n",
       "231.0         2\n",
       "232.0         2\n",
       "233.0         1\n",
       "234.0         1\n",
       "235.0         2\n",
       "236.0         2\n",
       "237.0         1\n",
       "241.0         1\n",
       "244.0         1\n",
       "247.0         1\n",
       "248.0         1\n",
       "249.0         1\n",
       "251.0         2\n",
       "253.0         1\n",
       "255.0         2\n",
       "256.0         1\n",
       "259.0         1\n",
       "261.0         1\n",
       "262.0         1\n",
       "263.0         1\n",
       "265.0         1\n",
       "266.0         1\n",
       "268.0         2\n",
       "272.0         1\n",
       "273.0         1\n",
       "274.0         1\n",
       "276.0         1\n",
       "277.0         1\n",
       "278.0         1\n",
       "279.0         1\n",
       "281.0         1\n",
       "283.0         1\n",
       "284.0         1\n",
       "285.0         1\n",
       "288.0         1\n",
       "289.0         2\n",
       "291.0         2\n",
       "295.0         1\n",
       "301.0         1\n",
       "307.0         1\n",
       "312.0         1\n",
       "314.0         1\n",
       "316.0         1\n",
       "318.0         1\n",
       "320.0         1\n",
       "321.0         1\n",
       "323.0         1\n",
       "326.0         1\n",
       "331.0         1\n",
       "340.0         1\n",
       "350.0         1\n",
       "353.0         1\n",
       "355.0         2\n",
       "364.0         1\n",
       "368.0         1\n",
       "370.0         1\n",
       "372.0         1\n",
       "374.0         2\n",
       "379.0         1\n",
       "381.0         1\n",
       "382.0         1\n",
       "386.0         1\n",
       "390.0         1\n",
       "395.0         1\n",
       "416.0         1\n",
       "420.0         1\n",
       "428.0         1\n",
       "430.0         2\n",
       "433.0         1\n",
       "436.0         1\n",
       "464.0         1\n",
       "473.0         1\n",
       "474.0         1\n",
       "481.0         1\n",
       "490.0         1\n",
       "496.0         1\n",
       "507.0         1\n",
       "508.0         1\n",
       "509.0         1\n",
       "512.0         1\n",
       "549.0         1\n",
       "556.0         1\n",
       "557.0         1\n",
       "559.0         1\n",
       "565.0         1\n",
       "571.0         1\n",
       "584.0         1\n",
       "599.0         1\n",
       "608.0         1\n",
       "649.0         1\n",
       "662.0         1\n",
       "675.0         1\n",
       "694.0         1\n",
       "695.0         1\n",
       "711.0         1\n",
       "719.0         1\n",
       "758.0         1\n",
       "759.0         1\n",
       "761.0         1\n",
       "764.0         1\n",
       "824.0         1\n",
       "850.0         1\n",
       "864.0         1\n",
       "901.0         1\n",
       "1072.0        1\n",
       "1425.0        1\n",
       "1428.0        1\n",
       "1469.0        1\n",
       "2443.0        1\n",
       "8373.0        1\n",
       "Name: IPC, dtype: int64"
      ]
     },
     "execution_count": 9,
     "metadata": {},
     "output_type": "execute_result"
    }
   ],
   "source": [
    "merge_df.groupby('專利數')['IPC'].count()"
   ]
  },
  {
   "cell_type": "code",
   "execution_count": 10,
   "metadata": {
    "collapsed": true
   },
   "outputs": [
    {
     "data": {
      "text/plain": [
       "專利數\n",
       "0.0      707\n",
       "1.0       31\n",
       "2.0       15\n",
       "3.0       11\n",
       "4.0       12\n",
       "5.0        9\n",
       "6.0        8\n",
       "7.0       12\n",
       "8.0        8\n",
       "9.0        6\n",
       "10.0       3\n",
       "11.0       5\n",
       "12.0       3\n",
       "13.0       4\n",
       "14.0       4\n",
       "15.0       3\n",
       "16.0       2\n",
       "17.0       1\n",
       "18.0       3\n",
       "20.0       2\n",
       "21.0       2\n",
       "22.0       2\n",
       "26.0       1\n",
       "27.0       1\n",
       "28.0       4\n",
       "39.0       1\n",
       "44.0       1\n",
       "48.0       1\n",
       "49.0       1\n",
       "52.0       1\n",
       "74.0       1\n",
       "83.0       1\n",
       "100.0      1\n",
       "205.0      1\n",
       "Name: IPC, dtype: int64"
      ]
     },
     "execution_count": 10,
     "metadata": {},
     "output_type": "execute_result"
    }
   ],
   "source": [
    "merge_df[merge_df['lat']==''].groupby('專利數')['IPC'].count()"
   ]
  },
  {
   "cell_type": "code",
   "execution_count": 6,
   "metadata": {},
   "outputs": [
    {
     "data": {
      "text/plain": [
       "Text(0, 0.5, '無法定位廠商數量')"
      ]
     },
     "execution_count": 6,
     "metadata": {},
     "output_type": "execute_result"
    },
    {
     "data": {
      "image/png": "[encoded data removed]",
      "text/plain": [
       "<Figure size 432x288 with 2 Axes>"
      ]
     },
     "metadata": {
      "needs_background": "light"
     },
     "output_type": "display_data"
    }
   ],
   "source": [
    "from matplotlib.font_manager import FontProperties\n",
    "myfont = FontProperties(fname=r'C:\\Windows\\Fonts\\msjhbd.ttc')\n",
    "fig = plt.figure()\n",
    "ax1 = fig.add_subplot(111)\n",
    "ax1.plot(merge_df[merge_df['lat']!=0].groupby('專利數')['IPC'].count().index,merge_df[merge_df['lat']!=0].groupby('專利數')['IPC'].count())\n",
    "ax1.set_title('江蘇',fontproperties=myfont,fontsize=15)\n",
    "ax1.set_ylabel('廠商數量',fontproperties=myfont)\n",
    "ax1.set_xlabel('專利數量',fontproperties=myfont)\n",
    "ax1.set_xlim([0,100])\n",
    "ax1.set_ylim([0,2800])\n",
    "ax2 = ax1.twinx()\n",
    "ax2.bar(merge_df[merge_df['lat']==''].groupby('專利數')['IPC'].count().index,merge_df[merge_df['lat']==''].groupby('專利數')['IPC'].count(),color='red')\n",
    "ax2.set_ylim([0,35])\n",
    "ax2.set_ylabel('無法定位廠商數量',fontproperties=myfont)\n"
   ]
  },
  {
   "cell_type": "code",
   "execution_count": 2,
   "metadata": {},
   "outputs": [
    {
     "name": "stdout",
     "output_type": "stream",
     "text": [
      "7827\n",
      "0.1537781445243428\n",
      "163\n"
     ]
    }
   ],
   "source": [
    "region = pd.read_excel(r'E:\\paper\\清理結果-新園區內外\\江蘇_結果.xlsx',index_col=0)\n",
    "region.fillna('',inplace=True)\n",
    "corptype = ['有限','公司','责任','集团','股份','控股','总公司','分公司']\n",
    "region['name_clean'] = region['name']\n",
    "for k in corptype:\n",
    "    region['name_clean'] = region['name_clean'].map(lambda x:re.sub(k,'',x))\n",
    "region['name_clean'] = region['name_clean'].map(lambda x:re.sub(r'\\(.*?\\)','',x))\n",
    "region['name_clean'] = region['name_clean'].map(lambda x:re.sub(r'\\（.*?\\）','',x))\n",
    "region['name_clean'] = region['name_clean'].map(lambda x:re.sub(r'[\\s+-─]','',x))\n",
    "clean = region[region.duplicated(['name_clean'],keep=False)].sort_values(by=['企業名稱'])\n",
    "patents = clean.groupby('name_clean')['專利數'].sum()\n",
    "final = clean.drop('專利數',axis=1).merge(patents,left_on='name_clean',right_on='name_clean',how='left')\n",
    "final.drop_duplicates(['name_clean'],keep='last',inplace=True)\n",
    "region.drop_duplicates(['name_clean'],keep=False,inplace=True)\n",
    "cleaned = pd.concat([region,final],ignore_index=True,sort=False)\n",
    "located = cleaned[cleaned['lat']!='']\n",
    "not_merge = located[located['企業名稱']=='']\n",
    "print(len(not_merge['專利數']))\n",
    "print(len(not_merge['專利數'])/len(located['專利數']))\n",
    "print(len(not_merge[not_merge['專利數']>100]['專利數']))"
   ]
  },
  {
   "cell_type": "code",
   "execution_count": 3,
   "metadata": {},
   "outputs": [
    {
     "data": {
      "text/plain": [
       "專利數\n",
       "1       1329\n",
       "2        952\n",
       "3        641\n",
       "4        556\n",
       "5        351\n",
       "6        342\n",
       "7        348\n",
       "8        259\n",
       "9        250\n",
       "10       200\n",
       "11       212\n",
       "12       167\n",
       "13       171\n",
       "14       158\n",
       "15       121\n",
       "16       111\n",
       "17       139\n",
       "18       107\n",
       "19        79\n",
       "20        79\n",
       "21        64\n",
       "22        60\n",
       "23        65\n",
       "24        55\n",
       "25        39\n",
       "26        52\n",
       "27        42\n",
       "28        37\n",
       "29        27\n",
       "30        28\n",
       "31        28\n",
       "32        33\n",
       "33        24\n",
       "34        25\n",
       "35        16\n",
       "36        29\n",
       "37        21\n",
       "38        31\n",
       "39        21\n",
       "40        21\n",
       "41        21\n",
       "42        10\n",
       "43        21\n",
       "44         7\n",
       "45         9\n",
       "46        15\n",
       "47        16\n",
       "48         6\n",
       "49        12\n",
       "50        11\n",
       "51        13\n",
       "52        12\n",
       "53        10\n",
       "54        11\n",
       "55        13\n",
       "56        12\n",
       "57        11\n",
       "58        11\n",
       "59        10\n",
       "60         3\n",
       "61         7\n",
       "62         2\n",
       "63         7\n",
       "64         4\n",
       "65         2\n",
       "66         3\n",
       "67         8\n",
       "68         6\n",
       "69         5\n",
       "70         4\n",
       "71         4\n",
       "72         8\n",
       "73         5\n",
       "74         6\n",
       "75         3\n",
       "76         6\n",
       "77         1\n",
       "78         2\n",
       "79         1\n",
       "80         6\n",
       "81         1\n",
       "82         1\n",
       "83         6\n",
       "84         2\n",
       "85         2\n",
       "86         3\n",
       "87         4\n",
       "89         2\n",
       "90         3\n",
       "91         3\n",
       "92         1\n",
       "93         3\n",
       "94         4\n",
       "95         2\n",
       "96         2\n",
       "97         4\n",
       "98         4\n",
       "99         1\n",
       "100        2\n",
       "101        2\n",
       "102        1\n",
       "103        4\n",
       "104        2\n",
       "105        1\n",
       "106        3\n",
       "107        2\n",
       "108        2\n",
       "109        3\n",
       "110        3\n",
       "111        2\n",
       "112        4\n",
       "113        4\n",
       "114        5\n",
       "116        1\n",
       "117        1\n",
       "118        1\n",
       "121        1\n",
       "123        3\n",
       "124        2\n",
       "125        3\n",
       "127        2\n",
       "128        2\n",
       "131        2\n",
       "132        1\n",
       "134        2\n",
       "136        1\n",
       "137        3\n",
       "138        1\n",
       "139        2\n",
       "140        1\n",
       "141        1\n",
       "144        1\n",
       "145        1\n",
       "147        2\n",
       "148        1\n",
       "149        1\n",
       "154        3\n",
       "155        3\n",
       "159        1\n",
       "161        2\n",
       "163        1\n",
       "166        1\n",
       "168        1\n",
       "169        1\n",
       "172        2\n",
       "175        1\n",
       "176        1\n",
       "182        1\n",
       "183        1\n",
       "185        2\n",
       "189        1\n",
       "193        1\n",
       "194        1\n",
       "197        1\n",
       "198        1\n",
       "201        1\n",
       "204        1\n",
       "205        1\n",
       "207        1\n",
       "208        2\n",
       "210        1\n",
       "212        1\n",
       "215        1\n",
       "216        1\n",
       "224        1\n",
       "227        2\n",
       "231        2\n",
       "233        1\n",
       "236        2\n",
       "249        1\n",
       "255        1\n",
       "261        1\n",
       "262        1\n",
       "263        1\n",
       "266        1\n",
       "268        1\n",
       "272        1\n",
       "273        1\n",
       "276        1\n",
       "277        1\n",
       "279        1\n",
       "285        1\n",
       "288        1\n",
       "289        1\n",
       "291        2\n",
       "292        1\n",
       "295        1\n",
       "314        1\n",
       "320        1\n",
       "321        1\n",
       "355        1\n",
       "372        1\n",
       "374        1\n",
       "382        1\n",
       "390        1\n",
       "395        1\n",
       "416        1\n",
       "430        1\n",
       "464        1\n",
       "473        1\n",
       "490        1\n",
       "508        1\n",
       "509        1\n",
       "549        1\n",
       "560        1\n",
       "565        1\n",
       "571        1\n",
       "693        1\n",
       "782        1\n",
       "850        1\n",
       "901        1\n",
       "1425       1\n",
       "1469       1\n",
       "Name: IPC, dtype: int64"
      ]
     },
     "execution_count": 3,
     "metadata": {},
     "output_type": "execute_result"
    }
   ],
   "source": [
    "not_merge.groupby('專利數')['IPC'].count()"
   ]
  },
  {
   "cell_type": "code",
   "execution_count": 4,
   "metadata": {},
   "outputs": [
    {
     "data": {
      "text/html": [
       "<div>\n",
       "<style scoped>\n",
       "    .dataframe tbody tr th:only-of-type {\n",
       "        vertical-align: middle;\n",
       "    }\n",
       "\n",
       "    .dataframe tbody tr th {\n",
       "        vertical-align: top;\n",
       "    }\n",
       "\n",
       "    .dataframe thead th {\n",
       "        text-align: right;\n",
       "    }\n",
       "</style>\n",
       "<table border=\"1\" class=\"dataframe\">\n",
       "  <thead>\n",
       "    <tr style=\"text-align: right;\">\n",
       "      <th></th>\n",
       "      <th>法人代碼</th>\n",
       "      <th>企業名稱</th>\n",
       "      <th>地址</th>\n",
       "      <th>區域代碼</th>\n",
       "      <th>行業代碼</th>\n",
       "      <th>區域代碼_str</th>\n",
       "      <th>CPC</th>\n",
       "      <th>IPC</th>\n",
       "      <th>inpadoc同族</th>\n",
       "      <th>inpadoc同族个数</th>\n",
       "      <th>专利寿命（月）</th>\n",
       "      <th>专利类型</th>\n",
       "      <th>中国申请人区县</th>\n",
       "      <th>中国申请人地市</th>\n",
       "      <th>优先权信息</th>\n",
       "      <th>公开国别</th>\n",
       "      <th>公开（公告）号</th>\n",
       "      <th>公开（公告）日</th>\n",
       "      <th>发明人</th>\n",
       "      <th>合享价值度</th>\n",
       "      <th>同族国家</th>\n",
       "      <th>失效日</th>\n",
       "      <th>序号</th>\n",
       "      <th>引证专利</th>\n",
       "      <th>引证科技文献</th>\n",
       "      <th>...</th>\n",
       "      <th>简单同族个数</th>\n",
       "      <th>被引证专利</th>\n",
       "      <th>被引证国别(forward)</th>\n",
       "      <th>被引证次数</th>\n",
       "      <th>链接到incoPat</th>\n",
       "      <th>申请人</th>\n",
       "      <th>name</th>\n",
       "      <th>address</th>\n",
       "      <th>完整地址</th>\n",
       "      <th>lat</th>\n",
       "      <th>lnt</th>\n",
       "      <th>南京</th>\n",
       "      <th>蘇州</th>\n",
       "      <th>無錫</th>\n",
       "      <th>常州</th>\n",
       "      <th>蘇州工業園</th>\n",
       "      <th>崑山</th>\n",
       "      <th>江陰</th>\n",
       "      <th>武進</th>\n",
       "      <th>泰州醫藥</th>\n",
       "      <th>徐州</th>\n",
       "      <th>早期園區</th>\n",
       "      <th>近期園區</th>\n",
       "      <th>專利數</th>\n",
       "      <th>name_clean</th>\n",
       "    </tr>\n",
       "  </thead>\n",
       "  <tbody>\n",
       "    <tr>\n",
       "      <td>50816</td>\n",
       "      <td></td>\n",
       "      <td></td>\n",
       "      <td></td>\n",
       "      <td></td>\n",
       "      <td></td>\n",
       "      <td></td>\n",
       "      <td></td>\n",
       "      <td>B66C23/88; B66C13/54</td>\n",
       "      <td>CN103010984A; CN103010984B</td>\n",
       "      <td>2</td>\n",
       "      <td>60</td>\n",
       "      <td>发明授权</td>\n",
       "      <td>[铜山]</td>\n",
       "      <td>[徐州]</td>\n",
       "      <td></td>\n",
       "      <td>CN</td>\n",
       "      <td>CN103010984B</td>\n",
       "      <td>2015-09-16 00:00:00</td>\n",
       "      <td>米成宏; 马承杰; 徐春风</td>\n",
       "      <td>5</td>\n",
       "      <td>CN</td>\n",
       "      <td>2017-12-28 00:00:00</td>\n",
       "      <td>10227</td>\n",
       "      <td>CN203079600U; CN87206226U; JP2010174445A; CN201723032U; CN202509905U; CN202031411U; JP2005314974A</td>\n",
       "      <td></td>\n",
       "      <td>...</td>\n",
       "      <td>2</td>\n",
       "      <td></td>\n",
       "      <td></td>\n",
       "      <td>0</td>\n",
       "      <td>到incoPat中查看\\r\\nCN103010984B</td>\n",
       "      <td>徐州重型机械有限公司</td>\n",
       "      <td>徐州重型机械有限公司</td>\n",
       "      <td>江苏省徐州市铜山路165号</td>\n",
       "      <td>1</td>\n",
       "      <td>34.2631</td>\n",
       "      <td>117.238</td>\n",
       "      <td>269.589607</td>\n",
       "      <td>452.602191</td>\n",
       "      <td>419.011474</td>\n",
       "      <td>371.448566</td>\n",
       "      <td>464.778947</td>\n",
       "      <td>471.968456</td>\n",
       "      <td>386.621790</td>\n",
       "      <td>384.191412</td>\n",
       "      <td>323.512570</td>\n",
       "      <td>9.258260</td>\n",
       "      <td>0</td>\n",
       "      <td>1</td>\n",
       "      <td>1425</td>\n",
       "      <td>徐州重型机械</td>\n",
       "    </tr>\n",
       "    <tr>\n",
       "      <td>50848</td>\n",
       "      <td></td>\n",
       "      <td></td>\n",
       "      <td></td>\n",
       "      <td></td>\n",
       "      <td></td>\n",
       "      <td></td>\n",
       "      <td></td>\n",
       "      <td>B25B1/00; B25B1/16</td>\n",
       "      <td>CN103894942B; CN103894942A</td>\n",
       "      <td>2</td>\n",
       "      <td></td>\n",
       "      <td>发明授权</td>\n",
       "      <td>[平江]</td>\n",
       "      <td>[苏州]</td>\n",
       "      <td></td>\n",
       "      <td>CN</td>\n",
       "      <td>CN103894942B</td>\n",
       "      <td>2016-08-24 00:00:00</td>\n",
       "      <td>吉绍山; 陈国军; 程东华</td>\n",
       "      <td>8</td>\n",
       "      <td>CN</td>\n",
       "      <td></td>\n",
       "      <td>2810</td>\n",
       "      <td>US1430260A; US2892369A; CN2832429Y; CN2810939Y; CN201158009Y; CN101462257A; CN2193232Y; US1799526A; GB195618A</td>\n",
       "      <td></td>\n",
       "      <td>...</td>\n",
       "      <td>2</td>\n",
       "      <td></td>\n",
       "      <td></td>\n",
       "      <td>0</td>\n",
       "      <td>到incoPat中查看\\r\\nCN103894942B</td>\n",
       "      <td>苏州宝时得电动工具有限公司</td>\n",
       "      <td>苏州宝时得电动工具有限公司</td>\n",
       "      <td>江苏省苏州市工业园区东旺路18号</td>\n",
       "      <td>1</td>\n",
       "      <td>31.3196</td>\n",
       "      <td>120.771</td>\n",
       "      <td>217.081516</td>\n",
       "      <td>20.498346</td>\n",
       "      <td>47.059499</td>\n",
       "      <td>94.666496</td>\n",
       "      <td>0.000723</td>\n",
       "      <td>11.069652</td>\n",
       "      <td>79.914984</td>\n",
       "      <td>86.167375</td>\n",
       "      <td>144.564237</td>\n",
       "      <td>462.572261</td>\n",
       "      <td>1</td>\n",
       "      <td>0</td>\n",
       "      <td>1469</td>\n",
       "      <td>苏州宝时得电动工具</td>\n",
       "    </tr>\n",
       "  </tbody>\n",
       "</table>\n",
       "<p>2 rows × 63 columns</p>\n",
       "</div>"
      ],
      "text/plain": [
       "      法人代碼 企業名稱 地址 區域代碼 行業代碼 區域代碼_str CPC                   IPC  \\\n",
       "50816                                      B66C23/88; B66C13/54   \n",
       "50848                                        B25B1/00; B25B1/16   \n",
       "\n",
       "                        inpadoc同族 inpadoc同族个数 专利寿命（月）  专利类型 中国申请人区县 中国申请人地市  \\\n",
       "50816  CN103010984A; CN103010984B           2      60  发明授权    [铜山]    [徐州]   \n",
       "50848  CN103894942B; CN103894942A           2          发明授权    [平江]    [苏州]   \n",
       "\n",
       "      优先权信息 公开国别       公开（公告）号              公开（公告）日            发明人 合享价值度 同族国家  \\\n",
       "50816         CN  CN103010984B  2015-09-16 00:00:00  米成宏; 马承杰; 徐春风     5   CN   \n",
       "50848         CN  CN103894942B  2016-08-24 00:00:00  吉绍山; 陈国军; 程东华     8   CN   \n",
       "\n",
       "                       失效日     序号  \\\n",
       "50816  2017-12-28 00:00:00  10227   \n",
       "50848                        2810   \n",
       "\n",
       "                                                                                                                引证专利  \\\n",
       "50816              CN203079600U; CN87206226U; JP2010174445A; CN201723032U; CN202509905U; CN202031411U; JP2005314974A   \n",
       "50848  US1430260A; US2892369A; CN2832429Y; CN2810939Y; CN201158009Y; CN101462257A; CN2193232Y; US1799526A; GB195618A   \n",
       "\n",
       "      引证科技文献  ... 简单同族个数 被引证专利 被引证国别(forward) 被引证次数  \\\n",
       "50816         ...      2                          0   \n",
       "50848         ...      2                          0   \n",
       "\n",
       "                        链接到incoPat            申请人           name  \\\n",
       "50816  到incoPat中查看\\r\\nCN103010984B     徐州重型机械有限公司     徐州重型机械有限公司   \n",
       "50848  到incoPat中查看\\r\\nCN103894942B  苏州宝时得电动工具有限公司  苏州宝时得电动工具有限公司   \n",
       "\n",
       "                address 完整地址      lat      lnt          南京          蘇州  \\\n",
       "50816     江苏省徐州市铜山路165号    1  34.2631  117.238  269.589607  452.602191   \n",
       "50848  江苏省苏州市工业园区东旺路18号    1  31.3196  120.771  217.081516   20.498346   \n",
       "\n",
       "               無錫          常州       蘇州工業園          崑山          江陰          武進  \\\n",
       "50816  419.011474  371.448566  464.778947  471.968456  386.621790  384.191412   \n",
       "50848   47.059499   94.666496    0.000723   11.069652   79.914984   86.167375   \n",
       "\n",
       "             泰州醫藥          徐州  早期園區 近期園區   專利數  name_clean  \n",
       "50816  323.512570    9.258260     0    1  1425      徐州重型机械  \n",
       "50848  144.564237  462.572261     1    0  1469   苏州宝时得电动工具  \n",
       "\n",
       "[2 rows x 63 columns]"
      ]
     },
     "execution_count": 4,
     "metadata": {},
     "output_type": "execute_result"
    }
   ],
   "source": [
    "not_merge[not_merge['專利數']>=1000].sort_values('專利數')"
   ]
  },
  {
   "cell_type": "code",
   "execution_count": 7,
   "metadata": {},
   "outputs": [
    {
     "data": {
      "text/plain": [
       "Text(0.5, 0, '專利數量')"
      ]
     },
     "execution_count": 7,
     "metadata": {},
     "output_type": "execute_result"
    },
    {
     "data": {
      "image/png": "[encoded data removed]",
      "text/plain": [
       "<Figure size 432x288 with 1 Axes>"
      ]
     },
     "metadata": {
      "needs_background": "light"
     },
     "output_type": "display_data"
    }
   ],
   "source": [
    "from matplotlib.font_manager import FontProperties\n",
    "myfont = FontProperties(fname=r'C:\\Windows\\Fonts\\msjhbd.ttc')\n",
    "fig = plt.figure()\n",
    "ax1 = fig.add_subplot(111)\n",
    "ax1.plot(not_merge.groupby('專利數')['IPC'].count().index,not_merge.groupby('專利數')['IPC'].count())\n",
    "ax1.set_title('江蘇',fontproperties=myfont,fontsize=15)\n",
    "ax1.set_xlim([0,100])\n",
    "ax1.set_ylabel('廠商數量',fontproperties=myfont)\n",
    "ax1.set_xlabel('專利數量',fontproperties=myfont)"
   ]
  },
  {
   "cell_type": "code",
   "execution_count": 5,
   "metadata": {},
   "outputs": [],
   "source": [
    "cleaned.to_excel(r'E:\\paper\\名稱merge\\江蘇_結果.xlsx')"
   ]
  },
  {
   "cell_type": "code",
   "execution_count": 9,
   "metadata": {},
   "outputs": [
    {
     "data": {
      "text/plain": [
       "<matplotlib.legend.Legend at 0x1b3701510c8>"
      ]
     },
     "execution_count": 9,
     "metadata": {},
     "output_type": "execute_result"
    },
    {
     "data": {
      "image/png": "[encoded data removed]",
      "text/plain": [
       "<Figure size 360x360 with 1 Axes>"
      ]
     },
     "metadata": {
      "needs_background": "light"
     },
     "output_type": "display_data"
    }
   ],
   "source": [
    "from matplotlib.font_manager import FontProperties\n",
    "myfont = FontProperties(fname=r'C:\\Windows\\Fonts\\msjhbd.ttc')\n",
    "fig = plt.figure(figsize = (5,5))\n",
    "ax1 = fig.add_subplot(111)\n",
    "ax1.set_ylabel('Patent Counts')\n",
    "bar1 = ax1.bar(1,merge_df[merge_df['早期園區']==1]['專利數'].sum(),alpha=0.7,width=0.35,color='r',label='早期園區')\n",
    "bar2 = ax1.bar(1+0.35,merge_df[merge_df['近期園區']==1]['專利數'].sum(),alpha=0.7,width=0.35,color='b',label='近期園區')\n",
    "bar3 = ax1.bar(1+0.7,merge_df[(merge_df['近期園區']==0)&(merge_df['早期園區']==0)]['專利數'].sum(),alpha=0.7,width=0.35,color='k',label='園區外')\n",
    "\n",
    "plt.text(1, merge_df[merge_df['早期園區']==1]['專利數'].sum(), '%.0f' % merge_df[merge_df['早期園區']==1]['專利數'].sum(), ha='center', va= 'bottom',fontsize=12)  \n",
    "plt.text(1.35, merge_df[merge_df['近期園區']==1]['專利數'].sum(), '%.0f' % merge_df[merge_df['近期園區']==1]['專利數'].sum(), ha='center', va= 'bottom',fontsize=12)  \n",
    "plt.text(1.7, merge_df[(merge_df['近期園區']==0)&(merge_df['早期園區']==0)]['專利數'].sum(), '%.0f' % merge_df[(merge_df['近期園區']==0)&(merge_df['早期園區']==0)]['專利數'].sum(), ha='center', va= 'bottom',fontsize=12)  \n",
    "\n",
    "plt.title('江蘇',fontproperties=myfont,fontsize=20)\n",
    "plt.xticks([0.75,1,2],['','',''],fontproperties=myfont)\n",
    "plt.legend(handles = [bar1,bar2,bar3], loc='upper left',prop=myfont)"
   ]
  },
  {
   "cell_type": "code",
   "execution_count": 10,
   "metadata": {},
   "outputs": [
    {
     "data": {
      "text/plain": [
       "<matplotlib.legend.Legend at 0x1b37059a948>"
      ]
     },
     "execution_count": 10,
     "metadata": {},
     "output_type": "execute_result"
    },
    {
     "data": {
      "image/png": "[encoded data removed]",
      "text/plain": [
       "<Figure size 360x360 with 1 Axes>"
      ]
     },
     "metadata": {
      "needs_background": "light"
     },
     "output_type": "display_data"
    }
   ],
   "source": [
    "fig = plt.figure(figsize = (5,5))\n",
    "ax1 = fig.add_subplot(111)\n",
    "ax1.set_ylabel('Patent Counts/Firms ')\n",
    "bar1 = ax1.bar(1,merge_df[merge_df['早期園區']==1]['專利數'].sum()/merge_df[merge_df['早期園區']==1]['專利數'].count(),alpha=0.7,width=0.35,color='r',label='早期園區')\n",
    "bar2 = ax1.bar(1+0.35,merge_df[merge_df['近期園區']==1]['專利數'].sum()/merge_df[merge_df['近期園區']==1]['專利數'].count(),alpha=0.7,width=0.35,color='b',label='近期園區')\n",
    "bar3 = ax1.bar(1+0.7,merge_df[(merge_df['近期園區']==0)&(merge_df['早期園區']==0)]['專利數'].sum()/merge_df[(merge_df['近期園區']==0)&(merge_df['早期園區']==0)]['專利數'].count(),alpha=0.7,width=0.35,color='k',label='園區外')\n",
    "\n",
    "plt.text(1, (merge_df[merge_df['早期園區']==1]['專利數'].sum()/merge_df[merge_df['早期園區']==1]['專利數'].count()), '%.2f' % (merge_df[merge_df['早期園區']==1]['專利數'].sum()/merge_df[merge_df['早期園區']==1]['專利數'].count()), ha='center', va= 'bottom',fontsize=12)  \n",
    "plt.text(1.35, (merge_df[merge_df['近期園區']==1]['專利數'].sum()/merge_df[merge_df['近期園區']==1]['專利數'].count()), '%.2f' % (merge_df[merge_df['近期園區']==1]['專利數'].sum()/merge_df[merge_df['近期園區']==1]['專利數'].count()), ha='center', va= 'bottom',fontsize=12)  \n",
    "plt.text(1.7, (merge_df[(merge_df['近期園區']==0)&(merge_df['早期園區']==0)]['專利數'].sum()/merge_df[(merge_df['近期園區']==0)&(merge_df['早期園區']==0)]['專利數'].count()), '%.0f' % (merge_df[(merge_df['近期園區']==0)&(merge_df['早期園區']==0)]['專利數'].sum()/merge_df[(merge_df['近期園區']==0)&(merge_df['早期園區']==0)]['專利數'].count()), ha='center', va= 'bottom',fontsize=12)  \n",
    "\n",
    "plt.title('江蘇',fontproperties=myfont,fontsize=20)\n",
    "plt.xticks([0.75,1,2],['','',''],fontproperties=myfont)\n",
    "plt.legend(handles = [bar1,bar2,bar3], loc='upper right',prop=myfont)"
   ]
  },
  {
   "cell_type": "code",
   "execution_count": null,
   "metadata": {},
   "outputs": [],
   "source": []
  }
 ],
 "metadata": {
  "kernelspec": {
   "display_name": "Python 3",
   "language": "python",
   "name": "python3"
  },
  "language_info": {
   "codemirror_mode": {
    "name": "ipython",
    "version": 3
   },
   "file_extension": ".py",
   "mimetype": "text/x-python",
   "name": "python",
   "nbconvert_exporter": "python",
   "pygments_lexer": "ipython3",
   "version": "3.7.4"
  }
 },
 "nbformat": 4,
 "nbformat_minor": 2
}
