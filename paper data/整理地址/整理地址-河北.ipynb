{
 "cells": [
  {
   "cell_type": "code",
   "execution_count": 1,
   "metadata": {},
   "outputs": [],
   "source": [
    "import pandas as pd\n",
    "import numpy as np\n",
    "import matplotlib.pyplot as plt\n",
    "import re\n",
    "import time\n",
    "import datetime\n",
    "import geocoder\n",
    "pd.set_option('display.max_rows',500)\n",
    "pd.set_option('display.max_columns',50)\n",
    "pd.set_option('max_colwidth',200)\n",
    "%matplotlib inline\n",
    "import requests\n",
    "import json\n",
    "import urllib\n",
    "from urllib.request import urlopen\n",
    "\n",
    "def getGeoForAddress(address):\n",
    "    add = urllib.parse.quote(address)\n",
    "    addressUrl = \"https://maps.googleapis.com/maps/api/geocode/json?address=\" + add + '&key='\n",
    "    res = requests.get(addressUrl)\n",
    "    js = json.loads(res.text)\n",
    "    if js.get('results'):\n",
    "        lat = js.get('results')[0]['geometry']['location']['lat']\n",
    "        lng = js.get('results')[0]['geometry']['location']['lng']\n",
    "    else:\n",
    "        lat = ''\n",
    "        lng = ''\n",
    "    return [lat, lng]\n",
    "def ngram(text, n=3, pad=True):\n",
    "    text = text.strip()\n",
    "    if pad:\n",
    "        text = \" %s \" % text\n",
    "    return set([text[i:i+n] for i in range(len(text)-n+1)])\n",
    "    \n",
    "def create_ngram(text1, text2, n=3, pad=True):\n",
    "    return ngram(text1, n=n, pad=pad), ngram(text2, n=n, pad=pad)\n",
    "\n",
    "def tversky_index(text1, text2, a=None, b=None, q=3, pad=True):\n",
    "    text1, text2 = create_ngram(text1, text2, n=q, pad=pad)\n",
    "    agree_tot = len(text1.intersection(text2))\n",
    "    v1 = len(text1) - agree_tot\n",
    "    v2 = len(text2) - agree_tot\n",
    "    \n",
    "    if a != None and b != None:\n",
    "        a = a/float(a+b)\n",
    "        b = b/float(a+b)\n",
    "    elif a <= 1.0 and a >= 0.0:\n",
    "        b = 1-a\n",
    "    elif b <= 1.0 and b >= 0.0:\n",
    "        a = 1-b\n",
    "    else:\n",
    "        a = 0.5\n",
    "        b = 0.5        \n",
    "    return float(agree_tot)/(agree_tot+a*v1+b*v2)\n",
    "# incoPat為申請人list\n",
    "def fuzzy(incoPat,indus):\n",
    "    corptype = ['有限','公司','责任','集团','股份','控股']\n",
    "    text1 = incoPat\n",
    "    text2 = indus\n",
    "    incoPat_nor = []   \n",
    "    for text in text1:\n",
    "        for i in corptype:\n",
    "            if i in text:\n",
    "                text = re.sub(i,'',text)\n",
    "        incoPat_nor.append(text)\n",
    "    for i in corptype:\n",
    "        if i in text2:\n",
    "            text2 = re.sub(i,'',text2)\n",
    "    similar = []\n",
    "    for text in incoPat_nor:\n",
    "        dice = tversky_index(text,text2, a=0.5, q=min(2,len(text),len(text2)), pad=False)\n",
    "        if dice>0.7:\n",
    "            similar.append([incoPat[incoPat_nor.index(text)],dice])\n",
    "        else:\n",
    "            pass\n",
    "    if len(similar)>0:\n",
    "        return similar[[k[1] for k in similar].index(max([i[1] for i in similar]))][0]\n",
    "    else:\n",
    "        return indus\n",
    "city_code = pd.read_excel('C:/Users/user/Dropbox/paper/科技園區/China/省地縣碼對照.xls')\n",
    "city_code = city_code[~city_code['代碼'].isnull()].drop(['标注','说明'],axis=1)\n",
    "city_code['代碼_str'] = city_code['代碼'].apply(lambda x:str(int(x)))\n",
    "city_code = city_code.drop('代碼',axis=1)"
   ]
  },
  {
   "cell_type": "markdown",
   "metadata": {},
   "source": [
    "# 河北資料整合"
   ]
  },
  {
   "cell_type": "code",
   "execution_count": 2,
   "metadata": {},
   "outputs": [],
   "source": [
    "df1 = pd.read_excel(r'E:\\paper\\專利資料-新型&授權\\新型授權-河北1.xls')\n",
    "df2 = pd.read_excel(r'E:\\paper\\專利資料-新型&授權\\新型授權-河北2.xls')\n",
    "df3 = pd.read_excel(r'E:\\paper\\專利資料-新型&授權\\新型授權-河北3.xls')\n",
    "patent_df = pd.concat([df1,df2,df3],ignore_index=True)"
   ]
  },
  {
   "cell_type": "code",
   "execution_count": 3,
   "metadata": {},
   "outputs": [
    {
     "name": "stderr",
     "output_type": "stream",
     "text": [
      "D:\\Anaconda\\lib\\site-packages\\IPython\\core\\interactiveshell.py:3058: DtypeWarning: Columns (0,3,16) have mixed types. Specify dtype option on import or set low_memory=False.\n",
      "  interactivity=interactivity, compiler=compiler, result=result)\n"
     ]
    }
   ],
   "source": [
    "#for PC\n",
    "patent_df = patent_df[patent_df['专利类型']=='发明授权']\n",
    "patent_df = patent_df[patent_df['申请人地址'].map(lambda x:len(re.findall(r'\\D+[\\s\\S]+',x)))==1]\n",
    "patent_df['申请人地址'] = patent_df['申请人地址'].map(lambda x:re.findall(r'\\D+[\\s\\S]+',x)[0])\n",
    "patent_df['申请人地址'] = patent_df['申请人地址'].map(lambda x:re.sub(r\"\\s+\", \"\",x))\n",
    "patent_df_firm = patent_df[patent_df['申请人类型'].str.contains('企业')]\n",
    "applicant = patent_df_firm['申请人'].str.split(';',expand=True).stack().reset_index(level=1,drop=True).rename('申请人2')\n",
    "patent_df_firm = patent_df_firm.join(applicant)\n",
    "patent_df_firm['類別'] = patent_df_firm['申请人类型'].map(lambda x:x.strip().split('  '))\n",
    "patent_df_firm = patent_df_firm[~patent_df_firm['标题'].duplicated()]\n",
    "patent_df_firm['申请人类型'] = patent_df_firm.apply(lambda x:x['類別'][0],axis=1)\n",
    "patent_df_firm = patent_df_firm[patent_df_firm['申请人类型']=='企业'].sort_values('申请日')\n",
    "patent_df_firm.drop(['類別','申请人'],axis=1,inplace=True)\n",
    "patent_df_firm.rename(columns={'申请人2':'申请人'},inplace=True)\n",
    "patent_df_firm = patent_df_firm[patent_df_firm['申请日']<datetime.datetime.strptime('2013-01-01','%Y-%m-%d')]\n",
    "patent_df_firm.drop_duplicates('申请人地址', keep='last', inplace=True)\n",
    "patent_df_firm.drop_duplicates('申请人', keep='last', inplace=True)\n",
    "\n",
    "\n",
    "firm_df = pd.read_csv(r'E:\\paper\\Firm csv\\firm_data_2012.csv')\n",
    "firm_gd = firm_df[firm_df['區域代碼'].astype(str).str.contains(r'13\\d{10}')==True]\n",
    "firm_gd = firm_gd.loc[:,['法人代碼','企業名稱','地址','區域代碼','行業代碼']]\n",
    "firm_gd['區域代碼_str'] = firm_gd['區域代碼'].astype(str).map(lambda x:x[0:6])\n",
    "firm_gd = pd.merge(firm_gd,city_code,left_on='區域代碼_str',right_on='代碼_str',how='left')\n",
    "firm_gd['名稱'].fillna('',inplace=True)\n",
    "firm_gd['市級'].fillna('',inplace=True)\n",
    "firm_gd['省份'].fillna('',inplace=True)\n",
    "firm_gd['地址'].fillna('',inplace=True)\n",
    "firm_gd['地址'] = firm_gd['地址'].map(lambda x:re.sub(r\"\\s+\", \"\",x))\n",
    "firm_gd['地址'] = firm_gd.apply(lambda x:re.sub(x['省份'],\"\",x['地址']),axis=1)\n",
    "firm_gd['地址'] = firm_gd.apply(lambda x:re.sub(x['市級'],\"\",x['地址']),axis=1)\n",
    "firm_gd['地址'] = firm_gd.apply(lambda x:re.sub(x['名稱'],\"\",x['地址']),axis=1)\n",
    "firm_gd['地址'] = firm_gd['省份']+firm_gd['市級']+firm_gd['名稱']+firm_gd['地址']\n",
    "firm_gd.drop(['省份','市級','名稱','代碼_str'],axis=1,inplace=True)\n",
    "firm_gd.dropna(subset=['企業名稱'],inplace=True)"
   ]
  },
  {
   "cell_type": "code",
   "execution_count": 28,
   "metadata": {},
   "outputs": [],
   "source": [
    "patent_df_firm = patent_df_firm[patent_df_firm['申请日']>datetime.datetime.strptime('2007-12-31','%Y-%m-%d')]\n",
    "incoPat = list(patent_df_firm['申请人'])"
   ]
  },
  {
   "cell_type": "code",
   "execution_count": 29,
   "metadata": {
    "collapsed": true
   },
   "outputs": [
    {
     "data": {
      "text/html": [
       "<div>\n",
       "<style scoped>\n",
       "    .dataframe tbody tr th:only-of-type {\n",
       "        vertical-align: middle;\n",
       "    }\n",
       "\n",
       "    .dataframe tbody tr th {\n",
       "        vertical-align: top;\n",
       "    }\n",
       "\n",
       "    .dataframe thead th {\n",
       "        text-align: right;\n",
       "    }\n",
       "</style>\n",
       "<table border=\"1\" class=\"dataframe\">\n",
       "  <thead>\n",
       "    <tr style=\"text-align: right;\">\n",
       "      <th></th>\n",
       "      <th>序号</th>\n",
       "      <th>标题</th>\n",
       "      <th>文献页数</th>\n",
       "      <th>合享价值度</th>\n",
       "      <th>链接到incoPat</th>\n",
       "      <th>公开（公告）号</th>\n",
       "      <th>公开（公告）日</th>\n",
       "      <th>申请号</th>\n",
       "      <th>申请日</th>\n",
       "      <th>申请人</th>\n",
       "      <th>标准化申请人</th>\n",
       "      <th>申请人国别代码</th>\n",
       "      <th>申请人省市代码</th>\n",
       "      <th>中国申请人地市</th>\n",
       "      <th>中国申请人区县</th>\n",
       "      <th>申请人地址</th>\n",
       "      <th>申请人类型</th>\n",
       "      <th>优先权信息</th>\n",
       "      <th>权利要求数量</th>\n",
       "      <th>专利类型</th>\n",
       "      <th>发明人</th>\n",
       "      <th>IPC</th>\n",
       "      <th>CPC</th>\n",
       "      <th>简单同族</th>\n",
       "      <th>扩展同族</th>\n",
       "      <th>inpadoc同族</th>\n",
       "      <th>同族国家</th>\n",
       "      <th>简单同族个数</th>\n",
       "      <th>扩展同族个数</th>\n",
       "      <th>inpadoc同族个数</th>\n",
       "      <th>引证专利</th>\n",
       "      <th>被引证专利</th>\n",
       "      <th>被引证次数</th>\n",
       "      <th>引证科技文献</th>\n",
       "      <th>专利寿命（月）</th>\n",
       "      <th>被引证国别(forward)</th>\n",
       "      <th>失效日</th>\n",
       "      <th>公开国别</th>\n",
       "    </tr>\n",
       "  </thead>\n",
       "  <tbody>\n",
       "    <tr>\n",
       "      <td>74863</td>\n",
       "      <td>22295</td>\n",
       "      <td>便捷拆装装置</td>\n",
       "      <td>5</td>\n",
       "      <td>8</td>\n",
       "      <td>到incoPat中查看\\r\\nCN201168724Y</td>\n",
       "      <td>CN201168724Y</td>\n",
       "      <td>2008-12-24</td>\n",
       "      <td>CN200820078421.6</td>\n",
       "      <td>2008-01-04</td>\n",
       "      <td>邢台海裕百特极片成套设备有限公司</td>\n",
       "      <td>NaN</td>\n",
       "      <td>中国</td>\n",
       "      <td>河北; 13</td>\n",
       "      <td>[邢台]</td>\n",
       "      <td>[桥西]</td>\n",
       "      <td>河北省邢台市郭守敬北路386号</td>\n",
       "      <td>企业</td>\n",
       "      <td>CN200820078421 20080104</td>\n",
       "      <td>2</td>\n",
       "      <td>实用新型</td>\n",
       "      <td>弭丽峰; 张继风</td>\n",
       "      <td>B21B31/08</td>\n",
       "      <td>NaN</td>\n",
       "      <td>CN201168724Y</td>\n",
       "      <td>CN201168724Y</td>\n",
       "      <td>CN201168724Y</td>\n",
       "      <td>CN</td>\n",
       "      <td>1</td>\n",
       "      <td>1</td>\n",
       "      <td>1</td>\n",
       "      <td>NaN</td>\n",
       "      <td>WO2013123740A1; CN105776022A</td>\n",
       "      <td>2</td>\n",
       "      <td>NaN</td>\n",
       "      <td>120.0</td>\n",
       "      <td>世界知识产权组织, 中国</td>\n",
       "      <td>2018-01-04</td>\n",
       "      <td>CN</td>\n",
       "    </tr>\n",
       "    <tr>\n",
       "      <td>75646</td>\n",
       "      <td>23078</td>\n",
       "      <td>风道一体化顶篷</td>\n",
       "      <td>5</td>\n",
       "      <td>4</td>\n",
       "      <td>到incoPat中查看\\r\\nCN201136427Y</td>\n",
       "      <td>CN201136427Y</td>\n",
       "      <td>2008-10-22</td>\n",
       "      <td>CN200820076021.1</td>\n",
       "      <td>2008-01-05</td>\n",
       "      <td>河北省冀州市汽车装饰件厂</td>\n",
       "      <td>NaN</td>\n",
       "      <td>中国</td>\n",
       "      <td>河北; 13</td>\n",
       "      <td>[衡水]</td>\n",
       "      <td>[冀州]</td>\n",
       "      <td>河北省冀州市北内漳村</td>\n",
       "      <td>企业</td>\n",
       "      <td>CN200820076021 20080105</td>\n",
       "      <td>4</td>\n",
       "      <td>实用新型</td>\n",
       "      <td>巩志刚; 巩君瑞</td>\n",
       "      <td>B60H1/24</td>\n",
       "      <td>NaN</td>\n",
       "      <td>CN201136427Y</td>\n",
       "      <td>CN201136427Y</td>\n",
       "      <td>CN201136427Y</td>\n",
       "      <td>CN</td>\n",
       "      <td>1</td>\n",
       "      <td>1</td>\n",
       "      <td>1</td>\n",
       "      <td>NaN</td>\n",
       "      <td>NaN</td>\n",
       "      <td>0</td>\n",
       "      <td>NaN</td>\n",
       "      <td>72.0</td>\n",
       "      <td>NaN</td>\n",
       "      <td>2014-01-05</td>\n",
       "      <td>CN</td>\n",
       "    </tr>\n",
       "    <tr>\n",
       "      <td>57610</td>\n",
       "      <td>5042</td>\n",
       "      <td>布袋除尘器用气密性回转反吹风装置</td>\n",
       "      <td>9</td>\n",
       "      <td>6</td>\n",
       "      <td>到incoPat中查看\\r\\nCN101279172B</td>\n",
       "      <td>CN101279172B</td>\n",
       "      <td>2011-07-27</td>\n",
       "      <td>CN200810055849.3</td>\n",
       "      <td>2008-01-10</td>\n",
       "      <td>秦皇岛市清青环保设备有限公司</td>\n",
       "      <td>NaN</td>\n",
       "      <td>中国</td>\n",
       "      <td>河北; 13</td>\n",
       "      <td>[秦皇岛]</td>\n",
       "      <td>[海港]</td>\n",
       "      <td>河北省秦皇岛市海阳路558号</td>\n",
       "      <td>企业</td>\n",
       "      <td>NaN</td>\n",
       "      <td>6</td>\n",
       "      <td>发明授权</td>\n",
       "      <td>郦剑飞</td>\n",
       "      <td>B01D46/04</td>\n",
       "      <td>NaN</td>\n",
       "      <td>CN101279172B; CN101279172A</td>\n",
       "      <td>CN101279172B; CN101279172A</td>\n",
       "      <td>CN101279172A; CN101279172B</td>\n",
       "      <td>CN</td>\n",
       "      <td>2</td>\n",
       "      <td>2</td>\n",
       "      <td>2</td>\n",
       "      <td>EP1618943A1; CN2338078Y; CN2447645Y; CN2122677Y; JP04090817A</td>\n",
       "      <td>NaN</td>\n",
       "      <td>0</td>\n",
       "      <td>NaN</td>\n",
       "      <td>48.0</td>\n",
       "      <td>NaN</td>\n",
       "      <td>2012-01-10</td>\n",
       "      <td>CN</td>\n",
       "    </tr>\n",
       "    <tr>\n",
       "      <td>74881</td>\n",
       "      <td>22313</td>\n",
       "      <td>带顶盖和底托的奶粉听</td>\n",
       "      <td>5</td>\n",
       "      <td>6</td>\n",
       "      <td>到incoPat中查看\\r\\nCN201169408Y</td>\n",
       "      <td>CN201169408Y</td>\n",
       "      <td>2008-12-24</td>\n",
       "      <td>CN200820076098.9</td>\n",
       "      <td>2008-01-17</td>\n",
       "      <td>石家庄市正通药品包装有限公司</td>\n",
       "      <td>NaN</td>\n",
       "      <td>中国</td>\n",
       "      <td>河北; 13</td>\n",
       "      <td>[石家庄]</td>\n",
       "      <td>[新华]</td>\n",
       "      <td>河北省石家庄市警安路88号</td>\n",
       "      <td>企业</td>\n",
       "      <td>CN200820076098 20080117</td>\n",
       "      <td>4</td>\n",
       "      <td>实用新型</td>\n",
       "      <td>白志刚; 王东辉; 朱景春; 郝占山; 左建忠</td>\n",
       "      <td>B65D21/032; B65D51/24</td>\n",
       "      <td>NaN</td>\n",
       "      <td>CN201169408Y</td>\n",
       "      <td>CN201169408Y</td>\n",
       "      <td>CN201169408Y</td>\n",
       "      <td>CN</td>\n",
       "      <td>1</td>\n",
       "      <td>1</td>\n",
       "      <td>1</td>\n",
       "      <td>NaN</td>\n",
       "      <td>CN103287708B; CN103287709B; CN105000248A; CN103287708A; CN103287729A; CN105667996A; CN103287709A; CN106414259A; CN103287717A</td>\n",
       "      <td>9</td>\n",
       "      <td>NaN</td>\n",
       "      <td>36.0</td>\n",
       "      <td>中国</td>\n",
       "      <td>2011-01-17</td>\n",
       "      <td>CN</td>\n",
       "    </tr>\n",
       "    <tr>\n",
       "      <td>75326</td>\n",
       "      <td>22758</td>\n",
       "      <td>组合式客车翻板</td>\n",
       "      <td>5</td>\n",
       "      <td>6</td>\n",
       "      <td>到incoPat中查看\\r\\nCN201151394Y</td>\n",
       "      <td>CN201151394Y</td>\n",
       "      <td>2008-11-19</td>\n",
       "      <td>CN200820001171.6</td>\n",
       "      <td>2008-01-18</td>\n",
       "      <td>唐山龙铁商贸有限公司</td>\n",
       "      <td>NaN</td>\n",
       "      <td>中国</td>\n",
       "      <td>河北; 13</td>\n",
       "      <td>[唐山]</td>\n",
       "      <td>[丰润]</td>\n",
       "      <td>河北省唐山市丰润区3小区48－3－203</td>\n",
       "      <td>企业</td>\n",
       "      <td>CN200820001171 20080118</td>\n",
       "      <td>2</td>\n",
       "      <td>实用新型</td>\n",
       "      <td>顾跃新</td>\n",
       "      <td>B61D23/02</td>\n",
       "      <td>NaN</td>\n",
       "      <td>CN201151394Y</td>\n",
       "      <td>CN201151394Y</td>\n",
       "      <td>CN201151394Y</td>\n",
       "      <td>CN</td>\n",
       "      <td>1</td>\n",
       "      <td>1</td>\n",
       "      <td>1</td>\n",
       "      <td>NaN</td>\n",
       "      <td>CN102152797A; CN101513876A; CN104787065A</td>\n",
       "      <td>3</td>\n",
       "      <td>NaN</td>\n",
       "      <td>60.0</td>\n",
       "      <td>中国</td>\n",
       "      <td>2013-01-18</td>\n",
       "      <td>CN</td>\n",
       "    </tr>\n",
       "    <tr>\n",
       "      <td>...</td>\n",
       "      <td>...</td>\n",
       "      <td>...</td>\n",
       "      <td>...</td>\n",
       "      <td>...</td>\n",
       "      <td>...</td>\n",
       "      <td>...</td>\n",
       "      <td>...</td>\n",
       "      <td>...</td>\n",
       "      <td>...</td>\n",
       "      <td>...</td>\n",
       "      <td>...</td>\n",
       "      <td>...</td>\n",
       "      <td>...</td>\n",
       "      <td>...</td>\n",
       "      <td>...</td>\n",
       "      <td>...</td>\n",
       "      <td>...</td>\n",
       "      <td>...</td>\n",
       "      <td>...</td>\n",
       "      <td>...</td>\n",
       "      <td>...</td>\n",
       "      <td>...</td>\n",
       "      <td>...</td>\n",
       "      <td>...</td>\n",
       "      <td>...</td>\n",
       "      <td>...</td>\n",
       "      <td>...</td>\n",
       "      <td>...</td>\n",
       "      <td>...</td>\n",
       "      <td>...</td>\n",
       "      <td>...</td>\n",
       "      <td>...</td>\n",
       "      <td>...</td>\n",
       "      <td>...</td>\n",
       "      <td>...</td>\n",
       "      <td>...</td>\n",
       "      <td>...</td>\n",
       "      <td>...</td>\n",
       "    </tr>\n",
       "    <tr>\n",
       "      <td>959</td>\n",
       "      <td>960</td>\n",
       "      <td>釜式连续加氢制备对氨基苯酚的反应系统及方法</td>\n",
       "      <td>18</td>\n",
       "      <td>8</td>\n",
       "      <td>到incoPat中查看\\r\\nCN104447362B</td>\n",
       "      <td>CN104447362B</td>\n",
       "      <td>2017-09-01</td>\n",
       "      <td>CN201410853587.0</td>\n",
       "      <td>2014-12-31</td>\n",
       "      <td>河北冀衡(集团)药业有限公司</td>\n",
       "      <td>NaN</td>\n",
       "      <td>中国</td>\n",
       "      <td>河北; 13</td>\n",
       "      <td>[衡水]</td>\n",
       "      <td>[桃城]</td>\n",
       "      <td>河北省衡水市建设北大街368号</td>\n",
       "      <td>企业</td>\n",
       "      <td>NaN</td>\n",
       "      <td>8</td>\n",
       "      <td>发明授权</td>\n",
       "      <td>张志强; 董永广; 杜文峰; 张超; 蔡颂公; 李希明; 李群郎; 郭孟茜; 王欣贤; 魏晶磊</td>\n",
       "      <td>C07C215/76; C07C213/02</td>\n",
       "      <td>NaN</td>\n",
       "      <td>CN104447362B; CN104447362A</td>\n",
       "      <td>CN104447362A; CN104447362B</td>\n",
       "      <td>CN104447362A; CN104447362B</td>\n",
       "      <td>CN</td>\n",
       "      <td>2</td>\n",
       "      <td>2</td>\n",
       "      <td>2</td>\n",
       "      <td>NaN</td>\n",
       "      <td>NaN</td>\n",
       "      <td>0</td>\n",
       "      <td>NaN</td>\n",
       "      <td>NaN</td>\n",
       "      <td>NaN</td>\n",
       "      <td>NaT</td>\n",
       "      <td>CN</td>\n",
       "    </tr>\n",
       "    <tr>\n",
       "      <td>2999</td>\n",
       "      <td>3000</td>\n",
       "      <td>一种可防止粉尘污染的钢筋调直机</td>\n",
       "      <td>6</td>\n",
       "      <td>9</td>\n",
       "      <td>到incoPat中查看\\r\\nCN104588539B</td>\n",
       "      <td>CN104588539B</td>\n",
       "      <td>2016-08-31</td>\n",
       "      <td>CN201410846769.5</td>\n",
       "      <td>2014-12-31</td>\n",
       "      <td>河北建设集团有限公司</td>\n",
       "      <td>NaN</td>\n",
       "      <td>中国</td>\n",
       "      <td>河北; 13</td>\n",
       "      <td>[石家庄]</td>\n",
       "      <td>[新华]</td>\n",
       "      <td>河北省石家庄市新华区石清路118号</td>\n",
       "      <td>企业</td>\n",
       "      <td>NaN</td>\n",
       "      <td>4</td>\n",
       "      <td>发明授权</td>\n",
       "      <td>路晓朋; 张利云; 王进; 张梦考</td>\n",
       "      <td>B21F1/02; B01D46/02; B01D46/04</td>\n",
       "      <td>NaN</td>\n",
       "      <td>CN104588539A; CN104588539B</td>\n",
       "      <td>CN104588539B; CN104588539A</td>\n",
       "      <td>CN104588539B; CN104588539A</td>\n",
       "      <td>CN</td>\n",
       "      <td>2</td>\n",
       "      <td>2</td>\n",
       "      <td>2</td>\n",
       "      <td>NaN</td>\n",
       "      <td>NaN</td>\n",
       "      <td>0</td>\n",
       "      <td>NaN</td>\n",
       "      <td>NaN</td>\n",
       "      <td>NaN</td>\n",
       "      <td>NaT</td>\n",
       "      <td>CN</td>\n",
       "    </tr>\n",
       "    <tr>\n",
       "      <td>8967</td>\n",
       "      <td>8968</td>\n",
       "      <td>一种革屑回收处理装置</td>\n",
       "      <td>7</td>\n",
       "      <td>3</td>\n",
       "      <td>到incoPat中查看\\r\\nCN204395675U</td>\n",
       "      <td>CN204395675U</td>\n",
       "      <td>2015-06-17</td>\n",
       "      <td>CN201420871102.6</td>\n",
       "      <td>2014-12-31</td>\n",
       "      <td>辛集市海洋皮革有限公司</td>\n",
       "      <td>NaN</td>\n",
       "      <td>中国</td>\n",
       "      <td>河北; 13</td>\n",
       "      <td>[石家庄]</td>\n",
       "      <td>[辛集]</td>\n",
       "      <td>河北省石家庄市辛集市锚营制革工业区</td>\n",
       "      <td>企业</td>\n",
       "      <td>NaN</td>\n",
       "      <td>5</td>\n",
       "      <td>实用新型</td>\n",
       "      <td>孟勇</td>\n",
       "      <td>B01D46/12; C14B17/14</td>\n",
       "      <td>NaN</td>\n",
       "      <td>CN204395675U</td>\n",
       "      <td>CN204395675U</td>\n",
       "      <td>CN204395675U</td>\n",
       "      <td>CN</td>\n",
       "      <td>1</td>\n",
       "      <td>1</td>\n",
       "      <td>1</td>\n",
       "      <td>NaN</td>\n",
       "      <td>NaN</td>\n",
       "      <td>0</td>\n",
       "      <td>NaN</td>\n",
       "      <td>48.0</td>\n",
       "      <td>NaN</td>\n",
       "      <td>2018-12-31</td>\n",
       "      <td>CN</td>\n",
       "    </tr>\n",
       "    <tr>\n",
       "      <td>9311</td>\n",
       "      <td>9312</td>\n",
       "      <td>一种直烧气化炉</td>\n",
       "      <td>8</td>\n",
       "      <td>7</td>\n",
       "      <td>到incoPat中查看\\r\\nCN204388131U</td>\n",
       "      <td>CN204388131U</td>\n",
       "      <td>2015-06-10</td>\n",
       "      <td>CN201420862233.8</td>\n",
       "      <td>2014-12-31</td>\n",
       "      <td>石家庄市春燕采暖设备有限公司</td>\n",
       "      <td>NaN</td>\n",
       "      <td>中国</td>\n",
       "      <td>河北; 13</td>\n",
       "      <td>[石家庄]</td>\n",
       "      <td>[元氏]</td>\n",
       "      <td>河北省石家庄市元氏县西阳村</td>\n",
       "      <td>企业</td>\n",
       "      <td>NaN</td>\n",
       "      <td>6</td>\n",
       "      <td>实用新型</td>\n",
       "      <td>李占林; 李旭鹏</td>\n",
       "      <td>F24B1/183; F24B1/191</td>\n",
       "      <td>NaN</td>\n",
       "      <td>CN204388131U</td>\n",
       "      <td>CN204388131U</td>\n",
       "      <td>CN204388131U</td>\n",
       "      <td>CN</td>\n",
       "      <td>1</td>\n",
       "      <td>1</td>\n",
       "      <td>1</td>\n",
       "      <td>NaN</td>\n",
       "      <td>NaN</td>\n",
       "      <td>0</td>\n",
       "      <td>NaN</td>\n",
       "      <td>0.0</td>\n",
       "      <td>NaN</td>\n",
       "      <td>NaT</td>\n",
       "      <td>CN</td>\n",
       "    </tr>\n",
       "    <tr>\n",
       "      <td>280</td>\n",
       "      <td>281</td>\n",
       "      <td>有机-无机复合水性漆及其制备方法</td>\n",
       "      <td>10</td>\n",
       "      <td>9</td>\n",
       "      <td>到incoPat中查看\\r\\nCN104559511B</td>\n",
       "      <td>CN104559511B</td>\n",
       "      <td>2018-07-13</td>\n",
       "      <td>CN201510014353.1</td>\n",
       "      <td>2015-01-01</td>\n",
       "      <td>河北晨阳工贸集团有限公司</td>\n",
       "      <td>NaN</td>\n",
       "      <td>中国</td>\n",
       "      <td>河北; 13</td>\n",
       "      <td>[保定]</td>\n",
       "      <td>[徐水]</td>\n",
       "      <td>河北省保定市徐水区晨阳大街1号</td>\n",
       "      <td>企业</td>\n",
       "      <td>NaN</td>\n",
       "      <td>1</td>\n",
       "      <td>发明授权</td>\n",
       "      <td>胡中源; 郑毅; 刘洪亮; 李青春; 楚会来; 魏君</td>\n",
       "      <td>C09D125/14; C09D7/61</td>\n",
       "      <td>NaN</td>\n",
       "      <td>CN104559511B; CN104559511A</td>\n",
       "      <td>CN104559511A; CN104559511B</td>\n",
       "      <td>CN104559511B; CN104559511A</td>\n",
       "      <td>CN</td>\n",
       "      <td>2</td>\n",
       "      <td>2</td>\n",
       "      <td>2</td>\n",
       "      <td>CN103380184A; CN10206112A; WO2014012989A1; EP2608218A1</td>\n",
       "      <td>NaN</td>\n",
       "      <td>0</td>\n",
       "      <td>&lt;text&gt;翟睿等.“金属有机框架材料的研究进展”.《色谱》.2014, 第32卷(第2期), 第107-116页.&lt;/text&gt;</td>\n",
       "      <td>NaN</td>\n",
       "      <td>NaN</td>\n",
       "      <td>NaT</td>\n",
       "      <td>CN</td>\n",
       "    </tr>\n",
       "  </tbody>\n",
       "</table>\n",
       "<p>4354 rows × 38 columns</p>\n",
       "</div>"
      ],
      "text/plain": [
       "          序号                     标题  文献页数  合享价值度                   链接到incoPat  \\\n",
       "74863  22295                 便捷拆装装置     5      8  到incoPat中查看\\r\\nCN201168724Y   \n",
       "75646  23078                风道一体化顶篷     5      4  到incoPat中查看\\r\\nCN201136427Y   \n",
       "57610   5042       布袋除尘器用气密性回转反吹风装置     9      6  到incoPat中查看\\r\\nCN101279172B   \n",
       "74881  22313             带顶盖和底托的奶粉听     5      6  到incoPat中查看\\r\\nCN201169408Y   \n",
       "75326  22758                组合式客车翻板     5      6  到incoPat中查看\\r\\nCN201151394Y   \n",
       "...      ...                    ...   ...    ...                          ...   \n",
       "959      960  釜式连续加氢制备对氨基苯酚的反应系统及方法    18      8  到incoPat中查看\\r\\nCN104447362B   \n",
       "2999    3000        一种可防止粉尘污染的钢筋调直机     6      9  到incoPat中查看\\r\\nCN104588539B   \n",
       "8967    8968             一种革屑回收处理装置     7      3  到incoPat中查看\\r\\nCN204395675U   \n",
       "9311    9312                一种直烧气化炉     8      7  到incoPat中查看\\r\\nCN204388131U   \n",
       "280      281       有机-无机复合水性漆及其制备方法    10      9  到incoPat中查看\\r\\nCN104559511B   \n",
       "\n",
       "            公开（公告）号    公开（公告）日               申请号        申请日               申请人  \\\n",
       "74863  CN201168724Y 2008-12-24  CN200820078421.6 2008-01-04  邢台海裕百特极片成套设备有限公司   \n",
       "75646  CN201136427Y 2008-10-22  CN200820076021.1 2008-01-05      河北省冀州市汽车装饰件厂   \n",
       "57610  CN101279172B 2011-07-27  CN200810055849.3 2008-01-10    秦皇岛市清青环保设备有限公司   \n",
       "74881  CN201169408Y 2008-12-24  CN200820076098.9 2008-01-17    石家庄市正通药品包装有限公司   \n",
       "75326  CN201151394Y 2008-11-19  CN200820001171.6 2008-01-18        唐山龙铁商贸有限公司   \n",
       "...             ...        ...               ...        ...               ...   \n",
       "959    CN104447362B 2017-09-01  CN201410853587.0 2014-12-31    河北冀衡(集团)药业有限公司   \n",
       "2999   CN104588539B 2016-08-31  CN201410846769.5 2014-12-31        河北建设集团有限公司   \n",
       "8967   CN204395675U 2015-06-17  CN201420871102.6 2014-12-31       辛集市海洋皮革有限公司   \n",
       "9311   CN204388131U 2015-06-10  CN201420862233.8 2014-12-31    石家庄市春燕采暖设备有限公司   \n",
       "280    CN104559511B 2018-07-13  CN201510014353.1 2015-01-01      河北晨阳工贸集团有限公司   \n",
       "\n",
       "      标准化申请人 申请人国别代码 申请人省市代码 中国申请人地市 中国申请人区县                 申请人地址 申请人类型  \\\n",
       "74863    NaN      中国  河北; 13    [邢台]    [桥西]       河北省邢台市郭守敬北路386号    企业   \n",
       "75646    NaN      中国  河北; 13    [衡水]    [冀州]            河北省冀州市北内漳村    企业   \n",
       "57610    NaN      中国  河北; 13   [秦皇岛]    [海港]        河北省秦皇岛市海阳路558号    企业   \n",
       "74881    NaN      中国  河北; 13   [石家庄]    [新华]         河北省石家庄市警安路88号    企业   \n",
       "75326    NaN      中国  河北; 13    [唐山]    [丰润]  河北省唐山市丰润区3小区48－3－203    企业   \n",
       "...      ...     ...     ...     ...     ...                   ...   ...   \n",
       "959      NaN      中国  河北; 13    [衡水]    [桃城]       河北省衡水市建设北大街368号    企业   \n",
       "2999     NaN      中国  河北; 13   [石家庄]    [新华]     河北省石家庄市新华区石清路118号    企业   \n",
       "8967     NaN      中国  河北; 13   [石家庄]    [辛集]     河北省石家庄市辛集市锚营制革工业区    企业   \n",
       "9311     NaN      中国  河北; 13   [石家庄]    [元氏]         河北省石家庄市元氏县西阳村    企业   \n",
       "280      NaN      中国  河北; 13    [保定]    [徐水]       河北省保定市徐水区晨阳大街1号    企业   \n",
       "\n",
       "                         优先权信息  权利要求数量  专利类型  \\\n",
       "74863  CN200820078421 20080104       2  实用新型   \n",
       "75646  CN200820076021 20080105       4  实用新型   \n",
       "57610                      NaN       6  发明授权   \n",
       "74881  CN200820076098 20080117       4  实用新型   \n",
       "75326  CN200820001171 20080118       2  实用新型   \n",
       "...                        ...     ...   ...   \n",
       "959                        NaN       8  发明授权   \n",
       "2999                       NaN       4  发明授权   \n",
       "8967                       NaN       5  实用新型   \n",
       "9311                       NaN       6  实用新型   \n",
       "280                        NaN       1  发明授权   \n",
       "\n",
       "                                                   发明人  \\\n",
       "74863                                         弭丽峰; 张继风   \n",
       "75646                                         巩志刚; 巩君瑞   \n",
       "57610                                              郦剑飞   \n",
       "74881                          白志刚; 王东辉; 朱景春; 郝占山; 左建忠   \n",
       "75326                                              顾跃新   \n",
       "...                                                ...   \n",
       "959    张志强; 董永广; 杜文峰; 张超; 蔡颂公; 李希明; 李群郎; 郭孟茜; 王欣贤; 魏晶磊   \n",
       "2999                                 路晓朋; 张利云; 王进; 张梦考   \n",
       "8967                                                孟勇   \n",
       "9311                                          李占林; 李旭鹏   \n",
       "280                         胡中源; 郑毅; 刘洪亮; 李青春; 楚会来; 魏君   \n",
       "\n",
       "                                  IPC  CPC                        简单同族  \\\n",
       "74863                       B21B31/08  NaN                CN201168724Y   \n",
       "75646                        B60H1/24  NaN                CN201136427Y   \n",
       "57610                       B01D46/04  NaN  CN101279172B; CN101279172A   \n",
       "74881           B65D21/032; B65D51/24  NaN                CN201169408Y   \n",
       "75326                       B61D23/02  NaN                CN201151394Y   \n",
       "...                               ...  ...                         ...   \n",
       "959            C07C215/76; C07C213/02  NaN  CN104447362B; CN104447362A   \n",
       "2999   B21F1/02; B01D46/02; B01D46/04  NaN  CN104588539A; CN104588539B   \n",
       "8967             B01D46/12; C14B17/14  NaN                CN204395675U   \n",
       "9311             F24B1/183; F24B1/191  NaN                CN204388131U   \n",
       "280              C09D125/14; C09D7/61  NaN  CN104559511B; CN104559511A   \n",
       "\n",
       "                             扩展同族                   inpadoc同族 同族国家  简单同族个数  \\\n",
       "74863                CN201168724Y                CN201168724Y   CN       1   \n",
       "75646                CN201136427Y                CN201136427Y   CN       1   \n",
       "57610  CN101279172B; CN101279172A  CN101279172A; CN101279172B   CN       2   \n",
       "74881                CN201169408Y                CN201169408Y   CN       1   \n",
       "75326                CN201151394Y                CN201151394Y   CN       1   \n",
       "...                           ...                         ...  ...     ...   \n",
       "959    CN104447362A; CN104447362B  CN104447362A; CN104447362B   CN       2   \n",
       "2999   CN104588539B; CN104588539A  CN104588539B; CN104588539A   CN       2   \n",
       "8967                 CN204395675U                CN204395675U   CN       1   \n",
       "9311                 CN204388131U                CN204388131U   CN       1   \n",
       "280    CN104559511A; CN104559511B  CN104559511B; CN104559511A   CN       2   \n",
       "\n",
       "       扩展同族个数  inpadoc同族个数  \\\n",
       "74863       1            1   \n",
       "75646       1            1   \n",
       "57610       2            2   \n",
       "74881       1            1   \n",
       "75326       1            1   \n",
       "...       ...          ...   \n",
       "959         2            2   \n",
       "2999        2            2   \n",
       "8967        1            1   \n",
       "9311        1            1   \n",
       "280         2            2   \n",
       "\n",
       "                                                               引证专利  \\\n",
       "74863                                                           NaN   \n",
       "75646                                                           NaN   \n",
       "57610  EP1618943A1; CN2338078Y; CN2447645Y; CN2122677Y; JP04090817A   \n",
       "74881                                                           NaN   \n",
       "75326                                                           NaN   \n",
       "...                                                             ...   \n",
       "959                                                             NaN   \n",
       "2999                                                            NaN   \n",
       "8967                                                            NaN   \n",
       "9311                                                            NaN   \n",
       "280          CN103380184A; CN10206112A; WO2014012989A1; EP2608218A1   \n",
       "\n",
       "                                                                                                                              被引证专利  \\\n",
       "74863                                                                                                  WO2013123740A1; CN105776022A   \n",
       "75646                                                                                                                           NaN   \n",
       "57610                                                                                                                           NaN   \n",
       "74881  CN103287708B; CN103287709B; CN105000248A; CN103287708A; CN103287729A; CN105667996A; CN103287709A; CN106414259A; CN103287717A   \n",
       "75326                                                                                      CN102152797A; CN101513876A; CN104787065A   \n",
       "...                                                                                                                             ...   \n",
       "959                                                                                                                             NaN   \n",
       "2999                                                                                                                            NaN   \n",
       "8967                                                                                                                            NaN   \n",
       "9311                                                                                                                            NaN   \n",
       "280                                                                                                                             NaN   \n",
       "\n",
       "       被引证次数  \\\n",
       "74863      2   \n",
       "75646      0   \n",
       "57610      0   \n",
       "74881      9   \n",
       "75326      3   \n",
       "...      ...   \n",
       "959        0   \n",
       "2999       0   \n",
       "8967       0   \n",
       "9311       0   \n",
       "280        0   \n",
       "\n",
       "                                                                  引证科技文献  \\\n",
       "74863                                                                NaN   \n",
       "75646                                                                NaN   \n",
       "57610                                                                NaN   \n",
       "74881                                                                NaN   \n",
       "75326                                                                NaN   \n",
       "...                                                                  ...   \n",
       "959                                                                  NaN   \n",
       "2999                                                                 NaN   \n",
       "8967                                                                 NaN   \n",
       "9311                                                                 NaN   \n",
       "280    <text>翟睿等.“金属有机框架材料的研究进展”.《色谱》.2014, 第32卷(第2期), 第107-116页.</text>   \n",
       "\n",
       "       专利寿命（月） 被引证国别(forward)        失效日 公开国别  \n",
       "74863    120.0   世界知识产权组织, 中国 2018-01-04   CN  \n",
       "75646     72.0            NaN 2014-01-05   CN  \n",
       "57610     48.0            NaN 2012-01-10   CN  \n",
       "74881     36.0             中国 2011-01-17   CN  \n",
       "75326     60.0             中国 2013-01-18   CN  \n",
       "...        ...            ...        ...  ...  \n",
       "959        NaN            NaN        NaT   CN  \n",
       "2999       NaN            NaN        NaT   CN  \n",
       "8967      48.0            NaN 2018-12-31   CN  \n",
       "9311       0.0            NaN        NaT   CN  \n",
       "280        NaN            NaN        NaT   CN  \n",
       "\n",
       "[4354 rows x 38 columns]"
      ]
     },
     "execution_count": 29,
     "metadata": {},
     "output_type": "execute_result"
    }
   ],
   "source": [
    "patent_df_firm"
   ]
  },
  {
   "cell_type": "code",
   "execution_count": 30,
   "metadata": {
    "collapsed": true
   },
   "outputs": [
    {
     "data": {
      "text/html": [
       "<div>\n",
       "<style scoped>\n",
       "    .dataframe tbody tr th:only-of-type {\n",
       "        vertical-align: middle;\n",
       "    }\n",
       "\n",
       "    .dataframe tbody tr th {\n",
       "        vertical-align: top;\n",
       "    }\n",
       "\n",
       "    .dataframe thead th {\n",
       "        text-align: right;\n",
       "    }\n",
       "</style>\n",
       "<table border=\"1\" class=\"dataframe\">\n",
       "  <thead>\n",
       "    <tr style=\"text-align: right;\">\n",
       "      <th></th>\n",
       "      <th>法人代碼</th>\n",
       "      <th>企業名稱</th>\n",
       "      <th>地址</th>\n",
       "      <th>區域代碼</th>\n",
       "      <th>行業代碼</th>\n",
       "      <th>區域代碼_str</th>\n",
       "    </tr>\n",
       "  </thead>\n",
       "  <tbody>\n",
       "    <tr>\n",
       "      <td>0</td>\n",
       "      <td>100013968</td>\n",
       "      <td>中国耀华玻璃集团有限公司</td>\n",
       "      <td>河北省秦皇岛市海港区秦皇岛北部工业区晒甲会</td>\n",
       "      <td>130302104216</td>\n",
       "      <td>3141</td>\n",
       "      <td>130302</td>\n",
       "    </tr>\n",
       "    <tr>\n",
       "      <td>1</td>\n",
       "      <td>104320789</td>\n",
       "      <td>中国人民解放军第三三0二工厂</td>\n",
       "      <td>河北省石家庄市裕华区闽江道289号</td>\n",
       "      <td>130108011204</td>\n",
       "      <td>3583</td>\n",
       "      <td>130108</td>\n",
       "    </tr>\n",
       "    <tr>\n",
       "      <td>2</td>\n",
       "      <td>104333096</td>\n",
       "      <td>河北吉美工贸开发公司</td>\n",
       "      <td>河北省石家庄市鹿泉市方台</td>\n",
       "      <td>130185500201</td>\n",
       "      <td>3020</td>\n",
       "      <td>130185</td>\n",
       "    </tr>\n",
       "    <tr>\n",
       "      <td>3</td>\n",
       "      <td>104360166</td>\n",
       "      <td>华北油田科达开发有限公司</td>\n",
       "      <td>河北省沧州市任丘市物探</td>\n",
       "      <td>130982400032</td>\n",
       "      <td>4190</td>\n",
       "      <td>130982</td>\n",
       "    </tr>\n",
       "    <tr>\n",
       "      <td>4</td>\n",
       "      <td>104360801</td>\n",
       "      <td>河北远东通信系统工程有限公司</td>\n",
       "      <td>河北省石家庄市桥西区中山西路589号</td>\n",
       "      <td>130104012008</td>\n",
       "      <td>4012</td>\n",
       "      <td>130104</td>\n",
       "    </tr>\n",
       "    <tr>\n",
       "      <td>...</td>\n",
       "      <td>...</td>\n",
       "      <td>...</td>\n",
       "      <td>...</td>\n",
       "      <td>...</td>\n",
       "      <td>...</td>\n",
       "      <td>...</td>\n",
       "    </tr>\n",
       "    <tr>\n",
       "      <td>11518</td>\n",
       "      <td>796598043</td>\n",
       "      <td>河北中天泵业有限公司</td>\n",
       "      <td>河北省石家庄市鹿泉市河北鹿泉经济开发区符家庄村委会</td>\n",
       "      <td>130185500205</td>\n",
       "      <td>3541</td>\n",
       "      <td>130185</td>\n",
       "    </tr>\n",
       "    <tr>\n",
       "      <td>11519</td>\n",
       "      <td>796598473</td>\n",
       "      <td>邯郸超亚铁路器材有限公司</td>\n",
       "      <td>河北省邯郸市永年县107国道前曹庄村边</td>\n",
       "      <td>130429201203</td>\n",
       "      <td>3582</td>\n",
       "      <td>130429</td>\n",
       "    </tr>\n",
       "    <tr>\n",
       "      <td>11520</td>\n",
       "      <td>796599011</td>\n",
       "      <td>石家庄市利生淀粉糖业有限公司</td>\n",
       "      <td>河北省石家庄市赵县南解疃村委会</td>\n",
       "      <td>130133100237</td>\n",
       "      <td>1391</td>\n",
       "      <td>130133</td>\n",
       "    </tr>\n",
       "    <tr>\n",
       "      <td>11521</td>\n",
       "      <td>796599273</td>\n",
       "      <td>唐山市丰润区欧联钢铁有限公司</td>\n",
       "      <td>河北省唐山市丰润区唐山银城铺村东1.5公里(102国道北侧)</td>\n",
       "      <td>130208207204</td>\n",
       "      <td>3230</td>\n",
       "      <td>130208</td>\n",
       "    </tr>\n",
       "    <tr>\n",
       "      <td>11522</td>\n",
       "      <td>796599433</td>\n",
       "      <td>玉田县中艺纸业有限公司</td>\n",
       "      <td>河北省唐山市玉田县代家屯</td>\n",
       "      <td>130229106228</td>\n",
       "      <td>2221</td>\n",
       "      <td>130229</td>\n",
       "    </tr>\n",
       "  </tbody>\n",
       "</table>\n",
       "<p>11487 rows × 6 columns</p>\n",
       "</div>"
      ],
      "text/plain": [
       "            法人代碼            企業名稱                              地址  \\\n",
       "0      100013968    中国耀华玻璃集团有限公司           河北省秦皇岛市海港区秦皇岛北部工业区晒甲会   \n",
       "1      104320789  中国人民解放军第三三0二工厂               河北省石家庄市裕华区闽江道289号   \n",
       "2      104333096      河北吉美工贸开发公司                    河北省石家庄市鹿泉市方台   \n",
       "3      104360166    华北油田科达开发有限公司                     河北省沧州市任丘市物探   \n",
       "4      104360801  河北远东通信系统工程有限公司              河北省石家庄市桥西区中山西路589号   \n",
       "...          ...             ...                             ...   \n",
       "11518  796598043      河北中天泵业有限公司       河北省石家庄市鹿泉市河北鹿泉经济开发区符家庄村委会   \n",
       "11519  796598473    邯郸超亚铁路器材有限公司             河北省邯郸市永年县107国道前曹庄村边   \n",
       "11520  796599011  石家庄市利生淀粉糖业有限公司                 河北省石家庄市赵县南解疃村委会   \n",
       "11521  796599273  唐山市丰润区欧联钢铁有限公司  河北省唐山市丰润区唐山银城铺村东1.5公里(102国道北侧)   \n",
       "11522  796599433     玉田县中艺纸业有限公司                    河北省唐山市玉田县代家屯   \n",
       "\n",
       "               區域代碼  行業代碼 區域代碼_str  \n",
       "0      130302104216  3141   130302  \n",
       "1      130108011204  3583   130108  \n",
       "2      130185500201  3020   130185  \n",
       "3      130982400032  4190   130982  \n",
       "4      130104012008  4012   130104  \n",
       "...             ...   ...      ...  \n",
       "11518  130185500205  3541   130185  \n",
       "11519  130429201203  3582   130429  \n",
       "11520  130133100237  1391   130133  \n",
       "11521  130208207204  3230   130208  \n",
       "11522  130229106228  2221   130229  \n",
       "\n",
       "[11487 rows x 6 columns]"
      ]
     },
     "execution_count": 30,
     "metadata": {},
     "output_type": "execute_result"
    }
   ],
   "source": [
    "firm_gd"
   ]
  },
  {
   "cell_type": "code",
   "execution_count": 31,
   "metadata": {},
   "outputs": [],
   "source": [
    "firm_gd['name_模糊比對'] = firm_gd['企業名稱'].map(lambda x:fuzzy(incoPat,x))"
   ]
  },
  {
   "cell_type": "code",
   "execution_count": 32,
   "metadata": {},
   "outputs": [],
   "source": [
    "firm_gd.to_excel(r'E:\\paper\\清理結果-新型&授權\\河北_廠商.xlsx')"
   ]
  },
  {
   "cell_type": "markdown",
   "metadata": {},
   "source": [
    "# 非模糊比對"
   ]
  },
  {
   "cell_type": "code",
   "execution_count": 33,
   "metadata": {},
   "outputs": [],
   "source": [
    "merge_df = firm_gd.merge(patent_df_firm,left_on='企業名稱',right_on='申请人',how='outer')\n",
    "merge_df.fillna('',inplace=True)"
   ]
  },
  {
   "cell_type": "code",
   "execution_count": 34,
   "metadata": {},
   "outputs": [
    {
     "data": {
      "text/plain": [
       "(1350, 45)"
      ]
     },
     "execution_count": 34,
     "metadata": {},
     "output_type": "execute_result"
    }
   ],
   "source": [
    "merge_df[(merge_df['企業名稱']!='')&(merge_df['申请人']!='')].shape"
   ]
  },
  {
   "cell_type": "code",
   "execution_count": 35,
   "metadata": {},
   "outputs": [
    {
     "data": {
      "text/plain": [
       "(14491, 45)"
      ]
     },
     "execution_count": 35,
     "metadata": {},
     "output_type": "execute_result"
    }
   ],
   "source": [
    "merge_df.shape"
   ]
  },
  {
   "cell_type": "code",
   "execution_count": 36,
   "metadata": {
    "collapsed": true
   },
   "outputs": [
    {
     "name": "stderr",
     "output_type": "stream",
     "text": [
      "D:\\Anaconda\\lib\\site-packages\\ipykernel_launcher.py:4: SettingWithCopyWarning: \n",
      "A value is trying to be set on a copy of a slice from a DataFrame.\n",
      "Try using .loc[row_indexer,col_indexer] = value instead\n",
      "\n",
      "See the caveats in the documentation: http://pandas.pydata.org/pandas-docs/stable/user_guide/indexing.html#returning-a-view-versus-a-copy\n",
      "  after removing the cwd from sys.path.\n",
      "D:\\Anaconda\\lib\\site-packages\\ipykernel_launcher.py:5: SettingWithCopyWarning: \n",
      "A value is trying to be set on a copy of a slice from a DataFrame.\n",
      "Try using .loc[row_indexer,col_indexer] = value instead\n",
      "\n",
      "See the caveats in the documentation: http://pandas.pydata.org/pandas-docs/stable/user_guide/indexing.html#returning-a-view-versus-a-copy\n",
      "  \"\"\"\n"
     ]
    }
   ],
   "source": [
    "merge_df['name'] = merge_df.apply(lambda x:x['申请人'] if x['申请人']!='' else x['企業名稱'],axis=1)\n",
    "merge_df['address'] = merge_df.apply(lambda x:x['申请人地址'] if x['申请人地址']!='' else x['地址'],axis=1)\n",
    "merge_df_clean = merge_df[merge_df['address'].str.contains(r'\\w+(街|道|路|巷|村|小区|园区|社区)')]\n",
    "merge_df_clean['address'] = merge_df_clean['address'].map(lambda x: x+'号' if ((x[-1].isdigit()) and (re.match(r'\\w+[街道路巷]',x))) else x)\n",
    "merge_df_clean['完整地址'] = merge_df_clean['address'].map(lambda x:1 if re.compile(r'\\w+[街道路巷]\\S+号').search(x) else 0)\n",
    "merge_df_clean.loc[:,'lat'] = 0\n",
    "merge_df_clean.loc[:,'lnt'] = 0"
   ]
  },
  {
   "cell_type": "code",
   "execution_count": 37,
   "metadata": {},
   "outputs": [
    {
     "data": {
      "text/plain": [
       "(3283, 50)"
      ]
     },
     "execution_count": 37,
     "metadata": {},
     "output_type": "execute_result"
    }
   ],
   "source": [
    "merge_df_clean[merge_df_clean['完整地址']==1].shape"
   ]
  },
  {
   "cell_type": "code",
   "execution_count": 38,
   "metadata": {},
   "outputs": [
    {
     "data": {
      "text/plain": [
       "(10703, 50)"
      ]
     },
     "execution_count": 38,
     "metadata": {},
     "output_type": "execute_result"
    }
   ],
   "source": [
    "merge_df_clean.shape"
   ]
  },
  {
   "cell_type": "code",
   "execution_count": 39,
   "metadata": {},
   "outputs": [],
   "source": [
    "merge_df_clean.to_excel(r'E:\\paper\\清理結果-新型&授權\\河北_結果.xlsx')"
   ]
  },
  {
   "cell_type": "markdown",
   "metadata": {},
   "source": [
    "# merge舊資料"
   ]
  },
  {
   "cell_type": "code",
   "execution_count": 4,
   "metadata": {},
   "outputs": [
    {
     "name": "stdout",
     "output_type": "stream",
     "text": [
      "(514, 44)\n",
      "(12429, 44)\n",
      "(2182, 49)\n",
      "(12429, 49)\n"
     ]
    }
   ],
   "source": [
    "merge_df = firm_gd.merge(patent_df_firm,left_on='企業名稱',right_on='申请人',how='outer')\n",
    "merge_df.fillna('',inplace=True)\n",
    "print(merge_df[(merge_df['企業名稱']!='')&(merge_df['申请人']!='')].shape)\n",
    "print(merge_df.shape)\n",
    "merge_df['name'] = merge_df.apply(lambda x:x['申请人'] if x['申请人']!='' else x['企業名稱'],axis=1)\n",
    "merge_df['address'] = merge_df.apply(lambda x:x['申请人地址'] if x['申请人地址']!='' else x['地址'],axis=1)\n",
    "merge_df = merge_df[merge_df['address']!='']\n",
    "merge_df_clean = merge_df\n",
    "merge_df_clean['address'] = merge_df_clean['address'].map(lambda x: x+'号' if ((x[-1].isdigit()) and (re.match(r'\\w+[街道路巷]',x))) else x)\n",
    "merge_df_clean['完整地址'] = merge_df_clean['address'].map(lambda x:1 if re.compile(r'\\w+[街道路巷]\\S+号').search(x) else 0)\n",
    "merge_df_clean.loc[:,'lat'] = 0\n",
    "merge_df_clean.loc[:,'lnt'] = 0\n",
    "print(merge_df_clean[merge_df_clean['完整地址']==1].shape)\n",
    "print(merge_df_clean.shape)"
   ]
  },
  {
   "cell_type": "code",
   "execution_count": 5,
   "metadata": {},
   "outputs": [
    {
     "data": {
      "text/plain": [
       "Index(['Unnamed: 0', '法人代碼', '企業名稱', '地址', '區域代碼', '行業代碼', '區域代碼_str',\n",
       "       'name_模糊比對', '序号', '标题', '文献页数', '合享价值度', '链接到incoPat', '公开（公告）号',\n",
       "       '公开（公告）日', '申请号', '申请日', '申请人', '标准化申请人', '申请人国别代码', '申请人省市代码',\n",
       "       '中国申请人地市', '中国申请人区县', '申请人地址', '申请人类型', '优先权信息', '权利要求数量', '专利类型',\n",
       "       '发明人', 'IPC', 'CPC', '简单同族', '扩展同族', 'inpadoc同族', '同族国家', '简单同族个数',\n",
       "       '扩展同族个数', 'inpadoc同族个数', '引证专利', '被引证专利', '被引证次数', '引证科技文献', '专利寿命（月）',\n",
       "       '被引证国别(forward)', '失效日', '公开国别', 'name', 'address', '完整地址', 'lat',\n",
       "       'lnt', '石家庄', '保定', '唐山', '燕郊', '承德', '專利數', '早期園區', '近期園區'],\n",
       "      dtype='object')"
      ]
     },
     "execution_count": 5,
     "metadata": {},
     "output_type": "execute_result"
    }
   ],
   "source": [
    "done_data = pd.read_excel(r'E:\\paper\\清理結果-園區內外\\河北_結果.xlsx')\n",
    "done_data.columns"
   ]
  },
  {
   "cell_type": "code",
   "execution_count": 6,
   "metadata": {},
   "outputs": [
    {
     "data": {
      "text/plain": [
       "(3794, 57)"
      ]
     },
     "execution_count": 6,
     "metadata": {},
     "output_type": "execute_result"
    }
   ],
   "source": [
    "merge_df_clean.drop(['lat','lnt'],axis=1,inplace=True)\n",
    "merge_df_clean = merge_df_clean.merge(done_data[['name','lat','lnt','石家庄','保定','唐山','燕郊','承德','專利數','早期園區','近期園區']],left_on='name',right_on='name',how='left')\n",
    "merge_df_clean['lat'].fillna('',inplace=True)\n",
    "merge_df_clean[merge_df_clean['lat']==''].shape"
   ]
  },
  {
   "cell_type": "code",
   "execution_count": 7,
   "metadata": {},
   "outputs": [],
   "source": [
    "merge_df_clean.to_excel(r'E:\\paper\\清理結果-新\\河北_結果.xlsx')"
   ]
  },
  {
   "cell_type": "markdown",
   "metadata": {},
   "source": [
    "# 模糊比對"
   ]
  },
  {
   "cell_type": "code",
   "execution_count": 40,
   "metadata": {},
   "outputs": [],
   "source": [
    "merge_df_fuzzy = firm_gd.merge(patent_df_firm,left_on='name_模糊比對',right_on='申请人',how='outer')\n",
    "merge_df_fuzzy.fillna('',inplace=True)\n",
    "merge_df_fuzzy.drop_duplicates(['name_模糊比對','申请人'], keep='last', inplace=True)"
   ]
  },
  {
   "cell_type": "code",
   "execution_count": 41,
   "metadata": {},
   "outputs": [
    {
     "data": {
      "text/plain": [
       "(1408, 45)"
      ]
     },
     "execution_count": 41,
     "metadata": {},
     "output_type": "execute_result"
    }
   ],
   "source": [
    "merge_df_fuzzy[(merge_df_fuzzy['申请人']!='')&(merge_df_fuzzy['企業名稱']!='')].shape"
   ]
  },
  {
   "cell_type": "code",
   "execution_count": 42,
   "metadata": {},
   "outputs": [
    {
     "data": {
      "text/plain": [
       "(14377, 45)"
      ]
     },
     "execution_count": 42,
     "metadata": {},
     "output_type": "execute_result"
    }
   ],
   "source": [
    "merge_df_fuzzy.shape"
   ]
  },
  {
   "cell_type": "code",
   "execution_count": 43,
   "metadata": {
    "collapsed": true
   },
   "outputs": [
    {
     "name": "stderr",
     "output_type": "stream",
     "text": [
      "D:\\Anaconda\\lib\\site-packages\\ipykernel_launcher.py:4: SettingWithCopyWarning: \n",
      "A value is trying to be set on a copy of a slice from a DataFrame.\n",
      "Try using .loc[row_indexer,col_indexer] = value instead\n",
      "\n",
      "See the caveats in the documentation: http://pandas.pydata.org/pandas-docs/stable/user_guide/indexing.html#returning-a-view-versus-a-copy\n",
      "  after removing the cwd from sys.path.\n",
      "D:\\Anaconda\\lib\\site-packages\\ipykernel_launcher.py:5: SettingWithCopyWarning: \n",
      "A value is trying to be set on a copy of a slice from a DataFrame.\n",
      "Try using .loc[row_indexer,col_indexer] = value instead\n",
      "\n",
      "See the caveats in the documentation: http://pandas.pydata.org/pandas-docs/stable/user_guide/indexing.html#returning-a-view-versus-a-copy\n",
      "  \"\"\"\n"
     ]
    }
   ],
   "source": [
    "merge_df_fuzzy['name'] = merge_df_fuzzy.apply(lambda x:x['申请人'] if x['申请人']!='' else x['企業名稱'],axis=1)\n",
    "merge_df_fuzzy['address'] = merge_df_fuzzy.apply(lambda x:x['申请人地址'] if x['申请人地址']!='' else x['地址'],axis=1)\n",
    "merge_df_fuzzy_clean = merge_df_fuzzy[merge_df_fuzzy['address'].str.contains(r'\\w+(街|道|路|巷|村|小区|园区|社区)')]\n",
    "merge_df_fuzzy_clean['address'] = merge_df_fuzzy_clean['address'].map(lambda x: x+'号' if ((x[-1].isdigit()) and (re.match(r'\\w+[街道路巷]',x))) else x)\n",
    "merge_df_fuzzy_clean['完整地址'] = merge_df_fuzzy_clean['address'].map(lambda x:1 if re.compile(r'\\w+[街道路巷]\\S+号').search(x) else 0)\n",
    "merge_df_fuzzy_clean.loc[:,'lat'] = 0\n",
    "merge_df_fuzzy_clean.loc[:,'lnt'] = 0"
   ]
  },
  {
   "cell_type": "code",
   "execution_count": 44,
   "metadata": {},
   "outputs": [
    {
     "data": {
      "text/plain": [
       "(3246, 50)"
      ]
     },
     "execution_count": 44,
     "metadata": {},
     "output_type": "execute_result"
    }
   ],
   "source": [
    "merge_df_fuzzy_clean[merge_df_fuzzy_clean['完整地址']==1].shape"
   ]
  },
  {
   "cell_type": "code",
   "execution_count": 45,
   "metadata": {},
   "outputs": [
    {
     "data": {
      "text/plain": [
       "(10619, 50)"
      ]
     },
     "execution_count": 45,
     "metadata": {},
     "output_type": "execute_result"
    }
   ],
   "source": [
    "merge_df_fuzzy_clean.shape"
   ]
  },
  {
   "cell_type": "code",
   "execution_count": 46,
   "metadata": {},
   "outputs": [],
   "source": [
    "merge_df_fuzzy_clean.to_excel(r'E:\\paper\\清理結果-新型&授權\\河北_模糊結果.xlsx')"
   ]
  },
  {
   "cell_type": "markdown",
   "metadata": {},
   "source": [
    "# 定位"
   ]
  },
  {
   "cell_type": "code",
   "execution_count": 3,
   "metadata": {},
   "outputs": [],
   "source": [
    "merge_df_clean = pd.read_excel(r'E:\\paper\\清理結果-新型&授權\\河北_結果.xlsx',index_col=0)\n",
    "merge_df_clean['lat'].fillna(0,inplace=True)\n",
    "merge_df_clean['lnt'].fillna(0,inplace=True)"
   ]
  },
  {
   "cell_type": "code",
   "execution_count": 3,
   "metadata": {},
   "outputs": [
    {
     "data": {
      "text/plain": [
       "(3794, 57)"
      ]
     },
     "execution_count": 3,
     "metadata": {},
     "output_type": "execute_result"
    }
   ],
   "source": [
    "merge_df_clean = pd.read_excel(r'E:\\paper\\清理結果-新\\河北_結果.xlsx',index_col=0)\n",
    "merge_df_clean.fillna('',inplace=True)\n",
    "merge_df_clean[merge_df_clean['lat']==''].shape"
   ]
  },
  {
   "cell_type": "code",
   "execution_count": 4,
   "metadata": {},
   "outputs": [],
   "source": [
    "for i in merge_df_clean[merge_df_clean['lat']==''].index:\n",
    "    address = merge_df_clean.loc[i,'address']\n",
    "    g = getGeoForAddress(address)\n",
    "    merge_df_clean.loc[i,'lat'] = g[0]\n",
    "    merge_df_clean.loc[i,'lnt'] = g[1]"
   ]
  },
  {
   "cell_type": "code",
   "execution_count": 5,
   "metadata": {},
   "outputs": [
    {
     "name": "stdout",
     "output_type": "stream",
     "text": [
      "(12429, 57)\n",
      "(127, 57)\n"
     ]
    }
   ],
   "source": [
    "print(merge_df_clean.shape)\n",
    "print(merge_df_clean[merge_df_clean['lat']==''].shape)"
   ]
  },
  {
   "cell_type": "code",
   "execution_count": 6,
   "metadata": {},
   "outputs": [],
   "source": [
    "merge_df_clean.to_excel(r'E:\\paper\\清理結果-新\\河北_結果.xlsx')"
   ]
  },
  {
   "cell_type": "markdown",
   "metadata": {},
   "source": [
    "# 作圖"
   ]
  },
  {
   "cell_type": "code",
   "execution_count": null,
   "metadata": {},
   "outputs": [],
   "source": [
    "from geopy.distance import geodesic\n",
    "def how_far(a,b):\n",
    "    try:\n",
    "        return geodesic(a,b).kilometers\n",
    "    except:\n",
    "        return np.nan\n",
    "applicant = patent_df['申请人'].str.split(';',expand=True).stack().reset_index(level=1,drop=True).rename('申请人2')\n",
    "applicant = applicant.map(lambda x:x.strip())\n",
    "patent_df_new = patent_df.join(applicant)\n",
    "patent_count = patent_df_new.groupby('申请人2')['标题'].count().rename('專利數')"
   ]
  },
  {
   "cell_type": "code",
   "execution_count": null,
   "metadata": {},
   "outputs": [],
   "source": [
    "patent_count.sort_values()"
   ]
  },
  {
   "cell_type": "code",
   "execution_count": null,
   "metadata": {},
   "outputs": [],
   "source": [
    "merge_df = pd.read_excel(r'E:\\paper\\清理結果-新型&授權\\河北_結果.xlsx',index_col=0)\n",
    "target1 = (38.00811,114.46931)\n",
    "merge_df['石家庄'] = merge_df.apply(lambda x:how_far(target1,(x['lat'],x['lnt'])),axis=1)\n",
    "target2 = (38.893,115.46438)\n",
    "merge_df['保定'] = merge_df.apply(lambda x:how_far(target2,(x['lat'],x['lnt'])),axis=1)\n",
    "target3 = (39.67562,118.1803)\n",
    "merge_df['唐山'] = merge_df.apply(lambda x:how_far(target3,(x['lat'],x['lnt'])),axis=1)\n",
    "target4 = (39.94622,116.80854)\n",
    "merge_df['燕郊'] = merge_df.apply(lambda x:how_far(target4,(x['lat'],x['lnt'])),axis=1)\n",
    "target5 = (40.92203,117.95548)\n",
    "merge_df['承德'] = merge_df.apply(lambda x:how_far(target5,(x['lat'],x['lnt'])),axis=1)\n",
    "merge_df = merge_df.merge(patent_count,left_on='name',right_on='申请人2',how='left')\n",
    "merge_df['專利數'].fillna(0,inplace=True)"
   ]
  },
  {
   "cell_type": "code",
   "execution_count": null,
   "metadata": {},
   "outputs": [],
   "source": [
    "merge_df = pd.read_excel(r'E:\\paper\\清理結果-新\\河北_結果.xlsx',index_col=0)\n",
    "merge_df.fillna('',inplace=True)\n",
    "merge_df.drop('專利數',axis=1,inplace=True)\n",
    "target1 = (38.00811,114.46931)\n",
    "target2 = (38.893,115.46438)\n",
    "target3 = (39.67562,118.1803)\n",
    "target4 = (39.94622,116.80854)\n",
    "target5 = (40.92203,117.95548)\n",
    "\n",
    "for i in merge_df[merge_df['石家庄']==''].index:\n",
    "    merge_df.loc[i,'石家庄'] = how_far(target1,(merge_df.loc[i,'lat'],merge_df.loc[i,'lnt']))\n",
    "    merge_df.loc[i,'保定'] = how_far(target2,(merge_df.loc[i,'lat'],merge_df.loc[i,'lnt']))\n",
    "    merge_df.loc[i,'唐山'] = how_far(target3,(merge_df.loc[i,'lat'],merge_df.loc[i,'lnt']))\n",
    "    merge_df.loc[i,'燕郊'] = how_far(target4,(merge_df.loc[i,'lat'],merge_df.loc[i,'lnt']))\n",
    "    merge_df.loc[i,'承德'] = how_far(target5,(merge_df.loc[i,'lat'],merge_df.loc[i,'lnt']))\n",
    "merge_df = merge_df.merge(patent_count,left_on='name',right_on='申请人2',how='left')\n",
    "merge_df['專利數'].fillna(0,inplace=True)"
   ]
  },
  {
   "cell_type": "code",
   "execution_count": null,
   "metadata": {},
   "outputs": [],
   "source": [
    "merge_df['早期園區'] = merge_df.apply(lambda x:1 if ((x['石家庄']<10)or(x['保定']<10)) else 0,axis=1)\n",
    "merge_df['近期園區'] = merge_df.apply(lambda x:1 if ((x['唐山']<10)or(x['燕郊']<10)or(x['承德']<10)) else 0,axis=1)"
   ]
  },
  {
   "cell_type": "code",
   "execution_count": null,
   "metadata": {},
   "outputs": [],
   "source": [
    "merge_df.to_excel(r'E:\\paper\\清理結果-新園區內外\\河北_結果.xlsx')"
   ]
  },
  {
   "cell_type": "code",
   "execution_count": null,
   "metadata": {},
   "outputs": [],
   "source": [
    "print(merge_df.shape)\n",
    "print(len(merge_df[merge_df['專利數']==0]['專利數'])/len(merge_df['專利數']))\n",
    "print(len(merge_df[merge_df['專利數']>=100]['專利數'])/len(merge_df['專利數']))"
   ]
  },
  {
   "cell_type": "code",
   "execution_count": null,
   "metadata": {},
   "outputs": [],
   "source": [
    "merge_df.groupby('專利數')['IPC'].count()"
   ]
  },
  {
   "cell_type": "code",
   "execution_count": null,
   "metadata": {},
   "outputs": [],
   "source": [
    "merge_df[merge_df['lat']==''].groupby('專利數')['IPC'].count()"
   ]
  },
  {
   "cell_type": "code",
   "execution_count": null,
   "metadata": {},
   "outputs": [],
   "source": [
    "from matplotlib.font_manager import FontProperties\n",
    "myfont = FontProperties(fname=r'C:\\Windows\\Fonts\\msjhbd.ttc')\n",
    "fig = plt.figure()\n",
    "ax1 = fig.add_subplot(111)\n",
    "ax1.plot(merge_df[merge_df['lat']!=0].groupby('專利數')['IPC'].count().index,merge_df[merge_df['lat']!=0].groupby('專利數')['IPC'].count())\n",
    "ax1.set_title('河北',fontproperties=myfont,fontsize=15)\n",
    "ax1.set_ylabel('廠商數量',fontproperties=myfont)\n",
    "ax1.set_xlabel('專利數量',fontproperties=myfont)\n",
    "ax1.set_xlim([0,100])\n",
    "ax1.set_ylim([0,700])\n",
    "ax2 = ax1.twinx()\n",
    "ax2.bar(merge_df[merge_df['lat']==''].groupby('專利數')['IPC'].count().index,merge_df[merge_df['lat']==''].groupby('專利數')['IPC'].count(),color='red')\n",
    "ax2.set_ylim([0,20])\n",
    "ax2.set_ylabel('無法定位廠商數量',fontproperties=myfont)"
   ]
  },
  {
   "cell_type": "code",
   "execution_count": null,
   "metadata": {},
   "outputs": [],
   "source": [
    "region = pd.read_excel(r'E:\\paper\\清理結果-新園區內外\\河北_結果.xlsx',index_col=0)\n",
    "region.fillna('',inplace=True)\n",
    "corptype = ['有限','责任','集团','股份','控股','总公司','分公司','公司']\n",
    "region['name_clean'] = region['name']\n",
    "for k in corptype:\n",
    "    region['name_clean'] = region['name_clean'].map(lambda x:re.sub(k,'',x))\n",
    "region['name_clean'] = region['name_clean'].map(lambda x:re.sub(r'\\(.*?\\)','',x))\n",
    "region['name_clean'] = region['name_clean'].map(lambda x:re.sub(r'\\（.*?\\）','',x))\n",
    "region['name_clean'] = region['name_clean'].map(lambda x:re.sub(r'\\(.*?\\）','',x))\n",
    "region['name_clean'] = region['name_clean'].map(lambda x:re.sub(r'\\（.*?\\)','',x))\n",
    "region['name_clean'] = region['name_clean'].map(lambda x:re.sub(r'[\\s+-─]','',x))\n",
    "clean = region[region.duplicated(['name_clean'],keep=False)].sort_values(by=['企業名稱'])\n",
    "patents = clean.groupby('name_clean')['專利數'].sum()\n",
    "final = clean.drop('專利數',axis=1).merge(patents,left_on='name_clean',right_on='name_clean',how='left')\n",
    "final.drop_duplicates(['name_clean'],keep='last',inplace=True)\n",
    "region.drop_duplicates(['name_clean'],keep=False,inplace=True)\n",
    "cleaned = pd.concat([region,final],ignore_index=True,sort=False)\n",
    "located = cleaned[cleaned['lat']!='']\n",
    "not_merge = located[located['企業名稱']=='']\n",
    "print(len(not_merge['專利數']))\n",
    "print(len(not_merge['專利數'])/len(located['專利數']))\n",
    "print(len(not_merge[not_merge['專利數']>100]['專利數']))"
   ]
  },
  {
   "cell_type": "code",
   "execution_count": null,
   "metadata": {},
   "outputs": [],
   "source": [
    "not_merge.groupby('專利數')['IPC'].count()"
   ]
  },
  {
   "cell_type": "code",
   "execution_count": null,
   "metadata": {},
   "outputs": [],
   "source": [
    "not_merge[not_merge['專利數']>=400].sort_values('專利數')"
   ]
  },
  {
   "cell_type": "code",
   "execution_count": null,
   "metadata": {},
   "outputs": [],
   "source": [
    "from matplotlib.font_manager import FontProperties\n",
    "myfont = FontProperties(fname=r'C:\\Windows\\Fonts\\msjhbd.ttc')\n",
    "fig = plt.figure()\n",
    "ax1 = fig.add_subplot(111)\n",
    "ax1.plot(not_merge.groupby('專利數')['IPC'].count().index,not_merge.groupby('專利數')['IPC'].count())\n",
    "ax1.set_title('河北',fontproperties=myfont,fontsize=15)\n",
    "ax1.set_xlim([0,100])\n",
    "ax1.set_ylabel('廠商數量',fontproperties=myfont)\n",
    "ax1.set_xlabel('專利數量',fontproperties=myfont)"
   ]
  },
  {
   "cell_type": "code",
   "execution_count": null,
   "metadata": {},
   "outputs": [],
   "source": [
    "cleaned.to_excel(r'E:\\paper\\名稱merge\\河北_結果.xlsx')"
   ]
  },
  {
   "cell_type": "code",
   "execution_count": null,
   "metadata": {},
   "outputs": [],
   "source": [
    "from matplotlib.font_manager import FontProperties\n",
    "myfont = FontProperties(fname=r'C:\\Windows\\Fonts\\msjhbd.ttc')\n",
    "fig = plt.figure(figsize = (5,5))\n",
    "ax1 = fig.add_subplot(111)\n",
    "ax1.set_ylabel('Patent Counts')\n",
    "bar1 = ax1.bar(1,merge_df[merge_df['早期園區']==1]['專利數'].sum(),alpha=0.7,width=0.35,color='r',label='早期園區')\n",
    "bar2 = ax1.bar(1+0.35,merge_df[merge_df['近期園區']==1]['專利數'].sum(),alpha=0.7,width=0.35,color='b',label='近期園區')\n",
    "bar3 = ax1.bar(1+0.7,merge_df[(merge_df['近期園區']==0)&(merge_df['早期園區']==0)]['專利數'].sum(),alpha=0.7,width=0.35,color='k',label='園區外')\n",
    "\n",
    "plt.text(1, merge_df[merge_df['早期園區']==1]['專利數'].sum(), '%.0f' % merge_df[merge_df['早期園區']==1]['專利數'].sum(), ha='center', va= 'bottom',fontsize=12)  \n",
    "plt.text(1.35, merge_df[merge_df['近期園區']==1]['專利數'].sum(), '%.0f' % merge_df[merge_df['近期園區']==1]['專利數'].sum(), ha='center', va= 'bottom',fontsize=12)  \n",
    "plt.text(1.7, merge_df[(merge_df['近期園區']==0)&(merge_df['早期園區']==0)]['專利數'].sum(), '%.0f' % merge_df[(merge_df['近期園區']==0)&(merge_df['早期園區']==0)]['專利數'].sum(), ha='center', va= 'bottom',fontsize=12)  \n",
    "\n",
    "plt.title('河北',fontproperties=myfont,fontsize=20)\n",
    "plt.xticks([0.75,1,2],['','',''],fontproperties=myfont)\n",
    "plt.legend(handles = [bar1,bar2,bar3], loc='upper left',prop=myfont)"
   ]
  },
  {
   "cell_type": "code",
   "execution_count": null,
   "metadata": {},
   "outputs": [],
   "source": [
    "fig = plt.figure(figsize = (5,5))\n",
    "ax1 = fig.add_subplot(111)\n",
    "ax1.set_ylabel('Patent Counts/Firms ')\n",
    "bar1 = ax1.bar(1,merge_df[merge_df['早期園區']==1]['專利數'].sum()/merge_df[merge_df['早期園區']==1]['專利數'].count(),alpha=0.7,width=0.35,color='r',label='早期園區')\n",
    "bar2 = ax1.bar(1+0.35,merge_df[merge_df['近期園區']==1]['專利數'].sum()/merge_df[merge_df['近期園區']==1]['專利數'].count(),alpha=0.7,width=0.35,color='b',label='近期園區')\n",
    "bar3 = ax1.bar(1+0.7,merge_df[(merge_df['近期園區']==0)&(merge_df['早期園區']==0)]['專利數'].sum()/merge_df[(merge_df['近期園區']==0)&(merge_df['早期園區']==0)]['專利數'].count(),alpha=0.7,width=0.35,color='k',label='園區外')\n",
    "\n",
    "plt.text(1, (merge_df[merge_df['早期園區']==1]['專利數'].sum()/merge_df[merge_df['早期園區']==1]['專利數'].count()), '%.2f' % (merge_df[merge_df['早期園區']==1]['專利數'].sum()/merge_df[merge_df['早期園區']==1]['專利數'].count()), ha='center', va= 'bottom',fontsize=12)  \n",
    "plt.text(1.35, (merge_df[merge_df['近期園區']==1]['專利數'].sum()/merge_df[merge_df['近期園區']==1]['專利數'].count()), '%.2f' % (merge_df[merge_df['近期園區']==1]['專利數'].sum()/merge_df[merge_df['近期園區']==1]['專利數'].count()), ha='center', va= 'bottom',fontsize=12)  \n",
    "plt.text(1.7, (merge_df[(merge_df['近期園區']==0)&(merge_df['早期園區']==0)]['專利數'].sum()/merge_df[(merge_df['近期園區']==0)&(merge_df['早期園區']==0)]['專利數'].count()), '%.0f' % (merge_df[(merge_df['近期園區']==0)&(merge_df['早期園區']==0)]['專利數'].sum()/merge_df[(merge_df['近期園區']==0)&(merge_df['早期園區']==0)]['專利數'].count()), ha='center', va= 'bottom',fontsize=12)  \n",
    "\n",
    "plt.title('河北',fontproperties=myfont,fontsize=20)\n",
    "plt.xticks([0.75,1,2],['','',''],fontproperties=myfont)\n",
    "plt.legend(handles = [bar1,bar2,bar3], loc='upper right',prop=myfont)"
   ]
  },
  {
   "cell_type": "markdown",
   "metadata": {},
   "source": [
    "# 其餘嘗試性作圖"
   ]
  },
  {
   "cell_type": "code",
   "execution_count": 52,
   "metadata": {},
   "outputs": [],
   "source": [
    "from matplotlib.patches import Ellipse, Circle\n",
    "from matplotlib.font_manager import FontProperties\n",
    "myfont = FontProperties(fname=r'C:\\Windows\\Fonts\\msjhbd.ttc')\n",
    "merge_df_clean_2 = merge_df_clean[merge_df_clean['lat']!='']\n",
    "merge_df_clean_2 = merge_df_clean_2[((35<merge_df_clean_2['lat'])&(merge_df_clean_2['lat']<43))&((113<merge_df_clean_2['lnt'])&(merge_df_clean_2['lnt']<120))]\n",
    "patented = merge_df_clean_2[merge_df_clean_2['申请人']!='']\n",
    "not_patented = merge_df_clean_2[merge_df_clean_2['申请人']=='']"
   ]
  },
  {
   "cell_type": "code",
   "execution_count": 55,
   "metadata": {},
   "outputs": [
    {
     "data": {
      "text/plain": [
       "<matplotlib.legend.Legend at 0x1df8f375bc8>"
      ]
     },
     "execution_count": 55,
     "metadata": {},
     "output_type": "execute_result"
    },
    {
     "data": {
      "image/png": "[encoded data removed]",
      "text/plain": [
       "<Figure size 864x576 with 1 Axes>"
      ]
     },
     "metadata": {
      "needs_background": "light"
     },
     "output_type": "display_data"
    }
   ],
   "source": [
    "fig = plt.figure(figsize=(12,8))\n",
    "ax = fig.add_subplot(111)\n",
    "ax.scatter(patented['lnt'], patented['lat'],c='r',label='incoPat')\n",
    "ax.scatter(not_patented['lnt'], not_patented['lat'],c='k',label='工企')\n",
    "cir1 = Circle(xy = (114.46931, 38.00811), radius=30/110.574,facecolor='r' ,alpha=0.5,label='石家庄(1991)')\n",
    "cir2 = Circle(xy = (115.46438, 38.893), radius=30/110.574,facecolor='g' ,alpha=0.5,label='保定(1994)')\n",
    "cir3 = Circle(xy = (118.1803, 39.67562), radius=30/110.574,facecolor='b' ,alpha=0.5,label='唐山(2010)')\n",
    "cir4 = Circle(xy = (116.80854, 39.94622), radius=30/110.574,facecolor='k' ,alpha=0.5,label='燕郊(2010)')\n",
    "cir5 = Circle(xy = (117.95548, 40.92203), radius=30/110.574,facecolor='y' ,alpha=0.5,label='承德(2012)')\n",
    "\n",
    "ax.add_patch(cir1)\n",
    "ax.add_patch(cir2)\n",
    "ax.add_patch(cir3)\n",
    "ax.add_patch(cir4)\n",
    "ax.add_patch(cir5)\n",
    "\n",
    "ax.legend(loc=4,prop=myfont)"
   ]
  },
  {
   "cell_type": "code",
   "execution_count": 56,
   "metadata": {},
   "outputs": [],
   "source": [
    "merge_df_clean_2['石家庄'] = merge_df_clean_2.apply(lambda x:1 if ((((x['lnt']-114.46931)**2)+((x['lat']-38.00811)**2))**0.5)<(30/110.574) else 0,axis=1)\n",
    "merge_df_clean_2['保定'] = merge_df_clean_2.apply(lambda x:1 if ((((x['lnt']-115.46438)**2)+((x['lat']-38.893)**2))**0.5)<(30/110.574) else 0,axis=1)\n",
    "merge_df_clean_2['唐山'] = merge_df_clean_2.apply(lambda x:1 if ((((x['lnt']-118.1803)**2)+((x['lat']-39.67562)**2))**0.5)<(30/110.574) else 0,axis=1)\n",
    "merge_df_clean_2['燕郊'] = merge_df_clean_2.apply(lambda x:1 if ((((x['lnt']-116.80854)**2)+((x['lat']-39.94622)**2))**0.5)<(30/110.574) else 0,axis=1)\n",
    "merge_df_clean_2['承德'] = merge_df_clean_2.apply(lambda x:1 if ((((x['lnt']-117.95548)**2)+((x['lat']-40.92203)**2))**0.5)<(30/110.574) else 0,axis=1)"
   ]
  },
  {
   "cell_type": "code",
   "execution_count": 57,
   "metadata": {},
   "outputs": [],
   "source": [
    "patented = merge_df_clean_2[merge_df_clean_2['申请人']!='']\n",
    "not_patented = merge_df_clean_2[merge_df_clean_2['申请人']=='']"
   ]
  },
  {
   "cell_type": "code",
   "execution_count": 58,
   "metadata": {},
   "outputs": [
    {
     "data": {
      "text/plain": [
       "<matplotlib.legend.Legend at 0x1df90ca7288>"
      ]
     },
     "execution_count": 58,
     "metadata": {},
     "output_type": "execute_result"
    },
    {
     "data": {
      "image/png": "[encoded data removed]",
      "text/plain": [
       "<Figure size 720x360 with 1 Axes>"
      ]
     },
     "metadata": {
      "needs_background": "light"
     },
     "output_type": "display_data"
    }
   ],
   "source": [
    "fig = plt.figure(figsize = (10,5))\n",
    "ax1 = fig.add_subplot(111)\n",
    "ax1.set_ylabel('Counts')\n",
    "bar1 = ax1.bar(np.arange(0,6),[len(patented[patented['石家庄']==1]),len(patented[patented['保定']==1]),len(patented[patented['唐山']==1]),len(patented[patented['燕郊']==1]),len(patented[patented['承德']==1])\n",
    "                                ,len(patented[(patented['石家庄']==0)&(patented['保定']==0)&(patented['唐山']==0)&(patented['燕郊']==0)&(patented['承德']==0)])]\n",
    "               ,alpha=0.7,width=0.35,color='r',label='incoPat')\n",
    "bar2 = ax1.bar(np.arange(0,6)+0.35,[len(not_patented[not_patented['石家庄']==1]),len(not_patented[not_patented['保定']==1]),len(not_patented[not_patented['唐山']==1]),len(not_patented[not_patented['燕郊']==1]),len(not_patented[not_patented['承德']==1])\n",
    "                                ,len(not_patented[(not_patented['石家庄']==0)&(not_patented['保定']==0)&(not_patented['唐山']==0)&(not_patented['燕郊']==0)&(not_patented['承德']==0)])]\n",
    "               ,alpha=0.7,width=0.35,color='k',label='工企')\n",
    "for a,b in zip(np.arange(0,6),[len(patented[patented['石家庄']==1]),len(patented[patented['保定']==1]),len(patented[patented['唐山']==1]),len(patented[patented['燕郊']==1]),len(patented[patented['承德']==1])\n",
    "                                ,len(patented[(patented['石家庄']==0)&(patented['保定']==0)&(patented['唐山']==0)&(patented['燕郊']==0)&(patented['承德']==0)])]):  \n",
    "    plt.text(a, b+0.05, '%.0f' % b, ha='center', va= 'bottom',fontsize=8)  \n",
    "for a,b in zip(np.arange(0,6)+0.35,[len(not_patented[not_patented['石家庄']==1]),len(not_patented[not_patented['保定']==1]),len(not_patented[not_patented['唐山']==1]),len(not_patented[not_patented['燕郊']==1]),len(not_patented[not_patented['承德']==1])\n",
    "                                ,len(not_patented[(not_patented['石家庄']==0)&(not_patented['保定']==0)&(not_patented['唐山']==0)&(not_patented['燕郊']==0)&(not_patented['承德']==0)])]):  \n",
    "    plt.text(a, b+0.05, '%.0f' % b, ha='center', va= 'bottom',fontsize=8) \n",
    "\n",
    "plt.xticks([0.17,1.17,2.17,3.17,4.17,5.17],['石家庄','保定','唐山','燕郊','承德','高新區外'],fontproperties=myfont)\n",
    "plt.legend(handles = [bar1,bar2], loc='upper left',prop=myfont)"
   ]
  },
  {
   "cell_type": "markdown",
   "metadata": {},
   "source": [
    "# 完整地址+非模糊比對"
   ]
  },
  {
   "cell_type": "code",
   "execution_count": 59,
   "metadata": {},
   "outputs": [],
   "source": [
    "merge_df_clean_2 = merge_df_clean[merge_df_clean['lat']!='']\n",
    "#完整地址\n",
    "merge_df_clean_2 = merge_df_clean_2[merge_df_clean_2['完整地址']==1]\n",
    "merge_df_clean_2 = merge_df_clean_2[((35<merge_df_clean_2['lat'])&(merge_df_clean_2['lat']<43))&((113<merge_df_clean_2['lnt'])&(merge_df_clean_2['lnt']<120))]\n",
    "patented = merge_df_clean_2[merge_df_clean_2['申请人']!='']\n",
    "not_patented = merge_df_clean_2[merge_df_clean_2['申请人']=='']"
   ]
  },
  {
   "cell_type": "code",
   "execution_count": 60,
   "metadata": {},
   "outputs": [
    {
     "data": {
      "text/plain": [
       "<matplotlib.legend.Legend at 0x1dfaf07f8c8>"
      ]
     },
     "execution_count": 60,
     "metadata": {},
     "output_type": "execute_result"
    },
    {
     "data": {
      "image/png": "[encoded data removed]",
      "text/plain": [
       "<Figure size 864x576 with 1 Axes>"
      ]
     },
     "metadata": {
      "needs_background": "light"
     },
     "output_type": "display_data"
    }
   ],
   "source": [
    "fig = plt.figure(figsize=(12,8))\n",
    "ax = fig.add_subplot(111)\n",
    "ax.scatter(patented['lnt'], patented['lat'],c='r',label='incoPat')\n",
    "ax.scatter(not_patented['lnt'], not_patented['lat'],c='k',label='工企')\n",
    "cir1 = Circle(xy = (114.46931, 38.00811), radius=30/110.574,facecolor='r' ,alpha=0.5,label='石家庄(1991)')\n",
    "cir2 = Circle(xy = (115.46438, 38.893), radius=30/110.574,facecolor='g' ,alpha=0.5,label='保定(1994)')\n",
    "cir3 = Circle(xy = (118.1803, 39.67562), radius=30/110.574,facecolor='b' ,alpha=0.5,label='唐山(2010)')\n",
    "cir4 = Circle(xy = (116.80854, 39.94622), radius=30/110.574,facecolor='k' ,alpha=0.5,label='燕郊(2010)')\n",
    "cir5 = Circle(xy = (117.95548, 40.92203), radius=30/110.574,facecolor='y' ,alpha=0.5,label='承德(2012)')\n",
    "\n",
    "ax.add_patch(cir1)\n",
    "ax.add_patch(cir2)\n",
    "ax.add_patch(cir3)\n",
    "ax.add_patch(cir4)\n",
    "ax.add_patch(cir5)\n",
    "\n",
    "ax.legend(loc=4,prop=myfont)"
   ]
  },
  {
   "cell_type": "code",
   "execution_count": 61,
   "metadata": {},
   "outputs": [],
   "source": [
    "merge_df_clean_2['石家庄'] = merge_df_clean_2.apply(lambda x:1 if ((((x['lnt']-114.46931)**2)+((x['lat']-38.00811)**2))**0.5)<(30/110.574) else 0,axis=1)\n",
    "merge_df_clean_2['保定'] = merge_df_clean_2.apply(lambda x:1 if ((((x['lnt']-115.46438)**2)+((x['lat']-38.893)**2))**0.5)<(30/110.574) else 0,axis=1)\n",
    "merge_df_clean_2['唐山'] = merge_df_clean_2.apply(lambda x:1 if ((((x['lnt']-118.1803)**2)+((x['lat']-39.67562)**2))**0.5)<(30/110.574) else 0,axis=1)\n",
    "merge_df_clean_2['燕郊'] = merge_df_clean_2.apply(lambda x:1 if ((((x['lnt']-116.80854)**2)+((x['lat']-39.94622)**2))**0.5)<(30/110.574) else 0,axis=1)\n",
    "merge_df_clean_2['承德'] = merge_df_clean_2.apply(lambda x:1 if ((((x['lnt']-117.95548)**2)+((x['lat']-40.92203)**2))**0.5)<(30/110.574) else 0,axis=1)\n",
    "patented = merge_df_clean_2[merge_df_clean_2['申请人']!='']\n",
    "not_patented = merge_df_clean_2[merge_df_clean_2['申请人']=='']"
   ]
  },
  {
   "cell_type": "code",
   "execution_count": 62,
   "metadata": {},
   "outputs": [
    {
     "data": {
      "text/plain": [
       "<matplotlib.legend.Legend at 0x1df9d248188>"
      ]
     },
     "execution_count": 62,
     "metadata": {},
     "output_type": "execute_result"
    },
    {
     "data": {
      "image/png": "[encoded data removed]",
      "text/plain": [
       "<Figure size 720x360 with 1 Axes>"
      ]
     },
     "metadata": {
      "needs_background": "light"
     },
     "output_type": "display_data"
    }
   ],
   "source": [
    "fig = plt.figure(figsize = (10,5))\n",
    "ax1 = fig.add_subplot(111)\n",
    "ax1.set_ylabel('Counts')\n",
    "bar1 = ax1.bar(np.arange(0,6),[len(patented[patented['石家庄']==1]),len(patented[patented['保定']==1]),len(patented[patented['唐山']==1]),len(patented[patented['燕郊']==1]),len(patented[patented['承德']==1])\n",
    "                                ,len(patented[(patented['石家庄']==0)&(patented['保定']==0)&(patented['唐山']==0)&(patented['燕郊']==0)&(patented['承德']==0)])]\n",
    "               ,alpha=0.7,width=0.35,color='r',label='incoPat')\n",
    "bar2 = ax1.bar(np.arange(0,6)+0.35,[len(not_patented[not_patented['石家庄']==1]),len(not_patented[not_patented['保定']==1]),len(not_patented[not_patented['唐山']==1]),len(not_patented[not_patented['燕郊']==1]),len(not_patented[not_patented['承德']==1])\n",
    "                                ,len(not_patented[(not_patented['石家庄']==0)&(not_patented['保定']==0)&(not_patented['唐山']==0)&(not_patented['燕郊']==0)&(not_patented['承德']==0)])]\n",
    "               ,alpha=0.7,width=0.35,color='k',label='工企')\n",
    "for a,b in zip(np.arange(0,6),[len(patented[patented['石家庄']==1]),len(patented[patented['保定']==1]),len(patented[patented['唐山']==1]),len(patented[patented['燕郊']==1]),len(patented[patented['承德']==1])\n",
    "                                ,len(patented[(patented['石家庄']==0)&(patented['保定']==0)&(patented['唐山']==0)&(patented['燕郊']==0)&(patented['承德']==0)])]):  \n",
    "    plt.text(a, b+0.05, '%.0f' % b, ha='center', va= 'bottom',fontsize=8)  \n",
    "for a,b in zip(np.arange(0,6)+0.35,[len(not_patented[not_patented['石家庄']==1]),len(not_patented[not_patented['保定']==1]),len(not_patented[not_patented['唐山']==1]),len(not_patented[not_patented['燕郊']==1]),len(not_patented[not_patented['承德']==1])\n",
    "                                ,len(not_patented[(not_patented['石家庄']==0)&(not_patented['保定']==0)&(not_patented['唐山']==0)&(not_patented['燕郊']==0)&(not_patented['承德']==0)])]):  \n",
    "    plt.text(a, b+0.05, '%.0f' % b, ha='center', va= 'bottom',fontsize=8) \n",
    "\n",
    "plt.xticks([0.17,1.17,2.17,3.17,4.17,5.17],['石家庄','保定','唐山','燕郊','承德','高新區外'],fontproperties=myfont)\n",
    "plt.legend(handles = [bar1,bar2], loc='upper left',prop=myfont)"
   ]
  },
  {
   "cell_type": "markdown",
   "metadata": {},
   "source": [
    "# 寬鬆地址+模糊比對"
   ]
  },
  {
   "cell_type": "code",
   "execution_count": 63,
   "metadata": {},
   "outputs": [],
   "source": [
    "merge_df_clean_2 =merge_df_fuzzy_clean[merge_df_fuzzy_clean['lat']!='']\n",
    "merge_df_clean_2 = merge_df_clean_2[((35<merge_df_clean_2['lat'])&(merge_df_clean_2['lat']<43))&((113<merge_df_clean_2['lnt'])&(merge_df_clean_2['lnt']<120))]\n",
    "patented = merge_df_clean_2[merge_df_clean_2['申请人']!='']\n",
    "not_patented = merge_df_clean_2[merge_df_clean_2['申请人']=='']"
   ]
  },
  {
   "cell_type": "code",
   "execution_count": 64,
   "metadata": {},
   "outputs": [
    {
     "data": {
      "text/plain": [
       "<matplotlib.legend.Legend at 0x1df8733f748>"
      ]
     },
     "execution_count": 64,
     "metadata": {},
     "output_type": "execute_result"
    },
    {
     "data": {
      "image/png": "[encoded data removed]",
      "text/plain": [
       "<Figure size 864x576 with 1 Axes>"
      ]
     },
     "metadata": {
      "needs_background": "light"
     },
     "output_type": "display_data"
    }
   ],
   "source": [
    "fig = plt.figure(figsize=(12,8))\n",
    "ax = fig.add_subplot(111)\n",
    "ax.scatter(patented['lnt'], patented['lat'],c='r',label='incoPat')\n",
    "ax.scatter(not_patented['lnt'], not_patented['lat'],c='k',label='工企')\n",
    "cir1 = Circle(xy = (114.46931, 38.00811), radius=30/110.574,facecolor='r' ,alpha=0.5,label='石家庄(1991)')\n",
    "cir2 = Circle(xy = (115.46438, 38.893), radius=30/110.574,facecolor='g' ,alpha=0.5,label='保定(1994)')\n",
    "cir3 = Circle(xy = (118.1803, 39.67562), radius=30/110.574,facecolor='b' ,alpha=0.5,label='唐山(2010)')\n",
    "cir4 = Circle(xy = (116.80854, 39.94622), radius=30/110.574,facecolor='k' ,alpha=0.5,label='燕郊(2010)')\n",
    "cir5 = Circle(xy = (117.95548, 40.92203), radius=30/110.574,facecolor='y' ,alpha=0.5,label='承德(2012)')\n",
    "\n",
    "ax.add_patch(cir1)\n",
    "ax.add_patch(cir2)\n",
    "ax.add_patch(cir3)\n",
    "ax.add_patch(cir4)\n",
    "ax.add_patch(cir5)\n",
    "\n",
    "ax.legend(loc=4,prop=myfont)"
   ]
  },
  {
   "cell_type": "code",
   "execution_count": 65,
   "metadata": {},
   "outputs": [],
   "source": [
    "merge_df_clean_2['石家庄'] = merge_df_clean_2.apply(lambda x:1 if ((((x['lnt']-114.46931)**2)+((x['lat']-38.00811)**2))**0.5)<(30/110.574) else 0,axis=1)\n",
    "merge_df_clean_2['保定'] = merge_df_clean_2.apply(lambda x:1 if ((((x['lnt']-115.46438)**2)+((x['lat']-38.893)**2))**0.5)<(30/110.574) else 0,axis=1)\n",
    "merge_df_clean_2['唐山'] = merge_df_clean_2.apply(lambda x:1 if ((((x['lnt']-118.1803)**2)+((x['lat']-39.67562)**2))**0.5)<(30/110.574) else 0,axis=1)\n",
    "merge_df_clean_2['燕郊'] = merge_df_clean_2.apply(lambda x:1 if ((((x['lnt']-116.80854)**2)+((x['lat']-39.94622)**2))**0.5)<(30/110.574) else 0,axis=1)\n",
    "merge_df_clean_2['承德'] = merge_df_clean_2.apply(lambda x:1 if ((((x['lnt']-117.95548)**2)+((x['lat']-40.92203)**2))**0.5)<(30/110.574) else 0,axis=1)\n",
    "patented = merge_df_clean_2[merge_df_clean_2['申请人']!='']\n",
    "not_patented = merge_df_clean_2[merge_df_clean_2['申请人']=='']"
   ]
  },
  {
   "cell_type": "code",
   "execution_count": 66,
   "metadata": {},
   "outputs": [
    {
     "data": {
      "text/plain": [
       "<matplotlib.legend.Legend at 0x1df87364a88>"
      ]
     },
     "execution_count": 66,
     "metadata": {},
     "output_type": "execute_result"
    },
    {
     "data": {
      "image/png": "[encoded data removed]",
      "text/plain": [
       "<Figure size 720x360 with 1 Axes>"
      ]
     },
     "metadata": {
      "needs_background": "light"
     },
     "output_type": "display_data"
    }
   ],
   "source": [
    "fig = plt.figure(figsize = (10,5))\n",
    "ax1 = fig.add_subplot(111)\n",
    "ax1.set_ylabel('Counts')\n",
    "bar1 = ax1.bar(np.arange(0,6),[len(patented[patented['石家庄']==1]),len(patented[patented['保定']==1]),len(patented[patented['唐山']==1]),len(patented[patented['燕郊']==1]),len(patented[patented['承德']==1])\n",
    "                                ,len(patented[(patented['石家庄']==0)&(patented['保定']==0)&(patented['唐山']==0)&(patented['燕郊']==0)&(patented['承德']==0)])]\n",
    "               ,alpha=0.7,width=0.35,color='r',label='incoPat')\n",
    "bar2 = ax1.bar(np.arange(0,6)+0.35,[len(not_patented[not_patented['石家庄']==1]),len(not_patented[not_patented['保定']==1]),len(not_patented[not_patented['唐山']==1]),len(not_patented[not_patented['燕郊']==1]),len(not_patented[not_patented['承德']==1])\n",
    "                                ,len(not_patented[(not_patented['石家庄']==0)&(not_patented['保定']==0)&(not_patented['唐山']==0)&(not_patented['燕郊']==0)&(not_patented['承德']==0)])]\n",
    "               ,alpha=0.7,width=0.35,color='k',label='工企')\n",
    "for a,b in zip(np.arange(0,6),[len(patented[patented['石家庄']==1]),len(patented[patented['保定']==1]),len(patented[patented['唐山']==1]),len(patented[patented['燕郊']==1]),len(patented[patented['承德']==1])\n",
    "                                ,len(patented[(patented['石家庄']==0)&(patented['保定']==0)&(patented['唐山']==0)&(patented['燕郊']==0)&(patented['承德']==0)])]):  \n",
    "    plt.text(a, b+0.05, '%.0f' % b, ha='center', va= 'bottom',fontsize=8)  \n",
    "for a,b in zip(np.arange(0,6)+0.35,[len(not_patented[not_patented['石家庄']==1]),len(not_patented[not_patented['保定']==1]),len(not_patented[not_patented['唐山']==1]),len(not_patented[not_patented['燕郊']==1]),len(not_patented[not_patented['承德']==1])\n",
    "                                ,len(not_patented[(not_patented['石家庄']==0)&(not_patented['保定']==0)&(not_patented['唐山']==0)&(not_patented['燕郊']==0)&(not_patented['承德']==0)])]):  \n",
    "    plt.text(a, b+0.05, '%.0f' % b, ha='center', va= 'bottom',fontsize=8) \n",
    "\n",
    "plt.xticks([0.17,1.17,2.17,3.17,4.17,5.17],['石家庄','保定','唐山','燕郊','承德','高新區外'],fontproperties=myfont)\n",
    "plt.legend(handles = [bar1,bar2], loc='upper left',prop=myfont)"
   ]
  },
  {
   "cell_type": "markdown",
   "metadata": {},
   "source": [
    "# 完整地址+模糊比對"
   ]
  },
  {
   "cell_type": "code",
   "execution_count": 73,
   "metadata": {},
   "outputs": [],
   "source": [
    "merge_df_clean_2 =merge_df_fuzzy_clean[merge_df_fuzzy_clean['lat']!='']\n",
    "#完整地址\n",
    "merge_df_clean_2 = merge_df_clean_2[merge_df_clean_2['完整地址']==1]\n",
    "merge_df_clean_2 = merge_df_clean_2[((35<merge_df_clean_2['lat'])&(merge_df_clean_2['lat']<43))&((113<merge_df_clean_2['lnt'])&(merge_df_clean_2['lnt']<120))]\n",
    "patented = merge_df_clean_2[merge_df_clean_2['申请人']!='']\n",
    "not_patented = merge_df_clean_2[merge_df_clean_2['申请人']=='']"
   ]
  },
  {
   "cell_type": "code",
   "execution_count": 74,
   "metadata": {},
   "outputs": [
    {
     "data": {
      "text/plain": [
       "<matplotlib.legend.Legend at 0x1df95ca3ec8>"
      ]
     },
     "execution_count": 74,
     "metadata": {},
     "output_type": "execute_result"
    },
    {
     "data": {
      "image/png": "[encoded data removed]",
      "text/plain": [
       "<Figure size 864x576 with 1 Axes>"
      ]
     },
     "metadata": {
      "needs_background": "light"
     },
     "output_type": "display_data"
    }
   ],
   "source": [
    "fig = plt.figure(figsize=(12,8))\n",
    "ax = fig.add_subplot(111)\n",
    "ax.scatter(patented['lnt'], patented['lat'],c='r',label='incoPat')\n",
    "ax.scatter(not_patented['lnt'], not_patented['lat'],c='k',label='工企')\n",
    "cir1 = Circle(xy = (114.46931, 38.00811), radius=30/110.574,facecolor='r' ,alpha=0.5,label='石家庄(1991)')\n",
    "cir2 = Circle(xy = (115.46438, 38.893), radius=30/110.574,facecolor='g' ,alpha=0.5,label='保定(1994)')\n",
    "cir3 = Circle(xy = (118.1803, 39.67562), radius=30/110.574,facecolor='b' ,alpha=0.5,label='唐山(2010)')\n",
    "cir4 = Circle(xy = (116.80854, 39.94622), radius=30/110.574,facecolor='k' ,alpha=0.5,label='燕郊(2010)')\n",
    "cir5 = Circle(xy = (117.95548, 40.92203), radius=30/110.574,facecolor='y' ,alpha=0.5,label='承德(2012)')\n",
    "\n",
    "ax.add_patch(cir1)\n",
    "ax.add_patch(cir2)\n",
    "ax.add_patch(cir3)\n",
    "ax.add_patch(cir4)\n",
    "ax.add_patch(cir5)\n",
    "\n",
    "ax.legend(loc=4,prop=myfont)"
   ]
  },
  {
   "cell_type": "code",
   "execution_count": 75,
   "metadata": {},
   "outputs": [],
   "source": [
    "merge_df_clean_2['石家庄'] = merge_df_clean_2.apply(lambda x:1 if ((((x['lnt']-114.46931)**2)+((x['lat']-38.00811)**2))**0.5)<(30/110.574) else 0,axis=1)\n",
    "merge_df_clean_2['保定'] = merge_df_clean_2.apply(lambda x:1 if ((((x['lnt']-115.46438)**2)+((x['lat']-38.893)**2))**0.5)<(30/110.574) else 0,axis=1)\n",
    "merge_df_clean_2['唐山'] = merge_df_clean_2.apply(lambda x:1 if ((((x['lnt']-118.1803)**2)+((x['lat']-39.67562)**2))**0.5)<(30/110.574) else 0,axis=1)\n",
    "merge_df_clean_2['燕郊'] = merge_df_clean_2.apply(lambda x:1 if ((((x['lnt']-116.80854)**2)+((x['lat']-39.94622)**2))**0.5)<(30/110.574) else 0,axis=1)\n",
    "merge_df_clean_2['承德'] = merge_df_clean_2.apply(lambda x:1 if ((((x['lnt']-117.95548)**2)+((x['lat']-40.92203)**2))**0.5)<(30/110.574) else 0,axis=1)\n",
    "patented = merge_df_clean_2[merge_df_clean_2['申请人']!='']\n",
    "not_patented = merge_df_clean_2[merge_df_clean_2['申请人']=='']"
   ]
  },
  {
   "cell_type": "code",
   "execution_count": 76,
   "metadata": {},
   "outputs": [
    {
     "data": {
      "text/plain": [
       "<matplotlib.legend.Legend at 0x1df90c751c8>"
      ]
     },
     "execution_count": 76,
     "metadata": {},
     "output_type": "execute_result"
    },
    {
     "data": {
      "image/png": "[encoded data removed]",
      "text/plain": [
       "<Figure size 720x360 with 1 Axes>"
      ]
     },
     "metadata": {
      "needs_background": "light"
     },
     "output_type": "display_data"
    }
   ],
   "source": [
    "fig = plt.figure(figsize = (10,5))\n",
    "ax1 = fig.add_subplot(111)\n",
    "ax1.set_ylabel('Counts')\n",
    "bar1 = ax1.bar(np.arange(0,6),[len(patented[patented['石家庄']==1]),len(patented[patented['保定']==1]),len(patented[patented['唐山']==1]),len(patented[patented['燕郊']==1]),len(patented[patented['承德']==1])\n",
    "                                ,len(patented[(patented['石家庄']==0)&(patented['保定']==0)&(patented['唐山']==0)&(patented['燕郊']==0)&(patented['承德']==0)])]\n",
    "               ,alpha=0.7,width=0.35,color='r',label='incoPat')\n",
    "bar2 = ax1.bar(np.arange(0,6)+0.35,[len(not_patented[not_patented['石家庄']==1]),len(not_patented[not_patented['保定']==1]),len(not_patented[not_patented['唐山']==1]),len(not_patented[not_patented['燕郊']==1]),len(not_patented[not_patented['承德']==1])\n",
    "                                ,len(not_patented[(not_patented['石家庄']==0)&(not_patented['保定']==0)&(not_patented['唐山']==0)&(not_patented['燕郊']==0)&(not_patented['承德']==0)])]\n",
    "               ,alpha=0.7,width=0.35,color='k',label='工企')\n",
    "for a,b in zip(np.arange(0,6),[len(patented[patented['石家庄']==1]),len(patented[patented['保定']==1]),len(patented[patented['唐山']==1]),len(patented[patented['燕郊']==1]),len(patented[patented['承德']==1])\n",
    "                                ,len(patented[(patented['石家庄']==0)&(patented['保定']==0)&(patented['唐山']==0)&(patented['燕郊']==0)&(patented['承德']==0)])]):  \n",
    "    plt.text(a, b+0.05, '%.0f' % b, ha='center', va= 'bottom',fontsize=8)  \n",
    "for a,b in zip(np.arange(0,6)+0.35,[len(not_patented[not_patented['石家庄']==1]),len(not_patented[not_patented['保定']==1]),len(not_patented[not_patented['唐山']==1]),len(not_patented[not_patented['燕郊']==1]),len(not_patented[not_patented['承德']==1])\n",
    "                                ,len(not_patented[(not_patented['石家庄']==0)&(not_patented['保定']==0)&(not_patented['唐山']==0)&(not_patented['燕郊']==0)&(not_patented['承德']==0)])]):  \n",
    "    plt.text(a, b+0.05, '%.0f' % b, ha='center', va= 'bottom',fontsize=8) \n",
    "\n",
    "plt.xticks([0.17,1.17,2.17,3.17,4.17,5.17],['石家庄','保定','唐山','燕郊','承德','高新區外'],fontproperties=myfont)\n",
    "plt.legend(handles = [bar1,bar2], loc='upper left',prop=myfont)"
   ]
  },
  {
   "cell_type": "code",
   "execution_count": null,
   "metadata": {},
   "outputs": [],
   "source": []
  }
 ],
 "metadata": {
  "kernelspec": {
   "display_name": "Python 3",
   "language": "python",
   "name": "python3"
  },
  "language_info": {
   "codemirror_mode": {
    "name": "ipython",
    "version": 3
   },
   "file_extension": ".py",
   "mimetype": "text/x-python",
   "name": "python",
   "nbconvert_exporter": "python",
   "pygments_lexer": "ipython3",
   "version": "3.7.4"
  }
 },
 "nbformat": 4,
 "nbformat_minor": 2
}
