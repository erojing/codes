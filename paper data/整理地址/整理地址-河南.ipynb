{
 "cells": [
  {
   "cell_type": "code",
   "execution_count": 1,
   "metadata": {},
   "outputs": [],
   "source": [
    "import pandas as pd\n",
    "import numpy as np\n",
    "import matplotlib.pyplot as plt\n",
    "import re\n",
    "import time\n",
    "import datetime\n",
    "import geocoder\n",
    "pd.set_option('display.max_rows',500)\n",
    "pd.set_option('display.max_columns',50)\n",
    "pd.set_option('max_colwidth',200)\n",
    "%matplotlib inline\n",
    "import requests\n",
    "import json\n",
    "import urllib\n",
    "from urllib.request import urlopen\n",
    "\n",
    "def getGeoForAddress(address):\n",
    "    add = urllib.parse.quote(address)\n",
    "    addressUrl = \"https://maps.googleapis.com/maps/api/geocode/json?address=\" + add + '&key='\n",
    "    res = requests.get(addressUrl)\n",
    "    js = json.loads(res.text)\n",
    "    if js.get('results'):\n",
    "        lat = js.get('results')[0]['geometry']['location']['lat']\n",
    "        lng = js.get('results')[0]['geometry']['location']['lng']\n",
    "    else:\n",
    "        lat = ''\n",
    "        lng = ''\n",
    "    return [lat, lng]\n",
    "def ngram(text, n=3, pad=True):\n",
    "    text = text.strip()\n",
    "    if pad:\n",
    "        text = \" %s \" % text\n",
    "    return set([text[i:i+n] for i in range(len(text)-n+1)])\n",
    "    \n",
    "def create_ngram(text1, text2, n=3, pad=True):\n",
    "    return ngram(text1, n=n, pad=pad), ngram(text2, n=n, pad=pad)\n",
    "\n",
    "def tversky_index(text1, text2, a=None, b=None, q=3, pad=True):\n",
    "    text1, text2 = create_ngram(text1, text2, n=q, pad=pad)\n",
    "    agree_tot = len(text1.intersection(text2))\n",
    "    v1 = len(text1) - agree_tot\n",
    "    v2 = len(text2) - agree_tot\n",
    "    \n",
    "    if a != None and b != None:\n",
    "        a = a/float(a+b)\n",
    "        b = b/float(a+b)\n",
    "    elif a <= 1.0 and a >= 0.0:\n",
    "        b = 1-a\n",
    "    elif b <= 1.0 and b >= 0.0:\n",
    "        a = 1-b\n",
    "    else:\n",
    "        a = 0.5\n",
    "        b = 0.5        \n",
    "    return float(agree_tot)/(agree_tot+a*v1+b*v2)\n",
    "# incoPat為申請人list\n",
    "def fuzzy(incoPat,indus):\n",
    "    corptype = ['有限','公司','责任','集团','股份','控股']\n",
    "    text1 = incoPat\n",
    "    text2 = indus\n",
    "    incoPat_nor = []   \n",
    "    for text in text1:\n",
    "        for i in corptype:\n",
    "            if i in text:\n",
    "                text = re.sub(i,'',text)\n",
    "        incoPat_nor.append(text)\n",
    "    for i in corptype:\n",
    "        if i in text2:\n",
    "            text2 = re.sub(i,'',text2)\n",
    "    similar = []\n",
    "    for text in incoPat_nor:\n",
    "        dice = tversky_index(text,text2, a=0.5, q=min(2,len(text),len(text2)), pad=False)\n",
    "        if dice>0.7:\n",
    "            similar.append([incoPat[incoPat_nor.index(text)],dice])\n",
    "        else:\n",
    "            pass\n",
    "    if len(similar)>0:\n",
    "        return similar[[k[1] for k in similar].index(max([i[1] for i in similar]))][0]\n",
    "    else:\n",
    "        return indus\n",
    "city_code = pd.read_excel('C:/Users/user/Dropbox/paper/科技園區/China/省地縣碼對照.xls')\n",
    "city_code = city_code[~city_code['代碼'].isnull()].drop(['标注','说明'],axis=1)\n",
    "city_code['代碼_str'] = city_code['代碼'].apply(lambda x:str(int(x)))\n",
    "city_code = city_code.drop('代碼',axis=1)"
   ]
  },
  {
   "cell_type": "markdown",
   "metadata": {},
   "source": [
    "# 河南資料整合"
   ]
  },
  {
   "cell_type": "code",
   "execution_count": 3,
   "metadata": {},
   "outputs": [],
   "source": [
    "df1 = pd.read_excel(r'E:\\paper\\專利資料-新型&授權\\新型授權-河南1.xls')\n",
    "df2 = pd.read_excel(r'E:\\paper\\專利資料-新型&授權\\新型授權-河南2.xls')\n",
    "df3 = pd.read_excel(r'E:\\paper\\專利資料-新型&授權\\新型授權-河南3.xls')\n",
    "\n",
    "patent_df = pd.concat([df1,df2,df3],ignore_index=True,sort=True)"
   ]
  },
  {
   "cell_type": "code",
   "execution_count": 3,
   "metadata": {},
   "outputs": [
    {
     "data": {
      "text/plain": [
       "(176856, 38)"
      ]
     },
     "execution_count": 3,
     "metadata": {},
     "output_type": "execute_result"
    }
   ],
   "source": [
    "patent_df.shape"
   ]
  },
  {
   "cell_type": "code",
   "execution_count": 4,
   "metadata": {},
   "outputs": [],
   "source": [
    "patent_df['申请人地址'].fillna('',inplace=True)\n",
    "patent_df = patent_df[patent_df['申请人地址']!='']"
   ]
  },
  {
   "cell_type": "code",
   "execution_count": 5,
   "metadata": {},
   "outputs": [
    {
     "data": {
      "text/plain": [
       "(176856, 38)"
      ]
     },
     "execution_count": 5,
     "metadata": {},
     "output_type": "execute_result"
    }
   ],
   "source": [
    "patent_df.shape"
   ]
  },
  {
   "cell_type": "code",
   "execution_count": 3,
   "metadata": {},
   "outputs": [
    {
     "name": "stderr",
     "output_type": "stream",
     "text": [
      "D:\\Anaconda\\lib\\site-packages\\IPython\\core\\interactiveshell.py:3058: DtypeWarning: Columns (0,3,16) have mixed types. Specify dtype option on import or set low_memory=False.\n",
      "  interactivity=interactivity, compiler=compiler, result=result)\n"
     ]
    }
   ],
   "source": [
    "#for PC\n",
    "patent_df = patent_df[patent_df['专利类型']=='发明授权']\n",
    "patent_df = patent_df[patent_df['申请人地址'].map(lambda x:len(re.findall(r'\\D+[\\s\\S]+',x)))==1]\n",
    "patent_df['申请人地址'] = patent_df['申请人地址'].map(lambda x:re.findall(r'\\D+[\\s\\S]+',x)[0])\n",
    "patent_df['申请人地址'] = patent_df['申请人地址'].map(lambda x:re.sub(r\"\\s+\", \"\",x))\n",
    "patent_df_firm = patent_df[patent_df['申请人类型'].str.contains('企业')]\n",
    "applicant = patent_df_firm['申请人'].str.split(';',expand=True).stack().reset_index(level=1,drop=True).rename('申请人2')\n",
    "patent_df_firm = patent_df_firm.join(applicant)\n",
    "patent_df_firm['類別'] = patent_df_firm['申请人类型'].map(lambda x:x.strip().split('  '))\n",
    "patent_df_firm = patent_df_firm[~patent_df_firm['标题'].duplicated()]\n",
    "patent_df_firm['申请人类型'] = patent_df_firm.apply(lambda x:x['類別'][0],axis=1)\n",
    "patent_df_firm = patent_df_firm[patent_df_firm['申请人类型']=='企业'].sort_values('申请日')\n",
    "patent_df_firm.drop(['類別','申请人'],axis=1,inplace=True)\n",
    "patent_df_firm.rename(columns={'申请人2':'申请人'},inplace=True)\n",
    "patent_df_firm = patent_df_firm[patent_df_firm['申请日']<datetime.datetime.strptime('2013-01-01','%Y-%m-%d')]\n",
    "patent_df_firm.drop_duplicates('申请人地址', keep='last', inplace=True)\n",
    "patent_df_firm.drop_duplicates('申请人', keep='last', inplace=True)\n",
    "\n",
    "firm_df = pd.read_csv(r'E:\\paper\\Firm csv\\firm_data_2012.csv')\n",
    "firm_gd = firm_df[firm_df['區域代碼'].astype(str).str.contains(r'41\\d{10}')==True]\n",
    "firm_gd = firm_gd.loc[:,['法人代碼','企業名稱','地址','區域代碼','行業代碼']]\n",
    "firm_gd['區域代碼_str'] = firm_gd['區域代碼'].astype(str).map(lambda x:x[0:6])\n",
    "firm_gd = pd.merge(firm_gd,city_code,left_on='區域代碼_str',right_on='代碼_str',how='left')\n",
    "firm_gd['名稱'].fillna('',inplace=True)\n",
    "firm_gd['市級'].fillna('',inplace=True)\n",
    "firm_gd['省份'].fillna('',inplace=True)\n",
    "firm_gd['地址'].fillna('',inplace=True)\n",
    "firm_gd['地址'] = firm_gd['地址'].map(lambda x:re.sub(r\"\\s+\", \"\",x))\n",
    "firm_gd['地址'] = firm_gd.apply(lambda x:re.sub(x['省份'],\"\",x['地址']),axis=1)\n",
    "firm_gd['地址'] = firm_gd.apply(lambda x:re.sub(x['市級'],\"\",x['地址']),axis=1)\n",
    "firm_gd['地址'] = firm_gd.apply(lambda x:re.sub(x['名稱'],\"\",x['地址']),axis=1)\n",
    "firm_gd['地址'] = firm_gd['省份']+firm_gd['市級']+firm_gd['名稱']+firm_gd['地址']\n",
    "firm_gd.drop(['省份','市級','名稱','代碼_str'],axis=1,inplace=True)\n",
    "firm_gd.dropna(subset=['企業名稱'],inplace=True)"
   ]
  },
  {
   "cell_type": "code",
   "execution_count": 7,
   "metadata": {},
   "outputs": [],
   "source": [
    "patent_df_firm = patent_df_firm[patent_df_firm['申请日']>datetime.datetime.strptime('2007-12-31','%Y-%m-%d')]\n",
    "incoPat = list(patent_df_firm['申请人'])"
   ]
  },
  {
   "cell_type": "code",
   "execution_count": 8,
   "metadata": {},
   "outputs": [
    {
     "data": {
      "text/plain": [
       "(6874, 38)"
      ]
     },
     "execution_count": 8,
     "metadata": {},
     "output_type": "execute_result"
    }
   ],
   "source": [
    "patent_df_firm.shape"
   ]
  },
  {
   "cell_type": "code",
   "execution_count": 9,
   "metadata": {},
   "outputs": [
    {
     "data": {
      "text/plain": [
       "(16914, 6)"
      ]
     },
     "execution_count": 9,
     "metadata": {},
     "output_type": "execute_result"
    }
   ],
   "source": [
    "firm_gd.shape"
   ]
  },
  {
   "cell_type": "code",
   "execution_count": 10,
   "metadata": {},
   "outputs": [],
   "source": [
    "firm_gd['name_模糊比對'] = firm_gd['企業名稱'].map(lambda x:fuzzy(incoPat,x))"
   ]
  },
  {
   "cell_type": "code",
   "execution_count": 11,
   "metadata": {},
   "outputs": [],
   "source": [
    "firm_gd.to_excel(r'E:\\paper\\清理結果-新型&授權\\河南_廠商.xlsx')"
   ]
  },
  {
   "cell_type": "markdown",
   "metadata": {},
   "source": [
    "# 非模糊比對"
   ]
  },
  {
   "cell_type": "code",
   "execution_count": 12,
   "metadata": {},
   "outputs": [
    {
     "name": "stdout",
     "output_type": "stream",
     "text": [
      "(2023, 45)\n",
      "(21765, 45)\n"
     ]
    }
   ],
   "source": [
    "merge_df = firm_gd.merge(patent_df_firm,left_on='企業名稱',right_on='申请人',how='outer')\n",
    "merge_df.fillna('',inplace=True)\n",
    "print(merge_df[(merge_df['企業名稱']!='')&(merge_df['申请人']!='')].shape)\n",
    "print(merge_df.shape)"
   ]
  },
  {
   "cell_type": "code",
   "execution_count": 13,
   "metadata": {
    "collapsed": true
   },
   "outputs": [
    {
     "name": "stdout",
     "output_type": "stream",
     "text": [
      "(3433, 50)\n",
      "(14785, 50)\n"
     ]
    },
    {
     "name": "stderr",
     "output_type": "stream",
     "text": [
      "D:\\Anaconda\\lib\\site-packages\\pandas\\core\\strings.py:1843: UserWarning: This pattern has match groups. To actually get the groups, use str.extract.\n",
      "  return func(self, *args, **kwargs)\n",
      "D:\\Anaconda\\lib\\site-packages\\ipykernel_launcher.py:4: SettingWithCopyWarning: \n",
      "A value is trying to be set on a copy of a slice from a DataFrame.\n",
      "Try using .loc[row_indexer,col_indexer] = value instead\n",
      "\n",
      "See the caveats in the documentation: http://pandas.pydata.org/pandas-docs/stable/user_guide/indexing.html#returning-a-view-versus-a-copy\n",
      "  after removing the cwd from sys.path.\n",
      "D:\\Anaconda\\lib\\site-packages\\ipykernel_launcher.py:5: SettingWithCopyWarning: \n",
      "A value is trying to be set on a copy of a slice from a DataFrame.\n",
      "Try using .loc[row_indexer,col_indexer] = value instead\n",
      "\n",
      "See the caveats in the documentation: http://pandas.pydata.org/pandas-docs/stable/user_guide/indexing.html#returning-a-view-versus-a-copy\n",
      "  \"\"\"\n",
      "D:\\Anaconda\\lib\\site-packages\\pandas\\core\\indexing.py:376: SettingWithCopyWarning: \n",
      "A value is trying to be set on a copy of a slice from a DataFrame.\n",
      "Try using .loc[row_indexer,col_indexer] = value instead\n",
      "\n",
      "See the caveats in the documentation: http://pandas.pydata.org/pandas-docs/stable/user_guide/indexing.html#returning-a-view-versus-a-copy\n",
      "  self.obj[key] = _infer_fill_value(value)\n",
      "D:\\Anaconda\\lib\\site-packages\\pandas\\core\\indexing.py:494: SettingWithCopyWarning: \n",
      "A value is trying to be set on a copy of a slice from a DataFrame.\n",
      "Try using .loc[row_indexer,col_indexer] = value instead\n",
      "\n",
      "See the caveats in the documentation: http://pandas.pydata.org/pandas-docs/stable/user_guide/indexing.html#returning-a-view-versus-a-copy\n",
      "  self.obj[item] = s\n"
     ]
    }
   ],
   "source": [
    "merge_df['name'] = merge_df.apply(lambda x:x['申请人'] if x['申请人']!='' else x['企業名稱'],axis=1)\n",
    "merge_df['address'] = merge_df.apply(lambda x:x['申请人地址'] if x['申请人地址']!='' else x['地址'],axis=1)\n",
    "merge_df_clean = merge_df[merge_df['address'].str.contains(r'\\w+(街|道|路|巷|村|小区|园区|社区)')]\n",
    "merge_df_clean['address'] = merge_df_clean['address'].map(lambda x: x+'号' if ((x[-1].isdigit()) and (re.match(r'\\w+[街道路巷]',x))) else x)\n",
    "merge_df_clean['完整地址'] = merge_df_clean['address'].map(lambda x:1 if re.compile(r'\\w+[街道路巷]\\S+号').search(x) else 0)\n",
    "merge_df_clean.loc[:,'lat'] = 0\n",
    "merge_df_clean.loc[:,'lnt'] = 0\n",
    "print(merge_df_clean[merge_df_clean['完整地址']==1].shape)\n",
    "print(merge_df_clean.shape)"
   ]
  },
  {
   "cell_type": "code",
   "execution_count": 14,
   "metadata": {},
   "outputs": [],
   "source": [
    "merge_df_clean.to_excel(r'E:\\paper\\清理結果-新型&授權\\河南_結果.xlsx')"
   ]
  },
  {
   "cell_type": "markdown",
   "metadata": {},
   "source": [
    "# merge舊資料"
   ]
  },
  {
   "cell_type": "code",
   "execution_count": 4,
   "metadata": {},
   "outputs": [
    {
     "name": "stdout",
     "output_type": "stream",
     "text": [
      "(790, 44)\n",
      "(18416, 44)\n",
      "(1797, 49)\n",
      "(18416, 49)\n"
     ]
    }
   ],
   "source": [
    "merge_df = firm_gd.merge(patent_df_firm,left_on='企業名稱',right_on='申请人',how='outer')\n",
    "merge_df.fillna('',inplace=True)\n",
    "print(merge_df[(merge_df['企業名稱']!='')&(merge_df['申请人']!='')].shape)\n",
    "print(merge_df.shape)\n",
    "merge_df['name'] = merge_df.apply(lambda x:x['申请人'] if x['申请人']!='' else x['企業名稱'],axis=1)\n",
    "merge_df['address'] = merge_df.apply(lambda x:x['申请人地址'] if x['申请人地址']!='' else x['地址'],axis=1)\n",
    "merge_df = merge_df[merge_df['address']!='']\n",
    "merge_df_clean = merge_df\n",
    "merge_df_clean['address'] = merge_df_clean['address'].map(lambda x: x+'号' if ((x[-1].isdigit()) and (re.match(r'\\w+[街道路巷]',x))) else x)\n",
    "merge_df_clean['完整地址'] = merge_df_clean['address'].map(lambda x:1 if re.compile(r'\\w+[街道路巷]\\S+号').search(x) else 0)\n",
    "merge_df_clean.loc[:,'lat'] = 0\n",
    "merge_df_clean.loc[:,'lnt'] = 0\n",
    "print(merge_df_clean[merge_df_clean['完整地址']==1].shape)\n",
    "print(merge_df_clean.shape)"
   ]
  },
  {
   "cell_type": "code",
   "execution_count": 5,
   "metadata": {},
   "outputs": [
    {
     "data": {
      "text/plain": [
       "Index(['Unnamed: 0', '法人代碼', '企業名稱', '地址', '區域代碼', '行業代碼', '區域代碼_str',\n",
       "       'name_模糊比對', 'CPC', 'IPC', 'inpadoc同族', 'inpadoc同族个数', '专利寿命（月）',\n",
       "       '专利类型', '中国申请人区县', '中国申请人地市', '优先权信息', '公开国别', '公开（公告）号', '公开（公告）日',\n",
       "       '发明人', '合享价值度', '同族国家', '失效日', '序号', '引证专利', '引证科技文献', '扩展同族', '扩展同族个数',\n",
       "       '文献页数', '权利要求数量', '标准化申请人', '标题', '申请人', '申请人国别代码', '申请人地址', '申请人省市代码',\n",
       "       '申请人类型', '申请号', '申请日', '简单同族', '简单同族个数', '被引证专利', '被引证国别(forward)',\n",
       "       '被引证次数', '链接到incoPat', 'name', 'address', '完整地址', 'lat', 'lnt', '郑州',\n",
       "       '洛陽', '安陽', '南陽', '新鄉', '專利數', '早期園區', '近期園區'],\n",
       "      dtype='object')"
      ]
     },
     "execution_count": 5,
     "metadata": {},
     "output_type": "execute_result"
    }
   ],
   "source": [
    "done_data = pd.read_excel(r'E:\\paper\\清理結果-園區內外\\河南_結果.xlsx')\n",
    "done_data.columns"
   ]
  },
  {
   "cell_type": "code",
   "execution_count": 6,
   "metadata": {},
   "outputs": [
    {
     "data": {
      "text/plain": [
       "(6995, 57)"
      ]
     },
     "execution_count": 6,
     "metadata": {},
     "output_type": "execute_result"
    }
   ],
   "source": [
    "merge_df_clean.drop(['lat','lnt'],axis=1,inplace=True)\n",
    "merge_df_clean = merge_df_clean.merge(done_data[['name','lat','lnt','郑州','洛陽','安陽','南陽','新鄉','專利數','早期園區','近期園區']],left_on='name',right_on='name',how='left')\n",
    "merge_df_clean['lat'].fillna('',inplace=True)\n",
    "merge_df_clean[merge_df_clean['lat']==''].shape"
   ]
  },
  {
   "cell_type": "code",
   "execution_count": 7,
   "metadata": {},
   "outputs": [],
   "source": [
    "merge_df_clean.to_excel(r'E:\\paper\\清理結果-新\\河南_結果.xlsx')"
   ]
  },
  {
   "cell_type": "markdown",
   "metadata": {},
   "source": [
    "# 模糊比對"
   ]
  },
  {
   "cell_type": "code",
   "execution_count": 15,
   "metadata": {},
   "outputs": [
    {
     "name": "stdout",
     "output_type": "stream",
     "text": [
      "(2248, 45)\n",
      "(21420, 45)\n"
     ]
    }
   ],
   "source": [
    "merge_df_fuzzy = firm_gd.merge(patent_df_firm,left_on='name_模糊比對',right_on='申请人',how='outer')\n",
    "merge_df_fuzzy.fillna('',inplace=True)\n",
    "merge_df_fuzzy.drop_duplicates(['name_模糊比對','申请人'], keep='last', inplace=True)\n",
    "print(merge_df_fuzzy[(merge_df_fuzzy['申请人']!='')&(merge_df_fuzzy['企業名稱']!='')].shape)\n",
    "print(merge_df_fuzzy.shape)"
   ]
  },
  {
   "cell_type": "code",
   "execution_count": 16,
   "metadata": {
    "scrolled": true
   },
   "outputs": [
    {
     "name": "stdout",
     "output_type": "stream",
     "text": [
      "(3400, 50)\n",
      "(14561, 50)\n"
     ]
    },
    {
     "name": "stderr",
     "output_type": "stream",
     "text": [
      "D:\\Anaconda\\lib\\site-packages\\ipykernel_launcher.py:4: SettingWithCopyWarning: \n",
      "A value is trying to be set on a copy of a slice from a DataFrame.\n",
      "Try using .loc[row_indexer,col_indexer] = value instead\n",
      "\n",
      "See the caveats in the documentation: http://pandas.pydata.org/pandas-docs/stable/user_guide/indexing.html#returning-a-view-versus-a-copy\n",
      "  after removing the cwd from sys.path.\n",
      "D:\\Anaconda\\lib\\site-packages\\ipykernel_launcher.py:5: SettingWithCopyWarning: \n",
      "A value is trying to be set on a copy of a slice from a DataFrame.\n",
      "Try using .loc[row_indexer,col_indexer] = value instead\n",
      "\n",
      "See the caveats in the documentation: http://pandas.pydata.org/pandas-docs/stable/user_guide/indexing.html#returning-a-view-versus-a-copy\n",
      "  \"\"\"\n"
     ]
    }
   ],
   "source": [
    "merge_df_fuzzy['name'] = merge_df_fuzzy.apply(lambda x:x['申请人'] if x['申请人']!='' else x['企業名稱'],axis=1)\n",
    "merge_df_fuzzy['address'] = merge_df_fuzzy.apply(lambda x:x['申请人地址'] if x['申请人地址']!='' else x['地址'],axis=1)\n",
    "merge_df_fuzzy_clean = merge_df_fuzzy[merge_df_fuzzy['address'].str.contains(r'\\w+(街|道|路|巷|村|小区|园区|社区)')]\n",
    "merge_df_fuzzy_clean['address'] = merge_df_fuzzy_clean['address'].map(lambda x: x+'号' if ((x[-1].isdigit()) and (re.match(r'\\w+[街道路巷]',x))) else x)\n",
    "merge_df_fuzzy_clean['完整地址'] = merge_df_fuzzy_clean['address'].map(lambda x:1 if re.compile(r'\\w+[街道路巷]\\S+号').search(x) else 0)\n",
    "merge_df_fuzzy_clean.loc[:,'lat'] = 0\n",
    "merge_df_fuzzy_clean.loc[:,'lnt'] = 0\n",
    "print(merge_df_fuzzy_clean[merge_df_fuzzy_clean['完整地址']==1].shape)\n",
    "print(merge_df_fuzzy_clean.shape)"
   ]
  },
  {
   "cell_type": "code",
   "execution_count": 17,
   "metadata": {},
   "outputs": [],
   "source": [
    "merge_df_fuzzy_clean.to_excel(r'E:\\paper\\清理結果-新型&授權\\河南_模糊結果.xlsx')"
   ]
  },
  {
   "cell_type": "markdown",
   "metadata": {},
   "source": [
    "# 定位"
   ]
  },
  {
   "cell_type": "code",
   "execution_count": 2,
   "metadata": {},
   "outputs": [],
   "source": [
    "merge_df_clean = pd.read_excel(r'E:\\paper\\清理結果-新型&授權\\河南_結果.xlsx',index_col=0)"
   ]
  },
  {
   "cell_type": "code",
   "execution_count": 4,
   "metadata": {},
   "outputs": [
    {
     "data": {
      "text/plain": [
       "(6995, 57)"
      ]
     },
     "execution_count": 4,
     "metadata": {},
     "output_type": "execute_result"
    }
   ],
   "source": [
    "merge_df_clean = pd.read_excel(r'E:\\paper\\清理結果-新\\河南_結果.xlsx',index_col=0)\n",
    "merge_df_clean.fillna('',inplace=True)\n",
    "merge_df_clean[merge_df_clean['lat']==''].shape"
   ]
  },
  {
   "cell_type": "code",
   "execution_count": 5,
   "metadata": {},
   "outputs": [],
   "source": [
    "for i in merge_df_clean[merge_df_clean['lat']==''].index:\n",
    "    address = merge_df_clean.loc[i,'address']\n",
    "    g = getGeoForAddress(address)\n",
    "    merge_df_clean.loc[i,'lat'] = g[0]\n",
    "    merge_df_clean.loc[i,'lnt'] = g[1]"
   ]
  },
  {
   "cell_type": "code",
   "execution_count": 6,
   "metadata": {},
   "outputs": [
    {
     "name": "stdout",
     "output_type": "stream",
     "text": [
      "(18416, 57)\n",
      "(202, 57)\n"
     ]
    }
   ],
   "source": [
    "print(merge_df_clean.shape)\n",
    "print(merge_df_clean[merge_df_clean['lat']==''].shape)"
   ]
  },
  {
   "cell_type": "code",
   "execution_count": 7,
   "metadata": {},
   "outputs": [],
   "source": [
    "merge_df_clean.to_excel(r'E:\\paper\\清理結果-新\\河南_結果.xlsx')"
   ]
  },
  {
   "cell_type": "markdown",
   "metadata": {},
   "source": [
    "# 作圖"
   ]
  },
  {
   "cell_type": "code",
   "execution_count": 8,
   "metadata": {},
   "outputs": [],
   "source": [
    "from geopy.distance import geodesic\n",
    "def how_far(a,b):\n",
    "    try:\n",
    "        return geodesic(a,b).kilometers\n",
    "    except:\n",
    "        return np.nan\n",
    "applicant = patent_df['申请人'].str.split(';',expand=True).stack().reset_index(level=1,drop=True).rename('申请人2')\n",
    "applicant = applicant.map(lambda x:x.strip())\n",
    "patent_df_new = patent_df.join(applicant)\n",
    "patent_count = patent_df_new.groupby('申请人2')['标题'].count().rename('專利數')"
   ]
  },
  {
   "cell_type": "code",
   "execution_count": 9,
   "metadata": {},
   "outputs": [
    {
     "data": {
      "text/plain": [
       "申请人2\n",
       "河南五一化工有限公司         1\n",
       "潘子美                1\n",
       "潘子恒                1\n",
       "潘子叶                1\n",
       "潘娅                 1\n",
       "                ... \n",
       "河南中烟工业有限责任公司    1236\n",
       "河南理工大学          1305\n",
       "国家电网公司          1403\n",
       "郑州大学            1567\n",
       "河南科技大学          2717\n",
       "Name: 專利數, Length: 49599, dtype: int64"
      ]
     },
     "execution_count": 9,
     "metadata": {},
     "output_type": "execute_result"
    }
   ],
   "source": [
    "patent_count.sort_values()"
   ]
  },
  {
   "cell_type": "code",
   "execution_count": 5,
   "metadata": {},
   "outputs": [],
   "source": [
    "merge_df = pd.read_excel(r'E:\\paper\\清理結果-新型&授權\\河南_結果.xlsx',index_col=0)\n",
    "target1 = (34.81189,113.56691)\n",
    "merge_df['郑州'] = merge_df.apply(lambda x:how_far(target1,(x['lat'],x['lnt'])),axis=1)\n",
    "target2 = (34.62107,112.38383)\n",
    "merge_df['洛陽'] = merge_df.apply(lambda x:how_far(target2,(x['lat'],x['lnt'])),axis=1)\n",
    "target3 = (36.06895,114.36412)\n",
    "merge_df['安陽'] = merge_df.apply(lambda x:how_far(target3,(x['lat'],x['lnt'])),axis=1)\n",
    "target4 = (32.99066,112.5283)\n",
    "merge_df['南陽'] = merge_df.apply(lambda x:how_far(target4,(x['lat'],x['lnt'])),axis=1)\n",
    "target5 = (35.28208,113.89946)\n",
    "merge_df['新鄉'] = merge_df.apply(lambda x:how_far(target5,(x['lat'],x['lnt'])),axis=1)\n",
    "merge_df = merge_df.merge(patent_count,left_on='name',right_on='申请人2',how='left')\n",
    "merge_df['專利數'].fillna(0,inplace=True)"
   ]
  },
  {
   "cell_type": "code",
   "execution_count": 10,
   "metadata": {},
   "outputs": [],
   "source": [
    "merge_df = pd.read_excel(r'E:\\paper\\清理結果-新\\河南_結果.xlsx',index_col=0)\n",
    "merge_df.fillna('',inplace=True)\n",
    "merge_df.drop('專利數',axis=1,inplace=True)\n",
    "target1 = (34.81189,113.56691)\n",
    "target2 = (34.62107,112.38383)\n",
    "target3 = (36.06895,114.36412)\n",
    "target4 = (32.99066,112.5283)\n",
    "target5 = (35.28208,113.89946)\n",
    "\n",
    "for i in merge_df[merge_df['郑州']==''].index:\n",
    "    merge_df.loc[i,'郑州'] = how_far(target1,(merge_df.loc[i,'lat'],merge_df.loc[i,'lnt']))\n",
    "    merge_df.loc[i,'洛陽'] = how_far(target2,(merge_df.loc[i,'lat'],merge_df.loc[i,'lnt']))\n",
    "    merge_df.loc[i,'安陽'] = how_far(target3,(merge_df.loc[i,'lat'],merge_df.loc[i,'lnt']))\n",
    "    merge_df.loc[i,'南陽'] = how_far(target4,(merge_df.loc[i,'lat'],merge_df.loc[i,'lnt']))\n",
    "    merge_df.loc[i,'新鄉'] = how_far(target5,(merge_df.loc[i,'lat'],merge_df.loc[i,'lnt']))\n",
    "merge_df = merge_df.merge(patent_count,left_on='name',right_on='申请人2',how='left')\n",
    "merge_df['專利數'].fillna(0,inplace=True)"
   ]
  },
  {
   "cell_type": "code",
   "execution_count": 11,
   "metadata": {},
   "outputs": [],
   "source": [
    "merge_df['早期園區'] = merge_df.apply(lambda x:1 if ((x['郑州']<10)or(x['洛陽']<10)) else 0,axis=1)\n",
    "merge_df['近期園區'] = merge_df.apply(lambda x:1 if ((x['安陽']<10)or(x['南陽']<10)or(x['新鄉']<10)) else 0,axis=1)"
   ]
  },
  {
   "cell_type": "code",
   "execution_count": 15,
   "metadata": {
    "scrolled": true
   },
   "outputs": [],
   "source": [
    "merge_df.to_excel(r'E:\\paper\\清理結果-新園區內外\\河南_結果.xlsx')"
   ]
  },
  {
   "cell_type": "code",
   "execution_count": 12,
   "metadata": {},
   "outputs": [
    {
     "name": "stdout",
     "output_type": "stream",
     "text": [
      "(18416, 57)\n",
      "0.7915942658557776\n",
      "0.006678974804517811\n"
     ]
    }
   ],
   "source": [
    "print(merge_df.shape)\n",
    "print(len(merge_df[merge_df['專利數']==0]['專利數'])/len(merge_df['專利數']))\n",
    "print(len(merge_df[merge_df['專利數']>=100]['專利數'])/len(merge_df['專利數']))"
   ]
  },
  {
   "cell_type": "code",
   "execution_count": 13,
   "metadata": {},
   "outputs": [
    {
     "data": {
      "text/plain": [
       "專利數\n",
       "0.0       14578\n",
       "1.0         774\n",
       "2.0         458\n",
       "3.0         299\n",
       "4.0         199\n",
       "5.0         156\n",
       "6.0         168\n",
       "7.0         162\n",
       "8.0         154\n",
       "9.0         129\n",
       "10.0        100\n",
       "11.0         76\n",
       "12.0         76\n",
       "13.0         69\n",
       "14.0         71\n",
       "15.0         56\n",
       "16.0         54\n",
       "17.0         56\n",
       "18.0         35\n",
       "19.0         31\n",
       "20.0         41\n",
       "21.0         38\n",
       "22.0         22\n",
       "23.0         26\n",
       "24.0         24\n",
       "25.0         16\n",
       "26.0         16\n",
       "27.0         19\n",
       "28.0         18\n",
       "29.0         22\n",
       "30.0         17\n",
       "31.0         15\n",
       "32.0         19\n",
       "33.0         14\n",
       "34.0         17\n",
       "35.0         11\n",
       "36.0          7\n",
       "37.0         10\n",
       "38.0          9\n",
       "39.0          8\n",
       "40.0         10\n",
       "41.0          5\n",
       "42.0          9\n",
       "43.0         13\n",
       "44.0          6\n",
       "45.0          5\n",
       "46.0         10\n",
       "47.0          1\n",
       "48.0          7\n",
       "49.0          3\n",
       "50.0          7\n",
       "51.0         10\n",
       "52.0          6\n",
       "53.0          8\n",
       "54.0          7\n",
       "55.0          9\n",
       "56.0          5\n",
       "57.0          3\n",
       "58.0          3\n",
       "59.0          3\n",
       "60.0          4\n",
       "61.0          5\n",
       "62.0          2\n",
       "63.0          5\n",
       "64.0          5\n",
       "65.0          4\n",
       "67.0          5\n",
       "68.0          3\n",
       "69.0          2\n",
       "70.0          2\n",
       "71.0          3\n",
       "72.0          4\n",
       "73.0          1\n",
       "74.0          2\n",
       "75.0          1\n",
       "76.0          2\n",
       "77.0          2\n",
       "78.0          2\n",
       "79.0          5\n",
       "81.0          3\n",
       "82.0          2\n",
       "83.0          4\n",
       "84.0          2\n",
       "85.0          2\n",
       "87.0          3\n",
       "89.0          4\n",
       "90.0          1\n",
       "91.0          1\n",
       "92.0          3\n",
       "93.0          1\n",
       "94.0          1\n",
       "96.0          1\n",
       "97.0          2\n",
       "98.0          3\n",
       "99.0          1\n",
       "101.0         3\n",
       "102.0         3\n",
       "103.0         1\n",
       "105.0         1\n",
       "106.0         1\n",
       "107.0         2\n",
       "109.0         2\n",
       "110.0         2\n",
       "111.0         1\n",
       "112.0         3\n",
       "114.0         1\n",
       "116.0         1\n",
       "117.0         2\n",
       "118.0         2\n",
       "120.0         1\n",
       "122.0         2\n",
       "123.0         2\n",
       "124.0         1\n",
       "125.0         3\n",
       "126.0         1\n",
       "129.0         1\n",
       "131.0         1\n",
       "132.0         1\n",
       "134.0         1\n",
       "141.0         1\n",
       "142.0         1\n",
       "145.0         1\n",
       "146.0         2\n",
       "147.0         1\n",
       "149.0         1\n",
       "150.0         2\n",
       "151.0         1\n",
       "152.0         3\n",
       "153.0         1\n",
       "154.0         2\n",
       "158.0         1\n",
       "159.0         1\n",
       "160.0         1\n",
       "164.0         1\n",
       "165.0         1\n",
       "166.0         2\n",
       "167.0         1\n",
       "168.0         1\n",
       "170.0         1\n",
       "171.0         1\n",
       "176.0         1\n",
       "177.0         1\n",
       "180.0         1\n",
       "184.0         1\n",
       "186.0         1\n",
       "189.0         1\n",
       "190.0         2\n",
       "193.0         1\n",
       "198.0         1\n",
       "199.0         1\n",
       "202.0         1\n",
       "205.0         1\n",
       "206.0         2\n",
       "208.0         1\n",
       "210.0         1\n",
       "217.0         1\n",
       "225.0         1\n",
       "228.0         1\n",
       "233.0         1\n",
       "234.0         1\n",
       "238.0         1\n",
       "247.0         2\n",
       "250.0         1\n",
       "253.0         1\n",
       "255.0         1\n",
       "260.0         1\n",
       "263.0         1\n",
       "265.0         1\n",
       "267.0         1\n",
       "268.0         1\n",
       "273.0         1\n",
       "274.0         1\n",
       "293.0         1\n",
       "312.0         1\n",
       "317.0         1\n",
       "332.0         1\n",
       "347.0         1\n",
       "354.0         1\n",
       "370.0         1\n",
       "393.0         1\n",
       "409.0         1\n",
       "470.0         1\n",
       "473.0         1\n",
       "477.0         1\n",
       "500.0         1\n",
       "535.0         1\n",
       "568.0         1\n",
       "654.0         1\n",
       "658.0         1\n",
       "663.0         1\n",
       "666.0         1\n",
       "731.0         1\n",
       "1131.0        1\n",
       "1236.0        1\n",
       "Name: IPC, dtype: int64"
      ]
     },
     "execution_count": 13,
     "metadata": {},
     "output_type": "execute_result"
    }
   ],
   "source": [
    "merge_df.groupby('專利數')['IPC'].count()"
   ]
  },
  {
   "cell_type": "code",
   "execution_count": 14,
   "metadata": {},
   "outputs": [
    {
     "data": {
      "text/plain": [
       "專利數\n",
       "0.0      170\n",
       "1.0       12\n",
       "2.0        3\n",
       "3.0        2\n",
       "4.0        3\n",
       "8.0        3\n",
       "10.0       2\n",
       "11.0       1\n",
       "15.0       1\n",
       "17.0       1\n",
       "22.0       1\n",
       "26.0       1\n",
       "31.0       1\n",
       "260.0      1\n",
       "Name: IPC, dtype: int64"
      ]
     },
     "execution_count": 14,
     "metadata": {},
     "output_type": "execute_result"
    }
   ],
   "source": [
    "merge_df[merge_df['lat']==''].groupby('專利數')['IPC'].count()"
   ]
  },
  {
   "cell_type": "code",
   "execution_count": 18,
   "metadata": {},
   "outputs": [
    {
     "data": {
      "text/plain": [
       "Text(0, 0.5, '無法定位廠商數量')"
      ]
     },
     "execution_count": 18,
     "metadata": {},
     "output_type": "execute_result"
    },
    {
     "data": {
      "image/png": "[encoded data removed]",
      "text/plain": [
       "<Figure size 432x288 with 2 Axes>"
      ]
     },
     "metadata": {
      "needs_background": "light"
     },
     "output_type": "display_data"
    }
   ],
   "source": [
    "from matplotlib.font_manager import FontProperties\n",
    "myfont = FontProperties(fname=r'C:\\Windows\\Fonts\\msjhbd.ttc')\n",
    "fig = plt.figure()\n",
    "ax1 = fig.add_subplot(111)\n",
    "ax1.plot(merge_df[merge_df['lat']!=0].groupby('專利數')['IPC'].count().index,merge_df[merge_df['lat']!=0].groupby('專利數')['IPC'].count())\n",
    "ax1.set_title('河南',fontproperties=myfont,fontsize=15)\n",
    "ax1.set_ylabel('廠商數量',fontproperties=myfont)\n",
    "ax1.set_xlabel('專利數量',fontproperties=myfont)\n",
    "ax1.set_xlim([0,100])\n",
    "ax1.set_ylim([0,1000])\n",
    "ax2 = ax1.twinx()\n",
    "ax2.bar(merge_df[merge_df['lat']==''].groupby('專利數')['IPC'].count().index,merge_df[merge_df['lat']==''].groupby('專利數')['IPC'].count(),color='red')\n",
    "ax2.set_ylim([0,20])\n",
    "ax2.set_ylabel('無法定位廠商數量',fontproperties=myfont)\n"
   ]
  },
  {
   "cell_type": "code",
   "execution_count": 2,
   "metadata": {},
   "outputs": [
    {
     "name": "stdout",
     "output_type": "stream",
     "text": [
      "1417\n",
      "0.0781448188385816\n",
      "50\n"
     ]
    }
   ],
   "source": [
    "region = pd.read_excel(r'E:\\paper\\清理結果-新園區內外\\河南_結果.xlsx',index_col=0)\n",
    "region.fillna('',inplace=True)\n",
    "corptype = ['有限','责任','集团','股份','控股','总公司','分公司','公司']\n",
    "region['name_clean'] = region['name']\n",
    "for k in corptype:\n",
    "    region['name_clean'] = region['name_clean'].map(lambda x:re.sub(k,'',x))\n",
    "region['name_clean'] = region['name_clean'].map(lambda x:re.sub(r'\\(.*?\\)','',x))\n",
    "region['name_clean'] = region['name_clean'].map(lambda x:re.sub(r'\\（.*?\\）','',x))\n",
    "region['name_clean'] = region['name_clean'].map(lambda x:re.sub(r'\\(.*?\\）','',x))\n",
    "region['name_clean'] = region['name_clean'].map(lambda x:re.sub(r'\\（.*?\\)','',x))\n",
    "region['name_clean'] = region['name_clean'].map(lambda x:re.sub(r'[\\s+-─]','',x))\n",
    "clean = region[region.duplicated(['name_clean'],keep=False)].sort_values(by=['企業名稱'])\n",
    "patents = clean.groupby('name_clean')['專利數'].sum()\n",
    "final = clean.drop('專利數',axis=1).merge(patents,left_on='name_clean',right_on='name_clean',how='left')\n",
    "final.drop_duplicates(['name_clean'],keep='last',inplace=True)\n",
    "region.drop_duplicates(['name_clean'],keep=False,inplace=True)\n",
    "cleaned = pd.concat([region,final],ignore_index=True,sort=False)\n",
    "located = cleaned[cleaned['lat']!='']\n",
    "not_merge = located[located['企業名稱']=='']\n",
    "print(len(not_merge['專利數']))\n",
    "print(len(not_merge['專利數'])/len(located['專利數']))\n",
    "print(len(not_merge[not_merge['專利數']>100]['專利數']))"
   ]
  },
  {
   "cell_type": "code",
   "execution_count": 3,
   "metadata": {},
   "outputs": [
    {
     "data": {
      "text/plain": [
       "專利數\n",
       "1      305\n",
       "2      189\n",
       "3      134\n",
       "4       75\n",
       "5       63\n",
       "6       57\n",
       "7       64\n",
       "8       36\n",
       "9       46\n",
       "10      43\n",
       "11      22\n",
       "12      27\n",
       "13      30\n",
       "14      19\n",
       "15      15\n",
       "16      17\n",
       "17      13\n",
       "18      11\n",
       "19       2\n",
       "20      11\n",
       "21       7\n",
       "22       9\n",
       "23       8\n",
       "24       7\n",
       "25       4\n",
       "26       3\n",
       "27       7\n",
       "28       8\n",
       "29       5\n",
       "30       3\n",
       "31       6\n",
       "32      12\n",
       "33       3\n",
       "34       7\n",
       "35       6\n",
       "36       4\n",
       "37       4\n",
       "38       4\n",
       "39       1\n",
       "40       6\n",
       "41       2\n",
       "42       5\n",
       "43       3\n",
       "44       3\n",
       "45       2\n",
       "46       5\n",
       "48       2\n",
       "50       5\n",
       "51       2\n",
       "52       1\n",
       "53       3\n",
       "54       3\n",
       "55       4\n",
       "58       1\n",
       "59       2\n",
       "60       2\n",
       "63       2\n",
       "64       1\n",
       "65       4\n",
       "67       3\n",
       "68       1\n",
       "70       1\n",
       "71       1\n",
       "72       2\n",
       "73       1\n",
       "74       2\n",
       "76       1\n",
       "78       1\n",
       "79       2\n",
       "81       1\n",
       "82       1\n",
       "87       2\n",
       "90       1\n",
       "96       1\n",
       "99       1\n",
       "102      2\n",
       "103      1\n",
       "107      1\n",
       "112      2\n",
       "122      2\n",
       "123      1\n",
       "125      1\n",
       "129      1\n",
       "131      1\n",
       "134      1\n",
       "142      1\n",
       "145      1\n",
       "147      1\n",
       "151      1\n",
       "152      1\n",
       "153      1\n",
       "154      1\n",
       "158      1\n",
       "160      1\n",
       "166      1\n",
       "168      1\n",
       "180      1\n",
       "186      1\n",
       "189      1\n",
       "190      2\n",
       "198      1\n",
       "217      2\n",
       "228      1\n",
       "238      1\n",
       "255      1\n",
       "263      1\n",
       "265      1\n",
       "267      1\n",
       "268      1\n",
       "273      1\n",
       "274      1\n",
       "293      1\n",
       "312      1\n",
       "378      1\n",
       "409      1\n",
       "477      1\n",
       "535      1\n",
       "568      1\n",
       "654      1\n",
       "658      1\n",
       "Name: IPC, dtype: int64"
      ]
     },
     "execution_count": 3,
     "metadata": {},
     "output_type": "execute_result"
    }
   ],
   "source": [
    "not_merge.groupby('專利數')['IPC'].count()"
   ]
  },
  {
   "cell_type": "code",
   "execution_count": 4,
   "metadata": {
    "scrolled": true
   },
   "outputs": [
    {
     "data": {
      "text/html": [
       "<div>\n",
       "<style scoped>\n",
       "    .dataframe tbody tr th:only-of-type {\n",
       "        vertical-align: middle;\n",
       "    }\n",
       "\n",
       "    .dataframe tbody tr th {\n",
       "        vertical-align: top;\n",
       "    }\n",
       "\n",
       "    .dataframe thead th {\n",
       "        text-align: right;\n",
       "    }\n",
       "</style>\n",
       "<table border=\"1\" class=\"dataframe\">\n",
       "  <thead>\n",
       "    <tr style=\"text-align: right;\">\n",
       "      <th></th>\n",
       "      <th>法人代碼</th>\n",
       "      <th>企業名稱</th>\n",
       "      <th>地址</th>\n",
       "      <th>區域代碼</th>\n",
       "      <th>行業代碼</th>\n",
       "      <th>區域代碼_str</th>\n",
       "      <th>CPC</th>\n",
       "      <th>IPC</th>\n",
       "      <th>inpadoc同族</th>\n",
       "      <th>inpadoc同族个数</th>\n",
       "      <th>专利寿命（月）</th>\n",
       "      <th>专利类型</th>\n",
       "      <th>中国申请人区县</th>\n",
       "      <th>中国申请人地市</th>\n",
       "      <th>优先权信息</th>\n",
       "      <th>公开国别</th>\n",
       "      <th>公开（公告）号</th>\n",
       "      <th>公开（公告）日</th>\n",
       "      <th>发明人</th>\n",
       "      <th>合享价值度</th>\n",
       "      <th>同族国家</th>\n",
       "      <th>失效日</th>\n",
       "      <th>序号</th>\n",
       "      <th>引证专利</th>\n",
       "      <th>引证科技文献</th>\n",
       "      <th>...</th>\n",
       "      <th>申请人省市代码</th>\n",
       "      <th>申请人类型</th>\n",
       "      <th>申请号</th>\n",
       "      <th>申请日</th>\n",
       "      <th>简单同族</th>\n",
       "      <th>简单同族个数</th>\n",
       "      <th>被引证专利</th>\n",
       "      <th>被引证国别(forward)</th>\n",
       "      <th>被引证次数</th>\n",
       "      <th>链接到incoPat</th>\n",
       "      <th>申请人</th>\n",
       "      <th>name</th>\n",
       "      <th>address</th>\n",
       "      <th>完整地址</th>\n",
       "      <th>lat</th>\n",
       "      <th>lnt</th>\n",
       "      <th>郑州</th>\n",
       "      <th>洛陽</th>\n",
       "      <th>安陽</th>\n",
       "      <th>南陽</th>\n",
       "      <th>新鄉</th>\n",
       "      <th>早期園區</th>\n",
       "      <th>近期園區</th>\n",
       "      <th>專利數</th>\n",
       "      <th>name_clean</th>\n",
       "    </tr>\n",
       "  </thead>\n",
       "  <tbody>\n",
       "    <tr>\n",
       "      <td>18169</td>\n",
       "      <td></td>\n",
       "      <td></td>\n",
       "      <td></td>\n",
       "      <td></td>\n",
       "      <td></td>\n",
       "      <td></td>\n",
       "      <td></td>\n",
       "      <td>G01R31/00</td>\n",
       "      <td>CN103033701B; CN103033701A</td>\n",
       "      <td>2</td>\n",
       "      <td></td>\n",
       "      <td>发明授权</td>\n",
       "      <td>[许昌]</td>\n",
       "      <td>[许昌]</td>\n",
       "      <td></td>\n",
       "      <td>CN</td>\n",
       "      <td>CN103033701B</td>\n",
       "      <td>2017-11-07 00:00:00</td>\n",
       "      <td>姚为正; 刘刚; 孙健; 姚钊; 夏克鹏; 李海鲲</td>\n",
       "      <td>9</td>\n",
       "      <td>CN</td>\n",
       "      <td></td>\n",
       "      <td>1058</td>\n",
       "      <td>CN102170110A; CN102323546A; CN102323545A; CN102780409A; US20110141773A1</td>\n",
       "      <td>&lt;text&gt;Khatir MOHAMED et al..Performance Analysis of a Voltage Source Converter (VSC) based HVDC Transmission System under Faulted Conditions.《Leonardo Journal of Sciences》.2009, 33-46.&lt;/text&gt;&lt;text...</td>\n",
       "      <td>...</td>\n",
       "      <td>河南; 41</td>\n",
       "      <td>企业</td>\n",
       "      <td>CN201210507352.7</td>\n",
       "      <td>2012-11-30 00:00:00</td>\n",
       "      <td>CN103033701B; CN103033701A</td>\n",
       "      <td>2</td>\n",
       "      <td></td>\n",
       "      <td></td>\n",
       "      <td>0</td>\n",
       "      <td>到incoPat中查看\\r\\nCN103033701B</td>\n",
       "      <td>许继电气股份有限公司</td>\n",
       "      <td>许继电气股份有限公司</td>\n",
       "      <td>河南省许昌市许继大道1298号</td>\n",
       "      <td>1</td>\n",
       "      <td>34.0236</td>\n",
       "      <td>113.806</td>\n",
       "      <td>90.162269</td>\n",
       "      <td>146.710627</td>\n",
       "      <td>232.551982</td>\n",
       "      <td>164.984391</td>\n",
       "      <td>139.867544</td>\n",
       "      <td>0</td>\n",
       "      <td>0</td>\n",
       "      <td>535</td>\n",
       "      <td>许继电气</td>\n",
       "    </tr>\n",
       "    <tr>\n",
       "      <td>17608</td>\n",
       "      <td></td>\n",
       "      <td></td>\n",
       "      <td></td>\n",
       "      <td></td>\n",
       "      <td></td>\n",
       "      <td></td>\n",
       "      <td></td>\n",
       "      <td>G01J5/00</td>\n",
       "      <td>CN102353455B; CN102353455A</td>\n",
       "      <td>2</td>\n",
       "      <td>0</td>\n",
       "      <td>发明授权</td>\n",
       "      <td>[二七]</td>\n",
       "      <td>[郑州]</td>\n",
       "      <td></td>\n",
       "      <td>CN</td>\n",
       "      <td>CN102353455B</td>\n",
       "      <td>2013-04-17 00:00:00</td>\n",
       "      <td>杜利民; 孙明浩; 黄敬尧; 汪芳宗; 秦旷; 李璐; 李群才; 谢伟; 闫东</td>\n",
       "      <td>8</td>\n",
       "      <td>CN</td>\n",
       "      <td></td>\n",
       "      <td>11402</td>\n",
       "      <td>US20030137318A1; CN101604835A; CN201765696U</td>\n",
       "      <td>&lt;text&gt;孙卉.应用红外热成像技术诊断电气设备故障.《石油和化工设备》.2009, 37-40.&lt;/text&gt;</td>\n",
       "      <td>...</td>\n",
       "      <td>河南; 41</td>\n",
       "      <td>企业</td>\n",
       "      <td>CN201110179965.8</td>\n",
       "      <td>2011-06-30 00:00:00</td>\n",
       "      <td>CN102353455B</td>\n",
       "      <td>1</td>\n",
       "      <td></td>\n",
       "      <td></td>\n",
       "      <td>0</td>\n",
       "      <td>到incoPat中查看\\r\\nCN102353455B</td>\n",
       "      <td>河南省电力公司郑州供电公司</td>\n",
       "      <td>河南省电力公司郑州供电公司</td>\n",
       "      <td>河南省郑州市淮河路9号</td>\n",
       "      <td>1</td>\n",
       "      <td>34.7289</td>\n",
       "      <td>113.653</td>\n",
       "      <td>12.136987</td>\n",
       "      <td>116.957352</td>\n",
       "      <td>162.090651</td>\n",
       "      <td>219.111267</td>\n",
       "      <td>65.353521</td>\n",
       "      <td>0</td>\n",
       "      <td>0</td>\n",
       "      <td>568</td>\n",
       "      <td>河南省电力郑州供电</td>\n",
       "    </tr>\n",
       "    <tr>\n",
       "      <td>18173</td>\n",
       "      <td></td>\n",
       "      <td></td>\n",
       "      <td></td>\n",
       "      <td></td>\n",
       "      <td></td>\n",
       "      <td></td>\n",
       "      <td></td>\n",
       "      <td>E04G21/00; E04G13/02; E04G21/02</td>\n",
       "      <td>CN103015717A; CN103015717B</td>\n",
       "      <td>2</td>\n",
       "      <td>0</td>\n",
       "      <td>发明授权</td>\n",
       "      <td></td>\n",
       "      <td>[郑州]</td>\n",
       "      <td></td>\n",
       "      <td>CN</td>\n",
       "      <td>CN103015717B</td>\n",
       "      <td>2016-01-06 00:00:00</td>\n",
       "      <td>张中善; 周申彬; 张鹏; 田鹏; 邢亚飞; 侯振国</td>\n",
       "      <td>9</td>\n",
       "      <td>CN</td>\n",
       "      <td></td>\n",
       "      <td>9584</td>\n",
       "      <td>CN10212310A; CN101144328A; CN101956458A</td>\n",
       "      <td></td>\n",
       "      <td>...</td>\n",
       "      <td>河南; 41</td>\n",
       "      <td>企业</td>\n",
       "      <td>CN201210503566.7</td>\n",
       "      <td>2012-12-01 00:00:00</td>\n",
       "      <td>CN103015717A; CN103015717B</td>\n",
       "      <td>2</td>\n",
       "      <td></td>\n",
       "      <td></td>\n",
       "      <td>0</td>\n",
       "      <td>到incoPat中查看\\r\\nCN103015717B</td>\n",
       "      <td>中国建筑第七工程局有限公司</td>\n",
       "      <td>中国建筑第七工程局有限公司</td>\n",
       "      <td>河南省郑州市城东路108号</td>\n",
       "      <td>1</td>\n",
       "      <td>34.7565</td>\n",
       "      <td>113.69</td>\n",
       "      <td>12.856753</td>\n",
       "      <td>120.656361</td>\n",
       "      <td>157.945432</td>\n",
       "      <td>223.433793</td>\n",
       "      <td>61.347803</td>\n",
       "      <td>0</td>\n",
       "      <td>0</td>\n",
       "      <td>654</td>\n",
       "      <td>中国建筑第七工程局</td>\n",
       "    </tr>\n",
       "    <tr>\n",
       "      <td>18214</td>\n",
       "      <td></td>\n",
       "      <td></td>\n",
       "      <td></td>\n",
       "      <td></td>\n",
       "      <td></td>\n",
       "      <td></td>\n",
       "      <td></td>\n",
       "      <td>G01N30/02; G01N30/60</td>\n",
       "      <td>CN102967675B; CN102967675A</td>\n",
       "      <td>2</td>\n",
       "      <td></td>\n",
       "      <td>发明授权</td>\n",
       "      <td>[中原]</td>\n",
       "      <td>[郑州]</td>\n",
       "      <td></td>\n",
       "      <td>CN</td>\n",
       "      <td>CN102967675B</td>\n",
       "      <td>2013-10-16 00:00:00</td>\n",
       "      <td>刘绍锋; 刘惠民; 谢复炜; 张晓兵</td>\n",
       "      <td>9</td>\n",
       "      <td>CN</td>\n",
       "      <td></td>\n",
       "      <td>58566</td>\n",
       "      <td></td>\n",
       "      <td></td>\n",
       "      <td>...</td>\n",
       "      <td>河南; 41</td>\n",
       "      <td>企业</td>\n",
       "      <td>CN201210548355.5</td>\n",
       "      <td>2012-12-18 00:00:00</td>\n",
       "      <td>CN102967675B; CN102967675A</td>\n",
       "      <td>2</td>\n",
       "      <td></td>\n",
       "      <td></td>\n",
       "      <td>0</td>\n",
       "      <td>到incoPat中查看\\r\\nCN102967675B</td>\n",
       "      <td>中国烟草总公司郑州烟草研究院</td>\n",
       "      <td>中国烟草总公司郑州烟草研究院</td>\n",
       "      <td>河南省郑州市高新区枫杨街2号</td>\n",
       "      <td>1</td>\n",
       "      <td>34.8143</td>\n",
       "      <td>113.567</td>\n",
       "      <td>0.267887</td>\n",
       "      <td>110.459540</td>\n",
       "      <td>156.898864</td>\n",
       "      <td>223.921590</td>\n",
       "      <td>60.119256</td>\n",
       "      <td>1</td>\n",
       "      <td>0</td>\n",
       "      <td>658</td>\n",
       "      <td>中国烟草总郑州烟草研究院</td>\n",
       "    </tr>\n",
       "  </tbody>\n",
       "</table>\n",
       "<p>4 rows × 58 columns</p>\n",
       "</div>"
      ],
      "text/plain": [
       "      法人代碼 企業名稱 地址 區域代碼 行業代碼 區域代碼_str CPC                              IPC  \\\n",
       "18169                                                            G01R31/00   \n",
       "17608                                                             G01J5/00   \n",
       "18173                                      E04G21/00; E04G13/02; E04G21/02   \n",
       "18214                                                 G01N30/02; G01N30/60   \n",
       "\n",
       "                        inpadoc同族 inpadoc同族个数 专利寿命（月）  专利类型 中国申请人区县 中国申请人地市  \\\n",
       "18169  CN103033701B; CN103033701A           2          发明授权    [许昌]    [许昌]   \n",
       "17608  CN102353455B; CN102353455A           2       0  发明授权    [二七]    [郑州]   \n",
       "18173  CN103015717A; CN103015717B           2       0  发明授权            [郑州]   \n",
       "18214  CN102967675B; CN102967675A           2          发明授权    [中原]    [郑州]   \n",
       "\n",
       "      优先权信息 公开国别       公开（公告）号              公开（公告）日  \\\n",
       "18169         CN  CN103033701B  2017-11-07 00:00:00   \n",
       "17608         CN  CN102353455B  2013-04-17 00:00:00   \n",
       "18173         CN  CN103015717B  2016-01-06 00:00:00   \n",
       "18214         CN  CN102967675B  2013-10-16 00:00:00   \n",
       "\n",
       "                                           发明人 合享价值度 同族国家 失效日     序号  \\\n",
       "18169                姚为正; 刘刚; 孙健; 姚钊; 夏克鹏; 李海鲲     9   CN       1058   \n",
       "17608  杜利民; 孙明浩; 黄敬尧; 汪芳宗; 秦旷; 李璐; 李群才; 谢伟; 闫东     8   CN      11402   \n",
       "18173               张中善; 周申彬; 张鹏; 田鹏; 邢亚飞; 侯振国     9   CN       9584   \n",
       "18214                       刘绍锋; 刘惠民; 谢复炜; 张晓兵     9   CN      58566   \n",
       "\n",
       "                                                                          引证专利  \\\n",
       "18169  CN102170110A; CN102323546A; CN102323545A; CN102780409A; US20110141773A1   \n",
       "17608                              US20030137318A1; CN101604835A; CN201765696U   \n",
       "18173                                  CN10212310A; CN101144328A; CN101956458A   \n",
       "18214                                                                            \n",
       "\n",
       "                                                                                                                                                                                                        引证科技文献  \\\n",
       "18169  <text>Khatir MOHAMED et al..Performance Analysis of a Voltage Source Converter (VSC) based HVDC Transmission System under Faulted Conditions.《Leonardo Journal of Sciences》.2009, 33-46.</text><text...   \n",
       "17608                                                                                                                                                 <text>孙卉.应用红外热成像技术诊断电气设备故障.《石油和化工设备》.2009, 37-40.</text>   \n",
       "18173                                                                                                                                                                                                            \n",
       "18214                                                                                                                                                                                                            \n",
       "\n",
       "       ... 申请人省市代码 申请人类型               申请号                  申请日  \\\n",
       "18169  ...  河南; 41    企业  CN201210507352.7  2012-11-30 00:00:00   \n",
       "17608  ...  河南; 41    企业  CN201110179965.8  2011-06-30 00:00:00   \n",
       "18173  ...  河南; 41    企业  CN201210503566.7  2012-12-01 00:00:00   \n",
       "18214  ...  河南; 41    企业  CN201210548355.5  2012-12-18 00:00:00   \n",
       "\n",
       "                             简单同族 简单同族个数 被引证专利 被引证国别(forward) 被引证次数  \\\n",
       "18169  CN103033701B; CN103033701A      2                          0   \n",
       "17608                CN102353455B      1                          0   \n",
       "18173  CN103015717A; CN103015717B      2                          0   \n",
       "18214  CN102967675B; CN102967675A      2                          0   \n",
       "\n",
       "                        链接到incoPat             申请人            name  \\\n",
       "18169  到incoPat中查看\\r\\nCN103033701B      许继电气股份有限公司      许继电气股份有限公司   \n",
       "17608  到incoPat中查看\\r\\nCN102353455B   河南省电力公司郑州供电公司   河南省电力公司郑州供电公司   \n",
       "18173  到incoPat中查看\\r\\nCN103015717B   中国建筑第七工程局有限公司   中国建筑第七工程局有限公司   \n",
       "18214  到incoPat中查看\\r\\nCN102967675B  中国烟草总公司郑州烟草研究院  中国烟草总公司郑州烟草研究院   \n",
       "\n",
       "               address 完整地址      lat      lnt         郑州          洛陽  \\\n",
       "18169  河南省许昌市许继大道1298号    1  34.0236  113.806  90.162269  146.710627   \n",
       "17608      河南省郑州市淮河路9号    1  34.7289  113.653  12.136987  116.957352   \n",
       "18173    河南省郑州市城东路108号    1  34.7565   113.69  12.856753  120.656361   \n",
       "18214   河南省郑州市高新区枫杨街2号    1  34.8143  113.567   0.267887  110.459540   \n",
       "\n",
       "               安陽          南陽          新鄉  早期園區 近期園區  專利數    name_clean  \n",
       "18169  232.551982  164.984391  139.867544     0    0  535          许继电气  \n",
       "17608  162.090651  219.111267   65.353521     0    0  568     河南省电力郑州供电  \n",
       "18173  157.945432  223.433793   61.347803     0    0  654     中国建筑第七工程局  \n",
       "18214  156.898864  223.921590   60.119256     1    0  658  中国烟草总郑州烟草研究院  \n",
       "\n",
       "[4 rows x 58 columns]"
      ]
     },
     "execution_count": 4,
     "metadata": {},
     "output_type": "execute_result"
    }
   ],
   "source": [
    "not_merge[not_merge['專利數']>=500].sort_values('專利數')"
   ]
  },
  {
   "cell_type": "code",
   "execution_count": 5,
   "metadata": {},
   "outputs": [
    {
     "data": {
      "text/plain": [
       "Text(0.5, 0, '專利數量')"
      ]
     },
     "execution_count": 5,
     "metadata": {},
     "output_type": "execute_result"
    },
    {
     "data": {
      "image/png": "[encoded data removed]",
      "text/plain": [
       "<Figure size 432x288 with 1 Axes>"
      ]
     },
     "metadata": {
      "needs_background": "light"
     },
     "output_type": "display_data"
    }
   ],
   "source": [
    "from matplotlib.font_manager import FontProperties\n",
    "myfont = FontProperties(fname=r'C:\\Windows\\Fonts\\msjhbd.ttc')\n",
    "fig = plt.figure()\n",
    "ax1 = fig.add_subplot(111)\n",
    "ax1.plot(not_merge.groupby('專利數')['IPC'].count().index,not_merge.groupby('專利數')['IPC'].count())\n",
    "ax1.set_title('河南',fontproperties=myfont,fontsize=15)\n",
    "ax1.set_xlim([0,100])\n",
    "ax1.set_ylabel('廠商數量',fontproperties=myfont)\n",
    "ax1.set_xlabel('專利數量',fontproperties=myfont)"
   ]
  },
  {
   "cell_type": "code",
   "execution_count": 6,
   "metadata": {},
   "outputs": [],
   "source": [
    "cleaned.to_excel(r'E:\\paper\\名稱merge\\河南_結果.xlsx')"
   ]
  },
  {
   "cell_type": "code",
   "execution_count": 8,
   "metadata": {},
   "outputs": [
    {
     "data": {
      "text/plain": [
       "<matplotlib.legend.Legend at 0x1e38626f408>"
      ]
     },
     "execution_count": 8,
     "metadata": {},
     "output_type": "execute_result"
    },
    {
     "data": {
      "image/png": "[encoded data removed]",
      "text/plain": [
       "<Figure size 360x360 with 1 Axes>"
      ]
     },
     "metadata": {
      "needs_background": "light"
     },
     "output_type": "display_data"
    }
   ],
   "source": [
    "from matplotlib.font_manager import FontProperties\n",
    "myfont = FontProperties(fname=r'C:\\Windows\\Fonts\\msjhbd.ttc')\n",
    "fig = plt.figure(figsize = (5,5))\n",
    "ax1 = fig.add_subplot(111)\n",
    "ax1.set_ylabel('Patent Counts')\n",
    "bar1 = ax1.bar(1,merge_df[merge_df['早期園區']==1]['專利數'].sum(),alpha=0.7,width=0.35,color='r',label='早期園區')\n",
    "bar2 = ax1.bar(1+0.35,merge_df[merge_df['近期園區']==1]['專利數'].sum(),alpha=0.7,width=0.35,color='b',label='近期園區')\n",
    "bar3 = ax1.bar(1+0.7,merge_df[(merge_df['近期園區']==0)&(merge_df['早期園區']==0)]['專利數'].sum(),alpha=0.7,width=0.35,color='k',label='園區外')\n",
    "\n",
    "plt.text(1, merge_df[merge_df['早期園區']==1]['專利數'].sum(), '%.0f' % merge_df[merge_df['早期園區']==1]['專利數'].sum(), ha='center', va= 'bottom',fontsize=12)  \n",
    "plt.text(1.35, merge_df[merge_df['近期園區']==1]['專利數'].sum(), '%.0f' % merge_df[merge_df['近期園區']==1]['專利數'].sum(), ha='center', va= 'bottom',fontsize=12)  \n",
    "plt.text(1.7, merge_df[(merge_df['近期園區']==0)&(merge_df['早期園區']==0)]['專利數'].sum(), '%.0f' % merge_df[(merge_df['近期園區']==0)&(merge_df['早期園區']==0)]['專利數'].sum(), ha='center', va= 'bottom',fontsize=12)  \n",
    "\n",
    "plt.title('河南',fontproperties=myfont,fontsize=20)\n",
    "plt.xticks([0.75,1,2],['','',''],fontproperties=myfont)\n",
    "plt.legend(handles = [bar1,bar2,bar3], loc='upper left',prop=myfont)"
   ]
  },
  {
   "cell_type": "code",
   "execution_count": 9,
   "metadata": {},
   "outputs": [
    {
     "data": {
      "text/plain": [
       "<matplotlib.legend.Legend at 0x1e391a1b048>"
      ]
     },
     "execution_count": 9,
     "metadata": {},
     "output_type": "execute_result"
    },
    {
     "data": {
      "image/png": "[encoded data removed]",
      "text/plain": [
       "<Figure size 360x360 with 1 Axes>"
      ]
     },
     "metadata": {
      "needs_background": "light"
     },
     "output_type": "display_data"
    }
   ],
   "source": [
    "fig = plt.figure(figsize = (5,5))\n",
    "ax1 = fig.add_subplot(111)\n",
    "ax1.set_ylabel('Patent Counts/Firms ')\n",
    "bar1 = ax1.bar(1,merge_df[merge_df['早期園區']==1]['專利數'].sum()/merge_df[merge_df['早期園區']==1]['專利數'].count(),alpha=0.7,width=0.35,color='r',label='早期園區')\n",
    "bar2 = ax1.bar(1+0.35,merge_df[merge_df['近期園區']==1]['專利數'].sum()/merge_df[merge_df['近期園區']==1]['專利數'].count(),alpha=0.7,width=0.35,color='b',label='近期園區')\n",
    "bar3 = ax1.bar(1+0.7,merge_df[(merge_df['近期園區']==0)&(merge_df['早期園區']==0)]['專利數'].sum()/merge_df[(merge_df['近期園區']==0)&(merge_df['早期園區']==0)]['專利數'].count(),alpha=0.7,width=0.35,color='k',label='園區外')\n",
    "\n",
    "plt.text(1, (merge_df[merge_df['早期園區']==1]['專利數'].sum()/merge_df[merge_df['早期園區']==1]['專利數'].count()), '%.2f' % (merge_df[merge_df['早期園區']==1]['專利數'].sum()/merge_df[merge_df['早期園區']==1]['專利數'].count()), ha='center', va= 'bottom',fontsize=12)  \n",
    "plt.text(1.35, (merge_df[merge_df['近期園區']==1]['專利數'].sum()/merge_df[merge_df['近期園區']==1]['專利數'].count()), '%.2f' % (merge_df[merge_df['近期園區']==1]['專利數'].sum()/merge_df[merge_df['近期園區']==1]['專利數'].count()), ha='center', va= 'bottom',fontsize=12)  \n",
    "plt.text(1.7, (merge_df[(merge_df['近期園區']==0)&(merge_df['早期園區']==0)]['專利數'].sum()/merge_df[(merge_df['近期園區']==0)&(merge_df['早期園區']==0)]['專利數'].count()), '%.0f' % (merge_df[(merge_df['近期園區']==0)&(merge_df['早期園區']==0)]['專利數'].sum()/merge_df[(merge_df['近期園區']==0)&(merge_df['早期園區']==0)]['專利數'].count()), ha='center', va= 'bottom',fontsize=12)  \n",
    "\n",
    "plt.title('河南',fontproperties=myfont,fontsize=20)\n",
    "plt.xticks([0.75,1,2],['','',''],fontproperties=myfont)\n",
    "plt.legend(handles = [bar1,bar2,bar3], loc='upper right',prop=myfont)"
   ]
  },
  {
   "cell_type": "code",
   "execution_count": null,
   "metadata": {},
   "outputs": [],
   "source": []
  }
 ],
 "metadata": {
  "kernelspec": {
   "display_name": "Python 3",
   "language": "python",
   "name": "python3"
  },
  "language_info": {
   "codemirror_mode": {
    "name": "ipython",
    "version": 3
   },
   "file_extension": ".py",
   "mimetype": "text/x-python",
   "name": "python",
   "nbconvert_exporter": "python",
   "pygments_lexer": "ipython3",
   "version": "3.7.4"
  }
 },
 "nbformat": 4,
 "nbformat_minor": 2
}
