{
 "cells": [
  {
   "cell_type": "code",
   "execution_count": 1,
   "metadata": {},
   "outputs": [],
   "source": [
    "import pandas as pd\n",
    "import numpy as np\n",
    "import matplotlib.pyplot as plt\n",
    "import re\n",
    "import time\n",
    "import datetime\n",
    "import geocoder\n",
    "pd.set_option('display.max_rows',500)\n",
    "pd.set_option('display.max_columns',50)\n",
    "pd.set_option('max_colwidth',200)\n",
    "%matplotlib inline\n",
    "import requests\n",
    "import json\n",
    "import urllib\n",
    "from urllib.request import urlopen\n",
    "\n",
    "def getGeoForAddress(address):\n",
    "    add = urllib.parse.quote(address)\n",
    "    addressUrl = \"https://maps.googleapis.com/maps/api/geocode/json?address=\" + add + '&key='\n",
    "    res = requests.get(addressUrl)\n",
    "    js = json.loads(res.text)\n",
    "    if js.get('results'):\n",
    "        lat = js.get('results')[0]['geometry']['location']['lat']\n",
    "        lng = js.get('results')[0]['geometry']['location']['lng']\n",
    "    else:\n",
    "        lat = ''\n",
    "        lng = ''\n",
    "    return [lat, lng]\n",
    "def ngram(text, n=3, pad=True):\n",
    "    text = text.strip()\n",
    "    if pad:\n",
    "        text = \" %s \" % text\n",
    "    return set([text[i:i+n] for i in range(len(text)-n+1)])\n",
    "    \n",
    "def create_ngram(text1, text2, n=3, pad=True):\n",
    "    return ngram(text1, n=n, pad=pad), ngram(text2, n=n, pad=pad)\n",
    "\n",
    "def tversky_index(text1, text2, a=None, b=None, q=3, pad=True):\n",
    "    text1, text2 = create_ngram(text1, text2, n=q, pad=pad)\n",
    "    agree_tot = len(text1.intersection(text2))\n",
    "    v1 = len(text1) - agree_tot\n",
    "    v2 = len(text2) - agree_tot\n",
    "    \n",
    "    if a != None and b != None:\n",
    "        a = a/float(a+b)\n",
    "        b = b/float(a+b)\n",
    "    elif a <= 1.0 and a >= 0.0:\n",
    "        b = 1-a\n",
    "    elif b <= 1.0 and b >= 0.0:\n",
    "        a = 1-b\n",
    "    else:\n",
    "        a = 0.5\n",
    "        b = 0.5        \n",
    "    return float(agree_tot)/(agree_tot+a*v1+b*v2)\n",
    "# incoPat為申請人list\n",
    "def fuzzy(incoPat,indus):\n",
    "    corptype = ['有限','公司','责任','集团','股份','控股']\n",
    "    text1 = incoPat\n",
    "    text2 = indus\n",
    "    incoPat_nor = []   \n",
    "    for text in text1:\n",
    "        for i in corptype:\n",
    "            if i in text:\n",
    "                text = re.sub(i,'',text)\n",
    "        incoPat_nor.append(text)\n",
    "    for i in corptype:\n",
    "        if i in text2:\n",
    "            text2 = re.sub(i,'',text2)\n",
    "    similar = []\n",
    "    for text in incoPat_nor:\n",
    "        dice = tversky_index(text,text2, a=0.5, q=min(2,len(text),len(text2)), pad=False)\n",
    "        if dice>0.7:\n",
    "            similar.append([incoPat[incoPat_nor.index(text)],dice])\n",
    "        else:\n",
    "            pass\n",
    "    if len(similar)>0:\n",
    "        return similar[[k[1] for k in similar].index(max([i[1] for i in similar]))][0]\n",
    "    else:\n",
    "        return indus\n",
    "city_code = pd.read_excel('C:/Users/user/Dropbox/paper/科技園區/China/省地縣碼對照.xls')\n",
    "city_code = city_code[~city_code['代碼'].isnull()].drop(['标注','说明'],axis=1)\n",
    "city_code['代碼_str'] = city_code['代碼'].apply(lambda x:str(int(x)))\n",
    "city_code = city_code.drop('代碼',axis=1)"
   ]
  },
  {
   "cell_type": "markdown",
   "metadata": {},
   "source": [
    "# 浙江資料整合"
   ]
  },
  {
   "cell_type": "code",
   "execution_count": 2,
   "metadata": {},
   "outputs": [],
   "source": [
    "df1 = pd.read_excel(r'E:\\paper\\專利資料-新型&授權\\新型授權-浙江1.xls')\n",
    "df2 = pd.read_excel(r'E:\\paper\\專利資料-新型&授權\\新型授權-浙江2.xls')\n",
    "df3 = pd.read_excel(r'E:\\paper\\專利資料-新型&授權\\新型授權-浙江3.xls')\n",
    "df4 = pd.read_excel(r'E:\\paper\\專利資料-新型&授權\\新型授權-浙江4.xls')\n",
    "df5 = pd.read_excel(r'E:\\paper\\專利資料-新型&授權\\新型授權-浙江5.xls')\n",
    "df6 = pd.read_excel(r'E:\\paper\\專利資料-新型&授權\\新型授權-浙江6.xls')\n",
    "df7 = pd.read_excel(r'E:\\paper\\專利資料-新型&授權\\新型授權-浙江7.xls')\n",
    "df8 = pd.read_excel(r'E:\\paper\\專利資料-新型&授權\\新型授權-浙江8.xls')\n",
    "df9 = pd.read_excel(r'E:\\paper\\專利資料-新型&授權\\新型授權-浙江9.xls')\n",
    "df10 = pd.read_excel(r'E:\\paper\\專利資料-新型&授權\\新型授權-浙江10.xls')\n",
    "df11 = pd.read_excel(r'E:\\paper\\專利資料-新型&授權\\新型授權-浙江11.xls')\n",
    "df12 = pd.read_excel(r'E:\\paper\\專利資料-新型&授權\\新型授權-浙江12.xls')\n",
    "df13 = pd.read_excel(r'E:\\paper\\專利資料-新型&授權\\新型授權-浙江13.xls')\n",
    "df14 = pd.read_excel(r'E:\\paper\\專利資料-新型&授權\\新型授權-浙江14.xls')\n",
    "df15 = pd.read_excel(r'E:\\paper\\專利資料-新型&授權\\新型授權-浙江15.xls')\n",
    "\n",
    "patent_df = pd.concat([df1,df2,df3,df4,df5,df6,df7,df8,df9,df10,df11,df12,df13,df14,df15],ignore_index=True,sort=True)"
   ]
  },
  {
   "cell_type": "code",
   "execution_count": 10,
   "metadata": {},
   "outputs": [
    {
     "name": "stdout",
     "output_type": "stream",
     "text": [
      "(677765, 39)\n",
      "(654631, 39)\n"
     ]
    }
   ],
   "source": [
    "print(patent_df.shape)\n",
    "patent_df['申请人地址'].fillna('',inplace=True)\n",
    "patent_df = patent_df[patent_df['申请人地址']!='']\n",
    "print(patent_df.shape)"
   ]
  },
  {
   "cell_type": "code",
   "execution_count": 4,
   "metadata": {},
   "outputs": [
    {
     "name": "stderr",
     "output_type": "stream",
     "text": [
      "D:\\Anaconda\\lib\\site-packages\\IPython\\core\\interactiveshell.py:3058: DtypeWarning: Columns (0,3,16) have mixed types. Specify dtype option on import or set low_memory=False.\n",
      "  interactivity=interactivity, compiler=compiler, result=result)\n"
     ]
    }
   ],
   "source": [
    "#for PC\n",
    "patent_df = patent_df[patent_df['专利类型']=='发明授权']\n",
    "patent_df = patent_df[patent_df['申请人地址'].map(lambda x:len(re.findall(r'\\D+[\\s\\S]+',x)))==1]\n",
    "patent_df['申请人地址'] = patent_df['申请人地址'].map(lambda x:re.findall(r'\\D+[\\s\\S]+',x)[0])\n",
    "patent_df['申请人地址'] = patent_df['申请人地址'].map(lambda x:re.sub(r\"\\s+\", \"\",x))\n",
    "patent_df_firm = patent_df[patent_df['申请人类型'].str.contains('企业')]\n",
    "applicant = patent_df_firm['申请人'].str.split(';',expand=True).stack().reset_index(level=1,drop=True).rename('申请人2')\n",
    "patent_df_firm = patent_df_firm.join(applicant)\n",
    "patent_df_firm['類別'] = patent_df_firm['申请人类型'].map(lambda x:x.strip().split('  '))\n",
    "patent_df_firm = patent_df_firm[~patent_df_firm['标题'].duplicated()]\n",
    "patent_df_firm['申请人类型'] = patent_df_firm.apply(lambda x:x['類別'][0],axis=1)\n",
    "patent_df_firm = patent_df_firm[patent_df_firm['申请人类型']=='企业'].sort_values('申请日')\n",
    "patent_df_firm.drop(['類別','申请人'],axis=1,inplace=True)\n",
    "patent_df_firm.rename(columns={'申请人2':'申请人'},inplace=True)\n",
    "patent_df_firm = patent_df_firm[patent_df_firm['申请日']<datetime.datetime.strptime('2013-01-01','%Y-%m-%d')]\n",
    "patent_df_firm.drop_duplicates('申请人地址', keep='last', inplace=True)\n",
    "patent_df_firm.drop_duplicates('申请人', keep='last', inplace=True)\n",
    "\n",
    "firm_df = pd.read_csv(r'E:\\paper\\Firm csv\\firm_data_2012.csv')\n",
    "firm_gd = firm_df[firm_df['區域代碼'].astype(str).str.contains(r'33\\d{10}')==True]\n",
    "firm_gd = firm_gd.loc[:,['法人代碼','企業名稱','地址','區域代碼','行業代碼']]\n",
    "firm_gd['區域代碼_str'] = firm_gd['區域代碼'].astype(str).map(lambda x:x[0:6])\n",
    "firm_gd = pd.merge(firm_gd,city_code,left_on='區域代碼_str',right_on='代碼_str',how='left')\n",
    "firm_gd['名稱'].fillna('',inplace=True)\n",
    "firm_gd['市級'].fillna('',inplace=True)\n",
    "firm_gd['省份'].fillna('',inplace=True)\n",
    "firm_gd['地址'].fillna('',inplace=True)\n",
    "firm_gd['地址'] = firm_gd['地址'].map(lambda x:re.sub(r\"\\s+\", \"\",x))\n",
    "firm_gd['地址'] = firm_gd.apply(lambda x:re.sub(x['省份'],\"\",x['地址']),axis=1)\n",
    "firm_gd['地址'] = firm_gd.apply(lambda x:re.sub(x['市級'],\"\",x['地址']),axis=1)\n",
    "firm_gd['地址'] = firm_gd.apply(lambda x:re.sub(x['名稱'],\"\",x['地址']),axis=1)\n",
    "firm_gd['地址'] = firm_gd['省份']+firm_gd['市級']+firm_gd['名稱']+firm_gd['地址']\n",
    "firm_gd.drop(['省份','市級','名稱','代碼_str'],axis=1,inplace=True)\n",
    "firm_gd.dropna(subset=['企業名稱'],inplace=True)"
   ]
  },
  {
   "cell_type": "code",
   "execution_count": 12,
   "metadata": {},
   "outputs": [],
   "source": [
    "patent_df_firm = patent_df_firm[patent_df_firm['申请日']>datetime.datetime.strptime('2007-12-31','%Y-%m-%d')]\n",
    "incoPat = list(patent_df_firm['申请人'])"
   ]
  },
  {
   "cell_type": "code",
   "execution_count": 13,
   "metadata": {},
   "outputs": [
    {
     "data": {
      "text/plain": [
       "(29815, 39)"
      ]
     },
     "execution_count": 13,
     "metadata": {},
     "output_type": "execute_result"
    }
   ],
   "source": [
    "patent_df_firm.shape"
   ]
  },
  {
   "cell_type": "code",
   "execution_count": 14,
   "metadata": {},
   "outputs": [
    {
     "data": {
      "text/plain": [
       "(34679, 6)"
      ]
     },
     "execution_count": 14,
     "metadata": {},
     "output_type": "execute_result"
    }
   ],
   "source": [
    "firm_gd.shape"
   ]
  },
  {
   "cell_type": "code",
   "execution_count": null,
   "metadata": {},
   "outputs": [],
   "source": [
    "#模糊比對待跑\n",
    "firm_gd['name_模糊比對'] = firm_gd['企業名稱'].map(lambda x:fuzzy(incoPat,x))"
   ]
  },
  {
   "cell_type": "code",
   "execution_count": 15,
   "metadata": {},
   "outputs": [],
   "source": [
    "firm_gd.to_excel(r'E:\\paper\\清理結果-新型&授權\\浙江_廠商.xlsx')"
   ]
  },
  {
   "cell_type": "markdown",
   "metadata": {},
   "source": [
    "# 非模糊比對"
   ]
  },
  {
   "cell_type": "code",
   "execution_count": 16,
   "metadata": {},
   "outputs": [
    {
     "name": "stdout",
     "output_type": "stream",
     "text": [
      "(10064, 45)\n",
      "(54430, 45)\n"
     ]
    }
   ],
   "source": [
    "merge_df = firm_gd.merge(patent_df_firm,left_on='企業名稱',right_on='申请人',how='outer')\n",
    "merge_df.fillna('',inplace=True)\n",
    "print(merge_df[(merge_df['企業名稱']!='')&(merge_df['申请人']!='')].shape)\n",
    "print(merge_df.shape)"
   ]
  },
  {
   "cell_type": "code",
   "execution_count": 17,
   "metadata": {
    "collapsed": true
   },
   "outputs": [
    {
     "name": "stderr",
     "output_type": "stream",
     "text": [
      "D:\\Anaconda\\lib\\site-packages\\pandas\\core\\strings.py:1843: UserWarning: This pattern has match groups. To actually get the groups, use str.extract.\n",
      "  return func(self, *args, **kwargs)\n"
     ]
    },
    {
     "name": "stdout",
     "output_type": "stream",
     "text": [
      "(25811, 50)\n",
      "(45447, 50)\n"
     ]
    },
    {
     "name": "stderr",
     "output_type": "stream",
     "text": [
      "D:\\Anaconda\\lib\\site-packages\\ipykernel_launcher.py:4: SettingWithCopyWarning: \n",
      "A value is trying to be set on a copy of a slice from a DataFrame.\n",
      "Try using .loc[row_indexer,col_indexer] = value instead\n",
      "\n",
      "See the caveats in the documentation: http://pandas.pydata.org/pandas-docs/stable/user_guide/indexing.html#returning-a-view-versus-a-copy\n",
      "  after removing the cwd from sys.path.\n",
      "D:\\Anaconda\\lib\\site-packages\\ipykernel_launcher.py:5: SettingWithCopyWarning: \n",
      "A value is trying to be set on a copy of a slice from a DataFrame.\n",
      "Try using .loc[row_indexer,col_indexer] = value instead\n",
      "\n",
      "See the caveats in the documentation: http://pandas.pydata.org/pandas-docs/stable/user_guide/indexing.html#returning-a-view-versus-a-copy\n",
      "  \"\"\"\n",
      "D:\\Anaconda\\lib\\site-packages\\pandas\\core\\indexing.py:376: SettingWithCopyWarning: \n",
      "A value is trying to be set on a copy of a slice from a DataFrame.\n",
      "Try using .loc[row_indexer,col_indexer] = value instead\n",
      "\n",
      "See the caveats in the documentation: http://pandas.pydata.org/pandas-docs/stable/user_guide/indexing.html#returning-a-view-versus-a-copy\n",
      "  self.obj[key] = _infer_fill_value(value)\n",
      "D:\\Anaconda\\lib\\site-packages\\pandas\\core\\indexing.py:494: SettingWithCopyWarning: \n",
      "A value is trying to be set on a copy of a slice from a DataFrame.\n",
      "Try using .loc[row_indexer,col_indexer] = value instead\n",
      "\n",
      "See the caveats in the documentation: http://pandas.pydata.org/pandas-docs/stable/user_guide/indexing.html#returning-a-view-versus-a-copy\n",
      "  self.obj[item] = s\n"
     ]
    }
   ],
   "source": [
    "merge_df['name'] = merge_df.apply(lambda x:x['申请人'] if x['申请人']!='' else x['企業名稱'],axis=1)\n",
    "merge_df['address'] = merge_df.apply(lambda x:x['申请人地址'] if x['申请人地址']!='' else x['地址'],axis=1)\n",
    "merge_df_clean = merge_df[merge_df['address'].str.contains(r'\\w+(街|道|路|巷|村|小区|园区|社区)')]\n",
    "merge_df_clean['address'] = merge_df_clean['address'].map(lambda x: x+'号' if ((x[-1].isdigit()) and (re.match(r'\\w+[街道路巷]',x))) else x)\n",
    "merge_df_clean['完整地址'] = merge_df_clean['address'].map(lambda x:1 if re.compile(r'\\w+[街道路巷]\\S+号').search(x) else 0)\n",
    "merge_df_clean.loc[:,'lat'] = 0\n",
    "merge_df_clean.loc[:,'lnt'] = 0\n",
    "print(merge_df_clean[merge_df_clean['完整地址']==1].shape)\n",
    "print(merge_df_clean.shape)"
   ]
  },
  {
   "cell_type": "code",
   "execution_count": 18,
   "metadata": {},
   "outputs": [],
   "source": [
    "merge_df_clean.to_excel(r'E:\\paper\\清理結果-新型&授權\\浙江_結果.xlsx')"
   ]
  },
  {
   "cell_type": "markdown",
   "metadata": {},
   "source": [
    "# merge舊資料"
   ]
  },
  {
   "cell_type": "code",
   "execution_count": 5,
   "metadata": {},
   "outputs": [
    {
     "name": "stdout",
     "output_type": "stream",
     "text": [
      "(3991, 45)\n",
      "(39865, 45)\n",
      "(17208, 50)\n",
      "(39865, 50)\n"
     ]
    }
   ],
   "source": [
    "merge_df = firm_gd.merge(patent_df_firm,left_on='企業名稱',right_on='申请人',how='outer')\n",
    "merge_df.fillna('',inplace=True)\n",
    "print(merge_df[(merge_df['企業名稱']!='')&(merge_df['申请人']!='')].shape)\n",
    "print(merge_df.shape)\n",
    "merge_df['name'] = merge_df.apply(lambda x:x['申请人'] if x['申请人']!='' else x['企業名稱'],axis=1)\n",
    "merge_df['address'] = merge_df.apply(lambda x:x['申请人地址'] if x['申请人地址']!='' else x['地址'],axis=1)\n",
    "merge_df = merge_df[merge_df['address']!='']\n",
    "merge_df_clean = merge_df\n",
    "merge_df_clean['address'] = merge_df_clean['address'].map(lambda x: x+'号' if ((x[-1].isdigit()) and (re.match(r'\\w+[街道路巷]',x))) else x)\n",
    "merge_df_clean['完整地址'] = merge_df_clean['address'].map(lambda x:1 if re.compile(r'\\w+[街道路巷]\\S+号').search(x) else 0)\n",
    "merge_df_clean.loc[:,'lat'] = 0\n",
    "merge_df_clean.loc[:,'lnt'] = 0\n",
    "print(merge_df_clean[merge_df_clean['完整地址']==1].shape)\n",
    "print(merge_df_clean.shape)"
   ]
  },
  {
   "cell_type": "code",
   "execution_count": 6,
   "metadata": {},
   "outputs": [
    {
     "data": {
      "text/plain": [
       "Index(['Unnamed: 0', '法人代碼', '企業名稱', '地址', '區域代碼', '行業代碼', '區域代碼_str', 'CPC',\n",
       "       'IPC', 'inpadoc同族', 'inpadoc同族个数', '专利寿命（月）', '专利类型', '中国申请人区县',\n",
       "       '中国申请人地市', '优先权信息', '公开国别', '公开（公告）号', '公开（公告）日', '发明人', '合享价值度',\n",
       "       '同族国家', '失效日', '序号', '引证专利', '引证科技文献', '扩展同族', '扩展同族个数', '摘要', '文献页数',\n",
       "       '权利要求数量', '标准化申请人', '标题', '申请人', '申请人国别代码', '申请人地址', '申请人省市代码', '申请人类型',\n",
       "       '申请号', '申请日', '简单同族', '简单同族个数', '被引证专利', '被引证国别(forward)', '被引证次数',\n",
       "       '链接到incoPat', 'name', 'address', '完整地址', 'lat', 'lnt', '杭州', '寧波', '紹興',\n",
       "       '溫州', '專利數', '早期園區', '近期園區'],\n",
       "      dtype='object')"
      ]
     },
     "execution_count": 6,
     "metadata": {},
     "output_type": "execute_result"
    }
   ],
   "source": [
    "done_data = pd.read_excel(r'E:\\paper\\清理結果-園區內外\\浙江_結果.xlsx')\n",
    "done_data.columns"
   ]
  },
  {
   "cell_type": "code",
   "execution_count": 7,
   "metadata": {},
   "outputs": [
    {
     "data": {
      "text/plain": [
       "(8398, 57)"
      ]
     },
     "execution_count": 7,
     "metadata": {},
     "output_type": "execute_result"
    }
   ],
   "source": [
    "merge_df_clean.drop(['lat','lnt'],axis=1,inplace=True)\n",
    "merge_df_clean = merge_df_clean.merge(done_data[['name','lat','lnt','杭州','寧波','紹興','溫州','專利數','早期園區','近期園區']],left_on='name',right_on='name',how='left')\n",
    "merge_df_clean['lat'].fillna('',inplace=True)\n",
    "merge_df_clean[merge_df_clean['lat']==''].shape"
   ]
  },
  {
   "cell_type": "code",
   "execution_count": 8,
   "metadata": {},
   "outputs": [],
   "source": [
    "merge_df_clean.to_excel(r'E:\\paper\\清理結果-新\\浙江_結果.xlsx')"
   ]
  },
  {
   "cell_type": "markdown",
   "metadata": {},
   "source": [
    "# 模糊比對"
   ]
  },
  {
   "cell_type": "code",
   "execution_count": null,
   "metadata": {},
   "outputs": [],
   "source": [
    "merge_df_fuzzy = firm_gd.merge(patent_df_firm,left_on='name_模糊比對',right_on='申请人',how='outer')\n",
    "merge_df_fuzzy.fillna('',inplace=True)\n",
    "merge_df_fuzzy.drop_duplicates(['name_模糊比對','申请人'], keep='last', inplace=True)\n",
    "print(merge_df_fuzzy[(merge_df_fuzzy['申请人']!='')&(merge_df_fuzzy['企業名稱']!='')].shape)\n",
    "print(merge_df_fuzzy.shape)"
   ]
  },
  {
   "cell_type": "code",
   "execution_count": null,
   "metadata": {},
   "outputs": [],
   "source": [
    "merge_df_fuzzy['name'] = merge_df_fuzzy.apply(lambda x:x['申请人'] if x['申请人']!='' else x['企業名稱'],axis=1)\n",
    "merge_df_fuzzy['address'] = merge_df_fuzzy.apply(lambda x:x['申请人地址'] if x['申请人地址']!='' else x['地址'],axis=1)\n",
    "merge_df_fuzzy_clean = merge_df_fuzzy[merge_df_fuzzy['address'].str.contains(r'\\w+(街|道|路|巷|村|小区|园区|社区)')]\n",
    "merge_df_fuzzy_clean['address'] = merge_df_fuzzy_clean['address'].map(lambda x: x+'号' if ((x[-1].isdigit()) and (re.match(r'\\w+[街道路巷]',x))) else x)\n",
    "merge_df_fuzzy_clean['完整地址'] = merge_df_fuzzy_clean['address'].map(lambda x:1 if re.compile(r'\\w+[街道路巷]\\S+号').search(x) else 0)\n",
    "merge_df_fuzzy_clean.loc[:,'lat'] = 0\n",
    "merge_df_fuzzy_clean.loc[:,'lnt'] = 0\n",
    "print(merge_df_fuzzy_clean[merge_df_fuzzy_clean['完整地址']==1].shape)\n",
    "print(merge_df_fuzzy_clean.shape)"
   ]
  },
  {
   "cell_type": "code",
   "execution_count": null,
   "metadata": {},
   "outputs": [],
   "source": [
    "merge_df_fuzzy_clean.to_excel(r'E:\\paper\\清理結果-新型&授權\\浙江_模糊結果.xlsx')"
   ]
  },
  {
   "cell_type": "markdown",
   "metadata": {},
   "source": [
    "# 定位"
   ]
  },
  {
   "cell_type": "code",
   "execution_count": 2,
   "metadata": {},
   "outputs": [],
   "source": [
    "merge_df_clean = pd.read_excel(r'E:\\paper\\清理結果-新型&授權\\浙江_結果.xlsx',index_col=0)"
   ]
  },
  {
   "cell_type": "code",
   "execution_count": 3,
   "metadata": {},
   "outputs": [
    {
     "data": {
      "text/plain": [
       "(8398, 57)"
      ]
     },
     "execution_count": 3,
     "metadata": {},
     "output_type": "execute_result"
    }
   ],
   "source": [
    "merge_df_clean = pd.read_excel(r'E:\\paper\\清理結果-新\\浙江_結果.xlsx',index_col=0)\n",
    "merge_df_clean.fillna('',inplace=True)\n",
    "merge_df_clean[merge_df_clean['lat']==''].shape"
   ]
  },
  {
   "cell_type": "code",
   "execution_count": 4,
   "metadata": {},
   "outputs": [],
   "source": [
    "for i in merge_df_clean[merge_df_clean['lat']==''].index:\n",
    "    address = merge_df_clean.loc[i,'address']\n",
    "    g = getGeoForAddress(address)\n",
    "    merge_df_clean.loc[i,'lat'] = g[0]\n",
    "    merge_df_clean.loc[i,'lnt'] = g[1]"
   ]
  },
  {
   "cell_type": "code",
   "execution_count": 5,
   "metadata": {},
   "outputs": [
    {
     "name": "stdout",
     "output_type": "stream",
     "text": [
      "(39865, 57)\n",
      "(569, 57)\n"
     ]
    }
   ],
   "source": [
    "print(merge_df_clean.shape)\n",
    "print(merge_df_clean[merge_df_clean['lat']==''].shape)"
   ]
  },
  {
   "cell_type": "code",
   "execution_count": 6,
   "metadata": {},
   "outputs": [],
   "source": [
    "merge_df_clean.to_excel(r'E:\\paper\\清理結果-新\\浙江_結果.xlsx')"
   ]
  },
  {
   "cell_type": "markdown",
   "metadata": {},
   "source": [
    "# 作圖"
   ]
  },
  {
   "cell_type": "code",
   "execution_count": 9,
   "metadata": {},
   "outputs": [],
   "source": [
    "from geopy.distance import geodesic\n",
    "def how_far(a,b):\n",
    "    try:\n",
    "        return geodesic(a,b).kilometers\n",
    "    except:\n",
    "        return np.nan\n",
    "applicant = patent_df['申请人'].str.split(';',expand=True).stack().reset_index(level=1,drop=True).rename('申请人2')\n",
    "applicant = applicant.map(lambda x:x.strip())\n",
    "patent_df_new = patent_df.join(applicant)\n",
    "patent_count = patent_df_new.groupby('申请人2')['标题'].count().rename('專利數')"
   ]
  },
  {
   "cell_type": "code",
   "execution_count": 10,
   "metadata": {},
   "outputs": [
    {
     "data": {
      "text/plain": [
       "申请人2\n",
       "(杭州)浙江舞台设计研究院有限公司        1\n",
       "池万毅                      1\n",
       "池万焕                      1\n",
       "池仁华                      1\n",
       "池仁龙                      1\n",
       "                     ...  \n",
       "浙江理工大学                3877\n",
       "浙江工业大学                5400\n",
       "浙江吉利汽车研究院有限公司         5987\n",
       "浙江吉利控股集团有限公司          8883\n",
       "浙江大学                 16978\n",
       "Name: 專利數, Length: 105134, dtype: int64"
      ]
     },
     "execution_count": 10,
     "metadata": {},
     "output_type": "execute_result"
    }
   ],
   "source": [
    "patent_count.sort_values()"
   ]
  },
  {
   "cell_type": "code",
   "execution_count": 5,
   "metadata": {},
   "outputs": [],
   "source": [
    "merge_df = pd.read_excel(r'E:\\paper\\清理結果-新型&授權\\浙江_結果.xlsx',index_col=0)\n",
    "target1 = (30.20856,120.21181)\n",
    "merge_df['杭州'] = merge_df.apply(lambda x:how_far(target1,(x['lat'],x['lnt'])),axis=1)\n",
    "target2 = (29.89231,121.646)\n",
    "merge_df['寧波'] = merge_df.apply(lambda x:how_far(target2,(x['lat'],x['lnt'])),axis=1)\n",
    "target3 = (29.97956,120.60964)\n",
    "merge_df['紹興'] = merge_df.apply(lambda x:how_far(target3,(x['lat'],x['lnt'])),axis=1)\n",
    "target4 = (27.96501,120.72647)\n",
    "merge_df['溫州'] = merge_df.apply(lambda x:how_far(target4,(x['lat'],x['lnt'])),axis=1)\n",
    "merge_df = merge_df.merge(patent_count,left_on='name',right_on='申请人2',how='left')\n",
    "merge_df['專利數'].fillna(0,inplace=True)"
   ]
  },
  {
   "cell_type": "code",
   "execution_count": 12,
   "metadata": {},
   "outputs": [],
   "source": [
    "merge_df = pd.read_excel(r'E:\\paper\\清理結果-新\\浙江_結果.xlsx',index_col=0)\n",
    "merge_df.fillna('',inplace=True)\n",
    "merge_df.drop('專利數',axis=1,inplace=True)\n",
    "target1 = (30.20856,120.21181)\n",
    "target2 = (29.89231,121.646)\n",
    "target3 = (29.97956,120.60964)\n",
    "target4 = (27.96501,120.72647)\n",
    "\n",
    "for i in merge_df[merge_df['杭州']==''].index:\n",
    "    merge_df.loc[i,'杭州'] = how_far(target1,(merge_df.loc[i,'lat'],merge_df.loc[i,'lnt']))\n",
    "    merge_df.loc[i,'寧波'] = how_far(target2,(merge_df.loc[i,'lat'],merge_df.loc[i,'lnt']))\n",
    "    merge_df.loc[i,'紹興'] = how_far(target3,(merge_df.loc[i,'lat'],merge_df.loc[i,'lnt']))\n",
    "    merge_df.loc[i,'溫州'] = how_far(target4,(merge_df.loc[i,'lat'],merge_df.loc[i,'lnt']))\n",
    "merge_df = merge_df.merge(patent_count,left_on='name',right_on='申请人2',how='left')\n",
    "merge_df['專利數'].fillna(0,inplace=True)"
   ]
  },
  {
   "cell_type": "code",
   "execution_count": 13,
   "metadata": {},
   "outputs": [],
   "source": [
    "merge_df['早期園區'] = merge_df.apply(lambda x:1 if (x['杭州']<10) else 0,axis=1)\n",
    "merge_df['近期園區'] = merge_df.apply(lambda x:1 if ((x['寧波']<10)or(x['紹興']<10)or(x['溫州']<10)) else 0,axis=1)"
   ]
  },
  {
   "cell_type": "code",
   "execution_count": 14,
   "metadata": {},
   "outputs": [],
   "source": [
    "merge_df.to_excel(r'E:\\paper\\清理結果-新園區內外\\浙江_結果.xlsx')"
   ]
  },
  {
   "cell_type": "code",
   "execution_count": 15,
   "metadata": {},
   "outputs": [
    {
     "name": "stdout",
     "output_type": "stream",
     "text": [
      "(39865, 57)\n",
      "0.5822651448639157\n",
      "0.00594506459300138\n"
     ]
    }
   ],
   "source": [
    "print(merge_df.shape)\n",
    "print(len(merge_df[merge_df['專利數']==0]['專利數'])/len(merge_df['專利數']))\n",
    "print(len(merge_df[merge_df['專利數']>=100]['專利數'])/len(merge_df['專利數']))"
   ]
  },
  {
   "cell_type": "code",
   "execution_count": 16,
   "metadata": {},
   "outputs": [
    {
     "data": {
      "text/plain": [
       "專利數\n",
       "0.0       23212\n",
       "1.0        2289\n",
       "2.0        1692\n",
       "3.0        1000\n",
       "4.0         916\n",
       "5.0         691\n",
       "6.0         803\n",
       "7.0         687\n",
       "8.0         657\n",
       "9.0         519\n",
       "10.0        603\n",
       "11.0        449\n",
       "12.0        484\n",
       "13.0        396\n",
       "14.0        391\n",
       "15.0        344\n",
       "16.0        310\n",
       "17.0        287\n",
       "18.0        249\n",
       "19.0        232\n",
       "20.0        278\n",
       "21.0        195\n",
       "22.0        184\n",
       "23.0        151\n",
       "24.0        161\n",
       "25.0        166\n",
       "26.0        147\n",
       "27.0        154\n",
       "28.0        124\n",
       "29.0        104\n",
       "30.0        119\n",
       "31.0        129\n",
       "32.0         83\n",
       "33.0         75\n",
       "34.0         68\n",
       "35.0         65\n",
       "36.0         77\n",
       "37.0         58\n",
       "38.0         70\n",
       "39.0         48\n",
       "40.0         52\n",
       "41.0         48\n",
       "42.0         52\n",
       "43.0         53\n",
       "44.0         52\n",
       "45.0         33\n",
       "46.0         28\n",
       "47.0         29\n",
       "48.0         36\n",
       "49.0         21\n",
       "50.0         31\n",
       "51.0         32\n",
       "52.0         12\n",
       "53.0         23\n",
       "54.0         21\n",
       "55.0         14\n",
       "56.0         21\n",
       "57.0         22\n",
       "58.0         24\n",
       "59.0         14\n",
       "60.0         11\n",
       "61.0         10\n",
       "62.0         12\n",
       "63.0          7\n",
       "64.0         21\n",
       "65.0          9\n",
       "66.0         11\n",
       "67.0         14\n",
       "68.0         16\n",
       "69.0         10\n",
       "70.0         16\n",
       "71.0         11\n",
       "72.0         10\n",
       "73.0         11\n",
       "74.0          7\n",
       "75.0         13\n",
       "76.0          7\n",
       "77.0          8\n",
       "78.0          7\n",
       "79.0         13\n",
       "80.0          8\n",
       "81.0          6\n",
       "82.0          4\n",
       "83.0          5\n",
       "84.0          7\n",
       "85.0          9\n",
       "86.0          2\n",
       "87.0          2\n",
       "88.0          8\n",
       "89.0          6\n",
       "90.0         10\n",
       "91.0          6\n",
       "92.0          4\n",
       "93.0          5\n",
       "94.0          6\n",
       "95.0          9\n",
       "96.0          4\n",
       "97.0          6\n",
       "98.0          3\n",
       "99.0          9\n",
       "100.0         6\n",
       "101.0         8\n",
       "102.0         6\n",
       "103.0         6\n",
       "104.0         5\n",
       "105.0         4\n",
       "106.0         3\n",
       "107.0         6\n",
       "108.0         4\n",
       "109.0         4\n",
       "110.0         3\n",
       "111.0         3\n",
       "112.0         5\n",
       "113.0         4\n",
       "114.0         2\n",
       "115.0         3\n",
       "116.0         3\n",
       "117.0         4\n",
       "119.0         4\n",
       "120.0         1\n",
       "121.0         3\n",
       "122.0         2\n",
       "123.0         2\n",
       "124.0         1\n",
       "125.0         1\n",
       "126.0         5\n",
       "127.0         4\n",
       "128.0         2\n",
       "129.0         2\n",
       "130.0         2\n",
       "131.0         3\n",
       "132.0         2\n",
       "133.0         2\n",
       "134.0         1\n",
       "136.0         6\n",
       "137.0         1\n",
       "138.0         3\n",
       "141.0         3\n",
       "143.0         2\n",
       "144.0         1\n",
       "145.0         2\n",
       "151.0         2\n",
       "152.0         2\n",
       "153.0         2\n",
       "154.0         1\n",
       "157.0         1\n",
       "158.0         1\n",
       "159.0         2\n",
       "160.0         1\n",
       "162.0         1\n",
       "165.0         2\n",
       "166.0         1\n",
       "167.0         1\n",
       "169.0         1\n",
       "170.0         2\n",
       "171.0         2\n",
       "173.0         1\n",
       "176.0         3\n",
       "178.0         1\n",
       "180.0         1\n",
       "181.0         1\n",
       "182.0         3\n",
       "183.0         1\n",
       "185.0         1\n",
       "188.0         2\n",
       "189.0         1\n",
       "190.0         1\n",
       "195.0         2\n",
       "197.0         2\n",
       "198.0         1\n",
       "200.0         1\n",
       "201.0         2\n",
       "203.0         1\n",
       "216.0         1\n",
       "217.0         1\n",
       "219.0         2\n",
       "221.0         1\n",
       "222.0         1\n",
       "225.0         1\n",
       "226.0         1\n",
       "230.0         1\n",
       "231.0         2\n",
       "235.0         1\n",
       "237.0         1\n",
       "255.0         2\n",
       "258.0         1\n",
       "260.0         1\n",
       "265.0         1\n",
       "269.0         1\n",
       "279.0         1\n",
       "283.0         1\n",
       "288.0         1\n",
       "293.0         1\n",
       "303.0         1\n",
       "304.0         1\n",
       "317.0         1\n",
       "323.0         1\n",
       "337.0         1\n",
       "338.0         3\n",
       "351.0         1\n",
       "353.0         1\n",
       "354.0         1\n",
       "358.0         1\n",
       "406.0         1\n",
       "408.0         1\n",
       "446.0         1\n",
       "449.0         1\n",
       "485.0         1\n",
       "496.0         1\n",
       "538.0         1\n",
       "544.0         1\n",
       "545.0         1\n",
       "559.0         1\n",
       "571.0         1\n",
       "741.0         1\n",
       "768.0         1\n",
       "776.0         1\n",
       "911.0         1\n",
       "1007.0        1\n",
       "1304.0        1\n",
       "2152.0        1\n",
       "2846.0        1\n",
       "5987.0        1\n",
       "8883.0        1\n",
       "Name: IPC, dtype: int64"
      ]
     },
     "execution_count": 16,
     "metadata": {},
     "output_type": "execute_result"
    }
   ],
   "source": [
    "merge_df.groupby('專利數')['IPC'].count()"
   ]
  },
  {
   "cell_type": "code",
   "execution_count": 17,
   "metadata": {
    "scrolled": true
   },
   "outputs": [
    {
     "data": {
      "text/plain": [
       "專利數\n",
       "0.0      441\n",
       "1.0       22\n",
       "2.0       13\n",
       "3.0        8\n",
       "4.0        8\n",
       "5.0        6\n",
       "6.0        6\n",
       "7.0        8\n",
       "8.0        4\n",
       "9.0        5\n",
       "10.0       2\n",
       "11.0       4\n",
       "12.0       3\n",
       "13.0       1\n",
       "14.0       3\n",
       "15.0       4\n",
       "16.0       3\n",
       "17.0       3\n",
       "18.0       4\n",
       "19.0       1\n",
       "20.0       1\n",
       "21.0       4\n",
       "22.0       1\n",
       "24.0       2\n",
       "26.0       2\n",
       "27.0       1\n",
       "28.0       1\n",
       "35.0       1\n",
       "36.0       2\n",
       "40.0       1\n",
       "51.0       1\n",
       "72.0       1\n",
       "79.0       1\n",
       "120.0      1\n",
       "Name: IPC, dtype: int64"
      ]
     },
     "execution_count": 17,
     "metadata": {},
     "output_type": "execute_result"
    }
   ],
   "source": [
    "merge_df[merge_df['lat']==''].groupby('專利數')['IPC'].count()"
   ]
  },
  {
   "cell_type": "code",
   "execution_count": 4,
   "metadata": {},
   "outputs": [
    {
     "data": {
      "text/plain": [
       "Text(0, 0.5, '無法定位廠商數量')"
      ]
     },
     "execution_count": 4,
     "metadata": {},
     "output_type": "execute_result"
    },
    {
     "data": {
      "image/png": "[encoded data removed]",
      "text/plain": [
       "<Figure size 432x288 with 2 Axes>"
      ]
     },
     "metadata": {
      "needs_background": "light"
     },
     "output_type": "display_data"
    }
   ],
   "source": [
    "from matplotlib.font_manager import FontProperties\n",
    "myfont = FontProperties(fname=r'C:\\Windows\\Fonts\\msjhbd.ttc')\n",
    "fig = plt.figure()\n",
    "ax1 = fig.add_subplot(111)\n",
    "ax1.plot(merge_df[merge_df['lat']!=0].groupby('專利數')['IPC'].count().index,merge_df[merge_df['lat']!=0].groupby('專利數')['IPC'].count())\n",
    "ax1.set_title('浙江',fontproperties=myfont,fontsize=15)\n",
    "ax1.set_ylabel('廠商數量',fontproperties=myfont)\n",
    "ax1.set_xlabel('專利數量',fontproperties=myfont)\n",
    "ax1.set_xlim([0,100])\n",
    "ax1.set_ylim([0,2500])\n",
    "ax2 = ax1.twinx()\n",
    "ax2.bar(merge_df[merge_df['lat']==''].groupby('專利數')['IPC'].count().index,merge_df[merge_df['lat']==''].groupby('專利數')['IPC'].count(),color='red')\n",
    "ax2.set_ylim([0,25])\n",
    "ax2.set_ylabel('無法定位廠商數量',fontproperties=myfont)\n"
   ]
  },
  {
   "cell_type": "code",
   "execution_count": 2,
   "metadata": {},
   "outputs": [
    {
     "name": "stdout",
     "output_type": "stream",
     "text": [
      "4952\n",
      "0.12668849774866967\n",
      "65\n"
     ]
    }
   ],
   "source": [
    "region = pd.read_excel(r'E:\\paper\\清理結果-新園區內外\\浙江_結果.xlsx',index_col=0)\n",
    "region.fillna('',inplace=True)\n",
    "corptype = ['有限','公司','责任','集团','股份','控股','总公司','分公司']\n",
    "region['name_clean'] = region['name']\n",
    "for k in corptype:\n",
    "    region['name_clean'] = region['name_clean'].map(lambda x:re.sub(k,'',x))\n",
    "region['name_clean'] = region['name_clean'].map(lambda x:re.sub(r'\\(.*?\\)','',x))\n",
    "region['name_clean'] = region['name_clean'].map(lambda x:re.sub(r'\\（.*?\\）','',x))\n",
    "region['name_clean'] = region['name_clean'].map(lambda x:re.sub(r'[\\s+-─]','',x))\n",
    "clean = region[region.duplicated(['name_clean'],keep=False)].sort_values(by=['企業名稱'])\n",
    "patents = clean.groupby('name_clean')['專利數'].sum()\n",
    "final = clean.drop('專利數',axis=1).merge(patents,left_on='name_clean',right_on='name_clean',how='left')\n",
    "final.drop_duplicates(['name_clean'],keep='last',inplace=True)\n",
    "region.drop_duplicates(['name_clean'],keep=False,inplace=True)\n",
    "cleaned = pd.concat([region,final],ignore_index=True,sort=False)\n",
    "located = cleaned[cleaned['lat']!='']\n",
    "not_merge = located[located['企業名稱']=='']\n",
    "print(len(not_merge['專利數']))\n",
    "print(len(not_merge['專利數'])/len(located['專利數']))\n",
    "print(len(not_merge[not_merge['專利數']>100]['專利數']))"
   ]
  },
  {
   "cell_type": "code",
   "execution_count": 3,
   "metadata": {},
   "outputs": [
    {
     "data": {
      "text/plain": [
       "專利數\n",
       "1       970\n",
       "2       678\n",
       "3       384\n",
       "4       336\n",
       "5       241\n",
       "6       237\n",
       "7       207\n",
       "8       173\n",
       "9       155\n",
       "10      129\n",
       "11      122\n",
       "12      119\n",
       "13      100\n",
       "14       75\n",
       "15       67\n",
       "16       69\n",
       "17       67\n",
       "18       65\n",
       "19       39\n",
       "20       48\n",
       "21       43\n",
       "22       28\n",
       "23       28\n",
       "24       32\n",
       "25       28\n",
       "26       28\n",
       "27       36\n",
       "28       29\n",
       "29       18\n",
       "30       24\n",
       "31       24\n",
       "32       24\n",
       "33       13\n",
       "34       10\n",
       "35       12\n",
       "36       14\n",
       "37       10\n",
       "38        9\n",
       "39       10\n",
       "40        9\n",
       "41        6\n",
       "42       16\n",
       "43       12\n",
       "44       11\n",
       "45        7\n",
       "46        3\n",
       "47        5\n",
       "48        7\n",
       "49        4\n",
       "50        6\n",
       "51        3\n",
       "52        2\n",
       "53        2\n",
       "54        6\n",
       "55        4\n",
       "56        6\n",
       "57        1\n",
       "58        5\n",
       "59        3\n",
       "60        2\n",
       "61        2\n",
       "62        5\n",
       "63        2\n",
       "64        4\n",
       "65        3\n",
       "67        3\n",
       "68        3\n",
       "69        2\n",
       "70        1\n",
       "71        1\n",
       "72        3\n",
       "73        1\n",
       "74        1\n",
       "75        3\n",
       "77        1\n",
       "78        3\n",
       "79        5\n",
       "80        2\n",
       "82        1\n",
       "83        3\n",
       "84        1\n",
       "85        2\n",
       "86        1\n",
       "88        3\n",
       "89        2\n",
       "91        1\n",
       "95        1\n",
       "96        2\n",
       "97        1\n",
       "98        1\n",
       "99        1\n",
       "100       1\n",
       "101       4\n",
       "102       2\n",
       "103       2\n",
       "104       2\n",
       "106       2\n",
       "107       1\n",
       "108       1\n",
       "110       2\n",
       "112       1\n",
       "116       1\n",
       "123       1\n",
       "125       1\n",
       "126       1\n",
       "127       2\n",
       "128       1\n",
       "132       1\n",
       "133       1\n",
       "136       4\n",
       "139       1\n",
       "141       1\n",
       "144       1\n",
       "145       2\n",
       "151       1\n",
       "152       1\n",
       "159       1\n",
       "160       1\n",
       "166       1\n",
       "167       1\n",
       "171       1\n",
       "181       1\n",
       "182       2\n",
       "183       1\n",
       "190       1\n",
       "195       1\n",
       "216       1\n",
       "222       1\n",
       "230       1\n",
       "237       1\n",
       "338       1\n",
       "354       1\n",
       "358       1\n",
       "406       1\n",
       "544       1\n",
       "545       1\n",
       "559       1\n",
       "571       1\n",
       "1007      1\n",
       "1304      1\n",
       "2152      1\n",
       "5987      1\n",
       "8883      1\n",
       "Name: IPC, dtype: int64"
      ]
     },
     "execution_count": 3,
     "metadata": {},
     "output_type": "execute_result"
    }
   ],
   "source": [
    "not_merge.groupby('專利數')['IPC'].count()"
   ]
  },
  {
   "cell_type": "code",
   "execution_count": 4,
   "metadata": {
    "scrolled": true
   },
   "outputs": [
    {
     "data": {
      "text/html": [
       "<div>\n",
       "<style scoped>\n",
       "    .dataframe tbody tr th:only-of-type {\n",
       "        vertical-align: middle;\n",
       "    }\n",
       "\n",
       "    .dataframe tbody tr th {\n",
       "        vertical-align: top;\n",
       "    }\n",
       "\n",
       "    .dataframe thead th {\n",
       "        text-align: right;\n",
       "    }\n",
       "</style>\n",
       "<table border=\"1\" class=\"dataframe\">\n",
       "  <thead>\n",
       "    <tr style=\"text-align: right;\">\n",
       "      <th></th>\n",
       "      <th>法人代碼</th>\n",
       "      <th>企業名稱</th>\n",
       "      <th>地址</th>\n",
       "      <th>區域代碼</th>\n",
       "      <th>行業代碼</th>\n",
       "      <th>區域代碼_str</th>\n",
       "      <th>CPC</th>\n",
       "      <th>IPC</th>\n",
       "      <th>inpadoc同族</th>\n",
       "      <th>inpadoc同族个数</th>\n",
       "      <th>专利寿命（月）</th>\n",
       "      <th>专利类型</th>\n",
       "      <th>中国申请人区县</th>\n",
       "      <th>中国申请人地市</th>\n",
       "      <th>优先权信息</th>\n",
       "      <th>公开国别</th>\n",
       "      <th>公开（公告）号</th>\n",
       "      <th>公开（公告）日</th>\n",
       "      <th>发明人</th>\n",
       "      <th>合享价值度</th>\n",
       "      <th>同族国家</th>\n",
       "      <th>失效日</th>\n",
       "      <th>序号</th>\n",
       "      <th>引证专利</th>\n",
       "      <th>引证科技文献</th>\n",
       "      <th>...</th>\n",
       "      <th>申请人地址</th>\n",
       "      <th>申请人省市代码</th>\n",
       "      <th>申请人类型</th>\n",
       "      <th>申请号</th>\n",
       "      <th>申请日</th>\n",
       "      <th>简单同族</th>\n",
       "      <th>简单同族个数</th>\n",
       "      <th>被引证专利</th>\n",
       "      <th>被引证国别(forward)</th>\n",
       "      <th>被引证次数</th>\n",
       "      <th>链接到incoPat</th>\n",
       "      <th>申请人</th>\n",
       "      <th>name</th>\n",
       "      <th>address</th>\n",
       "      <th>完整地址</th>\n",
       "      <th>lat</th>\n",
       "      <th>lnt</th>\n",
       "      <th>杭州</th>\n",
       "      <th>寧波</th>\n",
       "      <th>紹興</th>\n",
       "      <th>溫州</th>\n",
       "      <th>早期園區</th>\n",
       "      <th>近期園區</th>\n",
       "      <th>專利數</th>\n",
       "      <th>name_clean</th>\n",
       "    </tr>\n",
       "  </thead>\n",
       "  <tbody>\n",
       "    <tr>\n",
       "      <td>38593</td>\n",
       "      <td></td>\n",
       "      <td></td>\n",
       "      <td></td>\n",
       "      <td></td>\n",
       "      <td></td>\n",
       "      <td></td>\n",
       "      <td>H04L9/001</td>\n",
       "      <td>H04L9/00</td>\n",
       "      <td>CN102904709A; CN102904709B; WO2014048051A1</td>\n",
       "      <td>3</td>\n",
       "      <td></td>\n",
       "      <td>发明授权</td>\n",
       "      <td>[开化]</td>\n",
       "      <td>[衢州]</td>\n",
       "      <td></td>\n",
       "      <td>CN</td>\n",
       "      <td>CN102904709B</td>\n",
       "      <td>2014-12-24 00:00:00</td>\n",
       "      <td>胡晓波; 高明; 万一农; 余成星; 陈刚; 戚益中</td>\n",
       "      <td>9</td>\n",
       "      <td>WO, CN</td>\n",
       "      <td></td>\n",
       "      <td>11264</td>\n",
       "      <td>CN101931526A; CN102385659A; US6396137B1; CN102694643A; CN201726386U</td>\n",
       "      <td>&lt;text&gt;满峰泉 等.一组切换混沌系统的设计与电路实现.《四川兵工学报》.2009, 第30卷(第12期), &lt;/text&gt;&lt;text&gt;刘扬正 等.四维切换超混沌系统.《物理学报》.2007, 第56卷(第9期), &lt;/text&gt;</td>\n",
       "      <td>...</td>\n",
       "      <td>浙江省开化县城关镇芹南路6号</td>\n",
       "      <td>浙江; 33</td>\n",
       "      <td>企业</td>\n",
       "      <td>CN201210367549.5</td>\n",
       "      <td>2012-09-27 00:00:00</td>\n",
       "      <td>WO2014048051A1; CN102904709B; CN102904709A</td>\n",
       "      <td>3</td>\n",
       "      <td></td>\n",
       "      <td></td>\n",
       "      <td>0</td>\n",
       "      <td>到incoPat中查看\\r\\nCN102904709B</td>\n",
       "      <td>国家电网公司</td>\n",
       "      <td>国家电网公司</td>\n",
       "      <td>浙江省开化县城关镇芹南路6号</td>\n",
       "      <td>1</td>\n",
       "      <td>27.9767</td>\n",
       "      <td>119.634</td>\n",
       "      <td>253.682747</td>\n",
       "      <td>289.054191</td>\n",
       "      <td>241.487938</td>\n",
       "      <td>107.496882</td>\n",
       "      <td>0</td>\n",
       "      <td>0</td>\n",
       "      <td>1007</td>\n",
       "      <td>国家电网</td>\n",
       "    </tr>\n",
       "    <tr>\n",
       "      <td>39417</td>\n",
       "      <td></td>\n",
       "      <td></td>\n",
       "      <td></td>\n",
       "      <td></td>\n",
       "      <td></td>\n",
       "      <td></td>\n",
       "      <td></td>\n",
       "      <td>G01M99/00</td>\n",
       "      <td>CN103575557B; CN103575557A</td>\n",
       "      <td>2</td>\n",
       "      <td>0</td>\n",
       "      <td>发明授权</td>\n",
       "      <td>[北仑]</td>\n",
       "      <td>[宁波]</td>\n",
       "      <td></td>\n",
       "      <td>CN</td>\n",
       "      <td>CN103575557B</td>\n",
       "      <td>2015-10-14 00:00:00</td>\n",
       "      <td>窦军营; 马国力; 安聪慧; 冯擎峰</td>\n",
       "      <td>8</td>\n",
       "      <td>CN</td>\n",
       "      <td></td>\n",
       "      <td>4624</td>\n",
       "      <td>CN101332875A; CN101672892A; CN102431821A; CN1226728A; CN201159639Y; CN201749694U; TW200622531A; TW201135222A; US4695995A</td>\n",
       "      <td>&lt;text&gt;CN101332875A全文&lt;/text&gt;&lt;text&gt;CN101672892A全文&lt;/text&gt;&lt;text&gt;CN102431821A全文&lt;/text&gt;&lt;text&gt;CN1226728A全文&lt;/text&gt;&lt;text&gt;CN201159639Y全文&lt;/text&gt;&lt;text&gt;CN201749694U全文&lt;/text&gt;&lt;text&gt;TW200622531A全文&lt;/text&gt;&lt;text&gt;TW2...</td>\n",
       "      <td>...</td>\n",
       "      <td>浙江省宁波市经济技术开发区新碶街道恒山路1528号</td>\n",
       "      <td>浙江; 33</td>\n",
       "      <td>企业</td>\n",
       "      <td>CN201210594394.9</td>\n",
       "      <td>2012-12-31 00:00:00</td>\n",
       "      <td>CN103575557A; CN103575557B</td>\n",
       "      <td>2</td>\n",
       "      <td></td>\n",
       "      <td></td>\n",
       "      <td>0</td>\n",
       "      <td>到incoPat中查看\\r\\nCN103575557B</td>\n",
       "      <td>浙江吉利汽车有限公司</td>\n",
       "      <td>浙江吉利汽车有限公司</td>\n",
       "      <td>浙江省宁波市经济技术开发区新碶街道恒山路1528号</td>\n",
       "      <td>1</td>\n",
       "      <td>29.9011</td>\n",
       "      <td>121.863</td>\n",
       "      <td>162.798780</td>\n",
       "      <td>20.945376</td>\n",
       "      <td>121.279383</td>\n",
       "      <td>241.488618</td>\n",
       "      <td>0</td>\n",
       "      <td>0</td>\n",
       "      <td>1304</td>\n",
       "      <td>浙江吉利汽车</td>\n",
       "    </tr>\n",
       "    <tr>\n",
       "      <td>39387</td>\n",
       "      <td></td>\n",
       "      <td></td>\n",
       "      <td></td>\n",
       "      <td></td>\n",
       "      <td></td>\n",
       "      <td></td>\n",
       "      <td></td>\n",
       "      <td>B60R22/20</td>\n",
       "      <td>CN103010150A; CN103010150B</td>\n",
       "      <td>2</td>\n",
       "      <td></td>\n",
       "      <td>发明授权</td>\n",
       "      <td>[萧山]</td>\n",
       "      <td>[杭州]</td>\n",
       "      <td></td>\n",
       "      <td>CN</td>\n",
       "      <td>CN103010150B</td>\n",
       "      <td>2015-07-22 00:00:00</td>\n",
       "      <td>贺锦鹏; 牛旭周; 马芳武; 刘卫国; 周大永; 赵福全</td>\n",
       "      <td>9</td>\n",
       "      <td>CN</td>\n",
       "      <td></td>\n",
       "      <td>6054</td>\n",
       "      <td></td>\n",
       "      <td></td>\n",
       "      <td>...</td>\n",
       "      <td>浙江省杭州市萧山区临江工业园区农二场房屋206号</td>\n",
       "      <td>浙江; 33</td>\n",
       "      <td>企业</td>\n",
       "      <td>CN201210586581.2</td>\n",
       "      <td>2012-12-28 00:00:00</td>\n",
       "      <td>CN103010150B; CN103010150A</td>\n",
       "      <td>2</td>\n",
       "      <td></td>\n",
       "      <td></td>\n",
       "      <td>0</td>\n",
       "      <td>到incoPat中查看\\r\\nCN103010150B</td>\n",
       "      <td>浙江吉利汽车研究院有限公司杭州分公司</td>\n",
       "      <td>浙江吉利汽车研究院有限公司杭州分公司</td>\n",
       "      <td>浙江省杭州市萧山区临江工业园区农二场房屋206号</td>\n",
       "      <td>0</td>\n",
       "      <td>30.2286</td>\n",
       "      <td>120.375</td>\n",
       "      <td>15.824392</td>\n",
       "      <td>128.143295</td>\n",
       "      <td>35.713239</td>\n",
       "      <td>253.215544</td>\n",
       "      <td>0</td>\n",
       "      <td>0</td>\n",
       "      <td>2152</td>\n",
       "      <td>浙江吉利汽车研究院杭州分</td>\n",
       "    </tr>\n",
       "    <tr>\n",
       "      <td>38607</td>\n",
       "      <td></td>\n",
       "      <td></td>\n",
       "      <td></td>\n",
       "      <td></td>\n",
       "      <td></td>\n",
       "      <td></td>\n",
       "      <td></td>\n",
       "      <td>C22C9/00; C22C1/10; C22F1/08; C22C32/00</td>\n",
       "      <td>CN102952962B; CN102952962A</td>\n",
       "      <td>2</td>\n",
       "      <td>0</td>\n",
       "      <td>发明授权</td>\n",
       "      <td>[临海]</td>\n",
       "      <td>[台州]</td>\n",
       "      <td>CN201210029251A 20120210</td>\n",
       "      <td>CN</td>\n",
       "      <td>CN102952962B</td>\n",
       "      <td>2014-09-10 00:00:00</td>\n",
       "      <td>姚再起; 李志华; 王春斌; 李莉; 刘强; 马芳武; 赵福全</td>\n",
       "      <td>9</td>\n",
       "      <td>CN</td>\n",
       "      <td></td>\n",
       "      <td>14470</td>\n",
       "      <td></td>\n",
       "      <td></td>\n",
       "      <td>...</td>\n",
       "      <td>浙江省台州市临海市城东闸头</td>\n",
       "      <td>浙江; 33</td>\n",
       "      <td>企业</td>\n",
       "      <td>CN201210366802.5</td>\n",
       "      <td>2012-09-28 00:00:00</td>\n",
       "      <td>CN102952962B; CN102952962A</td>\n",
       "      <td>2</td>\n",
       "      <td></td>\n",
       "      <td></td>\n",
       "      <td>0</td>\n",
       "      <td>到incoPat中查看\\r\\nCN102952962B</td>\n",
       "      <td>浙江吉利汽车研究院有限公司</td>\n",
       "      <td>浙江吉利汽车研究院有限公司</td>\n",
       "      <td>浙江省台州市临海市城东闸头</td>\n",
       "      <td>0</td>\n",
       "      <td>28.8656</td>\n",
       "      <td>121.157</td>\n",
       "      <td>174.780841</td>\n",
       "      <td>123.313854</td>\n",
       "      <td>134.404695</td>\n",
       "      <td>108.350015</td>\n",
       "      <td>0</td>\n",
       "      <td>0</td>\n",
       "      <td>5987</td>\n",
       "      <td>浙江吉利汽车研究院</td>\n",
       "    </tr>\n",
       "    <tr>\n",
       "      <td>37362</td>\n",
       "      <td></td>\n",
       "      <td></td>\n",
       "      <td></td>\n",
       "      <td></td>\n",
       "      <td></td>\n",
       "      <td></td>\n",
       "      <td></td>\n",
       "      <td>B60W10/06; B60W10/10; B60W10/18; B60W10/22</td>\n",
       "      <td>CN102556044A; CN102556044B</td>\n",
       "      <td>2</td>\n",
       "      <td></td>\n",
       "      <td>发明授权</td>\n",
       "      <td>[滨江]</td>\n",
       "      <td>[杭州]</td>\n",
       "      <td></td>\n",
       "      <td>CN</td>\n",
       "      <td>CN102556044B</td>\n",
       "      <td>2015-09-30 00:00:00</td>\n",
       "      <td>于立涛; 黄巧慧</td>\n",
       "      <td>10</td>\n",
       "      <td>CN</td>\n",
       "      <td></td>\n",
       "      <td>4720</td>\n",
       "      <td>CN1221687A; CN202080272U</td>\n",
       "      <td></td>\n",
       "      <td>...</td>\n",
       "      <td>浙江省杭州市滨江区江陵路1760号</td>\n",
       "      <td>浙江; 33</td>\n",
       "      <td>企业</td>\n",
       "      <td>CN201110454410.X</td>\n",
       "      <td>2011-12-30 00:00:00</td>\n",
       "      <td>CN102556044B; CN102556044A</td>\n",
       "      <td>2</td>\n",
       "      <td></td>\n",
       "      <td></td>\n",
       "      <td>0</td>\n",
       "      <td>到incoPat中查看\\r\\nCN102556044B</td>\n",
       "      <td>浙江吉利控股集团有限公司</td>\n",
       "      <td>浙江吉利控股集团有限公司</td>\n",
       "      <td>浙江省杭州市滨江区江陵路1760号</td>\n",
       "      <td>1</td>\n",
       "      <td>30.2075</td>\n",
       "      <td>120.218</td>\n",
       "      <td>0.609586</td>\n",
       "      <td>142.073337</td>\n",
       "      <td>45.426066</td>\n",
       "      <td>253.431039</td>\n",
       "      <td>1</td>\n",
       "      <td>0</td>\n",
       "      <td>8883</td>\n",
       "      <td>浙江吉利</td>\n",
       "    </tr>\n",
       "  </tbody>\n",
       "</table>\n",
       "<p>5 rows × 58 columns</p>\n",
       "</div>"
      ],
      "text/plain": [
       "      法人代碼 企業名稱 地址 區域代碼 行業代碼 區域代碼_str        CPC  \\\n",
       "38593                                  H04L9/001   \n",
       "39417                                              \n",
       "39387                                              \n",
       "38607                                              \n",
       "37362                                              \n",
       "\n",
       "                                              IPC  \\\n",
       "38593                                    H04L9/00   \n",
       "39417                                   G01M99/00   \n",
       "39387                                   B60R22/20   \n",
       "38607     C22C9/00; C22C1/10; C22F1/08; C22C32/00   \n",
       "37362  B60W10/06; B60W10/10; B60W10/18; B60W10/22   \n",
       "\n",
       "                                        inpadoc同族 inpadoc同族个数 专利寿命（月）  专利类型  \\\n",
       "38593  CN102904709A; CN102904709B; WO2014048051A1           3          发明授权   \n",
       "39417                  CN103575557B; CN103575557A           2       0  发明授权   \n",
       "39387                  CN103010150A; CN103010150B           2          发明授权   \n",
       "38607                  CN102952962B; CN102952962A           2       0  发明授权   \n",
       "37362                  CN102556044A; CN102556044B           2          发明授权   \n",
       "\n",
       "      中国申请人区县 中国申请人地市                     优先权信息 公开国别       公开（公告）号  \\\n",
       "38593    [开化]    [衢州]                             CN  CN102904709B   \n",
       "39417    [北仑]    [宁波]                             CN  CN103575557B   \n",
       "39387    [萧山]    [杭州]                             CN  CN103010150B   \n",
       "38607    [临海]    [台州]  CN201210029251A 20120210   CN  CN102952962B   \n",
       "37362    [滨江]    [杭州]                             CN  CN102556044B   \n",
       "\n",
       "                   公开（公告）日                              发明人 合享价值度    同族国家 失效日  \\\n",
       "38593  2014-12-24 00:00:00       胡晓波; 高明; 万一农; 余成星; 陈刚; 戚益中     9  WO, CN       \n",
       "39417  2015-10-14 00:00:00               窦军营; 马国力; 安聪慧; 冯擎峰     8      CN       \n",
       "39387  2015-07-22 00:00:00     贺锦鹏; 牛旭周; 马芳武; 刘卫国; 周大永; 赵福全     9      CN       \n",
       "38607  2014-09-10 00:00:00  姚再起; 李志华; 王春斌; 李莉; 刘强; 马芳武; 赵福全     9      CN       \n",
       "37362  2015-09-30 00:00:00                         于立涛; 黄巧慧    10      CN       \n",
       "\n",
       "          序号  \\\n",
       "38593  11264   \n",
       "39417   4624   \n",
       "39387   6054   \n",
       "38607  14470   \n",
       "37362   4720   \n",
       "\n",
       "                                                                                                                           引证专利  \\\n",
       "38593                                                       CN101931526A; CN102385659A; US6396137B1; CN102694643A; CN201726386U   \n",
       "39417  CN101332875A; CN101672892A; CN102431821A; CN1226728A; CN201159639Y; CN201749694U; TW200622531A; TW201135222A; US4695995A   \n",
       "39387                                                                                                                             \n",
       "38607                                                                                                                             \n",
       "37362                                                                                                  CN1221687A; CN202080272U   \n",
       "\n",
       "                                                                                                                                                                                                        引证科技文献  \\\n",
       "38593                                                                                     <text>满峰泉 等.一组切换混沌系统的设计与电路实现.《四川兵工学报》.2009, 第30卷(第12期), </text><text>刘扬正 等.四维切换超混沌系统.《物理学报》.2007, 第56卷(第9期), </text>   \n",
       "39417  <text>CN101332875A全文</text><text>CN101672892A全文</text><text>CN102431821A全文</text><text>CN1226728A全文</text><text>CN201159639Y全文</text><text>CN201749694U全文</text><text>TW200622531A全文</text><text>TW2...   \n",
       "39387                                                                                                                                                                                                            \n",
       "38607                                                                                                                                                                                                            \n",
       "37362                                                                                                                                                                                                            \n",
       "\n",
       "       ...                      申请人地址 申请人省市代码 申请人类型               申请号  \\\n",
       "38593  ...             浙江省开化县城关镇芹南路6号  浙江; 33    企业  CN201210367549.5   \n",
       "39417  ...  浙江省宁波市经济技术开发区新碶街道恒山路1528号  浙江; 33    企业  CN201210594394.9   \n",
       "39387  ...   浙江省杭州市萧山区临江工业园区农二场房屋206号  浙江; 33    企业  CN201210586581.2   \n",
       "38607  ...              浙江省台州市临海市城东闸头  浙江; 33    企业  CN201210366802.5   \n",
       "37362  ...          浙江省杭州市滨江区江陵路1760号  浙江; 33    企业  CN201110454410.X   \n",
       "\n",
       "                       申请日                                        简单同族 简单同族个数  \\\n",
       "38593  2012-09-27 00:00:00  WO2014048051A1; CN102904709B; CN102904709A      3   \n",
       "39417  2012-12-31 00:00:00                  CN103575557A; CN103575557B      2   \n",
       "39387  2012-12-28 00:00:00                  CN103010150B; CN103010150A      2   \n",
       "38607  2012-09-28 00:00:00                  CN102952962B; CN102952962A      2   \n",
       "37362  2011-12-30 00:00:00                  CN102556044B; CN102556044A      2   \n",
       "\n",
       "      被引证专利 被引证国别(forward) 被引证次数                   链接到incoPat  \\\n",
       "38593                          0  到incoPat中查看\\r\\nCN102904709B   \n",
       "39417                          0  到incoPat中查看\\r\\nCN103575557B   \n",
       "39387                          0  到incoPat中查看\\r\\nCN103010150B   \n",
       "38607                          0  到incoPat中查看\\r\\nCN102952962B   \n",
       "37362                          0  到incoPat中查看\\r\\nCN102556044B   \n",
       "\n",
       "                      申请人                name                    address 完整地址  \\\n",
       "38593              国家电网公司              国家电网公司             浙江省开化县城关镇芹南路6号    1   \n",
       "39417          浙江吉利汽车有限公司          浙江吉利汽车有限公司  浙江省宁波市经济技术开发区新碶街道恒山路1528号    1   \n",
       "39387  浙江吉利汽车研究院有限公司杭州分公司  浙江吉利汽车研究院有限公司杭州分公司   浙江省杭州市萧山区临江工业园区农二场房屋206号    0   \n",
       "38607       浙江吉利汽车研究院有限公司       浙江吉利汽车研究院有限公司              浙江省台州市临海市城东闸头    0   \n",
       "37362        浙江吉利控股集团有限公司        浙江吉利控股集团有限公司          浙江省杭州市滨江区江陵路1760号    1   \n",
       "\n",
       "           lat      lnt          杭州          寧波          紹興          溫州 早期園區  \\\n",
       "38593  27.9767  119.634  253.682747  289.054191  241.487938  107.496882    0   \n",
       "39417  29.9011  121.863  162.798780   20.945376  121.279383  241.488618    0   \n",
       "39387  30.2286  120.375   15.824392  128.143295   35.713239  253.215544    0   \n",
       "38607  28.8656  121.157  174.780841  123.313854  134.404695  108.350015    0   \n",
       "37362  30.2075  120.218    0.609586  142.073337   45.426066  253.431039    1   \n",
       "\n",
       "       近期園區   專利數    name_clean  \n",
       "38593     0  1007          国家电网  \n",
       "39417     0  1304        浙江吉利汽车  \n",
       "39387     0  2152  浙江吉利汽车研究院杭州分  \n",
       "38607     0  5987     浙江吉利汽车研究院  \n",
       "37362     0  8883          浙江吉利  \n",
       "\n",
       "[5 rows x 58 columns]"
      ]
     },
     "execution_count": 4,
     "metadata": {},
     "output_type": "execute_result"
    }
   ],
   "source": [
    "not_merge[not_merge['專利數']>=1000].sort_values('專利數')"
   ]
  },
  {
   "cell_type": "code",
   "execution_count": 6,
   "metadata": {},
   "outputs": [
    {
     "data": {
      "text/plain": [
       "Text(0.5, 0, '專利數量')"
      ]
     },
     "execution_count": 6,
     "metadata": {},
     "output_type": "execute_result"
    },
    {
     "data": {
      "image/png": "[encoded data removed]",
      "text/plain": [
       "<Figure size 432x288 with 1 Axes>"
      ]
     },
     "metadata": {
      "needs_background": "light"
     },
     "output_type": "display_data"
    }
   ],
   "source": [
    "from matplotlib.font_manager import FontProperties\n",
    "myfont = FontProperties(fname=r'C:\\Windows\\Fonts\\msjhbd.ttc')\n",
    "fig = plt.figure()\n",
    "ax1 = fig.add_subplot(111)\n",
    "ax1.plot(not_merge.groupby('專利數')['IPC'].count().index,not_merge.groupby('專利數')['IPC'].count())\n",
    "ax1.set_title('浙江',fontproperties=myfont,fontsize=15)\n",
    "ax1.set_xlim([0,100])\n",
    "ax1.set_ylabel('廠商數量',fontproperties=myfont)\n",
    "ax1.set_xlabel('專利數量',fontproperties=myfont)"
   ]
  },
  {
   "cell_type": "code",
   "execution_count": 7,
   "metadata": {},
   "outputs": [],
   "source": [
    "cleaned.to_excel(r'E:\\paper\\名稱merge\\浙江_結果.xlsx')"
   ]
  },
  {
   "cell_type": "code",
   "execution_count": 9,
   "metadata": {},
   "outputs": [
    {
     "data": {
      "text/plain": [
       "<matplotlib.legend.Legend at 0x2e2d52959c8>"
      ]
     },
     "execution_count": 9,
     "metadata": {},
     "output_type": "execute_result"
    },
    {
     "data": {
      "image/png": "[encoded data removed]",
      "text/plain": [
       "<Figure size 360x360 with 1 Axes>"
      ]
     },
     "metadata": {
      "needs_background": "light"
     },
     "output_type": "display_data"
    }
   ],
   "source": [
    "from matplotlib.font_manager import FontProperties\n",
    "myfont = FontProperties(fname=r'C:\\Windows\\Fonts\\msjhbd.ttc')\n",
    "fig = plt.figure(figsize = (5,5))\n",
    "ax1 = fig.add_subplot(111)\n",
    "ax1.set_ylabel('Patent Counts')\n",
    "bar1 = ax1.bar(1,merge_df[merge_df['早期園區']==1]['專利數'].sum(),alpha=0.7,width=0.35,color='r',label='早期園區')\n",
    "bar2 = ax1.bar(1+0.35,merge_df[merge_df['近期園區']==1]['專利數'].sum(),alpha=0.7,width=0.35,color='b',label='近期園區')\n",
    "bar3 = ax1.bar(1+0.7,merge_df[(merge_df['近期園區']==0)&(merge_df['早期園區']==0)]['專利數'].sum(),alpha=0.7,width=0.35,color='k',label='園區外')\n",
    "\n",
    "plt.text(1, merge_df[merge_df['早期園區']==1]['專利數'].sum(), '%.0f' % merge_df[merge_df['早期園區']==1]['專利數'].sum(), ha='center', va= 'bottom',fontsize=12)  \n",
    "plt.text(1.35, merge_df[merge_df['近期園區']==1]['專利數'].sum(), '%.0f' % merge_df[merge_df['近期園區']==1]['專利數'].sum(), ha='center', va= 'bottom',fontsize=12)  \n",
    "plt.text(1.7, merge_df[(merge_df['近期園區']==0)&(merge_df['早期園區']==0)]['專利數'].sum(), '%.0f' % merge_df[(merge_df['近期園區']==0)&(merge_df['早期園區']==0)]['專利數'].sum(), ha='center', va= 'bottom',fontsize=12)  \n",
    "\n",
    "plt.title('浙江',fontproperties=myfont,fontsize=20)\n",
    "plt.xticks([0.75,1,2],['','',''],fontproperties=myfont)\n",
    "plt.legend(handles = [bar1,bar2,bar3], loc='upper left',prop=myfont)"
   ]
  },
  {
   "cell_type": "code",
   "execution_count": 10,
   "metadata": {},
   "outputs": [
    {
     "data": {
      "text/plain": [
       "<matplotlib.legend.Legend at 0x2e2d974be88>"
      ]
     },
     "execution_count": 10,
     "metadata": {},
     "output_type": "execute_result"
    },
    {
     "data": {
      "image/png": "[encoded data removed]",
      "text/plain": [
       "<Figure size 360x360 with 1 Axes>"
      ]
     },
     "metadata": {
      "needs_background": "light"
     },
     "output_type": "display_data"
    }
   ],
   "source": [
    "fig = plt.figure(figsize = (5,5))\n",
    "ax1 = fig.add_subplot(111)\n",
    "ax1.set_ylabel('Patent Counts/Firms ')\n",
    "bar1 = ax1.bar(1,merge_df[merge_df['早期園區']==1]['專利數'].sum()/merge_df[merge_df['早期園區']==1]['專利數'].count(),alpha=0.7,width=0.35,color='r',label='早期園區')\n",
    "bar2 = ax1.bar(1+0.35,merge_df[merge_df['近期園區']==1]['專利數'].sum()/merge_df[merge_df['近期園區']==1]['專利數'].count(),alpha=0.7,width=0.35,color='b',label='近期園區')\n",
    "bar3 = ax1.bar(1+0.7,merge_df[(merge_df['近期園區']==0)&(merge_df['早期園區']==0)]['專利數'].sum()/merge_df[(merge_df['近期園區']==0)&(merge_df['早期園區']==0)]['專利數'].count(),alpha=0.7,width=0.35,color='k',label='園區外')\n",
    "\n",
    "plt.text(1, (merge_df[merge_df['早期園區']==1]['專利數'].sum()/merge_df[merge_df['早期園區']==1]['專利數'].count()), '%.2f' % (merge_df[merge_df['早期園區']==1]['專利數'].sum()/merge_df[merge_df['早期園區']==1]['專利數'].count()), ha='center', va= 'bottom',fontsize=12)  \n",
    "plt.text(1.35, (merge_df[merge_df['近期園區']==1]['專利數'].sum()/merge_df[merge_df['近期園區']==1]['專利數'].count()), '%.2f' % (merge_df[merge_df['近期園區']==1]['專利數'].sum()/merge_df[merge_df['近期園區']==1]['專利數'].count()), ha='center', va= 'bottom',fontsize=12)  \n",
    "plt.text(1.7, (merge_df[(merge_df['近期園區']==0)&(merge_df['早期園區']==0)]['專利數'].sum()/merge_df[(merge_df['近期園區']==0)&(merge_df['早期園區']==0)]['專利數'].count()), '%.2f' % (merge_df[(merge_df['近期園區']==0)&(merge_df['早期園區']==0)]['專利數'].sum()/merge_df[(merge_df['近期園區']==0)&(merge_df['早期園區']==0)]['專利數'].count()), ha='center', va= 'bottom',fontsize=12)  \n",
    "\n",
    "plt.title('浙江',fontproperties=myfont,fontsize=20)\n",
    "plt.xticks([0.75,1,2],['','',''],fontproperties=myfont)\n",
    "plt.legend(handles = [bar1,bar2,bar3], loc='upper right',prop=myfont)"
   ]
  },
  {
   "cell_type": "code",
   "execution_count": null,
   "metadata": {},
   "outputs": [],
   "source": []
  }
 ],
 "metadata": {
  "kernelspec": {
   "display_name": "Python 3",
   "language": "python",
   "name": "python3"
  },
  "language_info": {
   "codemirror_mode": {
    "name": "ipython",
    "version": 3
   },
   "file_extension": ".py",
   "mimetype": "text/x-python",
   "name": "python",
   "nbconvert_exporter": "python",
   "pygments_lexer": "ipython3",
   "version": "3.7.4"
  }
 },
 "nbformat": 4,
 "nbformat_minor": 2
}
