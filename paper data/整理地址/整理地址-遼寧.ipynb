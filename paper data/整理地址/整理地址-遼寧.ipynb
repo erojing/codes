{
 "cells": [
  {
   "cell_type": "code",
   "execution_count": 1,
   "metadata": {},
   "outputs": [],
   "source": [
    "import pandas as pd\n",
    "import numpy as np\n",
    "import matplotlib.pyplot as plt\n",
    "import re\n",
    "import time\n",
    "import datetime\n",
    "import geocoder\n",
    "pd.set_option('display.max_rows',500)\n",
    "pd.set_option('display.max_columns',50)\n",
    "pd.set_option('max_colwidth',200)\n",
    "%matplotlib inline\n",
    "import requests\n",
    "import json\n",
    "import urllib\n",
    "from urllib.request import urlopen\n",
    "\n",
    "def getGeoForAddress(address):\n",
    "    add = urllib.parse.quote(address)\n",
    "    addressUrl = \"https://maps.googleapis.com/maps/api/geocode/json?address=\" + add + '&key='\n",
    "    res = requests.get(addressUrl)\n",
    "    js = json.loads(res.text)\n",
    "    if js.get('results'):\n",
    "        lat = js.get('results')[0]['geometry']['location']['lat']\n",
    "        lng = js.get('results')[0]['geometry']['location']['lng']\n",
    "    else:\n",
    "        lat = ''\n",
    "        lng = ''\n",
    "    return [lat, lng]\n",
    "def ngram(text, n=3, pad=True):\n",
    "    text = text.strip()\n",
    "    if pad:\n",
    "        text = \" %s \" % text\n",
    "    return set([text[i:i+n] for i in range(len(text)-n+1)])\n",
    "    \n",
    "def create_ngram(text1, text2, n=3, pad=True):\n",
    "    return ngram(text1, n=n, pad=pad), ngram(text2, n=n, pad=pad)\n",
    "\n",
    "def tversky_index(text1, text2, a=None, b=None, q=3, pad=True):\n",
    "    text1, text2 = create_ngram(text1, text2, n=q, pad=pad)\n",
    "    agree_tot = len(text1.intersection(text2))\n",
    "    v1 = len(text1) - agree_tot\n",
    "    v2 = len(text2) - agree_tot\n",
    "    \n",
    "    if a != None and b != None:\n",
    "        a = a/float(a+b)\n",
    "        b = b/float(a+b)\n",
    "    elif a <= 1.0 and a >= 0.0:\n",
    "        b = 1-a\n",
    "    elif b <= 1.0 and b >= 0.0:\n",
    "        a = 1-b\n",
    "    else:\n",
    "        a = 0.5\n",
    "        b = 0.5        \n",
    "    return float(agree_tot)/(agree_tot+a*v1+b*v2)\n",
    "# incoPat為申請人list\n",
    "def fuzzy(incoPat,indus):\n",
    "    corptype = ['有限','公司','责任','集团','股份','控股']\n",
    "    text1 = incoPat\n",
    "    text2 = indus\n",
    "    incoPat_nor = []   \n",
    "    for text in text1:\n",
    "        for i in corptype:\n",
    "            if i in text:\n",
    "                text = re.sub(i,'',text)\n",
    "        incoPat_nor.append(text)\n",
    "    for i in corptype:\n",
    "        if i in text2:\n",
    "            text2 = re.sub(i,'',text2)\n",
    "    similar = []\n",
    "    for text in incoPat_nor:\n",
    "        dice = tversky_index(text,text2, a=0.5, q=min(2,len(text),len(text2)), pad=False)\n",
    "        if dice>0.7:\n",
    "            similar.append([incoPat[incoPat_nor.index(text)],dice])\n",
    "        else:\n",
    "            pass\n",
    "    if len(similar)>0:\n",
    "        return similar[[k[1] for k in similar].index(max([i[1] for i in similar]))][0]\n",
    "    else:\n",
    "        return indus\n",
    "city_code = pd.read_excel('C:/Users/user/Dropbox/paper/科技園區/China/省地縣碼對照.xls')\n",
    "city_code = city_code[~city_code['代碼'].isnull()].drop(['标注','说明'],axis=1)\n",
    "city_code['代碼_str'] = city_code['代碼'].apply(lambda x:str(int(x)))\n",
    "city_code = city_code.drop('代碼',axis=1)"
   ]
  },
  {
   "cell_type": "markdown",
   "metadata": {},
   "source": [
    "# 遼寧資料整合"
   ]
  },
  {
   "cell_type": "code",
   "execution_count": 2,
   "metadata": {},
   "outputs": [],
   "source": [
    "df1 = pd.read_excel(r'E:\\paper\\專利資料-新型&授權\\新型授權-遼寧1.xls')\n",
    "df2 = pd.read_excel(r'E:\\paper\\專利資料-新型&授權\\新型授權-遼寧2.xls')\n",
    "df3 = pd.read_excel(r'E:\\paper\\專利資料-新型&授權\\新型授權-遼寧3.xls')\n",
    "df4 = pd.read_excel(r'E:\\paper\\專利資料-新型&授權\\新型授權-遼寧4.xls')\n",
    "patent_df = pd.concat([df1,df2,df3,df4],ignore_index=True,sort=True)"
   ]
  },
  {
   "cell_type": "code",
   "execution_count": 3,
   "metadata": {},
   "outputs": [
    {
     "data": {
      "text/plain": [
       "(201281, 38)"
      ]
     },
     "execution_count": 3,
     "metadata": {},
     "output_type": "execute_result"
    }
   ],
   "source": [
    "patent_df.shape"
   ]
  },
  {
   "cell_type": "code",
   "execution_count": 4,
   "metadata": {},
   "outputs": [],
   "source": [
    "patent_df['申请人地址'].fillna('',inplace=True)\n",
    "patent_df = patent_df[patent_df['申请人地址']!='']"
   ]
  },
  {
   "cell_type": "code",
   "execution_count": 5,
   "metadata": {},
   "outputs": [
    {
     "data": {
      "text/plain": [
       "(201281, 38)"
      ]
     },
     "execution_count": 5,
     "metadata": {},
     "output_type": "execute_result"
    }
   ],
   "source": [
    "patent_df.shape"
   ]
  },
  {
   "cell_type": "code",
   "execution_count": 3,
   "metadata": {},
   "outputs": [
    {
     "name": "stderr",
     "output_type": "stream",
     "text": [
      "D:\\Anaconda\\lib\\site-packages\\IPython\\core\\interactiveshell.py:3058: DtypeWarning: Columns (0,3,16) have mixed types. Specify dtype option on import or set low_memory=False.\n",
      "  interactivity=interactivity, compiler=compiler, result=result)\n"
     ]
    }
   ],
   "source": [
    "#for PC\n",
    "patent_df = patent_df[patent_df['专利类型']=='发明授权']\n",
    "patent_df = patent_df[patent_df['申请人地址'].map(lambda x:len(re.findall(r'\\D+[\\s\\S]+',x)))==1]\n",
    "patent_df['申请人地址'] = patent_df['申请人地址'].map(lambda x:re.findall(r'\\D+[\\s\\S]+',x)[0])\n",
    "patent_df['申请人地址'] = patent_df['申请人地址'].map(lambda x:re.sub(r\"\\s+\", \"\",x))\n",
    "patent_df_firm = patent_df[patent_df['申请人类型'].str.contains('企业')]\n",
    "applicant = patent_df_firm['申请人'].str.split(';',expand=True).stack().reset_index(level=1,drop=True).rename('申请人2')\n",
    "patent_df_firm = patent_df_firm.join(applicant)\n",
    "patent_df_firm['類別'] = patent_df_firm['申请人类型'].map(lambda x:x.strip().split('  '))\n",
    "patent_df_firm = patent_df_firm[~patent_df_firm['标题'].duplicated()]\n",
    "patent_df_firm['申请人类型'] = patent_df_firm.apply(lambda x:x['類別'][0],axis=1)\n",
    "patent_df_firm = patent_df_firm[patent_df_firm['申请人类型']=='企业'].sort_values('申请日')\n",
    "patent_df_firm.drop(['類別','申请人'],axis=1,inplace=True)\n",
    "patent_df_firm.rename(columns={'申请人2':'申请人'},inplace=True)\n",
    "patent_df_firm = patent_df_firm[patent_df_firm['申请日']<datetime.datetime.strptime('2013-01-01','%Y-%m-%d')]\n",
    "patent_df_firm.drop_duplicates('申请人地址', keep='last', inplace=True)\n",
    "patent_df_firm.drop_duplicates('申请人', keep='last', inplace=True)\n",
    "\n",
    "firm_df = pd.read_csv(r'E:\\paper\\Firm csv\\firm_data_2012.csv')\n",
    "firm_gd = firm_df[firm_df['區域代碼'].astype(str).str.contains(r'21\\d{10}')==True]\n",
    "firm_gd = firm_gd.loc[:,['法人代碼','企業名稱','地址','區域代碼','行業代碼']]\n",
    "firm_gd['區域代碼_str'] = firm_gd['區域代碼'].astype(str).map(lambda x:x[0:6])\n",
    "firm_gd = pd.merge(firm_gd,city_code,left_on='區域代碼_str',right_on='代碼_str',how='left')\n",
    "firm_gd['名稱'].fillna('',inplace=True)\n",
    "firm_gd['市級'].fillna('',inplace=True)\n",
    "firm_gd['省份'].fillna('',inplace=True)\n",
    "firm_gd['地址'].fillna('',inplace=True)\n",
    "firm_gd['地址'] = firm_gd['地址'].map(lambda x:re.sub(r\"\\s+\", \"\",x))\n",
    "firm_gd['地址'] = firm_gd.apply(lambda x:re.sub(x['省份'],\"\",x['地址']),axis=1)\n",
    "firm_gd['地址'] = firm_gd.apply(lambda x:re.sub(x['市級'],\"\",x['地址']),axis=1)\n",
    "firm_gd['地址'] = firm_gd.apply(lambda x:re.sub(x['名稱'],\"\",x['地址']),axis=1)\n",
    "firm_gd['地址'] = firm_gd['省份']+firm_gd['市級']+firm_gd['名稱']+firm_gd['地址']\n",
    "firm_gd.drop(['省份','市級','名稱','代碼_str'],axis=1,inplace=True)\n",
    "firm_gd.dropna(subset=['企業名稱'],inplace=True)"
   ]
  },
  {
   "cell_type": "code",
   "execution_count": 7,
   "metadata": {},
   "outputs": [],
   "source": [
    "patent_df_firm = patent_df_firm[patent_df_firm['申请日']>datetime.datetime.strptime('2007-12-31','%Y-%m-%d')]\n",
    "incoPat = list(patent_df_firm['申请人'])"
   ]
  },
  {
   "cell_type": "code",
   "execution_count": 8,
   "metadata": {},
   "outputs": [
    {
     "data": {
      "text/plain": [
       "(6001, 38)"
      ]
     },
     "execution_count": 8,
     "metadata": {},
     "output_type": "execute_result"
    }
   ],
   "source": [
    "patent_df_firm.shape"
   ]
  },
  {
   "cell_type": "code",
   "execution_count": 9,
   "metadata": {},
   "outputs": [
    {
     "data": {
      "text/plain": [
       "(16038, 6)"
      ]
     },
     "execution_count": 9,
     "metadata": {},
     "output_type": "execute_result"
    }
   ],
   "source": [
    "firm_gd.shape"
   ]
  },
  {
   "cell_type": "code",
   "execution_count": 10,
   "metadata": {},
   "outputs": [],
   "source": [
    "firm_gd['name_模糊比對'] = firm_gd['企業名稱'].map(lambda x:fuzzy(incoPat,x))"
   ]
  },
  {
   "cell_type": "code",
   "execution_count": 11,
   "metadata": {},
   "outputs": [],
   "source": [
    "firm_gd.to_excel(r'E:\\paper\\清理結果-新型&授權\\遼寧_廠商.xlsx')"
   ]
  },
  {
   "cell_type": "markdown",
   "metadata": {},
   "source": [
    "# 非模糊比對"
   ]
  },
  {
   "cell_type": "code",
   "execution_count": 12,
   "metadata": {},
   "outputs": [
    {
     "name": "stdout",
     "output_type": "stream",
     "text": [
      "(1663, 45)\n",
      "(20376, 45)\n"
     ]
    }
   ],
   "source": [
    "merge_df = firm_gd.merge(patent_df_firm,left_on='企業名稱',right_on='申请人',how='outer')\n",
    "merge_df.fillna('',inplace=True)\n",
    "print(merge_df[(merge_df['企業名稱']!='')&(merge_df['申请人']!='')].shape)\n",
    "print(merge_df.shape)"
   ]
  },
  {
   "cell_type": "code",
   "execution_count": 13,
   "metadata": {
    "collapsed": true
   },
   "outputs": [
    {
     "name": "stdout",
     "output_type": "stream",
     "text": [
      "(6498, 50)\n",
      "(14335, 50)\n"
     ]
    },
    {
     "name": "stderr",
     "output_type": "stream",
     "text": [
      "D:\\Anaconda\\lib\\site-packages\\pandas\\core\\strings.py:1843: UserWarning: This pattern has match groups. To actually get the groups, use str.extract.\n",
      "  return func(self, *args, **kwargs)\n",
      "D:\\Anaconda\\lib\\site-packages\\ipykernel_launcher.py:4: SettingWithCopyWarning: \n",
      "A value is trying to be set on a copy of a slice from a DataFrame.\n",
      "Try using .loc[row_indexer,col_indexer] = value instead\n",
      "\n",
      "See the caveats in the documentation: http://pandas.pydata.org/pandas-docs/stable/user_guide/indexing.html#returning-a-view-versus-a-copy\n",
      "  after removing the cwd from sys.path.\n",
      "D:\\Anaconda\\lib\\site-packages\\ipykernel_launcher.py:5: SettingWithCopyWarning: \n",
      "A value is trying to be set on a copy of a slice from a DataFrame.\n",
      "Try using .loc[row_indexer,col_indexer] = value instead\n",
      "\n",
      "See the caveats in the documentation: http://pandas.pydata.org/pandas-docs/stable/user_guide/indexing.html#returning-a-view-versus-a-copy\n",
      "  \"\"\"\n",
      "D:\\Anaconda\\lib\\site-packages\\pandas\\core\\indexing.py:376: SettingWithCopyWarning: \n",
      "A value is trying to be set on a copy of a slice from a DataFrame.\n",
      "Try using .loc[row_indexer,col_indexer] = value instead\n",
      "\n",
      "See the caveats in the documentation: http://pandas.pydata.org/pandas-docs/stable/user_guide/indexing.html#returning-a-view-versus-a-copy\n",
      "  self.obj[key] = _infer_fill_value(value)\n",
      "D:\\Anaconda\\lib\\site-packages\\pandas\\core\\indexing.py:494: SettingWithCopyWarning: \n",
      "A value is trying to be set on a copy of a slice from a DataFrame.\n",
      "Try using .loc[row_indexer,col_indexer] = value instead\n",
      "\n",
      "See the caveats in the documentation: http://pandas.pydata.org/pandas-docs/stable/user_guide/indexing.html#returning-a-view-versus-a-copy\n",
      "  self.obj[item] = s\n"
     ]
    }
   ],
   "source": [
    "merge_df['name'] = merge_df.apply(lambda x:x['申请人'] if x['申请人']!='' else x['企業名稱'],axis=1)\n",
    "merge_df['address'] = merge_df.apply(lambda x:x['申请人地址'] if x['申请人地址']!='' else x['地址'],axis=1)\n",
    "merge_df_clean = merge_df[merge_df['address'].str.contains(r'\\w+(街|道|路|巷|村|小区|园区|社区)')]\n",
    "merge_df_clean['address'] = merge_df_clean['address'].map(lambda x: x+'号' if ((x[-1].isdigit()) and (re.match(r'\\w+[街道路巷]',x))) else x)\n",
    "merge_df_clean['完整地址'] = merge_df_clean['address'].map(lambda x:1 if re.compile(r'\\w+[街道路巷]\\S+号').search(x) else 0)\n",
    "merge_df_clean.loc[:,'lat'] = 0\n",
    "merge_df_clean.loc[:,'lnt'] = 0\n",
    "print(merge_df_clean[merge_df_clean['完整地址']==1].shape)\n",
    "print(merge_df_clean.shape)"
   ]
  },
  {
   "cell_type": "code",
   "execution_count": 14,
   "metadata": {},
   "outputs": [],
   "source": [
    "merge_df_clean.to_excel(r'E:\\paper\\清理結果-新型&授權\\遼寧_結果.xlsx')"
   ]
  },
  {
   "cell_type": "markdown",
   "metadata": {},
   "source": [
    "# merge舊資料"
   ]
  },
  {
   "cell_type": "code",
   "execution_count": 4,
   "metadata": {},
   "outputs": [
    {
     "name": "stdout",
     "output_type": "stream",
     "text": [
      "(797, 44)\n",
      "(17872, 44)\n",
      "(4651, 49)\n",
      "(17872, 49)\n"
     ]
    }
   ],
   "source": [
    "merge_df = firm_gd.merge(patent_df_firm,left_on='企業名稱',right_on='申请人',how='outer')\n",
    "merge_df.fillna('',inplace=True)\n",
    "print(merge_df[(merge_df['企業名稱']!='')&(merge_df['申请人']!='')].shape)\n",
    "print(merge_df.shape)\n",
    "merge_df['name'] = merge_df.apply(lambda x:x['申请人'] if x['申请人']!='' else x['企業名稱'],axis=1)\n",
    "merge_df['address'] = merge_df.apply(lambda x:x['申请人地址'] if x['申请人地址']!='' else x['地址'],axis=1)\n",
    "merge_df = merge_df[merge_df['address']!='']\n",
    "merge_df_clean = merge_df\n",
    "merge_df_clean['address'] = merge_df_clean['address'].map(lambda x: x+'号' if ((x[-1].isdigit()) and (re.match(r'\\w+[街道路巷]',x))) else x)\n",
    "merge_df_clean['完整地址'] = merge_df_clean['address'].map(lambda x:1 if re.compile(r'\\w+[街道路巷]\\S+号').search(x) else 0)\n",
    "merge_df_clean.loc[:,'lat'] = 0\n",
    "merge_df_clean.loc[:,'lnt'] = 0\n",
    "print(merge_df_clean[merge_df_clean['完整地址']==1].shape)\n",
    "print(merge_df_clean.shape)"
   ]
  },
  {
   "cell_type": "code",
   "execution_count": 5,
   "metadata": {},
   "outputs": [
    {
     "data": {
      "text/plain": [
       "Index(['Unnamed: 0', '法人代碼', '企業名稱', '地址', '區域代碼', '行業代碼', '區域代碼_str',\n",
       "       'name_模糊比對', 'CPC', 'IPC', 'inpadoc同族', 'inpadoc同族个数', '专利寿命（月）',\n",
       "       '专利类型', '中国申请人区县', '中国申请人地市', '优先权信息', '公开国别', '公开（公告）号', '公开（公告）日',\n",
       "       '发明人', '合享价值度', '同族国家', '失效日', '序号', '引证专利', '引证科技文献', '扩展同族', '扩展同族个数',\n",
       "       '文献页数', '权利要求数量', '标准化申请人', '标题', '申请人', '申请人国别代码', '申请人地址', '申请人省市代码',\n",
       "       '申请人类型', '申请号', '申请日', '简单同族', '简单同族个数', '被引证专利', '被引证国别(forward)',\n",
       "       '被引证次数', '链接到incoPat', 'name', 'address', '完整地址', 'lat', 'lnt', '沈陽',\n",
       "       '大連', '鞍山', '營口', '遼陽', '本溪', '專利數', '早期園區', '近期園區'],\n",
       "      dtype='object')"
      ]
     },
     "execution_count": 5,
     "metadata": {},
     "output_type": "execute_result"
    }
   ],
   "source": [
    "done_data = pd.read_excel(r'E:\\paper\\清理結果-園區內外\\遼寧_結果.xlsx')\n",
    "done_data.columns"
   ]
  },
  {
   "cell_type": "code",
   "execution_count": 6,
   "metadata": {},
   "outputs": [
    {
     "data": {
      "text/plain": [
       "(6468, 58)"
      ]
     },
     "execution_count": 6,
     "metadata": {},
     "output_type": "execute_result"
    }
   ],
   "source": [
    "merge_df_clean.drop(['lat','lnt'],axis=1,inplace=True)\n",
    "merge_df_clean = merge_df_clean.merge(done_data[['name','lat','lnt','沈陽','大連','鞍山','營口','遼陽','本溪','專利數','早期園區','近期園區']],left_on='name',right_on='name',how='left')\n",
    "merge_df_clean['lat'].fillna('',inplace=True)\n",
    "merge_df_clean[merge_df_clean['lat']==''].shape"
   ]
  },
  {
   "cell_type": "code",
   "execution_count": 7,
   "metadata": {},
   "outputs": [],
   "source": [
    "merge_df_clean.to_excel(r'E:\\paper\\清理結果-新\\遼寧_結果.xlsx')"
   ]
  },
  {
   "cell_type": "markdown",
   "metadata": {},
   "source": [
    "# 模糊比對"
   ]
  },
  {
   "cell_type": "code",
   "execution_count": 15,
   "metadata": {},
   "outputs": [
    {
     "name": "stdout",
     "output_type": "stream",
     "text": [
      "(1881, 45)\n",
      "(20035, 45)\n"
     ]
    }
   ],
   "source": [
    "merge_df_fuzzy = firm_gd.merge(patent_df_firm,left_on='name_模糊比對',right_on='申请人',how='outer')\n",
    "merge_df_fuzzy.fillna('',inplace=True)\n",
    "merge_df_fuzzy.drop_duplicates(['name_模糊比對','申请人'], keep='last', inplace=True)\n",
    "print(merge_df_fuzzy[(merge_df_fuzzy['申请人']!='')&(merge_df_fuzzy['企業名稱']!='')].shape)\n",
    "print(merge_df_fuzzy.shape)"
   ]
  },
  {
   "cell_type": "code",
   "execution_count": 16,
   "metadata": {},
   "outputs": [
    {
     "name": "stdout",
     "output_type": "stream",
     "text": [
      "(6381, 50)\n",
      "(14094, 50)\n"
     ]
    },
    {
     "name": "stderr",
     "output_type": "stream",
     "text": [
      "D:\\Anaconda\\lib\\site-packages\\ipykernel_launcher.py:4: SettingWithCopyWarning: \n",
      "A value is trying to be set on a copy of a slice from a DataFrame.\n",
      "Try using .loc[row_indexer,col_indexer] = value instead\n",
      "\n",
      "See the caveats in the documentation: http://pandas.pydata.org/pandas-docs/stable/user_guide/indexing.html#returning-a-view-versus-a-copy\n",
      "  after removing the cwd from sys.path.\n",
      "D:\\Anaconda\\lib\\site-packages\\ipykernel_launcher.py:5: SettingWithCopyWarning: \n",
      "A value is trying to be set on a copy of a slice from a DataFrame.\n",
      "Try using .loc[row_indexer,col_indexer] = value instead\n",
      "\n",
      "See the caveats in the documentation: http://pandas.pydata.org/pandas-docs/stable/user_guide/indexing.html#returning-a-view-versus-a-copy\n",
      "  \"\"\"\n"
     ]
    }
   ],
   "source": [
    "merge_df_fuzzy['name'] = merge_df_fuzzy.apply(lambda x:x['申请人'] if x['申请人']!='' else x['企業名稱'],axis=1)\n",
    "merge_df_fuzzy['address'] = merge_df_fuzzy.apply(lambda x:x['申请人地址'] if x['申请人地址']!='' else x['地址'],axis=1)\n",
    "merge_df_fuzzy_clean = merge_df_fuzzy[merge_df_fuzzy['address'].str.contains(r'\\w+(街|道|路|巷|村|小区|园区|社区)')]\n",
    "merge_df_fuzzy_clean['address'] = merge_df_fuzzy_clean['address'].map(lambda x: x+'号' if ((x[-1].isdigit()) and (re.match(r'\\w+[街道路巷]',x))) else x)\n",
    "merge_df_fuzzy_clean['完整地址'] = merge_df_fuzzy_clean['address'].map(lambda x:1 if re.compile(r'\\w+[街道路巷]\\S+号').search(x) else 0)\n",
    "merge_df_fuzzy_clean.loc[:,'lat'] = 0\n",
    "merge_df_fuzzy_clean.loc[:,'lnt'] = 0\n",
    "print(merge_df_fuzzy_clean[merge_df_fuzzy_clean['完整地址']==1].shape)\n",
    "print(merge_df_fuzzy_clean.shape)"
   ]
  },
  {
   "cell_type": "code",
   "execution_count": 17,
   "metadata": {},
   "outputs": [],
   "source": [
    "merge_df_fuzzy_clean.to_excel(r'E:\\paper\\清理結果-新型&授權\\遼寧_模糊結果.xlsx')"
   ]
  },
  {
   "cell_type": "markdown",
   "metadata": {},
   "source": [
    "# 定位"
   ]
  },
  {
   "cell_type": "code",
   "execution_count": 6,
   "metadata": {},
   "outputs": [],
   "source": [
    "merge_df_clean = pd.read_excel(r'E:\\paper\\清理結果-新型&授權\\遼寧_結果.xlsx',index_col=0)"
   ]
  },
  {
   "cell_type": "code",
   "execution_count": 3,
   "metadata": {},
   "outputs": [
    {
     "data": {
      "text/plain": [
       "(6468, 58)"
      ]
     },
     "execution_count": 3,
     "metadata": {},
     "output_type": "execute_result"
    }
   ],
   "source": [
    "merge_df_clean = pd.read_excel(r'E:\\paper\\清理結果-新\\遼寧_結果.xlsx',index_col=0)\n",
    "merge_df_clean.fillna('',inplace=True)\n",
    "merge_df_clean[merge_df_clean['lat']==''].shape"
   ]
  },
  {
   "cell_type": "code",
   "execution_count": 4,
   "metadata": {
    "scrolled": true
   },
   "outputs": [],
   "source": [
    "for i in merge_df_clean[merge_df_clean['lat']==''].index:\n",
    "    address = merge_df_clean.loc[i,'address']\n",
    "    g = getGeoForAddress(address)\n",
    "    merge_df_clean.loc[i,'lat'] = g[0]\n",
    "    merge_df_clean.loc[i,'lnt'] = g[1]"
   ]
  },
  {
   "cell_type": "code",
   "execution_count": 5,
   "metadata": {},
   "outputs": [
    {
     "name": "stdout",
     "output_type": "stream",
     "text": [
      "(17872, 58)\n",
      "(152, 58)\n"
     ]
    }
   ],
   "source": [
    "print(merge_df_clean.shape)\n",
    "print(merge_df_clean[merge_df_clean['lat']==''].shape)"
   ]
  },
  {
   "cell_type": "code",
   "execution_count": 6,
   "metadata": {},
   "outputs": [],
   "source": [
    "merge_df_clean.to_excel(r'E:\\paper\\清理結果-新\\遼寧_結果.xlsx')"
   ]
  },
  {
   "cell_type": "markdown",
   "metadata": {},
   "source": [
    "# 作圖"
   ]
  },
  {
   "cell_type": "code",
   "execution_count": 7,
   "metadata": {},
   "outputs": [],
   "source": [
    "from geopy.distance import geodesic\n",
    "def how_far(a,b):\n",
    "    try:\n",
    "        return geodesic(a,b).kilometers\n",
    "    except:\n",
    "        return np.nan\n",
    "applicant = patent_df['申请人'].str.split(';',expand=True).stack().reset_index(level=1,drop=True).rename('申请人2')\n",
    "applicant = applicant.map(lambda x:x.strip())\n",
    "patent_df_new = patent_df.join(applicant)\n",
    "patent_count = patent_df_new.groupby('申请人2')['标题'].count().rename('專利數')"
   ]
  },
  {
   "cell_type": "code",
   "execution_count": 8,
   "metadata": {},
   "outputs": [
    {
     "data": {
      "text/plain": [
       "申请人2\n",
       "伟                   1\n",
       "赵富增                  1\n",
       "李宏财                  1\n",
       "李宏超                  1\n",
       "李宏轮                  1\n",
       "                  ... \n",
       "中国科学院金属研究所        2213\n",
       "东北大学              2435\n",
       "中国科学院大连化学物理研究所    3356\n",
       "鞍钢股份有限公司          3446\n",
       "大连理工大学            3838\n",
       "Name: 專利數, Length: 68985, dtype: int64"
      ]
     },
     "execution_count": 8,
     "metadata": {},
     "output_type": "execute_result"
    }
   ],
   "source": [
    "patent_count.sort_values()"
   ]
  },
  {
   "cell_type": "code",
   "execution_count": 7,
   "metadata": {},
   "outputs": [],
   "source": [
    "merge_df = pd.read_excel(r'E:\\paper\\清理結果-新型&授權\\遼寧_結果.xlsx',index_col=0)\n",
    "target1 = (41.71674,123.45845)\n",
    "merge_df['沈陽'] = merge_df.apply(lambda x:how_far(target1,(x['lat'],x['lnt'])),axis=1)\n",
    "target2 = (38.86539,121.51582)\n",
    "merge_df['大連'] = merge_df.apply(lambda x:how_far(target2,(x['lat'],x['lnt'])),axis=1)\n",
    "target3 = (41.10971,123.04815)\n",
    "merge_df['鞍山'] = merge_df.apply(lambda x:how_far(target3,(x['lat'],x['lnt'])),axis=1)\n",
    "target4 = (40.65471,122.19234)\n",
    "merge_df['營口'] = merge_df.apply(lambda x:how_far(target4,(x['lat'],x['lnt'])),axis=1)\n",
    "target5 = (41.23143,123.19054)\n",
    "merge_df['遼陽'] = merge_df.apply(lambda x:how_far(target5,(x['lat'],x['lnt'])),axis=1)\n",
    "target6 = (41.47667,123.70958)\n",
    "merge_df['本溪'] = merge_df.apply(lambda x:how_far(target6,(x['lat'],x['lnt'])),axis=1)\n",
    "merge_df = merge_df.merge(patent_count,left_on='name',right_on='申请人2',how='left')\n",
    "merge_df['專利數'].fillna(0,inplace=True)"
   ]
  },
  {
   "cell_type": "code",
   "execution_count": 9,
   "metadata": {},
   "outputs": [],
   "source": [
    "merge_df = pd.read_excel(r'E:\\paper\\清理結果-新\\遼寧_結果.xlsx',index_col=0)\n",
    "merge_df.fillna('',inplace=True)\n",
    "merge_df.drop('專利數',axis=1,inplace=True)\n",
    "target1 = (41.71674,123.45845)\n",
    "target2 = (38.86539,121.51582)\n",
    "target3 = (41.10971,123.04815)\n",
    "target4 = (40.65471,122.19234)\n",
    "target5 = (41.23143,123.19054)\n",
    "target6 = (41.47667,123.70958)\n",
    "\n",
    "for i in merge_df[merge_df['沈陽']==''].index:\n",
    "    merge_df.loc[i,'沈陽'] = how_far(target1,(merge_df.loc[i,'lat'],merge_df.loc[i,'lnt']))\n",
    "    merge_df.loc[i,'大連'] = how_far(target2,(merge_df.loc[i,'lat'],merge_df.loc[i,'lnt']))\n",
    "    merge_df.loc[i,'鞍山'] = how_far(target3,(merge_df.loc[i,'lat'],merge_df.loc[i,'lnt']))\n",
    "    merge_df.loc[i,'營口'] = how_far(target4,(merge_df.loc[i,'lat'],merge_df.loc[i,'lnt']))\n",
    "    merge_df.loc[i,'遼陽'] = how_far(target5,(merge_df.loc[i,'lat'],merge_df.loc[i,'lnt']))\n",
    "    merge_df.loc[i,'本溪'] = how_far(target6,(merge_df.loc[i,'lat'],merge_df.loc[i,'lnt']))\n",
    "merge_df = merge_df.merge(patent_count,left_on='name',right_on='申请人2',how='left')\n",
    "merge_df['專利數'].fillna(0,inplace=True)"
   ]
  },
  {
   "cell_type": "code",
   "execution_count": 10,
   "metadata": {},
   "outputs": [],
   "source": [
    "merge_df['早期園區'] = merge_df.apply(lambda x:1 if ((x['沈陽']<10)or(x['大連']<10)or(x['鞍山']<10)) else 0,axis=1)\n",
    "merge_df['近期園區'] = merge_df.apply(lambda x:1 if ((x['營口']<10)or(x['遼陽']<10)or(x['本溪']<10)) else 0,axis=1)"
   ]
  },
  {
   "cell_type": "code",
   "execution_count": 11,
   "metadata": {
    "scrolled": true
   },
   "outputs": [],
   "source": [
    "merge_df.to_excel(r'E:\\paper\\清理結果-新園區內外\\遼寧_結果.xlsx')"
   ]
  },
  {
   "cell_type": "code",
   "execution_count": 12,
   "metadata": {},
   "outputs": [
    {
     "name": "stdout",
     "output_type": "stream",
     "text": [
      "(17872, 58)\n",
      "0.7807184422560429\n",
      "0.0034131602506714412\n"
     ]
    }
   ],
   "source": [
    "print(merge_df.shape)\n",
    "print(len(merge_df[merge_df['專利數']==0]['專利數'])/len(merge_df['專利數']))\n",
    "print(len(merge_df[merge_df['專利數']>=100]['專利數'])/len(merge_df['專利數']))"
   ]
  },
  {
   "cell_type": "code",
   "execution_count": 13,
   "metadata": {},
   "outputs": [
    {
     "data": {
      "text/plain": [
       "專利數\n",
       "0.0       13953\n",
       "1.0        1038\n",
       "2.0         541\n",
       "3.0         327\n",
       "4.0         220\n",
       "5.0         175\n",
       "6.0         197\n",
       "7.0         142\n",
       "8.0         149\n",
       "9.0          99\n",
       "10.0         90\n",
       "11.0         70\n",
       "12.0         66\n",
       "13.0         65\n",
       "14.0         60\n",
       "15.0         49\n",
       "16.0         45\n",
       "17.0         43\n",
       "18.0         38\n",
       "19.0         36\n",
       "20.0         31\n",
       "21.0         21\n",
       "22.0         24\n",
       "23.0         16\n",
       "24.0         23\n",
       "25.0         20\n",
       "26.0         13\n",
       "27.0          6\n",
       "28.0         13\n",
       "29.0         17\n",
       "30.0          8\n",
       "31.0         10\n",
       "32.0         14\n",
       "33.0          9\n",
       "34.0         10\n",
       "35.0          7\n",
       "36.0          7\n",
       "37.0          9\n",
       "38.0         11\n",
       "39.0         11\n",
       "40.0          2\n",
       "41.0          4\n",
       "42.0          4\n",
       "43.0          8\n",
       "44.0          8\n",
       "45.0          5\n",
       "46.0          2\n",
       "47.0          4\n",
       "48.0          4\n",
       "49.0          2\n",
       "50.0          1\n",
       "51.0          7\n",
       "53.0          1\n",
       "54.0          1\n",
       "55.0          3\n",
       "56.0          2\n",
       "57.0          3\n",
       "58.0          3\n",
       "59.0          2\n",
       "60.0          3\n",
       "61.0          2\n",
       "62.0          1\n",
       "63.0          3\n",
       "64.0          6\n",
       "65.0          4\n",
       "66.0          4\n",
       "67.0          2\n",
       "68.0          2\n",
       "69.0          2\n",
       "70.0          3\n",
       "71.0          1\n",
       "72.0          2\n",
       "73.0          1\n",
       "74.0          1\n",
       "75.0          1\n",
       "76.0          2\n",
       "77.0          3\n",
       "80.0          1\n",
       "81.0          4\n",
       "83.0          1\n",
       "84.0          1\n",
       "85.0          2\n",
       "87.0          2\n",
       "89.0          1\n",
       "90.0          1\n",
       "92.0          2\n",
       "93.0          1\n",
       "94.0          2\n",
       "96.0          1\n",
       "103.0         1\n",
       "104.0         1\n",
       "105.0         1\n",
       "106.0         1\n",
       "107.0         1\n",
       "108.0         1\n",
       "109.0         1\n",
       "112.0         1\n",
       "114.0         2\n",
       "115.0         2\n",
       "118.0         1\n",
       "121.0         1\n",
       "124.0         1\n",
       "133.0         1\n",
       "146.0         1\n",
       "149.0         2\n",
       "150.0         1\n",
       "164.0         1\n",
       "165.0         1\n",
       "170.0         1\n",
       "172.0         1\n",
       "180.0         1\n",
       "184.0         1\n",
       "190.0         1\n",
       "209.0         1\n",
       "213.0         1\n",
       "223.0         1\n",
       "225.0         1\n",
       "227.0         1\n",
       "232.0         1\n",
       "233.0         1\n",
       "246.0         1\n",
       "251.0         1\n",
       "253.0         1\n",
       "260.0         1\n",
       "265.0         1\n",
       "299.0         1\n",
       "315.0         1\n",
       "328.0         1\n",
       "343.0         1\n",
       "345.0         1\n",
       "347.0         1\n",
       "351.0         1\n",
       "355.0         1\n",
       "377.0         1\n",
       "392.0         1\n",
       "419.0         1\n",
       "423.0         2\n",
       "478.0         1\n",
       "528.0         1\n",
       "724.0         1\n",
       "757.0         1\n",
       "938.0         1\n",
       "980.0         1\n",
       "1160.0        1\n",
       "1266.0        1\n",
       "3446.0        1\n",
       "Name: IPC, dtype: int64"
      ]
     },
     "execution_count": 13,
     "metadata": {},
     "output_type": "execute_result"
    }
   ],
   "source": [
    "merge_df.groupby('專利數')['IPC'].count()"
   ]
  },
  {
   "cell_type": "code",
   "execution_count": 14,
   "metadata": {},
   "outputs": [
    {
     "data": {
      "text/plain": [
       "專利數\n",
       "0.0      118\n",
       "1.0       15\n",
       "2.0        5\n",
       "3.0        2\n",
       "4.0        3\n",
       "5.0        3\n",
       "7.0        1\n",
       "9.0        1\n",
       "10.0       2\n",
       "60.0       1\n",
       "115.0      1\n",
       "Name: IPC, dtype: int64"
      ]
     },
     "execution_count": 14,
     "metadata": {},
     "output_type": "execute_result"
    }
   ],
   "source": [
    "merge_df[merge_df['lat']==''].groupby('專利數')['IPC'].count()"
   ]
  },
  {
   "cell_type": "code",
   "execution_count": 15,
   "metadata": {},
   "outputs": [
    {
     "data": {
      "text/plain": [
       "Text(0, 0.5, '無法定位廠商數量')"
      ]
     },
     "execution_count": 15,
     "metadata": {},
     "output_type": "execute_result"
    },
    {
     "data": {
      "image/png": "[encoded data removed]",
      "text/plain": [
       "<Figure size 432x288 with 2 Axes>"
      ]
     },
     "metadata": {
      "needs_background": "light"
     },
     "output_type": "display_data"
    }
   ],
   "source": [
    "from matplotlib.font_manager import FontProperties\n",
    "myfont = FontProperties(fname=r'C:\\Windows\\Fonts\\msjhbd.ttc')\n",
    "fig = plt.figure()\n",
    "ax1 = fig.add_subplot(111)\n",
    "ax1.plot(merge_df[merge_df['lat']!=0].groupby('專利數')['IPC'].count().index,merge_df[merge_df['lat']!=0].groupby('專利數')['IPC'].count())\n",
    "ax1.set_title('遼寧',fontproperties=myfont,fontsize=15)\n",
    "ax1.set_ylabel('廠商數量',fontproperties=myfont)\n",
    "ax1.set_xlabel('專利數量',fontproperties=myfont)\n",
    "ax1.set_xlim([0,100])\n",
    "ax1.set_ylim([0,1100])\n",
    "ax2 = ax1.twinx()\n",
    "ax2.bar(merge_df[merge_df['lat']==''].groupby('專利數')['IPC'].count().index,merge_df[merge_df['lat']==''].groupby('專利數')['IPC'].count(),color='red')\n",
    "ax2.set_ylim([0,20])\n",
    "ax2.set_ylabel('無法定位廠商數量',fontproperties=myfont)\n"
   ]
  },
  {
   "cell_type": "code",
   "execution_count": 2,
   "metadata": {},
   "outputs": [
    {
     "name": "stdout",
     "output_type": "stream",
     "text": [
      "1720\n",
      "0.09769396796546632\n",
      "30\n"
     ]
    }
   ],
   "source": [
    "region = pd.read_excel(r'E:\\paper\\清理結果-新園區內外\\遼寧_結果.xlsx',index_col=0)\n",
    "region.fillna('',inplace=True)\n",
    "corptype = ['有限','责任','集团','股份','控股','总公司','分公司','公司']\n",
    "region['name_clean'] = region['name']\n",
    "for k in corptype:\n",
    "    region['name_clean'] = region['name_clean'].map(lambda x:re.sub(k,'',x))\n",
    "region['name_clean'] = region['name_clean'].map(lambda x:re.sub(r'\\(.*?\\)','',x))\n",
    "region['name_clean'] = region['name_clean'].map(lambda x:re.sub(r'\\（.*?\\）','',x))\n",
    "region['name_clean'] = region['name_clean'].map(lambda x:re.sub(r'\\(.*?\\）','',x))\n",
    "region['name_clean'] = region['name_clean'].map(lambda x:re.sub(r'\\（.*?\\)','',x))\n",
    "region['name_clean'] = region['name_clean'].map(lambda x:re.sub(r'[\\s+-─]','',x))\n",
    "clean = region[region.duplicated(['name_clean'],keep=False)].sort_values(by=['企業名稱'])\n",
    "patents = clean.groupby('name_clean')['專利數'].sum()\n",
    "final = clean.drop('專利數',axis=1).merge(patents,left_on='name_clean',right_on='name_clean',how='left')\n",
    "final.drop_duplicates(['name_clean'],keep='last',inplace=True)\n",
    "region.drop_duplicates(['name_clean'],keep=False,inplace=True)\n",
    "cleaned = pd.concat([region,final],ignore_index=True,sort=False)\n",
    "located = cleaned[cleaned['lat']!='']\n",
    "not_merge = located[located['企業名稱']=='']\n",
    "print(len(not_merge['專利數']))\n",
    "print(len(not_merge['專利數'])/len(located['專利數']))\n",
    "print(len(not_merge[not_merge['專利數']>100]['專利數']))"
   ]
  },
  {
   "cell_type": "code",
   "execution_count": 3,
   "metadata": {},
   "outputs": [
    {
     "data": {
      "text/plain": [
       "專利數\n",
       "1       507\n",
       "2       287\n",
       "3       157\n",
       "4       113\n",
       "5        64\n",
       "6        68\n",
       "7        51\n",
       "8        54\n",
       "9        39\n",
       "10       31\n",
       "11       20\n",
       "12       19\n",
       "13       19\n",
       "14       26\n",
       "15       14\n",
       "16       16\n",
       "17       17\n",
       "18       11\n",
       "19       16\n",
       "20       12\n",
       "21        7\n",
       "22       10\n",
       "23        3\n",
       "24        8\n",
       "25        8\n",
       "26        4\n",
       "27        2\n",
       "28        5\n",
       "29        7\n",
       "30        3\n",
       "31        2\n",
       "32        5\n",
       "33        2\n",
       "34        4\n",
       "35        1\n",
       "36        3\n",
       "37        6\n",
       "38        6\n",
       "39        5\n",
       "40        1\n",
       "41        1\n",
       "42        1\n",
       "43        3\n",
       "44        4\n",
       "45        1\n",
       "46        1\n",
       "47        1\n",
       "49        1\n",
       "50        1\n",
       "51        2\n",
       "53        1\n",
       "54        1\n",
       "55        2\n",
       "56        1\n",
       "57        2\n",
       "58        2\n",
       "59        2\n",
       "60        1\n",
       "61        1\n",
       "63        2\n",
       "64        2\n",
       "65        2\n",
       "66        3\n",
       "67        2\n",
       "68        1\n",
       "69        1\n",
       "70        2\n",
       "72        1\n",
       "74        1\n",
       "75        1\n",
       "76        1\n",
       "81        2\n",
       "85        1\n",
       "87        1\n",
       "88        1\n",
       "90        1\n",
       "92        2\n",
       "94        1\n",
       "103       1\n",
       "107       1\n",
       "108       1\n",
       "112       1\n",
       "114       1\n",
       "118       1\n",
       "121       1\n",
       "129       1\n",
       "133       1\n",
       "146       1\n",
       "190       1\n",
       "223       1\n",
       "233       1\n",
       "246       1\n",
       "251       1\n",
       "253       1\n",
       "265       1\n",
       "328       1\n",
       "347       1\n",
       "355       1\n",
       "373       1\n",
       "377       1\n",
       "392       1\n",
       "419       1\n",
       "423       1\n",
       "528       1\n",
       "757       1\n",
       "1160      1\n",
       "1266      1\n",
       "3446      1\n",
       "Name: IPC, dtype: int64"
      ]
     },
     "execution_count": 3,
     "metadata": {},
     "output_type": "execute_result"
    }
   ],
   "source": [
    "not_merge.groupby('專利數')['IPC'].count()"
   ]
  },
  {
   "cell_type": "code",
   "execution_count": 4,
   "metadata": {
    "scrolled": true
   },
   "outputs": [
    {
     "data": {
      "text/html": [
       "<div>\n",
       "<style scoped>\n",
       "    .dataframe tbody tr th:only-of-type {\n",
       "        vertical-align: middle;\n",
       "    }\n",
       "\n",
       "    .dataframe tbody tr th {\n",
       "        vertical-align: top;\n",
       "    }\n",
       "\n",
       "    .dataframe thead th {\n",
       "        text-align: right;\n",
       "    }\n",
       "</style>\n",
       "<table border=\"1\" class=\"dataframe\">\n",
       "  <thead>\n",
       "    <tr style=\"text-align: right;\">\n",
       "      <th></th>\n",
       "      <th>法人代碼</th>\n",
       "      <th>企業名稱</th>\n",
       "      <th>地址</th>\n",
       "      <th>區域代碼</th>\n",
       "      <th>行業代碼</th>\n",
       "      <th>區域代碼_str</th>\n",
       "      <th>CPC</th>\n",
       "      <th>IPC</th>\n",
       "      <th>inpadoc同族</th>\n",
       "      <th>inpadoc同族个数</th>\n",
       "      <th>专利寿命（月）</th>\n",
       "      <th>专利类型</th>\n",
       "      <th>中国申请人区县</th>\n",
       "      <th>中国申请人地市</th>\n",
       "      <th>优先权信息</th>\n",
       "      <th>公开国别</th>\n",
       "      <th>公开（公告）号</th>\n",
       "      <th>公开（公告）日</th>\n",
       "      <th>发明人</th>\n",
       "      <th>合享价值度</th>\n",
       "      <th>同族国家</th>\n",
       "      <th>失效日</th>\n",
       "      <th>序号</th>\n",
       "      <th>引证专利</th>\n",
       "      <th>引证科技文献</th>\n",
       "      <th>...</th>\n",
       "      <th>申请人类型</th>\n",
       "      <th>申请号</th>\n",
       "      <th>申请日</th>\n",
       "      <th>简单同族</th>\n",
       "      <th>简单同族个数</th>\n",
       "      <th>被引证专利</th>\n",
       "      <th>被引证国别(forward)</th>\n",
       "      <th>被引证次数</th>\n",
       "      <th>链接到incoPat</th>\n",
       "      <th>申请人</th>\n",
       "      <th>name</th>\n",
       "      <th>address</th>\n",
       "      <th>完整地址</th>\n",
       "      <th>lat</th>\n",
       "      <th>lnt</th>\n",
       "      <th>沈陽</th>\n",
       "      <th>大連</th>\n",
       "      <th>鞍山</th>\n",
       "      <th>營口</th>\n",
       "      <th>遼陽</th>\n",
       "      <th>本溪</th>\n",
       "      <th>早期園區</th>\n",
       "      <th>近期園區</th>\n",
       "      <th>專利數</th>\n",
       "      <th>name_clean</th>\n",
       "    </tr>\n",
       "  </thead>\n",
       "  <tbody>\n",
       "    <tr>\n",
       "      <td>17594</td>\n",
       "      <td></td>\n",
       "      <td></td>\n",
       "      <td></td>\n",
       "      <td></td>\n",
       "      <td></td>\n",
       "      <td></td>\n",
       "      <td></td>\n",
       "      <td>C04B2/10; C04B35/66</td>\n",
       "      <td>CN102976640B; CN102976640A</td>\n",
       "      <td>2</td>\n",
       "      <td></td>\n",
       "      <td>发明授权</td>\n",
       "      <td>[甘井子]</td>\n",
       "      <td>[大连]</td>\n",
       "      <td></td>\n",
       "      <td>CN</td>\n",
       "      <td>CN102976640B</td>\n",
       "      <td>2014-08-13 00:00:00</td>\n",
       "      <td>吴占德; 柏杉; 洪艳萍; 白城</td>\n",
       "      <td>9</td>\n",
       "      <td>CN</td>\n",
       "      <td></td>\n",
       "      <td>31095</td>\n",
       "      <td>CN102659436A; CN102285806A</td>\n",
       "      <td>&lt;text&gt;吴俊银.二步煅烧法合成镁钙砂的研究.《甘肃冶金》.2007, 第29卷(第6期), 第20-22页.&lt;/text&gt;&lt;text&gt;代小伟等.选用优质白云石试制镁钙合成砂.《河北冶金》.2006, 第72-73页.&lt;/text&gt;</td>\n",
       "      <td>...</td>\n",
       "      <td>企业</td>\n",
       "      <td>CN201210552151.9</td>\n",
       "      <td>2012-12-18 00:00:00</td>\n",
       "      <td>CN102976640B; CN102976640A</td>\n",
       "      <td>2</td>\n",
       "      <td></td>\n",
       "      <td></td>\n",
       "      <td>0</td>\n",
       "      <td>到incoPat中查看\\r\\nCN102976640B</td>\n",
       "      <td>中冶焦耐工程技术有限公司</td>\n",
       "      <td>中冶焦耐工程技术有限公司</td>\n",
       "      <td>辽宁省大连市高新技术产业园区七贤岭高能街128号</td>\n",
       "      <td>1</td>\n",
       "      <td>38.8583</td>\n",
       "      <td>121.528</td>\n",
       "      <td>357.318549</td>\n",
       "      <td>1.311885</td>\n",
       "      <td>281.686372</td>\n",
       "      <td>207.424194</td>\n",
       "      <td>299.260319</td>\n",
       "      <td>345.034084</td>\n",
       "      <td>1</td>\n",
       "      <td>0</td>\n",
       "      <td>528</td>\n",
       "      <td>中冶焦耐工程技术</td>\n",
       "    </tr>\n",
       "    <tr>\n",
       "      <td>17652</td>\n",
       "      <td></td>\n",
       "      <td></td>\n",
       "      <td></td>\n",
       "      <td></td>\n",
       "      <td></td>\n",
       "      <td></td>\n",
       "      <td></td>\n",
       "      <td>F24F7/00</td>\n",
       "      <td>CN103017286A; CN103017286B</td>\n",
       "      <td>2</td>\n",
       "      <td></td>\n",
       "      <td>发明授权</td>\n",
       "      <td>[铁西]</td>\n",
       "      <td>[沈阳]</td>\n",
       "      <td></td>\n",
       "      <td>CN</td>\n",
       "      <td>CN103017286B</td>\n",
       "      <td>2015-03-25 00:00:00</td>\n",
       "      <td>牟永来; 刘刃; 陈伟庭</td>\n",
       "      <td>9</td>\n",
       "      <td>CN</td>\n",
       "      <td></td>\n",
       "      <td>20039</td>\n",
       "      <td>CN203083067U; JP2003185186A; JP2011133160A; CN201028727Y; CN200979264Y; CN102705947A; CN201582936U</td>\n",
       "      <td></td>\n",
       "      <td>...</td>\n",
       "      <td>企业</td>\n",
       "      <td>CN201210584479.9</td>\n",
       "      <td>2012-12-31 00:00:00</td>\n",
       "      <td>CN103017286B; CN103017286A</td>\n",
       "      <td>2</td>\n",
       "      <td></td>\n",
       "      <td></td>\n",
       "      <td>0</td>\n",
       "      <td>到incoPat中查看\\r\\nCN103017286B</td>\n",
       "      <td>沈阳远大铝业工程有限公司</td>\n",
       "      <td>沈阳远大铝业工程有限公司</td>\n",
       "      <td>辽宁省沈阳市经济技术开发区十三号街20号</td>\n",
       "      <td>1</td>\n",
       "      <td>41.7448</td>\n",
       "      <td>123.228</td>\n",
       "      <td>19.385750</td>\n",
       "      <td>351.297001</td>\n",
       "      <td>72.123650</td>\n",
       "      <td>149.024009</td>\n",
       "      <td>57.101152</td>\n",
       "      <td>49.948340</td>\n",
       "      <td>0</td>\n",
       "      <td>0</td>\n",
       "      <td>757</td>\n",
       "      <td>沈阳远大铝业工程</td>\n",
       "    </tr>\n",
       "    <tr>\n",
       "      <td>16283</td>\n",
       "      <td></td>\n",
       "      <td></td>\n",
       "      <td></td>\n",
       "      <td></td>\n",
       "      <td></td>\n",
       "      <td></td>\n",
       "      <td></td>\n",
       "      <td>C22C29/08</td>\n",
       "      <td>CN1292087C; CN1584092A</td>\n",
       "      <td>2</td>\n",
       "      <td></td>\n",
       "      <td>发明授权</td>\n",
       "      <td>[大东]</td>\n",
       "      <td>[沈阳]</td>\n",
       "      <td>CN03134123 20030820</td>\n",
       "      <td>CN</td>\n",
       "      <td>CN1292087C</td>\n",
       "      <td>2006-12-27 00:00:00</td>\n",
       "      <td>方波; 孙海; 穆昆同; 于月光; 曾克里</td>\n",
       "      <td>8</td>\n",
       "      <td>CN</td>\n",
       "      <td></td>\n",
       "      <td>18728</td>\n",
       "      <td></td>\n",
       "      <td></td>\n",
       "      <td>...</td>\n",
       "      <td>企业</td>\n",
       "      <td>CN03134123.3</td>\n",
       "      <td>2003-08-20 00:00:00</td>\n",
       "      <td>CN1292087C; CN1584092A</td>\n",
       "      <td>2</td>\n",
       "      <td></td>\n",
       "      <td></td>\n",
       "      <td>0</td>\n",
       "      <td>到incoPat中查看\\r\\nCN1292087C</td>\n",
       "      <td>沈阳黎明航空发动机(集团)有限责任公司</td>\n",
       "      <td>沈阳黎明航空发动机(集团)有限责任公司</td>\n",
       "      <td>辽宁省沈阳市大东区东塔街六号</td>\n",
       "      <td>1</td>\n",
       "      <td>41.7998</td>\n",
       "      <td>123.506</td>\n",
       "      <td>10.040013</td>\n",
       "      <td>367.091565</td>\n",
       "      <td>85.663827</td>\n",
       "      <td>168.243706</td>\n",
       "      <td>68.400327</td>\n",
       "      <td>39.681846</td>\n",
       "      <td>0</td>\n",
       "      <td>0</td>\n",
       "      <td>1160</td>\n",
       "      <td>沈阳黎明航空发动机</td>\n",
       "    </tr>\n",
       "    <tr>\n",
       "      <td>17596</td>\n",
       "      <td></td>\n",
       "      <td></td>\n",
       "      <td></td>\n",
       "      <td></td>\n",
       "      <td></td>\n",
       "      <td></td>\n",
       "      <td></td>\n",
       "      <td>B02C2/00; B02C23/02</td>\n",
       "      <td>CN102989546A; CN102989546B</td>\n",
       "      <td>2</td>\n",
       "      <td></td>\n",
       "      <td>发明授权</td>\n",
       "      <td>[铁东]</td>\n",
       "      <td>[鞍山]</td>\n",
       "      <td></td>\n",
       "      <td>CN</td>\n",
       "      <td>CN102989546B</td>\n",
       "      <td>2014-11-05 00:00:00</td>\n",
       "      <td>傅国辉; 许广明; 许玲; 徐冬林; 何显明</td>\n",
       "      <td>9</td>\n",
       "      <td>CN</td>\n",
       "      <td></td>\n",
       "      <td>27095</td>\n",
       "      <td>CN203044066U; CN202343237U; CN201493157U</td>\n",
       "      <td></td>\n",
       "      <td>...</td>\n",
       "      <td>企业</td>\n",
       "      <td>CN201210550690.9</td>\n",
       "      <td>2012-12-18 00:00:00</td>\n",
       "      <td>CN102989546A; CN102989546B</td>\n",
       "      <td>2</td>\n",
       "      <td></td>\n",
       "      <td></td>\n",
       "      <td>0</td>\n",
       "      <td>到incoPat中查看\\r\\nCN102989546B</td>\n",
       "      <td>鞍钢集团矿业公司</td>\n",
       "      <td>鞍钢集团矿业公司</td>\n",
       "      <td>辽宁省鞍山市铁东区二一九路39号</td>\n",
       "      <td>1</td>\n",
       "      <td>41.1074</td>\n",
       "      <td>122.999</td>\n",
       "      <td>77.805484</td>\n",
       "      <td>279.317060</td>\n",
       "      <td>4.112243</td>\n",
       "      <td>84.575825</td>\n",
       "      <td>21.150664</td>\n",
       "      <td>72.261165</td>\n",
       "      <td>1</td>\n",
       "      <td>0</td>\n",
       "      <td>1266</td>\n",
       "      <td>鞍钢矿业</td>\n",
       "    </tr>\n",
       "    <tr>\n",
       "      <td>17615</td>\n",
       "      <td></td>\n",
       "      <td></td>\n",
       "      <td></td>\n",
       "      <td></td>\n",
       "      <td></td>\n",
       "      <td></td>\n",
       "      <td></td>\n",
       "      <td>C22C38/38; C22C38/26; C21D8/02</td>\n",
       "      <td>CN103882320A; CN103882320B</td>\n",
       "      <td>2</td>\n",
       "      <td></td>\n",
       "      <td>发明授权</td>\n",
       "      <td>[铁西]</td>\n",
       "      <td>[鞍山]</td>\n",
       "      <td></td>\n",
       "      <td>CN</td>\n",
       "      <td>CN103882320B</td>\n",
       "      <td>2016-09-07 00:00:00</td>\n",
       "      <td>王科强; 刘仁东; 王旭; 郭金宇; 林利; 徐荣杰; 孙建伦; 徐鑫; 张宇; 吕冬</td>\n",
       "      <td>9</td>\n",
       "      <td>CN</td>\n",
       "      <td></td>\n",
       "      <td>5812</td>\n",
       "      <td>JP2005256044A; JP2009013478A; JP2011140688A; JP2011144414A</td>\n",
       "      <td></td>\n",
       "      <td>...</td>\n",
       "      <td>企业</td>\n",
       "      <td>CN201210560597.6</td>\n",
       "      <td>2012-12-21 00:00:00</td>\n",
       "      <td>CN103882320B; CN103882320A</td>\n",
       "      <td>2</td>\n",
       "      <td></td>\n",
       "      <td></td>\n",
       "      <td>0</td>\n",
       "      <td>到incoPat中查看\\r\\nCN103882320B</td>\n",
       "      <td>鞍钢股份有限公司</td>\n",
       "      <td>鞍钢股份有限公司</td>\n",
       "      <td>辽宁省鞍山市铁西区鞍钢厂区内</td>\n",
       "      <td>0</td>\n",
       "      <td>41.1139</td>\n",
       "      <td>122.978</td>\n",
       "      <td>78.056393</td>\n",
       "      <td>279.159466</td>\n",
       "      <td>5.871169</td>\n",
       "      <td>83.607966</td>\n",
       "      <td>22.069056</td>\n",
       "      <td>73.300915</td>\n",
       "      <td>1</td>\n",
       "      <td>0</td>\n",
       "      <td>3446</td>\n",
       "      <td>鞍钢</td>\n",
       "    </tr>\n",
       "  </tbody>\n",
       "</table>\n",
       "<p>5 rows × 59 columns</p>\n",
       "</div>"
      ],
      "text/plain": [
       "      法人代碼 企業名稱 地址 區域代碼 行業代碼 區域代碼_str CPC                             IPC  \\\n",
       "17594                                                 C04B2/10; C04B35/66   \n",
       "17652                                                            F24F7/00   \n",
       "16283                                                           C22C29/08   \n",
       "17596                                                 B02C2/00; B02C23/02   \n",
       "17615                                      C22C38/38; C22C38/26; C21D8/02   \n",
       "\n",
       "                        inpadoc同族 inpadoc同族个数 专利寿命（月）  专利类型 中国申请人区县 中国申请人地市  \\\n",
       "17594  CN102976640B; CN102976640A           2          发明授权   [甘井子]    [大连]   \n",
       "17652  CN103017286A; CN103017286B           2          发明授权    [铁西]    [沈阳]   \n",
       "16283      CN1292087C; CN1584092A           2          发明授权    [大东]    [沈阳]   \n",
       "17596  CN102989546A; CN102989546B           2          发明授权    [铁东]    [鞍山]   \n",
       "17615  CN103882320A; CN103882320B           2          发明授权    [铁西]    [鞍山]   \n",
       "\n",
       "                     优先权信息 公开国别       公开（公告）号              公开（公告）日  \\\n",
       "17594                        CN  CN102976640B  2014-08-13 00:00:00   \n",
       "17652                        CN  CN103017286B  2015-03-25 00:00:00   \n",
       "16283  CN03134123 20030820   CN    CN1292087C  2006-12-27 00:00:00   \n",
       "17596                        CN  CN102989546B  2014-11-05 00:00:00   \n",
       "17615                        CN  CN103882320B  2016-09-07 00:00:00   \n",
       "\n",
       "                                               发明人 合享价值度 同族国家 失效日     序号  \\\n",
       "17594                             吴占德; 柏杉; 洪艳萍; 白城     9   CN      31095   \n",
       "17652                                 牟永来; 刘刃; 陈伟庭     9   CN      20039   \n",
       "16283                        方波; 孙海; 穆昆同; 于月光; 曾克里     8   CN      18728   \n",
       "17596                       傅国辉; 许广明; 许玲; 徐冬林; 何显明     9   CN      27095   \n",
       "17615  王科强; 刘仁东; 王旭; 郭金宇; 林利; 徐荣杰; 孙建伦; 徐鑫; 张宇; 吕冬     9   CN       5812   \n",
       "\n",
       "                                                                                                     引证专利  \\\n",
       "17594                                                                          CN102659436A; CN102285806A   \n",
       "17652  CN203083067U; JP2003185186A; JP2011133160A; CN201028727Y; CN200979264Y; CN102705947A; CN201582936U   \n",
       "16283                                                                                                       \n",
       "17596                                                            CN203044066U; CN202343237U; CN201493157U   \n",
       "17615                                          JP2005256044A; JP2009013478A; JP2011140688A; JP2011144414A   \n",
       "\n",
       "                                                                                                                      引证科技文献  \\\n",
       "17594  <text>吴俊银.二步煅烧法合成镁钙砂的研究.《甘肃冶金》.2007, 第29卷(第6期), 第20-22页.</text><text>代小伟等.选用优质白云石试制镁钙合成砂.《河北冶金》.2006, 第72-73页.</text>   \n",
       "17652                                                                                                                          \n",
       "16283                                                                                                                          \n",
       "17596                                                                                                                          \n",
       "17615                                                                                                                          \n",
       "\n",
       "       ... 申请人类型               申请号                  申请日  \\\n",
       "17594  ...    企业  CN201210552151.9  2012-12-18 00:00:00   \n",
       "17652  ...    企业  CN201210584479.9  2012-12-31 00:00:00   \n",
       "16283  ...    企业      CN03134123.3  2003-08-20 00:00:00   \n",
       "17596  ...    企业  CN201210550690.9  2012-12-18 00:00:00   \n",
       "17615  ...    企业  CN201210560597.6  2012-12-21 00:00:00   \n",
       "\n",
       "                             简单同族 简单同族个数 被引证专利 被引证国别(forward) 被引证次数  \\\n",
       "17594  CN102976640B; CN102976640A      2                          0   \n",
       "17652  CN103017286B; CN103017286A      2                          0   \n",
       "16283      CN1292087C; CN1584092A      2                          0   \n",
       "17596  CN102989546A; CN102989546B      2                          0   \n",
       "17615  CN103882320B; CN103882320A      2                          0   \n",
       "\n",
       "                        链接到incoPat                  申请人                 name  \\\n",
       "17594  到incoPat中查看\\r\\nCN102976640B         中冶焦耐工程技术有限公司         中冶焦耐工程技术有限公司   \n",
       "17652  到incoPat中查看\\r\\nCN103017286B         沈阳远大铝业工程有限公司         沈阳远大铝业工程有限公司   \n",
       "16283    到incoPat中查看\\r\\nCN1292087C  沈阳黎明航空发动机(集团)有限责任公司  沈阳黎明航空发动机(集团)有限责任公司   \n",
       "17596  到incoPat中查看\\r\\nCN102989546B             鞍钢集团矿业公司             鞍钢集团矿业公司   \n",
       "17615  到incoPat中查看\\r\\nCN103882320B             鞍钢股份有限公司             鞍钢股份有限公司   \n",
       "\n",
       "                        address 完整地址      lat      lnt          沈陽  \\\n",
       "17594  辽宁省大连市高新技术产业园区七贤岭高能街128号    1  38.8583  121.528  357.318549   \n",
       "17652      辽宁省沈阳市经济技术开发区十三号街20号    1  41.7448  123.228   19.385750   \n",
       "16283            辽宁省沈阳市大东区东塔街六号    1  41.7998  123.506   10.040013   \n",
       "17596          辽宁省鞍山市铁东区二一九路39号    1  41.1074  122.999   77.805484   \n",
       "17615            辽宁省鞍山市铁西区鞍钢厂区内    0  41.1139  122.978   78.056393   \n",
       "\n",
       "               大連          鞍山          營口          遼陽          本溪  早期園區 近期園區  \\\n",
       "17594    1.311885  281.686372  207.424194  299.260319  345.034084     1    0   \n",
       "17652  351.297001   72.123650  149.024009   57.101152   49.948340     0    0   \n",
       "16283  367.091565   85.663827  168.243706   68.400327   39.681846     0    0   \n",
       "17596  279.317060    4.112243   84.575825   21.150664   72.261165     1    0   \n",
       "17615  279.159466    5.871169   83.607966   22.069056   73.300915     1    0   \n",
       "\n",
       "        專利數  name_clean  \n",
       "17594   528    中冶焦耐工程技术  \n",
       "17652   757    沈阳远大铝业工程  \n",
       "16283  1160   沈阳黎明航空发动机  \n",
       "17596  1266        鞍钢矿业  \n",
       "17615  3446          鞍钢  \n",
       "\n",
       "[5 rows x 59 columns]"
      ]
     },
     "execution_count": 4,
     "metadata": {},
     "output_type": "execute_result"
    }
   ],
   "source": [
    "not_merge[not_merge['專利數']>=500].sort_values('專利數')"
   ]
  },
  {
   "cell_type": "code",
   "execution_count": 6,
   "metadata": {},
   "outputs": [
    {
     "data": {
      "text/plain": [
       "Text(0.5, 0, '專利數量')"
      ]
     },
     "execution_count": 6,
     "metadata": {},
     "output_type": "execute_result"
    },
    {
     "data": {
      "image/png": "[encoded data removed]",
      "text/plain": [
       "<Figure size 432x288 with 1 Axes>"
      ]
     },
     "metadata": {
      "needs_background": "light"
     },
     "output_type": "display_data"
    }
   ],
   "source": [
    "from matplotlib.font_manager import FontProperties\n",
    "myfont = FontProperties(fname=r'C:\\Windows\\Fonts\\msjhbd.ttc')\n",
    "fig = plt.figure()\n",
    "ax1 = fig.add_subplot(111)\n",
    "ax1.plot(not_merge.groupby('專利數')['IPC'].count().index,not_merge.groupby('專利數')['IPC'].count())\n",
    "ax1.set_title('遼寧',fontproperties=myfont,fontsize=15)\n",
    "ax1.set_xlim([0,100])\n",
    "ax1.set_ylabel('廠商數量',fontproperties=myfont)\n",
    "ax1.set_xlabel('專利數量',fontproperties=myfont)"
   ]
  },
  {
   "cell_type": "code",
   "execution_count": 5,
   "metadata": {},
   "outputs": [],
   "source": [
    "cleaned.to_excel(r'E:\\paper\\名稱merge\\遼寧_結果.xlsx')"
   ]
  },
  {
   "cell_type": "code",
   "execution_count": 11,
   "metadata": {},
   "outputs": [
    {
     "data": {
      "text/plain": [
       "<matplotlib.legend.Legend at 0x1e313d70288>"
      ]
     },
     "execution_count": 11,
     "metadata": {},
     "output_type": "execute_result"
    },
    {
     "data": {
      "image/png": "[encoded data removed]",
      "text/plain": [
       "<Figure size 360x360 with 1 Axes>"
      ]
     },
     "metadata": {
      "needs_background": "light"
     },
     "output_type": "display_data"
    }
   ],
   "source": [
    "from matplotlib.font_manager import FontProperties\n",
    "myfont = FontProperties(fname=r'C:\\Windows\\Fonts\\msjhbd.ttc')\n",
    "fig = plt.figure(figsize = (5,5))\n",
    "ax1 = fig.add_subplot(111)\n",
    "ax1.set_ylabel('Patent Counts')\n",
    "bar1 = ax1.bar(1,merge_df[merge_df['早期園區']==1]['專利數'].sum(),alpha=0.7,width=0.35,color='r',label='早期園區')\n",
    "bar2 = ax1.bar(1+0.35,merge_df[merge_df['近期園區']==1]['專利數'].sum(),alpha=0.7,width=0.35,color='b',label='近期園區')\n",
    "bar3 = ax1.bar(1+0.7,merge_df[(merge_df['近期園區']==0)&(merge_df['早期園區']==0)]['專利數'].sum(),alpha=0.7,width=0.35,color='k',label='園區外')\n",
    "\n",
    "plt.text(1, merge_df[merge_df['早期園區']==1]['專利數'].sum(), '%.0f' % merge_df[merge_df['早期園區']==1]['專利數'].sum(), ha='center', va= 'bottom',fontsize=12)  \n",
    "plt.text(1.35, merge_df[merge_df['近期園區']==1]['專利數'].sum(), '%.0f' % merge_df[merge_df['近期園區']==1]['專利數'].sum(), ha='center', va= 'bottom',fontsize=12)  \n",
    "plt.text(1.7, merge_df[(merge_df['近期園區']==0)&(merge_df['早期園區']==0)]['專利數'].sum(), '%.0f' % merge_df[(merge_df['近期園區']==0)&(merge_df['早期園區']==0)]['專利數'].sum(), ha='center', va= 'bottom',fontsize=12)  \n",
    "\n",
    "plt.title('遼寧',fontproperties=myfont,fontsize=20)\n",
    "plt.xticks([0.75,1,2],['','',''],fontproperties=myfont)\n",
    "plt.legend(handles = [bar1,bar2,bar3], loc='upper left',prop=myfont)"
   ]
  },
  {
   "cell_type": "code",
   "execution_count": 12,
   "metadata": {},
   "outputs": [
    {
     "data": {
      "text/plain": [
       "<matplotlib.legend.Legend at 0x1e312858bc8>"
      ]
     },
     "execution_count": 12,
     "metadata": {},
     "output_type": "execute_result"
    },
    {
     "data": {
      "image/png": "[encoded data removed]",
      "text/plain": [
       "<Figure size 360x360 with 1 Axes>"
      ]
     },
     "metadata": {
      "needs_background": "light"
     },
     "output_type": "display_data"
    }
   ],
   "source": [
    "fig = plt.figure(figsize = (5,5))\n",
    "ax1 = fig.add_subplot(111)\n",
    "ax1.set_ylabel('Patent Counts/Firms ')\n",
    "bar1 = ax1.bar(1,merge_df[merge_df['早期園區']==1]['專利數'].sum()/merge_df[merge_df['早期園區']==1]['專利數'].count(),alpha=0.7,width=0.35,color='r',label='早期園區')\n",
    "bar2 = ax1.bar(1+0.35,merge_df[merge_df['近期園區']==1]['專利數'].sum()/merge_df[merge_df['近期園區']==1]['專利數'].count(),alpha=0.7,width=0.35,color='b',label='近期園區')\n",
    "bar3 = ax1.bar(1+0.7,merge_df[(merge_df['近期園區']==0)&(merge_df['早期園區']==0)]['專利數'].sum()/merge_df[(merge_df['近期園區']==0)&(merge_df['早期園區']==0)]['專利數'].count(),alpha=0.7,width=0.35,color='k',label='園區外')\n",
    "\n",
    "plt.text(1, (merge_df[merge_df['早期園區']==1]['專利數'].sum()/merge_df[merge_df['早期園區']==1]['專利數'].count()), '%.2f' % (merge_df[merge_df['早期園區']==1]['專利數'].sum()/merge_df[merge_df['早期園區']==1]['專利數'].count()), ha='center', va= 'bottom',fontsize=12)  \n",
    "plt.text(1.35, (merge_df[merge_df['近期園區']==1]['專利數'].sum()/merge_df[merge_df['近期園區']==1]['專利數'].count()), '%.2f' % (merge_df[merge_df['近期園區']==1]['專利數'].sum()/merge_df[merge_df['近期園區']==1]['專利數'].count()), ha='center', va= 'bottom',fontsize=12)  \n",
    "plt.text(1.7, (merge_df[(merge_df['近期園區']==0)&(merge_df['早期園區']==0)]['專利數'].sum()/merge_df[(merge_df['近期園區']==0)&(merge_df['早期園區']==0)]['專利數'].count()), '%.0f' % (merge_df[(merge_df['近期園區']==0)&(merge_df['早期園區']==0)]['專利數'].sum()/merge_df[(merge_df['近期園區']==0)&(merge_df['早期園區']==0)]['專利數'].count()), ha='center', va= 'bottom',fontsize=12)  \n",
    "\n",
    "plt.title('遼寧',fontproperties=myfont,fontsize=20)\n",
    "plt.xticks([0.75,1,2],['','',''],fontproperties=myfont)\n",
    "plt.legend(handles = [bar1,bar2,bar3], loc='upper right',prop=myfont)"
   ]
  },
  {
   "cell_type": "code",
   "execution_count": null,
   "metadata": {},
   "outputs": [],
   "source": []
  }
 ],
 "metadata": {
  "kernelspec": {
   "display_name": "Python 3",
   "language": "python",
   "name": "python3"
  },
  "language_info": {
   "codemirror_mode": {
    "name": "ipython",
    "version": 3
   },
   "file_extension": ".py",
   "mimetype": "text/x-python",
   "name": "python",
   "nbconvert_exporter": "python",
   "pygments_lexer": "ipython3",
   "version": "3.7.4"
  }
 },
 "nbformat": 4,
 "nbformat_minor": 2
}
