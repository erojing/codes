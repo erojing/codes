{
 "cells": [
  {
   "cell_type": "code",
   "execution_count": 1,
   "metadata": {},
   "outputs": [],
   "source": [
    "import pandas as pd\n",
    "import numpy as np\n",
    "import matplotlib.pyplot as plt\n",
    "import re\n",
    "import time\n",
    "import datetime\n",
    "import geocoder\n",
    "pd.set_option('display.max_rows',500)\n",
    "pd.set_option('display.max_columns',50)\n",
    "pd.set_option('max_colwidth',200)\n",
    "%matplotlib inline\n",
    "import requests\n",
    "import json\n",
    "import urllib\n",
    "from urllib.request import urlopen\n",
    "\n",
    "def getGeoForAddress(address):\n",
    "    add = urllib.parse.quote(address)\n",
    "    addressUrl = \"https://maps.googleapis.com/maps/api/geocode/json?address=\" + add + '&key='\n",
    "    res = requests.get(addressUrl)\n",
    "    js = json.loads(res.text)\n",
    "    if js.get('results'):\n",
    "        lat = js.get('results')[0]['geometry']['location']['lat']\n",
    "        lng = js.get('results')[0]['geometry']['location']['lng']\n",
    "    else:\n",
    "        lat = ''\n",
    "        lng = ''\n",
    "    return [lat, lng]\n",
    "def ngram(text, n=3, pad=True):\n",
    "    text = text.strip()\n",
    "    if pad:\n",
    "        text = \" %s \" % text\n",
    "    return set([text[i:i+n] for i in range(len(text)-n+1)])\n",
    "    \n",
    "def create_ngram(text1, text2, n=3, pad=True):\n",
    "    return ngram(text1, n=n, pad=pad), ngram(text2, n=n, pad=pad)\n",
    "\n",
    "def tversky_index(text1, text2, a=None, b=None, q=3, pad=True):\n",
    "    text1, text2 = create_ngram(text1, text2, n=q, pad=pad)\n",
    "    agree_tot = len(text1.intersection(text2))\n",
    "    v1 = len(text1) - agree_tot\n",
    "    v2 = len(text2) - agree_tot\n",
    "    \n",
    "    if a != None and b != None:\n",
    "        a = a/float(a+b)\n",
    "        b = b/float(a+b)\n",
    "    elif a <= 1.0 and a >= 0.0:\n",
    "        b = 1-a\n",
    "    elif b <= 1.0 and b >= 0.0:\n",
    "        a = 1-b\n",
    "    else:\n",
    "        a = 0.5\n",
    "        b = 0.5        \n",
    "    return float(agree_tot)/(agree_tot+a*v1+b*v2)\n",
    "# incoPat為申請人list\n",
    "def fuzzy(incoPat,indus):\n",
    "    corptype = ['有限','公司','责任','集团','股份','控股']\n",
    "    text1 = incoPat\n",
    "    text2 = indus\n",
    "    incoPat_nor = []   \n",
    "    for text in text1:\n",
    "        for i in corptype:\n",
    "            if i in text:\n",
    "                text = re.sub(i,'',text)\n",
    "        incoPat_nor.append(text)\n",
    "    for i in corptype:\n",
    "        if i in text2:\n",
    "            text2 = re.sub(i,'',text2)\n",
    "    similar = []\n",
    "    for text in incoPat_nor:\n",
    "        dice = tversky_index(text,text2, a=0.5, q=min(2,len(text),len(text2)), pad=False)\n",
    "        if dice>0.7:\n",
    "            similar.append([incoPat[incoPat_nor.index(text)],dice])\n",
    "        else:\n",
    "            pass\n",
    "    if len(similar)>0:\n",
    "        return similar[[k[1] for k in similar].index(max([i[1] for i in similar]))][0]\n",
    "    else:\n",
    "        return indus\n",
    "city_code = pd.read_excel('C:/Users/user/Dropbox/paper/科技園區/China/省地縣碼對照.xls')\n",
    "city_code = city_code[~city_code['代碼'].isnull()].drop(['标注','说明'],axis=1)\n",
    "city_code['代碼_str'] = city_code['代碼'].apply(lambda x:str(int(x)))\n",
    "city_code = city_code.drop('代碼',axis=1)"
   ]
  },
  {
   "cell_type": "markdown",
   "metadata": {},
   "source": [
    "# 雲南資料整合"
   ]
  },
  {
   "cell_type": "code",
   "execution_count": 2,
   "metadata": {},
   "outputs": [],
   "source": [
    "df1 = pd.read_excel(r'E:\\paper\\專利資料-新型&授權\\新型授權-雲南1.xls')\n",
    "df2 = pd.read_excel(r'E:\\paper\\專利資料-新型&授權\\新型授權-雲南2.xls')\n",
    "\n",
    "patent_df = pd.concat([df1,df2],ignore_index=True,sort=True)"
   ]
  },
  {
   "cell_type": "code",
   "execution_count": 3,
   "metadata": {},
   "outputs": [
    {
     "name": "stderr",
     "output_type": "stream",
     "text": [
      "D:\\Anaconda\\lib\\site-packages\\IPython\\core\\interactiveshell.py:3058: DtypeWarning: Columns (0,3,16) have mixed types. Specify dtype option on import or set low_memory=False.\n",
      "  interactivity=interactivity, compiler=compiler, result=result)\n"
     ]
    }
   ],
   "source": [
    "#for PC\n",
    "patent_df = patent_df[patent_df['专利类型']=='发明授权']\n",
    "patent_df = patent_df[patent_df['申请人地址'].map(lambda x:len(re.findall(r'\\D+[\\s\\S]+',x)))==1]\n",
    "patent_df['申请人地址'] = patent_df['申请人地址'].map(lambda x:re.findall(r'\\D+[\\s\\S]+',x)[0])\n",
    "patent_df['申请人地址'] = patent_df['申请人地址'].map(lambda x:re.sub(r\"\\s+\", \"\",x))\n",
    "patent_df_firm = patent_df[patent_df['申请人类型'].str.contains('企业')]\n",
    "applicant = patent_df_firm['申请人'].str.split(';',expand=True).stack().reset_index(level=1,drop=True).rename('申请人2')\n",
    "patent_df_firm = patent_df_firm.join(applicant)\n",
    "patent_df_firm['類別'] = patent_df_firm['申请人类型'].map(lambda x:x.strip().split('  '))\n",
    "patent_df_firm = patent_df_firm[~patent_df_firm['标题'].duplicated()]\n",
    "patent_df_firm['申请人类型'] = patent_df_firm.apply(lambda x:x['類別'][0],axis=1)\n",
    "patent_df_firm = patent_df_firm[patent_df_firm['申请人类型']=='企业'].sort_values('申请日')\n",
    "patent_df_firm.drop(['類別','申请人'],axis=1,inplace=True)\n",
    "patent_df_firm.rename(columns={'申请人2':'申请人'},inplace=True)\n",
    "patent_df_firm = patent_df_firm[patent_df_firm['申请日']<datetime.datetime.strptime('2013-01-01','%Y-%m-%d')]\n",
    "patent_df_firm.drop_duplicates('申请人地址', keep='last', inplace=True)\n",
    "patent_df_firm.drop_duplicates('申请人', keep='last', inplace=True)\n",
    "\n",
    "firm_df = pd.read_csv(r'E:\\paper\\Firm csv\\firm_data_2012.csv')\n",
    "firm_gd = firm_df[firm_df['區域代碼'].astype(str).str.contains(r'53\\d{10}')==True]\n",
    "firm_gd = firm_gd.loc[:,['法人代碼','企業名稱','地址','區域代碼','行業代碼']]\n",
    "firm_gd['區域代碼_str'] = firm_gd['區域代碼'].astype(str).map(lambda x:x[0:6])\n",
    "firm_gd = pd.merge(firm_gd,city_code,left_on='區域代碼_str',right_on='代碼_str',how='left')\n",
    "firm_gd['名稱'].fillna('',inplace=True)\n",
    "firm_gd['市級'].fillna('',inplace=True)\n",
    "firm_gd['省份'].fillna('',inplace=True)\n",
    "firm_gd['地址'].fillna('',inplace=True)\n",
    "firm_gd['地址'] = firm_gd['地址'].map(lambda x:re.sub(r\"\\s+\", \"\",x))\n",
    "firm_gd['地址'] = firm_gd.apply(lambda x:re.sub(x['省份'],\"\",x['地址']),axis=1)\n",
    "firm_gd['地址'] = firm_gd.apply(lambda x:re.sub(x['市級'],\"\",x['地址']),axis=1)\n",
    "firm_gd['地址'] = firm_gd.apply(lambda x:re.sub(x['名稱'],\"\",x['地址']),axis=1)\n",
    "firm_gd['地址'] = firm_gd['省份']+firm_gd['市級']+firm_gd['名稱']+firm_gd['地址']\n",
    "firm_gd.drop(['省份','市級','名稱','代碼_str'],axis=1,inplace=True)\n",
    "firm_gd.dropna(subset=['企業名稱'],inplace=True)"
   ]
  },
  {
   "cell_type": "code",
   "execution_count": 4,
   "metadata": {},
   "outputs": [],
   "source": [
    "patent_df_firm = patent_df_firm[patent_df_firm['申请日']>datetime.datetime.strptime('2007-12-31','%Y-%m-%d')]\n",
    "incoPat = list(patent_df_firm['申请人'])"
   ]
  },
  {
   "cell_type": "code",
   "execution_count": 5,
   "metadata": {},
   "outputs": [
    {
     "data": {
      "text/plain": [
       "(2158, 38)"
      ]
     },
     "execution_count": 5,
     "metadata": {},
     "output_type": "execute_result"
    }
   ],
   "source": [
    "patent_df_firm.shape"
   ]
  },
  {
   "cell_type": "code",
   "execution_count": 6,
   "metadata": {},
   "outputs": [
    {
     "data": {
      "text/plain": [
       "(3024, 6)"
      ]
     },
     "execution_count": 6,
     "metadata": {},
     "output_type": "execute_result"
    }
   ],
   "source": [
    "firm_gd.shape"
   ]
  },
  {
   "cell_type": "code",
   "execution_count": 7,
   "metadata": {},
   "outputs": [],
   "source": [
    "firm_gd['name_模糊比對'] = firm_gd['企業名稱'].map(lambda x:fuzzy(incoPat,x))"
   ]
  },
  {
   "cell_type": "code",
   "execution_count": 8,
   "metadata": {},
   "outputs": [],
   "source": [
    "firm_gd.to_excel(r'E:\\paper\\清理結果-新型&授權\\雲南_廠商.xlsx')"
   ]
  },
  {
   "cell_type": "markdown",
   "metadata": {},
   "source": [
    "# 非模糊比對"
   ]
  },
  {
   "cell_type": "code",
   "execution_count": 9,
   "metadata": {},
   "outputs": [
    {
     "name": "stdout",
     "output_type": "stream",
     "text": [
      "(499, 45)\n",
      "(4683, 45)\n"
     ]
    }
   ],
   "source": [
    "merge_df = firm_gd.merge(patent_df_firm,left_on='企業名稱',right_on='申请人',how='outer')\n",
    "merge_df.fillna('',inplace=True)\n",
    "print(merge_df[(merge_df['企業名稱']!='')&(merge_df['申请人']!='')].shape)\n",
    "print(merge_df.shape)"
   ]
  },
  {
   "cell_type": "code",
   "execution_count": 10,
   "metadata": {
    "collapsed": true
   },
   "outputs": [
    {
     "name": "stdout",
     "output_type": "stream",
     "text": [
      "(1210, 50)\n",
      "(3636, 50)\n"
     ]
    },
    {
     "name": "stderr",
     "output_type": "stream",
     "text": [
      "D:\\Anaconda\\lib\\site-packages\\pandas\\core\\strings.py:1843: UserWarning: This pattern has match groups. To actually get the groups, use str.extract.\n",
      "  return func(self, *args, **kwargs)\n",
      "D:\\Anaconda\\lib\\site-packages\\ipykernel_launcher.py:4: SettingWithCopyWarning: \n",
      "A value is trying to be set on a copy of a slice from a DataFrame.\n",
      "Try using .loc[row_indexer,col_indexer] = value instead\n",
      "\n",
      "See the caveats in the documentation: http://pandas.pydata.org/pandas-docs/stable/user_guide/indexing.html#returning-a-view-versus-a-copy\n",
      "  after removing the cwd from sys.path.\n",
      "D:\\Anaconda\\lib\\site-packages\\ipykernel_launcher.py:5: SettingWithCopyWarning: \n",
      "A value is trying to be set on a copy of a slice from a DataFrame.\n",
      "Try using .loc[row_indexer,col_indexer] = value instead\n",
      "\n",
      "See the caveats in the documentation: http://pandas.pydata.org/pandas-docs/stable/user_guide/indexing.html#returning-a-view-versus-a-copy\n",
      "  \"\"\"\n",
      "D:\\Anaconda\\lib\\site-packages\\pandas\\core\\indexing.py:376: SettingWithCopyWarning: \n",
      "A value is trying to be set on a copy of a slice from a DataFrame.\n",
      "Try using .loc[row_indexer,col_indexer] = value instead\n",
      "\n",
      "See the caveats in the documentation: http://pandas.pydata.org/pandas-docs/stable/user_guide/indexing.html#returning-a-view-versus-a-copy\n",
      "  self.obj[key] = _infer_fill_value(value)\n",
      "D:\\Anaconda\\lib\\site-packages\\pandas\\core\\indexing.py:494: SettingWithCopyWarning: \n",
      "A value is trying to be set on a copy of a slice from a DataFrame.\n",
      "Try using .loc[row_indexer,col_indexer] = value instead\n",
      "\n",
      "See the caveats in the documentation: http://pandas.pydata.org/pandas-docs/stable/user_guide/indexing.html#returning-a-view-versus-a-copy\n",
      "  self.obj[item] = s\n"
     ]
    }
   ],
   "source": [
    "merge_df['name'] = merge_df.apply(lambda x:x['申请人'] if x['申请人']!='' else x['企業名稱'],axis=1)\n",
    "merge_df['address'] = merge_df.apply(lambda x:x['申请人地址'] if x['申请人地址']!='' else x['地址'],axis=1)\n",
    "merge_df_clean = merge_df[merge_df['address'].str.contains(r'\\w+(街|道|路|巷|村|小区|园区|社区)')]\n",
    "merge_df_clean['address'] = merge_df_clean['address'].map(lambda x: x+'号' if ((x[-1].isdigit()) and (re.match(r'\\w+[街道路巷]',x))) else x)\n",
    "merge_df_clean['完整地址'] = merge_df_clean['address'].map(lambda x:1 if re.compile(r'\\w+[街道路巷]\\S+号').search(x) else 0)\n",
    "merge_df_clean.loc[:,'lat'] = 0\n",
    "merge_df_clean.loc[:,'lnt'] = 0\n",
    "print(merge_df_clean[merge_df_clean['完整地址']==1].shape)\n",
    "print(merge_df_clean.shape)"
   ]
  },
  {
   "cell_type": "code",
   "execution_count": 11,
   "metadata": {},
   "outputs": [],
   "source": [
    "merge_df_clean.to_excel(r'E:\\paper\\清理結果-新型&授權\\雲南_結果.xlsx')"
   ]
  },
  {
   "cell_type": "markdown",
   "metadata": {},
   "source": [
    "# merge舊資料"
   ]
  },
  {
   "cell_type": "code",
   "execution_count": 4,
   "metadata": {},
   "outputs": [
    {
     "name": "stdout",
     "output_type": "stream",
     "text": [
      "(251, 44)\n",
      "(3652, 44)\n",
      "(804, 49)\n",
      "(3652, 49)\n"
     ]
    }
   ],
   "source": [
    "merge_df = firm_gd.merge(patent_df_firm,left_on='企業名稱',right_on='申请人',how='outer')\n",
    "merge_df.fillna('',inplace=True)\n",
    "print(merge_df[(merge_df['企業名稱']!='')&(merge_df['申请人']!='')].shape)\n",
    "print(merge_df.shape)\n",
    "merge_df['name'] = merge_df.apply(lambda x:x['申请人'] if x['申请人']!='' else x['企業名稱'],axis=1)\n",
    "merge_df['address'] = merge_df.apply(lambda x:x['申请人地址'] if x['申请人地址']!='' else x['地址'],axis=1)\n",
    "merge_df = merge_df[merge_df['address']!='']\n",
    "merge_df_clean = merge_df\n",
    "merge_df_clean['address'] = merge_df_clean['address'].map(lambda x: x+'号' if ((x[-1].isdigit()) and (re.match(r'\\w+[街道路巷]',x))) else x)\n",
    "merge_df_clean['完整地址'] = merge_df_clean['address'].map(lambda x:1 if re.compile(r'\\w+[街道路巷]\\S+号').search(x) else 0)\n",
    "merge_df_clean.loc[:,'lat'] = 0\n",
    "merge_df_clean.loc[:,'lnt'] = 0\n",
    "print(merge_df_clean[merge_df_clean['完整地址']==1].shape)\n",
    "print(merge_df_clean.shape)"
   ]
  },
  {
   "cell_type": "code",
   "execution_count": 5,
   "metadata": {},
   "outputs": [
    {
     "data": {
      "text/plain": [
       "Index(['Unnamed: 0', '法人代碼', '企業名稱', '地址', '區域代碼', '行業代碼', '區域代碼_str',\n",
       "       'name_模糊比對', 'CPC', 'IPC', 'inpadoc同族', 'inpadoc同族个数', '专利寿命（月）',\n",
       "       '专利类型', '中国申请人区县', '中国申请人地市', '优先权信息', '公开国别', '公开（公告）号', '公开（公告）日',\n",
       "       '发明人', '合享价值度', '同族国家', '失效日', '序号', '引证专利', '引证科技文献', '扩展同族', '扩展同族个数',\n",
       "       '文献页数', '权利要求数量', '标准化申请人', '标题', '申请人', '申请人国别代码', '申请人地址', '申请人省市代码',\n",
       "       '申请人类型', '申请号', '申请日', '简单同族', '简单同族个数', '被引证专利', '被引证国别(forward)',\n",
       "       '被引证次数', '链接到incoPat', 'name', 'address', '完整地址', 'lat', 'lnt', '昆明',\n",
       "       '玉溪', '專利數', '早期園區', '近期園區'],\n",
       "      dtype='object')"
      ]
     },
     "execution_count": 5,
     "metadata": {},
     "output_type": "execute_result"
    }
   ],
   "source": [
    "done_data = pd.read_excel(r'E:\\paper\\清理結果-園區內外\\雲南_結果.xlsx')\n",
    "done_data.columns"
   ]
  },
  {
   "cell_type": "code",
   "execution_count": 6,
   "metadata": {},
   "outputs": [
    {
     "data": {
      "text/plain": [
       "(1013, 54)"
      ]
     },
     "execution_count": 6,
     "metadata": {},
     "output_type": "execute_result"
    }
   ],
   "source": [
    "merge_df_clean.drop(['lat','lnt'],axis=1,inplace=True)\n",
    "merge_df_clean = merge_df_clean.merge(done_data[['name','lat','lnt','昆明','玉溪','專利數','早期園區','近期園區']],left_on='name',right_on='name',how='left')\n",
    "merge_df_clean['lat'].fillna('',inplace=True)\n",
    "merge_df_clean[merge_df_clean['lat']==''].shape"
   ]
  },
  {
   "cell_type": "code",
   "execution_count": 7,
   "metadata": {},
   "outputs": [],
   "source": [
    "merge_df_clean.to_excel(r'E:\\paper\\清理結果-新\\雲南_結果.xlsx')"
   ]
  },
  {
   "cell_type": "markdown",
   "metadata": {},
   "source": [
    "# 模糊比對"
   ]
  },
  {
   "cell_type": "code",
   "execution_count": 12,
   "metadata": {},
   "outputs": [
    {
     "name": "stdout",
     "output_type": "stream",
     "text": [
      "(524, 45)\n",
      "(4641, 45)\n"
     ]
    }
   ],
   "source": [
    "merge_df_fuzzy = firm_gd.merge(patent_df_firm,left_on='name_模糊比對',right_on='申请人',how='outer')\n",
    "merge_df_fuzzy.fillna('',inplace=True)\n",
    "merge_df_fuzzy.drop_duplicates(['name_模糊比對','申请人'], keep='last', inplace=True)\n",
    "print(merge_df_fuzzy[(merge_df_fuzzy['申请人']!='')&(merge_df_fuzzy['企業名稱']!='')].shape)\n",
    "print(merge_df_fuzzy.shape)"
   ]
  },
  {
   "cell_type": "code",
   "execution_count": 13,
   "metadata": {},
   "outputs": [
    {
     "name": "stdout",
     "output_type": "stream",
     "text": [
      "(1200, 50)\n",
      "(3606, 50)\n"
     ]
    },
    {
     "name": "stderr",
     "output_type": "stream",
     "text": [
      "D:\\Anaconda\\lib\\site-packages\\ipykernel_launcher.py:4: SettingWithCopyWarning: \n",
      "A value is trying to be set on a copy of a slice from a DataFrame.\n",
      "Try using .loc[row_indexer,col_indexer] = value instead\n",
      "\n",
      "See the caveats in the documentation: http://pandas.pydata.org/pandas-docs/stable/user_guide/indexing.html#returning-a-view-versus-a-copy\n",
      "  after removing the cwd from sys.path.\n",
      "D:\\Anaconda\\lib\\site-packages\\ipykernel_launcher.py:5: SettingWithCopyWarning: \n",
      "A value is trying to be set on a copy of a slice from a DataFrame.\n",
      "Try using .loc[row_indexer,col_indexer] = value instead\n",
      "\n",
      "See the caveats in the documentation: http://pandas.pydata.org/pandas-docs/stable/user_guide/indexing.html#returning-a-view-versus-a-copy\n",
      "  \"\"\"\n"
     ]
    }
   ],
   "source": [
    "merge_df_fuzzy['name'] = merge_df_fuzzy.apply(lambda x:x['申请人'] if x['申请人']!='' else x['企業名稱'],axis=1)\n",
    "merge_df_fuzzy['address'] = merge_df_fuzzy.apply(lambda x:x['申请人地址'] if x['申请人地址']!='' else x['地址'],axis=1)\n",
    "merge_df_fuzzy_clean = merge_df_fuzzy[merge_df_fuzzy['address'].str.contains(r'\\w+(街|道|路|巷|村|小区|园区|社区)')]\n",
    "merge_df_fuzzy_clean['address'] = merge_df_fuzzy_clean['address'].map(lambda x: x+'号' if ((x[-1].isdigit()) and (re.match(r'\\w+[街道路巷]',x))) else x)\n",
    "merge_df_fuzzy_clean['完整地址'] = merge_df_fuzzy_clean['address'].map(lambda x:1 if re.compile(r'\\w+[街道路巷]\\S+号').search(x) else 0)\n",
    "merge_df_fuzzy_clean.loc[:,'lat'] = 0\n",
    "merge_df_fuzzy_clean.loc[:,'lnt'] = 0\n",
    "print(merge_df_fuzzy_clean[merge_df_fuzzy_clean['完整地址']==1].shape)\n",
    "print(merge_df_fuzzy_clean.shape)"
   ]
  },
  {
   "cell_type": "code",
   "execution_count": 14,
   "metadata": {},
   "outputs": [],
   "source": [
    "merge_df_fuzzy_clean.to_excel(r'E:\\paper\\清理結果-新型&授權\\雲南_模糊結果.xlsx')"
   ]
  },
  {
   "cell_type": "markdown",
   "metadata": {},
   "source": [
    "# 定位"
   ]
  },
  {
   "cell_type": "code",
   "execution_count": 2,
   "metadata": {},
   "outputs": [],
   "source": [
    "merge_df_clean = pd.read_excel(r'E:\\paper\\清理結果-新型&授權\\雲南_結果.xlsx',index_col=0)"
   ]
  },
  {
   "cell_type": "code",
   "execution_count": 3,
   "metadata": {},
   "outputs": [
    {
     "data": {
      "text/plain": [
       "(1013, 54)"
      ]
     },
     "execution_count": 3,
     "metadata": {},
     "output_type": "execute_result"
    }
   ],
   "source": [
    "merge_df_clean = pd.read_excel(r'E:\\paper\\清理結果-新\\雲南_結果.xlsx',index_col=0)\n",
    "merge_df_clean.fillna('',inplace=True)\n",
    "merge_df_clean[merge_df_clean['lat']==''].shape"
   ]
  },
  {
   "cell_type": "code",
   "execution_count": 4,
   "metadata": {},
   "outputs": [],
   "source": [
    "for i in merge_df_clean[merge_df_clean['lat']==''].index:\n",
    "    address = merge_df_clean.loc[i,'address']\n",
    "    g = getGeoForAddress(address)\n",
    "    merge_df_clean.loc[i,'lat'] = g[0]\n",
    "    merge_df_clean.loc[i,'lnt'] = g[1]"
   ]
  },
  {
   "cell_type": "code",
   "execution_count": 5,
   "metadata": {},
   "outputs": [
    {
     "name": "stdout",
     "output_type": "stream",
     "text": [
      "(3652, 54)\n",
      "(62, 54)\n"
     ]
    }
   ],
   "source": [
    "print(merge_df_clean.shape)\n",
    "print(merge_df_clean[merge_df_clean['lat']==''].shape)"
   ]
  },
  {
   "cell_type": "code",
   "execution_count": 6,
   "metadata": {},
   "outputs": [],
   "source": [
    "merge_df_clean.to_excel(r'E:\\paper\\清理結果-新\\雲南_結果.xlsx')"
   ]
  },
  {
   "cell_type": "markdown",
   "metadata": {},
   "source": [
    "# 作圖"
   ]
  },
  {
   "cell_type": "code",
   "execution_count": 7,
   "metadata": {},
   "outputs": [],
   "source": [
    "from geopy.distance import geodesic\n",
    "def how_far(a,b):\n",
    "    try:\n",
    "        return geodesic(a,b).kilometers\n",
    "    except:\n",
    "        return np.nan\n",
    "applicant = patent_df['申请人'].str.split(';',expand=True).stack().reset_index(level=1,drop=True).rename('申请人2')\n",
    "applicant = applicant.map(lambda x:x.strip())\n",
    "patent_df_new = patent_df.join(applicant)\n",
    "patent_count = patent_df_new.groupby('申请人2')['标题'].count().rename('專利數')"
   ]
  },
  {
   "cell_type": "code",
   "execution_count": 8,
   "metadata": {},
   "outputs": [
    {
     "data": {
      "text/plain": [
       "申请人2\n",
       "一汽红塔云南汽车制造有限公司               1\n",
       "李欣蓉                          1\n",
       "李檬                           1\n",
       "李桑犁                          1\n",
       "李树鹏                          1\n",
       "                          ... \n",
       "云南电力试验研究院(集团)有限公司电力研究院     488\n",
       "云南农业大学                     593\n",
       "云南大学                       610\n",
       "武钢集团昆明钢铁股份有限公司             663\n",
       "昆明理工大学                    6758\n",
       "Name: 專利數, Length: 8945, dtype: int64"
      ]
     },
     "execution_count": 8,
     "metadata": {},
     "output_type": "execute_result"
    }
   ],
   "source": [
    "patent_count.sort_values()"
   ]
  },
  {
   "cell_type": "code",
   "execution_count": 5,
   "metadata": {},
   "outputs": [],
   "source": [
    "merge_df = pd.read_excel(r'E:\\paper\\清理結果-新型&授權\\雲南_結果.xlsx',index_col=0)\n",
    "target1 = (25.04702,102.6617)\n",
    "merge_df['昆明'] = merge_df.apply(lambda x:how_far(target1,(x['lat'],x['lnt'])),axis=1)\n",
    "target2 = (24.3417,102.53993)\n",
    "merge_df['玉溪'] = merge_df.apply(lambda x:how_far(target2,(x['lat'],x['lnt'])),axis=1)\n",
    "merge_df = merge_df.merge(patent_count,left_on='name',right_on='申请人2',how='left')\n",
    "merge_df['專利數'].fillna(0,inplace=True)"
   ]
  },
  {
   "cell_type": "code",
   "execution_count": 10,
   "metadata": {},
   "outputs": [],
   "source": [
    "merge_df = pd.read_excel(r'E:\\paper\\清理結果-新\\雲南_結果.xlsx',index_col=0)\n",
    "merge_df.fillna('',inplace=True)\n",
    "merge_df.drop('專利數',axis=1,inplace=True)\n",
    "target1 = (25.04702,102.6617)\n",
    "target2 = (24.3417,102.53993)\n",
    "\n",
    "for i in merge_df[merge_df['昆明']==''].index:\n",
    "    merge_df.loc[i,'昆明'] = how_far(target1,(merge_df.loc[i,'lat'],merge_df.loc[i,'lnt']))\n",
    "    merge_df.loc[i,'玉溪'] = how_far(target2,(merge_df.loc[i,'lat'],merge_df.loc[i,'lnt']))\n",
    "merge_df = merge_df.merge(patent_count,left_on='name',right_on='申请人2',how='left')\n",
    "merge_df['專利數'].fillna(0,inplace=True)"
   ]
  },
  {
   "cell_type": "code",
   "execution_count": 11,
   "metadata": {},
   "outputs": [],
   "source": [
    "merge_df['早期園區'] = merge_df.apply(lambda x:1 if (x['昆明']<10) else 0,axis=1)\n",
    "merge_df['近期園區'] = merge_df.apply(lambda x:1 if (x['玉溪']<10) else 0,axis=1)"
   ]
  },
  {
   "cell_type": "code",
   "execution_count": 12,
   "metadata": {},
   "outputs": [],
   "source": [
    "merge_df.to_excel(r'E:\\paper\\清理結果-新園區內外\\雲南_結果.xlsx')"
   ]
  },
  {
   "cell_type": "code",
   "execution_count": 13,
   "metadata": {},
   "outputs": [
    {
     "name": "stdout",
     "output_type": "stream",
     "text": [
      "(3652, 54)\n",
      "0.671960569550931\n",
      "0.004928806133625411\n"
     ]
    }
   ],
   "source": [
    "print(merge_df.shape)\n",
    "print(len(merge_df[merge_df['專利數']==0]['專利數'])/len(merge_df['專利數']))\n",
    "print(len(merge_df[merge_df['專利數']>=100]['專利數'])/len(merge_df['專利數']))"
   ]
  },
  {
   "cell_type": "code",
   "execution_count": 14,
   "metadata": {
    "scrolled": true
   },
   "outputs": [
    {
     "data": {
      "text/plain": [
       "專利數\n",
       "0.0      2454\n",
       "1.0       239\n",
       "2.0       146\n",
       "3.0       101\n",
       "4.0        76\n",
       "5.0        62\n",
       "6.0        66\n",
       "7.0        59\n",
       "8.0        49\n",
       "9.0        41\n",
       "10.0       39\n",
       "11.0       19\n",
       "12.0       25\n",
       "13.0       19\n",
       "14.0       25\n",
       "15.0       18\n",
       "16.0       17\n",
       "17.0       17\n",
       "18.0       13\n",
       "19.0        9\n",
       "20.0       12\n",
       "21.0       13\n",
       "22.0        2\n",
       "23.0        5\n",
       "24.0        6\n",
       "25.0        3\n",
       "26.0        6\n",
       "27.0        2\n",
       "28.0        6\n",
       "29.0        2\n",
       "30.0        5\n",
       "31.0        2\n",
       "32.0        4\n",
       "33.0        3\n",
       "34.0        3\n",
       "35.0        5\n",
       "36.0        1\n",
       "37.0        4\n",
       "38.0        1\n",
       "39.0        3\n",
       "40.0        2\n",
       "42.0        3\n",
       "43.0        2\n",
       "44.0        2\n",
       "45.0        2\n",
       "46.0        4\n",
       "47.0        1\n",
       "48.0        1\n",
       "49.0        1\n",
       "50.0        2\n",
       "51.0        1\n",
       "52.0        1\n",
       "53.0        2\n",
       "54.0        4\n",
       "56.0        2\n",
       "58.0        1\n",
       "62.0        1\n",
       "64.0        1\n",
       "70.0        1\n",
       "71.0        3\n",
       "72.0        1\n",
       "75.0        1\n",
       "77.0        1\n",
       "78.0        1\n",
       "79.0        1\n",
       "80.0        1\n",
       "81.0        1\n",
       "82.0        2\n",
       "86.0        2\n",
       "88.0        1\n",
       "95.0        1\n",
       "96.0        1\n",
       "97.0        1\n",
       "121.0       1\n",
       "122.0       2\n",
       "128.0       1\n",
       "130.0       1\n",
       "131.0       1\n",
       "135.0       1\n",
       "139.0       1\n",
       "149.0       1\n",
       "150.0       1\n",
       "170.0       1\n",
       "172.0       1\n",
       "210.0       1\n",
       "397.0       1\n",
       "402.0       1\n",
       "483.0       1\n",
       "488.0       1\n",
       "663.0       1\n",
       "Name: IPC, dtype: int64"
      ]
     },
     "execution_count": 14,
     "metadata": {},
     "output_type": "execute_result"
    }
   ],
   "source": [
    "merge_df.groupby('專利數')['IPC'].count()"
   ]
  },
  {
   "cell_type": "code",
   "execution_count": 15,
   "metadata": {},
   "outputs": [
    {
     "data": {
      "text/plain": [
       "專利數\n",
       "0.0     47\n",
       "1.0      4\n",
       "2.0      2\n",
       "3.0      1\n",
       "4.0      1\n",
       "7.0      1\n",
       "8.0      2\n",
       "9.0      1\n",
       "10.0     2\n",
       "15.0     1\n",
       "Name: IPC, dtype: int64"
      ]
     },
     "execution_count": 15,
     "metadata": {},
     "output_type": "execute_result"
    }
   ],
   "source": [
    "merge_df[merge_df['lat']==''].groupby('專利數')['IPC'].count()"
   ]
  },
  {
   "cell_type": "code",
   "execution_count": 16,
   "metadata": {},
   "outputs": [
    {
     "data": {
      "text/plain": [
       "Text(0, 0.5, '無法定位廠商數量')"
      ]
     },
     "execution_count": 16,
     "metadata": {},
     "output_type": "execute_result"
    },
    {
     "data": {
      "image/png": "[encoded data removed]",
      "text/plain": [
       "<Figure size 432x288 with 2 Axes>"
      ]
     },
     "metadata": {
      "needs_background": "light"
     },
     "output_type": "display_data"
    }
   ],
   "source": [
    "from matplotlib.font_manager import FontProperties\n",
    "myfont = FontProperties(fname=r'C:\\Windows\\Fonts\\msjhbd.ttc')\n",
    "fig = plt.figure()\n",
    "ax1 = fig.add_subplot(111)\n",
    "ax1.plot(merge_df[merge_df['lat']!=0].groupby('專利數')['IPC'].count().index,merge_df[merge_df['lat']!=0].groupby('專利數')['IPC'].count())\n",
    "ax1.set_title('雲南',fontproperties=myfont,fontsize=15)\n",
    "ax1.set_ylabel('廠商數量',fontproperties=myfont)\n",
    "ax1.set_xlabel('專利數量',fontproperties=myfont)\n",
    "ax1.set_xlim([0,100])\n",
    "ax1.set_ylim([0,300])\n",
    "ax2 = ax1.twinx()\n",
    "ax2.bar(merge_df[merge_df['lat']==''].groupby('專利數')['IPC'].count().index,merge_df[merge_df['lat']==''].groupby('專利數')['IPC'].count(),color='red')\n",
    "ax2.set_ylim([0,20])\n",
    "ax2.set_ylabel('無法定位廠商數量',fontproperties=myfont)\n"
   ]
  },
  {
   "cell_type": "code",
   "execution_count": 2,
   "metadata": {},
   "outputs": [
    {
     "name": "stdout",
     "output_type": "stream",
     "text": [
      "594\n",
      "0.16661991584852734\n",
      "6\n"
     ]
    }
   ],
   "source": [
    "region = pd.read_excel(r'E:\\paper\\清理結果-新園區內外\\雲南_結果.xlsx',index_col=0)\n",
    "region.fillna('',inplace=True)\n",
    "corptype = ['有限','责任','集团','股份','控股','总公司','分公司','公司']\n",
    "region['name_clean'] = region['name']\n",
    "for k in corptype:\n",
    "    region['name_clean'] = region['name_clean'].map(lambda x:re.sub(k,'',x))\n",
    "region['name_clean'] = region['name_clean'].map(lambda x:re.sub(r'\\(.*?\\)','',x))\n",
    "region['name_clean'] = region['name_clean'].map(lambda x:re.sub(r'\\（.*?\\）','',x))\n",
    "region['name_clean'] = region['name_clean'].map(lambda x:re.sub(r'\\(.*?\\）','',x))\n",
    "region['name_clean'] = region['name_clean'].map(lambda x:re.sub(r'\\（.*?\\)','',x))\n",
    "region['name_clean'] = region['name_clean'].map(lambda x:re.sub(r'[\\s+-─]','',x))\n",
    "clean = region[region.duplicated(['name_clean'],keep=False)].sort_values(by=['企業名稱'])\n",
    "patents = clean.groupby('name_clean')['專利數'].sum()\n",
    "final = clean.drop('專利數',axis=1).merge(patents,left_on='name_clean',right_on='name_clean',how='left')\n",
    "final.drop_duplicates(['name_clean'],keep='last',inplace=True)\n",
    "region.drop_duplicates(['name_clean'],keep=False,inplace=True)\n",
    "cleaned = pd.concat([region,final],ignore_index=True,sort=False)\n",
    "located = cleaned[cleaned['lat']!='']\n",
    "not_merge = located[located['企業名稱']=='']\n",
    "print(len(not_merge['專利數']))\n",
    "print(len(not_merge['專利數'])/len(located['專利數']))\n",
    "print(len(not_merge[not_merge['專利數']>100]['專利數']))"
   ]
  },
  {
   "cell_type": "code",
   "execution_count": 3,
   "metadata": {
    "scrolled": true
   },
   "outputs": [
    {
     "data": {
      "text/plain": [
       "專利數\n",
       "1      160\n",
       "2       92\n",
       "3       56\n",
       "4       41\n",
       "5       32\n",
       "6       29\n",
       "7       19\n",
       "8       22\n",
       "9       14\n",
       "10      13\n",
       "11       6\n",
       "12       9\n",
       "13       7\n",
       "14       8\n",
       "15       9\n",
       "16       9\n",
       "17      10\n",
       "18       3\n",
       "19       4\n",
       "20       4\n",
       "21       6\n",
       "22       1\n",
       "23       3\n",
       "24       3\n",
       "26       2\n",
       "27       1\n",
       "28       2\n",
       "30       2\n",
       "31       1\n",
       "32       1\n",
       "33       1\n",
       "35       1\n",
       "36       1\n",
       "37       1\n",
       "39       1\n",
       "40       1\n",
       "45       2\n",
       "46       2\n",
       "49       1\n",
       "54       1\n",
       "56       1\n",
       "64       1\n",
       "70       1\n",
       "78       1\n",
       "79       1\n",
       "82       1\n",
       "86       1\n",
       "121      1\n",
       "122      1\n",
       "131      1\n",
       "150      1\n",
       "483      1\n",
       "488      1\n",
       "Name: IPC, dtype: int64"
      ]
     },
     "execution_count": 3,
     "metadata": {},
     "output_type": "execute_result"
    }
   ],
   "source": [
    "not_merge.groupby('專利數')['IPC'].count()"
   ]
  },
  {
   "cell_type": "code",
   "execution_count": 4,
   "metadata": {},
   "outputs": [
    {
     "data": {
      "text/html": [
       "<div>\n",
       "<style scoped>\n",
       "    .dataframe tbody tr th:only-of-type {\n",
       "        vertical-align: middle;\n",
       "    }\n",
       "\n",
       "    .dataframe tbody tr th {\n",
       "        vertical-align: top;\n",
       "    }\n",
       "\n",
       "    .dataframe thead th {\n",
       "        text-align: right;\n",
       "    }\n",
       "</style>\n",
       "<table border=\"1\" class=\"dataframe\">\n",
       "  <thead>\n",
       "    <tr style=\"text-align: right;\">\n",
       "      <th></th>\n",
       "      <th>法人代碼</th>\n",
       "      <th>企業名稱</th>\n",
       "      <th>地址</th>\n",
       "      <th>區域代碼</th>\n",
       "      <th>行業代碼</th>\n",
       "      <th>區域代碼_str</th>\n",
       "      <th>CPC</th>\n",
       "      <th>IPC</th>\n",
       "      <th>inpadoc同族</th>\n",
       "      <th>inpadoc同族个数</th>\n",
       "      <th>专利寿命（月）</th>\n",
       "      <th>专利类型</th>\n",
       "      <th>中国申请人区县</th>\n",
       "      <th>中国申请人地市</th>\n",
       "      <th>优先权信息</th>\n",
       "      <th>公开国别</th>\n",
       "      <th>公开（公告）号</th>\n",
       "      <th>公开（公告）日</th>\n",
       "      <th>发明人</th>\n",
       "      <th>合享价值度</th>\n",
       "      <th>同族国家</th>\n",
       "      <th>失效日</th>\n",
       "      <th>序号</th>\n",
       "      <th>引证专利</th>\n",
       "      <th>引证科技文献</th>\n",
       "      <th>...</th>\n",
       "      <th>标题</th>\n",
       "      <th>申请人国别代码</th>\n",
       "      <th>申请人地址</th>\n",
       "      <th>申请人省市代码</th>\n",
       "      <th>申请人类型</th>\n",
       "      <th>申请号</th>\n",
       "      <th>申请日</th>\n",
       "      <th>简单同族</th>\n",
       "      <th>简单同族个数</th>\n",
       "      <th>被引证专利</th>\n",
       "      <th>被引证国别(forward)</th>\n",
       "      <th>被引证次数</th>\n",
       "      <th>链接到incoPat</th>\n",
       "      <th>申请人</th>\n",
       "      <th>name</th>\n",
       "      <th>address</th>\n",
       "      <th>完整地址</th>\n",
       "      <th>lat</th>\n",
       "      <th>lnt</th>\n",
       "      <th>昆明</th>\n",
       "      <th>玉溪</th>\n",
       "      <th>早期園區</th>\n",
       "      <th>近期園區</th>\n",
       "      <th>專利數</th>\n",
       "      <th>name_clean</th>\n",
       "    </tr>\n",
       "  </thead>\n",
       "  <tbody>\n",
       "    <tr>\n",
       "      <td>3389</td>\n",
       "      <td></td>\n",
       "      <td></td>\n",
       "      <td></td>\n",
       "      <td></td>\n",
       "      <td></td>\n",
       "      <td></td>\n",
       "      <td></td>\n",
       "      <td>A24B3/18; A24B3/04</td>\n",
       "      <td>CN102488314A; CN102488314B</td>\n",
       "      <td>2</td>\n",
       "      <td>0</td>\n",
       "      <td>发明授权</td>\n",
       "      <td>[大理]</td>\n",
       "      <td>[大理]</td>\n",
       "      <td></td>\n",
       "      <td>CN</td>\n",
       "      <td>CN102488314B</td>\n",
       "      <td>2014-04-30 00:00:00</td>\n",
       "      <td>苏国寿; 谢昆或; 杨煜文; 杨学良; 赵宏洲</td>\n",
       "      <td>9</td>\n",
       "      <td>CN</td>\n",
       "      <td></td>\n",
       "      <td>12783</td>\n",
       "      <td>CN101218987A; CN2347420Y; CN101601502A; CN1698481A</td>\n",
       "      <td>&lt;text&gt;吴文强等.梗丝在线膨胀技术与设备研究进展.《农产品加工(学刊)》.2011, (第11期), 第138页.&lt;/text&gt;</td>\n",
       "      <td>...</td>\n",
       "      <td>梗丝闪蒸膨化和滚筒干燥处理工艺</td>\n",
       "      <td>中国</td>\n",
       "      <td>云南省大理白族自治州大理市建设东路191号</td>\n",
       "      <td>云南; 53</td>\n",
       "      <td>企业</td>\n",
       "      <td>CN201110388575.1</td>\n",
       "      <td>2011-11-30 00:00:00</td>\n",
       "      <td>CN102488314B; CN102488314A</td>\n",
       "      <td>2</td>\n",
       "      <td></td>\n",
       "      <td></td>\n",
       "      <td>0</td>\n",
       "      <td>到incoPat中查看\\r\\nCN102488314B</td>\n",
       "      <td>红塔烟草(集团)有限责任公司大理卷烟厂</td>\n",
       "      <td>红塔烟草(集团)有限责任公司大理卷烟厂</td>\n",
       "      <td>云南省大理白族自治州大理市建设东路191号</td>\n",
       "      <td>1</td>\n",
       "      <td>25.5931</td>\n",
       "      <td>100.241</td>\n",
       "      <td>251.086347</td>\n",
       "      <td>270.334595</td>\n",
       "      <td>0</td>\n",
       "      <td>0</td>\n",
       "      <td>121</td>\n",
       "      <td>红塔烟草大理卷烟厂</td>\n",
       "    </tr>\n",
       "    <tr>\n",
       "      <td>3601</td>\n",
       "      <td></td>\n",
       "      <td></td>\n",
       "      <td></td>\n",
       "      <td></td>\n",
       "      <td></td>\n",
       "      <td></td>\n",
       "      <td></td>\n",
       "      <td>F16L25/00</td>\n",
       "      <td>CN103047492A; CN103047492B</td>\n",
       "      <td>2</td>\n",
       "      <td></td>\n",
       "      <td>发明授权</td>\n",
       "      <td>[盘龙]</td>\n",
       "      <td>[昆明]</td>\n",
       "      <td></td>\n",
       "      <td>CN</td>\n",
       "      <td>CN103047492B</td>\n",
       "      <td>2015-02-04 00:00:00</td>\n",
       "      <td>熊伟; 廖明宪; 舒晓菂; 郭立人</td>\n",
       "      <td>9</td>\n",
       "      <td>CN</td>\n",
       "      <td></td>\n",
       "      <td>7113</td>\n",
       "      <td>CN103047492A; CN101684878A; CN2773448Y; CN2070859U; SU1476235A1; US20120001418A1</td>\n",
       "      <td></td>\n",
       "      <td>...</td>\n",
       "      <td>一种气路对接结构</td>\n",
       "      <td>中国</td>\n",
       "      <td>云南省昆明市盘龙区人民东路3号</td>\n",
       "      <td>云南; 53</td>\n",
       "      <td>企业</td>\n",
       "      <td>CN201210584629.6</td>\n",
       "      <td>2012-12-30 00:00:00</td>\n",
       "      <td>CN103047492A; CN103047492B</td>\n",
       "      <td>2</td>\n",
       "      <td></td>\n",
       "      <td></td>\n",
       "      <td>0</td>\n",
       "      <td>View in incopat\\r\\nCN103047492B</td>\n",
       "      <td>中国船舶重工集团公司七五○试验场</td>\n",
       "      <td>中国船舶重工集团公司七五○试验场</td>\n",
       "      <td>云南省昆明市盘龙区人民东路3号</td>\n",
       "      <td>1</td>\n",
       "      <td>25.0424</td>\n",
       "      <td>102.72</td>\n",
       "      <td>5.944238</td>\n",
       "      <td>79.740011</td>\n",
       "      <td>1</td>\n",
       "      <td>0</td>\n",
       "      <td>122</td>\n",
       "      <td>中国船舶重工七五○试验场</td>\n",
       "    </tr>\n",
       "    <tr>\n",
       "      <td>3535</td>\n",
       "      <td></td>\n",
       "      <td></td>\n",
       "      <td></td>\n",
       "      <td></td>\n",
       "      <td></td>\n",
       "      <td></td>\n",
       "      <td></td>\n",
       "      <td>G01N21/78</td>\n",
       "      <td>CN102866154B; CN102866154A</td>\n",
       "      <td>2</td>\n",
       "      <td></td>\n",
       "      <td>发明授权</td>\n",
       "      <td>[武定]</td>\n",
       "      <td>[楚雄]</td>\n",
       "      <td></td>\n",
       "      <td>CN</td>\n",
       "      <td>CN102866154B</td>\n",
       "      <td>2015-04-22 00:00:00</td>\n",
       "      <td>邹捷; 杨小毅; 张健; 徐福昌; 郑立红</td>\n",
       "      <td>9</td>\n",
       "      <td>CN</td>\n",
       "      <td></td>\n",
       "      <td>5463</td>\n",
       "      <td>CN102323133A; CN101644678A; CN101718689A; US3966455A; US3912498A; US20070029527A1</td>\n",
       "      <td>&lt;text&gt;张勇.钛精矿(岩矿)化学分析方法 硫酸铁铵容量法测定二氧化钛含量.《矿业开采可行性分析研究与开采新模式及矿产品分析试验方法技术标准实用手册 第3卷》.2005, &lt;/text&gt;&lt;text&gt;中华人民共和国国家质量监督检验检疫总局.铁矿石 钛含量测定 硫酸铁铵滴定法.《EN/T 6730.23-2006, 铁矿石 钛含量测定 硫酸铁铵滴定法》.2006, &lt;/text&gt;&lt;text&gt;...</td>\n",
       "      <td>...</td>\n",
       "      <td>一种测定钛精矿中二氧化钛含量的方法</td>\n",
       "      <td>中国</td>\n",
       "      <td>云南省楚雄彝族自治州武定县狮山镇大平子新立有色金属有限公司武定钛业分公司</td>\n",
       "      <td>云南; 53</td>\n",
       "      <td>企业</td>\n",
       "      <td>CN201210388819.0</td>\n",
       "      <td>2012-10-13 00:00:00</td>\n",
       "      <td>CN102866154B; CN102866154A</td>\n",
       "      <td>2</td>\n",
       "      <td></td>\n",
       "      <td></td>\n",
       "      <td>0</td>\n",
       "      <td>View in incopat\\r\\nCN102866154B</td>\n",
       "      <td>云南新立有色金属有限公司</td>\n",
       "      <td>云南新立有色金属有限公司</td>\n",
       "      <td>云南省楚雄彝族自治州武定县狮山镇大平子新立有色金属有限公司武定钛业分公司</td>\n",
       "      <td>0</td>\n",
       "      <td>25.0288</td>\n",
       "      <td>102.632</td>\n",
       "      <td>3.614090</td>\n",
       "      <td>76.682066</td>\n",
       "      <td>1</td>\n",
       "      <td>0</td>\n",
       "      <td>131</td>\n",
       "      <td>云南新立有色金属</td>\n",
       "    </tr>\n",
       "    <tr>\n",
       "      <td>3585</td>\n",
       "      <td></td>\n",
       "      <td></td>\n",
       "      <td></td>\n",
       "      <td></td>\n",
       "      <td></td>\n",
       "      <td></td>\n",
       "      <td></td>\n",
       "      <td>E21B7/04</td>\n",
       "      <td>CN102979458B; CN102979458A</td>\n",
       "      <td>2</td>\n",
       "      <td>0</td>\n",
       "      <td>发明授权</td>\n",
       "      <td>[官渡]</td>\n",
       "      <td>[昆明]</td>\n",
       "      <td></td>\n",
       "      <td>CN</td>\n",
       "      <td>CN102979458B</td>\n",
       "      <td>2015-03-04 00:00:00</td>\n",
       "      <td>王涛; 钱宝聪; 程飞; 苏桂彬; 马岚; 焦战增; 杨睿; 郭福; 张朝刚; 陈小波; 王博; 唐建华; 王振兵; 徐汝俊; 王晓邦</td>\n",
       "      <td>7</td>\n",
       "      <td>CN</td>\n",
       "      <td></td>\n",
       "      <td>6659</td>\n",
       "      <td></td>\n",
       "      <td></td>\n",
       "      <td>...</td>\n",
       "      <td>一种岩壁梁斜面光爆凿孔导向定位装置</td>\n",
       "      <td>中国</td>\n",
       "      <td>云南省昆明市环城东路395号</td>\n",
       "      <td>云南; 53</td>\n",
       "      <td>企业</td>\n",
       "      <td>CN201210537948.1</td>\n",
       "      <td>2012-12-13 00:00:00</td>\n",
       "      <td>CN102979458A; CN102979458B</td>\n",
       "      <td>2</td>\n",
       "      <td></td>\n",
       "      <td></td>\n",
       "      <td>0</td>\n",
       "      <td>View in incopat\\r\\nCN102979458B</td>\n",
       "      <td>中国水利水电第十四工程局有限公司</td>\n",
       "      <td>中国水利水电第十四工程局有限公司</td>\n",
       "      <td>云南省昆明市环城东路395号</td>\n",
       "      <td>1</td>\n",
       "      <td>25.0364</td>\n",
       "      <td>102.734</td>\n",
       "      <td>7.413871</td>\n",
       "      <td>79.425366</td>\n",
       "      <td>1</td>\n",
       "      <td>0</td>\n",
       "      <td>150</td>\n",
       "      <td>中国水利水电第十四工程局</td>\n",
       "    </tr>\n",
       "    <tr>\n",
       "      <td>3598</td>\n",
       "      <td></td>\n",
       "      <td></td>\n",
       "      <td></td>\n",
       "      <td></td>\n",
       "      <td></td>\n",
       "      <td></td>\n",
       "      <td></td>\n",
       "      <td>F17D1/14; F17D5/00</td>\n",
       "      <td>CN103032676B; CN103032676A</td>\n",
       "      <td>2</td>\n",
       "      <td>0</td>\n",
       "      <td>发明授权</td>\n",
       "      <td>[新平]</td>\n",
       "      <td>[玉溪]</td>\n",
       "      <td></td>\n",
       "      <td>CN</td>\n",
       "      <td>CN103032676B</td>\n",
       "      <td>2015-10-28 00:00:00</td>\n",
       "      <td>普光跃; 张睿华; 张巍; 瞿承中; 黄朝兵; 李剑勇; 张翔; 马俊; 吴建德; 李霞</td>\n",
       "      <td>9</td>\n",
       "      <td>CN</td>\n",
       "      <td></td>\n",
       "      <td>3301</td>\n",
       "      <td>CN101581401A; CN201047491Y; CN201696869U; CN203068143U; US20100122738A1</td>\n",
       "      <td></td>\n",
       "      <td>...</td>\n",
       "      <td>一种无事故池的循环造浆系统</td>\n",
       "      <td>中国</td>\n",
       "      <td>云南省玉溪市新平县嘎洒镇嘎洒大道</td>\n",
       "      <td>云南; 53</td>\n",
       "      <td>企业</td>\n",
       "      <td>CN201210581020.3</td>\n",
       "      <td>2012-12-28 00:00:00</td>\n",
       "      <td>CN103032676A; CN103032676B</td>\n",
       "      <td>2</td>\n",
       "      <td></td>\n",
       "      <td></td>\n",
       "      <td>0</td>\n",
       "      <td>View in incopat\\r\\nCN103032676B</td>\n",
       "      <td>云南大红山管道有限公司</td>\n",
       "      <td>云南大红山管道有限公司</td>\n",
       "      <td>云南省玉溪市新平县嘎洒镇嘎洒大道</td>\n",
       "      <td>0</td>\n",
       "      <td>24.0437</td>\n",
       "      <td>101.581</td>\n",
       "      <td>155.985493</td>\n",
       "      <td>102.829900</td>\n",
       "      <td>0</td>\n",
       "      <td>0</td>\n",
       "      <td>483</td>\n",
       "      <td>云南大红山管道</td>\n",
       "    </tr>\n",
       "    <tr>\n",
       "      <td>3591</td>\n",
       "      <td></td>\n",
       "      <td></td>\n",
       "      <td></td>\n",
       "      <td></td>\n",
       "      <td></td>\n",
       "      <td></td>\n",
       "      <td></td>\n",
       "      <td>G01R35/04</td>\n",
       "      <td>CN103064054B; CN103064054A</td>\n",
       "      <td>2</td>\n",
       "      <td>48</td>\n",
       "      <td>发明授权</td>\n",
       "      <td>[官渡]</td>\n",
       "      <td>[昆明]</td>\n",
       "      <td></td>\n",
       "      <td>CN</td>\n",
       "      <td>CN103064054B</td>\n",
       "      <td>2015-09-30 00:00:00</td>\n",
       "      <td>曹敏; 毕志周; 沈鑫; 李波; 张建伟; 陈华波; 张海; 张龙</td>\n",
       "      <td>5</td>\n",
       "      <td>CN</td>\n",
       "      <td>2016-12-19 00:00:00</td>\n",
       "      <td>3447</td>\n",
       "      <td>CN101281693A; CN102353926A; CN201117146Y; CN201465381U; CN201812423U; CN201935972U; CN202134144U; CN202134154U; CN202196166U; CN2702320Y; US5831550A</td>\n",
       "      <td></td>\n",
       "      <td>...</td>\n",
       "      <td>电能计量装置仿真系统及其接线的矩阵控制方法</td>\n",
       "      <td>中国</td>\n",
       "      <td>云南省昆明市经济技术开发区云大西路中段云电科技园</td>\n",
       "      <td>云南; 53</td>\n",
       "      <td>企业</td>\n",
       "      <td>CN201210554746.8</td>\n",
       "      <td>2012-12-19 00:00:00</td>\n",
       "      <td>CN103064054B; CN103064054A</td>\n",
       "      <td>2</td>\n",
       "      <td></td>\n",
       "      <td></td>\n",
       "      <td>0</td>\n",
       "      <td>View in incopat\\r\\nCN103064054B</td>\n",
       "      <td>云南电力试验研究院(集团)有限公司电力研究院</td>\n",
       "      <td>云南电力试验研究院(集团)有限公司电力研究院</td>\n",
       "      <td>云南省昆明市经济技术开发区云大西路中段云电科技园</td>\n",
       "      <td>0</td>\n",
       "      <td>25.04</td>\n",
       "      <td>102.724</td>\n",
       "      <td>6.354112</td>\n",
       "      <td>79.560633</td>\n",
       "      <td>1</td>\n",
       "      <td>0</td>\n",
       "      <td>488</td>\n",
       "      <td>云南电力试验研究院电力研究院</td>\n",
       "    </tr>\n",
       "  </tbody>\n",
       "</table>\n",
       "<p>6 rows × 55 columns</p>\n",
       "</div>"
      ],
      "text/plain": [
       "     法人代碼 企業名稱 地址 區域代碼 行業代碼 區域代碼_str CPC                 IPC  \\\n",
       "3389                                      A24B3/18; A24B3/04   \n",
       "3601                                               F16L25/00   \n",
       "3535                                               G01N21/78   \n",
       "3585                                                E21B7/04   \n",
       "3598                                      F17D1/14; F17D5/00   \n",
       "3591                                               G01R35/04   \n",
       "\n",
       "                       inpadoc同族 inpadoc同族个数 专利寿命（月）  专利类型 中国申请人区县 中国申请人地市  \\\n",
       "3389  CN102488314A; CN102488314B           2       0  发明授权    [大理]    [大理]   \n",
       "3601  CN103047492A; CN103047492B           2          发明授权    [盘龙]    [昆明]   \n",
       "3535  CN102866154B; CN102866154A           2          发明授权    [武定]    [楚雄]   \n",
       "3585  CN102979458B; CN102979458A           2       0  发明授权    [官渡]    [昆明]   \n",
       "3598  CN103032676B; CN103032676A           2       0  发明授权    [新平]    [玉溪]   \n",
       "3591  CN103064054B; CN103064054A           2      48  发明授权    [官渡]    [昆明]   \n",
       "\n",
       "     优先权信息 公开国别       公开（公告）号              公开（公告）日  \\\n",
       "3389         CN  CN102488314B  2014-04-30 00:00:00   \n",
       "3601         CN  CN103047492B  2015-02-04 00:00:00   \n",
       "3535         CN  CN102866154B  2015-04-22 00:00:00   \n",
       "3585         CN  CN102979458B  2015-03-04 00:00:00   \n",
       "3598         CN  CN103032676B  2015-10-28 00:00:00   \n",
       "3591         CN  CN103064054B  2015-09-30 00:00:00   \n",
       "\n",
       "                                                                      发明人  \\\n",
       "3389                                              苏国寿; 谢昆或; 杨煜文; 杨学良; 赵宏洲   \n",
       "3601                                                    熊伟; 廖明宪; 舒晓菂; 郭立人   \n",
       "3535                                                邹捷; 杨小毅; 张健; 徐福昌; 郑立红   \n",
       "3585  王涛; 钱宝聪; 程飞; 苏桂彬; 马岚; 焦战增; 杨睿; 郭福; 张朝刚; 陈小波; 王博; 唐建华; 王振兵; 徐汝俊; 王晓邦   \n",
       "3598                         普光跃; 张睿华; 张巍; 瞿承中; 黄朝兵; 李剑勇; 张翔; 马俊; 吴建德; 李霞   \n",
       "3591                                    曹敏; 毕志周; 沈鑫; 李波; 张建伟; 陈华波; 张海; 张龙   \n",
       "\n",
       "     合享价值度 同族国家                  失效日     序号  \\\n",
       "3389     9   CN                       12783   \n",
       "3601     9   CN                        7113   \n",
       "3535     9   CN                        5463   \n",
       "3585     7   CN                        6659   \n",
       "3598     9   CN                        3301   \n",
       "3591     5   CN  2016-12-19 00:00:00   3447   \n",
       "\n",
       "                                                                                                                                                      引证专利  \\\n",
       "3389                                                                                                    CN101218987A; CN2347420Y; CN101601502A; CN1698481A   \n",
       "3601                                                                      CN103047492A; CN101684878A; CN2773448Y; CN2070859U; SU1476235A1; US20120001418A1   \n",
       "3535                                                                     CN102323133A; CN101644678A; CN101718689A; US3966455A; US3912498A; US20070029527A1   \n",
       "3585                                                                                                                                                         \n",
       "3598                                                                               CN101581401A; CN201047491Y; CN201696869U; CN203068143U; US20100122738A1   \n",
       "3591  CN101281693A; CN102353926A; CN201117146Y; CN201465381U; CN201812423U; CN201935972U; CN202134144U; CN202134154U; CN202196166U; CN2702320Y; US5831550A   \n",
       "\n",
       "                                                                                                                                                                                                       引证科技文献  \\\n",
       "3389                                                                                                                                       <text>吴文强等.梗丝在线膨胀技术与设备研究进展.《农产品加工(学刊)》.2011, (第11期), 第138页.</text>   \n",
       "3601                                                                                                                                                                                                            \n",
       "3535  <text>张勇.钛精矿(岩矿)化学分析方法 硫酸铁铵容量法测定二氧化钛含量.《矿业开采可行性分析研究与开采新模式及矿产品分析试验方法技术标准实用手册 第3卷》.2005, </text><text>中华人民共和国国家质量监督检验检疫总局.铁矿石 钛含量测定 硫酸铁铵滴定法.《EN/T 6730.23-2006, 铁矿石 钛含量测定 硫酸铁铵滴定法》.2006, </text><text>...   \n",
       "3585                                                                                                                                                                                                            \n",
       "3598                                                                                                                                                                                                            \n",
       "3591                                                                                                                                                                                                            \n",
       "\n",
       "      ...                     标题 申请人国别代码  \\\n",
       "3389  ...        梗丝闪蒸膨化和滚筒干燥处理工艺      中国   \n",
       "3601  ...               一种气路对接结构      中国   \n",
       "3535  ...      一种测定钛精矿中二氧化钛含量的方法      中国   \n",
       "3585  ...      一种岩壁梁斜面光爆凿孔导向定位装置      中国   \n",
       "3598  ...          一种无事故池的循环造浆系统      中国   \n",
       "3591  ...  电能计量装置仿真系统及其接线的矩阵控制方法      中国   \n",
       "\n",
       "                                     申请人地址 申请人省市代码 申请人类型               申请号  \\\n",
       "3389                 云南省大理白族自治州大理市建设东路191号  云南; 53    企业  CN201110388575.1   \n",
       "3601                       云南省昆明市盘龙区人民东路3号  云南; 53    企业  CN201210584629.6   \n",
       "3535  云南省楚雄彝族自治州武定县狮山镇大平子新立有色金属有限公司武定钛业分公司  云南; 53    企业  CN201210388819.0   \n",
       "3585                        云南省昆明市环城东路395号  云南; 53    企业  CN201210537948.1   \n",
       "3598                      云南省玉溪市新平县嘎洒镇嘎洒大道  云南; 53    企业  CN201210581020.3   \n",
       "3591              云南省昆明市经济技术开发区云大西路中段云电科技园  云南; 53    企业  CN201210554746.8   \n",
       "\n",
       "                      申请日                        简单同族 简单同族个数 被引证专利  \\\n",
       "3389  2011-11-30 00:00:00  CN102488314B; CN102488314A      2         \n",
       "3601  2012-12-30 00:00:00  CN103047492A; CN103047492B      2         \n",
       "3535  2012-10-13 00:00:00  CN102866154B; CN102866154A      2         \n",
       "3585  2012-12-13 00:00:00  CN102979458A; CN102979458B      2         \n",
       "3598  2012-12-28 00:00:00  CN103032676A; CN103032676B      2         \n",
       "3591  2012-12-19 00:00:00  CN103064054B; CN103064054A      2         \n",
       "\n",
       "     被引证国别(forward) 被引证次数                       链接到incoPat  \\\n",
       "3389                    0      到incoPat中查看\\r\\nCN102488314B   \n",
       "3601                    0  View in incopat\\r\\nCN103047492B   \n",
       "3535                    0  View in incopat\\r\\nCN102866154B   \n",
       "3585                    0  View in incopat\\r\\nCN102979458B   \n",
       "3598                    0  View in incopat\\r\\nCN103032676B   \n",
       "3591                    0  View in incopat\\r\\nCN103064054B   \n",
       "\n",
       "                         申请人                    name  \\\n",
       "3389     红塔烟草(集团)有限责任公司大理卷烟厂     红塔烟草(集团)有限责任公司大理卷烟厂   \n",
       "3601        中国船舶重工集团公司七五○试验场        中国船舶重工集团公司七五○试验场   \n",
       "3535            云南新立有色金属有限公司            云南新立有色金属有限公司   \n",
       "3585        中国水利水电第十四工程局有限公司        中国水利水电第十四工程局有限公司   \n",
       "3598             云南大红山管道有限公司             云南大红山管道有限公司   \n",
       "3591  云南电力试验研究院(集团)有限公司电力研究院  云南电力试验研究院(集团)有限公司电力研究院   \n",
       "\n",
       "                                   address 完整地址      lat      lnt          昆明  \\\n",
       "3389                 云南省大理白族自治州大理市建设东路191号    1  25.5931  100.241  251.086347   \n",
       "3601                       云南省昆明市盘龙区人民东路3号    1  25.0424   102.72    5.944238   \n",
       "3535  云南省楚雄彝族自治州武定县狮山镇大平子新立有色金属有限公司武定钛业分公司    0  25.0288  102.632    3.614090   \n",
       "3585                        云南省昆明市环城东路395号    1  25.0364  102.734    7.413871   \n",
       "3598                      云南省玉溪市新平县嘎洒镇嘎洒大道    0  24.0437  101.581  155.985493   \n",
       "3591              云南省昆明市经济技术开发区云大西路中段云电科技园    0    25.04  102.724    6.354112   \n",
       "\n",
       "              玉溪  早期園區 近期園區  專利數      name_clean  \n",
       "3389  270.334595     0    0  121       红塔烟草大理卷烟厂  \n",
       "3601   79.740011     1    0  122    中国船舶重工七五○试验场  \n",
       "3535   76.682066     1    0  131        云南新立有色金属  \n",
       "3585   79.425366     1    0  150    中国水利水电第十四工程局  \n",
       "3598  102.829900     0    0  483         云南大红山管道  \n",
       "3591   79.560633     1    0  488  云南电力试验研究院电力研究院  \n",
       "\n",
       "[6 rows x 55 columns]"
      ]
     },
     "execution_count": 4,
     "metadata": {},
     "output_type": "execute_result"
    }
   ],
   "source": [
    "not_merge[not_merge['專利數']>=100].sort_values('專利數')"
   ]
  },
  {
   "cell_type": "code",
   "execution_count": 5,
   "metadata": {},
   "outputs": [
    {
     "data": {
      "text/plain": [
       "Text(0.5, 0, '專利數量')"
      ]
     },
     "execution_count": 5,
     "metadata": {},
     "output_type": "execute_result"
    },
    {
     "data": {
      "image/png": "[encoded data removed]",
      "text/plain": [
       "<Figure size 432x288 with 1 Axes>"
      ]
     },
     "metadata": {
      "needs_background": "light"
     },
     "output_type": "display_data"
    }
   ],
   "source": [
    "from matplotlib.font_manager import FontProperties\n",
    "myfont = FontProperties(fname=r'C:\\Windows\\Fonts\\msjhbd.ttc')\n",
    "fig = plt.figure()\n",
    "ax1 = fig.add_subplot(111)\n",
    "ax1.plot(not_merge.groupby('專利數')['IPC'].count().index,not_merge.groupby('專利數')['IPC'].count())\n",
    "ax1.set_title('雲南',fontproperties=myfont,fontsize=15)\n",
    "ax1.set_xlim([0,100])\n",
    "ax1.set_ylabel('廠商數量',fontproperties=myfont)\n",
    "ax1.set_xlabel('專利數量',fontproperties=myfont)"
   ]
  },
  {
   "cell_type": "code",
   "execution_count": 6,
   "metadata": {},
   "outputs": [],
   "source": [
    "cleaned.to_excel(r'E:\\paper\\名稱merge\\雲南_結果.xlsx')"
   ]
  },
  {
   "cell_type": "code",
   "execution_count": 9,
   "metadata": {},
   "outputs": [
    {
     "data": {
      "text/plain": [
       "<matplotlib.legend.Legend at 0x1f191138ec8>"
      ]
     },
     "execution_count": 9,
     "metadata": {},
     "output_type": "execute_result"
    },
    {
     "data": {
      "image/png": "[encoded data removed]",
      "text/plain": [
       "<Figure size 360x360 with 1 Axes>"
      ]
     },
     "metadata": {
      "needs_background": "light"
     },
     "output_type": "display_data"
    }
   ],
   "source": [
    "from matplotlib.font_manager import FontProperties\n",
    "myfont = FontProperties(fname=r'C:\\Windows\\Fonts\\msjhbd.ttc')\n",
    "fig = plt.figure(figsize = (5,5))\n",
    "ax1 = fig.add_subplot(111)\n",
    "ax1.set_ylabel('Patent Counts')\n",
    "bar1 = ax1.bar(1,merge_df[merge_df['早期園區']==1]['專利數'].sum(),alpha=0.7,width=0.35,color='r',label='早期園區')\n",
    "bar2 = ax1.bar(1+0.35,merge_df[merge_df['近期園區']==1]['專利數'].sum(),alpha=0.7,width=0.35,color='b',label='近期園區')\n",
    "bar3 = ax1.bar(1+0.7,merge_df[(merge_df['近期園區']==0)&(merge_df['早期園區']==0)]['專利數'].sum(),alpha=0.7,width=0.35,color='k',label='園區外')\n",
    "\n",
    "plt.text(1, merge_df[merge_df['早期園區']==1]['專利數'].sum(), '%.0f' % merge_df[merge_df['早期園區']==1]['專利數'].sum(), ha='center', va= 'bottom',fontsize=12)  \n",
    "plt.text(1.35, merge_df[merge_df['近期園區']==1]['專利數'].sum(), '%.0f' % merge_df[merge_df['近期園區']==1]['專利數'].sum(), ha='center', va= 'bottom',fontsize=12)  \n",
    "plt.text(1.7, merge_df[(merge_df['近期園區']==0)&(merge_df['早期園區']==0)]['專利數'].sum(), '%.0f' % merge_df[(merge_df['近期園區']==0)&(merge_df['早期園區']==0)]['專利數'].sum(), ha='center', va= 'bottom',fontsize=12)  \n",
    "\n",
    "plt.title('雲南',fontproperties=myfont,fontsize=20)\n",
    "plt.xticks([0.75,1,2],['','',''],fontproperties=myfont)\n",
    "plt.legend(handles = [bar1,bar2,bar3], loc='upper left',prop=myfont)"
   ]
  },
  {
   "cell_type": "code",
   "execution_count": 10,
   "metadata": {},
   "outputs": [
    {
     "data": {
      "text/plain": [
       "<matplotlib.legend.Legend at 0x1f190c620c8>"
      ]
     },
     "execution_count": 10,
     "metadata": {},
     "output_type": "execute_result"
    },
    {
     "data": {
      "image/png": "[encoded data removed]",
      "text/plain": [
       "<Figure size 360x360 with 1 Axes>"
      ]
     },
     "metadata": {
      "needs_background": "light"
     },
     "output_type": "display_data"
    }
   ],
   "source": [
    "fig = plt.figure(figsize = (5,5))\n",
    "ax1 = fig.add_subplot(111)\n",
    "ax1.set_ylabel('Patent Counts/Firms ')\n",
    "bar1 = ax1.bar(1,merge_df[merge_df['早期園區']==1]['專利數'].sum()/merge_df[merge_df['早期園區']==1]['專利數'].count(),alpha=0.7,width=0.35,color='r',label='早期園區')\n",
    "bar2 = ax1.bar(1+0.35,merge_df[merge_df['近期園區']==1]['專利數'].sum()/merge_df[merge_df['近期園區']==1]['專利數'].count(),alpha=0.7,width=0.35,color='b',label='近期園區')\n",
    "bar3 = ax1.bar(1+0.7,merge_df[(merge_df['近期園區']==0)&(merge_df['早期園區']==0)]['專利數'].sum()/merge_df[(merge_df['近期園區']==0)&(merge_df['早期園區']==0)]['專利數'].count(),alpha=0.7,width=0.35,color='k',label='園區外')\n",
    "\n",
    "plt.text(1, (merge_df[merge_df['早期園區']==1]['專利數'].sum()/merge_df[merge_df['早期園區']==1]['專利數'].count()), '%.2f' % (merge_df[merge_df['早期園區']==1]['專利數'].sum()/merge_df[merge_df['早期園區']==1]['專利數'].count()), ha='center', va= 'bottom',fontsize=12)  \n",
    "plt.text(1.35, (merge_df[merge_df['近期園區']==1]['專利數'].sum()/merge_df[merge_df['近期園區']==1]['專利數'].count()), '%.2f' % (merge_df[merge_df['近期園區']==1]['專利數'].sum()/merge_df[merge_df['近期園區']==1]['專利數'].count()), ha='center', va= 'bottom',fontsize=12)  \n",
    "plt.text(1.7, (merge_df[(merge_df['近期園區']==0)&(merge_df['早期園區']==0)]['專利數'].sum()/merge_df[(merge_df['近期園區']==0)&(merge_df['早期園區']==0)]['專利數'].count()), '%.2f' % (merge_df[(merge_df['近期園區']==0)&(merge_df['早期園區']==0)]['專利數'].sum()/merge_df[(merge_df['近期園區']==0)&(merge_df['早期園區']==0)]['專利數'].count()), ha='center', va= 'bottom',fontsize=12)  \n",
    "\n",
    "plt.title('雲南',fontproperties=myfont,fontsize=20)\n",
    "plt.xticks([0.75,1,2],['','',''],fontproperties=myfont)\n",
    "plt.legend(handles = [bar1,bar2,bar3], loc='upper right',prop=myfont)"
   ]
  },
  {
   "cell_type": "code",
   "execution_count": null,
   "metadata": {},
   "outputs": [],
   "source": []
  }
 ],
 "metadata": {
  "kernelspec": {
   "display_name": "Python 3",
   "language": "python",
   "name": "python3"
  },
  "language_info": {
   "codemirror_mode": {
    "name": "ipython",
    "version": 3
   },
   "file_extension": ".py",
   "mimetype": "text/x-python",
   "name": "python",
   "nbconvert_exporter": "python",
   "pygments_lexer": "ipython3",
   "version": "3.7.4"
  }
 },
 "nbformat": 4,
 "nbformat_minor": 2
}
