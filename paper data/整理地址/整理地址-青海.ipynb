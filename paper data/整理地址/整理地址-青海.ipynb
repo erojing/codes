{
 "cells": [
  {
   "cell_type": "code",
   "execution_count": 1,
   "metadata": {},
   "outputs": [],
   "source": [
    "import pandas as pd\n",
    "import numpy as np\n",
    "import matplotlib.pyplot as plt\n",
    "import re\n",
    "import time\n",
    "import datetime\n",
    "import geocoder\n",
    "pd.set_option('display.max_rows',500)\n",
    "pd.set_option('display.max_columns',50)\n",
    "pd.set_option('max_colwidth',200)\n",
    "%matplotlib inline\n",
    "import requests\n",
    "import json\n",
    "import urllib\n",
    "from urllib.request import urlopen\n",
    "\n",
    "def getGeoForAddress(address):\n",
    "    add = urllib.parse.quote(address)\n",
    "    addressUrl = \"https://maps.googleapis.com/maps/api/geocode/json?address=\" + add + '&key='\n",
    "    res = requests.get(addressUrl)\n",
    "    js = json.loads(res.text)\n",
    "    if js.get('results'):\n",
    "        lat = js.get('results')[0]['geometry']['location']['lat']\n",
    "        lng = js.get('results')[0]['geometry']['location']['lng']\n",
    "    else:\n",
    "        lat = ''\n",
    "        lng = ''\n",
    "    return [lat, lng]\n",
    "def ngram(text, n=3, pad=True):\n",
    "    text = text.strip()\n",
    "    if pad:\n",
    "        text = \" %s \" % text\n",
    "    return set([text[i:i+n] for i in range(len(text)-n+1)])\n",
    "    \n",
    "def create_ngram(text1, text2, n=3, pad=True):\n",
    "    return ngram(text1, n=n, pad=pad), ngram(text2, n=n, pad=pad)\n",
    "\n",
    "def tversky_index(text1, text2, a=None, b=None, q=3, pad=True):\n",
    "    text1, text2 = create_ngram(text1, text2, n=q, pad=pad)\n",
    "    agree_tot = len(text1.intersection(text2))\n",
    "    v1 = len(text1) - agree_tot\n",
    "    v2 = len(text2) - agree_tot\n",
    "    \n",
    "    if a != None and b != None:\n",
    "        a = a/float(a+b)\n",
    "        b = b/float(a+b)\n",
    "    elif a <= 1.0 and a >= 0.0:\n",
    "        b = 1-a\n",
    "    elif b <= 1.0 and b >= 0.0:\n",
    "        a = 1-b\n",
    "    else:\n",
    "        a = 0.5\n",
    "        b = 0.5        \n",
    "    return float(agree_tot)/(agree_tot+a*v1+b*v2)\n",
    "# incoPat為申請人list\n",
    "def fuzzy(incoPat,indus):\n",
    "    corptype = ['有限','公司','责任','集团','股份','控股']\n",
    "    text1 = incoPat\n",
    "    text2 = indus\n",
    "    incoPat_nor = []   \n",
    "    for text in text1:\n",
    "        for i in corptype:\n",
    "            if i in text:\n",
    "                text = re.sub(i,'',text)\n",
    "        incoPat_nor.append(text)\n",
    "    for i in corptype:\n",
    "        if i in text2:\n",
    "            text2 = re.sub(i,'',text2)\n",
    "    similar = []\n",
    "    for text in incoPat_nor:\n",
    "        dice = tversky_index(text,text2, a=0.5, q=min(2,len(text),len(text2)), pad=False)\n",
    "        if dice>0.7:\n",
    "            similar.append([incoPat[incoPat_nor.index(text)],dice])\n",
    "        else:\n",
    "            pass\n",
    "    if len(similar)>0:\n",
    "        return similar[[k[1] for k in similar].index(max([i[1] for i in similar]))][0]\n",
    "    else:\n",
    "        return indus\n",
    "city_code = pd.read_excel('C:/Users/user/Dropbox/paper/科技園區/China/省地縣碼對照.xls')\n",
    "city_code = city_code[~city_code['代碼'].isnull()].drop(['标注','说明'],axis=1)\n",
    "city_code['代碼_str'] = city_code['代碼'].apply(lambda x:str(int(x)))\n",
    "city_code = city_code.drop('代碼',axis=1)"
   ]
  },
  {
   "cell_type": "markdown",
   "metadata": {},
   "source": [
    "# 青海資料整合"
   ]
  },
  {
   "cell_type": "code",
   "execution_count": 2,
   "metadata": {},
   "outputs": [],
   "source": [
    "patent_df = pd.read_excel(r'E:\\paper\\專利資料-新型&授權\\新型授權-青海.xls')"
   ]
  },
  {
   "cell_type": "code",
   "execution_count": 3,
   "metadata": {},
   "outputs": [
    {
     "name": "stderr",
     "output_type": "stream",
     "text": [
      "D:\\Anaconda\\lib\\site-packages\\IPython\\core\\interactiveshell.py:3058: DtypeWarning: Columns (0,3,16) have mixed types. Specify dtype option on import or set low_memory=False.\n",
      "  interactivity=interactivity, compiler=compiler, result=result)\n"
     ]
    }
   ],
   "source": [
    "#for PC\n",
    "patent_df = patent_df[patent_df['专利类型']=='发明授权']\n",
    "patent_df = patent_df[patent_df['申请人地址'].map(lambda x:len(re.findall(r'\\D+[\\s\\S]+',x)))==1]\n",
    "patent_df['申请人地址'] = patent_df['申请人地址'].map(lambda x:re.findall(r'\\D+[\\s\\S]+',x)[0])\n",
    "patent_df['申请人地址'] = patent_df['申请人地址'].map(lambda x:re.sub(r\"\\s+\", \"\",x))\n",
    "patent_df_firm = patent_df[patent_df['申请人类型'].str.contains('企业')]\n",
    "applicant = patent_df_firm['申请人'].str.split(';',expand=True).stack().reset_index(level=1,drop=True).rename('申请人2')\n",
    "patent_df_firm = patent_df_firm.join(applicant)\n",
    "patent_df_firm['類別'] = patent_df_firm['申请人类型'].map(lambda x:x.strip().split('  '))\n",
    "patent_df_firm = patent_df_firm[~patent_df_firm['标题'].duplicated()]\n",
    "patent_df_firm['申请人类型'] = patent_df_firm.apply(lambda x:x['類別'][0],axis=1)\n",
    "patent_df_firm = patent_df_firm[patent_df_firm['申请人类型']=='企业'].sort_values('申请日')\n",
    "patent_df_firm.drop(['類別','申请人'],axis=1,inplace=True)\n",
    "patent_df_firm.rename(columns={'申请人2':'申请人'},inplace=True)\n",
    "patent_df_firm = patent_df_firm[patent_df_firm['申请日']<datetime.datetime.strptime('2013-01-01','%Y-%m-%d')]\n",
    "patent_df_firm.drop_duplicates('申请人地址', keep='last', inplace=True)\n",
    "patent_df_firm.drop_duplicates('申请人', keep='last', inplace=True)\n",
    "\n",
    "firm_df = pd.read_csv(r'E:\\paper\\Firm csv\\firm_data_2012.csv')\n",
    "firm_gd = firm_df[firm_df['區域代碼'].astype(str).str.contains(r'63\\d{10}')==True]\n",
    "firm_gd = firm_gd.loc[:,['法人代碼','企業名稱','地址','區域代碼','行業代碼']]\n",
    "firm_gd['區域代碼_str'] = firm_gd['區域代碼'].astype(str).map(lambda x:x[0:6])\n",
    "firm_gd = pd.merge(firm_gd,city_code,left_on='區域代碼_str',right_on='代碼_str',how='left')\n",
    "firm_gd['名稱'].fillna('',inplace=True)\n",
    "firm_gd['市級'].fillna('',inplace=True)\n",
    "firm_gd['省份'].fillna('',inplace=True)\n",
    "firm_gd['地址'].fillna('',inplace=True)\n",
    "firm_gd['地址'] = firm_gd['地址'].map(lambda x:re.sub(r\"\\s+\", \"\",x))\n",
    "firm_gd['地址'] = firm_gd.apply(lambda x:re.sub(x['省份'],\"\",x['地址']),axis=1)\n",
    "firm_gd['地址'] = firm_gd.apply(lambda x:re.sub(x['市級'],\"\",x['地址']),axis=1)\n",
    "firm_gd['地址'] = firm_gd.apply(lambda x:re.sub(x['名稱'],\"\",x['地址']),axis=1)\n",
    "firm_gd['地址'] = firm_gd['省份']+firm_gd['市級']+firm_gd['名稱']+firm_gd['地址']\n",
    "firm_gd.drop(['省份','市級','名稱','代碼_str'],axis=1,inplace=True)\n",
    "firm_gd.dropna(subset=['企業名稱'],inplace=True)"
   ]
  },
  {
   "cell_type": "code",
   "execution_count": 6,
   "metadata": {},
   "outputs": [],
   "source": [
    "patent_df_firm = patent_df_firm[patent_df_firm['申请日']>datetime.datetime.strptime('2007-12-31','%Y-%m-%d')]\n",
    "incoPat = list(patent_df_firm['申请人'])"
   ]
  },
  {
   "cell_type": "code",
   "execution_count": 7,
   "metadata": {},
   "outputs": [
    {
     "data": {
      "text/plain": [
       "(232, 38)"
      ]
     },
     "execution_count": 7,
     "metadata": {},
     "output_type": "execute_result"
    }
   ],
   "source": [
    "patent_df_firm.shape"
   ]
  },
  {
   "cell_type": "code",
   "execution_count": 8,
   "metadata": {},
   "outputs": [
    {
     "data": {
      "text/plain": [
       "(388, 6)"
      ]
     },
     "execution_count": 8,
     "metadata": {},
     "output_type": "execute_result"
    }
   ],
   "source": [
    "firm_gd.shape"
   ]
  },
  {
   "cell_type": "code",
   "execution_count": 9,
   "metadata": {},
   "outputs": [],
   "source": [
    "firm_gd['name_模糊比對'] = firm_gd['企業名稱'].map(lambda x:fuzzy(incoPat,x))"
   ]
  },
  {
   "cell_type": "code",
   "execution_count": 10,
   "metadata": {},
   "outputs": [],
   "source": [
    "firm_gd.to_excel(r'E:\\paper\\清理結果-新型&授權\\青海_廠商.xlsx')"
   ]
  },
  {
   "cell_type": "markdown",
   "metadata": {},
   "source": [
    "# 非模糊比對"
   ]
  },
  {
   "cell_type": "code",
   "execution_count": 11,
   "metadata": {},
   "outputs": [],
   "source": [
    "merge_df = firm_gd.merge(patent_df_firm,left_on='企業名稱',right_on='申请人',how='outer')\n",
    "merge_df.fillna('',inplace=True)"
   ]
  },
  {
   "cell_type": "code",
   "execution_count": 12,
   "metadata": {},
   "outputs": [
    {
     "data": {
      "text/plain": [
       "(51, 45)"
      ]
     },
     "execution_count": 12,
     "metadata": {},
     "output_type": "execute_result"
    }
   ],
   "source": [
    "merge_df[(merge_df['企業名稱']!='')&(merge_df['申请人']!='')].shape"
   ]
  },
  {
   "cell_type": "code",
   "execution_count": 13,
   "metadata": {},
   "outputs": [
    {
     "data": {
      "text/plain": [
       "(569, 45)"
      ]
     },
     "execution_count": 13,
     "metadata": {},
     "output_type": "execute_result"
    }
   ],
   "source": [
    "merge_df.shape"
   ]
  },
  {
   "cell_type": "code",
   "execution_count": 14,
   "metadata": {
    "collapsed": true
   },
   "outputs": [
    {
     "name": "stderr",
     "output_type": "stream",
     "text": [
      "D:\\Anaconda\\lib\\site-packages\\pandas\\core\\strings.py:1843: UserWarning: This pattern has match groups. To actually get the groups, use str.extract.\n",
      "  return func(self, *args, **kwargs)\n",
      "D:\\Anaconda\\lib\\site-packages\\ipykernel_launcher.py:4: SettingWithCopyWarning: \n",
      "A value is trying to be set on a copy of a slice from a DataFrame.\n",
      "Try using .loc[row_indexer,col_indexer] = value instead\n",
      "\n",
      "See the caveats in the documentation: http://pandas.pydata.org/pandas-docs/stable/user_guide/indexing.html#returning-a-view-versus-a-copy\n",
      "  after removing the cwd from sys.path.\n",
      "D:\\Anaconda\\lib\\site-packages\\ipykernel_launcher.py:5: SettingWithCopyWarning: \n",
      "A value is trying to be set on a copy of a slice from a DataFrame.\n",
      "Try using .loc[row_indexer,col_indexer] = value instead\n",
      "\n",
      "See the caveats in the documentation: http://pandas.pydata.org/pandas-docs/stable/user_guide/indexing.html#returning-a-view-versus-a-copy\n",
      "  \"\"\"\n",
      "D:\\Anaconda\\lib\\site-packages\\pandas\\core\\indexing.py:376: SettingWithCopyWarning: \n",
      "A value is trying to be set on a copy of a slice from a DataFrame.\n",
      "Try using .loc[row_indexer,col_indexer] = value instead\n",
      "\n",
      "See the caveats in the documentation: http://pandas.pydata.org/pandas-docs/stable/user_guide/indexing.html#returning-a-view-versus-a-copy\n",
      "  self.obj[key] = _infer_fill_value(value)\n",
      "D:\\Anaconda\\lib\\site-packages\\pandas\\core\\indexing.py:494: SettingWithCopyWarning: \n",
      "A value is trying to be set on a copy of a slice from a DataFrame.\n",
      "Try using .loc[row_indexer,col_indexer] = value instead\n",
      "\n",
      "See the caveats in the documentation: http://pandas.pydata.org/pandas-docs/stable/user_guide/indexing.html#returning-a-view-versus-a-copy\n",
      "  self.obj[item] = s\n"
     ]
    }
   ],
   "source": [
    "merge_df['name'] = merge_df.apply(lambda x:x['申请人'] if x['申请人']!='' else x['企業名稱'],axis=1)\n",
    "merge_df['address'] = merge_df.apply(lambda x:x['申请人地址'] if x['申请人地址']!='' else x['地址'],axis=1)\n",
    "merge_df_clean = merge_df[merge_df['address'].str.contains(r'\\w+(街|道|路|巷|村|小区|园区|社区)')]\n",
    "merge_df_clean['address'] = merge_df_clean['address'].map(lambda x: x+'号' if ((x[-1].isdigit()) and (re.match(r'\\w+[街道路巷]',x))) else x)\n",
    "merge_df_clean['完整地址'] = merge_df_clean['address'].map(lambda x:1 if re.compile(r'\\w+[街道路巷]\\S+号').search(x) else 0)\n",
    "merge_df_clean.loc[:,'lat'] = 0\n",
    "merge_df_clean.loc[:,'lnt'] = 0"
   ]
  },
  {
   "cell_type": "code",
   "execution_count": 15,
   "metadata": {},
   "outputs": [
    {
     "data": {
      "text/plain": [
       "(292, 50)"
      ]
     },
     "execution_count": 15,
     "metadata": {},
     "output_type": "execute_result"
    }
   ],
   "source": [
    "merge_df_clean[merge_df_clean['完整地址']==1].shape"
   ]
  },
  {
   "cell_type": "code",
   "execution_count": 16,
   "metadata": {},
   "outputs": [
    {
     "data": {
      "text/plain": [
       "(444, 50)"
      ]
     },
     "execution_count": 16,
     "metadata": {},
     "output_type": "execute_result"
    }
   ],
   "source": [
    "merge_df_clean.shape"
   ]
  },
  {
   "cell_type": "code",
   "execution_count": 17,
   "metadata": {},
   "outputs": [],
   "source": [
    "merge_df_clean.to_excel(r'E:\\paper\\清理結果-新型&授權\\青海_結果.xlsx')"
   ]
  },
  {
   "cell_type": "markdown",
   "metadata": {},
   "source": [
    "# merge舊資料"
   ]
  },
  {
   "cell_type": "code",
   "execution_count": 4,
   "metadata": {},
   "outputs": [
    {
     "name": "stdout",
     "output_type": "stream",
     "text": [
      "(24, 44)\n",
      "(457, 44)\n",
      "(201, 49)\n",
      "(457, 49)\n"
     ]
    }
   ],
   "source": [
    "merge_df = firm_gd.merge(patent_df_firm,left_on='企業名稱',right_on='申请人',how='outer')\n",
    "merge_df.fillna('',inplace=True)\n",
    "print(merge_df[(merge_df['企業名稱']!='')&(merge_df['申请人']!='')].shape)\n",
    "print(merge_df.shape)\n",
    "merge_df['name'] = merge_df.apply(lambda x:x['申请人'] if x['申请人']!='' else x['企業名稱'],axis=1)\n",
    "merge_df['address'] = merge_df.apply(lambda x:x['申请人地址'] if x['申请人地址']!='' else x['地址'],axis=1)\n",
    "merge_df = merge_df[merge_df['address']!='']\n",
    "merge_df_clean = merge_df\n",
    "merge_df_clean['address'] = merge_df_clean['address'].map(lambda x: x+'号' if ((x[-1].isdigit()) and (re.match(r'\\w+[街道路巷]',x))) else x)\n",
    "merge_df_clean['完整地址'] = merge_df_clean['address'].map(lambda x:1 if re.compile(r'\\w+[街道路巷]\\S+号').search(x) else 0)\n",
    "merge_df_clean.loc[:,'lat'] = 0\n",
    "merge_df_clean.loc[:,'lnt'] = 0\n",
    "print(merge_df_clean[merge_df_clean['完整地址']==1].shape)\n",
    "print(merge_df_clean.shape)"
   ]
  },
  {
   "cell_type": "code",
   "execution_count": 5,
   "metadata": {},
   "outputs": [
    {
     "data": {
      "text/plain": [
       "Index(['Unnamed: 0', '法人代碼', '企業名稱', '地址', '區域代碼', '行業代碼', '區域代碼_str',\n",
       "       'name_模糊比對', '序号', '标题', '文献页数', '合享价值度', '链接到incoPat', '公开（公告）号',\n",
       "       '公开（公告）日', '申请号', '申请日', '申请人', '标准化申请人', '申请人国别代码', '申请人省市代码',\n",
       "       '中国申请人地市', '中国申请人区县', '申请人地址', '申请人类型', '优先权信息', '权利要求数量', '专利类型',\n",
       "       '发明人', 'IPC', 'CPC', '简单同族', '扩展同族', 'inpadoc同族', '同族国家', '简单同族个数',\n",
       "       '扩展同族个数', 'inpadoc同族个数', '引证专利', '被引证专利', '被引证次数', '引证科技文献', '专利寿命（月）',\n",
       "       '被引证国别(forward)', '失效日', '公开国别', 'name', 'address', '完整地址', 'lat',\n",
       "       'lnt', '青海', '專利數', '早期園區', '近期園區'],\n",
       "      dtype='object')"
      ]
     },
     "execution_count": 5,
     "metadata": {},
     "output_type": "execute_result"
    }
   ],
   "source": [
    "done_data = pd.read_excel(r'E:\\paper\\清理結果-園區內外\\青海_結果.xlsx')\n",
    "done_data.columns"
   ]
  },
  {
   "cell_type": "code",
   "execution_count": 6,
   "metadata": {},
   "outputs": [
    {
     "data": {
      "text/plain": [
       "(137, 53)"
      ]
     },
     "execution_count": 6,
     "metadata": {},
     "output_type": "execute_result"
    }
   ],
   "source": [
    "merge_df_clean.drop(['lat','lnt'],axis=1,inplace=True)\n",
    "merge_df_clean = merge_df_clean.merge(done_data[['name','lat','lnt','青海','專利數','早期園區','近期園區']],left_on='name',right_on='name',how='left')\n",
    "merge_df_clean['lat'].fillna('',inplace=True)\n",
    "merge_df_clean[merge_df_clean['lat']==''].shape"
   ]
  },
  {
   "cell_type": "code",
   "execution_count": 7,
   "metadata": {},
   "outputs": [],
   "source": [
    "merge_df_clean.to_excel(r'E:\\paper\\清理結果-新\\青海_結果.xlsx')"
   ]
  },
  {
   "cell_type": "markdown",
   "metadata": {},
   "source": [
    "# 模糊比對"
   ]
  },
  {
   "cell_type": "code",
   "execution_count": 18,
   "metadata": {},
   "outputs": [],
   "source": [
    "merge_df_fuzzy = firm_gd.merge(patent_df_firm,left_on='name_模糊比對',right_on='申请人',how='outer')\n",
    "merge_df_fuzzy.fillna('',inplace=True)\n",
    "merge_df_fuzzy.drop_duplicates(['name_模糊比對','申请人'], keep='last', inplace=True)"
   ]
  },
  {
   "cell_type": "code",
   "execution_count": 19,
   "metadata": {},
   "outputs": [
    {
     "data": {
      "text/plain": [
       "(56, 45)"
      ]
     },
     "execution_count": 19,
     "metadata": {},
     "output_type": "execute_result"
    }
   ],
   "source": [
    "merge_df_fuzzy[(merge_df_fuzzy['申请人']!='')&(merge_df_fuzzy['企業名稱']!='')].shape"
   ]
  },
  {
   "cell_type": "code",
   "execution_count": 20,
   "metadata": {},
   "outputs": [
    {
     "data": {
      "text/plain": [
       "(564, 45)"
      ]
     },
     "execution_count": 20,
     "metadata": {},
     "output_type": "execute_result"
    }
   ],
   "source": [
    "merge_df_fuzzy.shape"
   ]
  },
  {
   "cell_type": "code",
   "execution_count": 21,
   "metadata": {
    "collapsed": true
   },
   "outputs": [
    {
     "name": "stderr",
     "output_type": "stream",
     "text": [
      "D:\\Anaconda\\lib\\site-packages\\ipykernel_launcher.py:4: SettingWithCopyWarning: \n",
      "A value is trying to be set on a copy of a slice from a DataFrame.\n",
      "Try using .loc[row_indexer,col_indexer] = value instead\n",
      "\n",
      "See the caveats in the documentation: http://pandas.pydata.org/pandas-docs/stable/user_guide/indexing.html#returning-a-view-versus-a-copy\n",
      "  after removing the cwd from sys.path.\n",
      "D:\\Anaconda\\lib\\site-packages\\ipykernel_launcher.py:5: SettingWithCopyWarning: \n",
      "A value is trying to be set on a copy of a slice from a DataFrame.\n",
      "Try using .loc[row_indexer,col_indexer] = value instead\n",
      "\n",
      "See the caveats in the documentation: http://pandas.pydata.org/pandas-docs/stable/user_guide/indexing.html#returning-a-view-versus-a-copy\n",
      "  \"\"\"\n"
     ]
    }
   ],
   "source": [
    "merge_df_fuzzy['name'] = merge_df_fuzzy.apply(lambda x:x['申请人'] if x['申请人']!='' else x['企業名稱'],axis=1)\n",
    "merge_df_fuzzy['address'] = merge_df_fuzzy.apply(lambda x:x['申请人地址'] if x['申请人地址']!='' else x['地址'],axis=1)\n",
    "merge_df_fuzzy_clean = merge_df_fuzzy[merge_df_fuzzy['address'].str.contains(r'\\w+(街|道|路|巷|村|小区|园区|社区)')]\n",
    "merge_df_fuzzy_clean['address'] = merge_df_fuzzy_clean['address'].map(lambda x: x+'号' if ((x[-1].isdigit()) and (re.match(r'\\w+[街道路巷]',x))) else x)\n",
    "merge_df_fuzzy_clean['完整地址'] = merge_df_fuzzy_clean['address'].map(lambda x:1 if re.compile(r'\\w+[街道路巷]\\S+号').search(x) else 0)\n",
    "merge_df_fuzzy_clean.loc[:,'lat'] = 0\n",
    "merge_df_fuzzy_clean.loc[:,'lnt'] = 0"
   ]
  },
  {
   "cell_type": "code",
   "execution_count": 22,
   "metadata": {},
   "outputs": [
    {
     "data": {
      "text/plain": [
       "(288, 50)"
      ]
     },
     "execution_count": 22,
     "metadata": {},
     "output_type": "execute_result"
    }
   ],
   "source": [
    "merge_df_fuzzy_clean[merge_df_fuzzy_clean['完整地址']==1].shape"
   ]
  },
  {
   "cell_type": "code",
   "execution_count": 23,
   "metadata": {},
   "outputs": [
    {
     "data": {
      "text/plain": [
       "(440, 50)"
      ]
     },
     "execution_count": 23,
     "metadata": {},
     "output_type": "execute_result"
    }
   ],
   "source": [
    "merge_df_fuzzy_clean.shape"
   ]
  },
  {
   "cell_type": "code",
   "execution_count": 24,
   "metadata": {},
   "outputs": [],
   "source": [
    "merge_df_fuzzy_clean.to_excel(r'E:\\paper\\清理結果-新型&授權\\青海_模糊結果.xlsx')"
   ]
  },
  {
   "cell_type": "markdown",
   "metadata": {},
   "source": [
    "# 定位"
   ]
  },
  {
   "cell_type": "code",
   "execution_count": 2,
   "metadata": {},
   "outputs": [],
   "source": [
    "merge_df_clean = pd.read_excel(r'E:\\paper\\清理結果-新型&授權\\青海_結果.xlsx',index_col=0)"
   ]
  },
  {
   "cell_type": "code",
   "execution_count": 3,
   "metadata": {},
   "outputs": [
    {
     "data": {
      "text/plain": [
       "(137, 53)"
      ]
     },
     "execution_count": 3,
     "metadata": {},
     "output_type": "execute_result"
    }
   ],
   "source": [
    "merge_df_clean = pd.read_excel(r'E:\\paper\\清理結果-新\\青海_結果.xlsx',index_col=0)\n",
    "merge_df_clean.fillna('',inplace=True)\n",
    "merge_df_clean[merge_df_clean['lat']==''].shape"
   ]
  },
  {
   "cell_type": "code",
   "execution_count": 4,
   "metadata": {},
   "outputs": [],
   "source": [
    "for i in merge_df_clean[merge_df_clean['lat']==''].index:\n",
    "    address = merge_df_clean.loc[i,'address']\n",
    "    g = getGeoForAddress(address)\n",
    "    merge_df_clean.loc[i,'lat'] = g[0]\n",
    "    merge_df_clean.loc[i,'lnt'] = g[1]"
   ]
  },
  {
   "cell_type": "code",
   "execution_count": 5,
   "metadata": {},
   "outputs": [
    {
     "name": "stdout",
     "output_type": "stream",
     "text": [
      "(457, 53)\n",
      "(2, 53)\n"
     ]
    }
   ],
   "source": [
    "print(merge_df_clean.shape)\n",
    "print(merge_df_clean[merge_df_clean['lat']==''].shape)"
   ]
  },
  {
   "cell_type": "code",
   "execution_count": 6,
   "metadata": {},
   "outputs": [],
   "source": [
    "merge_df_clean.to_excel(r'E:\\paper\\清理結果-新\\青海_結果.xlsx')"
   ]
  },
  {
   "cell_type": "markdown",
   "metadata": {},
   "source": [
    "# 作圖"
   ]
  },
  {
   "cell_type": "code",
   "execution_count": 7,
   "metadata": {},
   "outputs": [],
   "source": [
    "from geopy.distance import geodesic\n",
    "def how_far(a,b):\n",
    "    try:\n",
    "        return geodesic(a,b).kilometers\n",
    "    except:\n",
    "        return np.nan\n",
    "applicant = patent_df['申请人'].str.split(';',expand=True).stack().reset_index(level=1,drop=True).rename('申请人2')\n",
    "applicant = applicant.map(lambda x:x.strip())\n",
    "patent_df_new = patent_df.join(applicant)\n",
    "patent_count = patent_df_new.groupby('申请人2')['标题'].count().rename('專利數')"
   ]
  },
  {
   "cell_type": "code",
   "execution_count": 8,
   "metadata": {},
   "outputs": [
    {
     "data": {
      "text/plain": [
       "申请人2\n",
       "龚进                  1\n",
       "王云思                 1\n",
       "王云                  1\n",
       "王丽辉                 1\n",
       "王丽娟                 1\n",
       "                 ... \n",
       "青海大学               53\n",
       "青海林丰农牧机械制造有限公司     60\n",
       "西部矿业股份有限公司         62\n",
       "中国科学院西北高原生物研究所    174\n",
       "中国科学院青海盐湖研究所      281\n",
       "Name: 專利數, Length: 1828, dtype: int64"
      ]
     },
     "execution_count": 8,
     "metadata": {},
     "output_type": "execute_result"
    }
   ],
   "source": [
    "patent_count.sort_values()"
   ]
  },
  {
   "cell_type": "code",
   "execution_count": 5,
   "metadata": {},
   "outputs": [],
   "source": [
    "merge_df = pd.read_excel(r'E:\\paper\\清理結果-新型&授權\\青海_結果.xlsx',index_col=0)\n",
    "target1 = (36.65003,101.76622)\n",
    "merge_df['青海'] = merge_df.apply(lambda x:how_far(target1,(x['lat'],x['lnt'])),axis=1)\n",
    "merge_df = merge_df.merge(patent_count,left_on='name',right_on='申请人2',how='left')\n",
    "merge_df['專利數'].fillna(0,inplace=True)"
   ]
  },
  {
   "cell_type": "code",
   "execution_count": 9,
   "metadata": {},
   "outputs": [],
   "source": [
    "merge_df = pd.read_excel(r'E:\\paper\\清理結果-新\\青海_結果.xlsx',index_col=0)\n",
    "merge_df.fillna('',inplace=True)\n",
    "merge_df.drop('專利數',axis=1,inplace=True)\n",
    "target1 = (36.65003,101.76622)\n",
    "\n",
    "for i in merge_df[merge_df['青海']==''].index:\n",
    "    merge_df.loc[i,'青海'] = how_far(target1,(merge_df.loc[i,'lat'],merge_df.loc[i,'lnt']))\n",
    "merge_df = merge_df.merge(patent_count,left_on='name',right_on='申请人2',how='left')\n",
    "merge_df['專利數'].fillna(0,inplace=True)"
   ]
  },
  {
   "cell_type": "code",
   "execution_count": 10,
   "metadata": {},
   "outputs": [],
   "source": [
    "merge_df['早期園區'] = 0\n",
    "merge_df['近期園區'] = merge_df.apply(lambda x:1 if (x['青海']<10) else 0,axis=1)"
   ]
  },
  {
   "cell_type": "code",
   "execution_count": 11,
   "metadata": {},
   "outputs": [],
   "source": [
    "merge_df.to_excel(r'E:\\paper\\清理結果-新園區內外\\青海_結果.xlsx')"
   ]
  },
  {
   "cell_type": "code",
   "execution_count": 12,
   "metadata": {},
   "outputs": [
    {
     "name": "stdout",
     "output_type": "stream",
     "text": [
      "(457, 53)\n",
      "0.6936542669584245\n",
      "0.0\n"
     ]
    }
   ],
   "source": [
    "print(merge_df.shape)\n",
    "print(len(merge_df[merge_df['專利數']==0]['專利數'])/len(merge_df['專利數']))\n",
    "print(len(merge_df[merge_df['專利數']>=100]['專利數'])/len(merge_df['專利數']))"
   ]
  },
  {
   "cell_type": "code",
   "execution_count": 13,
   "metadata": {
    "scrolled": true
   },
   "outputs": [
    {
     "data": {
      "text/plain": [
       "專利數\n",
       "0.0     317\n",
       "1.0      49\n",
       "2.0      21\n",
       "3.0      12\n",
       "4.0      10\n",
       "5.0       5\n",
       "6.0       8\n",
       "7.0       5\n",
       "8.0       4\n",
       "9.0       3\n",
       "10.0      3\n",
       "11.0      3\n",
       "12.0      5\n",
       "13.0      3\n",
       "14.0      1\n",
       "16.0      1\n",
       "21.0      1\n",
       "23.0      1\n",
       "28.0      1\n",
       "31.0      1\n",
       "38.0      1\n",
       "60.0      1\n",
       "62.0      1\n",
       "Name: IPC, dtype: int64"
      ]
     },
     "execution_count": 13,
     "metadata": {},
     "output_type": "execute_result"
    }
   ],
   "source": [
    "merge_df.groupby('專利數')['IPC'].count()"
   ]
  },
  {
   "cell_type": "code",
   "execution_count": 14,
   "metadata": {},
   "outputs": [
    {
     "data": {
      "text/plain": [
       "專利數\n",
       "0.0    1\n",
       "4.0    1\n",
       "Name: IPC, dtype: int64"
      ]
     },
     "execution_count": 14,
     "metadata": {},
     "output_type": "execute_result"
    }
   ],
   "source": [
    "merge_df[merge_df['lat']==''].groupby('專利數')['IPC'].count()"
   ]
  },
  {
   "cell_type": "code",
   "execution_count": 15,
   "metadata": {},
   "outputs": [
    {
     "data": {
      "text/plain": [
       "Text(0, 0.5, '無法定位廠商數量')"
      ]
     },
     "execution_count": 15,
     "metadata": {},
     "output_type": "execute_result"
    },
    {
     "data": {
      "image/png": "[encoded data removed]",
      "text/plain": [
       "<Figure size 432x288 with 2 Axes>"
      ]
     },
     "metadata": {
      "needs_background": "light"
     },
     "output_type": "display_data"
    }
   ],
   "source": [
    "from matplotlib.font_manager import FontProperties\n",
    "myfont = FontProperties(fname=r'C:\\Windows\\Fonts\\msjhbd.ttc')\n",
    "fig = plt.figure()\n",
    "ax1 = fig.add_subplot(111)\n",
    "ax1.plot(merge_df[merge_df['lat']!=0].groupby('專利數')['IPC'].count().index,merge_df[merge_df['lat']!=0].groupby('專利數')['IPC'].count())\n",
    "ax1.set_title('青海',fontproperties=myfont,fontsize=15)\n",
    "ax1.set_ylabel('廠商數量',fontproperties=myfont)\n",
    "ax1.set_xlabel('專利數量',fontproperties=myfont)\n",
    "ax1.set_xlim([0,100])\n",
    "ax1.set_ylim([0,100])\n",
    "ax2 = ax1.twinx()\n",
    "ax2.bar(merge_df[merge_df['lat']==''].groupby('專利數')['IPC'].count().index,merge_df[merge_df['lat']==''].groupby('專利數')['IPC'].count(),color='red')\n",
    "ax2.set_ylim([0,20])\n",
    "ax2.set_ylabel('無法定位廠商數量',fontproperties=myfont)\n"
   ]
  },
  {
   "cell_type": "code",
   "execution_count": 2,
   "metadata": {},
   "outputs": [
    {
     "name": "stdout",
     "output_type": "stream",
     "text": [
      "60\n",
      "0.1342281879194631\n",
      "0\n"
     ]
    }
   ],
   "source": [
    "region = pd.read_excel(r'E:\\paper\\清理結果-新園區內外\\青海_結果.xlsx',index_col=0)\n",
    "region.fillna('',inplace=True)\n",
    "corptype = ['有限','责任','集团','股份','控股','总公司','分公司','公司']\n",
    "region['name_clean'] = region['name']\n",
    "for k in corptype:\n",
    "    region['name_clean'] = region['name_clean'].map(lambda x:re.sub(k,'',x))\n",
    "region['name_clean'] = region['name_clean'].map(lambda x:re.sub(r'\\(.*?\\)','',x))\n",
    "region['name_clean'] = region['name_clean'].map(lambda x:re.sub(r'\\（.*?\\）','',x))\n",
    "region['name_clean'] = region['name_clean'].map(lambda x:re.sub(r'\\(.*?\\）','',x))\n",
    "region['name_clean'] = region['name_clean'].map(lambda x:re.sub(r'\\（.*?\\)','',x))\n",
    "region['name_clean'] = region['name_clean'].map(lambda x:re.sub(r'[\\s+-─]','',x))\n",
    "clean = region[region.duplicated(['name_clean'],keep=False)].sort_values(by=['企業名稱'])\n",
    "patents = clean.groupby('name_clean')['專利數'].sum()\n",
    "final = clean.drop('專利數',axis=1).merge(patents,left_on='name_clean',right_on='name_clean',how='left')\n",
    "final.drop_duplicates(['name_clean'],keep='last',inplace=True)\n",
    "region.drop_duplicates(['name_clean'],keep=False,inplace=True)\n",
    "cleaned = pd.concat([region,final],ignore_index=True,sort=False)\n",
    "located = cleaned[cleaned['lat']!='']\n",
    "not_merge = located[located['企業名稱']=='']\n",
    "print(len(not_merge['專利數']))\n",
    "print(len(not_merge['專利數'])/len(located['專利數']))\n",
    "print(len(not_merge[not_merge['專利數']>100]['專利數']))"
   ]
  },
  {
   "cell_type": "code",
   "execution_count": 3,
   "metadata": {
    "scrolled": true
   },
   "outputs": [
    {
     "data": {
      "text/plain": [
       "專利數\n",
       "1     18\n",
       "2     12\n",
       "3      7\n",
       "4      3\n",
       "5      3\n",
       "6      2\n",
       "7      1\n",
       "8      1\n",
       "9      3\n",
       "10     1\n",
       "12     3\n",
       "13     1\n",
       "16     1\n",
       "21     1\n",
       "28     1\n",
       "60     1\n",
       "68     1\n",
       "Name: IPC, dtype: int64"
      ]
     },
     "execution_count": 3,
     "metadata": {},
     "output_type": "execute_result"
    }
   ],
   "source": [
    "not_merge.groupby('專利數')['IPC'].count()"
   ]
  },
  {
   "cell_type": "code",
   "execution_count": 4,
   "metadata": {
    "scrolled": true
   },
   "outputs": [
    {
     "data": {
      "text/html": [
       "<div>\n",
       "<style scoped>\n",
       "    .dataframe tbody tr th:only-of-type {\n",
       "        vertical-align: middle;\n",
       "    }\n",
       "\n",
       "    .dataframe tbody tr th {\n",
       "        vertical-align: top;\n",
       "    }\n",
       "\n",
       "    .dataframe thead th {\n",
       "        text-align: right;\n",
       "    }\n",
       "</style>\n",
       "<table border=\"1\" class=\"dataframe\">\n",
       "  <thead>\n",
       "    <tr style=\"text-align: right;\">\n",
       "      <th></th>\n",
       "      <th>法人代碼</th>\n",
       "      <th>企業名稱</th>\n",
       "      <th>地址</th>\n",
       "      <th>區域代碼</th>\n",
       "      <th>行業代碼</th>\n",
       "      <th>區域代碼_str</th>\n",
       "      <th>序号</th>\n",
       "      <th>标题</th>\n",
       "      <th>文献页数</th>\n",
       "      <th>合享价值度</th>\n",
       "      <th>链接到incoPat</th>\n",
       "      <th>公开（公告）号</th>\n",
       "      <th>公开（公告）日</th>\n",
       "      <th>申请号</th>\n",
       "      <th>申请日</th>\n",
       "      <th>标准化申请人</th>\n",
       "      <th>申请人国别代码</th>\n",
       "      <th>申请人省市代码</th>\n",
       "      <th>中国申请人地市</th>\n",
       "      <th>中国申请人区县</th>\n",
       "      <th>申请人地址</th>\n",
       "      <th>申请人类型</th>\n",
       "      <th>优先权信息</th>\n",
       "      <th>权利要求数量</th>\n",
       "      <th>专利类型</th>\n",
       "      <th>...</th>\n",
       "      <th>扩展同族</th>\n",
       "      <th>inpadoc同族</th>\n",
       "      <th>同族国家</th>\n",
       "      <th>简单同族个数</th>\n",
       "      <th>扩展同族个数</th>\n",
       "      <th>inpadoc同族个数</th>\n",
       "      <th>引证专利</th>\n",
       "      <th>被引证专利</th>\n",
       "      <th>被引证次数</th>\n",
       "      <th>引证科技文献</th>\n",
       "      <th>专利寿命（月）</th>\n",
       "      <th>被引证国别(forward)</th>\n",
       "      <th>失效日</th>\n",
       "      <th>公开国别</th>\n",
       "      <th>申请人</th>\n",
       "      <th>name</th>\n",
       "      <th>address</th>\n",
       "      <th>完整地址</th>\n",
       "      <th>lat</th>\n",
       "      <th>lnt</th>\n",
       "      <th>青海</th>\n",
       "      <th>早期園區</th>\n",
       "      <th>近期園區</th>\n",
       "      <th>專利數</th>\n",
       "      <th>name_clean</th>\n",
       "    </tr>\n",
       "  </thead>\n",
       "  <tbody>\n",
       "    <tr>\n",
       "      <td>412</td>\n",
       "      <td></td>\n",
       "      <td></td>\n",
       "      <td></td>\n",
       "      <td></td>\n",
       "      <td></td>\n",
       "      <td></td>\n",
       "      <td>1817</td>\n",
       "      <td>手扶拖拉机配套使用的深松机</td>\n",
       "      <td>6</td>\n",
       "      <td>7</td>\n",
       "      <td>到incoPat中查看\\r\\nCN102124830B</td>\n",
       "      <td>CN102124830B</td>\n",
       "      <td>2012-07-04 00:00:00</td>\n",
       "      <td>CN201110028035.2</td>\n",
       "      <td>2011-01-26 00:00:00</td>\n",
       "      <td></td>\n",
       "      <td>中国</td>\n",
       "      <td>青海; 63</td>\n",
       "      <td>[海东]</td>\n",
       "      <td>[平安]</td>\n",
       "      <td>青海省海东地区平安县化隆路15号</td>\n",
       "      <td>企业</td>\n",
       "      <td></td>\n",
       "      <td>2</td>\n",
       "      <td>发明授权</td>\n",
       "      <td>...</td>\n",
       "      <td>CN102124830A; CN102124830B</td>\n",
       "      <td>CN102124830A; CN102124830B</td>\n",
       "      <td>CN</td>\n",
       "      <td>2</td>\n",
       "      <td>2</td>\n",
       "      <td>2</td>\n",
       "      <td></td>\n",
       "      <td></td>\n",
       "      <td>0</td>\n",
       "      <td></td>\n",
       "      <td>84</td>\n",
       "      <td></td>\n",
       "      <td>2018-01-26 00:00:00</td>\n",
       "      <td>CN</td>\n",
       "      <td>青海林丰农牧机械制造有限公司</td>\n",
       "      <td>青海林丰农牧机械制造有限公司</td>\n",
       "      <td>青海省海东地区平安县化隆路15号</td>\n",
       "      <td>1</td>\n",
       "      <td>36.4999</td>\n",
       "      <td>102.098</td>\n",
       "      <td>34.078861</td>\n",
       "      <td>0</td>\n",
       "      <td>0</td>\n",
       "      <td>60</td>\n",
       "      <td>青海林丰农牧机械制造</td>\n",
       "    </tr>\n",
       "    <tr>\n",
       "      <td>442</td>\n",
       "      <td></td>\n",
       "      <td></td>\n",
       "      <td></td>\n",
       "      <td></td>\n",
       "      <td></td>\n",
       "      <td></td>\n",
       "      <td>101</td>\n",
       "      <td>用微波加热从粉煤灰酸浸出镓的方法</td>\n",
       "      <td>5</td>\n",
       "      <td>8</td>\n",
       "      <td>到incoPat中查看\\r\\nCN103074498B</td>\n",
       "      <td>CN103074498B</td>\n",
       "      <td>2016-10-19 00:00:00</td>\n",
       "      <td>CN201210590728.5</td>\n",
       "      <td>2012-12-31 00:00:00</td>\n",
       "      <td>[西部矿业-C]</td>\n",
       "      <td>中国</td>\n",
       "      <td>青海; 63</td>\n",
       "      <td>[西宁]</td>\n",
       "      <td>[城西]</td>\n",
       "      <td>青海省西宁市五四大街52号</td>\n",
       "      <td>企业</td>\n",
       "      <td></td>\n",
       "      <td>8</td>\n",
       "      <td>发明授权</td>\n",
       "      <td>...</td>\n",
       "      <td>CN103074498A; CN103074498B</td>\n",
       "      <td>CN103074498B; CN103074498A</td>\n",
       "      <td>CN</td>\n",
       "      <td>2</td>\n",
       "      <td>2</td>\n",
       "      <td>2</td>\n",
       "      <td>CN102515220A; CN101284668A</td>\n",
       "      <td></td>\n",
       "      <td>0</td>\n",
       "      <td></td>\n",
       "      <td></td>\n",
       "      <td></td>\n",
       "      <td></td>\n",
       "      <td>CN</td>\n",
       "      <td>西部矿业股份有限公司</td>\n",
       "      <td>西部矿业股份有限公司</td>\n",
       "      <td>青海省西宁市五四大街52号</td>\n",
       "      <td>1</td>\n",
       "      <td>36.6301</td>\n",
       "      <td>101.763</td>\n",
       "      <td>2.236091</td>\n",
       "      <td>0</td>\n",
       "      <td>1</td>\n",
       "      <td>68</td>\n",
       "      <td>西部矿业</td>\n",
       "    </tr>\n",
       "  </tbody>\n",
       "</table>\n",
       "<p>2 rows × 54 columns</p>\n",
       "</div>"
      ],
      "text/plain": [
       "    法人代碼 企業名稱 地址 區域代碼 行業代碼 區域代碼_str    序号                标题 文献页数 合享价值度  \\\n",
       "412                                  1817     手扶拖拉机配套使用的深松机    6     7   \n",
       "442                                   101  用微波加热从粉煤灰酸浸出镓的方法    5     8   \n",
       "\n",
       "                      链接到incoPat       公开（公告）号              公开（公告）日  \\\n",
       "412  到incoPat中查看\\r\\nCN102124830B  CN102124830B  2012-07-04 00:00:00   \n",
       "442  到incoPat中查看\\r\\nCN103074498B  CN103074498B  2016-10-19 00:00:00   \n",
       "\n",
       "                  申请号                  申请日    标准化申请人 申请人国别代码 申请人省市代码 中国申请人地市  \\\n",
       "412  CN201110028035.2  2011-01-26 00:00:00                中国  青海; 63    [海东]   \n",
       "442  CN201210590728.5  2012-12-31 00:00:00  [西部矿业-C]      中国  青海; 63    [西宁]   \n",
       "\n",
       "    中国申请人区县             申请人地址 申请人类型 优先权信息 权利要求数量  专利类型  ...  \\\n",
       "412    [平安]  青海省海东地区平安县化隆路15号    企业            2  发明授权  ...   \n",
       "442    [城西]     青海省西宁市五四大街52号    企业            8  发明授权  ...   \n",
       "\n",
       "                           扩展同族                   inpadoc同族 同族国家 简单同族个数  \\\n",
       "412  CN102124830A; CN102124830B  CN102124830A; CN102124830B   CN      2   \n",
       "442  CN103074498A; CN103074498B  CN103074498B; CN103074498A   CN      2   \n",
       "\n",
       "    扩展同族个数 inpadoc同族个数                        引证专利 被引证专利 被引证次数 引证科技文献 专利寿命（月）  \\\n",
       "412      2           2                                       0             84   \n",
       "442      2           2  CN102515220A; CN101284668A           0                  \n",
       "\n",
       "    被引证国别(forward)                  失效日 公开国别             申请人            name  \\\n",
       "412                 2018-01-26 00:00:00   CN  青海林丰农牧机械制造有限公司  青海林丰农牧机械制造有限公司   \n",
       "442                                       CN      西部矿业股份有限公司      西部矿业股份有限公司   \n",
       "\n",
       "              address 完整地址      lat      lnt         青海  早期園區 近期園區 專利數  \\\n",
       "412  青海省海东地区平安县化隆路15号    1  36.4999  102.098  34.078861     0    0  60   \n",
       "442     青海省西宁市五四大街52号    1  36.6301  101.763   2.236091     0    1  68   \n",
       "\n",
       "     name_clean  \n",
       "412  青海林丰农牧机械制造  \n",
       "442        西部矿业  \n",
       "\n",
       "[2 rows x 54 columns]"
      ]
     },
     "execution_count": 4,
     "metadata": {},
     "output_type": "execute_result"
    }
   ],
   "source": [
    "not_merge[not_merge['專利數']>=50].sort_values('專利數')"
   ]
  },
  {
   "cell_type": "code",
   "execution_count": 5,
   "metadata": {},
   "outputs": [
    {
     "data": {
      "text/plain": [
       "Text(0.5, 0, '專利數量')"
      ]
     },
     "execution_count": 5,
     "metadata": {},
     "output_type": "execute_result"
    },
    {
     "data": {
      "image/png": "[encoded data removed]",
      "text/plain": [
       "<Figure size 432x288 with 1 Axes>"
      ]
     },
     "metadata": {
      "needs_background": "light"
     },
     "output_type": "display_data"
    }
   ],
   "source": [
    "from matplotlib.font_manager import FontProperties\n",
    "myfont = FontProperties(fname=r'C:\\Windows\\Fonts\\msjhbd.ttc')\n",
    "fig = plt.figure()\n",
    "ax1 = fig.add_subplot(111)\n",
    "ax1.plot(not_merge.groupby('專利數')['IPC'].count().index,not_merge.groupby('專利數')['IPC'].count())\n",
    "ax1.set_title('青海',fontproperties=myfont,fontsize=15)\n",
    "ax1.set_xlim([0,100])\n",
    "ax1.set_ylabel('廠商數量',fontproperties=myfont)\n",
    "ax1.set_xlabel('專利數量',fontproperties=myfont)"
   ]
  },
  {
   "cell_type": "code",
   "execution_count": 6,
   "metadata": {},
   "outputs": [],
   "source": [
    "cleaned.to_excel(r'E:\\paper\\名稱merge\\青海_結果.xlsx')"
   ]
  },
  {
   "cell_type": "code",
   "execution_count": 9,
   "metadata": {},
   "outputs": [
    {
     "data": {
      "text/plain": [
       "<matplotlib.legend.Legend at 0x27c5e6015c8>"
      ]
     },
     "execution_count": 9,
     "metadata": {},
     "output_type": "execute_result"
    },
    {
     "data": {
      "image/png": "[encoded data removed]",
      "text/plain": [
       "<Figure size 360x360 with 1 Axes>"
      ]
     },
     "metadata": {
      "needs_background": "light"
     },
     "output_type": "display_data"
    }
   ],
   "source": [
    "from matplotlib.font_manager import FontProperties\n",
    "myfont = FontProperties(fname=r'C:\\Windows\\Fonts\\msjhbd.ttc')\n",
    "fig = plt.figure(figsize = (5,5))\n",
    "ax1 = fig.add_subplot(111)\n",
    "ax1.set_ylabel('Patent Counts')\n",
    "bar1 = ax1.bar(1,merge_df[merge_df['早期園區']==1]['專利數'].sum(),alpha=0.7,width=0.35,color='r',label='早期園區')\n",
    "bar2 = ax1.bar(1+0.35,merge_df[merge_df['近期園區']==1]['專利數'].sum(),alpha=0.7,width=0.35,color='b',label='近期園區')\n",
    "bar3 = ax1.bar(1+0.7,merge_df[(merge_df['近期園區']==0)&(merge_df['早期園區']==0)]['專利數'].sum(),alpha=0.7,width=0.35,color='k',label='園區外')\n",
    "\n",
    "plt.text(1, merge_df[merge_df['早期園區']==1]['專利數'].sum(), '%.0f' % merge_df[merge_df['早期園區']==1]['專利數'].sum(), ha='center', va= 'bottom',fontsize=12)  \n",
    "plt.text(1.35, merge_df[merge_df['近期園區']==1]['專利數'].sum(), '%.0f' % merge_df[merge_df['近期園區']==1]['專利數'].sum(), ha='center', va= 'bottom',fontsize=12)  \n",
    "plt.text(1.7, merge_df[(merge_df['近期園區']==0)&(merge_df['早期園區']==0)]['專利數'].sum(), '%.0f' % merge_df[(merge_df['近期園區']==0)&(merge_df['早期園區']==0)]['專利數'].sum(), ha='center', va= 'bottom',fontsize=12)  \n",
    "\n",
    "plt.title('青海',fontproperties=myfont,fontsize=20)\n",
    "plt.xticks([0.75,1,2],['','',''],fontproperties=myfont)\n",
    "plt.legend(handles = [bar1,bar2,bar3], loc='upper left',prop=myfont)"
   ]
  },
  {
   "cell_type": "code",
   "execution_count": 10,
   "metadata": {},
   "outputs": [
    {
     "name": "stderr",
     "output_type": "stream",
     "text": [
      "D:\\Anaconda\\lib\\site-packages\\ipykernel_launcher.py:4: RuntimeWarning: invalid value encountered in double_scalars\n",
      "  after removing the cwd from sys.path.\n",
      "D:\\Anaconda\\lib\\site-packages\\ipykernel_launcher.py:8: RuntimeWarning: invalid value encountered in double_scalars\n",
      "  \n"
     ]
    },
    {
     "data": {
      "text/plain": [
       "<matplotlib.legend.Legend at 0x27c5e638e48>"
      ]
     },
     "execution_count": 10,
     "metadata": {},
     "output_type": "execute_result"
    },
    {
     "name": "stderr",
     "output_type": "stream",
     "text": [
      "posx and posy should be finite values\n",
      "posx and posy should be finite values\n",
      "posx and posy should be finite values\n"
     ]
    },
    {
     "data": {
      "image/png": "[encoded data removed]",
      "text/plain": [
       "<Figure size 360x360 with 1 Axes>"
      ]
     },
     "metadata": {
      "needs_background": "light"
     },
     "output_type": "display_data"
    }
   ],
   "source": [
    "fig = plt.figure(figsize = (5,5))\n",
    "ax1 = fig.add_subplot(111)\n",
    "ax1.set_ylabel('Patent Counts/Firms ')\n",
    "bar1 = ax1.bar(1,merge_df[merge_df['早期園區']==1]['專利數'].sum()/merge_df[merge_df['早期園區']==1]['專利數'].count(),alpha=0.7,width=0.35,color='r',label='早期園區')\n",
    "bar2 = ax1.bar(1+0.35,merge_df[merge_df['近期園區']==1]['專利數'].sum()/merge_df[merge_df['近期園區']==1]['專利數'].count(),alpha=0.7,width=0.35,color='b',label='近期園區')\n",
    "bar3 = ax1.bar(1+0.7,merge_df[(merge_df['近期園區']==0)&(merge_df['早期園區']==0)]['專利數'].sum()/merge_df[(merge_df['近期園區']==0)&(merge_df['早期園區']==0)]['專利數'].count(),alpha=0.7,width=0.35,color='k',label='園區外')\n",
    "\n",
    "plt.text(1, (merge_df[merge_df['早期園區']==1]['專利數'].sum()/merge_df[merge_df['早期園區']==1]['專利數'].count()), '%.2f' % (merge_df[merge_df['早期園區']==1]['專利數'].sum()/merge_df[merge_df['早期園區']==1]['專利數'].count()), ha='center', va= 'bottom',fontsize=12)  \n",
    "plt.text(1.35, (merge_df[merge_df['近期園區']==1]['專利數'].sum()/merge_df[merge_df['近期園區']==1]['專利數'].count()), '%.2f' % (merge_df[merge_df['近期園區']==1]['專利數'].sum()/merge_df[merge_df['近期園區']==1]['專利數'].count()), ha='center', va= 'bottom',fontsize=12)  \n",
    "plt.text(1.7, (merge_df[(merge_df['近期園區']==0)&(merge_df['早期園區']==0)]['專利數'].sum()/merge_df[(merge_df['近期園區']==0)&(merge_df['早期園區']==0)]['專利數'].count()), '%.0f' % (merge_df[(merge_df['近期園區']==0)&(merge_df['早期園區']==0)]['專利數'].sum()/merge_df[(merge_df['近期園區']==0)&(merge_df['早期園區']==0)]['專利數'].count()), ha='center', va= 'bottom',fontsize=12)  \n",
    "\n",
    "plt.title('青海',fontproperties=myfont,fontsize=20)\n",
    "plt.xticks([0.75,1,2],['','',''],fontproperties=myfont)\n",
    "plt.legend(handles = [bar1,bar2,bar3], loc='upper right',prop=myfont)"
   ]
  },
  {
   "cell_type": "code",
   "execution_count": null,
   "metadata": {},
   "outputs": [],
   "source": []
  }
 ],
 "metadata": {
  "kernelspec": {
   "display_name": "Python 3",
   "language": "python",
   "name": "python3"
  },
  "language_info": {
   "codemirror_mode": {
    "name": "ipython",
    "version": 3
   },
   "file_extension": ".py",
   "mimetype": "text/x-python",
   "name": "python",
   "nbconvert_exporter": "python",
   "pygments_lexer": "ipython3",
   "version": "3.7.4"
  }
 },
 "nbformat": 4,
 "nbformat_minor": 2
}
