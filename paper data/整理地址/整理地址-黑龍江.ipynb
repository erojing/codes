{
 "cells": [
  {
   "cell_type": "code",
   "execution_count": 1,
   "metadata": {},
   "outputs": [],
   "source": [
    "import pandas as pd\n",
    "import numpy as np\n",
    "import matplotlib.pyplot as plt\n",
    "import re\n",
    "import time\n",
    "import datetime\n",
    "import geocoder\n",
    "pd.set_option('display.max_rows',500)\n",
    "pd.set_option('display.max_columns',50)\n",
    "pd.set_option('max_colwidth',200)\n",
    "%matplotlib inline\n",
    "import requests\n",
    "import json\n",
    "import urllib\n",
    "from urllib.request import urlopen\n",
    "\n",
    "def getGeoForAddress(address):\n",
    "    add = urllib.parse.quote(address)\n",
    "    addressUrl = \"https://maps.googleapis.com/maps/api/geocode/json?address=\" + add + '&key='\n",
    "    res = requests.get(addressUrl)\n",
    "    js = json.loads(res.text)\n",
    "    if js.get('results'):\n",
    "        lat = js.get('results')[0]['geometry']['location']['lat']\n",
    "        lng = js.get('results')[0]['geometry']['location']['lng']\n",
    "    else:\n",
    "        lat = ''\n",
    "        lng = ''\n",
    "    return [lat, lng]\n",
    "def ngram(text, n=3, pad=True):\n",
    "    text = text.strip()\n",
    "    if pad:\n",
    "        text = \" %s \" % text\n",
    "    return set([text[i:i+n] for i in range(len(text)-n+1)])\n",
    "    \n",
    "def create_ngram(text1, text2, n=3, pad=True):\n",
    "    return ngram(text1, n=n, pad=pad), ngram(text2, n=n, pad=pad)\n",
    "\n",
    "def tversky_index(text1, text2, a=None, b=None, q=3, pad=True):\n",
    "    text1, text2 = create_ngram(text1, text2, n=q, pad=pad)\n",
    "    agree_tot = len(text1.intersection(text2))\n",
    "    v1 = len(text1) - agree_tot\n",
    "    v2 = len(text2) - agree_tot\n",
    "    \n",
    "    if a != None and b != None:\n",
    "        a = a/float(a+b)\n",
    "        b = b/float(a+b)\n",
    "    elif a <= 1.0 and a >= 0.0:\n",
    "        b = 1-a\n",
    "    elif b <= 1.0 and b >= 0.0:\n",
    "        a = 1-b\n",
    "    else:\n",
    "        a = 0.5\n",
    "        b = 0.5        \n",
    "    return float(agree_tot)/(agree_tot+a*v1+b*v2)\n",
    "# incoPat為申請人list\n",
    "def fuzzy(incoPat,indus):\n",
    "    corptype = ['有限','公司','责任','集团','股份','控股']\n",
    "    text1 = incoPat\n",
    "    text2 = indus\n",
    "    incoPat_nor = []   \n",
    "    for text in text1:\n",
    "        for i in corptype:\n",
    "            if i in text:\n",
    "                text = re.sub(i,'',text)\n",
    "        incoPat_nor.append(text)\n",
    "    for i in corptype:\n",
    "        if i in text2:\n",
    "            text2 = re.sub(i,'',text2)\n",
    "    similar = []\n",
    "    for text in incoPat_nor:\n",
    "        dice = tversky_index(text,text2, a=0.5, q=min(2,len(text),len(text2)), pad=False)\n",
    "        if dice>0.7:\n",
    "            similar.append([incoPat[incoPat_nor.index(text)],dice])\n",
    "        else:\n",
    "            pass\n",
    "    if len(similar)>0:\n",
    "        return similar[[k[1] for k in similar].index(max([i[1] for i in similar]))][0]\n",
    "    else:\n",
    "        return indus\n",
    "city_code = pd.read_excel('C:/Users/user/Dropbox/paper/科技園區/China/省地縣碼對照.xls')\n",
    "city_code = city_code[~city_code['代碼'].isnull()].drop(['标注','说明'],axis=1)\n",
    "city_code['代碼_str'] = city_code['代碼'].apply(lambda x:str(int(x)))\n",
    "city_code = city_code.drop('代碼',axis=1)"
   ]
  },
  {
   "cell_type": "code",
   "execution_count": 2,
   "metadata": {},
   "outputs": [],
   "source": [
    "df1 = pd.read_excel(r'E:\\paper\\專利資料-新型&授權\\新型授權-黑龍江1.xls')\n",
    "df2 = pd.read_excel(r'E:\\paper\\專利資料-新型&授權\\新型授權-黑龍江2.xls')\n",
    "patent_df = pd.concat([df1,df2],ignore_index=True)"
   ]
  },
  {
   "cell_type": "code",
   "execution_count": 4,
   "metadata": {
    "collapsed": true
   },
   "outputs": [
    {
     "name": "stderr",
     "output_type": "stream",
     "text": [
      "D:\\Anaconda\\lib\\site-packages\\IPython\\core\\interactiveshell.py:3058: DtypeWarning: Columns (0,3,16) have mixed types. Specify dtype option on import or set low_memory=False.\n",
      "  interactivity=interactivity, compiler=compiler, result=result)\n"
     ]
    }
   ],
   "source": [
    "#for PC\n",
    "patent_df = patent_df[patent_df['专利类型']=='发明授权']\n",
    "patent_df = patent_df[patent_df['申请人地址'].map(lambda x:len(re.findall(r'\\D+[\\s\\S]+',x)))==1]\n",
    "patent_df['申请人地址'] = patent_df['申请人地址'].map(lambda x:re.findall(r'\\D+[\\s\\S]+',x)[0])\n",
    "patent_df['申请人地址'] = patent_df['申请人地址'].map(lambda x:re.sub(r\"\\s+\", \"\",x))\n",
    "patent_df_firm = patent_df[patent_df['申请人类型'].str.contains('企业')]\n",
    "applicant = patent_df_firm['申请人'].str.split(';',expand=True).stack().reset_index(level=1,drop=True).rename('申请人2')\n",
    "patent_df_firm = patent_df_firm.join(applicant)\n",
    "patent_df_firm['類別'] = patent_df_firm['申请人类型'].map(lambda x:x.strip().split('  '))\n",
    "patent_df_firm = patent_df_firm[~patent_df_firm['标题'].duplicated()]\n",
    "patent_df_firm['申请人类型'] = patent_df_firm.apply(lambda x:x['類別'][0],axis=1)\n",
    "patent_df_firm = patent_df_firm[patent_df_firm['申请人类型']=='企业'].sort_values('申请日')\n",
    "patent_df_firm.drop(['類別','申请人'],axis=1,inplace=True)\n",
    "patent_df_firm.rename(columns={'申请人2':'申请人'},inplace=True)\n",
    "patent_df_firm = patent_df_firm[patent_df_firm['申请日']<datetime.datetime.strptime('2013-01-01','%Y-%m-%d')]\n",
    "patent_df_firm.drop_duplicates('申请人地址', keep='last', inplace=True)\n",
    "patent_df_firm.drop_duplicates('申请人', keep='last', inplace=True)\n",
    "\n",
    "firm_df = pd.read_csv(r'E:\\paper\\Firm csv\\firm_data_2012.csv')\n",
    "firm_hlj = firm_df[firm_df['區域代碼'].astype(str).str.contains(r'23\\d{10}')==True]\n",
    "firm_hlj = firm_hlj.loc[:,['法人代碼','企業名稱','地址','區域代碼','行業代碼']]\n",
    "firm_hlj['區域代碼_str'] = firm_hlj['區域代碼'].astype(str).map(lambda x:x[0:6])\n",
    "firm_hlj = pd.merge(firm_hlj,city_code,left_on='區域代碼_str',right_on='代碼_str',how='left')\n",
    "firm_hlj['名稱'].fillna('',inplace=True)\n",
    "firm_hlj['市級'].fillna('',inplace=True)\n",
    "firm_hlj['省份'].fillna('',inplace=True)\n",
    "firm_hlj['地址'].fillna('',inplace=True)\n",
    "firm_hlj['地址'] = firm_hlj['地址'].map(lambda x:re.sub(r\"\\s+\", \"\",x))\n",
    "firm_hlj['地址'] = firm_hlj.apply(lambda x:re.sub(x['省份'],\"\",x['地址']),axis=1)\n",
    "firm_hlj['地址'] = firm_hlj.apply(lambda x:re.sub(x['市級'],\"\",x['地址']),axis=1)\n",
    "firm_hlj['地址'] = firm_hlj.apply(lambda x:re.sub(x['名稱'],\"\",x['地址']),axis=1)\n",
    "firm_hlj['地址'] = firm_hlj['省份']+firm_hlj['市級']+firm_hlj['名稱']+firm_hlj['地址']\n",
    "firm_hlj.drop(['省份','市級','名稱','代碼_str'],axis=1,inplace=True)\n",
    "firm_hlj.dropna(subset=['企業名稱'],inplace=True)"
   ]
  },
  {
   "cell_type": "code",
   "execution_count": 11,
   "metadata": {
    "collapsed": true
   },
   "outputs": [
    {
     "data": {
      "text/html": [
       "<div>\n",
       "<style scoped>\n",
       "    .dataframe tbody tr th:only-of-type {\n",
       "        vertical-align: middle;\n",
       "    }\n",
       "\n",
       "    .dataframe tbody tr th {\n",
       "        vertical-align: top;\n",
       "    }\n",
       "\n",
       "    .dataframe thead th {\n",
       "        text-align: right;\n",
       "    }\n",
       "</style>\n",
       "<table border=\"1\" class=\"dataframe\">\n",
       "  <thead>\n",
       "    <tr style=\"text-align: right;\">\n",
       "      <th></th>\n",
       "      <th>序号</th>\n",
       "      <th>标题</th>\n",
       "      <th>文献页数</th>\n",
       "      <th>合享价值度</th>\n",
       "      <th>链接到incoPat</th>\n",
       "      <th>公开（公告）号</th>\n",
       "      <th>公开（公告）日</th>\n",
       "      <th>申请号</th>\n",
       "      <th>申请日</th>\n",
       "      <th>申请人</th>\n",
       "      <th>标准化申请人</th>\n",
       "      <th>申请人国别代码</th>\n",
       "      <th>申请人省市代码</th>\n",
       "      <th>中国申请人地市</th>\n",
       "      <th>中国申请人区县</th>\n",
       "      <th>申请人地址</th>\n",
       "      <th>申请人类型</th>\n",
       "      <th>优先权信息</th>\n",
       "      <th>权利要求数量</th>\n",
       "      <th>专利类型</th>\n",
       "      <th>发明人</th>\n",
       "      <th>IPC</th>\n",
       "      <th>CPC</th>\n",
       "      <th>简单同族</th>\n",
       "      <th>扩展同族</th>\n",
       "      <th>inpadoc同族</th>\n",
       "      <th>同族国家</th>\n",
       "      <th>简单同族个数</th>\n",
       "      <th>扩展同族个数</th>\n",
       "      <th>inpadoc同族个数</th>\n",
       "      <th>引证专利</th>\n",
       "      <th>被引证专利</th>\n",
       "      <th>被引证次数</th>\n",
       "      <th>引证科技文献</th>\n",
       "      <th>专利寿命（月）</th>\n",
       "      <th>被引证国别(forward)</th>\n",
       "      <th>失效日</th>\n",
       "      <th>公开国别</th>\n",
       "    </tr>\n",
       "  </thead>\n",
       "  <tbody>\n",
       "    <tr>\n",
       "      <td>72393</td>\n",
       "      <td>12394</td>\n",
       "      <td>桥梁箱梁底部钢绞线张拉限位装置</td>\n",
       "      <td>6</td>\n",
       "      <td>8</td>\n",
       "      <td>到incoPat中查看\\r\\nCN201183289Y</td>\n",
       "      <td>CN201183289Y</td>\n",
       "      <td>2009-01-21</td>\n",
       "      <td>CN200820089015.X</td>\n",
       "      <td>2008-01-04</td>\n",
       "      <td>中铁十三局集团有限公司</td>\n",
       "      <td>[中国铁建-C]</td>\n",
       "      <td>中国</td>\n",
       "      <td>黑龙江; 23</td>\n",
       "      <td>[哈尔滨]</td>\n",
       "      <td>[南岗]</td>\n",
       "      <td>黑龙江省哈尔滨市南岗区先锋路459号四公司转</td>\n",
       "      <td>企业</td>\n",
       "      <td>CN200820089015 20080104</td>\n",
       "      <td>5</td>\n",
       "      <td>实用新型</td>\n",
       "      <td>吴宝喜</td>\n",
       "      <td>B28B23/04</td>\n",
       "      <td>NaN</td>\n",
       "      <td>CN201183289Y</td>\n",
       "      <td>CN201183289Y</td>\n",
       "      <td>CN201183289Y</td>\n",
       "      <td>CN</td>\n",
       "      <td>1</td>\n",
       "      <td>1</td>\n",
       "      <td>1</td>\n",
       "      <td>NaN</td>\n",
       "      <td>NaN</td>\n",
       "      <td>0</td>\n",
       "      <td>NaN</td>\n",
       "      <td>120.0</td>\n",
       "      <td>NaN</td>\n",
       "      <td>2018-01-04</td>\n",
       "      <td>CN</td>\n",
       "    </tr>\n",
       "    <tr>\n",
       "      <td>72397</td>\n",
       "      <td>12398</td>\n",
       "      <td>电梯曳引机承重梁封头装置</td>\n",
       "      <td>6</td>\n",
       "      <td>4</td>\n",
       "      <td>到incoPat中查看\\r\\nCN201183700Y</td>\n",
       "      <td>CN201183700Y</td>\n",
       "      <td>2009-01-21</td>\n",
       "      <td>CN200820089070.9</td>\n",
       "      <td>2008-01-08</td>\n",
       "      <td>齐齐哈尔西格玛电梯安装有限公司</td>\n",
       "      <td>NaN</td>\n",
       "      <td>中国</td>\n",
       "      <td>黑龙江; 23</td>\n",
       "      <td>[齐齐哈尔]</td>\n",
       "      <td>[龙江]</td>\n",
       "      <td>黑龙江省齐齐哈尔市新明大街25号1号楼3单元101室</td>\n",
       "      <td>企业</td>\n",
       "      <td>CN200820089070 20080108</td>\n",
       "      <td>1</td>\n",
       "      <td>实用新型</td>\n",
       "      <td>徐云彻; 孔建伟</td>\n",
       "      <td>B66B11/00</td>\n",
       "      <td>NaN</td>\n",
       "      <td>CN201183700Y</td>\n",
       "      <td>CN201183700Y</td>\n",
       "      <td>CN201183700Y</td>\n",
       "      <td>CN</td>\n",
       "      <td>1</td>\n",
       "      <td>1</td>\n",
       "      <td>1</td>\n",
       "      <td>NaN</td>\n",
       "      <td>NaN</td>\n",
       "      <td>0</td>\n",
       "      <td>NaN</td>\n",
       "      <td>96.0</td>\n",
       "      <td>NaN</td>\n",
       "      <td>2016-01-08</td>\n",
       "      <td>CN</td>\n",
       "    </tr>\n",
       "    <tr>\n",
       "      <td>55895</td>\n",
       "      <td>55896</td>\n",
       "      <td>井管的制作方法</td>\n",
       "      <td>7</td>\n",
       "      <td>8</td>\n",
       "      <td>到incoPat中查看\\r\\nCN101486227B</td>\n",
       "      <td>CN101486227B</td>\n",
       "      <td>2011-11-23</td>\n",
       "      <td>CN200810000508.6</td>\n",
       "      <td>2008-01-18</td>\n",
       "      <td>哈尔滨三元水工业科技发展有限责任公司</td>\n",
       "      <td>NaN</td>\n",
       "      <td>中国</td>\n",
       "      <td>黑龙江; 23</td>\n",
       "      <td>[哈尔滨]</td>\n",
       "      <td>[道外]</td>\n",
       "      <td>黑龙江省哈尔滨市道外区太古街133号</td>\n",
       "      <td>企业</td>\n",
       "      <td>NaN</td>\n",
       "      <td>5</td>\n",
       "      <td>发明授权</td>\n",
       "      <td>徐建国</td>\n",
       "      <td>B28B21/24; B28B21/34</td>\n",
       "      <td>NaN</td>\n",
       "      <td>CN101486227B; CN101486227A</td>\n",
       "      <td>CN101486227A; CN101486227B</td>\n",
       "      <td>CN101486227B; CN101486227A</td>\n",
       "      <td>CN</td>\n",
       "      <td>2</td>\n",
       "      <td>2</td>\n",
       "      <td>2</td>\n",
       "      <td>CN2712588Y; CN1048188A; US4079500A; DE2019565A1; DE2228882A1</td>\n",
       "      <td>NaN</td>\n",
       "      <td>0</td>\n",
       "      <td>NaN</td>\n",
       "      <td>96.0</td>\n",
       "      <td>NaN</td>\n",
       "      <td>2016-01-18</td>\n",
       "      <td>CN</td>\n",
       "    </tr>\n",
       "    <tr>\n",
       "      <td>72820</td>\n",
       "      <td>12821</td>\n",
       "      <td>快速定位锁紧联动装置</td>\n",
       "      <td>5</td>\n",
       "      <td>7</td>\n",
       "      <td>到incoPat中查看\\r\\nCN201165210Y</td>\n",
       "      <td>CN201165210Y</td>\n",
       "      <td>2008-12-17</td>\n",
       "      <td>CN200820089117.1</td>\n",
       "      <td>2008-01-18</td>\n",
       "      <td>航天科工哈尔滨风华有限公司航天产品分公司</td>\n",
       "      <td>NaN</td>\n",
       "      <td>中国</td>\n",
       "      <td>黑龙江; 23</td>\n",
       "      <td>[哈尔滨]</td>\n",
       "      <td>[南岗]</td>\n",
       "      <td>黑龙江省哈尔滨市南岗区中山路115号哈尔滨市90信箱40分箱</td>\n",
       "      <td>企业</td>\n",
       "      <td>CN200820089117 20080118</td>\n",
       "      <td>2</td>\n",
       "      <td>实用新型</td>\n",
       "      <td>肖波; 施晶; 郭君; 王宏鹏</td>\n",
       "      <td>B60P7/15</td>\n",
       "      <td>NaN</td>\n",
       "      <td>CN201165210Y</td>\n",
       "      <td>CN201165210Y</td>\n",
       "      <td>CN201165210Y</td>\n",
       "      <td>CN</td>\n",
       "      <td>1</td>\n",
       "      <td>1</td>\n",
       "      <td>1</td>\n",
       "      <td>NaN</td>\n",
       "      <td>CN102431716A</td>\n",
       "      <td>1</td>\n",
       "      <td>NaN</td>\n",
       "      <td>60.0</td>\n",
       "      <td>中国</td>\n",
       "      <td>2013-01-18</td>\n",
       "      <td>CN</td>\n",
       "    </tr>\n",
       "    <tr>\n",
       "      <td>73058</td>\n",
       "      <td>13059</td>\n",
       "      <td>一种布匹裁条机</td>\n",
       "      <td>5</td>\n",
       "      <td>2</td>\n",
       "      <td>到incoPat中查看\\r\\nCN201155063Y</td>\n",
       "      <td>CN201155063Y</td>\n",
       "      <td>2008-11-26</td>\n",
       "      <td>CN200820089156.1</td>\n",
       "      <td>2008-01-19</td>\n",
       "      <td>大庆市三环钻井工程有限公司</td>\n",
       "      <td>NaN</td>\n",
       "      <td>中国</td>\n",
       "      <td>黑龙江; 23</td>\n",
       "      <td>[大庆]</td>\n",
       "      <td>[萨尔图]</td>\n",
       "      <td>黑龙江省大庆市萨尔图区东风新村经三街169号</td>\n",
       "      <td>企业</td>\n",
       "      <td>CN200820089156 20080119</td>\n",
       "      <td>2</td>\n",
       "      <td>实用新型</td>\n",
       "      <td>杨晶才</td>\n",
       "      <td>D06H7/00</td>\n",
       "      <td>NaN</td>\n",
       "      <td>CN201155063Y</td>\n",
       "      <td>CN201155063Y</td>\n",
       "      <td>CN201155063Y</td>\n",
       "      <td>CN</td>\n",
       "      <td>1</td>\n",
       "      <td>1</td>\n",
       "      <td>1</td>\n",
       "      <td>NaN</td>\n",
       "      <td>NaN</td>\n",
       "      <td>0</td>\n",
       "      <td>NaN</td>\n",
       "      <td>25.0</td>\n",
       "      <td>NaN</td>\n",
       "      <td>2010-02-20</td>\n",
       "      <td>CN</td>\n",
       "    </tr>\n",
       "    <tr>\n",
       "      <td>...</td>\n",
       "      <td>...</td>\n",
       "      <td>...</td>\n",
       "      <td>...</td>\n",
       "      <td>...</td>\n",
       "      <td>...</td>\n",
       "      <td>...</td>\n",
       "      <td>...</td>\n",
       "      <td>...</td>\n",
       "      <td>...</td>\n",
       "      <td>...</td>\n",
       "      <td>...</td>\n",
       "      <td>...</td>\n",
       "      <td>...</td>\n",
       "      <td>...</td>\n",
       "      <td>...</td>\n",
       "      <td>...</td>\n",
       "      <td>...</td>\n",
       "      <td>...</td>\n",
       "      <td>...</td>\n",
       "      <td>...</td>\n",
       "      <td>...</td>\n",
       "      <td>...</td>\n",
       "      <td>...</td>\n",
       "      <td>...</td>\n",
       "      <td>...</td>\n",
       "      <td>...</td>\n",
       "      <td>...</td>\n",
       "      <td>...</td>\n",
       "      <td>...</td>\n",
       "      <td>...</td>\n",
       "      <td>...</td>\n",
       "      <td>...</td>\n",
       "      <td>...</td>\n",
       "      <td>...</td>\n",
       "      <td>...</td>\n",
       "      <td>...</td>\n",
       "      <td>...</td>\n",
       "      <td>...</td>\n",
       "    </tr>\n",
       "    <tr>\n",
       "      <td>8881</td>\n",
       "      <td>8882</td>\n",
       "      <td>井口水过滤器</td>\n",
       "      <td>5</td>\n",
       "      <td>7</td>\n",
       "      <td>到incoPat中查看\\r\\nCN204364991U</td>\n",
       "      <td>CN204364991U</td>\n",
       "      <td>2015-06-03</td>\n",
       "      <td>CN201420861742.9</td>\n",
       "      <td>2014-12-31</td>\n",
       "      <td>牡丹江博实石油机械科技有限公司</td>\n",
       "      <td>NaN</td>\n",
       "      <td>中国</td>\n",
       "      <td>黑龙江; 23</td>\n",
       "      <td>[牡丹江]</td>\n",
       "      <td>[东安]</td>\n",
       "      <td>黑龙江省牡丹江市东安区东七条路新安街木工机械厂院内</td>\n",
       "      <td>企业</td>\n",
       "      <td>NaN</td>\n",
       "      <td>6</td>\n",
       "      <td>实用新型</td>\n",
       "      <td>马中原; 高风启; 汪斌; 王大彪; 周健</td>\n",
       "      <td>B01D29/33</td>\n",
       "      <td>NaN</td>\n",
       "      <td>CN204364991U</td>\n",
       "      <td>CN204364991U</td>\n",
       "      <td>CN204364991U</td>\n",
       "      <td>CN</td>\n",
       "      <td>1</td>\n",
       "      <td>1</td>\n",
       "      <td>1</td>\n",
       "      <td>NaN</td>\n",
       "      <td>NaN</td>\n",
       "      <td>0</td>\n",
       "      <td>NaN</td>\n",
       "      <td>NaN</td>\n",
       "      <td>NaN</td>\n",
       "      <td>NaT</td>\n",
       "      <td>CN</td>\n",
       "    </tr>\n",
       "    <tr>\n",
       "      <td>2565</td>\n",
       "      <td>2566</td>\n",
       "      <td>高效禽类骨肉分离机</td>\n",
       "      <td>5</td>\n",
       "      <td>7</td>\n",
       "      <td>到incoPat中查看\\r\\nCN104542881B</td>\n",
       "      <td>CN104542881B</td>\n",
       "      <td>2016-09-14</td>\n",
       "      <td>CN201410850231.1</td>\n",
       "      <td>2014-12-31</td>\n",
       "      <td>齐齐哈尔双百机械制造有限公司</td>\n",
       "      <td>NaN</td>\n",
       "      <td>中国</td>\n",
       "      <td>黑龙江; 23</td>\n",
       "      <td>[齐齐哈尔]</td>\n",
       "      <td>[昂昂溪]</td>\n",
       "      <td>黑龙江省齐齐哈尔市昂昂溪区金水二街58号</td>\n",
       "      <td>企业</td>\n",
       "      <td>NaN</td>\n",
       "      <td>1</td>\n",
       "      <td>发明授权</td>\n",
       "      <td>张百春; 王中秋</td>\n",
       "      <td>A22C21/00</td>\n",
       "      <td>NaN</td>\n",
       "      <td>CN104542881A; CN104542881B</td>\n",
       "      <td>CN104542881A; CN104542881B</td>\n",
       "      <td>CN104542881A; CN104542881B</td>\n",
       "      <td>CN</td>\n",
       "      <td>2</td>\n",
       "      <td>2</td>\n",
       "      <td>2</td>\n",
       "      <td>NaN</td>\n",
       "      <td>NaN</td>\n",
       "      <td>0</td>\n",
       "      <td>NaN</td>\n",
       "      <td>NaN</td>\n",
       "      <td>NaN</td>\n",
       "      <td>NaT</td>\n",
       "      <td>CN</td>\n",
       "    </tr>\n",
       "    <tr>\n",
       "      <td>9544</td>\n",
       "      <td>9545</td>\n",
       "      <td>一种免驱动Android软件户外推广设备</td>\n",
       "      <td>5</td>\n",
       "      <td>8</td>\n",
       "      <td>到incoPat中查看\\r\\nCN204347821U</td>\n",
       "      <td>CN204347821U</td>\n",
       "      <td>2015-05-20</td>\n",
       "      <td>CN201420859886.0</td>\n",
       "      <td>2014-12-31</td>\n",
       "      <td>哈尔滨安天科技股份有限公司</td>\n",
       "      <td>[安天科技-C]</td>\n",
       "      <td>中国</td>\n",
       "      <td>黑龙江; 23</td>\n",
       "      <td>[哈尔滨]</td>\n",
       "      <td>[南岗]</td>\n",
       "      <td>黑龙江省哈尔滨市开发区南岗集中区红旗大街162号506室</td>\n",
       "      <td>企业</td>\n",
       "      <td>NaN</td>\n",
       "      <td>3</td>\n",
       "      <td>实用新型</td>\n",
       "      <td>宛宏祥; 黄显澍; 桑胜田</td>\n",
       "      <td>G06F9/44; G06F9/445</td>\n",
       "      <td>NaN</td>\n",
       "      <td>CN204347821U</td>\n",
       "      <td>CN204347821U</td>\n",
       "      <td>CN204347821U</td>\n",
       "      <td>CN</td>\n",
       "      <td>1</td>\n",
       "      <td>1</td>\n",
       "      <td>1</td>\n",
       "      <td>NaN</td>\n",
       "      <td>NaN</td>\n",
       "      <td>0</td>\n",
       "      <td>NaN</td>\n",
       "      <td>NaN</td>\n",
       "      <td>NaN</td>\n",
       "      <td>NaT</td>\n",
       "      <td>CN</td>\n",
       "    </tr>\n",
       "    <tr>\n",
       "      <td>174</td>\n",
       "      <td>175</td>\n",
       "      <td>车用电子喇叭的发声方法</td>\n",
       "      <td>7</td>\n",
       "      <td>7</td>\n",
       "      <td>到incoPat中查看\\r\\nCN104538015B</td>\n",
       "      <td>CN104538015B</td>\n",
       "      <td>2018-07-10</td>\n",
       "      <td>CN201410846994.9</td>\n",
       "      <td>2014-12-31</td>\n",
       "      <td>哈尔滨固泰电子有限责任公司</td>\n",
       "      <td>NaN</td>\n",
       "      <td>中国</td>\n",
       "      <td>黑龙江; 23</td>\n",
       "      <td>[哈尔滨]</td>\n",
       "      <td>[平房]</td>\n",
       "      <td>黑龙江省哈尔滨市平房区大连北路1号</td>\n",
       "      <td>企业</td>\n",
       "      <td>NaN</td>\n",
       "      <td>2</td>\n",
       "      <td>发明授权</td>\n",
       "      <td>赵宏伟</td>\n",
       "      <td>G10K9/13</td>\n",
       "      <td>NaN</td>\n",
       "      <td>CN104538015B; CN104538015A</td>\n",
       "      <td>CN104538015B; CN104538015A</td>\n",
       "      <td>CN104538015A; CN104538015B</td>\n",
       "      <td>CN</td>\n",
       "      <td>2</td>\n",
       "      <td>2</td>\n",
       "      <td>2</td>\n",
       "      <td>CN204288792U; CN1427393A; CN103745716A; CN200947672Y</td>\n",
       "      <td>NaN</td>\n",
       "      <td>0</td>\n",
       "      <td>NaN</td>\n",
       "      <td>NaN</td>\n",
       "      <td>NaN</td>\n",
       "      <td>NaT</td>\n",
       "      <td>CN</td>\n",
       "    </tr>\n",
       "    <tr>\n",
       "      <td>7840</td>\n",
       "      <td>7841</td>\n",
       "      <td>一种五位一体的农田种植系统</td>\n",
       "      <td>6</td>\n",
       "      <td>10</td>\n",
       "      <td>到incoPat中查看\\r\\nCN204510932U</td>\n",
       "      <td>CN204510932U</td>\n",
       "      <td>2015-07-29</td>\n",
       "      <td>CN201520001808.1</td>\n",
       "      <td>2015-01-01</td>\n",
       "      <td>鹤岗市三江平原米业集团有限公司</td>\n",
       "      <td>NaN</td>\n",
       "      <td>中国</td>\n",
       "      <td>黑龙江; 23</td>\n",
       "      <td>[鹤岗]</td>\n",
       "      <td>[东山]</td>\n",
       "      <td>黑龙江省鹤岗市东山区6委16组</td>\n",
       "      <td>企业</td>\n",
       "      <td>NaN</td>\n",
       "      <td>4</td>\n",
       "      <td>实用新型</td>\n",
       "      <td>崔永军</td>\n",
       "      <td>E04H5/08; A01G16/00</td>\n",
       "      <td>NaN</td>\n",
       "      <td>CN204510932U</td>\n",
       "      <td>CN204510932U</td>\n",
       "      <td>CN204510932U</td>\n",
       "      <td>CN</td>\n",
       "      <td>1</td>\n",
       "      <td>1</td>\n",
       "      <td>1</td>\n",
       "      <td>NaN</td>\n",
       "      <td>CN105888319A; CN106069436A</td>\n",
       "      <td>2</td>\n",
       "      <td>NaN</td>\n",
       "      <td>NaN</td>\n",
       "      <td>中国</td>\n",
       "      <td>NaT</td>\n",
       "      <td>CN</td>\n",
       "    </tr>\n",
       "  </tbody>\n",
       "</table>\n",
       "<p>2209 rows × 38 columns</p>\n",
       "</div>"
      ],
      "text/plain": [
       "          序号                    标题  文献页数  合享价值度                   链接到incoPat  \\\n",
       "72393  12394       桥梁箱梁底部钢绞线张拉限位装置     6      8  到incoPat中查看\\r\\nCN201183289Y   \n",
       "72397  12398          电梯曳引机承重梁封头装置     6      4  到incoPat中查看\\r\\nCN201183700Y   \n",
       "55895  55896               井管的制作方法     7      8  到incoPat中查看\\r\\nCN101486227B   \n",
       "72820  12821            快速定位锁紧联动装置     5      7  到incoPat中查看\\r\\nCN201165210Y   \n",
       "73058  13059               一种布匹裁条机     5      2  到incoPat中查看\\r\\nCN201155063Y   \n",
       "...      ...                   ...   ...    ...                          ...   \n",
       "8881    8882                井口水过滤器     5      7  到incoPat中查看\\r\\nCN204364991U   \n",
       "2565    2566             高效禽类骨肉分离机     5      7  到incoPat中查看\\r\\nCN104542881B   \n",
       "9544    9545  一种免驱动Android软件户外推广设备     5      8  到incoPat中查看\\r\\nCN204347821U   \n",
       "174      175           车用电子喇叭的发声方法     7      7  到incoPat中查看\\r\\nCN104538015B   \n",
       "7840    7841         一种五位一体的农田种植系统     6     10  到incoPat中查看\\r\\nCN204510932U   \n",
       "\n",
       "            公开（公告）号    公开（公告）日               申请号        申请日  \\\n",
       "72393  CN201183289Y 2009-01-21  CN200820089015.X 2008-01-04   \n",
       "72397  CN201183700Y 2009-01-21  CN200820089070.9 2008-01-08   \n",
       "55895  CN101486227B 2011-11-23  CN200810000508.6 2008-01-18   \n",
       "72820  CN201165210Y 2008-12-17  CN200820089117.1 2008-01-18   \n",
       "73058  CN201155063Y 2008-11-26  CN200820089156.1 2008-01-19   \n",
       "...             ...        ...               ...        ...   \n",
       "8881   CN204364991U 2015-06-03  CN201420861742.9 2014-12-31   \n",
       "2565   CN104542881B 2016-09-14  CN201410850231.1 2014-12-31   \n",
       "9544   CN204347821U 2015-05-20  CN201420859886.0 2014-12-31   \n",
       "174    CN104538015B 2018-07-10  CN201410846994.9 2014-12-31   \n",
       "7840   CN204510932U 2015-07-29  CN201520001808.1 2015-01-01   \n",
       "\n",
       "                        申请人    标准化申请人 申请人国别代码  申请人省市代码 中国申请人地市 中国申请人区县  \\\n",
       "72393           中铁十三局集团有限公司  [中国铁建-C]      中国  黑龙江; 23   [哈尔滨]    [南岗]   \n",
       "72397       齐齐哈尔西格玛电梯安装有限公司       NaN      中国  黑龙江; 23  [齐齐哈尔]    [龙江]   \n",
       "55895    哈尔滨三元水工业科技发展有限责任公司       NaN      中国  黑龙江; 23   [哈尔滨]    [道外]   \n",
       "72820  航天科工哈尔滨风华有限公司航天产品分公司       NaN      中国  黑龙江; 23   [哈尔滨]    [南岗]   \n",
       "73058         大庆市三环钻井工程有限公司       NaN      中国  黑龙江; 23    [大庆]   [萨尔图]   \n",
       "...                     ...       ...     ...      ...     ...     ...   \n",
       "8881        牡丹江博实石油机械科技有限公司       NaN      中国  黑龙江; 23   [牡丹江]    [东安]   \n",
       "2565         齐齐哈尔双百机械制造有限公司       NaN      中国  黑龙江; 23  [齐齐哈尔]   [昂昂溪]   \n",
       "9544          哈尔滨安天科技股份有限公司  [安天科技-C]      中国  黑龙江; 23   [哈尔滨]    [南岗]   \n",
       "174           哈尔滨固泰电子有限责任公司       NaN      中国  黑龙江; 23   [哈尔滨]    [平房]   \n",
       "7840        鹤岗市三江平原米业集团有限公司       NaN      中国  黑龙江; 23    [鹤岗]    [东山]   \n",
       "\n",
       "                                申请人地址 申请人类型                    优先权信息  权利要求数量  \\\n",
       "72393          黑龙江省哈尔滨市南岗区先锋路459号四公司转    企业  CN200820089015 20080104       5   \n",
       "72397      黑龙江省齐齐哈尔市新明大街25号1号楼3单元101室    企业  CN200820089070 20080108       1   \n",
       "55895              黑龙江省哈尔滨市道外区太古街133号    企业                      NaN       5   \n",
       "72820  黑龙江省哈尔滨市南岗区中山路115号哈尔滨市90信箱40分箱    企业  CN200820089117 20080118       2   \n",
       "73058          黑龙江省大庆市萨尔图区东风新村经三街169号    企业  CN200820089156 20080119       2   \n",
       "...                               ...   ...                      ...     ...   \n",
       "8881        黑龙江省牡丹江市东安区东七条路新安街木工机械厂院内    企业                      NaN       6   \n",
       "2565             黑龙江省齐齐哈尔市昂昂溪区金水二街58号    企业                      NaN       1   \n",
       "9544     黑龙江省哈尔滨市开发区南岗集中区红旗大街162号506室    企业                      NaN       3   \n",
       "174                 黑龙江省哈尔滨市平房区大连北路1号    企业                      NaN       2   \n",
       "7840                  黑龙江省鹤岗市东山区6委16组    企业                      NaN       4   \n",
       "\n",
       "       专利类型                    发明人                   IPC  CPC  \\\n",
       "72393  实用新型                    吴宝喜             B28B23/04  NaN   \n",
       "72397  实用新型               徐云彻; 孔建伟             B66B11/00  NaN   \n",
       "55895  发明授权                    徐建国  B28B21/24; B28B21/34  NaN   \n",
       "72820  实用新型        肖波; 施晶; 郭君; 王宏鹏              B60P7/15  NaN   \n",
       "73058  实用新型                    杨晶才              D06H7/00  NaN   \n",
       "...     ...                    ...                   ...  ...   \n",
       "8881   实用新型  马中原; 高风启; 汪斌; 王大彪; 周健             B01D29/33  NaN   \n",
       "2565   发明授权               张百春; 王中秋             A22C21/00  NaN   \n",
       "9544   实用新型          宛宏祥; 黄显澍; 桑胜田   G06F9/44; G06F9/445  NaN   \n",
       "174    发明授权                    赵宏伟              G10K9/13  NaN   \n",
       "7840   实用新型                    崔永军   E04H5/08; A01G16/00  NaN   \n",
       "\n",
       "                             简单同族                        扩展同族  \\\n",
       "72393                CN201183289Y                CN201183289Y   \n",
       "72397                CN201183700Y                CN201183700Y   \n",
       "55895  CN101486227B; CN101486227A  CN101486227A; CN101486227B   \n",
       "72820                CN201165210Y                CN201165210Y   \n",
       "73058                CN201155063Y                CN201155063Y   \n",
       "...                           ...                         ...   \n",
       "8881                 CN204364991U                CN204364991U   \n",
       "2565   CN104542881A; CN104542881B  CN104542881A; CN104542881B   \n",
       "9544                 CN204347821U                CN204347821U   \n",
       "174    CN104538015B; CN104538015A  CN104538015B; CN104538015A   \n",
       "7840                 CN204510932U                CN204510932U   \n",
       "\n",
       "                        inpadoc同族 同族国家  简单同族个数  扩展同族个数  inpadoc同族个数  \\\n",
       "72393                CN201183289Y   CN       1       1            1   \n",
       "72397                CN201183700Y   CN       1       1            1   \n",
       "55895  CN101486227B; CN101486227A   CN       2       2            2   \n",
       "72820                CN201165210Y   CN       1       1            1   \n",
       "73058                CN201155063Y   CN       1       1            1   \n",
       "...                           ...  ...     ...     ...          ...   \n",
       "8881                 CN204364991U   CN       1       1            1   \n",
       "2565   CN104542881A; CN104542881B   CN       2       2            2   \n",
       "9544                 CN204347821U   CN       1       1            1   \n",
       "174    CN104538015A; CN104538015B   CN       2       2            2   \n",
       "7840                 CN204510932U   CN       1       1            1   \n",
       "\n",
       "                                                               引证专利  \\\n",
       "72393                                                           NaN   \n",
       "72397                                                           NaN   \n",
       "55895  CN2712588Y; CN1048188A; US4079500A; DE2019565A1; DE2228882A1   \n",
       "72820                                                           NaN   \n",
       "73058                                                           NaN   \n",
       "...                                                             ...   \n",
       "8881                                                            NaN   \n",
       "2565                                                            NaN   \n",
       "9544                                                            NaN   \n",
       "174            CN204288792U; CN1427393A; CN103745716A; CN200947672Y   \n",
       "7840                                                            NaN   \n",
       "\n",
       "                            被引证专利  被引证次数 引证科技文献  专利寿命（月） 被引证国别(forward)  \\\n",
       "72393                         NaN      0    NaN    120.0            NaN   \n",
       "72397                         NaN      0    NaN     96.0            NaN   \n",
       "55895                         NaN      0    NaN     96.0            NaN   \n",
       "72820                CN102431716A      1    NaN     60.0             中国   \n",
       "73058                         NaN      0    NaN     25.0            NaN   \n",
       "...                           ...    ...    ...      ...            ...   \n",
       "8881                          NaN      0    NaN      NaN            NaN   \n",
       "2565                          NaN      0    NaN      NaN            NaN   \n",
       "9544                          NaN      0    NaN      NaN            NaN   \n",
       "174                           NaN      0    NaN      NaN            NaN   \n",
       "7840   CN105888319A; CN106069436A      2    NaN      NaN             中国   \n",
       "\n",
       "             失效日 公开国别  \n",
       "72393 2018-01-04   CN  \n",
       "72397 2016-01-08   CN  \n",
       "55895 2016-01-18   CN  \n",
       "72820 2013-01-18   CN  \n",
       "73058 2010-02-20   CN  \n",
       "...          ...  ...  \n",
       "8881         NaT   CN  \n",
       "2565         NaT   CN  \n",
       "9544         NaT   CN  \n",
       "174          NaT   CN  \n",
       "7840         NaT   CN  \n",
       "\n",
       "[2209 rows x 38 columns]"
      ]
     },
     "execution_count": 11,
     "metadata": {},
     "output_type": "execute_result"
    }
   ],
   "source": [
    "patent_df_firm"
   ]
  },
  {
   "cell_type": "code",
   "execution_count": 9,
   "metadata": {
    "collapsed": true
   },
   "outputs": [
    {
     "data": {
      "text/html": [
       "<div>\n",
       "<style scoped>\n",
       "    .dataframe tbody tr th:only-of-type {\n",
       "        vertical-align: middle;\n",
       "    }\n",
       "\n",
       "    .dataframe tbody tr th {\n",
       "        vertical-align: top;\n",
       "    }\n",
       "\n",
       "    .dataframe thead th {\n",
       "        text-align: right;\n",
       "    }\n",
       "</style>\n",
       "<table border=\"1\" class=\"dataframe\">\n",
       "  <thead>\n",
       "    <tr style=\"text-align: right;\">\n",
       "      <th></th>\n",
       "      <th>法人代碼</th>\n",
       "      <th>企業名稱</th>\n",
       "      <th>地址</th>\n",
       "      <th>區域代碼</th>\n",
       "      <th>行業代碼</th>\n",
       "      <th>區域代碼_str</th>\n",
       "    </tr>\n",
       "  </thead>\n",
       "  <tbody>\n",
       "    <tr>\n",
       "      <td>0</td>\n",
       "      <td>00176423X</td>\n",
       "      <td>肇源县电业局</td>\n",
       "      <td>黑龙江省大庆市肇源县中央大街</td>\n",
       "      <td>230622100007</td>\n",
       "      <td>4420</td>\n",
       "      <td>230622</td>\n",
       "    </tr>\n",
       "    <tr>\n",
       "      <td>1</td>\n",
       "      <td>05285143X</td>\n",
       "      <td>大庆市艾路交通设施有限公司</td>\n",
       "      <td>黑龙江省大庆市萨尔图区拥军大街标杆村</td>\n",
       "      <td>230602008004</td>\n",
       "      <td>3792</td>\n",
       "      <td>230602</td>\n",
       "    </tr>\n",
       "    <tr>\n",
       "      <td>2</td>\n",
       "      <td>05286322X</td>\n",
       "      <td>海林市宏泰木业有限公司</td>\n",
       "      <td>黑龙江省牡丹江市海林市柴河林业局铁东路97号</td>\n",
       "      <td>231083404002</td>\n",
       "      <td>2440</td>\n",
       "      <td>231083</td>\n",
       "    </tr>\n",
       "    <tr>\n",
       "      <td>3</td>\n",
       "      <td>100049039</td>\n",
       "      <td>大庆市让胡路区建民预制厂</td>\n",
       "      <td>黑龙江省大庆市让胡路区西虹2路</td>\n",
       "      <td>230604004007</td>\n",
       "      <td>3122</td>\n",
       "      <td>230604</td>\n",
       "    </tr>\n",
       "    <tr>\n",
       "      <td>4</td>\n",
       "      <td>126970993</td>\n",
       "      <td>黑龙江省电力有限公司</td>\n",
       "      <td>黑龙江省哈尔滨市南岗区汉水路301号</td>\n",
       "      <td>230103018007</td>\n",
       "      <td>4420</td>\n",
       "      <td>230103</td>\n",
       "    </tr>\n",
       "    <tr>\n",
       "      <td>...</td>\n",
       "      <td>...</td>\n",
       "      <td>...</td>\n",
       "      <td>...</td>\n",
       "      <td>...</td>\n",
       "      <td>...</td>\n",
       "      <td>...</td>\n",
       "    </tr>\n",
       "    <tr>\n",
       "      <td>3711</td>\n",
       "      <td>79504644X</td>\n",
       "      <td>海林市盛佳木制品有限公司</td>\n",
       "      <td>黑龙江省牡丹江市海林市海林镇斗银路</td>\n",
       "      <td>231083100002</td>\n",
       "      <td>2012</td>\n",
       "      <td>231083</td>\n",
       "    </tr>\n",
       "    <tr>\n",
       "      <td>3712</td>\n",
       "      <td>795047485</td>\n",
       "      <td>齐齐哈尔金同油田开发有限责任公司</td>\n",
       "      <td>黑龙江省齐齐哈尔市富拉尔基区燕北</td>\n",
       "      <td>230206001007</td>\n",
       "      <td>710</td>\n",
       "      <td>230206</td>\n",
       "    </tr>\n",
       "    <tr>\n",
       "      <td>3713</td>\n",
       "      <td>795047741</td>\n",
       "      <td>牡丹江天马水泥有限公司</td>\n",
       "      <td>黑龙江省牡丹江市宁安市工业路33号</td>\n",
       "      <td>231084001006</td>\n",
       "      <td>3111</td>\n",
       "      <td>231084</td>\n",
       "    </tr>\n",
       "    <tr>\n",
       "      <td>3714</td>\n",
       "      <td>795048306</td>\n",
       "      <td>黑河市元泰硅业有限公司</td>\n",
       "      <td>黑龙江省黑河市爱辉区合作区</td>\n",
       "      <td>231102001017</td>\n",
       "      <td>3199</td>\n",
       "      <td>231102</td>\n",
       "    </tr>\n",
       "    <tr>\n",
       "      <td>3715</td>\n",
       "      <td>795048875</td>\n",
       "      <td>桦南协联报春热电有限公司</td>\n",
       "      <td>黑龙江省佳木斯市桦南县热电路1号</td>\n",
       "      <td>230822106005</td>\n",
       "      <td>4411</td>\n",
       "      <td>230822</td>\n",
       "    </tr>\n",
       "  </tbody>\n",
       "</table>\n",
       "<p>3715 rows × 6 columns</p>\n",
       "</div>"
      ],
      "text/plain": [
       "           法人代碼              企業名稱                      地址          區域代碼  行業代碼  \\\n",
       "0     00176423X            肇源县电业局          黑龙江省大庆市肇源县中央大街  230622100007  4420   \n",
       "1     05285143X     大庆市艾路交通设施有限公司      黑龙江省大庆市萨尔图区拥军大街标杆村  230602008004  3792   \n",
       "2     05286322X       海林市宏泰木业有限公司  黑龙江省牡丹江市海林市柴河林业局铁东路97号  231083404002  2440   \n",
       "3     100049039      大庆市让胡路区建民预制厂         黑龙江省大庆市让胡路区西虹2路  230604004007  3122   \n",
       "4     126970993        黑龙江省电力有限公司      黑龙江省哈尔滨市南岗区汉水路301号  230103018007  4420   \n",
       "...         ...               ...                     ...           ...   ...   \n",
       "3711  79504644X      海林市盛佳木制品有限公司       黑龙江省牡丹江市海林市海林镇斗银路  231083100002  2012   \n",
       "3712  795047485  齐齐哈尔金同油田开发有限责任公司        黑龙江省齐齐哈尔市富拉尔基区燕北  230206001007   710   \n",
       "3713  795047741       牡丹江天马水泥有限公司       黑龙江省牡丹江市宁安市工业路33号  231084001006  3111   \n",
       "3714  795048306       黑河市元泰硅业有限公司           黑龙江省黑河市爱辉区合作区  231102001017  3199   \n",
       "3715  795048875      桦南协联报春热电有限公司        黑龙江省佳木斯市桦南县热电路1号  230822106005  4411   \n",
       "\n",
       "     區域代碼_str  \n",
       "0      230622  \n",
       "1      230602  \n",
       "2      231083  \n",
       "3      230604  \n",
       "4      230103  \n",
       "...       ...  \n",
       "3711   231083  \n",
       "3712   230206  \n",
       "3713   231084  \n",
       "3714   231102  \n",
       "3715   230822  \n",
       "\n",
       "[3715 rows x 6 columns]"
      ]
     },
     "execution_count": 9,
     "metadata": {},
     "output_type": "execute_result"
    }
   ],
   "source": [
    "firm_hlj"
   ]
  },
  {
   "cell_type": "code",
   "execution_count": null,
   "metadata": {},
   "outputs": [],
   "source": [
    "patent_df_firm = patent_df_firm[patent_df_firm['申请日']>datetime.datetime.strptime('2007-12-31','%Y-%m-%d')]\n",
    "incoPat = list(patent_df_firm['申请人'])"
   ]
  },
  {
   "cell_type": "code",
   "execution_count": 12,
   "metadata": {},
   "outputs": [],
   "source": [
    "firm_hlj['name_模糊比對'] = firm_hlj['企業名稱'].map(lambda x:fuzzy(incoPat,x))"
   ]
  },
  {
   "cell_type": "code",
   "execution_count": 13,
   "metadata": {},
   "outputs": [],
   "source": [
    "firm_hlj.to_excel(r'E:\\paper\\清理結果-新型&授權\\黑龍江_廠商.xlsx')"
   ]
  },
  {
   "cell_type": "markdown",
   "metadata": {},
   "source": [
    "# 非模糊比對"
   ]
  },
  {
   "cell_type": "code",
   "execution_count": 14,
   "metadata": {},
   "outputs": [],
   "source": [
    "merge_df = firm_hlj.merge(patent_df_firm,left_on='企業名稱',right_on='申请人',how='outer')\n",
    "merge_df.fillna('',inplace=True)"
   ]
  },
  {
   "cell_type": "code",
   "execution_count": 16,
   "metadata": {},
   "outputs": [
    {
     "data": {
      "text/plain": [
       "(455, 45)"
      ]
     },
     "execution_count": 16,
     "metadata": {},
     "output_type": "execute_result"
    }
   ],
   "source": [
    "merge_df[(merge_df['企業名稱']!='')&(merge_df['申请人']!='')].shape"
   ]
  },
  {
   "cell_type": "code",
   "execution_count": 20,
   "metadata": {},
   "outputs": [
    {
     "data": {
      "text/plain": [
       "(5469, 47)"
      ]
     },
     "execution_count": 20,
     "metadata": {},
     "output_type": "execute_result"
    }
   ],
   "source": [
    "merge_df.shape"
   ]
  },
  {
   "cell_type": "code",
   "execution_count": 17,
   "metadata": {
    "collapsed": true
   },
   "outputs": [
    {
     "name": "stderr",
     "output_type": "stream",
     "text": [
      "D:\\Anaconda\\lib\\site-packages\\pandas\\core\\strings.py:1843: UserWarning: This pattern has match groups. To actually get the groups, use str.extract.\n",
      "  return func(self, *args, **kwargs)\n",
      "D:\\Anaconda\\lib\\site-packages\\ipykernel_launcher.py:4: SettingWithCopyWarning: \n",
      "A value is trying to be set on a copy of a slice from a DataFrame.\n",
      "Try using .loc[row_indexer,col_indexer] = value instead\n",
      "\n",
      "See the caveats in the documentation: http://pandas.pydata.org/pandas-docs/stable/user_guide/indexing.html#returning-a-view-versus-a-copy\n",
      "  after removing the cwd from sys.path.\n",
      "D:\\Anaconda\\lib\\site-packages\\ipykernel_launcher.py:5: SettingWithCopyWarning: \n",
      "A value is trying to be set on a copy of a slice from a DataFrame.\n",
      "Try using .loc[row_indexer,col_indexer] = value instead\n",
      "\n",
      "See the caveats in the documentation: http://pandas.pydata.org/pandas-docs/stable/user_guide/indexing.html#returning-a-view-versus-a-copy\n",
      "  \"\"\"\n",
      "D:\\Anaconda\\lib\\site-packages\\pandas\\core\\indexing.py:376: SettingWithCopyWarning: \n",
      "A value is trying to be set on a copy of a slice from a DataFrame.\n",
      "Try using .loc[row_indexer,col_indexer] = value instead\n",
      "\n",
      "See the caveats in the documentation: http://pandas.pydata.org/pandas-docs/stable/user_guide/indexing.html#returning-a-view-versus-a-copy\n",
      "  self.obj[key] = _infer_fill_value(value)\n",
      "D:\\Anaconda\\lib\\site-packages\\pandas\\core\\indexing.py:494: SettingWithCopyWarning: \n",
      "A value is trying to be set on a copy of a slice from a DataFrame.\n",
      "Try using .loc[row_indexer,col_indexer] = value instead\n",
      "\n",
      "See the caveats in the documentation: http://pandas.pydata.org/pandas-docs/stable/user_guide/indexing.html#returning-a-view-versus-a-copy\n",
      "  self.obj[item] = s\n"
     ]
    }
   ],
   "source": [
    "merge_df['name'] = merge_df.apply(lambda x:x['申请人'] if x['申请人']!='' else x['企業名稱'],axis=1)\n",
    "merge_df['address'] = merge_df.apply(lambda x:x['申请人地址'] if x['申请人地址']!='' else x['地址'],axis=1)\n",
    "merge_df_clean = merge_df[merge_df['address'].str.contains(r'\\w+(街|道|路|巷|村|小区|园区|社区)')]\n",
    "merge_df_clean['address'] = merge_df_clean['address'].map(lambda x: x+'号' if ((x[-1].isdigit()) and (re.match(r'\\w+[街道路巷]',x))) else x)\n",
    "merge_df_clean['完整地址'] = merge_df_clean['address'].map(lambda x:1 if re.compile(r'\\w+[街道路巷]\\S+号').search(x) else 0)\n",
    "merge_df_clean.loc[:,'lat'] = 0\n",
    "merge_df_clean.loc[:,'lnt'] = 0"
   ]
  },
  {
   "cell_type": "code",
   "execution_count": 27,
   "metadata": {},
   "outputs": [
    {
     "data": {
      "text/plain": [
       "(2112, 50)"
      ]
     },
     "execution_count": 27,
     "metadata": {},
     "output_type": "execute_result"
    }
   ],
   "source": [
    "merge_df_clean[merge_df_clean['完整地址']==1].shape"
   ]
  },
  {
   "cell_type": "code",
   "execution_count": 28,
   "metadata": {},
   "outputs": [
    {
     "data": {
      "text/plain": [
       "(4099, 50)"
      ]
     },
     "execution_count": 28,
     "metadata": {},
     "output_type": "execute_result"
    }
   ],
   "source": [
    "merge_df_clean.shape"
   ]
  },
  {
   "cell_type": "code",
   "execution_count": 29,
   "metadata": {},
   "outputs": [],
   "source": [
    "merge_df_clean.to_excel(r'E:\\paper\\清理結果-新型&授權\\黑龍江_結果.xlsx')"
   ]
  },
  {
   "cell_type": "markdown",
   "metadata": {},
   "source": [
    "# merge舊資料"
   ]
  },
  {
   "cell_type": "code",
   "execution_count": 6,
   "metadata": {},
   "outputs": [
    {
     "name": "stdout",
     "output_type": "stream",
     "text": [
      "(226, 44)\n",
      "(4318, 44)\n",
      "(1319, 49)\n",
      "(4318, 49)\n"
     ]
    }
   ],
   "source": [
    "merge_df = firm_hlj.merge(patent_df_firm,left_on='企業名稱',right_on='申请人',how='outer')\n",
    "merge_df.fillna('',inplace=True)\n",
    "print(merge_df[(merge_df['企業名稱']!='')&(merge_df['申请人']!='')].shape)\n",
    "print(merge_df.shape)\n",
    "merge_df['name'] = merge_df.apply(lambda x:x['申请人'] if x['申请人']!='' else x['企業名稱'],axis=1)\n",
    "merge_df['address'] = merge_df.apply(lambda x:x['申请人地址'] if x['申请人地址']!='' else x['地址'],axis=1)\n",
    "merge_df = merge_df[merge_df['address']!='']\n",
    "merge_df_clean = merge_df\n",
    "merge_df_clean['address'] = merge_df_clean['address'].map(lambda x: x+'号' if ((x[-1].isdigit()) and (re.match(r'\\w+[街道路巷]',x))) else x)\n",
    "merge_df_clean['完整地址'] = merge_df_clean['address'].map(lambda x:1 if re.compile(r'\\w+[街道路巷]\\S+号').search(x) else 0)\n",
    "merge_df_clean.loc[:,'lat'] = 0\n",
    "merge_df_clean.loc[:,'lnt'] = 0\n",
    "print(merge_df_clean[merge_df_clean['完整地址']==1].shape)\n",
    "print(merge_df_clean.shape)"
   ]
  },
  {
   "cell_type": "code",
   "execution_count": 7,
   "metadata": {},
   "outputs": [
    {
     "data": {
      "text/plain": [
       "Index(['Unnamed: 0', '法人代碼', '企業名稱', '地址', '區域代碼', '行業代碼', '區域代碼_str',\n",
       "       'name_模糊比對', '序号', '标题', '文献页数', '合享价值度', '链接到incoPat', '公开（公告）号',\n",
       "       '公开（公告）日', '申请号', '申请日', '申请人', '标准化申请人', '申请人国别代码', '申请人省市代码',\n",
       "       '中国申请人地市', '中国申请人区县', '申请人地址', '申请人类型', '优先权信息', '权利要求数量', '专利类型',\n",
       "       '发明人', 'IPC', 'CPC', '简单同族', '扩展同族', 'inpadoc同族', '同族国家', '简单同族个数',\n",
       "       '扩展同族个数', 'inpadoc同族个数', '引证专利', '被引证专利', '被引证次数', '引证科技文献', '专利寿命（月）',\n",
       "       '被引证国别(forward)', '失效日', '公开国别', 'name', 'address', '完整地址', 'lat',\n",
       "       'lnt', '哈爾濱', '大慶', '齊齊哈爾', '專利數', '早期園區', '近期園區'],\n",
       "      dtype='object')"
      ]
     },
     "execution_count": 7,
     "metadata": {},
     "output_type": "execute_result"
    }
   ],
   "source": [
    "done_data = pd.read_excel(r'E:\\paper\\清理結果-園區內外\\黑龍江_結果.xlsx')\n",
    "done_data.columns"
   ]
  },
  {
   "cell_type": "code",
   "execution_count": 8,
   "metadata": {},
   "outputs": [
    {
     "data": {
      "text/plain": [
       "(1437, 55)"
      ]
     },
     "execution_count": 8,
     "metadata": {},
     "output_type": "execute_result"
    }
   ],
   "source": [
    "merge_df_clean.drop(['lat','lnt'],axis=1,inplace=True)\n",
    "merge_df_clean = merge_df_clean.merge(done_data[['name','lat','lnt','哈爾濱','大慶','齊齊哈爾','專利數','早期園區','近期園區']],left_on='name',right_on='name',how='left')\n",
    "merge_df_clean['lat'].fillna('',inplace=True)\n",
    "merge_df_clean[merge_df_clean['lat']==''].shape"
   ]
  },
  {
   "cell_type": "code",
   "execution_count": 9,
   "metadata": {},
   "outputs": [],
   "source": [
    "merge_df_clean.to_excel(r'E:\\paper\\清理結果-新\\黑龍江_結果.xlsx')"
   ]
  },
  {
   "cell_type": "markdown",
   "metadata": {},
   "source": [
    "# 模糊比對"
   ]
  },
  {
   "cell_type": "code",
   "execution_count": 22,
   "metadata": {},
   "outputs": [],
   "source": [
    "merge_df_fuzzy = firm_hlj.merge(patent_df_firm,left_on='name_模糊比對',right_on='申请人',how='outer')\n",
    "merge_df_fuzzy.fillna('',inplace=True)\n",
    "merge_df_fuzzy.drop_duplicates(['name_模糊比對','申请人'], keep='last', inplace=True)"
   ]
  },
  {
   "cell_type": "code",
   "execution_count": 23,
   "metadata": {},
   "outputs": [
    {
     "data": {
      "text/plain": [
       "(512, 45)"
      ]
     },
     "execution_count": 23,
     "metadata": {},
     "output_type": "execute_result"
    }
   ],
   "source": [
    "merge_df_fuzzy[(merge_df_fuzzy['申请人']!='')&(merge_df_fuzzy['企業名稱']!='')].shape"
   ]
  },
  {
   "cell_type": "code",
   "execution_count": 24,
   "metadata": {},
   "outputs": [
    {
     "data": {
      "text/plain": [
       "(5387, 45)"
      ]
     },
     "execution_count": 24,
     "metadata": {},
     "output_type": "execute_result"
    }
   ],
   "source": [
    "merge_df_fuzzy.shape"
   ]
  },
  {
   "cell_type": "code",
   "execution_count": 25,
   "metadata": {
    "collapsed": true
   },
   "outputs": [
    {
     "name": "stderr",
     "output_type": "stream",
     "text": [
      "D:\\Anaconda\\lib\\site-packages\\ipykernel_launcher.py:4: SettingWithCopyWarning: \n",
      "A value is trying to be set on a copy of a slice from a DataFrame.\n",
      "Try using .loc[row_indexer,col_indexer] = value instead\n",
      "\n",
      "See the caveats in the documentation: http://pandas.pydata.org/pandas-docs/stable/user_guide/indexing.html#returning-a-view-versus-a-copy\n",
      "  after removing the cwd from sys.path.\n",
      "D:\\Anaconda\\lib\\site-packages\\ipykernel_launcher.py:5: SettingWithCopyWarning: \n",
      "A value is trying to be set on a copy of a slice from a DataFrame.\n",
      "Try using .loc[row_indexer,col_indexer] = value instead\n",
      "\n",
      "See the caveats in the documentation: http://pandas.pydata.org/pandas-docs/stable/user_guide/indexing.html#returning-a-view-versus-a-copy\n",
      "  \"\"\"\n"
     ]
    }
   ],
   "source": [
    "merge_df_fuzzy['name'] = merge_df_fuzzy.apply(lambda x:x['申请人'] if x['申请人']!='' else x['企業名稱'],axis=1)\n",
    "merge_df_fuzzy['address'] = merge_df_fuzzy.apply(lambda x:x['申请人地址'] if x['申请人地址']!='' else x['地址'],axis=1)\n",
    "merge_df_fuzzy_clean = merge_df_fuzzy[merge_df_fuzzy['address'].str.contains(r'\\w+(街|道|路|巷|村|小区|园区|社区)')]\n",
    "merge_df_fuzzy_clean['address'] = merge_df_fuzzy_clean['address'].map(lambda x: x+'号' if ((x[-1].isdigit()) and (re.match(r'\\w+[街道路巷]',x))) else x)\n",
    "merge_df_fuzzy_clean['完整地址'] = merge_df_fuzzy_clean['address'].map(lambda x:1 if re.compile(r'\\w+[街道路巷]\\S+号').search(x) else 0)\n",
    "merge_df_fuzzy_clean.loc[:,'lat'] = 0\n",
    "merge_df_fuzzy_clean.loc[:,'lnt'] = 0"
   ]
  },
  {
   "cell_type": "code",
   "execution_count": 32,
   "metadata": {},
   "outputs": [
    {
     "data": {
      "text/plain": [
       "(2072, 50)"
      ]
     },
     "execution_count": 32,
     "metadata": {},
     "output_type": "execute_result"
    }
   ],
   "source": [
    "merge_df_fuzzy_clean[merge_df_fuzzy_clean['完整地址']==1].shape"
   ]
  },
  {
   "cell_type": "code",
   "execution_count": 33,
   "metadata": {},
   "outputs": [
    {
     "data": {
      "text/plain": [
       "(4031, 50)"
      ]
     },
     "execution_count": 33,
     "metadata": {},
     "output_type": "execute_result"
    }
   ],
   "source": [
    "merge_df_fuzzy_clean.shape"
   ]
  },
  {
   "cell_type": "code",
   "execution_count": 30,
   "metadata": {},
   "outputs": [],
   "source": [
    "merge_df_fuzzy_clean.to_excel(r'E:\\paper\\清理結果-新型&授權\\黑龍江_模糊結果.xlsx')"
   ]
  },
  {
   "cell_type": "markdown",
   "metadata": {},
   "source": [
    "# 定位"
   ]
  },
  {
   "cell_type": "code",
   "execution_count": 2,
   "metadata": {},
   "outputs": [],
   "source": [
    "merge_df_clean = pd.read_excel(r'E:\\paper\\清理結果-新型&授權\\黑龍江_結果.xlsx',index_col=0)\n",
    "merge_df_clean['lat'].fillna(0,inplace=True)\n",
    "merge_df_clean['lnt'].fillna(0,inplace=True)"
   ]
  },
  {
   "cell_type": "code",
   "execution_count": 3,
   "metadata": {},
   "outputs": [
    {
     "data": {
      "text/plain": [
       "(1437, 55)"
      ]
     },
     "execution_count": 3,
     "metadata": {},
     "output_type": "execute_result"
    }
   ],
   "source": [
    "merge_df_clean = pd.read_excel(r'E:\\paper\\清理結果-新\\黑龍江_結果.xlsx',index_col=0)\n",
    "merge_df_clean.fillna('',inplace=True)\n",
    "merge_df_clean[merge_df_clean['lat']==''].shape"
   ]
  },
  {
   "cell_type": "code",
   "execution_count": 4,
   "metadata": {},
   "outputs": [],
   "source": [
    "for i in merge_df_clean[merge_df_clean['lat']==''].index:\n",
    "    address = merge_df_clean.loc[i,'address']\n",
    "    g = getGeoForAddress(address)\n",
    "    merge_df_clean.loc[i,'lat'] = g[0]\n",
    "    merge_df_clean.loc[i,'lnt'] = g[1]"
   ]
  },
  {
   "cell_type": "code",
   "execution_count": 5,
   "metadata": {},
   "outputs": [
    {
     "name": "stdout",
     "output_type": "stream",
     "text": [
      "(4318, 55)\n",
      "(15, 55)\n"
     ]
    }
   ],
   "source": [
    "print(merge_df_clean.shape)\n",
    "print(merge_df_clean[merge_df_clean['lat']==''].shape)"
   ]
  },
  {
   "cell_type": "code",
   "execution_count": 6,
   "metadata": {},
   "outputs": [],
   "source": [
    "merge_df_clean.to_excel(r'E:\\paper\\清理結果-新\\黑龍江_結果.xlsx')"
   ]
  },
  {
   "cell_type": "markdown",
   "metadata": {},
   "source": [
    "# 作圖"
   ]
  },
  {
   "cell_type": "code",
   "execution_count": null,
   "metadata": {},
   "outputs": [],
   "source": [
    "from geopy.distance import geodesic\n",
    "def how_far(a,b):\n",
    "    try:\n",
    "        return geodesic(a,b).kilometers\n",
    "    except:\n",
    "        return np.nan\n",
    "applicant = patent_df['申请人'].str.split(';',expand=True).stack().reset_index(level=1,drop=True).rename('申请人2')\n",
    "applicant = applicant.map(lambda x:x.strip())\n",
    "patent_df_new = patent_df.join(applicant)\n",
    "patent_count = patent_df_new.groupby('申请人2')['标题'].count().rename('專利數')"
   ]
  },
  {
   "cell_type": "code",
   "execution_count": null,
   "metadata": {},
   "outputs": [],
   "source": [
    "patent_count.sort_values()"
   ]
  },
  {
   "cell_type": "code",
   "execution_count": null,
   "metadata": {},
   "outputs": [],
   "source": [
    "merge_df = pd.read_excel(r'E:\\paper\\清理結果-新型&授權\\黑龍江_結果.xlsx',index_col=0)\n",
    "target1 = (45.74567,126.69181)\n",
    "merge_df['哈爾濱'] = merge_df.apply(lambda x:how_far(target1,(x['lat'],x['lnt'])),axis=1)\n",
    "target2 = (46.57246,125.14284)\n",
    "merge_df['大慶'] = merge_df.apply(lambda x:how_far(target2,(x['lat'],x['lnt'])),axis=1)\n",
    "target3 = (47.30816,123.95543)\n",
    "merge_df['齊齊哈爾'] = merge_df.apply(lambda x:how_far(target3,(x['lat'],x['lnt'])),axis=1)\n",
    "merge_df = merge_df.merge(patent_count,left_on='name',right_on='申请人2',how='left')\n",
    "merge_df['專利數'].fillna(0,inplace=True)"
   ]
  },
  {
   "cell_type": "code",
   "execution_count": null,
   "metadata": {},
   "outputs": [],
   "source": [
    "merge_df = pd.read_excel(r'E:\\paper\\清理結果-新\\黑龍江_結果.xlsx',index_col=0)\n",
    "merge_df.fillna('',inplace=True)\n",
    "merge_df.drop('專利數',axis=1,inplace=True)\n",
    "target1 = (45.74567,126.69181)\n",
    "target2 = (46.57246,125.14284)\n",
    "target3 = (47.30816,123.95543)\n",
    "\n",
    "for i in merge_df[merge_df['哈爾濱']==''].index:\n",
    "    merge_df.loc[i,'哈爾濱'] = how_far(target1,(merge_df.loc[i,'lat'],merge_df.loc[i,'lnt']))\n",
    "    merge_df.loc[i,'大慶'] = how_far(target2,(merge_df.loc[i,'lat'],merge_df.loc[i,'lnt']))\n",
    "    merge_df.loc[i,'齊齊哈爾'] = how_far(target3,(merge_df.loc[i,'lat'],merge_df.loc[i,'lnt']))\n",
    "merge_df = merge_df.merge(patent_count,left_on='name',right_on='申请人2',how='left')\n",
    "merge_df['專利數'].fillna(0,inplace=True)"
   ]
  },
  {
   "cell_type": "code",
   "execution_count": null,
   "metadata": {},
   "outputs": [],
   "source": [
    "merge_df['早期園區'] = merge_df.apply(lambda x:1 if ((x['哈爾濱']<10)or(x['大慶']<10)) else 0,axis=1)\n",
    "merge_df['近期園區'] = merge_df.apply(lambda x:1 if (x['齊齊哈爾']<10) else 0,axis=1)"
   ]
  },
  {
   "cell_type": "code",
   "execution_count": null,
   "metadata": {},
   "outputs": [],
   "source": [
    "merge_df.to_excel(r'E:\\paper\\清理結果-新園區內外\\黑龍江_結果.xlsx')"
   ]
  },
  {
   "cell_type": "code",
   "execution_count": null,
   "metadata": {},
   "outputs": [],
   "source": [
    "print(merge_df.shape)\n",
    "print(len(merge_df[merge_df['專利數']==0]['專利數'])/len(merge_df['專利數']))\n",
    "print(len(merge_df[merge_df['專利數']>=100]['專利數'])/len(merge_df['專利數']))"
   ]
  },
  {
   "cell_type": "code",
   "execution_count": null,
   "metadata": {},
   "outputs": [],
   "source": [
    "merge_df.groupby('專利數')['IPC'].count()"
   ]
  },
  {
   "cell_type": "code",
   "execution_count": null,
   "metadata": {},
   "outputs": [],
   "source": [
    "merge_df[merge_df['lat']==''].groupby('專利數')['IPC'].count()"
   ]
  },
  {
   "cell_type": "code",
   "execution_count": null,
   "metadata": {},
   "outputs": [],
   "source": [
    "from matplotlib.font_manager import FontProperties\n",
    "myfont = FontProperties(fname=r'C:\\Windows\\Fonts\\msjhbd.ttc')\n",
    "fig = plt.figure()\n",
    "ax1 = fig.add_subplot(111)\n",
    "ax1.plot(merge_df[merge_df['lat']!=0].groupby('專利數')['IPC'].count().index,merge_df[merge_df['lat']!=0].groupby('專利數')['IPC'].count())\n",
    "ax1.set_title('黑龍江',fontproperties=myfont,fontsize=15)\n",
    "ax1.set_ylabel('廠商數量',fontproperties=myfont)\n",
    "ax1.set_xlabel('專利數量',fontproperties=myfont)\n",
    "ax1.set_xlim([0,100])\n",
    "ax1.set_ylim([0,400])\n",
    "ax2 = ax1.twinx()\n",
    "ax2.bar(merge_df[merge_df['lat']==''].groupby('專利數')['IPC'].count().index,merge_df[merge_df['lat']==''].groupby('專利數')['IPC'].count(),color='red')\n",
    "ax2.set_ylim([0,20])\n",
    "ax2.set_ylabel('無法定位廠商數量',fontproperties=myfont)"
   ]
  },
  {
   "cell_type": "code",
   "execution_count": null,
   "metadata": {},
   "outputs": [],
   "source": [
    "region = pd.read_excel(r'E:\\paper\\清理結果-新園區內外\\黑龍江_結果.xlsx',index_col=0)\n",
    "region.fillna('',inplace=True)\n",
    "corptype = ['有限','责任','集团','股份','控股','总公司','分公司','公司']\n",
    "region['name_clean'] = region['name']\n",
    "for k in corptype:\n",
    "    region['name_clean'] = region['name_clean'].map(lambda x:re.sub(k,'',x))\n",
    "region['name_clean'] = region['name_clean'].map(lambda x:re.sub(r'\\(.*?\\)','',x))\n",
    "region['name_clean'] = region['name_clean'].map(lambda x:re.sub(r'\\（.*?\\）','',x))\n",
    "region['name_clean'] = region['name_clean'].map(lambda x:re.sub(r'\\(.*?\\）','',x))\n",
    "region['name_clean'] = region['name_clean'].map(lambda x:re.sub(r'\\（.*?\\)','',x))\n",
    "region['name_clean'] = region['name_clean'].map(lambda x:re.sub(r'[\\s+-─]','',x))\n",
    "clean = region[region.duplicated(['name_clean'],keep=False)].sort_values(by=['企業名稱'])\n",
    "patents = clean.groupby('name_clean')['專利數'].sum()\n",
    "final = clean.drop('專利數',axis=1).merge(patents,left_on='name_clean',right_on='name_clean',how='left')\n",
    "final.drop_duplicates(['name_clean'],keep='last',inplace=True)\n",
    "region.drop_duplicates(['name_clean'],keep=False,inplace=True)\n",
    "cleaned = pd.concat([region,final],ignore_index=True,sort=False)\n",
    "located = cleaned[cleaned['lat']!='']\n",
    "not_merge = located[located['企業名稱']=='']\n",
    "print(len(not_merge['專利數']))\n",
    "print(len(not_merge['專利數'])/len(located['專利數']))\n",
    "print(len(not_merge[not_merge['專利數']>100]['專利數']))"
   ]
  },
  {
   "cell_type": "code",
   "execution_count": null,
   "metadata": {},
   "outputs": [],
   "source": [
    "not_merge.groupby('專利數')['IPC'].count()"
   ]
  },
  {
   "cell_type": "code",
   "execution_count": null,
   "metadata": {},
   "outputs": [],
   "source": [
    "not_merge[not_merge['專利數']>=100].sort_values('專利數')"
   ]
  },
  {
   "cell_type": "code",
   "execution_count": null,
   "metadata": {},
   "outputs": [],
   "source": [
    "from matplotlib.font_manager import FontProperties\n",
    "myfont = FontProperties(fname=r'C:\\Windows\\Fonts\\msjhbd.ttc')\n",
    "fig = plt.figure()\n",
    "ax1 = fig.add_subplot(111)\n",
    "ax1.plot(not_merge.groupby('專利數')['IPC'].count().index,not_merge.groupby('專利數')['IPC'].count())\n",
    "ax1.set_title('黑龍江',fontproperties=myfont,fontsize=15)\n",
    "ax1.set_xlim([0,100])\n",
    "ax1.set_ylabel('廠商數量',fontproperties=myfont)\n",
    "ax1.set_xlabel('專利數量',fontproperties=myfont)"
   ]
  },
  {
   "cell_type": "code",
   "execution_count": null,
   "metadata": {},
   "outputs": [],
   "source": [
    "cleaned.to_excel(r'E:\\paper\\名稱merge\\黑龍江_結果.xlsx')"
   ]
  },
  {
   "cell_type": "code",
   "execution_count": null,
   "metadata": {},
   "outputs": [],
   "source": [
    "from matplotlib.font_manager import FontProperties\n",
    "myfont = FontProperties(fname=r'C:\\Windows\\Fonts\\msjhbd.ttc')\n",
    "fig = plt.figure(figsize = (5,5))\n",
    "ax1 = fig.add_subplot(111)\n",
    "ax1.set_ylabel('Patent Counts')\n",
    "bar1 = ax1.bar(1,merge_df[merge_df['早期園區']==1]['專利數'].sum(),alpha=0.7,width=0.35,color='r',label='早期園區')\n",
    "bar2 = ax1.bar(1+0.35,merge_df[merge_df['近期園區']==1]['專利數'].sum(),alpha=0.7,width=0.35,color='b',label='近期園區')\n",
    "bar3 = ax1.bar(1+0.7,merge_df[(merge_df['近期園區']==0)&(merge_df['早期園區']==0)]['專利數'].sum(),alpha=0.7,width=0.35,color='k',label='園區外')\n",
    "\n",
    "plt.text(1, merge_df[merge_df['早期園區']==1]['專利數'].sum(), '%.0f' % merge_df[merge_df['早期園區']==1]['專利數'].sum(), ha='center', va= 'bottom',fontsize=12)  \n",
    "plt.text(1.35, merge_df[merge_df['近期園區']==1]['專利數'].sum(), '%.0f' % merge_df[merge_df['近期園區']==1]['專利數'].sum(), ha='center', va= 'bottom',fontsize=12)  \n",
    "plt.text(1.7, merge_df[(merge_df['近期園區']==0)&(merge_df['早期園區']==0)]['專利數'].sum(), '%.0f' % merge_df[(merge_df['近期園區']==0)&(merge_df['早期園區']==0)]['專利數'].sum(), ha='center', va= 'bottom',fontsize=12)  \n",
    "\n",
    "plt.title('黑龍江',fontproperties=myfont,fontsize=20)\n",
    "plt.xticks([0.75,1,2],['','',''],fontproperties=myfont)\n",
    "plt.legend(handles = [bar1,bar2,bar3], loc='upper left',prop=myfont)"
   ]
  },
  {
   "cell_type": "code",
   "execution_count": null,
   "metadata": {},
   "outputs": [],
   "source": [
    "fig = plt.figure(figsize = (5,5))\n",
    "ax1 = fig.add_subplot(111)\n",
    "ax1.set_ylabel('Patent Counts/Firms ')\n",
    "bar1 = ax1.bar(1,merge_df[merge_df['早期園區']==1]['專利數'].sum()/merge_df[merge_df['早期園區']==1]['專利數'].count(),alpha=0.7,width=0.35,color='r',label='早期園區')\n",
    "bar2 = ax1.bar(1+0.35,merge_df[merge_df['近期園區']==1]['專利數'].sum()/merge_df[merge_df['近期園區']==1]['專利數'].count(),alpha=0.7,width=0.35,color='b',label='近期園區')\n",
    "bar3 = ax1.bar(1+0.7,merge_df[(merge_df['近期園區']==0)&(merge_df['早期園區']==0)]['專利數'].sum()/merge_df[(merge_df['近期園區']==0)&(merge_df['早期園區']==0)]['專利數'].count(),alpha=0.7,width=0.35,color='k',label='園區外')\n",
    "\n",
    "plt.text(1, (merge_df[merge_df['早期園區']==1]['專利數'].sum()/merge_df[merge_df['早期園區']==1]['專利數'].count()), '%.2f' % (merge_df[merge_df['早期園區']==1]['專利數'].sum()/merge_df[merge_df['早期園區']==1]['專利數'].count()), ha='center', va= 'bottom',fontsize=12)  \n",
    "plt.text(1.35, (merge_df[merge_df['近期園區']==1]['專利數'].sum()/merge_df[merge_df['近期園區']==1]['專利數'].count()), '%.2f' % (merge_df[merge_df['近期園區']==1]['專利數'].sum()/merge_df[merge_df['近期園區']==1]['專利數'].count()), ha='center', va= 'bottom',fontsize=12)  \n",
    "plt.text(1.7, (merge_df[(merge_df['近期園區']==0)&(merge_df['早期園區']==0)]['專利數'].sum()/merge_df[(merge_df['近期園區']==0)&(merge_df['早期園區']==0)]['專利數'].count()), '%.0f' % (merge_df[(merge_df['近期園區']==0)&(merge_df['早期園區']==0)]['專利數'].sum()/merge_df[(merge_df['近期園區']==0)&(merge_df['早期園區']==0)]['專利數'].count()), ha='center', va= 'bottom',fontsize=12)  \n",
    "\n",
    "plt.title('黑龍江',fontproperties=myfont,fontsize=20)\n",
    "plt.xticks([0.75,1,2],['','',''],fontproperties=myfont)\n",
    "plt.legend(handles = [bar1,bar2,bar3], loc='upper right',prop=myfont)"
   ]
  },
  {
   "cell_type": "markdown",
   "metadata": {},
   "source": [
    "# 其餘嘗試性作圖"
   ]
  },
  {
   "cell_type": "code",
   "execution_count": 111,
   "metadata": {},
   "outputs": [],
   "source": [
    "from matplotlib.patches import Ellipse, Circle\n",
    "from matplotlib.font_manager import FontProperties\n",
    "myfont = FontProperties(fname=r'C:\\Windows\\Fonts\\msjhbd.ttc')\n",
    "merge_df_clean.fillna('',inplace=True)\n",
    "patented = merge_df_clean[merge_df_clean['申请人']!='']\n",
    "not_patented = merge_df_clean[merge_df_clean['申请人']=='']"
   ]
  },
  {
   "cell_type": "code",
   "execution_count": 112,
   "metadata": {},
   "outputs": [
    {
     "data": {
      "text/plain": [
       "<matplotlib.legend.Legend at 0x1a1bb613148>"
      ]
     },
     "execution_count": 112,
     "metadata": {},
     "output_type": "execute_result"
    },
    {
     "data": {
      "image/png": "[encoded data removed]",
      "text/plain": [
       "<Figure size 864x576 with 1 Axes>"
      ]
     },
     "metadata": {
      "needs_background": "light"
     },
     "output_type": "display_data"
    }
   ],
   "source": [
    "fig = plt.figure(figsize=(12,8))\n",
    "ax = fig.add_subplot(111)\n",
    "ax.scatter(patented['lnt'], patented['lat'],c='r',label='incoPat')\n",
    "ax.scatter(not_patented['lnt'], not_patented['lat'],c='k',label='工企')\n",
    "cir1 = Circle(xy = (126.69181, 45.74567), radius=80/110.574,facecolor='r' ,alpha=0.5,label='哈爾濱')\n",
    "cir2 = Circle(xy = (125.14284, 46.57246), radius=80/110.574,facecolor='y' ,alpha=0.5,label='大慶')\n",
    "cir3 = Circle(xy = (123.95543, 47.30816), radius=80/110.574, alpha=0.5,label='齊齊哈爾')\n",
    "ax.add_patch(cir1)\n",
    "ax.add_patch(cir2)\n",
    "ax.add_patch(cir3)\n",
    "ax.legend(loc=1,prop=myfont)"
   ]
  },
  {
   "cell_type": "code",
   "execution_count": 113,
   "metadata": {},
   "outputs": [
    {
     "data": {
      "text/plain": [
       "<matplotlib.legend.Legend at 0x1a1bd8868c8>"
      ]
     },
     "execution_count": 113,
     "metadata": {},
     "output_type": "execute_result"
    },
    {
     "data": {
      "image/png": "[encoded data removed]",
      "text/plain": [
       "<Figure size 576x360 with 1 Axes>"
      ]
     },
     "metadata": {
      "needs_background": "light"
     },
     "output_type": "display_data"
    }
   ],
   "source": [
    "fig = plt.figure(figsize = (8,5))\n",
    "ax1 = fig.add_subplot(111)\n",
    "ax1.set_ylabel('Counts')\n",
    "bar1 = ax1.bar(np.arange(0,4),[len(patented[patented['哈爾濱']==1]),len(patented[patented['大慶']==1]),len(patented[patented['齊齊哈爾']==1]),len(patented[(patented['哈爾濱']==0)&(patented['大慶']==0)&(patented['齊齊哈爾']==0)])],alpha=0.7,width=0.35,color='r',label='incoPat')\n",
    "bar2 = ax1.bar(np.arange(0,4)+0.35,[len(not_patented[not_patented['哈爾濱']==1]),len(not_patented[not_patented['大慶']==1]),len(not_patented[not_patented['齊齊哈爾']==1]),len(not_patented[(not_patented['哈爾濱']==0)&(not_patented['大慶']==0)&(not_patented['齊齊哈爾']==0)])],alpha=0.7,width=0.35,color='k',label='工企')\n",
    "for a,b in zip(np.arange(0,4),[len(patented[patented['哈爾濱']==1]),len(patented[patented['大慶']==1]),len(patented[patented['齊齊哈爾']==1]),len(patented[(patented['哈爾濱']==0)&(patented['大慶']==0)&(patented['齊齊哈爾']==0)])]):  \n",
    "    plt.text(a, b+0.05, '%.0f' % b, ha='center', va= 'bottom',fontsize=11)  \n",
    "for a,b in zip(np.arange(0,4)+0.35,[len(not_patented[not_patented['哈爾濱']==1]),len(not_patented[not_patented['大慶']==1]),len(not_patented[not_patented['齊齊哈爾']==1]),len(not_patented[(not_patented['哈爾濱']==0)&(not_patented['大慶']==0)&(not_patented['齊齊哈爾']==0)])]):  \n",
    "    plt.text(a, b+0.05, '%.0f' % b, ha='center', va= 'bottom',fontsize=11) \n",
    "\n",
    "plt.xticks([0.17,1.17,2.17,3.17],['哈爾濱','大慶','齊齊哈爾','高新區外'],fontproperties=myfont)\n",
    "plt.legend(handles = [bar1,bar2], loc='upper right',prop=myfont)"
   ]
  },
  {
   "cell_type": "code",
   "execution_count": null,
   "metadata": {},
   "outputs": [],
   "source": [
    "patented['哈爾濱'] = patented.apply(lambda x:1 if ((((x['lnt']-126.69181)**2)+((x['lat']-45.74567)**2))**0.5)<(80/110.574) else 0,axis=1)\n",
    "patented['大慶'] = patented.apply(lambda x:1 if ((((x['lnt']-125.14284)**2)+((x['lat']-46.57246)**2))**0.5)<(80/110.574) else 0,axis=1)\n",
    "patented['齊齊哈爾'] = patented.apply(lambda x:1 if ((((x['lnt']-123.95543)**2)+((x['lat']-47.30816)**2))**0.5)<(80/110.574) else 0,axis=1)\n",
    "not_patented['哈爾濱'] = not_patented.apply(lambda x:1 if ((((x['lnt']-126.69181)**2)+((x['lat']-45.74567)**2))**0.5)<(80/110.574) else 0,axis=1)\n",
    "not_patented['大慶'] = not_patented.apply(lambda x:1 if ((((x['lnt']-125.14284)**2)+((x['lat']-46.57246)**2))**0.5)<(80/110.574) else 0,axis=1)\n",
    "not_patented['齊齊哈爾'] = not_patented.apply(lambda x:1 if ((((x['lnt']-123.95543)**2)+((x['lat']-47.30816)**2))**0.5)<(80/110.574) else 0,axis=1)"
   ]
  },
  {
   "cell_type": "markdown",
   "metadata": {},
   "source": [
    "# 改變半徑大小"
   ]
  },
  {
   "cell_type": "code",
   "execution_count": 3,
   "metadata": {},
   "outputs": [],
   "source": [
    "merge_df_clean = pd.read_excel(r'E:\\paper\\清理完成\\黑龍江_完整地址.xlsx')"
   ]
  },
  {
   "cell_type": "code",
   "execution_count": 4,
   "metadata": {},
   "outputs": [],
   "source": [
    "merge_df_clean['哈爾濱'] = merge_df_clean.apply(lambda x:1 if ((((x['lnt']-126.69181)**2)+((x['lat']-45.74567)**2))**0.5)<(50/110.574) else 0,axis=1)\n",
    "merge_df_clean['大慶'] = merge_df_clean.apply(lambda x:1 if ((((x['lnt']-125.14284)**2)+((x['lat']-46.57246)**2))**0.5)<(50/110.574) else 0,axis=1)\n",
    "merge_df_clean['齊齊哈爾'] = merge_df_clean.apply(lambda x:1 if ((((x['lnt']-123.95543)**2)+((x['lat']-47.30816)**2))**0.5)<(50/110.574) else 0,axis=1)"
   ]
  },
  {
   "cell_type": "code",
   "execution_count": 5,
   "metadata": {},
   "outputs": [],
   "source": [
    "from matplotlib.patches import Ellipse, Circle\n",
    "from matplotlib.font_manager import FontProperties\n",
    "myfont = FontProperties(fname=r'C:\\Windows\\Fonts\\msjhbd.ttc')\n",
    "merge_df_clean.fillna('',inplace=True)\n",
    "patented = merge_df_clean[merge_df_clean['申请人']!='']\n",
    "not_patented = merge_df_clean[merge_df_clean['申请人']=='']"
   ]
  },
  {
   "cell_type": "code",
   "execution_count": 6,
   "metadata": {},
   "outputs": [
    {
     "data": {
      "text/plain": [
       "<matplotlib.legend.Legend at 0x215c161a888>"
      ]
     },
     "execution_count": 6,
     "metadata": {},
     "output_type": "execute_result"
    },
    {
     "data": {
      "image/png": "[encoded data removed]",
      "text/plain": [
       "<Figure size 864x576 with 1 Axes>"
      ]
     },
     "metadata": {
      "needs_background": "light"
     },
     "output_type": "display_data"
    }
   ],
   "source": [
    "fig = plt.figure(figsize=(12,8))\n",
    "ax = fig.add_subplot(111)\n",
    "ax.scatter(patented['lnt'], patented['lat'],c='r',label='incoPat')\n",
    "ax.scatter(not_patented['lnt'], not_patented['lat'],c='k',label='工企')\n",
    "cir1 = Circle(xy = (126.69181, 45.74567), radius=50/110.574,facecolor='r' ,alpha=0.5,label='哈爾濱')\n",
    "cir2 = Circle(xy = (125.14284, 46.57246), radius=50/110.574,facecolor='y' ,alpha=0.5,label='大慶')\n",
    "cir3 = Circle(xy = (123.95543, 47.30816), radius=50/110.574, alpha=0.5,label='齊齊哈爾')\n",
    "ax.add_patch(cir1)\n",
    "ax.add_patch(cir2)\n",
    "ax.add_patch(cir3)\n",
    "ax.legend(loc=1,prop=myfont)"
   ]
  },
  {
   "cell_type": "code",
   "execution_count": 7,
   "metadata": {},
   "outputs": [
    {
     "data": {
      "text/plain": [
       "<matplotlib.legend.Legend at 0x215c2f80188>"
      ]
     },
     "execution_count": 7,
     "metadata": {},
     "output_type": "execute_result"
    },
    {
     "data": {
      "image/png": "[encoded data removed]",
      "text/plain": [
       "<Figure size 576x360 with 1 Axes>"
      ]
     },
     "metadata": {
      "needs_background": "light"
     },
     "output_type": "display_data"
    }
   ],
   "source": [
    "fig = plt.figure(figsize = (8,5))\n",
    "ax1 = fig.add_subplot(111)\n",
    "ax1.set_ylabel('Counts')\n",
    "bar1 = ax1.bar(np.arange(0,4),[len(patented[patented['哈爾濱']==1]),len(patented[patented['大慶']==1]),len(patented[patented['齊齊哈爾']==1]),len(patented[(patented['哈爾濱']==0)&(patented['大慶']==0)&(patented['齊齊哈爾']==0)])],alpha=0.7,width=0.35,color='r',label='incoPat')\n",
    "bar2 = ax1.bar(np.arange(0,4)+0.35,[len(not_patented[not_patented['哈爾濱']==1]),len(not_patented[not_patented['大慶']==1]),len(not_patented[not_patented['齊齊哈爾']==1]),len(not_patented[(not_patented['哈爾濱']==0)&(not_patented['大慶']==0)&(not_patented['齊齊哈爾']==0)])],alpha=0.7,width=0.35,color='k',label='工企')\n",
    "for a,b in zip(np.arange(0,4),[len(patented[patented['哈爾濱']==1]),len(patented[patented['大慶']==1]),len(patented[patented['齊齊哈爾']==1]),len(patented[(patented['哈爾濱']==0)&(patented['大慶']==0)&(patented['齊齊哈爾']==0)])]):  \n",
    "    plt.text(a, b+0.05, '%.0f' % b, ha='center', va= 'bottom',fontsize=11)  \n",
    "for a,b in zip(np.arange(0,4)+0.35,[len(not_patented[not_patented['哈爾濱']==1]),len(not_patented[not_patented['大慶']==1]),len(not_patented[not_patented['齊齊哈爾']==1]),len(not_patented[(not_patented['哈爾濱']==0)&(not_patented['大慶']==0)&(not_patented['齊齊哈爾']==0)])]):  \n",
    "    plt.text(a, b+0.05, '%.0f' % b, ha='center', va= 'bottom',fontsize=11) \n",
    "\n",
    "plt.xticks([0.17,1.17,2.17,3.17],['哈爾濱','大慶','齊齊哈爾','高新區外'],fontproperties=myfont)\n",
    "plt.legend(handles = [bar1,bar2], loc='upper right',prop=myfont)"
   ]
  },
  {
   "cell_type": "code",
   "execution_count": null,
   "metadata": {},
   "outputs": [],
   "source": []
  }
 ],
 "metadata": {
  "kernelspec": {
   "display_name": "Python 3",
   "language": "python",
   "name": "python3"
  },
  "language_info": {
   "codemirror_mode": {
    "name": "ipython",
    "version": 3
   },
   "file_extension": ".py",
   "mimetype": "text/x-python",
   "name": "python",
   "nbconvert_exporter": "python",
   "pygments_lexer": "ipython3",
   "version": "3.7.4"
  }
 },
 "nbformat": 4,
 "nbformat_minor": 2
}
