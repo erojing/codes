{
 "cells": [
  {
   "cell_type": "code",
   "execution_count": 1,
   "metadata": {},
   "outputs": [],
   "source": [
    "import pandas as pd\n",
    "import numpy as np\n",
    "import matplotlib.pyplot as plt\n",
    "import re\n",
    "import time\n",
    "import datetime\n",
    "import geocoder\n",
    "pd.set_option('display.max_rows',500)\n",
    "pd.set_option('display.max_columns',50)\n",
    "pd.set_option('max_colwidth',200)\n",
    "%matplotlib inline\n",
    "import seaborn as sns"
   ]
  },
  {
   "cell_type": "code",
   "execution_count": 2,
   "metadata": {},
   "outputs": [],
   "source": [
    "#firm_2004 = pd.read_csv(r'E:\\paper\\Firm csv\\firm_data_2004.csv',low_memory=False)\n",
    "#firm_2005 = pd.read_csv(r'E:\\paper\\Firm csv\\firm_data_2005.csv',low_memory=False)\n",
    "#firm_2006 = pd.read_csv(r'E:\\paper\\Firm csv\\firm_data_2006.csv',low_memory=False)\n",
    "firm_2007 = pd.read_csv(r'E:\\paper\\Firm csv\\firm_data_2007.csv',low_memory=False)\n",
    "firm_2008 = pd.read_csv(r'E:\\paper\\Firm csv\\firm_data_2008.csv',low_memory=False)\n",
    "firm_2009 = pd.read_csv(r'E:\\paper\\Firm csv\\firm_data_2009.csv',low_memory=False)\n",
    "firm_2010 = pd.read_csv(r'E:\\paper\\Firm csv\\firm_data_2010.csv',low_memory=False)\n",
    "firm_2011 = pd.read_csv(r'E:\\paper\\Firm csv\\firm_data_2011.csv',low_memory=False)\n",
    "firm_2012 = pd.read_csv(r'E:\\paper\\Firm csv\\firm_data_2012.csv',low_memory=False)\n",
    "firm_2013 = pd.read_csv(r'E:\\paper\\Firm csv\\firm_data_2013.csv',low_memory=False)"
   ]
  },
  {
   "cell_type": "code",
   "execution_count": 3,
   "metadata": {},
   "outputs": [],
   "source": [
    "#firm_2004['鄉鎮碼'] = firm_2004['行政区代码'].astype(str).map(lambda x:x[0:9])\n",
    "#firm_2004['縣碼'] = firm_2004['行政区代码'].astype(str).map(lambda x:x[0:6])\n",
    "\n",
    "#firm_2005['鄉鎮碼'] = firm_2005['行政区代码'].astype(str).map(lambda x:x[0:9])\n",
    "#firm_2005['縣碼'] = firm_2005['行政区代码'].astype(str).map(lambda x:x[0:6])\n",
    "\n",
    "#firm_2006['鄉鎮碼'] = firm_2006['行政区码'].astype(str).map(lambda x:x[0:9])\n",
    "#firm_2006['縣碼'] = firm_2006['行政区码'].astype(str).map(lambda x:x[0:6])\n",
    "\n",
    "firm_2007['鄉鎮碼'] = firm_2007['行政区划代码'].astype(str).map(lambda x:x[0:9])\n",
    "firm_2007['縣碼'] = firm_2007['行政区划代码'].astype(str).map(lambda x:x[0:6])\n",
    "\n",
    "firm_2008['鄉鎮碼'] = firm_2008['行政区划代码'].astype(str).map(lambda x:x[0:9])\n",
    "firm_2008['縣碼'] = firm_2008['行政区划代码'].astype(str).map(lambda x:x[0:6])\n",
    "\n",
    "firm_2009['鄉鎮碼'] = firm_2009['行政区别'].astype(str).map(lambda x:x[0:9])\n",
    "firm_2009['縣碼'] = firm_2009['行政区别'].astype(str).map(lambda x:x[0:6])\n",
    "\n",
    "firm_2010['鄉鎮碼'] = firm_2010['行政区划代码'].astype(str).map(lambda x:x[0:9])\n",
    "firm_2010['縣碼'] = firm_2010['行政区划代码'].astype(str).map(lambda x:x[0:6])\n",
    "\n",
    "firm_2011['鄉鎮碼'] = firm_2011['行政区划代码'].astype(str).map(lambda x:x[0:9])\n",
    "firm_2011['縣碼'] = firm_2011['行政区划代码'].astype(str).map(lambda x:x[0:6])\n",
    "\n",
    "firm_2012['鄉鎮碼'] = firm_2012['_行政区划代码'].astype(str).map(lambda x:x[0:9])\n",
    "firm_2012['縣碼'] = firm_2012['_行政区划代码'].astype(str).map(lambda x:x[0:6])\n",
    "\n",
    "firm_2013['鄉鎮碼'] = firm_2013['_行政区划代码'].astype(str).map(lambda x:x[0:9])\n",
    "firm_2013['縣碼'] = firm_2013['_行政区划代码'].astype(str).map(lambda x:x[0:6])"
   ]
  },
  {
   "cell_type": "code",
   "execution_count": 4,
   "metadata": {},
   "outputs": [],
   "source": [
    "#firm_2004_6 = list(firm_2004['縣碼'])\n",
    "#firm_2005_6 = list(firm_2005['縣碼'])\n",
    "#firm_2006_6 = list(firm_2006['縣碼'])\n",
    "firm_2007_6 = list(firm_2007['縣碼'])\n",
    "firm_2008_6 = list(firm_2008['縣碼'])\n",
    "firm_2009_6 = list(firm_2009['縣碼'])\n",
    "firm_2010_6 = list(firm_2010['縣碼'])\n",
    "firm_2011_6 = list(firm_2011['縣碼'])\n",
    "firm_2012_6 = list(firm_2012['縣碼'])\n",
    "firm_2013_6 = list(firm_2013['縣碼'])\n",
    "\n",
    "#firm_2004_9 = list(firm_2004['鄉鎮碼'])\n",
    "#firm_2005_9 = list(firm_2005['鄉鎮碼'])\n",
    "#firm_2006_9 = list(firm_2006['鄉鎮碼'])\n",
    "firm_2007_9 = list(firm_2007['鄉鎮碼'])\n",
    "firm_2008_9 = list(firm_2008['鄉鎮碼'])\n",
    "firm_2009_9 = list(firm_2009['鄉鎮碼'])\n",
    "firm_2010_9 = list(firm_2010['鄉鎮碼'])\n",
    "firm_2011_9 = list(firm_2011['鄉鎮碼'])\n",
    "firm_2012_9 = list(firm_2012['鄉鎮碼'])\n",
    "firm_2013_9 = list(firm_2013['鄉鎮碼'])"
   ]
  },
  {
   "cell_type": "code",
   "execution_count": 5,
   "metadata": {},
   "outputs": [
    {
     "name": "stdout",
     "output_type": "stream",
     "text": [
      "2908 2800 2791 2905 2754 2642 2768\n",
      "2543\n"
     ]
    }
   ],
   "source": [
    "print(len(set(firm_2007_6)),len(set(firm_2008_6)),\n",
    "      len(set(firm_2009_6)),len(set(firm_2010_6)),len(set(firm_2011_6)),len(set(firm_2012_6)),len(set(firm_2013_6)))\n",
    "d = [firm_2007_6,firm_2008_6,firm_2009_6,firm_2010_6,firm_2011_6,firm_2012_6,firm_2013_6]\n",
    "sample_6 = list(set(d[0]).intersection(*d))\n",
    "print(len(sample_6))"
   ]
  },
  {
   "cell_type": "code",
   "execution_count": 6,
   "metadata": {},
   "outputs": [
    {
     "name": "stdout",
     "output_type": "stream",
     "text": [
      "24837 27225 26417 24461 26164 25167 27208\n",
      "15519\n"
     ]
    }
   ],
   "source": [
    "print(len(set(firm_2007_9)),len(set(firm_2008_9)),\n",
    "      len(set(firm_2009_9)),len(set(firm_2010_9)),len(set(firm_2011_9)),len(set(firm_2012_9)),len(set(firm_2013_9)))\n",
    "e = [firm_2007_9,firm_2008_9,firm_2009_9,firm_2010_9,firm_2011_9,firm_2012_9,firm_2013_9]\n",
    "sample_9 = list(set(e[0]).intersection(*e))\n",
    "print(len(sample_9))"
   ]
  },
  {
   "cell_type": "markdown",
   "metadata": {},
   "source": [
    "# 檢查資料完整度"
   ]
  },
  {
   "cell_type": "code",
   "execution_count": 7,
   "metadata": {},
   "outputs": [],
   "source": [
    "effect_zone_9 = pd.read_excel(r'C:\\Users\\User\\Dropbox\\paper\\科技園區\\China\\效果鄉鎮碼.xlsx')\n",
    "effect_zone_9['新園區'] = effect_zone_9['新園區'].astype(str).map(lambda x:x[0:9])\n",
    "effect_zone_9['舊園區'] = effect_zone_9['舊園區'].astype(str).map(lambda x:x[0:9])\n",
    "effect_zone_9['2010後園區'] = effect_zone_9['2010後園區'].astype(str).map(lambda x:x[0:9])\n",
    "effect_zone_6 = pd.read_excel(r'C:\\Users\\User\\Dropbox\\paper\\科技園區\\China\\效果縣碼.xlsx')\n",
    "effect_zone_6['新園區'] = effect_zone_6['新園區'].astype(str).map(lambda x:x[0:6])\n",
    "effect_zone_6['舊園區'] = effect_zone_6['舊園區'].astype(str).map(lambda x:x[0:6])\n",
    "effect_zone_6['2010後園區'] = effect_zone_6['2010後園區'].astype(str).map(lambda x:x[0:6])"
   ]
  },
  {
   "cell_type": "code",
   "execution_count": 10,
   "metadata": {},
   "outputs": [
    {
     "name": "stdout",
     "output_type": "stream",
     "text": [
      "125 53 31\n",
      "66 30 20\n"
     ]
    }
   ],
   "source": [
    "old_9 = list(effect_zone_9['舊園區'])\n",
    "new_9 = list(effect_zone_9.loc[0:52,'新園區'])\n",
    "new2012_9 = list(effect_zone_9.loc[0:30,'2010後園區'])\n",
    "\n",
    "old_6= list(effect_zone_6['舊園區'])\n",
    "new_6 = list(effect_zone_6.loc[0:29,'新園區'])\n",
    "new2012_6 = list(effect_zone_6.loc[0:19,'2010後園區'])\n",
    "\n",
    "print(len(old_9),len(new_9),len(new2012_9))\n",
    "print(len(old_6),len(new_6),len(new2012_6))"
   ]
  },
  {
   "cell_type": "code",
   "execution_count": 11,
   "metadata": {},
   "outputs": [
    {
     "name": "stdout",
     "output_type": "stream",
     "text": [
      "88 39 22\n",
      "64 29 19\n"
     ]
    }
   ],
   "source": [
    "new_effect_zone_9 = list(set(new_9).intersection(sample_9))\n",
    "old_effect_zone_9 = list(set(old_9).intersection(sample_9))\n",
    "new2012_effect_zone_9 = list(set(new2012_9).intersection(sample_9))\n",
    "\n",
    "new_effect_zone_6 = list(set(new_6).intersection(sample_6))\n",
    "old_effect_zone_6 = list(set(old_6).intersection(sample_6))\n",
    "new2012_effect_zone_6 = list(set(new2012_6).intersection(sample_6))\n",
    "\n",
    "print(len(old_effect_zone_9),len(new_effect_zone_9),len(new2012_effect_zone_9))\n",
    "print(len(old_effect_zone_6),len(new_effect_zone_6),len(new2012_effect_zone_6))"
   ]
  },
  {
   "cell_type": "markdown",
   "metadata": {},
   "source": [
    "# TFP計算"
   ]
  },
  {
   "cell_type": "code",
   "execution_count": 12,
   "metadata": {
    "collapsed": true
   },
   "outputs": [
    {
     "name": "stderr",
     "output_type": "stream",
     "text": [
      "D:\\Anaconda\\lib\\site-packages\\ipykernel_launcher.py:15: RuntimeWarning: invalid value encountered in true_divide\n",
      "  from ipykernel import kernelapp as app\n",
      "D:\\Anaconda\\lib\\site-packages\\ipykernel_launcher.py:15: RuntimeWarning: divide by zero encountered in true_divide\n",
      "  from ipykernel import kernelapp as app\n",
      "D:\\Anaconda\\lib\\site-packages\\ipykernel_launcher.py:16: RuntimeWarning: divide by zero encountered in double_scalars\n",
      "  app.launch_new_instance()\n",
      "D:\\Anaconda\\lib\\site-packages\\ipykernel_launcher.py:16: RuntimeWarning: invalid value encountered in double_scalars\n",
      "  app.launch_new_instance()\n",
      "D:\\Anaconda\\lib\\site-packages\\ipykernel_launcher.py:17: RuntimeWarning: invalid value encountered in true_divide\n",
      "D:\\Anaconda\\lib\\site-packages\\ipykernel_launcher.py:17: RuntimeWarning: divide by zero encountered in true_divide\n",
      "D:\\Anaconda\\lib\\site-packages\\ipykernel_launcher.py:18: RuntimeWarning: invalid value encountered in true_divide\n",
      "D:\\Anaconda\\lib\\site-packages\\ipykernel_launcher.py:18: RuntimeWarning: divide by zero encountered in true_divide\n",
      "D:\\Anaconda\\lib\\site-packages\\ipykernel_launcher.py:19: RuntimeWarning: divide by zero encountered in double_scalars\n",
      "D:\\Anaconda\\lib\\site-packages\\ipykernel_launcher.py:19: RuntimeWarning: invalid value encountered in double_scalars\n",
      "D:\\Anaconda\\lib\\site-packages\\ipykernel_launcher.py:20: RuntimeWarning: divide by zero encountered in double_scalars\n",
      "D:\\Anaconda\\lib\\site-packages\\ipykernel_launcher.py:20: RuntimeWarning: invalid value encountered in double_scalars\n",
      "D:\\Anaconda\\lib\\site-packages\\ipykernel_launcher.py:21: RuntimeWarning: invalid value encountered in double_scalars\n",
      "D:\\Anaconda\\lib\\site-packages\\ipykernel_launcher.py:21: RuntimeWarning: divide by zero encountered in double_scalars\n"
     ]
    }
   ],
   "source": [
    "#TFP_2004_9 = firm_2004.groupby('鄉鎮碼')[['固定资产净','固定资产合','从业人员总','工业产值当']].sum()\n",
    "#TFP_2005_9 = firm_2005.groupby('鄉鎮碼')[['固定资产净','固定资产合','从业人员总','工业产值当']].sum()\n",
    "#TFP_2006_9 = firm_2006.groupby('鄉鎮碼')[['固定资产平','固定资产合','平均人数','工业总产值']].sum()\n",
    "TFP_2007_9 = firm_2007.groupby('鄉鎮碼')[['固定资产净值年平均余额','固定资产合计','全部从业人员年平均人数','工业总产值（当年价格）']].sum()\n",
    "TFP_2008_9 = firm_2008.groupby('鄉鎮碼')[['固定资产净值年平均余额','固定资产合计','全部从业人员年平均人数','工业总产值(当年价格)']].sum()\n",
    "TFP_2009_9 = firm_2009.groupby('鄉鎮碼')[['固定资产合计','全部从业人员年平均人数','工业总产值(当年价格)']].sum()\n",
    "TFP_2010_9 = firm_2010.groupby('鄉鎮碼')[['固定资产合计','全部从业人员年平均人数','工业总产值（现价）']].sum()\n",
    "TFP_2011_9 = firm_2011.groupby('鄉鎮碼')[['固定资产合计','从业人数','工业总产值']].sum()\n",
    "TFP_2012_9 = firm_2012.groupby('鄉鎮碼')[['固定资产合计','_从业人数','工业总产值_当年价格_']].sum()\n",
    "TFP_2013_9 = firm_2013.groupby('鄉鎮碼')[['固定资产合计','_从业人数','工业总产值']].sum()\n",
    "\n",
    "#TFP_2004_9['TFP'] = TFP_2004_9.apply(lambda x:x['工业产值当']/((x['从业人员总']**(0.6))*((x['固定资产合'])**(0.4))),axis=1)\n",
    "#TFP_2005_9['TFP'] = TFP_2005_9.apply(lambda x:x['工业产值当']/((x['从业人员总']**(0.6))*((x['固定资产合'])**(0.4))),axis=1)\n",
    "#TFP_2006_9['TFP'] = TFP_2006_9.apply(lambda x:x['工业总产值']/((x['平均人数']**(0.6))*((x['固定资产合'])**(0.4))),axis=1)\n",
    "TFP_2007_9['TFP'] = TFP_2007_9.apply(lambda x:x['工业总产值（当年价格）']/((x['全部从业人员年平均人数']**(0.6))*((x['固定资产合计'])**(0.4))),axis=1)\n",
    "TFP_2008_9['TFP'] = TFP_2008_9.apply(lambda x:x['工业总产值(当年价格)']/((x['全部从业人员年平均人数']**(0.6))*((x['固定资产合计'])**(0.4))),axis=1)\n",
    "TFP_2009_9['TFP'] = TFP_2009_9.apply(lambda x:x['工业总产值(当年价格)']/((x['全部从业人员年平均人数']**(0.6))*((x['固定资产合计'])**(0.4))),axis=1)\n",
    "TFP_2010_9['TFP'] = TFP_2010_9.apply(lambda x:x['工业总产值（现价）']/((x['全部从业人员年平均人数']**(0.6))*((x['固定资产合计'])**(0.4))),axis=1)\n",
    "TFP_2011_9['TFP'] = TFP_2011_9.apply(lambda x:x['工业总产值']/((x['从业人数']**(0.6))*((x['固定资产合计'])**(0.4))),axis=1)\n",
    "TFP_2012_9['TFP'] = TFP_2012_9.apply(lambda x:x['工业总产值_当年价格_']/((x['_从业人数']**(0.6))*((x['固定资产合计'])**(0.4))),axis=1)\n",
    "TFP_2013_9['TFP'] = TFP_2013_9.apply(lambda x:x['工业总产值']/((x['_从业人数']**(0.6))*((x['固定资产合计'])**(0.4))),axis=1)"
   ]
  },
  {
   "cell_type": "code",
   "execution_count": 13,
   "metadata": {
    "collapsed": true
   },
   "outputs": [
    {
     "name": "stderr",
     "output_type": "stream",
     "text": [
      "D:\\Anaconda\\lib\\site-packages\\ipykernel_launcher.py:15: RuntimeWarning: divide by zero encountered in true_divide\n",
      "  from ipykernel import kernelapp as app\n",
      "D:\\Anaconda\\lib\\site-packages\\ipykernel_launcher.py:15: RuntimeWarning: invalid value encountered in true_divide\n",
      "  from ipykernel import kernelapp as app\n",
      "D:\\Anaconda\\lib\\site-packages\\ipykernel_launcher.py:16: RuntimeWarning: invalid value encountered in double_scalars\n",
      "  app.launch_new_instance()\n",
      "D:\\Anaconda\\lib\\site-packages\\ipykernel_launcher.py:17: RuntimeWarning: invalid value encountered in true_divide\n",
      "D:\\Anaconda\\lib\\site-packages\\ipykernel_launcher.py:18: RuntimeWarning: divide by zero encountered in true_divide\n",
      "D:\\Anaconda\\lib\\site-packages\\ipykernel_launcher.py:18: RuntimeWarning: invalid value encountered in true_divide\n",
      "D:\\Anaconda\\lib\\site-packages\\ipykernel_launcher.py:19: RuntimeWarning: divide by zero encountered in double_scalars\n",
      "D:\\Anaconda\\lib\\site-packages\\ipykernel_launcher.py:21: RuntimeWarning: divide by zero encountered in double_scalars\n"
     ]
    }
   ],
   "source": [
    "#TFP_2004_6 = firm_2004.groupby('縣碼')[['固定资产净','固定资产合','从业人员总','工业产值当']].sum()\n",
    "#TFP_2005_6 = firm_2005.groupby('縣碼')[['固定资产净','固定资产合','从业人员总','工业产值当']].sum()\n",
    "#TFP_2006_6 = firm_2006.groupby('縣碼')[['固定资产平','固定资产合','平均人数','工业总产值']].sum()\n",
    "TFP_2007_6 = firm_2007.groupby('縣碼')[['固定资产净值年平均余额','固定资产合计','全部从业人员年平均人数','工业总产值（当年价格）']].sum()\n",
    "TFP_2008_6 = firm_2008.groupby('縣碼')[['固定资产净值年平均余额','固定资产合计','全部从业人员年平均人数','工业总产值(当年价格)']].sum()\n",
    "TFP_2009_6 = firm_2009.groupby('縣碼')[['固定资产合计','全部从业人员年平均人数','工业总产值(当年价格)']].sum()\n",
    "TFP_2010_6 = firm_2010.groupby('縣碼')[['固定资产合计','全部从业人员年平均人数','工业总产值（现价）']].sum()\n",
    "TFP_2011_6 = firm_2011.groupby('縣碼')[['固定资产合计','从业人数','工业总产值']].sum()\n",
    "TFP_2012_6 = firm_2012.groupby('縣碼')[['固定资产合计','_从业人数','工业总产值_当年价格_']].sum()\n",
    "TFP_2013_6 = firm_2013.groupby('縣碼')[['固定资产合计','_从业人数','工业总产值']].sum()\n",
    "\n",
    "#TFP_2004_6['TFP'] = TFP_2004_6.apply(lambda x:x['工业产值当']/((x['从业人员总']**(0.6))*((x['固定资产合'])**(0.4))),axis=1)\n",
    "#TFP_2005_6['TFP'] = TFP_2005_6.apply(lambda x:x['工业产值当']/((x['从业人员总']**(0.6))*((x['固定资产合'])**(0.4))),axis=1)\n",
    "#TFP_2006_6['TFP'] = TFP_2006_6.apply(lambda x:x['工业总产值']/((x['平均人数']**(0.6))*((x['固定资产合'])**(0.4))),axis=1)\n",
    "TFP_2007_6['TFP'] = TFP_2007_6.apply(lambda x:x['工业总产值（当年价格）']/((x['全部从业人员年平均人数']**(0.6))*((x['固定资产合计'])**(0.4))),axis=1)\n",
    "TFP_2008_6['TFP'] = TFP_2008_6.apply(lambda x:x['工业总产值(当年价格)']/((x['全部从业人员年平均人数']**(0.6))*((x['固定资产合计'])**(0.4))),axis=1)\n",
    "TFP_2009_6['TFP'] = TFP_2009_6.apply(lambda x:x['工业总产值(当年价格)']/((x['全部从业人员年平均人数']**(0.6))*((x['固定资产合计'])**(0.4))),axis=1)\n",
    "TFP_2010_6['TFP'] = TFP_2010_6.apply(lambda x:x['工业总产值（现价）']/((x['全部从业人员年平均人数']**(0.6))*((x['固定资产合计'])**(0.4))),axis=1)\n",
    "TFP_2011_6['TFP'] = TFP_2011_6.apply(lambda x:x['工业总产值']/((x['从业人数']**(0.6))*((x['固定资产合计'])**(0.4))),axis=1)\n",
    "TFP_2012_6['TFP'] = TFP_2012_6.apply(lambda x:x['工业总产值_当年价格_']/((x['_从业人数']**(0.6))*((x['固定资产合计'])**(0.4))),axis=1)\n",
    "TFP_2013_6['TFP'] = TFP_2013_6.apply(lambda x:x['工业总产值']/((x['_从业人数']**(0.6))*((x['固定资产合计'])**(0.4))),axis=1)"
   ]
  },
  {
   "cell_type": "code",
   "execution_count": 14,
   "metadata": {},
   "outputs": [],
   "source": [
    "#TFP_2004_9.rename(columns={'固定资产合':'固定資產','从业人员总':'員工數','工业产值当':'工業產值'},inplace=True)\n",
    "#TFP_2005_9.rename(columns={'固定资产合':'固定資產','从业人员总':'員工數','工业产值当':'工業產值'},inplace=True)\n",
    "#TFP_2006_9.rename(columns={'固定资产合':'固定資產','平均人数':'員工數','工业总产值':'工業產值'},inplace=True)\n",
    "TFP_2007_9.rename(columns={'固定资产合计':'固定資產','全部从业人员年平均人数':'員工數','工业总产值（当年价格）':'工業產值'},inplace=True)\n",
    "TFP_2008_9.rename(columns={'固定资产合计':'固定資產','全部从业人员年平均人数':'員工數','工业总产值(当年价格)':'工業產值'},inplace=True)\n",
    "TFP_2009_9.rename(columns={'固定资产合计':'固定資產','全部从业人员年平均人数':'員工數','工业总产值(当年价格)':'工業產值'},inplace=True)\n",
    "TFP_2010_9.rename(columns={'固定资产合计':'固定資產','全部从业人员年平均人数':'員工數','工业总产值（现价）':'工業產值'},inplace=True)\n",
    "TFP_2011_9.rename(columns={'固定资产合计':'固定資產','从业人数':'員工數','工业总产值':'工業產值'},inplace=True)\n",
    "TFP_2012_9.rename(columns={'固定资产合计':'固定資產','_从业人数':'員工數','工业总产值_当年价格_':'工業產值'},inplace=True)\n",
    "TFP_2013_9.rename(columns={'固定资产合计':'固定資產','_从业人数':'員工數','工业总产值':'工業產值'},inplace=True)\n",
    "\n",
    "#TFP_2004_6.rename(columns={'固定资产合':'固定資產','从业人员总':'員工數','工业产值当':'工業產值'},inplace=True)\n",
    "#TFP_2005_6.rename(columns={'固定资产合':'固定資產','从业人员总':'員工數','工业产值当':'工業產值'},inplace=True)\n",
    "#TFP_2006_6.rename(columns={'固定资产合':'固定資產','平均人数':'員工數','工业总产值':'工業產值'},inplace=True)\n",
    "TFP_2007_6.rename(columns={'固定资产合计':'固定資產','全部从业人员年平均人数':'員工數','工业总产值（当年价格）':'工業產值'},inplace=True)\n",
    "TFP_2008_6.rename(columns={'固定资产合计':'固定資產','全部从业人员年平均人数':'員工數','工业总产值(当年价格)':'工業產值'},inplace=True)\n",
    "TFP_2009_6.rename(columns={'固定资产合计':'固定資產','全部从业人员年平均人数':'員工數','工业总产值(当年价格)':'工業產值'},inplace=True)\n",
    "TFP_2010_6.rename(columns={'固定资产合计':'固定資產','全部从业人员年平均人数':'員工數','工业总产值（现价）':'工業產值'},inplace=True)\n",
    "TFP_2011_6.rename(columns={'固定资产合计':'固定資產','从业人数':'員工數','工业总产值':'工業產值'},inplace=True)\n",
    "TFP_2012_6.rename(columns={'固定资产合计':'固定資產','_从业人数':'員工數','工业总产值_当年价格_':'工業產值'},inplace=True)\n",
    "TFP_2013_6.rename(columns={'固定资产合计':'固定資產','_从业人数':'員工數','工业总产值':'工業產值'},inplace=True)"
   ]
  },
  {
   "cell_type": "code",
   "execution_count": 15,
   "metadata": {},
   "outputs": [],
   "source": [
    "#TFP_2004_9['year'] = '2004'\n",
    "#TFP_2004_9['鄉鎮碼'] = TFP_2004_9.index\n",
    "#TFP_2004_9['縣碼'] = TFP_2004_9['鄉鎮碼'].map(lambda x:x[0:6])\n",
    "#TFP_2005_9['year'] = '2005'\n",
    "#TFP_2005_9['鄉鎮碼'] = TFP_2005_9.index\n",
    "#TFP_2005_9['縣碼'] = TFP_2005_9['鄉鎮碼'].map(lambda x:x[0:6])\n",
    "#TFP_2006_9['year'] = '2006'\n",
    "#TFP_2006_9['鄉鎮碼'] = TFP_2006_9.index\n",
    "#TFP_2006_9['縣碼'] = TFP_2006_9['鄉鎮碼'].map(lambda x:x[0:6])\n",
    "TFP_2007_9['year'] = '2007'\n",
    "TFP_2007_9['鄉鎮碼'] = TFP_2007_9.index\n",
    "TFP_2007_9['縣碼'] = TFP_2007_9['鄉鎮碼'].map(lambda x:x[0:6])\n",
    "TFP_2008_9['year'] = '2008'\n",
    "TFP_2008_9['鄉鎮碼'] = TFP_2008_9.index\n",
    "TFP_2008_9['縣碼'] = TFP_2008_9['鄉鎮碼'].map(lambda x:x[0:6])\n",
    "TFP_2009_9['year'] = '2009'\n",
    "TFP_2009_9['鄉鎮碼'] = TFP_2009_9.index\n",
    "TFP_2009_9['縣碼'] = TFP_2009_9['鄉鎮碼'].map(lambda x:x[0:6])\n",
    "TFP_2010_9['year'] = '2010'\n",
    "TFP_2010_9['鄉鎮碼'] = TFP_2010_9.index\n",
    "TFP_2010_9['縣碼'] = TFP_2010_9['鄉鎮碼'].map(lambda x:x[0:6])\n",
    "TFP_2011_9['year'] = '2011'\n",
    "TFP_2011_9['鄉鎮碼'] = TFP_2011_9.index\n",
    "TFP_2011_9['縣碼'] = TFP_2011_9['鄉鎮碼'].map(lambda x:x[0:6])\n",
    "TFP_2012_9['year'] = '2012'\n",
    "TFP_2012_9['鄉鎮碼'] = TFP_2012_9.index\n",
    "TFP_2012_9['縣碼'] = TFP_2012_9['鄉鎮碼'].map(lambda x:x[0:6])\n",
    "TFP_2013_9['year'] = '2013'\n",
    "TFP_2013_9['鄉鎮碼'] = TFP_2013_9.index\n",
    "TFP_2013_9['縣碼'] = TFP_2013_9['鄉鎮碼'].map(lambda x:x[0:6])\n",
    "\n",
    "#TFP_2004_6['year'] = '2004'\n",
    "#TFP_2004_6['縣碼'] = TFP_2004_6.index\n",
    "#TFP_2004_6['市碼'] = TFP_2004_6['縣碼'].map(lambda x:x[0:4])\n",
    "#TFP_2005_6['year'] = '2005'\n",
    "#TFP_2005_6['縣碼'] = TFP_2005_6.index\n",
    "#TFP_2005_6['市碼'] = TFP_2005_6['縣碼'].map(lambda x:x[0:4])\n",
    "#TFP_2006_6['year'] = '2006'\n",
    "#TFP_2006_6['縣碼'] = TFP_2006_6.index\n",
    "#TFP_2006_6['市碼'] = TFP_2006_6['縣碼'].map(lambda x:x[0:4])\n",
    "TFP_2007_6['year'] = '2007'\n",
    "TFP_2007_6['縣碼'] = TFP_2007_6.index\n",
    "TFP_2007_6['市碼'] = TFP_2007_6['縣碼'].map(lambda x:x[0:4])\n",
    "TFP_2008_6['year'] = '2008'\n",
    "TFP_2008_6['縣碼'] = TFP_2008_6.index\n",
    "TFP_2008_6['市碼'] = TFP_2008_6['縣碼'].map(lambda x:x[0:4])\n",
    "TFP_2009_6['year'] = '2009'\n",
    "TFP_2009_6['縣碼'] = TFP_2009_6.index\n",
    "TFP_2009_6['市碼'] = TFP_2009_6['縣碼'].map(lambda x:x[0:4])\n",
    "TFP_2010_6['year'] = '2010'\n",
    "TFP_2010_6['縣碼'] = TFP_2010_6.index\n",
    "TFP_2010_6['市碼'] = TFP_2010_6['縣碼'].map(lambda x:x[0:4])\n",
    "TFP_2011_6['year'] = '2011'\n",
    "TFP_2011_6['縣碼'] = TFP_2011_6.index\n",
    "TFP_2011_6['市碼'] = TFP_2011_6['縣碼'].map(lambda x:x[0:4])\n",
    "TFP_2012_6['year'] = '2012'\n",
    "TFP_2012_6['縣碼'] = TFP_2012_6.index\n",
    "TFP_2012_6['市碼'] = TFP_2012_6['縣碼'].map(lambda x:x[0:4])\n",
    "TFP_2013_6['year'] = '2013'\n",
    "TFP_2013_6['縣碼'] = TFP_2013_6.index\n",
    "TFP_2013_6['市碼'] = TFP_2013_6['縣碼'].map(lambda x:x[0:4])"
   ]
  },
  {
   "cell_type": "code",
   "execution_count": 16,
   "metadata": {},
   "outputs": [],
   "source": [
    "TFP_9 = pd.concat([TFP_2007_9[['TFP','year','鄉鎮碼','縣碼','固定資產','員工數','工業產值']],\n",
    "                   TFP_2008_9[['TFP','year','鄉鎮碼','縣碼','固定資產','員工數','工業產值']],\n",
    "                   TFP_2009_9[['TFP','year','鄉鎮碼','縣碼','固定資產','員工數','工業產值']],\n",
    "                   TFP_2010_9[['TFP','year','鄉鎮碼','縣碼','固定資產','員工數','工業產值']],\n",
    "                   TFP_2011_9[['TFP','year','鄉鎮碼','縣碼','固定資產','員工數','工業產值']],\n",
    "                   TFP_2012_9[['TFP','year','鄉鎮碼','縣碼','固定資產','員工數','工業產值']],\n",
    "                   TFP_2013_9[['TFP','year','鄉鎮碼','縣碼','固定資產','員工數','工業產值']]],\n",
    "         ignore_index=True).sort_values(['鄉鎮碼','year'])\n",
    "\n",
    "TFP_6 = pd.concat([TFP_2007_6[['TFP','year','縣碼','市碼','固定資產','員工數','工業產值']],\n",
    "                   TFP_2008_6[['TFP','year','縣碼','市碼','固定資產','員工數','工業產值']],\n",
    "                   TFP_2009_6[['TFP','year','縣碼','市碼','固定資產','員工數','工業產值']],\n",
    "                   TFP_2010_6[['TFP','year','縣碼','市碼','固定資產','員工數','工業產值']],\n",
    "                   TFP_2011_6[['TFP','year','縣碼','市碼','固定資產','員工數','工業產值']],\n",
    "                   TFP_2012_6[['TFP','year','縣碼','市碼','固定資產','員工數','工業產值']],\n",
    "                   TFP_2013_6[['TFP','year','縣碼','市碼','固定資產','員工數','工業產值']]],\n",
    "         ignore_index=True).sort_values(['縣碼','year'])"
   ]
  },
  {
   "cell_type": "code",
   "execution_count": 17,
   "metadata": {},
   "outputs": [],
   "source": [
    "TFP_9 = TFP_9[TFP_9['鄉鎮碼'].isin(sample_9)].reset_index(drop=True)\n",
    "TFP_6 = TFP_6[TFP_6['縣碼'].isin(sample_6)].reset_index(drop=True)"
   ]
  },
  {
   "cell_type": "code",
   "execution_count": 19,
   "metadata": {},
   "outputs": [],
   "source": [
    "abandom_9 = list(TFP_9[(TFP_9['TFP']==np.inf)|(TFP_9['TFP']==-np.inf)]['鄉鎮碼'].unique())\n",
    "abandom_6 = list(TFP_6[(TFP_6['TFP']==np.inf)|(TFP_6['TFP']==-np.inf)]['縣碼'].unique())"
   ]
  },
  {
   "cell_type": "code",
   "execution_count": 20,
   "metadata": {},
   "outputs": [],
   "source": [
    "TFP_9 = TFP_9[~TFP_9['鄉鎮碼'].isin(abandom_9)]\n",
    "TFP_6 = TFP_6[~TFP_6['縣碼'].isin(abandom_6)]"
   ]
  },
  {
   "cell_type": "code",
   "execution_count": 22,
   "metadata": {},
   "outputs": [],
   "source": [
    "TFP_9.to_excel(r'E:\\paper\\panel_data_9碼_TFP值正常.xlsx')\n",
    "TFP_6.to_excel(r'E:\\paper\\panel_data_6碼_TFP值正常.xlsx')"
   ]
  },
  {
   "cell_type": "markdown",
   "metadata": {},
   "source": [
    "# 完成treatment變數的分配"
   ]
  },
  {
   "cell_type": "code",
   "execution_count": 27,
   "metadata": {},
   "outputs": [],
   "source": [
    "TFP_9 = TFP_9.set_index('鄉鎮碼')\n",
    "TFP_6 = TFP_6.set_index('縣碼')"
   ]
  },
  {
   "cell_type": "code",
   "execution_count": 31,
   "metadata": {},
   "outputs": [],
   "source": [
    "TFP_9['鄉鎮碼'] = TFP_9.index\n",
    "TFP_9['舊園區'] = TFP_9['鄉鎮碼'].map(lambda x:1 if x in old_9 else 0)\n",
    "TFP_9['2010園區'] = TFP_9['鄉鎮碼'].map(lambda x:1 if x in new_9 else 0)\n",
    "TFP_9['2010後園區'] = TFP_9['鄉鎮碼'].map(lambda x:1 if x in new2012_9 else 0)\n",
    "TFP_9.drop('鄉鎮碼',axis=1,inplace=True)"
   ]
  },
  {
   "cell_type": "code",
   "execution_count": 33,
   "metadata": {},
   "outputs": [],
   "source": [
    "TFP_6['縣碼'] = TFP_6.index\n",
    "TFP_6['舊園區'] = TFP_6['縣碼'].map(lambda x:1 if x in old_6 else 0)\n",
    "TFP_6['2010園區'] = TFP_6['縣碼'].map(lambda x:1 if x in new_6 else 0)\n",
    "TFP_6['2010後園區'] = TFP_6['縣碼'].map(lambda x:1 if x in new2012_6 else 0)\n",
    "TFP_6.drop('縣碼',axis=1,inplace=True)"
   ]
  },
  {
   "cell_type": "code",
   "execution_count": 37,
   "metadata": {},
   "outputs": [],
   "source": [
    "TFP_9['時間點'] = TFP_9['year'].map(lambda x:int(x)-2010)\n",
    "TFP_6['時間點'] = TFP_6['year'].map(lambda x:int(x)-2010)\n",
    "TFP_9['after2010'] = TFP_9['時間點'].map(lambda x:1 if x>0 else 0)\n",
    "TFP_6['after2010'] = TFP_6['時間點'].map(lambda x:1 if x>0 else 0)\n",
    "TFP_9['treated'] = TFP_9.apply(lambda x:x['2010園區']*x['after2010'],axis=1)\n",
    "TFP_6['treated'] = TFP_6.apply(lambda x:x['2010園區']*x['after2010'],axis=1)"
   ]
  },
  {
   "cell_type": "code",
   "execution_count": 39,
   "metadata": {},
   "outputs": [
    {
     "name": "stdout",
     "output_type": "stream",
     "text": [
      "(107093, 16)\n",
      "(17780, 16)\n"
     ]
    }
   ],
   "source": [
    "print(TFP_9.shape)\n",
    "print(TFP_6.shape)"
   ]
  },
  {
   "cell_type": "code",
   "execution_count": 42,
   "metadata": {},
   "outputs": [],
   "source": [
    "abandom_9 = list(TFP_9[TFP_9['R&D OECD'].isna()].index.unique())\n",
    "abandom_6 = list(TFP_6[TFP_6['R&D OECD'].isna()].index.unique())"
   ]
  },
  {
   "cell_type": "code",
   "execution_count": 46,
   "metadata": {},
   "outputs": [],
   "source": [
    "TFP_9 = TFP_9[~TFP_9.index.isin(abandom_9)]\n",
    "TFP_6 = TFP_6[~TFP_6.index.isin(abandom_6)]"
   ]
  },
  {
   "cell_type": "code",
   "execution_count": 47,
   "metadata": {},
   "outputs": [
    {
     "name": "stdout",
     "output_type": "stream",
     "text": [
      "(90986, 16)\n",
      "(17675, 16)\n"
     ]
    }
   ],
   "source": [
    "print(TFP_9.shape)\n",
    "print(TFP_6.shape)"
   ]
  },
  {
   "cell_type": "code",
   "execution_count": 48,
   "metadata": {},
   "outputs": [],
   "source": [
    "TFP_9.to_excel(r'E:\\paper\\panel_data_9碼_合併baseline.xlsx')\n",
    "TFP_6.to_excel(r'E:\\paper\\panel_data_6碼_合併baseline.xlsx')"
   ]
  },
  {
   "cell_type": "markdown",
   "metadata": {},
   "source": [
    "# 保留可用的Sample\n",
    "## 剔除舊園區及2011~2012園區"
   ]
  },
  {
   "cell_type": "code",
   "execution_count": 2,
   "metadata": {},
   "outputs": [],
   "source": [
    "TFP_9 = pd.read_excel(r'E:\\paper\\panel_data_9碼_合併baseline.xlsx',index_col=0)\n",
    "TFP_6 = pd.read_excel(r'E:\\paper\\panel_data_6碼_合併baseline.xlsx',index_col=0)"
   ]
  },
  {
   "cell_type": "code",
   "execution_count": 4,
   "metadata": {},
   "outputs": [],
   "source": [
    "TFP_9_DD = TFP_9[(TFP_9['舊園區']==0)&(TFP_9['2010後園區']==0)]\n",
    "TFP_6_DD = TFP_6[(TFP_6['舊園區']==0)&(TFP_6['2010後園區']==0)]"
   ]
  },
  {
   "cell_type": "code",
   "execution_count": 5,
   "metadata": {},
   "outputs": [
    {
     "name": "stdout",
     "output_type": "stream",
     "text": [
      "(90321, 16)\n",
      "(17101, 16)\n"
     ]
    }
   ],
   "source": [
    "print(TFP_9_DD.shape)\n",
    "print(TFP_6_DD.shape)"
   ]
  },
  {
   "cell_type": "code",
   "execution_count": 59,
   "metadata": {},
   "outputs": [],
   "source": [
    "abandom_9 = list(TFP_9_DD[TFP_9_DD['工業產值']==0].index.unique())\n",
    "abandom_6 = list(TFP_6_DD[TFP_6_DD['工業產值']==0].index.unique())"
   ]
  },
  {
   "cell_type": "code",
   "execution_count": 60,
   "metadata": {},
   "outputs": [],
   "source": [
    "TFP_9_DD = TFP_9_DD[~TFP_9_DD.index.isin(abandom_9)]\n",
    "TFP_6_DD = TFP_6_DD[~TFP_6_DD.index.isin(abandom_6)]"
   ]
  },
  {
   "cell_type": "code",
   "execution_count": 61,
   "metadata": {},
   "outputs": [
    {
     "name": "stdout",
     "output_type": "stream",
     "text": [
      "(90055, 16)\n",
      "(17087, 16)\n"
     ]
    }
   ],
   "source": [
    "print(TFP_9_DD.shape)\n",
    "print(TFP_6_DD.shape)"
   ]
  },
  {
   "cell_type": "code",
   "execution_count": 63,
   "metadata": {},
   "outputs": [],
   "source": [
    "abandom_9 = list(TFP_9_DD[TFP_9_DD['TFP'].isna()].index.unique())\n",
    "abandom_6 = list(TFP_6_DD[TFP_6_DD['TFP'].isna()].index.unique())"
   ]
  },
  {
   "cell_type": "code",
   "execution_count": 64,
   "metadata": {},
   "outputs": [],
   "source": [
    "TFP_9_DD = TFP_9_DD[~TFP_9_DD.index.isin(abandom_9)]\n",
    "TFP_6_DD = TFP_6_DD[~TFP_6_DD.index.isin(abandom_6)]"
   ]
  },
  {
   "cell_type": "code",
   "execution_count": 66,
   "metadata": {},
   "outputs": [
    {
     "name": "stdout",
     "output_type": "stream",
     "text": [
      "(90048, 16)\n",
      "9碼可用樣本 12864.0\n",
      "(17087, 16)\n",
      "6碼可用樣本 2441.0\n"
     ]
    }
   ],
   "source": [
    "print(TFP_9_DD.shape)\n",
    "print('9碼可用樣本',TFP_9_DD.shape[0]/7)\n",
    "print(TFP_6_DD.shape)\n",
    "print('6碼可用樣本',TFP_6_DD.shape[0]/7)"
   ]
  },
  {
   "cell_type": "code",
   "execution_count": 67,
   "metadata": {},
   "outputs": [],
   "source": [
    "TFP_9_DD.to_excel(r'E:\\paper\\panel_data_9碼_可用樣本.xlsx')\n",
    "TFP_6_DD.to_excel(r'E:\\paper\\panel_data_6碼_可用樣本.xlsx')"
   ]
  },
  {
   "cell_type": "markdown",
   "metadata": {},
   "source": [
    "# matching用樣本建構(合併可用樣本&matching所使用變數)"
   ]
  },
  {
   "cell_type": "code",
   "execution_count": 6,
   "metadata": {},
   "outputs": [],
   "source": [
    "TFP_9_DD = pd.read_excel(r'E:\\paper\\panel_data_9碼_可用樣本.xlsx',index_col=0)\n",
    "TFP_6_DD = pd.read_excel(r'E:\\paper\\panel_data_6碼_可用樣本.xlsx',index_col=0)\n",
    "TFP_9_DD.index = TFP_9_DD.index.astype(str)\n",
    "TFP_6_DD.index = TFP_6_DD.index.astype(str)"
   ]
  },
  {
   "cell_type": "code",
   "execution_count": 7,
   "metadata": {},
   "outputs": [],
   "source": [
    "test_9 = pd.read_excel(r'E:\\paper\\probit_model_9碼(2009)_new.xlsx',index_col=0)\n",
    "test_6 = pd.read_excel(r'E:\\paper\\probit_model_6碼(2009)_new.xlsx',index_col=0)\n",
    "test_9.index = test_9.index.astype(str)\n",
    "test_6.index = test_6.index.astype(str)"
   ]
  },
  {
   "cell_type": "code",
   "execution_count": 8,
   "metadata": {},
   "outputs": [
    {
     "name": "stdout",
     "output_type": "stream",
     "text": [
      "(19827, 15)\n",
      "(2737, 15)\n",
      "(34, 15)\n",
      "(29, 15)\n"
     ]
    }
   ],
   "source": [
    "print(test_9.shape)\n",
    "print(test_6.shape)\n",
    "print(test_9[test_9['2010園區']==1].shape)\n",
    "print(test_6[test_6['2010園區']==1].shape)"
   ]
  },
  {
   "cell_type": "code",
   "execution_count": 9,
   "metadata": {},
   "outputs": [
    {
     "name": "stdout",
     "output_type": "stream",
     "text": [
      "(12839, 15)\n",
      "(2433, 15)\n",
      "(32, 15)\n",
      "(29, 15)\n"
     ]
    }
   ],
   "source": [
    "test_9 = test_9[test_9.index.isin(list(TFP_9_DD.index.unique()))]\n",
    "test_6 = test_6[test_6.index.isin(list(TFP_6_DD.index.unique()))]\n",
    "print(test_9.shape)\n",
    "print(test_6.shape)\n",
    "print(test_9[test_9['2010園區']==1].shape)\n",
    "print(test_6[test_6['2010園區']==1].shape)"
   ]
  },
  {
   "cell_type": "code",
   "execution_count": null,
   "metadata": {},
   "outputs": [],
   "source": [
    "test_9.to_excel(r'E:\\paper\\matching用樣本_9碼.xlsx')\n",
    "test_6.to_excel(r'E:\\paper\\matching用樣本_6碼.xlsx')"
   ]
  },
  {
   "cell_type": "markdown",
   "metadata": {},
   "source": [
    "# 合併matching結果"
   ]
  },
  {
   "cell_type": "code",
   "execution_count": 2,
   "metadata": {},
   "outputs": [],
   "source": [
    "NN_9 = pd.read_excel(r'E:\\paper\\matching結果TFP_9碼.xlsx')\n",
    "NN_6 = pd.read_excel(r'E:\\paper\\matching結果TFP_6碼.xlsx')"
   ]
  },
  {
   "cell_type": "markdown",
   "metadata": {},
   "source": [
    "### 9碼matching"
   ]
  },
  {
   "cell_type": "code",
   "execution_count": 3,
   "metadata": {},
   "outputs": [],
   "source": [
    "NN9 = []\n",
    "for i in NN_9[NN_9['2010園區']==1].index:\n",
    "    NN9.append([i+1] + list(NN_9.loc[i,['nearest-neighbor index 1','nearest-neighbor index 2','nearest-neighbor index 3']]))\n",
    "NN9_code = []\n",
    "for i in NN9:\n",
    "    temp = []\n",
    "    for j in i:\n",
    "        temp.append(NN_9.loc[int(j)-1,'鄉鎮碼'])\n",
    "    NN9_code.append(temp)\n",
    "NN_9_sample = []\n",
    "for i in NN9_code:\n",
    "    for j in i:\n",
    "        NN_9_sample.append(str(j))"
   ]
  },
  {
   "cell_type": "code",
   "execution_count": 6,
   "metadata": {
    "collapsed": true
   },
   "outputs": [
    {
     "data": {
      "text/plain": [
       "[[130203450, 350581100, 210402009, 371002100],\n",
       " [131082109, 210323102, 421381203, 130208104],\n",
       " [131082450, 500106012, 350525110, 511802003],\n",
       " [210803003, 130984100, 350182105, 510822105],\n",
       " [211004101, 540126100, 350525200, 532901103],\n",
       " [222401006, 231282004, 371081400, 341002002],\n",
       " [230202006, 640202005, 441225109, 511028100],\n",
       " [320583100, 420112011, 650103008, 420503004],\n",
       " [330602006, 330206004, 150203010, 140728200],\n",
       " [340203001, 511126201, 511921111, 220602100],\n",
       " [340304200, 130827100, 421181100, 420804100],\n",
       " [340304400, 320115002, 420606170, 140830101],\n",
       " [350502005, 230204004, 440923127, 652301104],\n",
       " [350502006, 140822100, 420625101, 140830100],\n",
       " [360502190, 370321103, 140702003, 341181400],\n",
       " [370811003, 350626101, 500106007, 621002001],\n",
       " [440704004, 130682003, 371326110, 610502002],\n",
       " [441284450, 440507001, 350111002, 340828103],\n",
       " [450202005, 350625500, 621222220, 522702105],\n",
       " [450221100, 511126100, 220203010, 360602002],\n",
       " [610502007, 341203101, 370611003, 120111400],\n",
       " [610502008, 130303005, 520303002, 511724211],\n",
       " [620402002, 620824102, 330106004, 510113001],\n",
       " [620402005, 532931101, 350322001, 230781100],\n",
       " [630105001, 522701004, 652826100, 610702102],\n",
       " [630105002, 210102013, 441322116, 610303006],\n",
       " [630105003, 350122104, 511402001, 350521100],\n",
       " [630105101, 441421129, 210902007, 370214007],\n",
       " [640106002, 410402004, 310115012, 610112003],\n",
       " [640106004, 211103010, 350505001, 420112004],\n",
       " [652301003, 610431100, 440784112, 500106005],\n",
       " [652301006, 371422103, 130521104, 350181116]]"
      ]
     },
     "execution_count": 6,
     "metadata": {},
     "output_type": "execute_result"
    }
   ],
   "source": [
    "NN9_code"
   ]
  },
  {
   "cell_type": "code",
   "execution_count": 7,
   "metadata": {},
   "outputs": [
    {
     "name": "stdout",
     "output_type": "stream",
     "text": [
      "128 128\n"
     ]
    }
   ],
   "source": [
    "print(len(NN_9_sample),len(set(NN_9_sample)))"
   ]
  },
  {
   "cell_type": "code",
   "execution_count": null,
   "metadata": {},
   "outputs": [],
   "source": [
    "TFP_9_DD = pd.read_excel(r'E:\\paper\\panel_data_9碼_可用樣本.xlsx',index_col=0)\n",
    "TFP_9_DD.index = TFP_9_DD.index.astype(str)\n",
    "final_9 = TFP_9_DD[TFP_9_DD.index.isin(NN_9_sample)]\n",
    "final_9['TFP'] = final_9['TFP'].map(lambda x:np.log(x))\n",
    "print(final_9.shape)"
   ]
  },
  {
   "cell_type": "code",
   "execution_count": null,
   "metadata": {},
   "outputs": [],
   "source": [
    "final_9"
   ]
  },
  {
   "cell_type": "code",
   "execution_count": null,
   "metadata": {},
   "outputs": [],
   "source": [
    "final_9.to_excel(r'E:\\paper\\matching完畢_全時間_9碼.xlsx')"
   ]
  },
  {
   "cell_type": "markdown",
   "metadata": {},
   "source": [
    "### 6碼matching"
   ]
  },
  {
   "cell_type": "code",
   "execution_count": 12,
   "metadata": {},
   "outputs": [],
   "source": [
    "NN6 = []\n",
    "for i in NN_6[NN_6['2010園區']==1].index:\n",
    "    NN6.append([i+1] + list(NN_6.loc[i,['nearest-neighbor index 1','nearest-neighbor index 2','nearest-neighbor index 3']]))\n",
    "NN6_code = []\n",
    "for i in NN6:\n",
    "    temp = []\n",
    "    for j in i:\n",
    "        temp.append(NN_6.loc[int(j)-1,'縣碼'])\n",
    "    NN6_code.append(temp)\n",
    "NN_6_sample = []\n",
    "for i in NN6_code:\n",
    "    for j in i:\n",
    "        NN_6_sample.append(str(j))"
   ]
  },
  {
   "cell_type": "code",
   "execution_count": 9,
   "metadata": {
    "collapsed": true
   },
   "outputs": [
    {
     "data": {
      "text/plain": [
       "[[130203, 621025, 211002, 210204],\n",
       " [131082, 130603, 512002, 441625],\n",
       " [210802, 512081, 150927, 445322],\n",
       " [210803, 371102, 341203, 370203],\n",
       " [211004, 410711, 610102, 140721],\n",
       " [222401, 320506, 361127, 533325],\n",
       " [230202, 370683, 320802, 441226],\n",
       " [320583, 460106, 350105, 440404],\n",
       " [330602, 140303, 410323, 510683],\n",
       " [340203, 520402, 469003, 321283],\n",
       " [340304, 520103, 410711, 420504],\n",
       " [350502, 330802, 210804, 610721],\n",
       " [360202, 610721, 330802, 441621],\n",
       " [360203, 370281, 450403, 520421],\n",
       " [360502, 450481, 210105, 500106],\n",
       " [370613, 370213, 350211, 141081],\n",
       " [370811, 450803, 370703, 440607],\n",
       " [410502, 130302, 450102, 341602],\n",
       " [411303, 210603, 210402, 360429],\n",
       " [420502, 420115, 210102, 220106],\n",
       " [440704, 310114, 220105, 440307],\n",
       " [441284, 510504, 150702, 220681],\n",
       " [450202, 210111, 441624, 330204],\n",
       " [450221, 211204, 611002, 131181],\n",
       " [610502, 130528, 513223, 511304],\n",
       " [620402, 510122, 520181, 513401],\n",
       " [630105, 530721, 210702, 410104],\n",
       " [640106, 530127, 210113, 440204],\n",
       " [652301, 310120, 220623, 211302]]"
      ]
     },
     "execution_count": 9,
     "metadata": {},
     "output_type": "execute_result"
    }
   ],
   "source": [
    "#TFP\n",
    "NN6_code"
   ]
  },
  {
   "cell_type": "code",
   "execution_count": 10,
   "metadata": {},
   "outputs": [
    {
     "name": "stdout",
     "output_type": "stream",
     "text": [
      "116 113\n"
     ]
    }
   ],
   "source": [
    "print(len(NN_6_sample),len(set(NN_6_sample)))"
   ]
  },
  {
   "cell_type": "code",
   "execution_count": 136,
   "metadata": {
    "collapsed": true
   },
   "outputs": [
    {
     "name": "stdout",
     "output_type": "stream",
     "text": [
      "(791, 16)\n"
     ]
    },
    {
     "name": "stderr",
     "output_type": "stream",
     "text": [
      "D:\\Anaconda\\lib\\site-packages\\ipykernel_launcher.py:4: SettingWithCopyWarning: \n",
      "A value is trying to be set on a copy of a slice from a DataFrame.\n",
      "Try using .loc[row_indexer,col_indexer] = value instead\n",
      "\n",
      "See the caveats in the documentation: http://pandas.pydata.org/pandas-docs/stable/user_guide/indexing.html#returning-a-view-versus-a-copy\n",
      "  after removing the cwd from sys.path.\n"
     ]
    }
   ],
   "source": [
    "TFP_6_DD = pd.read_excel(r'E:\\paper\\panel_data_6碼_可用樣本.xlsx',index_col=0)\n",
    "TFP_6_DD.index = TFP_6_DD.index.astype(str)\n",
    "final_6 = TFP_6_DD[TFP_6_DD.index.isin(NN_6_sample)]\n",
    "final_6['TFP'] = final_6['TFP'].map(lambda x:np.log(x))\n",
    "print(final_6.shape)"
   ]
  },
  {
   "cell_type": "code",
   "execution_count": 138,
   "metadata": {
    "collapsed": true
   },
   "outputs": [
    {
     "data": {
      "text/html": [
       "<div>\n",
       "<style scoped>\n",
       "    .dataframe tbody tr th:only-of-type {\n",
       "        vertical-align: middle;\n",
       "    }\n",
       "\n",
       "    .dataframe tbody tr th {\n",
       "        vertical-align: top;\n",
       "    }\n",
       "\n",
       "    .dataframe thead th {\n",
       "        text-align: right;\n",
       "    }\n",
       "</style>\n",
       "<table border=\"1\" class=\"dataframe\">\n",
       "  <thead>\n",
       "    <tr style=\"text-align: right;\">\n",
       "      <th></th>\n",
       "      <th>TFP</th>\n",
       "      <th>year</th>\n",
       "      <th>市碼</th>\n",
       "      <th>固定資產</th>\n",
       "      <th>員工數</th>\n",
       "      <th>工業產值</th>\n",
       "      <th>比例</th>\n",
       "      <th>平均薪資</th>\n",
       "      <th>capital labor ratio</th>\n",
       "      <th>R&amp;D OECD</th>\n",
       "      <th>舊園區</th>\n",
       "      <th>2010園區</th>\n",
       "      <th>2010後園區</th>\n",
       "      <th>時間點</th>\n",
       "      <th>after2010</th>\n",
       "      <th>treated</th>\n",
       "      <th>patent stock</th>\n",
       "      <th>cite stock</th>\n",
       "      <th>claim stock</th>\n",
       "    </tr>\n",
       "    <tr>\n",
       "      <th>縣碼</th>\n",
       "      <th></th>\n",
       "      <th></th>\n",
       "      <th></th>\n",
       "      <th></th>\n",
       "      <th></th>\n",
       "      <th></th>\n",
       "      <th></th>\n",
       "      <th></th>\n",
       "      <th></th>\n",
       "      <th></th>\n",
       "      <th></th>\n",
       "      <th></th>\n",
       "      <th></th>\n",
       "      <th></th>\n",
       "      <th></th>\n",
       "      <th></th>\n",
       "      <th></th>\n",
       "      <th></th>\n",
       "      <th></th>\n",
       "    </tr>\n",
       "  </thead>\n",
       "  <tbody>\n",
       "    <tr>\n",
       "      <td>130203</td>\n",
       "      <td>4.104296</td>\n",
       "      <td>2007</td>\n",
       "      <td>1302</td>\n",
       "      <td>62158218.0</td>\n",
       "      <td>98488</td>\n",
       "      <td>78686884.0</td>\n",
       "      <td>0.146843</td>\n",
       "      <td>25.532315</td>\n",
       "      <td>290.052902</td>\n",
       "      <td>1.635766</td>\n",
       "      <td>0</td>\n",
       "      <td>1</td>\n",
       "      <td>0</td>\n",
       "      <td>-3</td>\n",
       "      <td>0</td>\n",
       "      <td>0</td>\n",
       "      <td>158.479270</td>\n",
       "      <td>1.308141</td>\n",
       "      <td>3.000092</td>\n",
       "    </tr>\n",
       "    <tr>\n",
       "      <td>130203</td>\n",
       "      <td>4.315771</td>\n",
       "      <td>2008</td>\n",
       "      <td>1302</td>\n",
       "      <td>64062548.0</td>\n",
       "      <td>106664</td>\n",
       "      <td>103220920.0</td>\n",
       "      <td>0.146843</td>\n",
       "      <td>25.532315</td>\n",
       "      <td>290.052902</td>\n",
       "      <td>1.635766</td>\n",
       "      <td>0</td>\n",
       "      <td>1</td>\n",
       "      <td>0</td>\n",
       "      <td>-2</td>\n",
       "      <td>0</td>\n",
       "      <td>0</td>\n",
       "      <td>178.707379</td>\n",
       "      <td>1.428124</td>\n",
       "      <td>3.128771</td>\n",
       "    </tr>\n",
       "    <tr>\n",
       "      <td>130203</td>\n",
       "      <td>4.088706</td>\n",
       "      <td>2009</td>\n",
       "      <td>1302</td>\n",
       "      <td>77659117.0</td>\n",
       "      <td>102456</td>\n",
       "      <td>86716561.0</td>\n",
       "      <td>0.146843</td>\n",
       "      <td>25.532315</td>\n",
       "      <td>290.052902</td>\n",
       "      <td>1.635766</td>\n",
       "      <td>0</td>\n",
       "      <td>1</td>\n",
       "      <td>0</td>\n",
       "      <td>-1</td>\n",
       "      <td>0</td>\n",
       "      <td>0</td>\n",
       "      <td>200.901272</td>\n",
       "      <td>1.333659</td>\n",
       "      <td>3.231758</td>\n",
       "    </tr>\n",
       "    <tr>\n",
       "      <td>130203</td>\n",
       "      <td>4.434215</td>\n",
       "      <td>2010</td>\n",
       "      <td>1302</td>\n",
       "      <td>164203828.0</td>\n",
       "      <td>328637</td>\n",
       "      <td>332612196.0</td>\n",
       "      <td>0.146843</td>\n",
       "      <td>25.532315</td>\n",
       "      <td>290.052902</td>\n",
       "      <td>1.635766</td>\n",
       "      <td>0</td>\n",
       "      <td>1</td>\n",
       "      <td>0</td>\n",
       "      <td>0</td>\n",
       "      <td>0</td>\n",
       "      <td>0</td>\n",
       "      <td>231.766082</td>\n",
       "      <td>1.362338</td>\n",
       "      <td>3.205278</td>\n",
       "    </tr>\n",
       "    <tr>\n",
       "      <td>130203</td>\n",
       "      <td>4.533840</td>\n",
       "      <td>2011</td>\n",
       "      <td>1302</td>\n",
       "      <td>89538590.0</td>\n",
       "      <td>92420</td>\n",
       "      <td>134674498.0</td>\n",
       "      <td>0.146843</td>\n",
       "      <td>25.532315</td>\n",
       "      <td>290.052902</td>\n",
       "      <td>1.635766</td>\n",
       "      <td>0</td>\n",
       "      <td>1</td>\n",
       "      <td>0</td>\n",
       "      <td>1</td>\n",
       "      <td>1</td>\n",
       "      <td>1</td>\n",
       "      <td>295.001169</td>\n",
       "      <td>1.418239</td>\n",
       "      <td>3.181152</td>\n",
       "    </tr>\n",
       "    <tr>\n",
       "      <td>...</td>\n",
       "      <td>...</td>\n",
       "      <td>...</td>\n",
       "      <td>...</td>\n",
       "      <td>...</td>\n",
       "      <td>...</td>\n",
       "      <td>...</td>\n",
       "      <td>...</td>\n",
       "      <td>...</td>\n",
       "      <td>...</td>\n",
       "      <td>...</td>\n",
       "      <td>...</td>\n",
       "      <td>...</td>\n",
       "      <td>...</td>\n",
       "      <td>...</td>\n",
       "      <td>...</td>\n",
       "      <td>...</td>\n",
       "      <td>...</td>\n",
       "      <td>...</td>\n",
       "      <td>...</td>\n",
       "    </tr>\n",
       "    <tr>\n",
       "      <td>652301</td>\n",
       "      <td>4.232437</td>\n",
       "      <td>2009</td>\n",
       "      <td>6523</td>\n",
       "      <td>5725231.0</td>\n",
       "      <td>17285</td>\n",
       "      <td>12129496.0</td>\n",
       "      <td>0.326670</td>\n",
       "      <td>14.754838</td>\n",
       "      <td>225.997881</td>\n",
       "      <td>0.947059</td>\n",
       "      <td>0</td>\n",
       "      <td>1</td>\n",
       "      <td>0</td>\n",
       "      <td>-1</td>\n",
       "      <td>0</td>\n",
       "      <td>0</td>\n",
       "      <td>103.881816</td>\n",
       "      <td>1.578803</td>\n",
       "      <td>5.291125</td>\n",
       "    </tr>\n",
       "    <tr>\n",
       "      <td>652301</td>\n",
       "      <td>3.827586</td>\n",
       "      <td>2010</td>\n",
       "      <td>6523</td>\n",
       "      <td>7126156.0</td>\n",
       "      <td>23796</td>\n",
       "      <td>10699015.0</td>\n",
       "      <td>0.326670</td>\n",
       "      <td>14.754838</td>\n",
       "      <td>225.997881</td>\n",
       "      <td>0.947059</td>\n",
       "      <td>0</td>\n",
       "      <td>1</td>\n",
       "      <td>0</td>\n",
       "      <td>0</td>\n",
       "      <td>0</td>\n",
       "      <td>0</td>\n",
       "      <td>123.299543</td>\n",
       "      <td>1.446945</td>\n",
       "      <td>5.581561</td>\n",
       "    </tr>\n",
       "    <tr>\n",
       "      <td>652301</td>\n",
       "      <td>4.451580</td>\n",
       "      <td>2011</td>\n",
       "      <td>6523</td>\n",
       "      <td>5922601.0</td>\n",
       "      <td>24609</td>\n",
       "      <td>18921610.0</td>\n",
       "      <td>0.326670</td>\n",
       "      <td>14.754838</td>\n",
       "      <td>225.997881</td>\n",
       "      <td>0.947059</td>\n",
       "      <td>0</td>\n",
       "      <td>1</td>\n",
       "      <td>0</td>\n",
       "      <td>1</td>\n",
       "      <td>1</td>\n",
       "      <td>1</td>\n",
       "      <td>166.804612</td>\n",
       "      <td>1.280819</td>\n",
       "      <td>5.377389</td>\n",
       "    </tr>\n",
       "    <tr>\n",
       "      <td>652301</td>\n",
       "      <td>4.423282</td>\n",
       "      <td>2012</td>\n",
       "      <td>6523</td>\n",
       "      <td>10049522.0</td>\n",
       "      <td>27097</td>\n",
       "      <td>24077868.0</td>\n",
       "      <td>0.326670</td>\n",
       "      <td>14.754838</td>\n",
       "      <td>225.997881</td>\n",
       "      <td>0.947059</td>\n",
       "      <td>0</td>\n",
       "      <td>1</td>\n",
       "      <td>0</td>\n",
       "      <td>2</td>\n",
       "      <td>1</td>\n",
       "      <td>1</td>\n",
       "      <td>246.783920</td>\n",
       "      <td>1.011409</td>\n",
       "      <td>4.912911</td>\n",
       "    </tr>\n",
       "    <tr>\n",
       "      <td>652301</td>\n",
       "      <td>4.380409</td>\n",
       "      <td>2013</td>\n",
       "      <td>6523</td>\n",
       "      <td>12021985.0</td>\n",
       "      <td>38103</td>\n",
       "      <td>30405600.0</td>\n",
       "      <td>0.326670</td>\n",
       "      <td>14.754838</td>\n",
       "      <td>225.997881</td>\n",
       "      <td>0.947059</td>\n",
       "      <td>0</td>\n",
       "      <td>1</td>\n",
       "      <td>0</td>\n",
       "      <td>3</td>\n",
       "      <td>1</td>\n",
       "      <td>1</td>\n",
       "      <td>312.766332</td>\n",
       "      <td>0.921325</td>\n",
       "      <td>5.315672</td>\n",
       "    </tr>\n",
       "  </tbody>\n",
       "</table>\n",
       "<p>791 rows × 19 columns</p>\n",
       "</div>"
      ],
      "text/plain": [
       "             TFP  year    市碼         固定資產     員工數         工業產值        比例  \\\n",
       "縣碼                                                                         \n",
       "130203  4.104296  2007  1302   62158218.0   98488   78686884.0  0.146843   \n",
       "130203  4.315771  2008  1302   64062548.0  106664  103220920.0  0.146843   \n",
       "130203  4.088706  2009  1302   77659117.0  102456   86716561.0  0.146843   \n",
       "130203  4.434215  2010  1302  164203828.0  328637  332612196.0  0.146843   \n",
       "130203  4.533840  2011  1302   89538590.0   92420  134674498.0  0.146843   \n",
       "...          ...   ...   ...          ...     ...          ...       ...   \n",
       "652301  4.232437  2009  6523    5725231.0   17285   12129496.0  0.326670   \n",
       "652301  3.827586  2010  6523    7126156.0   23796   10699015.0  0.326670   \n",
       "652301  4.451580  2011  6523    5922601.0   24609   18921610.0  0.326670   \n",
       "652301  4.423282  2012  6523   10049522.0   27097   24077868.0  0.326670   \n",
       "652301  4.380409  2013  6523   12021985.0   38103   30405600.0  0.326670   \n",
       "\n",
       "             平均薪資  capital labor ratio  R&D OECD  舊園區  2010園區  2010後園區  時間點  \\\n",
       "縣碼                                                                            \n",
       "130203  25.532315           290.052902  1.635766    0       1        0   -3   \n",
       "130203  25.532315           290.052902  1.635766    0       1        0   -2   \n",
       "130203  25.532315           290.052902  1.635766    0       1        0   -1   \n",
       "130203  25.532315           290.052902  1.635766    0       1        0    0   \n",
       "130203  25.532315           290.052902  1.635766    0       1        0    1   \n",
       "...           ...                  ...       ...  ...     ...      ...  ...   \n",
       "652301  14.754838           225.997881  0.947059    0       1        0   -1   \n",
       "652301  14.754838           225.997881  0.947059    0       1        0    0   \n",
       "652301  14.754838           225.997881  0.947059    0       1        0    1   \n",
       "652301  14.754838           225.997881  0.947059    0       1        0    2   \n",
       "652301  14.754838           225.997881  0.947059    0       1        0    3   \n",
       "\n",
       "        after2010  treated  patent stock  cite stock  claim stock  \n",
       "縣碼                                                                 \n",
       "130203          0        0    158.479270    1.308141     3.000092  \n",
       "130203          0        0    178.707379    1.428124     3.128771  \n",
       "130203          0        0    200.901272    1.333659     3.231758  \n",
       "130203          0        0    231.766082    1.362338     3.205278  \n",
       "130203          1        1    295.001169    1.418239     3.181152  \n",
       "...           ...      ...           ...         ...          ...  \n",
       "652301          0        0    103.881816    1.578803     5.291125  \n",
       "652301          0        0    123.299543    1.446945     5.581561  \n",
       "652301          1        1    166.804612    1.280819     5.377389  \n",
       "652301          1        1    246.783920    1.011409     4.912911  \n",
       "652301          1        1    312.766332    0.921325     5.315672  \n",
       "\n",
       "[791 rows x 19 columns]"
      ]
     },
     "execution_count": 138,
     "metadata": {},
     "output_type": "execute_result"
    }
   ],
   "source": [
    "final_6"
   ]
  },
  {
   "cell_type": "code",
   "execution_count": 139,
   "metadata": {},
   "outputs": [],
   "source": [
    "final_6.to_excel(r'E:\\paper\\matching完畢_全時間_6碼.xlsx')"
   ]
  },
  {
   "cell_type": "markdown",
   "metadata": {},
   "source": [
    "# 使用baseline characteristic(最初版本迴歸)"
   ]
  },
  {
   "cell_type": "code",
   "execution_count": 108,
   "metadata": {},
   "outputs": [],
   "source": [
    "final_9_sample = final_9[final_9['時間點']!=0]\n",
    "for i in [-3,-2,-1]:\n",
    "    final_9_sample['clratio_{}'.format(i+4)] = final_9_sample.apply(lambda x:x['capital labor ratio'] if x['時間點']==i else 0,axis=1)\n",
    "    final_9_sample['平均薪資_{}'.format(i+4)] = final_9_sample.apply(lambda x:x['平均薪資'] if x['時間點']==i else 0,axis=1)\n",
    "    final_9_sample['R&D OECD_{}'.format(i+4)] = final_9_sample.apply(lambda x:x['R&D OECD'] if x['時間點']==i else 0,axis=1)\n",
    "    final_9_sample['比例_{}'.format(i+4)] = final_9_sample.apply(lambda x:x['比例'] if x['時間點']==i else 0,axis=1)\n",
    "for i in [1,2,3]:\n",
    "    final_9_sample['clratio_{}'.format(i+3)] = final_9_sample.apply(lambda x:x['capital labor ratio'] if x['時間點']==i else 0,axis=1)\n",
    "    final_9_sample['平均薪資_{}'.format(i+3)] = final_9_sample.apply(lambda x:x['平均薪資'] if x['時間點']==i else 0,axis=1)\n",
    "    final_9_sample['R&D OECD_{}'.format(i+3)] = final_9_sample.apply(lambda x:x['R&D OECD'] if x['時間點']==i else 0,axis=1)\n",
    "    final_9_sample['比例_{}'.format(i+3)] = final_9_sample.apply(lambda x:x['比例'] if x['時間點']==i else 0,axis=1)"
   ]
  },
  {
   "cell_type": "code",
   "execution_count": null,
   "metadata": {},
   "outputs": [],
   "source": [
    "final_9_sample.drop(['capital labor ratio','平均薪資','R&D OECD','比例'],axis=1,inplace=True)\n",
    "final_9_sample['year'] = final_9_sample['year'].astype(str)\n",
    "final_9_sample['縣碼'] = final_9_sample['縣碼'].astype(str)\n",
    "final_9_sample['縣年'] = final_9_sample.apply(lambda x:x['year']+','+x['縣碼'],axis=1)"
   ]
  },
  {
   "cell_type": "code",
   "execution_count": null,
   "metadata": {},
   "outputs": [],
   "source": [
    "final_9_sample"
   ]
  },
  {
   "cell_type": "code",
   "execution_count": null,
   "metadata": {},
   "outputs": [],
   "source": [
    "final_9_sample.to_excel(r'E:\\paper\\TFP迴歸用資料_9碼.xlsx')"
   ]
  },
  {
   "cell_type": "code",
   "execution_count": 149,
   "metadata": {
    "collapsed": true
   },
   "outputs": [
    {
     "name": "stderr",
     "output_type": "stream",
     "text": [
      "D:\\Anaconda\\lib\\site-packages\\ipykernel_launcher.py:3: SettingWithCopyWarning: \n",
      "A value is trying to be set on a copy of a slice from a DataFrame.\n",
      "Try using .loc[row_indexer,col_indexer] = value instead\n",
      "\n",
      "See the caveats in the documentation: http://pandas.pydata.org/pandas-docs/stable/user_guide/indexing.html#returning-a-view-versus-a-copy\n",
      "  This is separate from the ipykernel package so we can avoid doing imports until\n",
      "D:\\Anaconda\\lib\\site-packages\\ipykernel_launcher.py:4: SettingWithCopyWarning: \n",
      "A value is trying to be set on a copy of a slice from a DataFrame.\n",
      "Try using .loc[row_indexer,col_indexer] = value instead\n",
      "\n",
      "See the caveats in the documentation: http://pandas.pydata.org/pandas-docs/stable/user_guide/indexing.html#returning-a-view-versus-a-copy\n",
      "  after removing the cwd from sys.path.\n",
      "D:\\Anaconda\\lib\\site-packages\\ipykernel_launcher.py:5: SettingWithCopyWarning: \n",
      "A value is trying to be set on a copy of a slice from a DataFrame.\n",
      "Try using .loc[row_indexer,col_indexer] = value instead\n",
      "\n",
      "See the caveats in the documentation: http://pandas.pydata.org/pandas-docs/stable/user_guide/indexing.html#returning-a-view-versus-a-copy\n",
      "  \"\"\"\n",
      "D:\\Anaconda\\lib\\site-packages\\ipykernel_launcher.py:6: SettingWithCopyWarning: \n",
      "A value is trying to be set on a copy of a slice from a DataFrame.\n",
      "Try using .loc[row_indexer,col_indexer] = value instead\n",
      "\n",
      "See the caveats in the documentation: http://pandas.pydata.org/pandas-docs/stable/user_guide/indexing.html#returning-a-view-versus-a-copy\n",
      "  \n",
      "D:\\Anaconda\\lib\\site-packages\\ipykernel_launcher.py:8: SettingWithCopyWarning: \n",
      "A value is trying to be set on a copy of a slice from a DataFrame.\n",
      "Try using .loc[row_indexer,col_indexer] = value instead\n",
      "\n",
      "See the caveats in the documentation: http://pandas.pydata.org/pandas-docs/stable/user_guide/indexing.html#returning-a-view-versus-a-copy\n",
      "  \n",
      "D:\\Anaconda\\lib\\site-packages\\ipykernel_launcher.py:9: SettingWithCopyWarning: \n",
      "A value is trying to be set on a copy of a slice from a DataFrame.\n",
      "Try using .loc[row_indexer,col_indexer] = value instead\n",
      "\n",
      "See the caveats in the documentation: http://pandas.pydata.org/pandas-docs/stable/user_guide/indexing.html#returning-a-view-versus-a-copy\n",
      "  if __name__ == '__main__':\n",
      "D:\\Anaconda\\lib\\site-packages\\ipykernel_launcher.py:10: SettingWithCopyWarning: \n",
      "A value is trying to be set on a copy of a slice from a DataFrame.\n",
      "Try using .loc[row_indexer,col_indexer] = value instead\n",
      "\n",
      "See the caveats in the documentation: http://pandas.pydata.org/pandas-docs/stable/user_guide/indexing.html#returning-a-view-versus-a-copy\n",
      "  # Remove the CWD from sys.path while we load stuff.\n",
      "D:\\Anaconda\\lib\\site-packages\\ipykernel_launcher.py:11: SettingWithCopyWarning: \n",
      "A value is trying to be set on a copy of a slice from a DataFrame.\n",
      "Try using .loc[row_indexer,col_indexer] = value instead\n",
      "\n",
      "See the caveats in the documentation: http://pandas.pydata.org/pandas-docs/stable/user_guide/indexing.html#returning-a-view-versus-a-copy\n",
      "  # This is added back by InteractiveShellApp.init_path()\n"
     ]
    }
   ],
   "source": [
    "final_6_sample = final_6[final_6['時間點']!=0]\n",
    "for i in [-3,-2,-1]:\n",
    "    final_6_sample['clratio_{}'.format(i+4)] = final_6_sample.apply(lambda x:x['capital labor ratio'] if x['時間點']==i else 0,axis=1)\n",
    "    final_6_sample['平均薪資_{}'.format(i+4)] = final_6_sample.apply(lambda x:x['平均薪資'] if x['時間點']==i else 0,axis=1)\n",
    "    final_6_sample['R&D OECD_{}'.format(i+4)] = final_6_sample.apply(lambda x:x['R&D OECD'] if x['時間點']==i else 0,axis=1)\n",
    "    final_6_sample['比例_{}'.format(i+4)] = final_6_sample.apply(lambda x:x['比例'] if x['時間點']==i else 0,axis=1)\n",
    "for i in [1,2,3]:\n",
    "    final_6_sample['clratio_{}'.format(i+3)] = final_6_sample.apply(lambda x:x['capital labor ratio'] if x['時間點']==i else 0,axis=1)\n",
    "    final_6_sample['平均薪資_{}'.format(i+3)] = final_6_sample.apply(lambda x:x['平均薪資'] if x['時間點']==i else 0,axis=1)\n",
    "    final_6_sample['R&D OECD_{}'.format(i+3)] = final_6_sample.apply(lambda x:x['R&D OECD'] if x['時間點']==i else 0,axis=1)\n",
    "    final_6_sample['比例_{}'.format(i+3)] = final_6_sample.apply(lambda x:x['比例'] if x['時間點']==i else 0,axis=1)"
   ]
  },
  {
   "cell_type": "code",
   "execution_count": 150,
   "metadata": {
    "collapsed": true
   },
   "outputs": [
    {
     "name": "stderr",
     "output_type": "stream",
     "text": [
      "D:\\Anaconda\\lib\\site-packages\\ipykernel_launcher.py:2: SettingWithCopyWarning: \n",
      "A value is trying to be set on a copy of a slice from a DataFrame.\n",
      "Try using .loc[row_indexer,col_indexer] = value instead\n",
      "\n",
      "See the caveats in the documentation: http://pandas.pydata.org/pandas-docs/stable/user_guide/indexing.html#returning-a-view-versus-a-copy\n",
      "  \n",
      "D:\\Anaconda\\lib\\site-packages\\ipykernel_launcher.py:3: SettingWithCopyWarning: \n",
      "A value is trying to be set on a copy of a slice from a DataFrame.\n",
      "Try using .loc[row_indexer,col_indexer] = value instead\n",
      "\n",
      "See the caveats in the documentation: http://pandas.pydata.org/pandas-docs/stable/user_guide/indexing.html#returning-a-view-versus-a-copy\n",
      "  This is separate from the ipykernel package so we can avoid doing imports until\n",
      "D:\\Anaconda\\lib\\site-packages\\ipykernel_launcher.py:4: SettingWithCopyWarning: \n",
      "A value is trying to be set on a copy of a slice from a DataFrame.\n",
      "Try using .loc[row_indexer,col_indexer] = value instead\n",
      "\n",
      "See the caveats in the documentation: http://pandas.pydata.org/pandas-docs/stable/user_guide/indexing.html#returning-a-view-versus-a-copy\n",
      "  after removing the cwd from sys.path.\n"
     ]
    }
   ],
   "source": [
    "final_6_sample.drop(['capital labor ratio','平均薪資','R&D OECD','比例'],axis=1,inplace=True)\n",
    "final_6_sample['year'] = final_6_sample['year'].astype(str)\n",
    "final_6_sample['市碼'] = final_6_sample['市碼'].astype(str)\n",
    "final_6_sample['縣年'] = final_6_sample.apply(lambda x:x['year']+','+x['市碼'],axis=1)"
   ]
  },
  {
   "cell_type": "code",
   "execution_count": 151,
   "metadata": {},
   "outputs": [],
   "source": [
    "final_6_sample.to_excel(r'E:\\paper\\claimstock迴歸用資料_6碼.xlsx')"
   ]
  },
  {
   "cell_type": "code",
   "execution_count": null,
   "metadata": {},
   "outputs": [],
   "source": []
  }
 ],
 "metadata": {
  "kernelspec": {
   "display_name": "Python 3",
   "language": "python",
   "name": "python3"
  },
  "language_info": {
   "codemirror_mode": {
    "name": "ipython",
    "version": 3
   },
   "file_extension": ".py",
   "mimetype": "text/x-python",
   "name": "python",
   "nbconvert_exporter": "python",
   "pygments_lexer": "ipython3",
   "version": "3.7.4"
  }
 },
 "nbformat": 4,
 "nbformat_minor": 2
}
