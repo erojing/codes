{
 "cells": [
  {
   "cell_type": "code",
   "execution_count": null,
   "metadata": {},
   "outputs": [],
   "source": [
    "import pandas as pd\n",
    "import numpy as np\n",
    "import matplotlib.pyplot as plt\n",
    "import re\n",
    "import time\n",
    "import datetime\n",
    "import geocoder\n",
    "pd.set_option('display.max_rows',500)\n",
    "pd.set_option('display.max_columns',50)\n",
    "pd.set_option('max_colwidth',200)\n",
    "%matplotlib inline"
   ]
  },
  {
   "cell_type": "markdown",
   "metadata": {},
   "source": [
    "# 定位code\n",
    "'&key=xxx' 需替換為自己的憑證"
   ]
  },
  {
   "cell_type": "code",
   "execution_count": null,
   "metadata": {},
   "outputs": [],
   "source": [
    "import requests\n",
    "import json\n",
    "import urllib\n",
    "from urllib.request import urlopen\n",
    "\n",
    "def getGeoForAddress(address):\n",
    "    add = urllib.parse.quote(address)\n",
    "    addressUrl = \"https://maps.googleapis.com/maps/api/geocode/json?address=\" + add + '&key='\n",
    "    res = requests.get(addressUrl)\n",
    "    js = json.loads(res.text)\n",
    "    if js.get('results'):\n",
    "        lat = js.get('results')[0]['geometry']['location']['lat']\n",
    "        lng = js.get('results')[0]['geometry']['location']['lng']\n",
    "    else:\n",
    "        lat = ''\n",
    "        lng = ''\n",
    "    return [lat, lng]"
   ]
  },
  {
   "cell_type": "markdown",
   "metadata": {},
   "source": [
    "# 經緯度轉距離\n",
    "a、b為兩點經緯度"
   ]
  },
  {
   "cell_type": "code",
   "execution_count": null,
   "metadata": {},
   "outputs": [],
   "source": [
    "from geopy.distance import geodesic\n",
    "def how_far(a,b):\n",
    "    try:\n",
    "        return geodesic(a,b).kilometers\n",
    "    except:\n",
    "        return np.nan"
   ]
  },
  {
   "cell_type": "markdown",
   "metadata": {},
   "source": [
    "# 模糊比對"
   ]
  },
  {
   "cell_type": "code",
   "execution_count": null,
   "metadata": {},
   "outputs": [],
   "source": [
    "def ngram(text, n=3, pad=True):\n",
    "    text = text.strip()\n",
    "    if pad:\n",
    "        text = \" %s \" % text\n",
    "    return set([text[i:i+n] for i in range(len(text)-n+1)])\n",
    "    \n",
    "def create_ngram(text1, text2, n=3, pad=True):\n",
    "    return ngram(text1, n=n, pad=pad), ngram(text2, n=n, pad=pad)\n",
    "\n",
    "def tversky_index(text1, text2, a=None, b=None, q=3, pad=True):\n",
    "    text1, text2 = create_ngram(text1, text2, n=q, pad=pad)\n",
    "    agree_tot = len(text1.intersection(text2))\n",
    "    v1 = len(text1) - agree_tot\n",
    "    v2 = len(text2) - agree_tot\n",
    "    \n",
    "    if a != None and b != None:\n",
    "        a = a/float(a+b)\n",
    "        b = b/float(a+b)\n",
    "    elif a <= 1.0 and a >= 0.0:\n",
    "        b = 1-a\n",
    "    elif b <= 1.0 and b >= 0.0:\n",
    "        a = 1-b\n",
    "    else:\n",
    "        a = 0.5\n",
    "        b = 0.5        \n",
    "    return float(agree_tot)/(agree_tot+a*v1+b*v2)\n",
    "# incoPat為申請人list\n",
    "def fuzzy(incoPat,indus):\n",
    "    corptype = ['有限','公司','责任','集团','股份','控股']\n",
    "    text1 = incoPat\n",
    "    text2 = indus\n",
    "    incoPat_nor = []   \n",
    "    for text in text1:\n",
    "        for i in corptype:\n",
    "            if i in text:\n",
    "                text = re.sub(i,'',text)\n",
    "        incoPat_nor.append(text)\n",
    "    for i in corptype:\n",
    "        if i in text2:\n",
    "            text2 = re.sub(i,'',text2)\n",
    "    similar = []\n",
    "    for text in incoPat_nor:\n",
    "        dice = tversky_index(text,text2, a=0.5, q=min(2,len(text),len(text2)), pad=False)\n",
    "        if dice>0.7:\n",
    "            similar.append([incoPat[incoPat_nor.index(text)],dice])\n",
    "        else:\n",
    "            pass\n",
    "    if len(similar)>0:\n",
    "        return similar[[k[1] for k in similar].index(max([i[1] for i in similar]))][0]\n",
    "    else:\n",
    "        return indus"
   ]
  },
  {
   "cell_type": "code",
   "execution_count": null,
   "metadata": {},
   "outputs": [],
   "source": []
  }
 ],
 "metadata": {
  "kernelspec": {
   "display_name": "Python 3",
   "language": "python",
   "name": "python3"
  },
  "language_info": {
   "codemirror_mode": {
    "name": "ipython",
    "version": 3
   },
   "file_extension": ".py",
   "mimetype": "text/x-python",
   "name": "python",
   "nbconvert_exporter": "python",
   "pygments_lexer": "ipython3",
   "version": "3.7.4"
  }
 },
 "nbformat": 4,
 "nbformat_minor": 2
}
