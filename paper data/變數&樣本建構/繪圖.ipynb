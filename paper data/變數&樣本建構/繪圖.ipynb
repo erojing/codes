{
 "cells": [
  {
   "cell_type": "code",
   "execution_count": 1,
   "metadata": {},
   "outputs": [],
   "source": [
    "import pandas as pd\n",
    "import numpy as np\n",
    "import matplotlib.pyplot as plt\n",
    "import re\n",
    "import time\n",
    "import datetime\n",
    "import geocoder\n",
    "pd.set_option('display.max_rows',500)\n",
    "pd.set_option('display.max_columns',50)\n",
    "pd.set_option('max_colwidth',200)\n",
    "%matplotlib inline\n",
    "import seaborn as sns"
   ]
  },
  {
   "cell_type": "markdown",
   "metadata": {},
   "source": [
    "# 高新區數量畫圖"
   ]
  },
  {
   "cell_type": "code",
   "execution_count": null,
   "metadata": {},
   "outputs": [],
   "source": [
    "d = pd.read_excel(r'C:\\Users\\User\\Dropbox\\paper\\科技園區\\China\\高新技術開發區名單.xlsx')\n",
    "d.groupby('國家級高新區成立時間')['Zone Name(中文)'].count()"
   ]
  },
  {
   "cell_type": "code",
   "execution_count": null,
   "metadata": {},
   "outputs": [],
   "source": [
    "from matplotlib.font_manager import FontProperties\n",
    "myfont = FontProperties(fname=r'C:\\Windows\\Fonts\\msjhbd.ttc')\n",
    "fig = plt.figure(figsize = (5,3))\n",
    "ax1 = fig.add_subplot(111)\n",
    "ax1.set_ylabel('核准數',fontproperties=myfont)\n",
    "bar1 = ax1.bar(d.groupby('國家級高新區成立時間')['Zone Name(中文)'].count().index,\n",
    "               d.groupby('國家級高新區成立時間')['Zone Name(中文)'].count(),\n",
    "               alpha=0.7,width=1,color='r')\n",
    "ax1.set_xlim([1990,2020])\n",
    "plt.title('國家級高新技術產業開發區 核准數',fontproperties=myfont,fontsize=15)"
   ]
  },
  {
   "cell_type": "markdown",
   "metadata": {},
   "source": [
    "# 專利繪圖"
   ]
  },
  {
   "cell_type": "code",
   "execution_count": 2,
   "metadata": {},
   "outputs": [],
   "source": [
    "patent_df = pd.read_excel(r'E:\\paper\\專利資料_matching對象.xlsx',index_col=0)\n",
    "patent_df['縣碼'] = patent_df['縣碼'].astype(str)"
   ]
  },
  {
   "cell_type": "code",
   "execution_count": 4,
   "metadata": {},
   "outputs": [],
   "source": [
    "final_6 = pd.read_excel(r'E:\\paper\\新迴歸_6碼.xlsx')"
   ]
  },
  {
   "cell_type": "code",
   "execution_count": 9,
   "metadata": {},
   "outputs": [],
   "source": [
    "treat = list(final_6[final_6['2010園區']==1]['縣碼'].unique().astype(str))\n",
    "control = list(final_6[final_6['2010園區']==0]['縣碼'].unique().astype(str))"
   ]
  },
  {
   "cell_type": "code",
   "execution_count": 11,
   "metadata": {},
   "outputs": [],
   "source": [
    "patent_treat = patent_df[patent_df['縣碼'].isin(treat)]\n",
    "patent_untreat = patent_df[patent_df['縣碼'].isin(control)]"
   ]
  },
  {
   "cell_type": "code",
   "execution_count": 13,
   "metadata": {
    "collapsed": true
   },
   "outputs": [
    {
     "data": {
      "text/html": [
       "<div>\n",
       "<style scoped>\n",
       "    .dataframe tbody tr th:only-of-type {\n",
       "        vertical-align: middle;\n",
       "    }\n",
       "\n",
       "    .dataframe tbody tr th {\n",
       "        vertical-align: top;\n",
       "    }\n",
       "\n",
       "    .dataframe thead th {\n",
       "        text-align: right;\n",
       "    }\n",
       "</style>\n",
       "<table border=\"1\" class=\"dataframe\">\n",
       "  <thead>\n",
       "    <tr style=\"text-align: right;\">\n",
       "      <th></th>\n",
       "      <th>縣碼</th>\n",
       "      <th>year</th>\n",
       "      <th>總專利數</th>\n",
       "      <th>總引用數</th>\n",
       "      <th>patent stock</th>\n",
       "      <th>cite</th>\n",
       "      <th>cite stock</th>\n",
       "      <th>log patent stock</th>\n",
       "      <th>log cite stock</th>\n",
       "      <th>patent stock growth</th>\n",
       "      <th>cite stock growth</th>\n",
       "    </tr>\n",
       "  </thead>\n",
       "  <tbody>\n",
       "    <tr>\n",
       "      <td>0</td>\n",
       "      <td>130203</td>\n",
       "      <td>1985</td>\n",
       "      <td>2</td>\n",
       "      <td>0</td>\n",
       "      <td>2.000000</td>\n",
       "      <td>0.000000</td>\n",
       "      <td>0.000000</td>\n",
       "      <td>1.098612</td>\n",
       "      <td>0.000000</td>\n",
       "      <td>0.000000</td>\n",
       "      <td>0.000000</td>\n",
       "    </tr>\n",
       "    <tr>\n",
       "      <td>1</td>\n",
       "      <td>130203</td>\n",
       "      <td>1986</td>\n",
       "      <td>3</td>\n",
       "      <td>0</td>\n",
       "      <td>4.700000</td>\n",
       "      <td>0.000000</td>\n",
       "      <td>0.000000</td>\n",
       "      <td>1.740466</td>\n",
       "      <td>0.000000</td>\n",
       "      <td>0.805970</td>\n",
       "      <td>0.000000</td>\n",
       "    </tr>\n",
       "    <tr>\n",
       "      <td>2</td>\n",
       "      <td>130203</td>\n",
       "      <td>1987</td>\n",
       "      <td>4</td>\n",
       "      <td>1</td>\n",
       "      <td>7.995000</td>\n",
       "      <td>1.000000</td>\n",
       "      <td>0.125078</td>\n",
       "      <td>2.196669</td>\n",
       "      <td>0.117853</td>\n",
       "      <td>0.519102</td>\n",
       "      <td>2.000000</td>\n",
       "    </tr>\n",
       "    <tr>\n",
       "      <td>3</td>\n",
       "      <td>130203</td>\n",
       "      <td>1988</td>\n",
       "      <td>7</td>\n",
       "      <td>3</td>\n",
       "      <td>13.795750</td>\n",
       "      <td>3.850000</td>\n",
       "      <td>0.279071</td>\n",
       "      <td>2.694340</td>\n",
       "      <td>0.246134</td>\n",
       "      <td>0.532405</td>\n",
       "      <td>0.762061</td>\n",
       "    </tr>\n",
       "    <tr>\n",
       "      <td>4</td>\n",
       "      <td>130203</td>\n",
       "      <td>1989</td>\n",
       "      <td>5</td>\n",
       "      <td>30</td>\n",
       "      <td>16.726388</td>\n",
       "      <td>33.272500</td>\n",
       "      <td>1.989222</td>\n",
       "      <td>2.875054</td>\n",
       "      <td>1.095013</td>\n",
       "      <td>0.192034</td>\n",
       "      <td>1.507874</td>\n",
       "    </tr>\n",
       "    <tr>\n",
       "      <td>...</td>\n",
       "      <td>...</td>\n",
       "      <td>...</td>\n",
       "      <td>...</td>\n",
       "      <td>...</td>\n",
       "      <td>...</td>\n",
       "      <td>...</td>\n",
       "      <td>...</td>\n",
       "      <td>...</td>\n",
       "      <td>...</td>\n",
       "      <td>...</td>\n",
       "      <td>...</td>\n",
       "    </tr>\n",
       "    <tr>\n",
       "      <td>3498</td>\n",
       "      <td>652301</td>\n",
       "      <td>2011</td>\n",
       "      <td>62</td>\n",
       "      <td>62</td>\n",
       "      <td>166.804612</td>\n",
       "      <td>213.646468</td>\n",
       "      <td>1.280819</td>\n",
       "      <td>5.122800</td>\n",
       "      <td>0.824534</td>\n",
       "      <td>0.299927</td>\n",
       "      <td>-0.121804</td>\n",
       "    </tr>\n",
       "    <tr>\n",
       "      <td>3499</td>\n",
       "      <td>652301</td>\n",
       "      <td>2012</td>\n",
       "      <td>105</td>\n",
       "      <td>68</td>\n",
       "      <td>246.783920</td>\n",
       "      <td>249.599498</td>\n",
       "      <td>1.011409</td>\n",
       "      <td>5.512557</td>\n",
       "      <td>0.698836</td>\n",
       "      <td>0.386758</td>\n",
       "      <td>-0.235064</td>\n",
       "    </tr>\n",
       "    <tr>\n",
       "      <td>3500</td>\n",
       "      <td>652301</td>\n",
       "      <td>2013</td>\n",
       "      <td>103</td>\n",
       "      <td>76</td>\n",
       "      <td>312.766332</td>\n",
       "      <td>288.159573</td>\n",
       "      <td>0.921325</td>\n",
       "      <td>5.748649</td>\n",
       "      <td>0.653015</td>\n",
       "      <td>0.235841</td>\n",
       "      <td>-0.093219</td>\n",
       "    </tr>\n",
       "    <tr>\n",
       "      <td>3501</td>\n",
       "      <td>652301</td>\n",
       "      <td>2014</td>\n",
       "      <td>127</td>\n",
       "      <td>33</td>\n",
       "      <td>392.851382</td>\n",
       "      <td>277.935637</td>\n",
       "      <td>0.707483</td>\n",
       "      <td>5.975974</td>\n",
       "      <td>0.535020</td>\n",
       "      <td>0.226993</td>\n",
       "      <td>-0.262575</td>\n",
       "    </tr>\n",
       "    <tr>\n",
       "      <td>3502</td>\n",
       "      <td>652301</td>\n",
       "      <td>2015</td>\n",
       "      <td>173</td>\n",
       "      <td>51</td>\n",
       "      <td>506.923675</td>\n",
       "      <td>287.245292</td>\n",
       "      <td>0.566644</td>\n",
       "      <td>6.230331</td>\n",
       "      <td>0.448936</td>\n",
       "      <td>0.253557</td>\n",
       "      <td>-0.221075</td>\n",
       "    </tr>\n",
       "  </tbody>\n",
       "</table>\n",
       "<p>3503 rows × 11 columns</p>\n",
       "</div>"
      ],
      "text/plain": [
       "          縣碼  year  總專利數  總引用數  patent stock        cite  cite stock  \\\n",
       "0     130203  1985     2     0      2.000000    0.000000    0.000000   \n",
       "1     130203  1986     3     0      4.700000    0.000000    0.000000   \n",
       "2     130203  1987     4     1      7.995000    1.000000    0.125078   \n",
       "3     130203  1988     7     3     13.795750    3.850000    0.279071   \n",
       "4     130203  1989     5    30     16.726388   33.272500    1.989222   \n",
       "...      ...   ...   ...   ...           ...         ...         ...   \n",
       "3498  652301  2011    62    62    166.804612  213.646468    1.280819   \n",
       "3499  652301  2012   105    68    246.783920  249.599498    1.011409   \n",
       "3500  652301  2013   103    76    312.766332  288.159573    0.921325   \n",
       "3501  652301  2014   127    33    392.851382  277.935637    0.707483   \n",
       "3502  652301  2015   173    51    506.923675  287.245292    0.566644   \n",
       "\n",
       "      log patent stock  log cite stock  patent stock growth  cite stock growth  \n",
       "0             1.098612        0.000000             0.000000           0.000000  \n",
       "1             1.740466        0.000000             0.805970           0.000000  \n",
       "2             2.196669        0.117853             0.519102           2.000000  \n",
       "3             2.694340        0.246134             0.532405           0.762061  \n",
       "4             2.875054        1.095013             0.192034           1.507874  \n",
       "...                ...             ...                  ...                ...  \n",
       "3498          5.122800        0.824534             0.299927          -0.121804  \n",
       "3499          5.512557        0.698836             0.386758          -0.235064  \n",
       "3500          5.748649        0.653015             0.235841          -0.093219  \n",
       "3501          5.975974        0.535020             0.226993          -0.262575  \n",
       "3502          6.230331        0.448936             0.253557          -0.221075  \n",
       "\n",
       "[3503 rows x 11 columns]"
      ]
     },
     "execution_count": 13,
     "metadata": {},
     "output_type": "execute_result"
    }
   ],
   "source": [
    "patent_df"
   ]
  },
  {
   "cell_type": "code",
   "execution_count": 14,
   "metadata": {},
   "outputs": [],
   "source": [
    "# patent stock\n",
    "patent_stock_treat = patent_treat.groupby('year')['log patent stock'].mean()\n",
    "patent_stock_untreat = patent_untreat.groupby('year')['log patent stock'].mean()"
   ]
  },
  {
   "cell_type": "code",
   "execution_count": 25,
   "metadata": {},
   "outputs": [
    {
     "data": {
      "text/plain": [
       "Text(0.5, 1.0, 'Log Patent Stock')"
      ]
     },
     "execution_count": 25,
     "metadata": {},
     "output_type": "execute_result"
    },
    {
     "data": {
      "image/png": "[encoded data removed]",
      "text/plain": [
       "<Figure size 576x360 with 1 Axes>"
      ]
     },
     "metadata": {
      "needs_background": "light"
     },
     "output_type": "display_data"
    }
   ],
   "source": [
    "from matplotlib.font_manager import FontProperties\n",
    "myfont = FontProperties(fname=r'C:\\Windows\\Fonts\\msjhbd.ttc')\n",
    "fig = plt.figure(figsize = (8,5))\n",
    "ax1 = fig.add_subplot(111)\n",
    "ax1.set_ylabel('log patent stock')\n",
    "ax1.set_xlabel('year')\n",
    "\n",
    "plt.xlim(1985, 2015)\n",
    "plt.plot(patent_stock_treat.index, \n",
    "         patent_stock_treat,\n",
    "         color='red', label='treated')\n",
    "plt.plot(patent_stock_untreat.index,\n",
    "         patent_stock_untreat,\n",
    "         color='blue', label='control')\n",
    "plt.legend(loc=2)\n",
    "\n",
    "plt.title('Log Patent Stock',fontproperties=myfont,fontsize=15)"
   ]
  },
  {
   "cell_type": "code",
   "execution_count": 22,
   "metadata": {},
   "outputs": [
    {
     "data": {
      "text/plain": [
       "Text(0.5, 1.0, 'Log Patent Stock')"
      ]
     },
     "execution_count": 22,
     "metadata": {},
     "output_type": "execute_result"
    },
    {
     "data": {
      "image/png": "[encoded data removed]",
      "text/plain": [
       "<Figure size 576x360 with 1 Axes>"
      ]
     },
     "metadata": {
      "needs_background": "light"
     },
     "output_type": "display_data"
    }
   ],
   "source": [
    "from matplotlib.font_manager import FontProperties\n",
    "myfont = FontProperties(fname=r'C:\\Windows\\Fonts\\msjhbd.ttc')\n",
    "fig = plt.figure(figsize = (8,5))\n",
    "ax1 = fig.add_subplot(111)\n",
    "ax1.set_ylabel('log patent stock')\n",
    "ax1.set_xlabel('time')\n",
    "\n",
    "plt.xlim(-3,3)\n",
    "plt.ylim(2.5,6)\n",
    "plt.plot(patent_stock_treat.index-2010, \n",
    "         patent_stock_treat,\n",
    "         color='red', label='treated')\n",
    "plt.plot(patent_stock_untreat.index-2010,\n",
    "         patent_stock_untreat,\n",
    "         color='blue', label='control')\n",
    "plt.axvline(x=0)\n",
    "plt.legend(loc=2)\n",
    "\n",
    "plt.title('Log Patent Stock',fontproperties=myfont,fontsize=15)"
   ]
  },
  {
   "cell_type": "code",
   "execution_count": 23,
   "metadata": {},
   "outputs": [],
   "source": [
    "# cite stock\n",
    "cite_stock_treat = patent_treat.groupby('year')['log cite stock'].mean()\n",
    "cite_stock_untreat = patent_untreat.groupby('year')['log cite stock'].mean()"
   ]
  },
  {
   "cell_type": "code",
   "execution_count": 26,
   "metadata": {},
   "outputs": [
    {
     "data": {
      "text/plain": [
       "Text(0.5, 1.0, 'Log Citation Stock')"
      ]
     },
     "execution_count": 26,
     "metadata": {},
     "output_type": "execute_result"
    },
    {
     "data": {
      "image/png": "[encoded data removed]",
      "text/plain": [
       "<Figure size 576x360 with 1 Axes>"
      ]
     },
     "metadata": {
      "needs_background": "light"
     },
     "output_type": "display_data"
    }
   ],
   "source": [
    "from matplotlib.font_manager import FontProperties\n",
    "myfont = FontProperties(fname=r'C:\\Windows\\Fonts\\msjhbd.ttc')\n",
    "fig = plt.figure(figsize = (8,5))\n",
    "ax1 = fig.add_subplot(111)\n",
    "ax1.set_ylabel('log citation stock')\n",
    "ax1.set_xlabel('year')\n",
    "\n",
    "plt.xlim(1985, 2015)\n",
    "plt.plot(cite_stock_treat.index, \n",
    "         cite_stock_treat,\n",
    "         color='red', label='treated')\n",
    "plt.plot(cite_stock_untreat.index,\n",
    "         cite_stock_untreat,\n",
    "         color='blue', label='control')\n",
    "plt.legend(loc=2)\n",
    "\n",
    "plt.title('Log Citation Stock',fontproperties=myfont,fontsize=15)"
   ]
  },
  {
   "cell_type": "code",
   "execution_count": 32,
   "metadata": {},
   "outputs": [
    {
     "data": {
      "text/plain": [
       "Text(0.5, 1.0, 'Log Citation Stock')"
      ]
     },
     "execution_count": 32,
     "metadata": {},
     "output_type": "execute_result"
    },
    {
     "data": {
      "image/png": "[encoded data removed]",
      "text/plain": [
       "<Figure size 576x360 with 1 Axes>"
      ]
     },
     "metadata": {
      "needs_background": "light"
     },
     "output_type": "display_data"
    }
   ],
   "source": [
    "from matplotlib.font_manager import FontProperties\n",
    "myfont = FontProperties(fname=r'C:\\Windows\\Fonts\\msjhbd.ttc')\n",
    "fig = plt.figure(figsize = (8,5))\n",
    "ax1 = fig.add_subplot(111)\n",
    "ax1.set_ylabel('log citation stock')\n",
    "ax1.set_xlabel('time')\n",
    "\n",
    "plt.xlim(-3,3)\n",
    "plt.ylim(0.5,0.85)\n",
    "plt.plot(cite_stock_treat.index-2010, \n",
    "         cite_stock_treat,\n",
    "         color='red', label='treated')\n",
    "plt.plot(cite_stock_untreat.index-2010,\n",
    "         cite_stock_untreat,\n",
    "         color='blue', label='control')\n",
    "plt.axvline(x=0)\n",
    "plt.legend(loc=1)\n",
    "\n",
    "plt.title('Log Citation Stock',fontproperties=myfont,fontsize=15)"
   ]
  },
  {
   "cell_type": "code",
   "execution_count": 33,
   "metadata": {},
   "outputs": [],
   "source": [
    "# patent stock growth\n",
    "patent_stock_growth_treat = patent_treat.groupby('year')['patent stock growth'].mean()\n",
    "patent_stock_growth_untreat = patent_untreat.groupby('year')['patent stock growth'].mean()"
   ]
  },
  {
   "cell_type": "code",
   "execution_count": 34,
   "metadata": {},
   "outputs": [
    {
     "data": {
      "text/plain": [
       "Text(0.5, 1.0, 'Patent Stock Growth')"
      ]
     },
     "execution_count": 34,
     "metadata": {},
     "output_type": "execute_result"
    },
    {
     "data": {
      "image/png": "[encoded data removed]",
      "text/plain": [
       "<Figure size 576x360 with 1 Axes>"
      ]
     },
     "metadata": {
      "needs_background": "light"
     },
     "output_type": "display_data"
    }
   ],
   "source": [
    "from matplotlib.font_manager import FontProperties\n",
    "myfont = FontProperties(fname=r'C:\\Windows\\Fonts\\msjhbd.ttc')\n",
    "fig = plt.figure(figsize = (8,5))\n",
    "ax1 = fig.add_subplot(111)\n",
    "ax1.set_ylabel('patent stock growth')\n",
    "ax1.set_xlabel('year')\n",
    "\n",
    "plt.xlim(1985, 2015)\n",
    "plt.plot(patent_stock_growth_treat.index, \n",
    "         patent_stock_growth_treat,\n",
    "         color='red', label='treated')\n",
    "plt.plot(patent_stock_growth_untreat.index,\n",
    "         patent_stock_growth_untreat,\n",
    "         color='blue', label='control')\n",
    "plt.legend(loc=2)\n",
    "\n",
    "plt.title('Patent Stock Growth',fontproperties=myfont,fontsize=15)"
   ]
  },
  {
   "cell_type": "code",
   "execution_count": 36,
   "metadata": {},
   "outputs": [
    {
     "data": {
      "text/plain": [
       "Text(0.5, 1.0, 'Patent Stock Growth')"
      ]
     },
     "execution_count": 36,
     "metadata": {},
     "output_type": "execute_result"
    },
    {
     "data": {
      "image/png": "[encoded data removed]",
      "text/plain": [
       "<Figure size 576x360 with 1 Axes>"
      ]
     },
     "metadata": {
      "needs_background": "light"
     },
     "output_type": "display_data"
    }
   ],
   "source": [
    "from matplotlib.font_manager import FontProperties\n",
    "myfont = FontProperties(fname=r'C:\\Windows\\Fonts\\msjhbd.ttc')\n",
    "fig = plt.figure(figsize = (8,5))\n",
    "ax1 = fig.add_subplot(111)\n",
    "ax1.set_ylabel('patent stock growth')\n",
    "ax1.set_xlabel('time')\n",
    "\n",
    "plt.xlim(-3,3)\n",
    "plt.ylim(0.2,0.6)\n",
    "plt.plot(patent_stock_growth_treat.index-2010, \n",
    "         patent_stock_growth_treat,\n",
    "         color='red', label='treated')\n",
    "plt.plot(patent_stock_growth_untreat.index-2010,\n",
    "         patent_stock_growth_untreat,\n",
    "         color='blue', label='control')\n",
    "plt.axvline(x=0)\n",
    "plt.legend(loc=2)\n",
    "\n",
    "plt.title('Patent Stock Growth',fontproperties=myfont,fontsize=15)"
   ]
  },
  {
   "cell_type": "code",
   "execution_count": 37,
   "metadata": {},
   "outputs": [],
   "source": [
    "# citation stock growth\n",
    "cite_stock_growth_treat = patent_treat.groupby('year')['cite stock growth'].mean()\n",
    "cite_stock_growth_untreat = patent_untreat.groupby('year')['cite stock growth'].mean()"
   ]
  },
  {
   "cell_type": "code",
   "execution_count": 40,
   "metadata": {},
   "outputs": [
    {
     "data": {
      "text/plain": [
       "Text(0.5, 1.0, 'Citation Stock Growth')"
      ]
     },
     "execution_count": 40,
     "metadata": {},
     "output_type": "execute_result"
    },
    {
     "data": {
      "image/png": "[encoded data removed]",
      "text/plain": [
       "<Figure size 576x360 with 1 Axes>"
      ]
     },
     "metadata": {
      "needs_background": "light"
     },
     "output_type": "display_data"
    }
   ],
   "source": [
    "from matplotlib.font_manager import FontProperties\n",
    "myfont = FontProperties(fname=r'C:\\Windows\\Fonts\\msjhbd.ttc')\n",
    "fig = plt.figure(figsize = (8,5))\n",
    "ax1 = fig.add_subplot(111)\n",
    "ax1.set_ylabel('citation stock growth')\n",
    "ax1.set_xlabel('year')\n",
    "\n",
    "plt.xlim(1985, 2015)\n",
    "plt.plot(cite_stock_growth_treat.index, \n",
    "         cite_stock_growth_treat,\n",
    "         color='red', label='treated')\n",
    "plt.plot(cite_stock_growth_untreat.index,\n",
    "         cite_stock_growth_untreat,\n",
    "         color='blue', label='control')\n",
    "plt.legend(loc=3)\n",
    "\n",
    "plt.title('Citation Stock Growth',fontproperties=myfont,fontsize=15)"
   ]
  },
  {
   "cell_type": "code",
   "execution_count": 43,
   "metadata": {},
   "outputs": [
    {
     "data": {
      "text/plain": [
       "Text(0.5, 1.0, 'Citation Stock Growth')"
      ]
     },
     "execution_count": 43,
     "metadata": {},
     "output_type": "execute_result"
    },
    {
     "data": {
      "image/png": "[encoded data removed]",
      "text/plain": [
       "<Figure size 576x360 with 1 Axes>"
      ]
     },
     "metadata": {
      "needs_background": "light"
     },
     "output_type": "display_data"
    }
   ],
   "source": [
    "from matplotlib.font_manager import FontProperties\n",
    "myfont = FontProperties(fname=r'C:\\Windows\\Fonts\\msjhbd.ttc')\n",
    "fig = plt.figure(figsize = (8,5))\n",
    "ax1 = fig.add_subplot(111)\n",
    "ax1.set_ylabel('citation stock growth')\n",
    "ax1.set_xlabel('time')\n",
    "\n",
    "plt.xlim(-3,3)\n",
    "plt.ylim(-0.2,0.2)\n",
    "plt.plot(cite_stock_growth_treat.index-2010, \n",
    "         cite_stock_growth_treat,\n",
    "         color='red', label='treated')\n",
    "plt.plot(cite_stock_growth_untreat.index-2010,\n",
    "         cite_stock_growth_untreat,\n",
    "         color='blue', label='control')\n",
    "plt.axvline(x=0)\n",
    "plt.legend(loc=1)\n",
    "\n",
    "plt.title('Citation Stock Growth',fontproperties=myfont,fontsize=15)"
   ]
  },
  {
   "cell_type": "markdown",
   "metadata": {},
   "source": [
    "# TFP繪圖"
   ]
  },
  {
   "cell_type": "code",
   "execution_count": 2,
   "metadata": {},
   "outputs": [],
   "source": [
    "final_9 = pd.read_excel(r'E:\\paper\\matching完畢_全時間_9碼.xlsx',index_col=0)\n",
    "final_6 = pd.read_excel(r'E:\\paper\\matching完畢_全時間_6碼.xlsx',index_col=0)"
   ]
  },
  {
   "cell_type": "code",
   "execution_count": 29,
   "metadata": {
    "collapsed": true
   },
   "outputs": [
    {
     "name": "stderr",
     "output_type": "stream",
     "text": [
      "C:\\Users\\user\\Anaconda3\\lib\\site-packages\\ipykernel_launcher.py:1: FutureWarning: Sorting because non-concatenation axis is not aligned. A future version\n",
      "of pandas will change to not sort by default.\n",
      "\n",
      "To accept the future behavior, pass 'sort=False'.\n",
      "\n",
      "To retain the current behavior and silence the warning, pass 'sort=True'.\n",
      "\n",
      "  \"\"\"Entry point for launching an IPython kernel.\n",
      "C:\\Users\\user\\Anaconda3\\lib\\site-packages\\ipykernel_launcher.py:2: FutureWarning: Sorting because non-concatenation axis is not aligned. A future version\n",
      "of pandas will change to not sort by default.\n",
      "\n",
      "To accept the future behavior, pass 'sort=False'.\n",
      "\n",
      "To retain the current behavior and silence the warning, pass 'sort=True'.\n",
      "\n",
      "  \n"
     ]
    }
   ],
   "source": [
    "n9 = final_9\n",
    "n6 = final_6"
   ]
  },
  {
   "cell_type": "code",
   "execution_count": 31,
   "metadata": {},
   "outputs": [
    {
     "data": {
      "text/plain": [
       "Text(0.5, 1.0, 'Log TFP(鄉鎮)')"
      ]
     },
     "execution_count": 31,
     "metadata": {},
     "output_type": "execute_result"
    },
    {
     "data": {
      "image/png": "[encoded data removed]",
      "text/plain": [
       "<Figure size 576x360 with 1 Axes>"
      ]
     },
     "metadata": {
      "needs_background": "light"
     },
     "output_type": "display_data"
    }
   ],
   "source": [
    "from matplotlib.font_manager import FontProperties\n",
    "myfont = FontProperties(fname=r'C:\\Windows\\Fonts\\msjhbd.ttc')\n",
    "fig = plt.figure(figsize = (8,5))\n",
    "ax1 = fig.add_subplot(111)\n",
    "ax1.set_ylabel('TFP')\n",
    "ax1.set_xlabel('time')\n",
    "plt.plot(n9[n9.index.isin(n9[n9['2010園區']==1].index.unique())].groupby('時間點')['TFP'].mean().index, \n",
    "         n9[n9.index.isin(n9[n9['2010園區']==1].index.unique())].groupby('時間點')['TFP'].mean(),\n",
    "         color='red', label='treated')\n",
    "plt.plot(n9[~n9.index.isin(n9[n9['2010園區']==1].index.unique())].groupby('時間點')['TFP'].mean().index,\n",
    "         n9[~n9.index.isin(n9[n9['2010園區']==1].index.unique())].groupby('時間點')['TFP'].mean(),\n",
    "         color='blue', label='control')\n",
    "plt.axvline(x=0)\n",
    "plt.legend(loc=2)\n",
    "\n",
    "plt.title('Log TFP(鄉鎮)',fontproperties=myfont,fontsize=15)"
   ]
  },
  {
   "cell_type": "code",
   "execution_count": 32,
   "metadata": {},
   "outputs": [
    {
     "data": {
      "text/plain": [
       "Text(0.5, 1.0, 'Log TFP(縣)')"
      ]
     },
     "execution_count": 32,
     "metadata": {},
     "output_type": "execute_result"
    },
    {
     "data": {
      "image/png": "[encoded data removed]",
      "text/plain": [
       "<Figure size 576x360 with 1 Axes>"
      ]
     },
     "metadata": {
      "needs_background": "light"
     },
     "output_type": "display_data"
    }
   ],
   "source": [
    "from matplotlib.font_manager import FontProperties\n",
    "myfont = FontProperties(fname=r'C:\\Windows\\Fonts\\msjhbd.ttc')\n",
    "fig = plt.figure(figsize = (8,5))\n",
    "ax1 = fig.add_subplot(111)\n",
    "ax1.set_ylabel('TFP')\n",
    "ax1.set_xlabel('time')\n",
    "plt.plot(n6[n6.index.isin(n6[n6['2010園區']==1].index.unique())].groupby('時間點')['TFP'].mean().index, \n",
    "         n6[n6.index.isin(n6[n6['2010園區']==1].index.unique())].groupby('時間點')['TFP'].mean(),\n",
    "         color='red', label='treated')\n",
    "plt.plot(n6[~n6.index.isin(n6[n6['2010園區']==1].index.unique())].groupby('時間點')['TFP'].mean().index,\n",
    "         n6[~n6.index.isin(n6[n6['2010園區']==1].index.unique())].groupby('時間點')['TFP'].mean(),\n",
    "         color='blue', label='control')\n",
    "plt.axvline(x=0)\n",
    "plt.legend(loc=2)\n",
    "\n",
    "plt.title('Log TFP(縣)',fontproperties=myfont,fontsize=15)"
   ]
  },
  {
   "cell_type": "markdown",
   "metadata": {},
   "source": [
    "# TFP相關變數"
   ]
  },
  {
   "cell_type": "code",
   "execution_count": null,
   "metadata": {},
   "outputs": [],
   "source": [
    "from matplotlib.font_manager import FontProperties\n",
    "myfont = FontProperties(fname=r'C:\\Windows\\Fonts\\msjhbd.ttc')\n",
    "fig = plt.figure(figsize = (8,5))\n",
    "ax1 = fig.add_subplot(111)\n",
    "ax1.set_ylabel('Y')\n",
    "ax1.set_xlabel('time')\n",
    "plt.plot(n9[n9.index.isin(n9[n9['2010園區']==1].index.unique())].groupby('時間點')['工業產值'].mean().index, \n",
    "         n9[n9.index.isin(n9[n9['2010園區']==1].index.unique())].groupby('時間點')['工業產值'].mean(),\n",
    "         color='red', label='treated')\n",
    "plt.plot(n9[~n9.index.isin(n9[n9['2010園區']==1].index.unique())].groupby('時間點')['工業產值'].mean().index,\n",
    "         n9[~n9.index.isin(n9[n9['2010園區']==1].index.unique())].groupby('時間點')['工業產值'].mean(),\n",
    "         color='blue', label='untreated')\n",
    "plt.axvline(x=0)\n",
    "plt.legend(loc=2)\n",
    "\n",
    "plt.title('工業產值(鄉鎮)',fontproperties=myfont,fontsize=15)"
   ]
  },
  {
   "cell_type": "code",
   "execution_count": null,
   "metadata": {},
   "outputs": [],
   "source": [
    "from matplotlib.font_manager import FontProperties\n",
    "myfont = FontProperties(fname=r'C:\\Windows\\Fonts\\msjhbd.ttc')\n",
    "fig = plt.figure(figsize = (8,5))\n",
    "ax1 = fig.add_subplot(111)\n",
    "ax1.set_ylabel('L')\n",
    "ax1.set_xlabel('time')\n",
    "plt.plot(n9[n9.index.isin(n9[n9['2010園區']==1].index.unique())].groupby('時間點')['員工數'].mean().index, \n",
    "         n9[n9.index.isin(n9[n9['2010園區']==1].index.unique())].groupby('時間點')['員工數'].mean(),\n",
    "         color='red', label='treated')\n",
    "plt.plot(n9[~n9.index.isin(n9[n9['2010園區']==1].index.unique())].groupby('時間點')['員工數'].mean().index,\n",
    "         n9[~n9.index.isin(n9[n9['2010園區']==1].index.unique())].groupby('時間點')['員工數'].mean(),\n",
    "         color='blue', label='untreated')\n",
    "plt.axvline(x=0)\n",
    "plt.legend(loc=2)\n",
    "\n",
    "plt.title('員工數(鄉鎮)',fontproperties=myfont,fontsize=15)"
   ]
  },
  {
   "cell_type": "code",
   "execution_count": null,
   "metadata": {},
   "outputs": [],
   "source": [
    "from matplotlib.font_manager import FontProperties\n",
    "myfont = FontProperties(fname=r'C:\\Windows\\Fonts\\msjhbd.ttc')\n",
    "fig = plt.figure(figsize = (8,5))\n",
    "ax1 = fig.add_subplot(111)\n",
    "ax1.set_ylabel('K')\n",
    "ax1.set_xlabel('time')\n",
    "plt.plot(n9[n9.index.isin(n9[n9['2010園區']==1].index.unique())].groupby('時間點')['固定資產'].mean().index, \n",
    "         n9[n9.index.isin(n9[n9['2010園區']==1].index.unique())].groupby('時間點')['固定資產'].mean(),\n",
    "         color='red', label='treated')\n",
    "plt.plot(n9[~n9.index.isin(n9[n9['2010園區']==1].index.unique())].groupby('時間點')['固定資產'].mean().index,\n",
    "         n9[~n9.index.isin(n9[n9['2010園區']==1].index.unique())].groupby('時間點')['固定資產'].mean(),\n",
    "         color='blue', label='untreated')\n",
    "plt.axvline(x=0)\n",
    "plt.legend(loc=2)\n",
    "\n",
    "plt.title('固定資產(鄉鎮)',fontproperties=myfont,fontsize=15)"
   ]
  },
  {
   "cell_type": "code",
   "execution_count": null,
   "metadata": {},
   "outputs": [],
   "source": [
    "from matplotlib.font_manager import FontProperties\n",
    "myfont = FontProperties(fname=r'C:\\Windows\\Fonts\\msjhbd.ttc')\n",
    "fig = plt.figure(figsize = (8,5))\n",
    "ax1 = fig.add_subplot(111)\n",
    "ax1.set_ylabel('Y')\n",
    "ax1.set_xlabel('time')\n",
    "plt.plot(n6[n6.index.isin(n6[n6['2010園區']==1].index.unique())].groupby('時間點')['工業產值'].mean().index, \n",
    "         n6[n6.index.isin(n6[n6['2010園區']==1].index.unique())].groupby('時間點')['工業產值'].mean(),\n",
    "         color='red', label='treated')\n",
    "plt.plot(n6[~n6.index.isin(n6[n6['2010園區']==1].index.unique())].groupby('時間點')['工業產值'].mean().index,\n",
    "         n6[~n6.index.isin(n6[n6['2010園區']==1].index.unique())].groupby('時間點')['工業產值'].mean(),\n",
    "         color='blue', label='untreated')\n",
    "plt.axvline(x=0)\n",
    "plt.legend(loc=2)\n",
    "\n",
    "plt.title('工業產值(縣)',fontproperties=myfont,fontsize=15)"
   ]
  },
  {
   "cell_type": "code",
   "execution_count": null,
   "metadata": {},
   "outputs": [],
   "source": [
    "from matplotlib.font_manager import FontProperties\n",
    "myfont = FontProperties(fname=r'C:\\Windows\\Fonts\\msjhbd.ttc')\n",
    "fig = plt.figure(figsize = (8,5))\n",
    "ax1 = fig.add_subplot(111)\n",
    "ax1.set_ylabel('L')\n",
    "ax1.set_xlabel('time')\n",
    "plt.plot(n6[n6.index.isin(n6[n6['2010園區']==1].index.unique())].groupby('時間點')['員工數'].mean().index, \n",
    "         n6[n6.index.isin(n6[n6['2010園區']==1].index.unique())].groupby('時間點')['員工數'].mean(),\n",
    "         color='red', label='treated')\n",
    "plt.plot(n6[~n6.index.isin(n6[n6['2010園區']==1].index.unique())].groupby('時間點')['員工數'].mean().index,\n",
    "         n6[~n6.index.isin(n6[n6['2010園區']==1].index.unique())].groupby('時間點')['員工數'].mean(),\n",
    "         color='blue', label='untreated')\n",
    "plt.axvline(x=0)\n",
    "plt.legend(loc=2)\n",
    "\n",
    "plt.title('員工數(縣)',fontproperties=myfont,fontsize=15)"
   ]
  },
  {
   "cell_type": "code",
   "execution_count": null,
   "metadata": {},
   "outputs": [],
   "source": [
    "from matplotlib.font_manager import FontProperties\n",
    "myfont = FontProperties(fname=r'C:\\Windows\\Fonts\\msjhbd.ttc')\n",
    "fig = plt.figure(figsize = (8,5))\n",
    "ax1 = fig.add_subplot(111)\n",
    "ax1.set_ylabel('K')\n",
    "ax1.set_xlabel('time')\n",
    "plt.plot(n6[n6.index.isin(n6[n6['2010園區']==1].index.unique())].groupby('時間點')['固定資產'].mean().index, \n",
    "         n6[n6.index.isin(n6[n6['2010園區']==1].index.unique())].groupby('時間點')['固定資產'].mean(),\n",
    "         color='red', label='treated')\n",
    "plt.plot(n6[~n6.index.isin(n6[n6['2010園區']==1].index.unique())].groupby('時間點')['固定資產'].mean().index,\n",
    "         n6[~n6.index.isin(n6[n6['2010園區']==1].index.unique())].groupby('時間點')['固定資產'].mean(),\n",
    "         color='blue', label='untreated')\n",
    "plt.axvline(x=0)\n",
    "plt.legend(loc=2)\n",
    "\n",
    "plt.title('固定資產(縣)',fontproperties=myfont,fontsize=15)"
   ]
  },
  {
   "cell_type": "markdown",
   "metadata": {},
   "source": [
    "# 配對vs未配對"
   ]
  },
  {
   "cell_type": "code",
   "execution_count": null,
   "metadata": {},
   "outputs": [],
   "source": [
    "NN_9 = pd.read_excel(r'E:\\paper\\matching結果TFP_9碼.xlsx')\n",
    "NN_6 = pd.read_excel(r'E:\\paper\\matching結果TFP_6碼.xlsx')"
   ]
  },
  {
   "cell_type": "code",
   "execution_count": null,
   "metadata": {},
   "outputs": [],
   "source": [
    "NN9 = []\n",
    "for i in NN_9[NN_9['2010園區']==1].index:\n",
    "    NN9.append([i+1] + list(NN_9.loc[i,['nearest-neighbor index 1','nearest-neighbor index 2','nearest-neighbor index 3']]))\n",
    "NN9_code = []\n",
    "for i in NN9:\n",
    "    temp = []\n",
    "    for j in i:\n",
    "        temp.append(NN_9.loc[int(j)-1,'鄉鎮碼'])\n",
    "    NN9_code.append(temp)\n",
    "NN_9_sample = []\n",
    "for i in NN9_code:\n",
    "    for j in i:\n",
    "        NN_9_sample.append(str(j))"
   ]
  },
  {
   "cell_type": "code",
   "execution_count": null,
   "metadata": {},
   "outputs": [],
   "source": [
    "NN6 = []\n",
    "for i in NN_6[NN_6['2010園區']==1].index:\n",
    "    NN6.append([i+1] + list(NN_6.loc[i,['nearest-neighbor index 1','nearest-neighbor index 2','nearest-neighbor index 3']]))\n",
    "NN6_code = []\n",
    "for i in NN6:\n",
    "    temp = []\n",
    "    for j in i:\n",
    "        temp.append(NN_6.loc[int(j)-1,'縣碼'])\n",
    "    NN6_code.append(temp)\n",
    "NN_6_sample = []\n",
    "for i in NN6_code:\n",
    "    for j in i:\n",
    "        NN_6_sample.append(str(j))"
   ]
  },
  {
   "cell_type": "code",
   "execution_count": null,
   "metadata": {},
   "outputs": [],
   "source": [
    "TFP_9_DD = pd.read_excel(r'E:\\paper\\panel_data_9碼_可用樣本.xlsx',index_col=0)\n",
    "TFP_6_DD = pd.read_excel(r'E:\\paper\\panel_data_6碼_可用樣本.xlsx',index_col=0)"
   ]
  },
  {
   "cell_type": "markdown",
   "metadata": {},
   "source": [
    "### capital labor ratio"
   ]
  },
  {
   "cell_type": "code",
   "execution_count": null,
   "metadata": {},
   "outputs": [],
   "source": [
    "TFP_9_DD['clratio'] = TFP_9_DD.apply(lambda x:x['固定資產']/x['員工數'],axis=1)\n",
    "TFP_6_DD['clratio'] = TFP_6_DD.apply(lambda x:x['固定資產']/x['員工數'],axis=1)"
   ]
  },
  {
   "cell_type": "code",
   "execution_count": null,
   "metadata": {},
   "outputs": [],
   "source": [
    "t_unt9 = []\n",
    "t_unm9 = []\n",
    "for i in NN9_code:\n",
    "    for k in [2007,2008,2009,2010,2011,2012,2013]:\n",
    "        sample = TFP_9_DD[TFP_9_DD['year']==k]\n",
    "        t_unt9.append((k,sample.loc[i[0],'clratio'] - sample.loc[i[1],'clratio']))\n",
    "        t_unt9.append((k,sample.loc[i[0],'clratio'] - sample.loc[i[2],'clratio']))\n",
    "        t_unt9.append((k,sample.loc[i[0],'clratio'] - sample.loc[i[3],'clratio']))\n",
    "        for x in sample[~sample.index.isin(i)].index:\n",
    "            t_unm9.append((k,sample.loc[i[0],'clratio'] - sample.loc[x,'clratio']))\n",
    "print(len(t_unt9),len(t_unm9))"
   ]
  },
  {
   "cell_type": "code",
   "execution_count": null,
   "metadata": {},
   "outputs": [],
   "source": [
    "#內插異常值\n",
    "TFP_6_DD = pd.read_excel(r'E:\\paper\\panel_data_6碼_可用樣本.xlsx')\n",
    "TFP_6_DD['clratio'] = TFP_6_DD.apply(lambda x:x['固定資產']/x['員工數'],axis=1)\n",
    "TFP_6_DD.loc[10146,'clratio'] = 7498.170096\n",
    "TFP_6_DD = TFP_6_DD.set_index('縣碼')"
   ]
  },
  {
   "cell_type": "code",
   "execution_count": null,
   "metadata": {},
   "outputs": [],
   "source": [
    "n9_unt = pd.DataFrame({'year':[i[0] for i in t_unt9],'clratio':[i[1] for i in t_unt9]})\n",
    "n9_unt['year']-=2010\n",
    "n9_unm = pd.DataFrame({'year':[i[0] for i in t_unm9],'clratio':[i[1] for i in t_unm9]})\n",
    "n9_unm['year']-=2010"
   ]
  },
  {
   "cell_type": "code",
   "execution_count": null,
   "metadata": {},
   "outputs": [],
   "source": [
    "from matplotlib.font_manager import FontProperties\n",
    "myfont = FontProperties(fname=r'C:\\Windows\\Fonts\\msjhbd.ttc')\n",
    "fig = plt.figure(figsize = (8,5))\n",
    "ax1 = fig.add_subplot(111)\n",
    "ax1.set_ylabel('clratio')\n",
    "ax1.set_xlabel('time')\n",
    "plt.plot(n9_unt.groupby('year')['clratio'].mean().index, \n",
    "         n9_unt.groupby('year')['clratio'].mean(),\n",
    "         color='red', label='treat-control')\n",
    "plt.plot(n9_unt.groupby('year')['clratio'].median().index, \n",
    "         n9_unt.groupby('year')['clratio'].median(),\n",
    "         color='red',ls='--')\n",
    "\n",
    "plt.plot(n9_unm.groupby('year')['clratio'].mean().index,\n",
    "         n9_unm.groupby('year')['clratio'].mean(),\n",
    "         color='blue', label='treat-unmatch')\n",
    "plt.plot(n9_unm.groupby('year')['clratio'].median().index, \n",
    "         n9_unm.groupby('year')['clratio'].median(),\n",
    "         color='blue',ls='--')\n",
    "\n",
    "plt.axvline(x=0)\n",
    "plt.legend(loc=3)\n",
    "\n",
    "plt.title('Capital labor ratio(鄉鎮)',fontproperties=myfont,fontsize=15)"
   ]
  },
  {
   "cell_type": "code",
   "execution_count": null,
   "metadata": {},
   "outputs": [],
   "source": [
    "t_unt6 = []\n",
    "t_unm6 = []\n",
    "for i in NN6_code:\n",
    "    for k in [2007,2008,2009,2010,2011,2012,2013]:\n",
    "        sample = TFP_6_DD[TFP_6_DD['year']==k]\n",
    "        t_unt6.append((k,sample.loc[i[0],'clratio'] - sample.loc[i[1],'clratio']))\n",
    "        t_unt6.append((k,sample.loc[i[0],'clratio'] - sample.loc[i[2],'clratio']))\n",
    "        t_unt6.append((k,sample.loc[i[0],'clratio'] - sample.loc[i[3],'clratio']))\n",
    "        for x in sample[~sample.index.isin(i)].index:\n",
    "            t_unm6.append((k,sample.loc[i[0],'clratio'] - sample.loc[x,'clratio']))\n",
    "print(len(t_unt6),len(t_unm6))"
   ]
  },
  {
   "cell_type": "code",
   "execution_count": null,
   "metadata": {},
   "outputs": [],
   "source": [
    "n6_unt = pd.DataFrame({'year':[i[0] for i in t_unt6],'clratio':[i[1] for i in t_unt6]})\n",
    "n6_unt['year']-=2010\n",
    "n6_unm = pd.DataFrame({'year':[i[0] for i in t_unm6],'clratio':[i[1] for i in t_unm6]})\n",
    "n6_unm['year']-=2010"
   ]
  },
  {
   "cell_type": "code",
   "execution_count": null,
   "metadata": {},
   "outputs": [],
   "source": [
    "from matplotlib.font_manager import FontProperties\n",
    "myfont = FontProperties(fname=r'C:\\Windows\\Fonts\\msjhbd.ttc')\n",
    "fig = plt.figure(figsize = (8,5))\n",
    "ax1 = fig.add_subplot(111)\n",
    "ax1.set_ylabel('clratio')\n",
    "ax1.set_xlabel('time')\n",
    "\n",
    "plt.plot(n6_unt.groupby('year')['clratio'].mean().index, \n",
    "         n6_unt.groupby('year')['clratio'].mean(),\n",
    "         color='red', label='treat-control')\n",
    "plt.plot(n6_unt.groupby('year')['clratio'].median().index, \n",
    "         n6_unt.groupby('year')['clratio'].median(),\n",
    "         color='red',ls='--')\n",
    "\n",
    "plt.plot(n6_unm.groupby('year')['clratio'].mean().index,\n",
    "         n6_unm.groupby('year')['clratio'].mean(),\n",
    "         color='blue', label='treat-unmatch')\n",
    "plt.plot(n6_unm.groupby('year')['clratio'].median().index, \n",
    "         n6_unm.groupby('year')['clratio'].median(),\n",
    "         color='blue',ls='--')\n",
    "\n",
    "plt.axvline(x=0)\n",
    "plt.legend(loc=1)\n",
    "\n",
    "plt.title('Capital labor ratio(縣)',fontproperties=myfont,fontsize=15)"
   ]
  },
  {
   "cell_type": "markdown",
   "metadata": {},
   "source": [
    "### 平均薪資&labor cost share"
   ]
  },
  {
   "cell_type": "code",
   "execution_count": null,
   "metadata": {},
   "outputs": [],
   "source": [
    "salary_2007_9 = firm_2007.groupby('鄉鎮碼')[['本年应付工资总额(贷方累计发生额)','全部从业人员年平均人数','主营业务成本']].sum()\n",
    "salary_2007_6 = firm_2007.groupby('縣碼')[['本年应付工资总额(贷方累计发生额)','全部从业人员年平均人数','主营业务成本']].sum()\n",
    "\n",
    "salary_2008_9 = firm_2008.groupby('鄉鎮碼')[['本年应付工资总额(贷方累计发生额)','全部从业人员年平均人数','主营业务成本']].sum()\n",
    "salary_2008_6 = firm_2008.groupby('縣碼')[['本年应付工资总额(贷方累计发生额)','全部从业人员年平均人数','主营业务成本']].sum()\n",
    "\n",
    "salary_2011_9 = firm_2011.groupby('鄉鎮碼')[['应付职工薪酬','从业人数','主营业务成本']].sum()\n",
    "salary_2011_6 = firm_2011.groupby('縣碼')[['应付职工薪酬','从业人数','主营业务成本']].sum()\n",
    "\n",
    "salary_2012_9 = firm_2012.groupby('鄉鎮碼')[['应付职工薪酬_本年贷方累计发生额_','_从业人数','其中：主营业务成本']].sum()\n",
    "salary_2012_6 = firm_2012.groupby('縣碼')[['应付职工薪酬_本年贷方累计发生额_','_从业人数','其中：主营业务成本']].sum()\n",
    "\n",
    "salary_2013_9 = firm_2013.groupby('鄉鎮碼')[['应付职工薪酬','_从业人数','主营业务成本']].sum()\n",
    "salary_2013_6 = firm_2013.groupby('縣碼')[['应付职工薪酬','_从业人数','主营业务成本']].sum()"
   ]
  },
  {
   "cell_type": "code",
   "execution_count": null,
   "metadata": {},
   "outputs": [],
   "source": [
    "salary_2007_9['salary'] = salary_2007_9.apply(lambda x:x['本年应付工资总额(贷方累计发生额)']/x['全部从业人员年平均人数'],axis=1)\n",
    "salary_2007_9['labor cost'] = salary_2007_9.apply(lambda x:x['本年应付工资总额(贷方累计发生额)']/x['主营业务成本'],axis=1)\n",
    "salary_2007_6['salary'] = salary_2007_6.apply(lambda x:x['本年应付工资总额(贷方累计发生额)']/x['全部从业人员年平均人数'],axis=1)\n",
    "salary_2007_6['labor cost'] = salary_2007_6.apply(lambda x:x['本年应付工资总额(贷方累计发生额)']/x['主营业务成本'],axis=1)\n",
    "\n",
    "salary_2008_9['salary'] = salary_2008_9.apply(lambda x:x['本年应付工资总额(贷方累计发生额)']/x['全部从业人员年平均人数'],axis=1)\n",
    "salary_2008_9['labor cost'] = salary_2008_9.apply(lambda x:x['本年应付工资总额(贷方累计发生额)']/x['主营业务成本'],axis=1)\n",
    "salary_2008_6['salary'] = salary_2008_6.apply(lambda x:x['本年应付工资总额(贷方累计发生额)']/x['全部从业人员年平均人数'],axis=1)\n",
    "salary_2008_6['labor cost'] = salary_2008_6.apply(lambda x:x['本年应付工资总额(贷方累计发生额)']/x['主营业务成本'],axis=1)\n",
    "\n",
    "salary_2011_9['salary'] = salary_2011_9.apply(lambda x:x['应付职工薪酬']/x['从业人数'],axis=1)\n",
    "salary_2011_9['labor cost'] = salary_2011_9.apply(lambda x:x['应付职工薪酬']/x['主营业务成本'],axis=1)\n",
    "salary_2011_6['salary'] = salary_2011_6.apply(lambda x:x['应付职工薪酬']/x['从业人数'],axis=1)\n",
    "salary_2011_6['labor cost'] = salary_2011_6.apply(lambda x:x['应付职工薪酬']/x['主营业务成本'],axis=1)\n",
    "\n",
    "salary_2012_9['salary'] = salary_2012_9.apply(lambda x:x['应付职工薪酬_本年贷方累计发生额_']/x['_从业人数'],axis=1)\n",
    "salary_2012_9['labor cost'] = salary_2012_9.apply(lambda x:x['应付职工薪酬_本年贷方累计发生额_']/x['其中：主营业务成本'],axis=1)\n",
    "salary_2012_6['salary'] = salary_2012_6.apply(lambda x:x['应付职工薪酬_本年贷方累计发生额_']/x['_从业人数'],axis=1)\n",
    "salary_2012_6['labor cost'] = salary_2012_6.apply(lambda x:x['应付职工薪酬_本年贷方累计发生额_']/x['其中：主营业务成本'],axis=1)\n",
    "\n",
    "salary_2013_9['salary'] = salary_2013_9.apply(lambda x:x['应付职工薪酬']/x['_从业人数'],axis=1)\n",
    "salary_2013_9['labor cost'] = salary_2013_9.apply(lambda x:x['应付职工薪酬']/x['主营业务成本'],axis=1)\n",
    "salary_2013_6['salary'] = salary_2013_6.apply(lambda x:x['应付职工薪酬']/x['_从业人数'],axis=1)\n",
    "salary_2013_6['labor cost'] = salary_2013_6.apply(lambda x:x['应付职工薪酬']/x['主营业务成本'],axis=1)"
   ]
  },
  {
   "cell_type": "code",
   "execution_count": null,
   "metadata": {},
   "outputs": [],
   "source": [
    "salary_2007_9['year'] = 2007\n",
    "salary_2007_6['year'] = 2007\n",
    "\n",
    "salary_2008_9['year'] = 2008\n",
    "salary_2008_6['year'] = 2008\n",
    "\n",
    "salary_2011_9['year'] = 2011\n",
    "salary_2011_6['year'] = 2011\n",
    "\n",
    "salary_2012_9['year'] = 2012\n",
    "salary_2012_6['year'] = 2012\n",
    "\n",
    "salary_2013_9['year'] = 2013\n",
    "salary_2013_6['year'] = 2013"
   ]
  },
  {
   "cell_type": "code",
   "execution_count": null,
   "metadata": {},
   "outputs": [],
   "source": [
    "salary_2007_9['比對'] = salary_2007_9.index\n",
    "salary_2007_6['比對'] = salary_2007_6.index\n",
    "\n",
    "salary_2008_9['比對'] = salary_2008_9.index\n",
    "salary_2008_6['比對'] = salary_2008_6.index\n",
    "\n",
    "salary_2011_9['比對'] = salary_2011_9.index\n",
    "salary_2011_6['比對'] = salary_2011_6.index\n",
    "\n",
    "salary_2012_9['比對'] = salary_2012_9.index\n",
    "salary_2012_6['比對'] = salary_2012_6.index\n",
    "\n",
    "salary_2013_9['比對'] = salary_2013_9.index\n",
    "salary_2013_6['比對'] = salary_2013_6.index"
   ]
  },
  {
   "cell_type": "code",
   "execution_count": null,
   "metadata": {},
   "outputs": [],
   "source": [
    "salary_9 = pd.concat([salary_2007_9[['比對','salary','labor cost','year']],\n",
    "                   salary_2008_9[['比對','salary','labor cost','year']],\n",
    "                   salary_2011_9[['比對','salary','labor cost','year']],\n",
    "                   salary_2012_9[['比對','salary','labor cost','year']],\n",
    "                   salary_2013_9[['比對','salary','labor cost','year']]],\n",
    "         ignore_index=True).sort_values(['比對','year'])\n",
    "\n",
    "salary_6 = pd.concat([salary_2007_6[['比對','salary','labor cost','year']],\n",
    "                   salary_2008_6[['比對','salary','labor cost','year']],\n",
    "                   salary_2011_6[['比對','salary','labor cost','year']],\n",
    "                   salary_2012_6[['比對','salary','labor cost','year']],\n",
    "                   salary_2013_6[['比對','salary','labor cost','year']]],\n",
    "         ignore_index=True).sort_values(['比對','year'])"
   ]
  },
  {
   "cell_type": "code",
   "execution_count": null,
   "metadata": {},
   "outputs": [],
   "source": [
    "for i in np.arange(0,len(NN9_code)):\n",
    "    for k in np.arange(0,len(NN9_code[i])):\n",
    "        NN9_code[i][k] = NN9_code[i][k].astype(str)\n",
    "\n",
    "for i in np.arange(0,len(NN6_code)):\n",
    "    for k in np.arange(0,len(NN6_code[i])):\n",
    "        NN6_code[i][k] = NN6_code[i][k].astype(str)"
   ]
  },
  {
   "cell_type": "code",
   "execution_count": null,
   "metadata": {},
   "outputs": [],
   "source": [
    "salary_9 = salary_9[salary_9['比對'].isin(list(TFP_9_DD.index.astype(str).unique()))]\n",
    "salary_6 = salary_6[salary_6['比對'].isin(list(TFP_6_DD.index.astype(str).unique()))]"
   ]
  },
  {
   "cell_type": "code",
   "execution_count": null,
   "metadata": {},
   "outputs": [],
   "source": [
    "salary_9 = salary_9.set_index('比對')\n",
    "salary_6 = salary_6.set_index('比對')"
   ]
  },
  {
   "cell_type": "code",
   "execution_count": null,
   "metadata": {},
   "outputs": [],
   "source": [
    "t_unt9_salary = []\n",
    "t_unt9_labor = []\n",
    "t_unm9_salary = []\n",
    "t_unm9_labor = []\n",
    "for i in NN9_code:\n",
    "    for k in [2007,2008,2011,2012,2013]:\n",
    "        sample = salary_9[salary_9['year']==k]\n",
    "        t_unt9_salary.append((k,sample.loc[i[0],'salary'] - sample.loc[i[1],'salary']))\n",
    "        t_unt9_salary.append((k,sample.loc[i[0],'salary'] - sample.loc[i[2],'salary']))\n",
    "        t_unt9_salary.append((k,sample.loc[i[0],'salary'] - sample.loc[i[3],'salary']))\n",
    "        t_unt9_labor.append((k,sample.loc[i[0],'labor cost'] - sample.loc[i[1],'labor cost']))\n",
    "        t_unt9_labor.append((k,sample.loc[i[0],'labor cost'] - sample.loc[i[2],'labor cost']))\n",
    "        t_unt9_labor.append((k,sample.loc[i[0],'labor cost'] - sample.loc[i[3],'labor cost']))        \n",
    "        for x in sample[~sample.index.isin(i)].index:\n",
    "            t_unm9_salary.append((k,sample.loc[i[0],'salary'] - sample.loc[x,'salary']))\n",
    "            t_unm9_labor.append((k,sample.loc[i[0],'labor cost'] - sample.loc[x,'labor cost']))\n",
    "print(len(t_unt9_salary),len(t_unm9_salary))\n",
    "print(len(t_unt9_labor),len(t_unm9_labor))"
   ]
  },
  {
   "cell_type": "code",
   "execution_count": null,
   "metadata": {},
   "outputs": [],
   "source": [
    "n9_unt_salary = pd.DataFrame({'year':[i[0] for i in t_unt9_salary],'clratio':[i[1] for i in t_unt9_salary]})\n",
    "n9_unt_salary['year']-=2010\n",
    "n9_unm_salary = pd.DataFrame({'year':[i[0] for i in t_unm9_salary],'clratio':[i[1] for i in t_unm9_salary]})\n",
    "n9_unm_salary['year']-=2010\n",
    "n9_unt_labor = pd.DataFrame({'year':[i[0] for i in t_unt9_labor],'clratio':[i[1] for i in t_unt9_labor]})\n",
    "n9_unt_labor['year']-=2010\n",
    "n9_unm_labor = pd.DataFrame({'year':[i[0] for i in t_unm9_labor],'clratio':[i[1] for i in t_unm9_labor]})\n",
    "n9_unm_labor['year']-=2010\n",
    "n9_unm_labor = n9_unm_labor[n9_unm_labor['clratio']!=-np.inf]"
   ]
  },
  {
   "cell_type": "code",
   "execution_count": null,
   "metadata": {},
   "outputs": [],
   "source": [
    "from matplotlib.font_manager import FontProperties\n",
    "myfont = FontProperties(fname=r'C:\\Windows\\Fonts\\msjhbd.ttc')\n",
    "fig = plt.figure(figsize = (8,5))\n",
    "ax1 = fig.add_subplot(111)\n",
    "ax1.set_ylabel('salary')\n",
    "ax1.set_xlabel('time')\n",
    "plt.plot(n9_unt_salary.groupby('year')['clratio'].mean().index, \n",
    "         n9_unt_salary.groupby('year')['clratio'].mean(),\n",
    "         color='red', label='treat-control')\n",
    "plt.plot(n9_unt_salary.groupby('year')['clratio'].median().index, \n",
    "         n9_unt_salary.groupby('year')['clratio'].median(),\n",
    "         color='red',ls='--')\n",
    "\n",
    "plt.plot(n9_unm_salary.groupby('year')['clratio'].mean().index,\n",
    "         n9_unm_salary.groupby('year')['clratio'].mean(),\n",
    "         color='blue', label='treat-unmatch')\n",
    "plt.plot(n9_unm_salary.groupby('year')['clratio'].median().index, \n",
    "         n9_unm_salary.groupby('year')['clratio'].median(),\n",
    "         color='blue',ls='--')\n",
    "\n",
    "plt.axvline(x=0)\n",
    "plt.legend(loc=3)\n",
    "\n",
    "plt.title('平均薪資(鄉鎮)',fontproperties=myfont,fontsize=15)"
   ]
  },
  {
   "cell_type": "code",
   "execution_count": null,
   "metadata": {},
   "outputs": [],
   "source": [
    "from matplotlib.font_manager import FontProperties\n",
    "myfont = FontProperties(fname=r'C:\\Windows\\Fonts\\msjhbd.ttc')\n",
    "fig = plt.figure(figsize = (8,5))\n",
    "ax1 = fig.add_subplot(111)\n",
    "ax1.set_ylabel('labor cost share')\n",
    "ax1.set_xlabel('time')\n",
    "plt.plot(n9_unt_labor.groupby('year')['clratio'].mean().index, \n",
    "         n9_unt_labor.groupby('year')['clratio'].mean(),\n",
    "         color='red', label='treat-control')\n",
    "plt.plot(n9_unt_labor.groupby('year')['clratio'].median().index, \n",
    "         n9_unt_labor.groupby('year')['clratio'].median(),\n",
    "         color='red',ls='--')\n",
    "\n",
    "plt.plot(n9_unm_labor.groupby('year')['clratio'].mean().index,\n",
    "         n9_unm_labor.groupby('year')['clratio'].mean(),\n",
    "         color='blue', label='treat-unmatch')\n",
    "plt.plot(n9_unm_labor.groupby('year')['clratio'].median().index, \n",
    "         n9_unm_labor.groupby('year')['clratio'].median(),\n",
    "         color='blue',ls='--')\n",
    "plt.legend(loc=3)\n",
    "\n",
    "plt.title('Labor Cost Share(鄉鎮)',fontproperties=myfont,fontsize=15)"
   ]
  },
  {
   "cell_type": "code",
   "execution_count": null,
   "metadata": {},
   "outputs": [],
   "source": [
    "t_unt6_salary = []\n",
    "t_unt6_labor = []\n",
    "t_unm6_salary = []\n",
    "t_unm6_labor = []\n",
    "for i in NN6_code:\n",
    "    for k in [2007,2008,2011,2012,2013]:\n",
    "        sample = salary_6[salary_6['year']==k]\n",
    "        t_unt6_salary.append((k,sample.loc[i[0],'salary'] - sample.loc[i[1],'salary']))\n",
    "        t_unt6_salary.append((k,sample.loc[i[0],'salary'] - sample.loc[i[2],'salary']))\n",
    "        t_unt6_salary.append((k,sample.loc[i[0],'salary'] - sample.loc[i[3],'salary']))\n",
    "        t_unt6_labor.append((k,sample.loc[i[0],'labor cost'] - sample.loc[i[1],'labor cost']))\n",
    "        t_unt6_labor.append((k,sample.loc[i[0],'labor cost'] - sample.loc[i[2],'labor cost']))\n",
    "        t_unt6_labor.append((k,sample.loc[i[0],'labor cost'] - sample.loc[i[3],'labor cost']))        \n",
    "        for x in sample[~sample.index.isin(i)].index:\n",
    "            t_unm6_salary.append((k,sample.loc[i[0],'salary'] - sample.loc[x,'salary']))\n",
    "            t_unm6_labor.append((k,sample.loc[i[0],'labor cost'] - sample.loc[x,'labor cost']))\n",
    "print(len(t_unt6_salary),len(t_unm6_salary))\n",
    "print(len(t_unt6_labor),len(t_unm6_labor))"
   ]
  },
  {
   "cell_type": "code",
   "execution_count": null,
   "metadata": {},
   "outputs": [],
   "source": [
    "n6_unt_salary = pd.DataFrame({'year':[i[0] for i in t_unt6_salary],'clratio':[i[1] for i in t_unt6_salary]})\n",
    "n6_unt_salary['year']-=2010\n",
    "n6_unm_salary = pd.DataFrame({'year':[i[0] for i in t_unm6_salary],'clratio':[i[1] for i in t_unm6_salary]})\n",
    "n6_unm_salary['year']-=2010\n",
    "n6_unt_labor = pd.DataFrame({'year':[i[0] for i in t_unt6_labor],'clratio':[i[1] for i in t_unt6_labor]})\n",
    "n6_unt_labor['year']-=2010\n",
    "n6_unm_labor = pd.DataFrame({'year':[i[0] for i in t_unm6_labor],'clratio':[i[1] for i in t_unm6_labor]})\n",
    "n6_unm_labor['year']-=2010"
   ]
  },
  {
   "cell_type": "code",
   "execution_count": null,
   "metadata": {},
   "outputs": [],
   "source": [
    "from matplotlib.font_manager import FontProperties\n",
    "myfont = FontProperties(fname=r'C:\\Windows\\Fonts\\msjhbd.ttc')\n",
    "fig = plt.figure(figsize = (8,5))\n",
    "ax1 = fig.add_subplot(111)\n",
    "ax1.set_ylabel('salary')\n",
    "ax1.set_xlabel('time')\n",
    "plt.plot(n6_unt_salary.groupby('year')['clratio'].mean().index, \n",
    "         n6_unt_salary.groupby('year')['clratio'].mean(),\n",
    "         color='red', label='treat-control')\n",
    "plt.plot(n6_unt_salary.groupby('year')['clratio'].median().index, \n",
    "         n6_unt_salary.groupby('year')['clratio'].median(),\n",
    "         color='red',ls='--')\n",
    "\n",
    "plt.plot(n6_unm_salary.groupby('year')['clratio'].mean().index,\n",
    "         n6_unm_salary.groupby('year')['clratio'].mean(),\n",
    "         color='blue', label='treat-unmatch')\n",
    "plt.plot(n6_unm_salary.groupby('year')['clratio'].median().index, \n",
    "         n6_unm_salary.groupby('year')['clratio'].median(),\n",
    "         color='blue',ls='--')\n",
    "\n",
    "plt.axvline(x=0)\n",
    "plt.legend(loc=3)\n",
    "\n",
    "plt.title('平均薪資(縣)',fontproperties=myfont,fontsize=15)"
   ]
  },
  {
   "cell_type": "code",
   "execution_count": null,
   "metadata": {},
   "outputs": [],
   "source": [
    "from matplotlib.font_manager import FontProperties\n",
    "myfont = FontProperties(fname=r'C:\\Windows\\Fonts\\msjhbd.ttc')\n",
    "fig = plt.figure(figsize = (8,5))\n",
    "ax1 = fig.add_subplot(111)\n",
    "ax1.set_ylabel('labor cost share')\n",
    "ax1.set_xlabel('time')\n",
    "plt.plot(n6_unt_labor.groupby('year')['clratio'].mean().index, \n",
    "         n6_unt_labor.groupby('year')['clratio'].mean(),\n",
    "         color='red', label='treat-control')\n",
    "plt.plot(n6_unt_labor.groupby('year')['clratio'].median().index, \n",
    "         n6_unt_labor.groupby('year')['clratio'].median(),\n",
    "         color='red',ls='--')\n",
    "\n",
    "plt.plot(n6_unm_labor.groupby('year')['clratio'].mean().index,\n",
    "         n6_unm_labor.groupby('year')['clratio'].mean(),\n",
    "         color='blue', label='treat-unmatch')\n",
    "plt.plot(n6_unm_labor.groupby('year')['clratio'].median().index, \n",
    "         n6_unm_labor.groupby('year')['clratio'].median(),\n",
    "         color='blue',ls='--')\n",
    "\n",
    "plt.axvline(x=0)\n",
    "plt.legend(loc=4)\n",
    "\n",
    "plt.title('Labor Cost Share(縣)',fontproperties=myfont,fontsize=15)"
   ]
  },
  {
   "cell_type": "markdown",
   "metadata": {},
   "source": [
    "## 不隨時間變化(box plot)"
   ]
  },
  {
   "cell_type": "code",
   "execution_count": null,
   "metadata": {},
   "outputs": [],
   "source": [
    "NN_9['鄉鎮碼'] = NN_9['鄉鎮碼'].astype(str)\n",
    "NN_6['縣碼'] = NN_6['縣碼'].astype(str)"
   ]
  },
  {
   "cell_type": "markdown",
   "metadata": {},
   "source": [
    "### 2010人口密度"
   ]
  },
  {
   "cell_type": "code",
   "execution_count": null,
   "metadata": {},
   "outputs": [],
   "source": [
    "t_unt9 = []\n",
    "t_unm9 = []\n",
    "for i in NN9_code:\n",
    "    sample = NN_9.set_index('鄉鎮碼')\n",
    "    t_unt9.append(sample.loc[i[0],'人口密度2010'] - sample.loc[i[1],'人口密度2010'])\n",
    "    t_unt9.append(sample.loc[i[0],'人口密度2010'] - sample.loc[i[2],'人口密度2010'])\n",
    "    t_unt9.append(sample.loc[i[0],'人口密度2010'] - sample.loc[i[3],'人口密度2010'])\n",
    "    for x in sample[~sample.index.isin(i)].index:\n",
    "        t_unm9.append(sample.loc[i[0],'人口密度2010'] - sample.loc[x,'人口密度2010'])\n",
    "t_unt6 = []\n",
    "t_unm6 = []\n",
    "for i in NN6_code:\n",
    "    sample = NN_6.set_index('縣碼')\n",
    "    t_unt6.append(sample.loc[i[0],'人口密度2010'] - sample.loc[i[1],'人口密度2010'])\n",
    "    t_unt6.append(sample.loc[i[0],'人口密度2010'] - sample.loc[i[2],'人口密度2010'])\n",
    "    t_unt6.append(sample.loc[i[0],'人口密度2010'] - sample.loc[i[3],'人口密度2010'])\n",
    "    for x in sample[~sample.index.isin(i)].index:\n",
    "        t_unm6.append(sample.loc[i[0],'人口密度2010'] - sample.loc[x,'人口密度2010'])\n",
    "print(len(t_unt9),len(t_unm9))\n",
    "print(len(t_unt6),len(t_unm6))"
   ]
  },
  {
   "cell_type": "code",
   "execution_count": null,
   "metadata": {},
   "outputs": [],
   "source": [
    "from matplotlib.font_manager import FontProperties\n",
    "myfont = FontProperties(fname=r'C:\\Windows\\Fonts\\msjhbd.ttc')\n",
    "fig = plt.figure(figsize = (5,6))\n",
    "ax1 = fig.add_subplot(111)\n",
    "plt.axhline(y=0)\n",
    "plt.boxplot([t_unt9,t_unm9],sym='rd',labels=['treat-control','treat-unmatch'],showfliers=False,meanline=True,showmeans=True,\n",
    "           positions=[0,0.25])\n",
    "plt.title('人口密度(鄉鎮)',fontproperties=myfont,fontsize=15)\n",
    "plt.xticks(rotation=15)"
   ]
  },
  {
   "cell_type": "code",
   "execution_count": null,
   "metadata": {},
   "outputs": [],
   "source": [
    "from matplotlib.font_manager import FontProperties\n",
    "myfont = FontProperties(fname=r'C:\\Windows\\Fonts\\msjhbd.ttc')\n",
    "fig = plt.figure(figsize = (5,6))\n",
    "ax1 = fig.add_subplot(111)\n",
    "plt.axhline(y=0)\n",
    "plt.boxplot([t_unt6,t_unm6],sym='rd',labels=['treat-control','treat-unmatch'],showfliers=False,meanline=True,showmeans=True,\n",
    "           positions=[0,0.25])\n",
    "plt.title('人口密度(縣)',fontproperties=myfont,fontsize=15)\n",
    "plt.xticks(rotation=15)"
   ]
  },
  {
   "cell_type": "markdown",
   "metadata": {},
   "source": [
    "### 2004高教育員工比例"
   ]
  },
  {
   "cell_type": "code",
   "execution_count": null,
   "metadata": {},
   "outputs": [],
   "source": [
    "t_unt9 = []\n",
    "t_unm9 = []\n",
    "for i in NN9_code:\n",
    "    sample = NN_9.set_index('鄉鎮碼')\n",
    "    t_unt9.append(sample.loc[i[0],'比例'] - sample.loc[i[1],'比例'])\n",
    "    t_unt9.append(sample.loc[i[0],'比例'] - sample.loc[i[2],'比例'])\n",
    "    t_unt9.append(sample.loc[i[0],'比例'] - sample.loc[i[3],'比例'])\n",
    "    for x in sample[~sample.index.isin(i)].index:\n",
    "        t_unm9.append(sample.loc[i[0],'比例'] - sample.loc[x,'比例'])\n",
    "t_unt6 = []\n",
    "t_unm6 = []\n",
    "for i in NN6_code:\n",
    "    sample = NN_6.set_index('縣碼')\n",
    "    t_unt6.append(sample.loc[i[0],'比例'] - sample.loc[i[1],'比例'])\n",
    "    t_unt6.append(sample.loc[i[0],'比例'] - sample.loc[i[2],'比例'])\n",
    "    t_unt6.append(sample.loc[i[0],'比例'] - sample.loc[i[3],'比例'])\n",
    "    for x in sample[~sample.index.isin(i)].index:\n",
    "        t_unm6.append(sample.loc[i[0],'比例'] - sample.loc[x,'比例'])\n",
    "print(len(t_unt9),len(t_unm9))\n",
    "print(len(t_unt6),len(t_unm6))"
   ]
  },
  {
   "cell_type": "code",
   "execution_count": null,
   "metadata": {},
   "outputs": [],
   "source": [
    "from matplotlib.font_manager import FontProperties\n",
    "myfont = FontProperties(fname=r'C:\\Windows\\Fonts\\msjhbd.ttc')\n",
    "fig = plt.figure(figsize = (5,6))\n",
    "ax1 = fig.add_subplot(111)\n",
    "plt.axhline(y=0)\n",
    "plt.boxplot([t_unt9,t_unm9],sym='rd',labels=['treat-control','treat-unmatch'],showfliers=False,meanline=True,showmeans=True,\n",
    "           positions=[0,0.25])\n",
    "plt.title('高教育員工比例(鄉鎮)',fontproperties=myfont,fontsize=15)\n",
    "plt.xticks(rotation=15)"
   ]
  },
  {
   "cell_type": "code",
   "execution_count": null,
   "metadata": {},
   "outputs": [],
   "source": [
    "from matplotlib.font_manager import FontProperties\n",
    "myfont = FontProperties(fname=r'C:\\Windows\\Fonts\\msjhbd.ttc')\n",
    "fig = plt.figure(figsize = (5,6))\n",
    "ax1 = fig.add_subplot(111)\n",
    "plt.axhline(y=0)\n",
    "plt.boxplot([t_unt6,t_unm6],sym='rd',labels=['treat-control','treat-unmatch'],showfliers=False,meanline=True,showmeans=True,\n",
    "           positions=[0,0.25])\n",
    "plt.title('高教育員工比例(縣)',fontproperties=myfont,fontsize=15)\n",
    "plt.xticks(rotation=15)"
   ]
  },
  {
   "cell_type": "markdown",
   "metadata": {},
   "source": [
    "### 主要港口距離"
   ]
  },
  {
   "cell_type": "code",
   "execution_count": null,
   "metadata": {},
   "outputs": [],
   "source": [
    "t_unt9 = []\n",
    "t_unm9 = []\n",
    "for i in NN9_code:\n",
    "    sample = NN_9.set_index('鄉鎮碼')\n",
    "    t_unt9.append(sample.loc[i[0],'seaport distance'] - sample.loc[i[1],'seaport distance'])\n",
    "    t_unt9.append(sample.loc[i[0],'seaport distance'] - sample.loc[i[2],'seaport distance'])\n",
    "    t_unt9.append(sample.loc[i[0],'seaport distance'] - sample.loc[i[3],'seaport distance'])\n",
    "    for x in sample[~sample.index.isin(i)].index:\n",
    "        t_unm9.append(sample.loc[i[0],'seaport distance'] - sample.loc[x,'seaport distance'])\n",
    "t_unt6 = []\n",
    "t_unm6 = []\n",
    "for i in NN6_code:\n",
    "    sample = NN_6.set_index('縣碼')\n",
    "    t_unt6.append(sample.loc[i[0],'seaport distance'] - sample.loc[i[1],'seaport distance'])\n",
    "    t_unt6.append(sample.loc[i[0],'seaport distance'] - sample.loc[i[2],'seaport distance'])\n",
    "    t_unt6.append(sample.loc[i[0],'seaport distance'] - sample.loc[i[3],'seaport distance'])\n",
    "    for x in sample[~sample.index.isin(i)].index:\n",
    "        t_unm6.append(sample.loc[i[0],'seaport distance'] - sample.loc[x,'seaport distance'])\n",
    "print(len(t_unt9),len(t_unm9))\n",
    "print(len(t_unt6),len(t_unm6))"
   ]
  },
  {
   "cell_type": "code",
   "execution_count": null,
   "metadata": {},
   "outputs": [],
   "source": [
    "from matplotlib.font_manager import FontProperties\n",
    "myfont = FontProperties(fname=r'C:\\Windows\\Fonts\\msjhbd.ttc')\n",
    "fig = plt.figure(figsize = (5,6))\n",
    "ax1 = fig.add_subplot(111)\n",
    "plt.axhline(y=0)\n",
    "plt.boxplot([t_unt9,t_unm9],sym='rd',labels=['treat-control','treat-unmatch'],showfliers=False,meanline=True,showmeans=True,\n",
    "           positions=[0,0.25])\n",
    "plt.title('距離主要港口距離(鄉鎮)',fontproperties=myfont,fontsize=15)\n",
    "plt.xticks(rotation=15)"
   ]
  },
  {
   "cell_type": "code",
   "execution_count": null,
   "metadata": {},
   "outputs": [],
   "source": [
    "from matplotlib.font_manager import FontProperties\n",
    "myfont = FontProperties(fname=r'C:\\Windows\\Fonts\\msjhbd.ttc')\n",
    "fig = plt.figure(figsize = (5,6))\n",
    "ax1 = fig.add_subplot(111)\n",
    "plt.axhline(y=0)\n",
    "plt.boxplot([t_unt6,t_unm6],sym='rd',labels=['treat-control','treat-unmatch'],showfliers=False,meanline=True,showmeans=True,\n",
    "           positions=[0,0.25])\n",
    "plt.title('距離主要港口距離(縣)',fontproperties=myfont,fontsize=15)\n",
    "plt.xticks(rotation=15)"
   ]
  },
  {
   "cell_type": "markdown",
   "metadata": {},
   "source": [
    "### 2009 R&D Intensity"
   ]
  },
  {
   "cell_type": "code",
   "execution_count": null,
   "metadata": {},
   "outputs": [],
   "source": [
    "t_unt9 = []\n",
    "t_unm9 = []\n",
    "for i in NN9_code:\n",
    "    sample = NN_9.set_index('鄉鎮碼')\n",
    "    t_unt9.append(sample.loc[i[0],'R&D OECD'] - sample.loc[i[1],'R&D OECD'])\n",
    "    t_unt9.append(sample.loc[i[0],'R&D OECD'] - sample.loc[i[2],'R&D OECD'])\n",
    "    t_unt9.append(sample.loc[i[0],'R&D OECD'] - sample.loc[i[3],'R&D OECD'])\n",
    "    for x in sample[~sample.index.isin(i)].index:\n",
    "        t_unm9.append(sample.loc[i[0],'R&D OECD'] - sample.loc[x,'R&D OECD'])\n",
    "t_unt6 = []\n",
    "t_unm6 = []\n",
    "for i in NN6_code:\n",
    "    sample = NN_6.set_index('縣碼')\n",
    "    t_unt6.append(sample.loc[i[0],'R&D OECD'] - sample.loc[i[1],'R&D OECD'])\n",
    "    t_unt6.append(sample.loc[i[0],'R&D OECD'] - sample.loc[i[2],'R&D OECD'])\n",
    "    t_unt6.append(sample.loc[i[0],'R&D OECD'] - sample.loc[i[3],'R&D OECD'])\n",
    "    for x in sample[~sample.index.isin(i)].index:\n",
    "        t_unm6.append(sample.loc[i[0],'R&D OECD'] - sample.loc[x,'R&D OECD'])\n",
    "print(len(t_unt9),len(t_unm9))\n",
    "print(len(t_unt6),len(t_unm6))"
   ]
  },
  {
   "cell_type": "code",
   "execution_count": null,
   "metadata": {},
   "outputs": [],
   "source": [
    "from matplotlib.font_manager import FontProperties\n",
    "myfont = FontProperties(fname=r'C:\\Windows\\Fonts\\msjhbd.ttc')\n",
    "fig = plt.figure(figsize = (5,6))\n",
    "ax1 = fig.add_subplot(111)\n",
    "plt.axhline(y=0)\n",
    "plt.boxplot([t_unt9,t_unm9],sym='rd',labels=['treat-control','treat-unmatch'],showfliers=False,meanline=True,showmeans=True,\n",
    "           positions=[0,0.25])\n",
    "plt.title('R&D Intensity(鄉鎮)',fontproperties=myfont,fontsize=15)\n",
    "plt.xticks(rotation=15)"
   ]
  },
  {
   "cell_type": "code",
   "execution_count": null,
   "metadata": {},
   "outputs": [],
   "source": [
    "from matplotlib.font_manager import FontProperties\n",
    "myfont = FontProperties(fname=r'C:\\Windows\\Fonts\\msjhbd.ttc')\n",
    "fig = plt.figure(figsize = (5,6))\n",
    "ax1 = fig.add_subplot(111)\n",
    "plt.axhline(y=0)\n",
    "plt.boxplot([t_unt6,t_unm6],sym='rd',labels=['treat-control','treat-unmatch'],showfliers=False,meanline=True,showmeans=True,\n",
    "           positions=[0,0.25])\n",
    "plt.title('R&D Intensity(縣)',fontproperties=myfont,fontsize=15)\n",
    "plt.xticks(rotation=15)"
   ]
  },
  {
   "cell_type": "markdown",
   "metadata": {},
   "source": [
    "### 2009員工數"
   ]
  },
  {
   "cell_type": "code",
   "execution_count": null,
   "metadata": {},
   "outputs": [],
   "source": [
    "t_unt9 = []\n",
    "t_unm9 = []\n",
    "for i in NN9_code:\n",
    "    sample = NN_9.set_index('鄉鎮碼')\n",
    "    t_unt9.append(sample.loc[i[0],'全部从业人员年平均人数'] - sample.loc[i[1],'全部从业人员年平均人数'])\n",
    "    t_unt9.append(sample.loc[i[0],'全部从业人员年平均人数'] - sample.loc[i[2],'全部从业人员年平均人数'])\n",
    "    t_unt9.append(sample.loc[i[0],'全部从业人员年平均人数'] - sample.loc[i[3],'全部从业人员年平均人数'])\n",
    "    for x in sample[~sample.index.isin(i)].index:\n",
    "        t_unm9.append(sample.loc[i[0],'全部从业人员年平均人数'] - sample.loc[x,'全部从业人员年平均人数'])\n",
    "t_unt6 = []\n",
    "t_unm6 = []\n",
    "for i in NN6_code:\n",
    "    sample = NN_6.set_index('縣碼')\n",
    "    t_unt6.append(sample.loc[i[0],'全部从业人员年平均人数'] - sample.loc[i[1],'全部从业人员年平均人数'])\n",
    "    t_unt6.append(sample.loc[i[0],'全部从业人员年平均人数'] - sample.loc[i[2],'全部从业人员年平均人数'])\n",
    "    t_unt6.append(sample.loc[i[0],'全部从业人员年平均人数'] - sample.loc[i[3],'全部从业人员年平均人数'])\n",
    "    for x in sample[~sample.index.isin(i)].index:\n",
    "        t_unm6.append(sample.loc[i[0],'全部从业人员年平均人数'] - sample.loc[x,'全部从业人员年平均人数'])\n",
    "print(len(t_unt9),len(t_unm9))\n",
    "print(len(t_unt6),len(t_unm6))"
   ]
  },
  {
   "cell_type": "code",
   "execution_count": null,
   "metadata": {},
   "outputs": [],
   "source": [
    "from matplotlib.font_manager import FontProperties\n",
    "myfont = FontProperties(fname=r'C:\\Windows\\Fonts\\msjhbd.ttc')\n",
    "fig = plt.figure(figsize = (5,6))\n",
    "ax1 = fig.add_subplot(111)\n",
    "plt.axhline(y=0)\n",
    "plt.boxplot([t_unt9,t_unm9],sym='rd',labels=['treat-control','treat-unmatch'],showfliers=False,meanline=True,showmeans=True,\n",
    "           positions=[0,0.25])\n",
    "plt.title('員工數(鄉鎮)',fontproperties=myfont,fontsize=15)\n",
    "plt.xticks(rotation=15)"
   ]
  },
  {
   "cell_type": "code",
   "execution_count": null,
   "metadata": {},
   "outputs": [],
   "source": [
    "from matplotlib.font_manager import FontProperties\n",
    "myfont = FontProperties(fname=r'C:\\Windows\\Fonts\\msjhbd.ttc')\n",
    "fig = plt.figure(figsize = (5,6))\n",
    "ax1 = fig.add_subplot(111)\n",
    "plt.axhline(y=0)\n",
    "plt.boxplot([t_unt6,t_unm6],sym='rd',labels=['treat-control','treat-unmatch'],showfliers=False,meanline=True,showmeans=True,\n",
    "           positions=[0,0.25])\n",
    "plt.title('員工數(縣)',fontproperties=myfont,fontsize=15)\n",
    "plt.xticks(rotation=15)"
   ]
  },
  {
   "cell_type": "markdown",
   "metadata": {},
   "source": [
    "### 2009 國有比例"
   ]
  },
  {
   "cell_type": "code",
   "execution_count": null,
   "metadata": {},
   "outputs": [],
   "source": [
    "t_unt9 = []\n",
    "t_unm9 = []\n",
    "for i in NN9_code:\n",
    "    sample = NN_9.set_index('鄉鎮碼')\n",
    "    t_unt9.append(sample.loc[i[0],'國有比例'] - sample.loc[i[1],'國有比例'])\n",
    "    t_unt9.append(sample.loc[i[0],'國有比例'] - sample.loc[i[2],'國有比例'])\n",
    "    t_unt9.append(sample.loc[i[0],'國有比例'] - sample.loc[i[3],'國有比例'])\n",
    "    for x in sample[~sample.index.isin(i)].index:\n",
    "        t_unm9.append(sample.loc[i[0],'國有比例'] - sample.loc[x,'國有比例'])\n",
    "t_unt6 = []\n",
    "t_unm6 = []\n",
    "for i in NN6_code:\n",
    "    sample = NN_6.set_index('縣碼')\n",
    "    t_unt6.append(sample.loc[i[0],'國有比例'] - sample.loc[i[1],'國有比例'])\n",
    "    t_unt6.append(sample.loc[i[0],'國有比例'] - sample.loc[i[2],'國有比例'])\n",
    "    t_unt6.append(sample.loc[i[0],'國有比例'] - sample.loc[i[3],'國有比例'])\n",
    "    for x in sample[~sample.index.isin(i)].index:\n",
    "        t_unm6.append(sample.loc[i[0],'國有比例'] - sample.loc[x,'國有比例'])\n",
    "print(len(t_unt9),len(t_unm9))\n",
    "print(len(t_unt6),len(t_unm6))"
   ]
  },
  {
   "cell_type": "code",
   "execution_count": null,
   "metadata": {},
   "outputs": [],
   "source": [
    "from matplotlib.font_manager import FontProperties\n",
    "myfont = FontProperties(fname=r'C:\\Windows\\Fonts\\msjhbd.ttc')\n",
    "fig = plt.figure(figsize = (5,6))\n",
    "ax1 = fig.add_subplot(111)\n",
    "plt.axhline(y=0)\n",
    "plt.boxplot([t_unt9,t_unm9],sym='rd',labels=['treat-control','treat-unmatch'],showfliers=False,meanline=True,showmeans=True,\n",
    "           positions=[0,0.25])\n",
    "plt.title('國有比例(鄉鎮)',fontproperties=myfont,fontsize=15)\n",
    "plt.xticks(rotation=15)"
   ]
  },
  {
   "cell_type": "code",
   "execution_count": null,
   "metadata": {},
   "outputs": [],
   "source": [
    "from matplotlib.font_manager import FontProperties\n",
    "myfont = FontProperties(fname=r'C:\\Windows\\Fonts\\msjhbd.ttc')\n",
    "fig = plt.figure(figsize = (5,6))\n",
    "ax1 = fig.add_subplot(111)\n",
    "plt.axhline(y=0)\n",
    "plt.boxplot([t_unt6,t_unm6],sym='rd',labels=['treat-control','treat-unmatch'],showfliers=False,meanline=True,showmeans=True,\n",
    "           positions=[0,0.25])\n",
    "plt.title('國有比例(縣)',fontproperties=myfont,fontsize=15)\n",
    "plt.xticks(rotation=15)"
   ]
  },
  {
   "cell_type": "markdown",
   "metadata": {},
   "source": [
    "### 2009 私營比例"
   ]
  },
  {
   "cell_type": "code",
   "execution_count": null,
   "metadata": {},
   "outputs": [],
   "source": [
    "t_unt9 = []\n",
    "t_unm9 = []\n",
    "for i in NN9_code:\n",
    "    sample = NN_9.set_index('鄉鎮碼')\n",
    "    t_unt9.append(sample.loc[i[0],'私營比例'] - sample.loc[i[1],'私營比例'])\n",
    "    t_unt9.append(sample.loc[i[0],'私營比例'] - sample.loc[i[2],'私營比例'])\n",
    "    t_unt9.append(sample.loc[i[0],'私營比例'] - sample.loc[i[3],'私營比例'])\n",
    "    for x in sample[~sample.index.isin(i)].index:\n",
    "        t_unm9.append(sample.loc[i[0],'私營比例'] - sample.loc[x,'私營比例'])\n",
    "t_unt6 = []\n",
    "t_unm6 = []\n",
    "for i in NN6_code:\n",
    "    sample = NN_6.set_index('縣碼')\n",
    "    t_unt6.append(sample.loc[i[0],'私營比例'] - sample.loc[i[1],'私營比例'])\n",
    "    t_unt6.append(sample.loc[i[0],'私營比例'] - sample.loc[i[2],'私營比例'])\n",
    "    t_unt6.append(sample.loc[i[0],'私營比例'] - sample.loc[i[3],'私營比例'])\n",
    "    for x in sample[~sample.index.isin(i)].index:\n",
    "        t_unm6.append(sample.loc[i[0],'私營比例'] - sample.loc[x,'私營比例'])\n",
    "print(len(t_unt9),len(t_unm9))\n",
    "print(len(t_unt6),len(t_unm6))"
   ]
  },
  {
   "cell_type": "code",
   "execution_count": null,
   "metadata": {},
   "outputs": [],
   "source": [
    "from matplotlib.font_manager import FontProperties\n",
    "myfont = FontProperties(fname=r'C:\\Windows\\Fonts\\msjhbd.ttc')\n",
    "fig = plt.figure(figsize = (5,6))\n",
    "ax1 = fig.add_subplot(111)\n",
    "plt.axhline(y=0)\n",
    "plt.boxplot([t_unt9,t_unm9],sym='rd',labels=['treat-control','treat-unmatch'],showfliers=False,meanline=True,showmeans=True,\n",
    "           positions=[0,0.25])\n",
    "plt.title('私營比例(鄉鎮)',fontproperties=myfont,fontsize=15)\n",
    "plt.xticks(rotation=15)"
   ]
  },
  {
   "cell_type": "code",
   "execution_count": null,
   "metadata": {},
   "outputs": [],
   "source": [
    "from matplotlib.font_manager import FontProperties\n",
    "myfont = FontProperties(fname=r'C:\\Windows\\Fonts\\msjhbd.ttc')\n",
    "fig = plt.figure(figsize = (5,6))\n",
    "ax1 = fig.add_subplot(111)\n",
    "plt.axhline(y=0)\n",
    "plt.boxplot([t_unt6,t_unm6],sym='rd',labels=['treat-control','treat-unmatch'],showfliers=False,meanline=True,showmeans=True,\n",
    "           positions=[0,0.25])\n",
    "plt.title('私營比例(縣)',fontproperties=myfont,fontsize=15)\n",
    "plt.xticks(rotation=15)"
   ]
  },
  {
   "cell_type": "markdown",
   "metadata": {},
   "source": [
    "### 2009 外資比例"
   ]
  },
  {
   "cell_type": "code",
   "execution_count": null,
   "metadata": {},
   "outputs": [],
   "source": [
    "t_unt9 = []\n",
    "t_unm9 = []\n",
    "for i in NN9_code:\n",
    "    sample = NN_9.set_index('鄉鎮碼')\n",
    "    t_unt9.append(sample.loc[i[0],'外資比例'] - sample.loc[i[1],'外資比例'])\n",
    "    t_unt9.append(sample.loc[i[0],'外資比例'] - sample.loc[i[2],'外資比例'])\n",
    "    t_unt9.append(sample.loc[i[0],'外資比例'] - sample.loc[i[3],'外資比例'])\n",
    "    for x in sample[~sample.index.isin(i)].index:\n",
    "        t_unm9.append(sample.loc[i[0],'外資比例'] - sample.loc[x,'外資比例'])\n",
    "t_unt6 = []\n",
    "t_unm6 = []\n",
    "for i in NN6_code:\n",
    "    sample = NN_6.set_index('縣碼')\n",
    "    t_unt6.append(sample.loc[i[0],'外資比例'] - sample.loc[i[1],'外資比例'])\n",
    "    t_unt6.append(sample.loc[i[0],'外資比例'] - sample.loc[i[2],'外資比例'])\n",
    "    t_unt6.append(sample.loc[i[0],'外資比例'] - sample.loc[i[3],'外資比例'])\n",
    "    for x in sample[~sample.index.isin(i)].index:\n",
    "        t_unm6.append(sample.loc[i[0],'外資比例'] - sample.loc[x,'外資比例'])\n",
    "print(len(t_unt9),len(t_unm9))\n",
    "print(len(t_unt6),len(t_unm6))"
   ]
  },
  {
   "cell_type": "code",
   "execution_count": null,
   "metadata": {},
   "outputs": [],
   "source": [
    "from matplotlib.font_manager import FontProperties\n",
    "myfont = FontProperties(fname=r'C:\\Windows\\Fonts\\msjhbd.ttc')\n",
    "fig = plt.figure(figsize = (5,6))\n",
    "ax1 = fig.add_subplot(111)\n",
    "plt.axhline(y=0)\n",
    "plt.boxplot([t_unt9,t_unm9],sym='rd',labels=['treat-control','treat-unmatch'],showfliers=False,meanline=True,showmeans=True,\n",
    "           positions=[0,0.25])\n",
    "plt.title('外資比例(鄉鎮)',fontproperties=myfont,fontsize=15)\n",
    "plt.xticks(rotation=15)"
   ]
  },
  {
   "cell_type": "code",
   "execution_count": null,
   "metadata": {},
   "outputs": [],
   "source": [
    "from matplotlib.font_manager import FontProperties\n",
    "myfont = FontProperties(fname=r'C:\\Windows\\Fonts\\msjhbd.ttc')\n",
    "fig = plt.figure(figsize = (5,6))\n",
    "ax1 = fig.add_subplot(111)\n",
    "plt.axhline(y=0)\n",
    "plt.boxplot([t_unt6,t_unm6],sym='rd',labels=['treat-control','treat-unmatch'],showfliers=False,meanline=True,showmeans=True,\n",
    "           positions=[0,0.25])\n",
    "plt.title('外資比例(縣)',fontproperties=myfont,fontsize=15)\n",
    "plt.xticks(rotation=15)"
   ]
  },
  {
   "cell_type": "code",
   "execution_count": null,
   "metadata": {},
   "outputs": [],
   "source": []
  }
 ],
 "metadata": {
  "kernelspec": {
   "display_name": "Python 3",
   "language": "python",
   "name": "python3"
  },
  "language_info": {
   "codemirror_mode": {
    "name": "ipython",
    "version": 3
   },
   "file_extension": ".py",
   "mimetype": "text/x-python",
   "name": "python",
   "nbconvert_exporter": "python",
   "pygments_lexer": "ipython3",
   "version": "3.7.4"
  }
 },
 "nbformat": 4,
 "nbformat_minor": 2
}
