{
 "cells": [
  {
   "cell_type": "code",
   "execution_count": 1,
   "metadata": {},
   "outputs": [],
   "source": [
    "import pandas as pd\n",
    "import numpy as np\n",
    "import matplotlib.pyplot as plt\n",
    "import re\n",
    "import time\n",
    "import datetime\n",
    "import geocoder\n",
    "pd.set_option('display.max_rows',500)\n",
    "pd.set_option('display.max_columns',50)\n",
    "pd.set_option('max_colwidth',200)\n",
    "%matplotlib inline"
   ]
  },
  {
   "cell_type": "code",
   "execution_count": 8,
   "metadata": {
    "collapsed": true
   },
   "outputs": [
    {
     "name": "stdout",
     "output_type": "stream",
     "text": [
      "鄉鎮碼\n",
      "110108022    37\n",
      "110108011    31\n",
      "110108007    28\n",
      "110108010    27\n",
      "110108012    26\n",
      "110108018    16\n",
      "110102010    12\n",
      "110108006    11\n",
      "110108017    11\n",
      "110101010    11\n",
      "110108004    10\n",
      "110108008     9\n",
      "110108019     9\n",
      "110105031     9\n",
      "110102009     7\n",
      "110105007     7\n",
      "110105032     7\n",
      "110108005     7\n",
      "110114005     7\n",
      "110105025     6\n",
      "110102012     5\n",
      "110105009     5\n",
      "110105005     5\n",
      "110108014     4\n",
      "110108025     4\n",
      "110105026     4\n",
      "110102003     3\n",
      "110101009     3\n",
      "110105024     3\n",
      "110105012     2\n",
      "110105010     2\n",
      "110105004     2\n",
      "110101005     2\n",
      "110108024     2\n",
      "110102007     2\n",
      "110114001     2\n",
      "110101008     1\n",
      "110101006     1\n",
      "110102001     1\n",
      "110105001     1\n",
      "110101002     1\n",
      "110101016     1\n",
      "110102015     1\n",
      "110102011     1\n",
      "110105008     1\n",
      "110228104     1\n",
      "110105027     1\n",
      "110112105     1\n",
      "110116102     1\n",
      "110115009     1\n",
      "110115007     1\n",
      "110114111     1\n",
      "110114006     1\n",
      "110113104     1\n",
      "110113101     1\n",
      "110113012     1\n",
      "110113005     1\n",
      "110112114     1\n",
      "110112110     1\n",
      "110111012     1\n",
      "110105038     1\n",
      "110111001     1\n",
      "110109002     1\n",
      "110108029     1\n",
      "110108027     1\n",
      "110108026     1\n",
      "110108020     1\n",
      "110108015     1\n",
      "110228103     1\n",
      "110108002     1\n",
      "110106017     1\n",
      "110106008     1\n",
      "110101001     1\n",
      "Name: 法人代碼, dtype: int64\n"
     ]
    },
    {
     "name": "stderr",
     "output_type": "stream",
     "text": [
      "C:\\Users\\user\\Anaconda3\\lib\\site-packages\\ipykernel_launcher.py:5: SettingWithCopyWarning: \n",
      "A value is trying to be set on a copy of a slice from a DataFrame.\n",
      "Try using .loc[row_indexer,col_indexer] = value instead\n",
      "\n",
      "See the caveats in the documentation: http://pandas.pydata.org/pandas-docs/stable/user_guide/indexing.html#returning-a-view-versus-a-copy\n",
      "  \"\"\"\n"
     ]
    }
   ],
   "source": [
    "#北京\n",
    "df = pd.read_excel(r'C:\\Users\\user\\Desktop\\paper\\名稱merge\\北京_結果.xlsx',index_col=0)\n",
    "df.fillna('',inplace=True)\n",
    "df_region = df[df['區域代碼']!='']\n",
    "df_region['鄉鎮碼'] = df_region['區域代碼'].astype(str).map(lambda x:x[0:9])\n",
    "df_zone1 = df_region[df_region['中關村']<8.7]\n",
    "print(df_zone1.groupby('鄉鎮碼')['法人代碼'].count().sort_values(ascending=False))"
   ]
  },
  {
   "cell_type": "code",
   "execution_count": 10,
   "metadata": {
    "collapsed": true
   },
   "outputs": [
    {
     "data": {
      "text/plain": [
       "([<matplotlib.axis.XTick at 0x2a84196c148>,\n",
       "  <matplotlib.axis.XTick at 0x2a84196fb48>,\n",
       "  <matplotlib.axis.XTick at 0x2a84196f748>,\n",
       "  <matplotlib.axis.XTick at 0x2a8450f7ac8>,\n",
       "  <matplotlib.axis.XTick at 0x2a841a2a1c8>,\n",
       "  <matplotlib.axis.XTick at 0x2a841a2a988>,\n",
       "  <matplotlib.axis.XTick at 0x2a8419e21c8>,\n",
       "  <matplotlib.axis.XTick at 0x2a8419e2b48>,\n",
       "  <matplotlib.axis.XTick at 0x2a8419e6488>,\n",
       "  <matplotlib.axis.XTick at 0x2a8419e6c08>,\n",
       "  <matplotlib.axis.XTick at 0x2a841a2a8c8>,\n",
       "  <matplotlib.axis.XTick at 0x2a8419ef708>,\n",
       "  <matplotlib.axis.XTick at 0x2a8419ed308>,\n",
       "  <matplotlib.axis.XTick at 0x2a8419ede08>,\n",
       "  <matplotlib.axis.XTick at 0x2a8419f4988>,\n",
       "  <matplotlib.axis.XTick at 0x2a841dd1508>,\n",
       "  <matplotlib.axis.XTick at 0x2a841dc2108>,\n",
       "  <matplotlib.axis.XTick at 0x2a841dc2bc8>,\n",
       "  <matplotlib.axis.XTick at 0x2a8419ede88>],\n",
       " <a list of 19 Text xticklabel objects>)"
      ]
     },
     "execution_count": 10,
     "metadata": {},
     "output_type": "execute_result"
    },
    {
     "data": {
      "image/png": "[encoded data removed]",
      "text/plain": [
       "<Figure size 720x360 with 1 Axes>"
      ]
     },
     "metadata": {
      "needs_background": "light"
     },
     "output_type": "display_data"
    }
   ],
   "source": [
    "from matplotlib.font_manager import FontProperties\n",
    "myfont = FontProperties(fname=r'C:\\Windows\\Fonts\\msjhbd.ttc')\n",
    "df_zone = df_zone1.groupby('鄉鎮碼')['法人代碼'].count().sort_values(ascending=False)\n",
    "df_zone = df_zone[df_zone>=7]\n",
    "fig = plt.figure(figsize = (10,5))\n",
    "ax1 = fig.add_subplot(111)\n",
    "ax1.set_ylabel('Counts')\n",
    "x_value = np.arange(0,len(df_zone.index))\n",
    "bar1 = ax1.bar(x_value,df_zone,alpha=0.7,width=0.35,color='r')\n",
    "\n",
    "plt.title('中關村',fontproperties=myfont,fontsize=20)\n",
    "plt.xticks(x_value,df_zone.index,fontproperties=myfont,rotation=45)"
   ]
  },
  {
   "cell_type": "code",
   "execution_count": 11,
   "metadata": {
    "collapsed": true
   },
   "outputs": [
    {
     "name": "stdout",
     "output_type": "stream",
     "text": [
      "鄉鎮碼\n",
      "120111401    125\n",
      "120104008     13\n",
      "120104006     10\n",
      "120111100      7\n",
      "120104009      5\n",
      "120104005      4\n",
      "120223400      3\n",
      "120104001      3\n",
      "120111002      3\n",
      "120111400      2\n",
      "120111450      2\n",
      "120116400      2\n",
      "120104012      2\n",
      "120113400      2\n",
      "120104002      2\n",
      "120111101      1\n",
      "120111001      1\n",
      "120104010      1\n",
      "120113106      1\n",
      "120104007      1\n",
      "120114401      1\n",
      "120116005      1\n",
      "120116008      1\n",
      "120103009      1\n",
      "Name: 法人代碼, dtype: int64\n"
     ]
    },
    {
     "name": "stderr",
     "output_type": "stream",
     "text": [
      "C:\\Users\\user\\Anaconda3\\lib\\site-packages\\ipykernel_launcher.py:5: SettingWithCopyWarning: \n",
      "A value is trying to be set on a copy of a slice from a DataFrame.\n",
      "Try using .loc[row_indexer,col_indexer] = value instead\n",
      "\n",
      "See the caveats in the documentation: http://pandas.pydata.org/pandas-docs/stable/user_guide/indexing.html#returning-a-view-versus-a-copy\n",
      "  \"\"\"\n"
     ]
    }
   ],
   "source": [
    "#天津\n",
    "df = pd.read_excel(r'C:\\Users\\user\\Desktop\\paper\\名稱merge\\天津_結果.xlsx',index_col=0)\n",
    "df.fillna('',inplace=True)\n",
    "df_region = df[df['區域代碼']!='']\n",
    "df_region['鄉鎮碼'] = df_region['區域代碼'].astype(str).map(lambda x:x[0:9])\n",
    "df_zone1 = df_region[df_region['天津濱海']<4.3]\n",
    "print(df_zone1.groupby('鄉鎮碼')['法人代碼'].count().sort_values(ascending=False))"
   ]
  },
  {
   "cell_type": "code",
   "execution_count": 13,
   "metadata": {
    "collapsed": true
   },
   "outputs": [
    {
     "data": {
      "text/plain": [
       "([<matplotlib.axis.XTick at 0x2a8426f4908>,\n",
       "  <matplotlib.axis.XTick at 0x2a8426f9888>,\n",
       "  <matplotlib.axis.XTick at 0x2a8426f9c08>,\n",
       "  <matplotlib.axis.XTick at 0x2a8414a33c8>,\n",
       "  <matplotlib.axis.XTick at 0x2a8414a3e08>,\n",
       "  <matplotlib.axis.XTick at 0x2a8414a1c88>,\n",
       "  <matplotlib.axis.XTick at 0x2a8414a3208>,\n",
       "  <matplotlib.axis.XTick at 0x2a8414a11c8>,\n",
       "  <matplotlib.axis.XTick at 0x2a84149f648>,\n",
       "  <matplotlib.axis.XTick at 0x2a84149c788>,\n",
       "  <matplotlib.axis.XTick at 0x2a84149c808>,\n",
       "  <matplotlib.axis.XTick at 0x2a84147f6c8>,\n",
       "  <matplotlib.axis.XTick at 0x2a841476548>,\n",
       "  <matplotlib.axis.XTick at 0x2a84149a608>,\n",
       "  <matplotlib.axis.XTick at 0x2a841498448>],\n",
       " <a list of 15 Text xticklabel objects>)"
      ]
     },
     "execution_count": 13,
     "metadata": {},
     "output_type": "execute_result"
    },
    {
     "data": {
      "image/png": "[encoded data removed]",
      "text/plain": [
       "<Figure size 432x360 with 1 Axes>"
      ]
     },
     "metadata": {
      "needs_background": "light"
     },
     "output_type": "display_data"
    }
   ],
   "source": [
    "from matplotlib.font_manager import FontProperties\n",
    "myfont = FontProperties(fname=r'C:\\Windows\\Fonts\\msjhbd.ttc')\n",
    "df_zone = df_zone1.groupby('鄉鎮碼')['法人代碼'].count().sort_values(ascending=False)\n",
    "df_zone = df_zone[df_zone>=2]\n",
    "fig = plt.figure(figsize = (6,5))\n",
    "ax1 = fig.add_subplot(111)\n",
    "ax1.set_ylabel('Counts')\n",
    "x_value = np.arange(0,len(df_zone.index))\n",
    "bar1 = ax1.bar(x_value,df_zone,alpha=0.7,width=0.35,color='r')\n",
    "\n",
    "plt.title('天津濱海',fontproperties=myfont,fontsize=20)\n",
    "plt.xticks(x_value,df_zone.index,fontproperties=myfont,rotation=45)"
   ]
  },
  {
   "cell_type": "code",
   "execution_count": 15,
   "metadata": {
    "collapsed": true
   },
   "outputs": [
    {
     "name": "stdout",
     "output_type": "stream",
     "text": [
      "鄉鎮碼\n",
      "130108011    3\n",
      "130108101    1\n",
      "130108004    1\n",
      "130105101    1\n",
      "130104008    1\n",
      "130104001    1\n",
      "130103009    1\n",
      "Name: 法人代碼, dtype: int64\n",
      "鄉鎮碼\n",
      "130602400    36\n",
      "130602002     3\n",
      "130602202     2\n",
      "130625105     1\n",
      "130625100     1\n",
      "130622100     1\n",
      "130621203     1\n",
      "130604201     1\n",
      "130602200     1\n",
      "Name: 法人代碼, dtype: int64\n"
     ]
    },
    {
     "name": "stderr",
     "output_type": "stream",
     "text": [
      "C:\\Users\\user\\Anaconda3\\lib\\site-packages\\ipykernel_launcher.py:5: SettingWithCopyWarning: \n",
      "A value is trying to be set on a copy of a slice from a DataFrame.\n",
      "Try using .loc[row_indexer,col_indexer] = value instead\n",
      "\n",
      "See the caveats in the documentation: http://pandas.pydata.org/pandas-docs/stable/user_guide/indexing.html#returning-a-view-versus-a-copy\n",
      "  \"\"\"\n"
     ]
    }
   ],
   "source": [
    "#河北\n",
    "df = pd.read_excel(r'C:\\Users\\user\\Desktop\\paper\\名稱merge\\河北_結果.xlsx',index_col=0)\n",
    "df.fillna('',inplace=True)\n",
    "df_region = df[df['區域代碼']!='']\n",
    "df_region['鄉鎮碼'] = df_region['區域代碼'].astype(str).map(lambda x:x[0:9])\n",
    "df_zone1 = df_region[df_region['石家庄']<2.5]\n",
    "df_zone2 = df_region[df_region['保定']<2.1]\n",
    "print(df_zone1.groupby('鄉鎮碼')['法人代碼'].count().sort_values(ascending=False))\n",
    "print(df_zone2.groupby('鄉鎮碼')['法人代碼'].count().sort_values(ascending=False))"
   ]
  },
  {
   "cell_type": "code",
   "execution_count": 18,
   "metadata": {
    "collapsed": true
   },
   "outputs": [
    {
     "data": {
      "text/plain": [
       "([<matplotlib.axis.XTick at 0x2a8446c2308>,\n",
       "  <matplotlib.axis.XTick at 0x2a8484764c8>,\n",
       "  <matplotlib.axis.XTick at 0x2a8446c2948>,\n",
       "  <matplotlib.axis.XTick at 0x2a8412216c8>,\n",
       "  <matplotlib.axis.XTick at 0x2a840e8c688>,\n",
       "  <matplotlib.axis.XTick at 0x2a84110ba08>,\n",
       "  <matplotlib.axis.XTick at 0x2a84684c608>],\n",
       " <a list of 7 Text xticklabel objects>)"
      ]
     },
     "execution_count": 18,
     "metadata": {},
     "output_type": "execute_result"
    },
    {
     "data": {
      "image/png": "[encoded data removed]",
      "text/plain": [
       "<Figure size 360x360 with 1 Axes>"
      ]
     },
     "metadata": {
      "needs_background": "light"
     },
     "output_type": "display_data"
    }
   ],
   "source": [
    "from matplotlib.font_manager import FontProperties\n",
    "myfont = FontProperties(fname=r'C:\\Windows\\Fonts\\msjhbd.ttc')\n",
    "fig = plt.figure(figsize = (5,5))\n",
    "ax1 = fig.add_subplot(111)\n",
    "ax1.set_ylabel('Counts')\n",
    "x_value = np.arange(0,len(df_zone1.groupby('鄉鎮碼')['法人代碼'].count().sort_values(ascending=False).index))\n",
    "bar1 = ax1.bar(x_value,df_zone1.groupby('鄉鎮碼')['法人代碼'].count().sort_values(ascending=False),alpha=0.7,width=0.35,color='r')\n",
    "\n",
    "plt.title('石家庄',fontproperties=myfont,fontsize=20)\n",
    "plt.xticks(x_value,df_zone1.groupby('鄉鎮碼')['法人代碼'].count().sort_values(ascending=False).index,fontproperties=myfont,rotation=45)"
   ]
  },
  {
   "cell_type": "code",
   "execution_count": 19,
   "metadata": {
    "collapsed": true
   },
   "outputs": [
    {
     "data": {
      "text/plain": [
       "([<matplotlib.axis.XTick at 0x2a8418dd048>,\n",
       "  <matplotlib.axis.XTick at 0x2a84407fe48>,\n",
       "  <matplotlib.axis.XTick at 0x2a84407f248>,\n",
       "  <matplotlib.axis.XTick at 0x2a841ef48c8>,\n",
       "  <matplotlib.axis.XTick at 0x2a844298788>,\n",
       "  <matplotlib.axis.XTick at 0x2a84428ec88>,\n",
       "  <matplotlib.axis.XTick at 0x2a84428e4c8>,\n",
       "  <matplotlib.axis.XTick at 0x2a8442ae348>,\n",
       "  <matplotlib.axis.XTick at 0x2a8417da508>],\n",
       " <a list of 9 Text xticklabel objects>)"
      ]
     },
     "execution_count": 19,
     "metadata": {},
     "output_type": "execute_result"
    },
    {
     "data": {
      "image/png": "[encoded data removed]",
      "text/plain": [
       "<Figure size 360x360 with 1 Axes>"
      ]
     },
     "metadata": {
      "needs_background": "light"
     },
     "output_type": "display_data"
    }
   ],
   "source": [
    "from matplotlib.font_manager import FontProperties\n",
    "myfont = FontProperties(fname=r'C:\\Windows\\Fonts\\msjhbd.ttc')\n",
    "fig = plt.figure(figsize = (5,5))\n",
    "ax1 = fig.add_subplot(111)\n",
    "ax1.set_ylabel('Counts')\n",
    "x_value = np.arange(0,len(df_zone2.groupby('鄉鎮碼')['法人代碼'].count().sort_values(ascending=False).index))\n",
    "bar1 = ax1.bar(x_value,df_zone2.groupby('鄉鎮碼')['法人代碼'].count().sort_values(ascending=False),alpha=0.7,width=0.35,color='r')\n",
    "\n",
    "plt.title('保定',fontproperties=myfont,fontsize=20)\n",
    "plt.xticks(x_value,df_zone2.groupby('鄉鎮碼')['法人代碼'].count().sort_values(ascending=False).index,fontproperties=myfont,rotation=45)"
   ]
  },
  {
   "cell_type": "code",
   "execution_count": 20,
   "metadata": {
    "collapsed": true
   },
   "outputs": [
    {
     "name": "stdout",
     "output_type": "stream",
     "text": [
      "鄉鎮碼\n",
      "140105401    23\n",
      "140122100     1\n",
      "140109011     1\n",
      "140105501     1\n",
      "140105004     1\n",
      "Name: 法人代碼, dtype: int64\n"
     ]
    },
    {
     "name": "stderr",
     "output_type": "stream",
     "text": [
      "C:\\Users\\user\\Anaconda3\\lib\\site-packages\\ipykernel_launcher.py:5: SettingWithCopyWarning: \n",
      "A value is trying to be set on a copy of a slice from a DataFrame.\n",
      "Try using .loc[row_indexer,col_indexer] = value instead\n",
      "\n",
      "See the caveats in the documentation: http://pandas.pydata.org/pandas-docs/stable/user_guide/indexing.html#returning-a-view-versus-a-copy\n",
      "  \"\"\"\n"
     ]
    }
   ],
   "source": [
    "#山西\n",
    "df = pd.read_excel(r'C:\\Users\\user\\Desktop\\paper\\名稱merge\\山西_結果.xlsx',index_col=0)\n",
    "df.fillna('',inplace=True)\n",
    "df_region = df[df['區域代碼']!='']\n",
    "df_region['鄉鎮碼'] = df_region['區域代碼'].astype(str).map(lambda x:x[0:9])\n",
    "df_zone1 = df_region[df_region['太原']<1.7]\n",
    "print(df_zone1.groupby('鄉鎮碼')['法人代碼'].count().sort_values(ascending=False))"
   ]
  },
  {
   "cell_type": "code",
   "execution_count": 21,
   "metadata": {
    "collapsed": true
   },
   "outputs": [
    {
     "data": {
      "text/plain": [
       "([<matplotlib.axis.XTick at 0x2a8412a6388>,\n",
       "  <matplotlib.axis.XTick at 0x2a8446d3b88>,\n",
       "  <matplotlib.axis.XTick at 0x2a8446d35c8>,\n",
       "  <matplotlib.axis.XTick at 0x2a840ebb4c8>,\n",
       "  <matplotlib.axis.XTick at 0x2a840eace88>],\n",
       " <a list of 5 Text xticklabel objects>)"
      ]
     },
     "execution_count": 21,
     "metadata": {},
     "output_type": "execute_result"
    },
    {
     "data": {
      "image/png": "[encoded data removed]",
      "text/plain": [
       "<Figure size 360x360 with 1 Axes>"
      ]
     },
     "metadata": {
      "needs_background": "light"
     },
     "output_type": "display_data"
    }
   ],
   "source": [
    "from matplotlib.font_manager import FontProperties\n",
    "myfont = FontProperties(fname=r'C:\\Windows\\Fonts\\msjhbd.ttc')\n",
    "fig = plt.figure(figsize = (5,5))\n",
    "ax1 = fig.add_subplot(111)\n",
    "ax1.set_ylabel('Counts')\n",
    "x_value = np.arange(0,len(df_zone1.groupby('鄉鎮碼')['法人代碼'].count().sort_values(ascending=False).index))\n",
    "bar1 = ax1.bar(x_value,df_zone1.groupby('鄉鎮碼')['法人代碼'].count().sort_values(ascending=False),alpha=0.7,width=0.35,color='r')\n",
    "\n",
    "plt.title('太原',fontproperties=myfont,fontsize=20)\n",
    "plt.xticks(x_value,df_zone1.groupby('鄉鎮碼')['法人代碼'].count().sort_values(ascending=False).index,fontproperties=myfont,rotation=45)"
   ]
  },
  {
   "cell_type": "code",
   "execution_count": 3,
   "metadata": {},
   "outputs": [
    {
     "name": "stdout",
     "output_type": "stream",
     "text": [
      "鄉鎮碼\n",
      "150204010    26\n",
      "150203400     6\n",
      "150203102     2\n",
      "150203100     1\n",
      "Name: 法人代碼, dtype: int64\n"
     ]
    },
    {
     "name": "stderr",
     "output_type": "stream",
     "text": [
      "D:\\Anaconda\\lib\\site-packages\\ipykernel_launcher.py:5: SettingWithCopyWarning: \n",
      "A value is trying to be set on a copy of a slice from a DataFrame.\n",
      "Try using .loc[row_indexer,col_indexer] = value instead\n",
      "\n",
      "See the caveats in the documentation: http://pandas.pydata.org/pandas-docs/stable/user_guide/indexing.html#returning-a-view-versus-a-copy\n",
      "  \"\"\"\n"
     ]
    }
   ],
   "source": [
    "#內蒙古\n",
    "df = pd.read_excel(r'E:\\paper\\名稱merge\\內蒙古_結果.xlsx',index_col=0)\n",
    "df.fillna('',inplace=True)\n",
    "df_region = df[df['區域代碼']!='']\n",
    "df_region['鄉鎮碼'] = df_region['區域代碼'].astype(str).map(lambda x:x[0:9])\n",
    "df_zone1 = df_region[df_region['包頭稀土']<1.9]\n",
    "print(df_zone1.groupby('鄉鎮碼')['法人代碼'].count().sort_values(ascending=False))"
   ]
  },
  {
   "cell_type": "code",
   "execution_count": 4,
   "metadata": {
    "collapsed": true
   },
   "outputs": [
    {
     "name": "stdout",
     "output_type": "stream",
     "text": [
      "鄉鎮碼\n",
      "210112010    87\n",
      "210112019     5\n",
      "210112016     3\n",
      "210112021     2\n",
      "210113004     1\n",
      "210112009     1\n",
      "210104018     1\n",
      "210103015     1\n",
      "210102019     1\n",
      "Name: 法人代碼, dtype: int64\n",
      "鄉鎮碼\n",
      "210211016    56\n",
      "210213011     1\n",
      "210212013     1\n",
      "210212006     1\n",
      "210211020     1\n",
      "210211017     1\n",
      "210211008     1\n",
      "Name: 法人代碼, dtype: int64\n",
      "鄉鎮碼\n",
      "210304401    9\n",
      "Name: 法人代碼, dtype: int64\n"
     ]
    },
    {
     "name": "stderr",
     "output_type": "stream",
     "text": [
      "D:\\Anaconda\\lib\\site-packages\\ipykernel_launcher.py:5: SettingWithCopyWarning: \n",
      "A value is trying to be set on a copy of a slice from a DataFrame.\n",
      "Try using .loc[row_indexer,col_indexer] = value instead\n",
      "\n",
      "See the caveats in the documentation: http://pandas.pydata.org/pandas-docs/stable/user_guide/indexing.html#returning-a-view-versus-a-copy\n",
      "  \"\"\"\n"
     ]
    }
   ],
   "source": [
    "#遼寧\n",
    "df = pd.read_excel(r'E:\\paper\\名稱merge\\遼寧_結果.xlsx',index_col=0)\n",
    "df.fillna('',inplace=True)\n",
    "df_region = df[df['區域代碼']!='']\n",
    "df_region['鄉鎮碼'] = df_region['區域代碼'].astype(str).map(lambda x:x[0:9])\n",
    "df_zone1 = df_region[df_region['沈陽']<3.1]\n",
    "df_zone2 = df_region[df_region['大連']<2.2]\n",
    "df_zone3 = df_region[df_region['鞍山']<1.7]\n",
    "print(df_zone1.groupby('鄉鎮碼')['法人代碼'].count().sort_values(ascending=False))\n",
    "print(df_zone2.groupby('鄉鎮碼')['法人代碼'].count().sort_values(ascending=False))\n",
    "print(df_zone3.groupby('鄉鎮碼')['法人代碼'].count().sort_values(ascending=False))"
   ]
  },
  {
   "cell_type": "code",
   "execution_count": 5,
   "metadata": {
    "collapsed": true
   },
   "outputs": [
    {
     "name": "stdout",
     "output_type": "stream",
     "text": [
      "鄉鎮碼\n",
      "220104270    61\n",
      "220105171     3\n",
      "220104009     2\n",
      "220106010     1\n",
      "220104070     1\n",
      "220103200     1\n",
      "220102071     1\n",
      "Name: 法人代碼, dtype: int64\n",
      "鄉鎮碼\n",
      "220211070    56\n",
      "220221172     3\n",
      "220211201     3\n",
      "220282001     1\n",
      "220211071     1\n",
      "220211005     1\n",
      "220202070     1\n",
      "220104270     1\n",
      "Name: 法人代碼, dtype: int64\n"
     ]
    },
    {
     "name": "stderr",
     "output_type": "stream",
     "text": [
      "D:\\Anaconda\\lib\\site-packages\\ipykernel_launcher.py:5: SettingWithCopyWarning: \n",
      "A value is trying to be set on a copy of a slice from a DataFrame.\n",
      "Try using .loc[row_indexer,col_indexer] = value instead\n",
      "\n",
      "See the caveats in the documentation: http://pandas.pydata.org/pandas-docs/stable/user_guide/indexing.html#returning-a-view-versus-a-copy\n",
      "  \"\"\"\n"
     ]
    }
   ],
   "source": [
    "#吉林\n",
    "df = pd.read_excel(r'E:\\paper\\名稱merge\\吉林_結果.xlsx',index_col=0)\n",
    "df.fillna('',inplace=True)\n",
    "df_region = df[df['區域代碼']!='']\n",
    "df_region['鄉鎮碼'] = df_region['區域代碼'].astype(str).map(lambda x:x[0:9])\n",
    "df_zone1 = df_region[df_region['長春']<2.6]\n",
    "df_zone2 = df_region[df_region['吉林']<1.3]\n",
    "print(df_zone1.groupby('鄉鎮碼')['法人代碼'].count().sort_values(ascending=False))\n",
    "print(df_zone2.groupby('鄉鎮碼')['法人代碼'].count().sort_values(ascending=False))"
   ]
  },
  {
   "cell_type": "code",
   "execution_count": 6,
   "metadata": {
    "collapsed": true
   },
   "outputs": [
    {
     "name": "stdout",
     "output_type": "stream",
     "text": [
      "鄉鎮碼\n",
      "230103018    22\n",
      "230110001     4\n",
      "230110008     3\n",
      "230110006     3\n",
      "230110007     3\n",
      "230104027     2\n",
      "230103009     2\n",
      "230110103     2\n",
      "230110017     2\n",
      "230110003     2\n",
      "230103019     1\n",
      "230622105     1\n",
      "230104021     1\n",
      "230103015     1\n",
      "230103006     1\n",
      "230103003     1\n",
      "230103002     1\n",
      "230103101     1\n",
      "230108101     1\n",
      "230104022     1\n",
      "230104023     1\n",
      "230182100     1\n",
      "230110102     1\n",
      "230110201     1\n",
      "230111004     1\n",
      "230111005     1\n",
      "230182001     1\n",
      "230102019     1\n",
      "Name: 法人代碼, dtype: int64\n",
      "鄉鎮碼\n",
      "230603010    36\n",
      "230603008     2\n",
      "230603009     1\n",
      "230602005     1\n",
      "Name: 法人代碼, dtype: int64\n"
     ]
    },
    {
     "name": "stderr",
     "output_type": "stream",
     "text": [
      "D:\\Anaconda\\lib\\site-packages\\ipykernel_launcher.py:5: SettingWithCopyWarning: \n",
      "A value is trying to be set on a copy of a slice from a DataFrame.\n",
      "Try using .loc[row_indexer,col_indexer] = value instead\n",
      "\n",
      "See the caveats in the documentation: http://pandas.pydata.org/pandas-docs/stable/user_guide/indexing.html#returning-a-view-versus-a-copy\n",
      "  \"\"\"\n"
     ]
    }
   ],
   "source": [
    "#黑龍江\n",
    "df = pd.read_excel(r'E:\\paper\\名稱merge\\黑龍江_結果.xlsx',index_col=0)\n",
    "df.fillna('',inplace=True)\n",
    "df_region = df[df['區域代碼']!='']\n",
    "df_region['鄉鎮碼'] = df_region['區域代碼'].astype(str).map(lambda x:x[0:9])\n",
    "df_zone1 = df_region[df_region['哈爾濱']<2.9]\n",
    "df_zone2 = df_region[df_region['大慶']<2.3]\n",
    "print(df_zone1.groupby('鄉鎮碼')['法人代碼'].count().sort_values(ascending=False))\n",
    "print(df_zone2.groupby('鄉鎮碼')['法人代碼'].count().sort_values(ascending=False))"
   ]
  },
  {
   "cell_type": "code",
   "execution_count": 7,
   "metadata": {
    "collapsed": true
   },
   "outputs": [
    {
     "name": "stdout",
     "output_type": "stream",
     "text": [
      "鄉鎮碼\n",
      "310115503    68\n",
      "310115105    31\n",
      "310115125    27\n",
      "310115110     4\n",
      "310115137     3\n",
      "310115132     3\n",
      "310115141     2\n",
      "310115131     2\n",
      "310115016     2\n",
      "310115139     1\n",
      "310115117     1\n",
      "Name: 法人代碼, dtype: int64\n"
     ]
    },
    {
     "name": "stderr",
     "output_type": "stream",
     "text": [
      "D:\\Anaconda\\lib\\site-packages\\ipykernel_launcher.py:5: SettingWithCopyWarning: \n",
      "A value is trying to be set on a copy of a slice from a DataFrame.\n",
      "Try using .loc[row_indexer,col_indexer] = value instead\n",
      "\n",
      "See the caveats in the documentation: http://pandas.pydata.org/pandas-docs/stable/user_guide/indexing.html#returning-a-view-versus-a-copy\n",
      "  \"\"\"\n"
     ]
    }
   ],
   "source": [
    "#上海\n",
    "df = pd.read_excel(r'E:\\paper\\名稱merge\\上海_結果.xlsx',index_col=0)\n",
    "df.fillna('',inplace=True)\n",
    "df_region = df[df['區域代碼']!='']\n",
    "df_region['鄉鎮碼'] = df_region['區域代碼'].astype(str).map(lambda x:x[0:9])\n",
    "df_zone1 = df_region[df_region['上海張江']<3.8]\n",
    "print(df_zone1.groupby('鄉鎮碼')['法人代碼'].count().sort_values(ascending=False))"
   ]
  },
  {
   "cell_type": "code",
   "execution_count": 8,
   "metadata": {
    "collapsed": true
   },
   "outputs": [
    {
     "name": "stdout",
     "output_type": "stream",
     "text": [
      "鄉鎮碼\n",
      "320111450    47\n",
      "320111003     7\n",
      "320111008     4\n",
      "320111001     2\n",
      "321003150     1\n",
      "320116400     1\n",
      "320111004     1\n",
      "320106004     1\n",
      "320106003     1\n",
      "Name: 法人代碼, dtype: int64\n",
      "鄉鎮碼\n",
      "320505003    11\n",
      "320505002     9\n",
      "320508050     1\n",
      "320505407     1\n",
      "Name: 法人代碼, dtype: int64\n",
      "鄉鎮碼\n",
      "320211451    77\n",
      "320211050    16\n",
      "320211052    10\n",
      "320211051     9\n",
      "320211055     5\n",
      "320211054     4\n",
      "320211450     2\n",
      "320211053     1\n",
      "320205105     1\n",
      "Name: 法人代碼, dtype: int64\n",
      "鄉鎮碼\n",
      "320411001    35\n",
      "320412411     9\n",
      "320411101     4\n",
      "320411100     4\n",
      "320411104     3\n",
      "320411103     3\n",
      "320411003     3\n",
      "320411002     2\n",
      "320411401     1\n",
      "320411400     1\n",
      "320402002     1\n",
      "Name: 法人代碼, dtype: int64\n",
      "鄉鎮碼\n",
      "321203150    2\n",
      "321202451    2\n",
      "321202052    2\n",
      "321203400    1\n",
      "Name: 法人代碼, dtype: int64\n",
      "鄉鎮碼\n",
      "320508199    287\n",
      "320508052    136\n",
      "320508053     83\n",
      "320508051     69\n",
      "320508050     52\n",
      "320506100     43\n",
      "320583101      6\n",
      "320506103      4\n",
      "320506107      4\n",
      "320612101      3\n",
      "320583100      3\n",
      "321012114      2\n",
      "321012118      2\n",
      "320583106      2\n",
      "320583400      2\n",
      "320612110      2\n",
      "321012101      2\n",
      "320581106      1\n",
      "320581110      1\n",
      "320581111      1\n",
      "320507004      1\n",
      "320506108      1\n",
      "321012103      1\n",
      "320506009      1\n",
      "320506005      1\n",
      "320506003      1\n",
      "320506001      1\n",
      "320505101      1\n",
      "320505002      1\n",
      "Name: 法人代碼, dtype: int64\n"
     ]
    },
    {
     "name": "stderr",
     "output_type": "stream",
     "text": [
      "D:\\Anaconda\\lib\\site-packages\\ipykernel_launcher.py:5: SettingWithCopyWarning: \n",
      "A value is trying to be set on a copy of a slice from a DataFrame.\n",
      "Try using .loc[row_indexer,col_indexer] = value instead\n",
      "\n",
      "See the caveats in the documentation: http://pandas.pydata.org/pandas-docs/stable/user_guide/indexing.html#returning-a-view-versus-a-copy\n",
      "  \"\"\"\n"
     ]
    }
   ],
   "source": [
    "#江蘇\n",
    "df = pd.read_excel(r'E:\\paper\\名稱merge\\江蘇_結果.xlsx',index_col=0)\n",
    "df.fillna('',inplace=True)\n",
    "df_region = df[df['區域代碼']!='']\n",
    "df_region['鄉鎮碼'] = df_region['區域代碼'].astype(str).map(lambda x:x[0:9])\n",
    "df_zone1 = df_region[df_region['南京']<2.4]\n",
    "df_zone2 = df_region[df_region['蘇州']<1.6]\n",
    "df_zone3 = df_region[df_region['無錫']<1.9]\n",
    "df_zone4 = df_region[df_region['常州']<1.4]\n",
    "df_zone5 = df_region[df_region['泰州醫藥']<1.8]\n",
    "df_zone6 = df_region[df_region['蘇州工業園']<9.7]\n",
    "print(df_zone1.groupby('鄉鎮碼')['法人代碼'].count().sort_values(ascending=False))\n",
    "print(df_zone2.groupby('鄉鎮碼')['法人代碼'].count().sort_values(ascending=False))\n",
    "print(df_zone3.groupby('鄉鎮碼')['法人代碼'].count().sort_values(ascending=False))\n",
    "print(df_zone4.groupby('鄉鎮碼')['法人代碼'].count().sort_values(ascending=False))\n",
    "print(df_zone5.groupby('鄉鎮碼')['法人代碼'].count().sort_values(ascending=False))\n",
    "print(df_zone6.groupby('鄉鎮碼')['法人代碼'].count().sort_values(ascending=False))"
   ]
  },
  {
   "cell_type": "code",
   "execution_count": 9,
   "metadata": {
    "collapsed": true
   },
   "outputs": [
    {
     "name": "stdout",
     "output_type": "stream",
     "text": [
      "鄉鎮碼\n",
      "330108002    6\n",
      "330108003    4\n",
      "330108001    4\n",
      "330303003    1\n",
      "330106005    1\n",
      "Name: 法人代碼, dtype: int64\n",
      "鄉鎮碼\n",
      "330212004    22\n",
      "330212110     6\n",
      "330212007     2\n",
      "330212104     1\n",
      "330212006     1\n",
      "330212003     1\n",
      "330212001     1\n",
      "330211003     1\n",
      "330206001     1\n",
      "Name: 法人代碼, dtype: int64\n"
     ]
    },
    {
     "name": "stderr",
     "output_type": "stream",
     "text": [
      "D:\\Anaconda\\lib\\site-packages\\ipykernel_launcher.py:5: SettingWithCopyWarning: \n",
      "A value is trying to be set on a copy of a slice from a DataFrame.\n",
      "Try using .loc[row_indexer,col_indexer] = value instead\n",
      "\n",
      "See the caveats in the documentation: http://pandas.pydata.org/pandas-docs/stable/user_guide/indexing.html#returning-a-view-versus-a-copy\n",
      "  \"\"\"\n"
     ]
    }
   ],
   "source": [
    "#浙江\n",
    "df = pd.read_excel(r'E:\\paper\\名稱merge\\浙江_結果.xlsx',index_col=0)\n",
    "df.fillna('',inplace=True)\n",
    "df_region = df[df['區域代碼']!='']\n",
    "df_region['鄉鎮碼'] = df_region['區域代碼'].astype(str).map(lambda x:x[0:9])\n",
    "df_zone1 = df_region[df_region['杭州']<2.1]\n",
    "df_zone2 = df_region[df_region['寧波']<1.9]\n",
    "print(df_zone1.groupby('鄉鎮碼')['法人代碼'].count().sort_values(ascending=False))\n",
    "print(df_zone2.groupby('鄉鎮碼')['法人代碼'].count().sort_values(ascending=False))"
   ]
  },
  {
   "cell_type": "code",
   "execution_count": 10,
   "metadata": {
    "collapsed": true
   },
   "outputs": [
    {
     "name": "stdout",
     "output_type": "stream",
     "text": [
      "鄉鎮碼\n",
      "340104401    81\n",
      "340104400     6\n",
      "340104100     3\n",
      "340123400     2\n",
      "340123108     2\n",
      "340121103     2\n",
      "340123101     1\n",
      "340122401     1\n",
      "340104402     1\n",
      "340102401     1\n",
      "Name: 法人代碼, dtype: int64\n"
     ]
    },
    {
     "name": "stderr",
     "output_type": "stream",
     "text": [
      "D:\\Anaconda\\lib\\site-packages\\ipykernel_launcher.py:5: SettingWithCopyWarning: \n",
      "A value is trying to be set on a copy of a slice from a DataFrame.\n",
      "Try using .loc[row_indexer,col_indexer] = value instead\n",
      "\n",
      "See the caveats in the documentation: http://pandas.pydata.org/pandas-docs/stable/user_guide/indexing.html#returning-a-view-versus-a-copy\n",
      "  \"\"\"\n"
     ]
    }
   ],
   "source": [
    "#安徽\n",
    "df = pd.read_excel(r'E:\\paper\\名稱merge\\安徽_結果.xlsx',index_col=0)\n",
    "df.fillna('',inplace=True)\n",
    "df_region = df[df['區域代碼']!='']\n",
    "df_region['鄉鎮碼'] = df_region['區域代碼'].astype(str).map(lambda x:x[0:9])\n",
    "df_zone1 = df_region[df_region['合肥']<2.5]\n",
    "print(df_zone1.groupby('鄉鎮碼')['法人代碼'].count().sort_values(ascending=False))"
   ]
  },
  {
   "cell_type": "code",
   "execution_count": 11,
   "metadata": {
    "collapsed": true
   },
   "outputs": [
    {
     "name": "stdout",
     "output_type": "stream",
     "text": [
      "鄉鎮碼\n",
      "350102100    14\n",
      "350181116     1\n",
      "350124100     1\n",
      "350111100     1\n",
      "350105001     1\n",
      "350104008     1\n",
      "350103012     1\n",
      "350103005     1\n",
      "350103003     1\n",
      "350102008     1\n",
      "350102005     1\n",
      "Name: 法人代碼, dtype: int64\n",
      "鄉鎮碼\n",
      "350206001    48\n",
      "350206002    27\n",
      "350206405    25\n",
      "350206003    10\n",
      "350206004     7\n",
      "350203012     3\n",
      "350213102     2\n",
      "350203003     2\n",
      "350212002     1\n",
      "350211004     1\n",
      "350211002     1\n",
      "350206406     1\n",
      "350206005     1\n",
      "350203011     1\n",
      "Name: 法人代碼, dtype: int64\n"
     ]
    },
    {
     "name": "stderr",
     "output_type": "stream",
     "text": [
      "D:\\Anaconda\\lib\\site-packages\\ipykernel_launcher.py:5: SettingWithCopyWarning: \n",
      "A value is trying to be set on a copy of a slice from a DataFrame.\n",
      "Try using .loc[row_indexer,col_indexer] = value instead\n",
      "\n",
      "See the caveats in the documentation: http://pandas.pydata.org/pandas-docs/stable/user_guide/indexing.html#returning-a-view-versus-a-copy\n",
      "  \"\"\"\n"
     ]
    }
   ],
   "source": [
    "#福建\n",
    "df = pd.read_excel(r'E:\\paper\\名稱merge\\福建_結果.xlsx',index_col=0)\n",
    "df.fillna('',inplace=True)\n",
    "df_region = df[df['區域代碼']!='']\n",
    "df_region['鄉鎮碼'] = df_region['區域代碼'].astype(str).map(lambda x:x[0:9])\n",
    "df_zone1 = df_region[df_region['福州']<1.4]\n",
    "df_zone2 = df_region[df_region['廈門火炬']<2.2]\n",
    "print(df_zone1.groupby('鄉鎮碼')['法人代碼'].count().sort_values(ascending=False))\n",
    "print(df_zone2.groupby('鄉鎮碼')['法人代碼'].count().sort_values(ascending=False))"
   ]
  },
  {
   "cell_type": "code",
   "execution_count": 12,
   "metadata": {
    "collapsed": true
   },
   "outputs": [
    {
     "name": "stdout",
     "output_type": "stream",
     "text": [
      "鄉鎮碼\n",
      "360121191    8\n",
      "360111490    6\n",
      "360111400    3\n",
      "360111493    2\n",
      "Name: 法人代碼, dtype: int64\n"
     ]
    },
    {
     "name": "stderr",
     "output_type": "stream",
     "text": [
      "D:\\Anaconda\\lib\\site-packages\\ipykernel_launcher.py:5: SettingWithCopyWarning: \n",
      "A value is trying to be set on a copy of a slice from a DataFrame.\n",
      "Try using .loc[row_indexer,col_indexer] = value instead\n",
      "\n",
      "See the caveats in the documentation: http://pandas.pydata.org/pandas-docs/stable/user_guide/indexing.html#returning-a-view-versus-a-copy\n",
      "  \"\"\"\n"
     ]
    }
   ],
   "source": [
    "#江西\n",
    "df = pd.read_excel(r'E:\\paper\\名稱merge\\江西_結果.xlsx',index_col=0)\n",
    "df.fillna('',inplace=True)\n",
    "df_region = df[df['區域代碼']!='']\n",
    "df_region['鄉鎮碼'] = df_region['區域代碼'].astype(str).map(lambda x:x[0:9])\n",
    "df_zone1 = df_region[df_region['南昌']<1.6]\n",
    "print(df_zone1.groupby('鄉鎮碼')['法人代碼'].count().sort_values(ascending=False))"
   ]
  },
  {
   "cell_type": "code",
   "execution_count": 13,
   "metadata": {
    "collapsed": true
   },
   "outputs": [
    {
     "name": "stdout",
     "output_type": "stream",
     "text": [
      "鄉鎮碼\n",
      "370102014    99\n",
      "370112005    10\n",
      "370112006     7\n",
      "370102011     5\n",
      "370112012     3\n",
      "370112003     3\n",
      "370113003     1\n",
      "370112015     1\n",
      "370112013     1\n",
      "370105005     1\n",
      "370102009     1\n",
      "370102008     1\n",
      "370102006     1\n",
      "Name: 法人代碼, dtype: int64\n",
      "鄉鎮碼\n",
      "371002004    51\n",
      "371002007    10\n",
      "371002100     4\n",
      "371002107     1\n",
      "Name: 法人代碼, dtype: int64\n",
      "鄉鎮碼\n",
      "370214005    10\n",
      "370282123     1\n",
      "Name: 法人代碼, dtype: int64\n",
      "鄉鎮碼\n",
      "370704003    7\n",
      "370704005    2\n",
      "Name: 法人代碼, dtype: int64\n",
      "鄉鎮碼\n",
      "370303008    55\n",
      "370306004     1\n",
      "370305003     1\n",
      "370303105     1\n",
      "370302001     1\n",
      "Name: 法人代碼, dtype: int64\n"
     ]
    },
    {
     "name": "stderr",
     "output_type": "stream",
     "text": [
      "D:\\Anaconda\\lib\\site-packages\\ipykernel_launcher.py:5: SettingWithCopyWarning: \n",
      "A value is trying to be set on a copy of a slice from a DataFrame.\n",
      "Try using .loc[row_indexer,col_indexer] = value instead\n",
      "\n",
      "See the caveats in the documentation: http://pandas.pydata.org/pandas-docs/stable/user_guide/indexing.html#returning-a-view-versus-a-copy\n",
      "  \"\"\"\n"
     ]
    }
   ],
   "source": [
    "#山東\n",
    "df = pd.read_excel(r'E:\\paper\\名稱merge\\山東_結果.xlsx',index_col=0)\n",
    "df.fillna('',inplace=True)\n",
    "df_region = df[df['區域代碼']!='']\n",
    "df_region['鄉鎮碼'] = df_region['區域代碼'].astype(str).map(lambda x:x[0:9])\n",
    "df_zone1 = df_region[df_region['濟南']<2.3]\n",
    "df_zone2 = df_region[df_region['威海火炬']<2.3]\n",
    "df_zone3 = df_region[df_region['青島']<2.6]\n",
    "df_zone4 = df_region[df_region['濰坊']<1.7]\n",
    "df_zone5 = df_region[df_region['淄博']<1.6]\n",
    "print(df_zone1.groupby('鄉鎮碼')['法人代碼'].count().sort_values(ascending=False))\n",
    "print(df_zone2.groupby('鄉鎮碼')['法人代碼'].count().sort_values(ascending=False))\n",
    "print(df_zone3.groupby('鄉鎮碼')['法人代碼'].count().sort_values(ascending=False))\n",
    "print(df_zone4.groupby('鄉鎮碼')['法人代碼'].count().sort_values(ascending=False))\n",
    "print(df_zone5.groupby('鄉鎮碼')['法人代碼'].count().sort_values(ascending=False))"
   ]
  },
  {
   "cell_type": "code",
   "execution_count": 15,
   "metadata": {
    "collapsed": true
   },
   "outputs": [
    {
     "name": "stdout",
     "output_type": "stream",
     "text": [
      "鄉鎮碼\n",
      "410102160    66\n",
      "410181114     1\n",
      "Name: 法人代碼, dtype: int64\n",
      "鄉鎮碼\n",
      "410305560    23\n",
      "410305061     3\n",
      "410305060     2\n",
      "410322104     1\n",
      "410311201     1\n",
      "Name: 法人代碼, dtype: int64\n"
     ]
    },
    {
     "name": "stderr",
     "output_type": "stream",
     "text": [
      "D:\\Anaconda\\lib\\site-packages\\ipykernel_launcher.py:5: SettingWithCopyWarning: \n",
      "A value is trying to be set on a copy of a slice from a DataFrame.\n",
      "Try using .loc[row_indexer,col_indexer] = value instead\n",
      "\n",
      "See the caveats in the documentation: http://pandas.pydata.org/pandas-docs/stable/user_guide/indexing.html#returning-a-view-versus-a-copy\n",
      "  \"\"\"\n"
     ]
    }
   ],
   "source": [
    "#河南\n",
    "df = pd.read_excel(r'E:\\paper\\名稱merge\\河南_結果.xlsx',index_col=0)\n",
    "df.fillna('',inplace=True)\n",
    "df_region = df[df['區域代碼']!='']\n",
    "df_region['鄉鎮碼'] = df_region['區域代碼'].astype(str).map(lambda x:x[0:9])\n",
    "df_zone1 = df_region[df_region['郑州']<2]\n",
    "df_zone2 = df_region[df_region['洛陽']<1.4]\n",
    "print(df_zone1.groupby('鄉鎮碼')['法人代碼'].count().sort_values(ascending=False))\n",
    "print(df_zone2.groupby('鄉鎮碼')['法人代碼'].count().sort_values(ascending=False))"
   ]
  },
  {
   "cell_type": "code",
   "execution_count": 16,
   "metadata": {
    "collapsed": true
   },
   "outputs": [
    {
     "name": "stdout",
     "output_type": "stream",
     "text": [
      "鄉鎮碼\n",
      "420111080    28\n",
      "420111002     5\n",
      "420111006     4\n",
      "420111007     2\n",
      "420111001     2\n",
      "420116001     1\n",
      "420115401     1\n",
      "420115087     1\n",
      "420115086     1\n",
      "420111081     1\n",
      "420107403     1\n",
      "420106003     1\n",
      "420102017     1\n",
      "Name: 法人代碼, dtype: int64\n",
      "鄉鎮碼\n",
      "420606570    13\n",
      "420606002     7\n",
      "420606171     6\n",
      "420606571     4\n",
      "420606071     4\n",
      "420607570     2\n",
      "420606572     2\n",
      "420606400     2\n",
      "420606170     2\n",
      "420606070     2\n",
      "420606008     2\n",
      "420606101     1\n",
      "420606100     1\n",
      "420606007     1\n",
      "420606001     1\n",
      "420602001     1\n",
      "Name: 法人代碼, dtype: int64\n"
     ]
    },
    {
     "name": "stderr",
     "output_type": "stream",
     "text": [
      "D:\\Anaconda\\lib\\site-packages\\ipykernel_launcher.py:5: SettingWithCopyWarning: \n",
      "A value is trying to be set on a copy of a slice from a DataFrame.\n",
      "Try using .loc[row_indexer,col_indexer] = value instead\n",
      "\n",
      "See the caveats in the documentation: http://pandas.pydata.org/pandas-docs/stable/user_guide/indexing.html#returning-a-view-versus-a-copy\n",
      "  \"\"\"\n"
     ]
    }
   ],
   "source": [
    "#湖北\n",
    "df = pd.read_excel(r'E:\\paper\\名稱merge\\湖北_結果.xlsx',index_col=0)\n",
    "df.fillna('',inplace=True)\n",
    "df_region = df[df['區域代碼']!='']\n",
    "df_region['鄉鎮碼'] = df_region['區域代碼'].astype(str).map(lambda x:x[0:9])\n",
    "df_zone1 = df_region[df_region['武漢東湖']<2.8]\n",
    "df_zone2 = df_region[df_region['襄陽']<1.6]\n",
    "print(df_zone1.groupby('鄉鎮碼')['法人代碼'].count().sort_values(ascending=False))\n",
    "print(df_zone2.groupby('鄉鎮碼')['法人代碼'].count().sort_values(ascending=False))"
   ]
  },
  {
   "cell_type": "code",
   "execution_count": 2,
   "metadata": {
    "collapsed": true
   },
   "outputs": [
    {
     "name": "stdout",
     "output_type": "stream",
     "text": [
      "鄉鎮碼\n",
      "440111108    5\n",
      "440104013    4\n",
      "440111113    3\n",
      "440111107    3\n",
      "442001116    2\n",
      "440106009    2\n",
      "440184003    2\n",
      "440104021    2\n",
      "440106007    2\n",
      "440104012    1\n",
      "440104014    1\n",
      "440104016    1\n",
      "440104018    1\n",
      "440106008    1\n",
      "440106020    1\n",
      "440106014    1\n",
      "441901116    1\n",
      "440111013    1\n",
      "440116001    1\n",
      "440183004    1\n",
      "440183102    1\n",
      "440183103    1\n",
      "440184111    1\n",
      "440103003    1\n",
      "Name: 法人代碼, dtype: int64\n",
      "鄉鎮碼\n",
      "440305007    126\n",
      "440305009     39\n",
      "440305001     12\n",
      "440305008      7\n",
      "440305002      6\n",
      "440306007      5\n",
      "440305006      3\n",
      "440306004      3\n",
      "440306005      2\n",
      "440306008      2\n",
      "440306006      2\n",
      "440306002      2\n",
      "440306003      1\n",
      "440305003      1\n",
      "440306001      1\n",
      "441901116      1\n",
      "441901112      1\n",
      "440306010      1\n",
      "440307006      1\n",
      "440307013      1\n",
      "440307016      1\n",
      "441303001      1\n",
      "441421128      1\n",
      "441702103      1\n",
      "441901110      1\n",
      "440304007      1\n",
      "Name: 法人代碼, dtype: int64\n",
      "鄉鎮碼\n",
      "442001003    147\n",
      "442001102      1\n",
      "442001100      1\n",
      "Name: 法人代碼, dtype: int64\n",
      "鄉鎮碼\n",
      "440605011    23\n",
      "440605124    16\n",
      "440604012    14\n",
      "440605122     5\n",
      "440605126     4\n",
      "440605125     4\n",
      "440605123     4\n",
      "440604011     3\n",
      "440605121     2\n",
      "440605012     2\n",
      "440604100     1\n",
      "Name: 法人代碼, dtype: int64\n",
      "鄉鎮碼\n",
      "441302007    13\n",
      "441302009     2\n",
      "441322102     1\n",
      "441302107     1\n",
      "441302008     1\n",
      "441302004     1\n",
      "Name: 法人代碼, dtype: int64\n",
      "鄉鎮碼\n",
      "440402100    15\n",
      "440404100     2\n",
      "Name: 法人代碼, dtype: int64\n"
     ]
    },
    {
     "name": "stderr",
     "output_type": "stream",
     "text": [
      "D:\\Anaconda\\lib\\site-packages\\ipykernel_launcher.py:5: SettingWithCopyWarning: \n",
      "A value is trying to be set on a copy of a slice from a DataFrame.\n",
      "Try using .loc[row_indexer,col_indexer] = value instead\n",
      "\n",
      "See the caveats in the documentation: http://pandas.pydata.org/pandas-docs/stable/user_guide/indexing.html#returning-a-view-versus-a-copy\n",
      "  \"\"\"\n"
     ]
    }
   ],
   "source": [
    "#廣東\n",
    "df = pd.read_excel(r'E:\\paper\\名稱merge\\廣東_結果.xlsx',index_col=0)\n",
    "df.fillna('',inplace=True)\n",
    "df_region = df[df['區域代碼']!='']\n",
    "df_region['鄉鎮碼'] = df_region['區域代碼'].astype(str).map(lambda x:x[0:9])\n",
    "df_zone1 = df_region[df_region['廣州']<3.5]\n",
    "df_zone2 = df_region[df_region['深圳']<2]\n",
    "df_zone3 = df_region[df_region['中山火炬']<2.4]\n",
    "df_zone4 = df_region[df_region['佛山']<1.9]\n",
    "df_zone5 = df_region[df_region['惠州仲愷']<1.6]\n",
    "df_zone6 = df_region[df_region['珠海']<1.8]\n",
    "print(df_zone1.groupby('鄉鎮碼')['法人代碼'].count().sort_values(ascending=False))\n",
    "print(df_zone2.groupby('鄉鎮碼')['法人代碼'].count().sort_values(ascending=False))\n",
    "print(df_zone3.groupby('鄉鎮碼')['法人代碼'].count().sort_values(ascending=False))\n",
    "print(df_zone4.groupby('鄉鎮碼')['法人代碼'].count().sort_values(ascending=False))\n",
    "print(df_zone5.groupby('鄉鎮碼')['法人代碼'].count().sort_values(ascending=False))\n",
    "print(df_zone6.groupby('鄉鎮碼')['法人代碼'].count().sort_values(ascending=False))"
   ]
  },
  {
   "cell_type": "code",
   "execution_count": 3,
   "metadata": {
    "collapsed": true
   },
   "outputs": [
    {
     "name": "stdout",
     "output_type": "stream",
     "text": [
      "鄉鎮碼\n",
      "450107010    93\n",
      "450126101     1\n",
      "450105001     1\n",
      "Name: 法人代碼, dtype: int64\n",
      "鄉鎮碼\n",
      "450305001    27\n",
      "450305002     2\n",
      "450305004     1\n",
      "450305003     1\n",
      "Name: 法人代碼, dtype: int64\n"
     ]
    },
    {
     "name": "stderr",
     "output_type": "stream",
     "text": [
      "D:\\Anaconda\\lib\\site-packages\\ipykernel_launcher.py:5: SettingWithCopyWarning: \n",
      "A value is trying to be set on a copy of a slice from a DataFrame.\n",
      "Try using .loc[row_indexer,col_indexer] = value instead\n",
      "\n",
      "See the caveats in the documentation: http://pandas.pydata.org/pandas-docs/stable/user_guide/indexing.html#returning-a-view-versus-a-copy\n",
      "  \"\"\"\n"
     ]
    }
   ],
   "source": [
    "#廣西\n",
    "df = pd.read_excel(r'E:\\paper\\名稱merge\\廣西_結果.xlsx',index_col=0)\n",
    "df.fillna('',inplace=True)\n",
    "df_region = df[df['區域代碼']!='']\n",
    "df_region['鄉鎮碼'] = df_region['區域代碼'].astype(str).map(lambda x:x[0:9])\n",
    "df_zone1 = df_region[df_region['南寧']<1.7]\n",
    "df_zone2 = df_region[df_region['桂林']<2]\n",
    "print(df_zone1.groupby('鄉鎮碼')['法人代碼'].count().sort_values(ascending=False))\n",
    "print(df_zone2.groupby('鄉鎮碼')['法人代碼'].count().sort_values(ascending=False))"
   ]
  },
  {
   "cell_type": "code",
   "execution_count": 4,
   "metadata": {
    "collapsed": true
   },
   "outputs": [
    {
     "name": "stdout",
     "output_type": "stream",
     "text": [
      "鄉鎮碼\n",
      "460105001    8\n",
      "460105102    5\n",
      "460107102    1\n",
      "460106100    1\n",
      "460105104    1\n",
      "Name: 法人代碼, dtype: int64\n"
     ]
    },
    {
     "name": "stderr",
     "output_type": "stream",
     "text": [
      "D:\\Anaconda\\lib\\site-packages\\ipykernel_launcher.py:5: SettingWithCopyWarning: \n",
      "A value is trying to be set on a copy of a slice from a DataFrame.\n",
      "Try using .loc[row_indexer,col_indexer] = value instead\n",
      "\n",
      "See the caveats in the documentation: http://pandas.pydata.org/pandas-docs/stable/user_guide/indexing.html#returning-a-view-versus-a-copy\n",
      "  \"\"\"\n"
     ]
    }
   ],
   "source": [
    "#海南\n",
    "df = pd.read_excel(r'E:\\paper\\名稱merge\\海南_結果.xlsx',index_col=0)\n",
    "df.fillna('',inplace=True)\n",
    "df_region = df[df['區域代碼']!='']\n",
    "df_region['鄉鎮碼'] = df_region['區域代碼'].astype(str).map(lambda x:x[0:9])\n",
    "df_zone1 = df_region[df_region['海口']<1]\n",
    "print(df_zone1.groupby('鄉鎮碼')['法人代碼'].count().sort_values(ascending=False))"
   ]
  },
  {
   "cell_type": "code",
   "execution_count": 5,
   "metadata": {
    "collapsed": true
   },
   "outputs": [
    {
     "name": "stdout",
     "output_type": "stream",
     "text": [
      "鄉鎮碼\n",
      "500107007    13\n",
      "500107005     8\n",
      "500107102     2\n",
      "500106105     2\n",
      "500115001     1\n",
      "500113108     1\n",
      "500112009     1\n",
      "500112004     1\n",
      "500108101     1\n",
      "500107103     1\n",
      "500107002     1\n",
      "500106014     1\n",
      "500103013     1\n",
      "Name: 法人代碼, dtype: int64\n"
     ]
    },
    {
     "name": "stderr",
     "output_type": "stream",
     "text": [
      "D:\\Anaconda\\lib\\site-packages\\ipykernel_launcher.py:5: SettingWithCopyWarning: \n",
      "A value is trying to be set on a copy of a slice from a DataFrame.\n",
      "Try using .loc[row_indexer,col_indexer] = value instead\n",
      "\n",
      "See the caveats in the documentation: http://pandas.pydata.org/pandas-docs/stable/user_guide/indexing.html#returning-a-view-versus-a-copy\n",
      "  \"\"\"\n"
     ]
    }
   ],
   "source": [
    "#重慶\n",
    "df = pd.read_excel(r'E:\\paper\\名稱merge\\重慶_結果.xlsx',index_col=0)\n",
    "df.fillna('',inplace=True)\n",
    "df_region = df[df['區域代碼']!='']\n",
    "df_region['鄉鎮碼'] = df_region['區域代碼'].astype(str).map(lambda x:x[0:9])\n",
    "df_zone1 = df_region[df_region['重慶']<2.6]\n",
    "print(df_zone1.groupby('鄉鎮碼')['法人代碼'].count().sort_values(ascending=False))"
   ]
  },
  {
   "cell_type": "code",
   "execution_count": 6,
   "metadata": {
    "collapsed": true
   },
   "outputs": [
    {
     "name": "stdout",
     "output_type": "stream",
     "text": [
      "鄉鎮碼\n",
      "510107062    19\n",
      "510124119    17\n",
      "510107064    17\n",
      "510107063    12\n",
      "510104036     6\n",
      "511102115     4\n",
      "510122002     2\n",
      "510105014     2\n",
      "511681001     1\n",
      "511402104     1\n",
      "511011101     1\n",
      "510131102     1\n",
      "510124108     1\n",
      "510107007     1\n",
      "Name: 法人代碼, dtype: int64\n",
      "鄉鎮碼\n",
      "510703006    4\n",
      "510703113    2\n",
      "510704003    1\n",
      "Name: 法人代碼, dtype: int64\n"
     ]
    },
    {
     "name": "stderr",
     "output_type": "stream",
     "text": [
      "D:\\Anaconda\\lib\\site-packages\\ipykernel_launcher.py:5: SettingWithCopyWarning: \n",
      "A value is trying to be set on a copy of a slice from a DataFrame.\n",
      "Try using .loc[row_indexer,col_indexer] = value instead\n",
      "\n",
      "See the caveats in the documentation: http://pandas.pydata.org/pandas-docs/stable/user_guide/indexing.html#returning-a-view-versus-a-copy\n",
      "  \"\"\"\n"
     ]
    }
   ],
   "source": [
    "#四川\n",
    "df = pd.read_excel(r'E:\\paper\\名稱merge\\四川_結果.xlsx',index_col=0)\n",
    "df.fillna('',inplace=True)\n",
    "df_region = df[df['區域代碼']!='']\n",
    "df_region['鄉鎮碼'] = df_region['區域代碼'].astype(str).map(lambda x:x[0:9])\n",
    "df_zone1 = df_region[df_region['成都']<2.6]\n",
    "df_zone2 = df_region[df_region['綿陽']<1.4]\n",
    "print(df_zone1.groupby('鄉鎮碼')['法人代碼'].count().sort_values(ascending=False))\n",
    "print(df_zone2.groupby('鄉鎮碼')['法人代碼'].count().sort_values(ascending=False))"
   ]
  },
  {
   "cell_type": "code",
   "execution_count": 7,
   "metadata": {
    "collapsed": true
   },
   "outputs": [
    {
     "name": "stdout",
     "output_type": "stream",
     "text": [
      "鄉鎮碼\n",
      "520112404    6\n",
      "520112402    6\n",
      "520112401    2\n",
      "520112403    1\n",
      "Name: 法人代碼, dtype: int64\n"
     ]
    },
    {
     "name": "stderr",
     "output_type": "stream",
     "text": [
      "D:\\Anaconda\\lib\\site-packages\\ipykernel_launcher.py:5: SettingWithCopyWarning: \n",
      "A value is trying to be set on a copy of a slice from a DataFrame.\n",
      "Try using .loc[row_indexer,col_indexer] = value instead\n",
      "\n",
      "See the caveats in the documentation: http://pandas.pydata.org/pandas-docs/stable/user_guide/indexing.html#returning-a-view-versus-a-copy\n",
      "  \"\"\"\n"
     ]
    }
   ],
   "source": [
    "#貴州\n",
    "df = pd.read_excel(r'E:\\paper\\名稱merge\\貴州_結果.xlsx',index_col=0)\n",
    "df.fillna('',inplace=True)\n",
    "df_region = df[df['區域代碼']!='']\n",
    "df_region['鄉鎮碼'] = df_region['區域代碼'].astype(str).map(lambda x:x[0:9])\n",
    "df_zone1 = df_region[df_region['貴陽']<1.4]\n",
    "print(df_zone1.groupby('鄉鎮碼')['法人代碼'].count().sort_values(ascending=False))"
   ]
  },
  {
   "cell_type": "code",
   "execution_count": 8,
   "metadata": {
    "collapsed": true
   },
   "outputs": [
    {
     "name": "stdout",
     "output_type": "stream",
     "text": [
      "鄉鎮碼\n",
      "530102401    19\n",
      "530102008     3\n",
      "530112002     2\n",
      "530102009     2\n",
      "532501001     1\n",
      "530129103     1\n",
      "530126001     1\n",
      "530112008     1\n",
      "530112001     1\n",
      "Name: 法人代碼, dtype: int64\n"
     ]
    },
    {
     "name": "stderr",
     "output_type": "stream",
     "text": [
      "D:\\Anaconda\\lib\\site-packages\\ipykernel_launcher.py:5: SettingWithCopyWarning: \n",
      "A value is trying to be set on a copy of a slice from a DataFrame.\n",
      "Try using .loc[row_indexer,col_indexer] = value instead\n",
      "\n",
      "See the caveats in the documentation: http://pandas.pydata.org/pandas-docs/stable/user_guide/indexing.html#returning-a-view-versus-a-copy\n",
      "  \"\"\"\n"
     ]
    }
   ],
   "source": [
    "#雲南\n",
    "df = pd.read_excel(r'E:\\paper\\名稱merge\\雲南_結果.xlsx',index_col=0)\n",
    "df.fillna('',inplace=True)\n",
    "df_region = df[df['區域代碼']!='']\n",
    "df_region['鄉鎮碼'] = df_region['區域代碼'].astype(str).map(lambda x:x[0:9])\n",
    "df_zone1 = df_region[df_region['昆明']<1.8]\n",
    "print(df_zone1.groupby('鄉鎮碼')['法人代碼'].count().sort_values(ascending=False))"
   ]
  },
  {
   "cell_type": "code",
   "execution_count": 9,
   "metadata": {
    "collapsed": true
   },
   "outputs": [
    {
     "name": "stdout",
     "output_type": "stream",
     "text": [
      "鄉鎮碼\n",
      "610113007    27\n",
      "610113004    23\n",
      "610113002     5\n",
      "610116002     2\n",
      "610113001     2\n",
      "610126002     1\n",
      "610116001     1\n",
      "610115005     1\n",
      "610114101     1\n",
      "610112004     1\n",
      "610111004     1\n",
      "610104008     1\n",
      "610103005     1\n",
      "610103004     1\n",
      "Name: 法人代碼, dtype: int64\n",
      "鄉鎮碼\n",
      "610302100    6\n",
      "610302104    3\n",
      "610304103    2\n",
      "610324102    1\n",
      "610322111    1\n",
      "610302101    1\n",
      "Name: 法人代碼, dtype: int64\n",
      "鄉鎮碼\n",
      "610403001    35\n",
      "610403002    10\n",
      "610431100     1\n",
      "Name: 法人代碼, dtype: int64\n"
     ]
    },
    {
     "name": "stderr",
     "output_type": "stream",
     "text": [
      "D:\\Anaconda\\lib\\site-packages\\ipykernel_launcher.py:5: SettingWithCopyWarning: \n",
      "A value is trying to be set on a copy of a slice from a DataFrame.\n",
      "Try using .loc[row_indexer,col_indexer] = value instead\n",
      "\n",
      "See the caveats in the documentation: http://pandas.pydata.org/pandas-docs/stable/user_guide/indexing.html#returning-a-view-versus-a-copy\n",
      "  \"\"\"\n"
     ]
    }
   ],
   "source": [
    "#陝西\n",
    "df = pd.read_excel(r'E:\\paper\\名稱merge\\陝西_結果.xlsx',index_col=0)\n",
    "df.fillna('',inplace=True)\n",
    "df_region = df[df['區域代碼']!='']\n",
    "df_region['鄉鎮碼'] = df_region['區域代碼'].astype(str).map(lambda x:x[0:9])\n",
    "df_zone1 = df_region[df_region['西安']<2.7]\n",
    "df_zone2 = df_region[df_region['寶雞']<1.4]\n",
    "df_zone3 = df_region[df_region['楊凌農業']<2.7]\n",
    "print(df_zone1.groupby('鄉鎮碼')['法人代碼'].count().sort_values(ascending=False))\n",
    "print(df_zone2.groupby('鄉鎮碼')['法人代碼'].count().sort_values(ascending=False))\n",
    "print(df_zone3.groupby('鄉鎮碼')['法人代碼'].count().sort_values(ascending=False))"
   ]
  },
  {
   "cell_type": "code",
   "execution_count": 10,
   "metadata": {},
   "outputs": [
    {
     "name": "stdout",
     "output_type": "stream",
     "text": [
      "鄉鎮碼\n",
      "620102003    4\n",
      "620102400    2\n",
      "620123100    1\n",
      "620102023    1\n",
      "620102014    1\n",
      "620102011    1\n",
      "620102005    1\n",
      "Name: 法人代碼, dtype: int64\n"
     ]
    },
    {
     "name": "stderr",
     "output_type": "stream",
     "text": [
      "D:\\Anaconda\\lib\\site-packages\\ipykernel_launcher.py:5: SettingWithCopyWarning: \n",
      "A value is trying to be set on a copy of a slice from a DataFrame.\n",
      "Try using .loc[row_indexer,col_indexer] = value instead\n",
      "\n",
      "See the caveats in the documentation: http://pandas.pydata.org/pandas-docs/stable/user_guide/indexing.html#returning-a-view-versus-a-copy\n",
      "  \"\"\"\n"
     ]
    }
   ],
   "source": [
    "#甘肅\n",
    "df = pd.read_excel(r'E:\\paper\\名稱merge\\甘肅_結果.xlsx',index_col=0)\n",
    "df.fillna('',inplace=True)\n",
    "df_region = df[df['區域代碼']!='']\n",
    "df_region['鄉鎮碼'] = df_region['區域代碼'].astype(str).map(lambda x:x[0:9])\n",
    "df_zone1 = df_region[df_region['蘭州']<2.3]\n",
    "print(df_zone1.groupby('鄉鎮碼')['法人代碼'].count().sort_values(ascending=False))"
   ]
  },
  {
   "cell_type": "code",
   "execution_count": 11,
   "metadata": {
    "collapsed": true
   },
   "outputs": [
    {
     "name": "stdout",
     "output_type": "stream",
     "text": [
      "鄉鎮碼\n",
      "650104400    15\n",
      "650104010     2\n",
      "650104008     2\n",
      "650104001     2\n",
      "650109101     1\n",
      "650104200     1\n",
      "Name: 法人代碼, dtype: int64\n"
     ]
    },
    {
     "name": "stderr",
     "output_type": "stream",
     "text": [
      "D:\\Anaconda\\lib\\site-packages\\ipykernel_launcher.py:5: SettingWithCopyWarning: \n",
      "A value is trying to be set on a copy of a slice from a DataFrame.\n",
      "Try using .loc[row_indexer,col_indexer] = value instead\n",
      "\n",
      "See the caveats in the documentation: http://pandas.pydata.org/pandas-docs/stable/user_guide/indexing.html#returning-a-view-versus-a-copy\n",
      "  \"\"\"\n"
     ]
    }
   ],
   "source": [
    "#新疆\n",
    "df = pd.read_excel(r'E:\\paper\\名稱merge\\新疆_結果.xlsx',index_col=0)\n",
    "df.fillna('',inplace=True)\n",
    "df_region = df[df['區域代碼']!='']\n",
    "df_region['鄉鎮碼'] = df_region['區域代碼'].astype(str).map(lambda x:x[0:9])\n",
    "df_zone1 = df_region[df_region['烏魯木齊']<1.8]\n",
    "print(df_zone1.groupby('鄉鎮碼')['法人代碼'].count().sort_values(ascending=False))"
   ]
  },
  {
   "cell_type": "code",
   "execution_count": null,
   "metadata": {},
   "outputs": [],
   "source": []
  }
 ],
 "metadata": {
  "kernelspec": {
   "display_name": "Python 3",
   "language": "python",
   "name": "python3"
  },
  "language_info": {
   "codemirror_mode": {
    "name": "ipython",
    "version": 3
   },
   "file_extension": ".py",
   "mimetype": "text/x-python",
   "name": "python",
   "nbconvert_exporter": "python",
   "pygments_lexer": "ipython3",
   "version": "3.7.4"
  }
 },
 "nbformat": 4,
 "nbformat_minor": 2
}
