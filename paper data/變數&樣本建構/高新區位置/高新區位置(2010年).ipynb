{
 "cells": [
  {
   "cell_type": "code",
   "execution_count": 1,
   "metadata": {},
   "outputs": [],
   "source": [
    "import pandas as pd\n",
    "import numpy as np\n",
    "import matplotlib.pyplot as plt\n",
    "import re\n",
    "import time\n",
    "import datetime\n",
    "import geocoder\n",
    "pd.set_option('display.max_rows',500)\n",
    "pd.set_option('display.max_columns',50)\n",
    "pd.set_option('max_colwidth',200)\n",
    "%matplotlib inline"
   ]
  },
  {
   "cell_type": "code",
   "execution_count": 2,
   "metadata": {},
   "outputs": [],
   "source": [
    "#河北\n",
    "df = pd.read_excel(r'E:\\paper\\名稱merge\\河北_結果.xlsx',index_col=0)\n",
    "df.fillna('',inplace=True)\n",
    "df_region = df[df['區域代碼']!='']\n",
    "df_region['鄉鎮碼'] = df_region['區域代碼'].astype(str).map(lambda x:x[0:9])\n",
    "df_zone1 = df_region[df_region['唐山']<1.3]\n",
    "df_zone2 = df_region[df_region['燕郊']<2.3]\n",
    "print(df_zone1.groupby('鄉鎮碼')['法人代碼'].count().sort_values(ascending=False))\n",
    "print(df_zone2.groupby('鄉鎮碼')['法人代碼'].count().sort_values(ascending=False))"
   ]
  },
  {
   "cell_type": "code",
   "execution_count": 27,
   "metadata": {
    "collapsed": true
   },
   "outputs": [
    {
     "data": {
      "text/plain": [
       "([<matplotlib.axis.XTick at 0x1b36ca5dc08>,\n",
       "  <matplotlib.axis.XTick at 0x1b3719e9908>,\n",
       "  <matplotlib.axis.XTick at 0x1b3719e92c8>,\n",
       "  <matplotlib.axis.XTick at 0x1b36e336d08>],\n",
       " <a list of 4 Text xticklabel objects>)"
      ]
     },
     "execution_count": 27,
     "metadata": {},
     "output_type": "execute_result"
    },
    {
     "data": {
      "image/png": "[encoded data removed]",
      "text/plain": [
       "<Figure size 360x360 with 1 Axes>"
      ]
     },
     "metadata": {
      "needs_background": "light"
     },
     "output_type": "display_data"
    }
   ],
   "source": [
    "from matplotlib.font_manager import FontProperties\n",
    "myfont = FontProperties(fname=r'C:\\Windows\\Fonts\\msjhbd.ttc')\n",
    "fig = plt.figure(figsize = (5,5))\n",
    "ax1 = fig.add_subplot(111)\n",
    "ax1.set_ylabel('Counts')\n",
    "x_value = np.arange(0,len(df_zone1.groupby('鄉鎮碼')['法人代碼'].count().sort_values(ascending=False).index))\n",
    "bar1 = ax1.bar(x_value,df_zone1.groupby('鄉鎮碼')['法人代碼'].count().sort_values(ascending=False),alpha=0.7,width=0.35,color='r')\n",
    "\n",
    "plt.title('唐山',fontproperties=myfont,fontsize=20)\n",
    "plt.xticks(x_value,df_zone1.groupby('鄉鎮碼')['法人代碼'].count().sort_values(ascending=False).index,fontproperties=myfont)"
   ]
  },
  {
   "cell_type": "code",
   "execution_count": 28,
   "metadata": {
    "collapsed": true
   },
   "outputs": [
    {
     "data": {
      "text/plain": [
       "([<matplotlib.axis.XTick at 0x1b3736007c8>,\n",
       "  <matplotlib.axis.XTick at 0x1b36e3b7748>,\n",
       "  <matplotlib.axis.XTick at 0x1b36e3b0708>,\n",
       "  <matplotlib.axis.XTick at 0x1b36e16fec8>],\n",
       " <a list of 4 Text xticklabel objects>)"
      ]
     },
     "execution_count": 28,
     "metadata": {},
     "output_type": "execute_result"
    },
    {
     "data": {
      "image/png": "[encoded data removed]",
      "text/plain": [
       "<Figure size 360x360 with 1 Axes>"
      ]
     },
     "metadata": {
      "needs_background": "light"
     },
     "output_type": "display_data"
    }
   ],
   "source": [
    "from matplotlib.font_manager import FontProperties\n",
    "myfont = FontProperties(fname=r'C:\\Windows\\Fonts\\msjhbd.ttc')\n",
    "fig = plt.figure(figsize = (5,5))\n",
    "ax1 = fig.add_subplot(111)\n",
    "ax1.set_ylabel('Counts')\n",
    "x_value = np.arange(0,len(df_zone2.groupby('鄉鎮碼')['法人代碼'].count().sort_values(ascending=False).index))\n",
    "bar1 = ax1.bar(x_value,df_zone2.groupby('鄉鎮碼')['法人代碼'].count().sort_values(ascending=False),alpha=0.7,width=0.35,color='r')\n",
    "\n",
    "plt.title('燕郊',fontproperties=myfont,fontsize=20)\n",
    "plt.xticks(x_value,df_zone2.groupby('鄉鎮碼')['法人代碼'].count().sort_values(ascending=False).index,fontproperties=myfont)"
   ]
  },
  {
   "cell_type": "code",
   "execution_count": 32,
   "metadata": {},
   "outputs": [
    {
     "name": "stdout",
     "output_type": "stream",
     "text": [
      "鄉鎮碼\n",
      "210802401    29\n",
      "210802007    29\n",
      "210803003    22\n",
      "210882005     4\n",
      "210803004     4\n",
      "210803007     2\n",
      "210803005     2\n",
      "210803400     1\n",
      "210802002     1\n",
      "Name: 法人代碼, dtype: int64\n",
      "鄉鎮碼\n",
      "211004101    5\n",
      "Name: 法人代碼, dtype: int64\n"
     ]
    },
    {
     "name": "stderr",
     "output_type": "stream",
     "text": [
      "D:\\Anaconda\\lib\\site-packages\\ipykernel_launcher.py:5: SettingWithCopyWarning: \n",
      "A value is trying to be set on a copy of a slice from a DataFrame.\n",
      "Try using .loc[row_indexer,col_indexer] = value instead\n",
      "\n",
      "See the caveats in the documentation: http://pandas.pydata.org/pandas-docs/stable/user_guide/indexing.html#returning-a-view-versus-a-copy\n",
      "  \"\"\"\n"
     ]
    }
   ],
   "source": [
    "#遼寧\n",
    "df = pd.read_excel(r'E:\\paper\\名稱merge\\遼寧_結果.xlsx',index_col=0)\n",
    "df.fillna('',inplace=True)\n",
    "df_region = df[df['區域代碼']!='']\n",
    "df_region['鄉鎮碼'] = df_region['區域代碼'].astype(str).map(lambda x:x[0:9])\n",
    "df_zone1 = df_region[df_region['營口']<1.3]\n",
    "df_zone2 = df_region[df_region['遼陽']<1.2]\n",
    "print(df_zone1.groupby('鄉鎮碼')['法人代碼'].count().sort_values(ascending=False))\n",
    "print(df_zone2.groupby('鄉鎮碼')['法人代碼'].count().sort_values(ascending=False))"
   ]
  },
  {
   "cell_type": "code",
   "execution_count": 34,
   "metadata": {
    "collapsed": true
   },
   "outputs": [
    {
     "data": {
      "text/plain": [
       "([<matplotlib.axis.XTick at 0x1b36e343ec8>,\n",
       "  <matplotlib.axis.XTick at 0x1b37fa8d2c8>,\n",
       "  <matplotlib.axis.XTick at 0x1b300f8fe48>,\n",
       "  <matplotlib.axis.XTick at 0x1b37d10ab88>,\n",
       "  <matplotlib.axis.XTick at 0x1b37d10a548>,\n",
       "  <matplotlib.axis.XTick at 0x1b37d10dfc8>,\n",
       "  <matplotlib.axis.XTick at 0x1b37d10d6c8>,\n",
       "  <matplotlib.axis.XTick at 0x1b37d10fe88>,\n",
       "  <matplotlib.axis.XTick at 0x1b37d10f808>],\n",
       " <a list of 9 Text xticklabel objects>)"
      ]
     },
     "execution_count": 34,
     "metadata": {},
     "output_type": "execute_result"
    },
    {
     "data": {
      "image/png": "[encoded data removed]",
      "text/plain": [
       "<Figure size 360x360 with 1 Axes>"
      ]
     },
     "metadata": {
      "needs_background": "light"
     },
     "output_type": "display_data"
    }
   ],
   "source": [
    "from matplotlib.font_manager import FontProperties\n",
    "myfont = FontProperties(fname=r'C:\\Windows\\Fonts\\msjhbd.ttc')\n",
    "fig = plt.figure(figsize = (5,5))\n",
    "ax1 = fig.add_subplot(111)\n",
    "ax1.set_ylabel('Counts')\n",
    "x_value = np.arange(0,len(df_zone1.groupby('鄉鎮碼')['法人代碼'].count().sort_values(ascending=False).index))\n",
    "bar1 = ax1.bar(x_value,df_zone1.groupby('鄉鎮碼')['法人代碼'].count().sort_values(ascending=False),alpha=0.7,width=0.35,color='r')\n",
    "\n",
    "plt.title('營口',fontproperties=myfont,fontsize=20)\n",
    "plt.xticks(x_value,df_zone1.groupby('鄉鎮碼')['法人代碼'].count().sort_values(ascending=False).index,fontproperties=myfont,rotation=45)"
   ]
  },
  {
   "cell_type": "code",
   "execution_count": 39,
   "metadata": {
    "collapsed": true
   },
   "outputs": [
    {
     "data": {
      "text/plain": [
       "([<matplotlib.axis.XTick at 0x1b37178e088>],\n",
       " <a list of 1 Text xticklabel objects>)"
      ]
     },
     "execution_count": 39,
     "metadata": {},
     "output_type": "execute_result"
    },
    {
     "data": {
      "image/png": "[encoded data removed]",
      "text/plain": [
       "<Figure size 360x360 with 1 Axes>"
      ]
     },
     "metadata": {
      "needs_background": "light"
     },
     "output_type": "display_data"
    }
   ],
   "source": [
    "from matplotlib.font_manager import FontProperties\n",
    "myfont = FontProperties(fname=r'C:\\Windows\\Fonts\\msjhbd.ttc')\n",
    "fig = plt.figure(figsize = (5,5))\n",
    "ax1 = fig.add_subplot(111)\n",
    "ax1.set_ylabel('Counts')\n",
    "x_value = np.arange(0,len(df_zone2.groupby('鄉鎮碼')['法人代碼'].count().sort_values(ascending=False).index))\n",
    "bar1 = ax1.bar(1,df_zone2.groupby('鄉鎮碼')['法人代碼'].count().sort_values(ascending=False),alpha=0.7,width=0.35,color='r')\n",
    "\n",
    "ax1.set_xlim([0,2])\n",
    "plt.title('遼陽',fontproperties=myfont,fontsize=20)\n",
    "plt.xticks([1],df_zone2.groupby('鄉鎮碼')['法人代碼'].count().sort_values(ascending=False).index,fontproperties=myfont)"
   ]
  },
  {
   "cell_type": "code",
   "execution_count": 40,
   "metadata": {},
   "outputs": [
    {
     "name": "stdout",
     "output_type": "stream",
     "text": [
      "鄉鎮碼\n",
      "222401006    9\n",
      "Name: 法人代碼, dtype: int64\n"
     ]
    },
    {
     "name": "stderr",
     "output_type": "stream",
     "text": [
      "D:\\Anaconda\\lib\\site-packages\\ipykernel_launcher.py:5: SettingWithCopyWarning: \n",
      "A value is trying to be set on a copy of a slice from a DataFrame.\n",
      "Try using .loc[row_indexer,col_indexer] = value instead\n",
      "\n",
      "See the caveats in the documentation: http://pandas.pydata.org/pandas-docs/stable/user_guide/indexing.html#returning-a-view-versus-a-copy\n",
      "  \"\"\"\n"
     ]
    }
   ],
   "source": [
    "#吉林\n",
    "df = pd.read_excel(r'E:\\paper\\名稱merge\\吉林_結果.xlsx',index_col=0)\n",
    "df.fillna('',inplace=True)\n",
    "df_region = df[df['區域代碼']!='']\n",
    "df_region['鄉鎮碼'] = df_region['區域代碼'].astype(str).map(lambda x:x[0:9])\n",
    "df_zone1 = df_region[df_region['延吉']<1.4]\n",
    "print(df_zone1.groupby('鄉鎮碼')['法人代碼'].count().sort_values(ascending=False))"
   ]
  },
  {
   "cell_type": "code",
   "execution_count": 41,
   "metadata": {
    "collapsed": true
   },
   "outputs": [
    {
     "data": {
      "text/plain": [
       "([<matplotlib.axis.XTick at 0x1b36dd25108>],\n",
       " <a list of 1 Text xticklabel objects>)"
      ]
     },
     "execution_count": 41,
     "metadata": {},
     "output_type": "execute_result"
    },
    {
     "data": {
      "image/png": "[encoded data removed]",
      "text/plain": [
       "<Figure size 360x360 with 1 Axes>"
      ]
     },
     "metadata": {
      "needs_background": "light"
     },
     "output_type": "display_data"
    }
   ],
   "source": [
    "from matplotlib.font_manager import FontProperties\n",
    "myfont = FontProperties(fname=r'C:\\Windows\\Fonts\\msjhbd.ttc')\n",
    "fig = plt.figure(figsize = (5,5))\n",
    "ax1 = fig.add_subplot(111)\n",
    "ax1.set_ylabel('Counts')\n",
    "x_value = np.arange(0,len(df_zone1.groupby('鄉鎮碼')['法人代碼'].count().sort_values(ascending=False).index))\n",
    "bar1 = ax1.bar(1,df_zone1.groupby('鄉鎮碼')['法人代碼'].count().sort_values(ascending=False),alpha=0.7,width=0.35,color='r')\n",
    "\n",
    "ax1.set_xlim([0,2])\n",
    "plt.title('延吉',fontproperties=myfont,fontsize=20)\n",
    "plt.xticks([1],df_zone1.groupby('鄉鎮碼')['法人代碼'].count().sort_values(ascending=False).index,fontproperties=myfont)"
   ]
  },
  {
   "cell_type": "code",
   "execution_count": 42,
   "metadata": {},
   "outputs": [
    {
     "name": "stdout",
     "output_type": "stream",
     "text": [
      "鄉鎮碼\n",
      "230202006    10\n",
      "230202007     2\n",
      "Name: 法人代碼, dtype: int64\n"
     ]
    },
    {
     "name": "stderr",
     "output_type": "stream",
     "text": [
      "D:\\Anaconda\\lib\\site-packages\\ipykernel_launcher.py:5: SettingWithCopyWarning: \n",
      "A value is trying to be set on a copy of a slice from a DataFrame.\n",
      "Try using .loc[row_indexer,col_indexer] = value instead\n",
      "\n",
      "See the caveats in the documentation: http://pandas.pydata.org/pandas-docs/stable/user_guide/indexing.html#returning-a-view-versus-a-copy\n",
      "  \"\"\"\n"
     ]
    }
   ],
   "source": [
    "#黑龍江\n",
    "df = pd.read_excel(r'E:\\paper\\名稱merge\\黑龍江_結果.xlsx',index_col=0)\n",
    "df.fillna('',inplace=True)\n",
    "df_region = df[df['區域代碼']!='']\n",
    "df_region['鄉鎮碼'] = df_region['區域代碼'].astype(str).map(lambda x:x[0:9])\n",
    "df_zone1 = df_region[df_region['齊齊哈爾']<1.1]\n",
    "print(df_zone1.groupby('鄉鎮碼')['法人代碼'].count().sort_values(ascending=False))"
   ]
  },
  {
   "cell_type": "code",
   "execution_count": 46,
   "metadata": {
    "collapsed": true
   },
   "outputs": [
    {
     "data": {
      "text/plain": [
       "([<matplotlib.axis.XTick at 0x1b36dbf9488>,\n",
       "  <matplotlib.axis.XTick at 0x1b36dbf9508>],\n",
       " <a list of 2 Text xticklabel objects>)"
      ]
     },
     "execution_count": 46,
     "metadata": {},
     "output_type": "execute_result"
    },
    {
     "data": {
      "image/png": "[encoded data removed]",
      "text/plain": [
       "<Figure size 360x360 with 1 Axes>"
      ]
     },
     "metadata": {
      "needs_background": "light"
     },
     "output_type": "display_data"
    }
   ],
   "source": [
    "from matplotlib.font_manager import FontProperties\n",
    "myfont = FontProperties(fname=r'C:\\Windows\\Fonts\\msjhbd.ttc')\n",
    "fig = plt.figure(figsize = (5,5))\n",
    "ax1 = fig.add_subplot(111)\n",
    "ax1.set_ylabel('Counts')\n",
    "x_value = np.arange(0,len(df_zone1.groupby('鄉鎮碼')['法人代碼'].count().sort_values(ascending=False).index))\n",
    "bar1 = ax1.bar(x_value,df_zone1.groupby('鄉鎮碼')['法人代碼'].count().sort_values(ascending=False),alpha=0.7,width=0.35,color='r')\n",
    "\n",
    "ax1.set_xlim([-1,2])\n",
    "plt.title('齊齊哈爾',fontproperties=myfont,fontsize=20)\n",
    "plt.xticks(x_value,df_zone1.groupby('鄉鎮碼')['法人代碼'].count().sort_values(ascending=False).index,fontproperties=myfont)"
   ]
  },
  {
   "cell_type": "code",
   "execution_count": 48,
   "metadata": {},
   "outputs": [
    {
     "name": "stdout",
     "output_type": "stream",
     "text": [
      "鄉鎮碼\n",
      "320583100    15\n",
      "320582102     3\n",
      "Name: 法人代碼, dtype: int64\n"
     ]
    },
    {
     "name": "stderr",
     "output_type": "stream",
     "text": [
      "D:\\Anaconda\\lib\\site-packages\\ipykernel_launcher.py:5: SettingWithCopyWarning: \n",
      "A value is trying to be set on a copy of a slice from a DataFrame.\n",
      "Try using .loc[row_indexer,col_indexer] = value instead\n",
      "\n",
      "See the caveats in the documentation: http://pandas.pydata.org/pandas-docs/stable/user_guide/indexing.html#returning-a-view-versus-a-copy\n",
      "  \"\"\"\n"
     ]
    }
   ],
   "source": [
    "#江蘇\n",
    "df = pd.read_excel(r'E:\\paper\\名稱merge\\江蘇_結果.xlsx',index_col=0)\n",
    "df.fillna('',inplace=True)\n",
    "df_region = df[df['區域代碼']!='']\n",
    "df_region['鄉鎮碼'] = df_region['區域代碼'].astype(str).map(lambda x:x[0:9])\n",
    "df_zone1 = df_region[df_region['昆山']<1.7]\n",
    "print(df_zone1.groupby('鄉鎮碼')['法人代碼'].count().sort_values(ascending=False))"
   ]
  },
  {
   "cell_type": "code",
   "execution_count": 49,
   "metadata": {
    "collapsed": true
   },
   "outputs": [
    {
     "data": {
      "text/plain": [
       "([<matplotlib.axis.XTick at 0x1b37fa5a908>,\n",
       "  <matplotlib.axis.XTick at 0x1b372707948>],\n",
       " <a list of 2 Text xticklabel objects>)"
      ]
     },
     "execution_count": 49,
     "metadata": {},
     "output_type": "execute_result"
    },
    {
     "data": {
      "image/png": "[encoded data removed]",
      "text/plain": [
       "<Figure size 360x360 with 1 Axes>"
      ]
     },
     "metadata": {
      "needs_background": "light"
     },
     "output_type": "display_data"
    }
   ],
   "source": [
    "from matplotlib.font_manager import FontProperties\n",
    "myfont = FontProperties(fname=r'C:\\Windows\\Fonts\\msjhbd.ttc')\n",
    "fig = plt.figure(figsize = (5,5))\n",
    "ax1 = fig.add_subplot(111)\n",
    "ax1.set_ylabel('Counts')\n",
    "x_value = np.arange(0,len(df_zone1.groupby('鄉鎮碼')['法人代碼'].count().sort_values(ascending=False).index))\n",
    "bar1 = ax1.bar(x_value,df_zone1.groupby('鄉鎮碼')['法人代碼'].count().sort_values(ascending=False),alpha=0.7,width=0.35,color='r')\n",
    "\n",
    "ax1.set_xlim([-1,2])\n",
    "plt.title('昆山',fontproperties=myfont,fontsize=20)\n",
    "plt.xticks(x_value,df_zone1.groupby('鄉鎮碼')['法人代碼'].count().sort_values(ascending=False).index,fontproperties=myfont)"
   ]
  },
  {
   "cell_type": "code",
   "execution_count": 50,
   "metadata": {},
   "outputs": [
    {
     "name": "stdout",
     "output_type": "stream",
     "text": [
      "鄉鎮碼\n",
      "330602006    28\n",
      "330602007     5\n",
      "330681112     2\n",
      "330621003     1\n",
      "330602106     1\n",
      "330602005     1\n",
      "Name: 法人代碼, dtype: int64\n"
     ]
    },
    {
     "name": "stderr",
     "output_type": "stream",
     "text": [
      "D:\\Anaconda\\lib\\site-packages\\ipykernel_launcher.py:5: SettingWithCopyWarning: \n",
      "A value is trying to be set on a copy of a slice from a DataFrame.\n",
      "Try using .loc[row_indexer,col_indexer] = value instead\n",
      "\n",
      "See the caveats in the documentation: http://pandas.pydata.org/pandas-docs/stable/user_guide/indexing.html#returning-a-view-versus-a-copy\n",
      "  \"\"\"\n"
     ]
    }
   ],
   "source": [
    "#浙江\n",
    "df = pd.read_excel(r'E:\\paper\\名稱merge\\浙江_結果.xlsx',index_col=0)\n",
    "df.fillna('',inplace=True)\n",
    "df_region = df[df['區域代碼']!='']\n",
    "df_region['鄉鎮碼'] = df_region['區域代碼'].astype(str).map(lambda x:x[0:9])\n",
    "df_zone1 = df_region[df_region['紹興']<1.9]\n",
    "print(df_zone1.groupby('鄉鎮碼')['法人代碼'].count().sort_values(ascending=False))"
   ]
  },
  {
   "cell_type": "code",
   "execution_count": 52,
   "metadata": {
    "collapsed": true
   },
   "outputs": [
    {
     "data": {
      "text/plain": [
       "([<matplotlib.axis.XTick at 0x1b36e21d408>,\n",
       "  <matplotlib.axis.XTick at 0x1b379900dc8>,\n",
       "  <matplotlib.axis.XTick at 0x1b37eccfc48>,\n",
       "  <matplotlib.axis.XTick at 0x1b3725b2908>,\n",
       "  <matplotlib.axis.XTick at 0x1b36d987ac8>,\n",
       "  <matplotlib.axis.XTick at 0x1b3724dec08>],\n",
       " <a list of 6 Text xticklabel objects>)"
      ]
     },
     "execution_count": 52,
     "metadata": {},
     "output_type": "execute_result"
    },
    {
     "data": {
      "image/png": "[encoded data removed]",
      "text/plain": [
       "<Figure size 360x360 with 1 Axes>"
      ]
     },
     "metadata": {
      "needs_background": "light"
     },
     "output_type": "display_data"
    }
   ],
   "source": [
    "from matplotlib.font_manager import FontProperties\n",
    "myfont = FontProperties(fname=r'C:\\Windows\\Fonts\\msjhbd.ttc')\n",
    "fig = plt.figure(figsize = (5,5))\n",
    "ax1 = fig.add_subplot(111)\n",
    "ax1.set_ylabel('Counts')\n",
    "x_value = np.arange(0,len(df_zone1.groupby('鄉鎮碼')['法人代碼'].count().sort_values(ascending=False).index))\n",
    "bar1 = ax1.bar(x_value,df_zone1.groupby('鄉鎮碼')['法人代碼'].count().sort_values(ascending=False),alpha=0.7,width=0.35,color='r')\n",
    "\n",
    "plt.title('紹興',fontproperties=myfont,fontsize=20)\n",
    "plt.xticks(x_value,df_zone1.groupby('鄉鎮碼')['法人代碼'].count().sort_values(ascending=False).index,fontproperties=myfont,rotation=45)"
   ]
  },
  {
   "cell_type": "code",
   "execution_count": 53,
   "metadata": {},
   "outputs": [
    {
     "name": "stdout",
     "output_type": "stream",
     "text": [
      "鄉鎮碼\n",
      "340304400    27\n",
      "340304200     3\n",
      "340304003     2\n",
      "340323400     1\n",
      "340304100     1\n",
      "340303200     1\n",
      "Name: 法人代碼, dtype: int64\n",
      "鄉鎮碼\n",
      "340203005    47\n",
      "340203001    12\n",
      "340203006     2\n",
      "340207003     1\n",
      "Name: 法人代碼, dtype: int64\n"
     ]
    },
    {
     "name": "stderr",
     "output_type": "stream",
     "text": [
      "D:\\Anaconda\\lib\\site-packages\\ipykernel_launcher.py:5: SettingWithCopyWarning: \n",
      "A value is trying to be set on a copy of a slice from a DataFrame.\n",
      "Try using .loc[row_indexer,col_indexer] = value instead\n",
      "\n",
      "See the caveats in the documentation: http://pandas.pydata.org/pandas-docs/stable/user_guide/indexing.html#returning-a-view-versus-a-copy\n",
      "  \"\"\"\n"
     ]
    }
   ],
   "source": [
    "#安徽\n",
    "df = pd.read_excel(r'E:\\paper\\名稱merge\\安徽_結果.xlsx',index_col=0)\n",
    "df.fillna('',inplace=True)\n",
    "df_region = df[df['區域代碼']!='']\n",
    "df_region['鄉鎮碼'] = df_region['區域代碼'].astype(str).map(lambda x:x[0:9])\n",
    "df_zone1 = df_region[df_region['蚌埠']<1.5]\n",
    "df_zone2 = df_region[df_region['蕪湖']<1.5]\n",
    "print(df_zone1.groupby('鄉鎮碼')['法人代碼'].count().sort_values(ascending=False))\n",
    "print(df_zone2.groupby('鄉鎮碼')['法人代碼'].count().sort_values(ascending=False))"
   ]
  },
  {
   "cell_type": "code",
   "execution_count": 54,
   "metadata": {
    "collapsed": true
   },
   "outputs": [
    {
     "data": {
      "text/plain": [
       "([<matplotlib.axis.XTick at 0x1b36e36c108>,\n",
       "  <matplotlib.axis.XTick at 0x1b373d9ecc8>,\n",
       "  <matplotlib.axis.XTick at 0x1b373d9ec48>,\n",
       "  <matplotlib.axis.XTick at 0x1b372a7ee48>,\n",
       "  <matplotlib.axis.XTick at 0x1b372afa248>,\n",
       "  <matplotlib.axis.XTick at 0x1b372afaec8>],\n",
       " <a list of 6 Text xticklabel objects>)"
      ]
     },
     "execution_count": 54,
     "metadata": {},
     "output_type": "execute_result"
    },
    {
     "data": {
      "image/png": "[encoded data removed]",
      "text/plain": [
       "<Figure size 360x360 with 1 Axes>"
      ]
     },
     "metadata": {
      "needs_background": "light"
     },
     "output_type": "display_data"
    }
   ],
   "source": [
    "from matplotlib.font_manager import FontProperties\n",
    "myfont = FontProperties(fname=r'C:\\Windows\\Fonts\\msjhbd.ttc')\n",
    "fig = plt.figure(figsize = (5,5))\n",
    "ax1 = fig.add_subplot(111)\n",
    "ax1.set_ylabel('Counts')\n",
    "x_value = np.arange(0,len(df_zone1.groupby('鄉鎮碼')['法人代碼'].count().sort_values(ascending=False).index))\n",
    "bar1 = ax1.bar(x_value,df_zone1.groupby('鄉鎮碼')['法人代碼'].count().sort_values(ascending=False),alpha=0.7,width=0.35,color='r')\n",
    "\n",
    "plt.title('蚌埠',fontproperties=myfont,fontsize=20)\n",
    "plt.xticks(x_value,df_zone1.groupby('鄉鎮碼')['法人代碼'].count().sort_values(ascending=False).index,fontproperties=myfont,rotation=45)"
   ]
  },
  {
   "cell_type": "code",
   "execution_count": 55,
   "metadata": {
    "collapsed": true
   },
   "outputs": [
    {
     "data": {
      "text/plain": [
       "([<matplotlib.axis.XTick at 0x1b374224348>,\n",
       "  <matplotlib.axis.XTick at 0x1b3023263c8>,\n",
       "  <matplotlib.axis.XTick at 0x1b302326d08>,\n",
       "  <matplotlib.axis.XTick at 0x1b37259a288>],\n",
       " <a list of 4 Text xticklabel objects>)"
      ]
     },
     "execution_count": 55,
     "metadata": {},
     "output_type": "execute_result"
    },
    {
     "data": {
      "image/png": "[encoded data removed]",
      "text/plain": [
       "<Figure size 360x360 with 1 Axes>"
      ]
     },
     "metadata": {
      "needs_background": "light"
     },
     "output_type": "display_data"
    }
   ],
   "source": [
    "from matplotlib.font_manager import FontProperties\n",
    "myfont = FontProperties(fname=r'C:\\Windows\\Fonts\\msjhbd.ttc')\n",
    "fig = plt.figure(figsize = (5,5))\n",
    "ax1 = fig.add_subplot(111)\n",
    "ax1.set_ylabel('Counts')\n",
    "x_value = np.arange(0,len(df_zone2.groupby('鄉鎮碼')['法人代碼'].count().sort_values(ascending=False).index))\n",
    "bar1 = ax1.bar(x_value,df_zone2.groupby('鄉鎮碼')['法人代碼'].count().sort_values(ascending=False),alpha=0.7,width=0.35,color='r')\n",
    "\n",
    "plt.title('蕪湖',fontproperties=myfont,fontsize=20)\n",
    "plt.xticks(x_value,df_zone2.groupby('鄉鎮碼')['法人代碼'].count().sort_values(ascending=False).index,fontproperties=myfont,rotation=45)"
   ]
  },
  {
   "cell_type": "code",
   "execution_count": 56,
   "metadata": {},
   "outputs": [
    {
     "name": "stdout",
     "output_type": "stream",
     "text": [
      "鄉鎮碼\n",
      "350502007    29\n",
      "350502006    20\n",
      "350502008    19\n",
      "350502005    11\n",
      "350502400     4\n",
      "350503005     1\n",
      "350502003     1\n",
      "350502002     1\n",
      "Name: 法人代碼, dtype: int64\n"
     ]
    },
    {
     "name": "stderr",
     "output_type": "stream",
     "text": [
      "D:\\Anaconda\\lib\\site-packages\\ipykernel_launcher.py:5: SettingWithCopyWarning: \n",
      "A value is trying to be set on a copy of a slice from a DataFrame.\n",
      "Try using .loc[row_indexer,col_indexer] = value instead\n",
      "\n",
      "See the caveats in the documentation: http://pandas.pydata.org/pandas-docs/stable/user_guide/indexing.html#returning-a-view-versus-a-copy\n",
      "  \"\"\"\n"
     ]
    }
   ],
   "source": [
    "#福建\n",
    "df = pd.read_excel(r'E:\\paper\\名稱merge\\福建_結果.xlsx',index_col=0)\n",
    "df.fillna('',inplace=True)\n",
    "df_region = df[df['區域代碼']!='']\n",
    "df_region['鄉鎮碼'] = df_region['區域代碼'].astype(str).map(lambda x:x[0:9])\n",
    "df_zone1 = df_region[df_region['泉州']<1.7]\n",
    "print(df_zone1.groupby('鄉鎮碼')['法人代碼'].count().sort_values(ascending=False))"
   ]
  },
  {
   "cell_type": "code",
   "execution_count": 57,
   "metadata": {},
   "outputs": [
    {
     "data": {
      "text/plain": [
       "([<matplotlib.axis.XTick at 0x1b306e47e88>,\n",
       "  <matplotlib.axis.XTick at 0x1b37ec8f208>,\n",
       "  <matplotlib.axis.XTick at 0x1b37ec8ff88>,\n",
       "  <matplotlib.axis.XTick at 0x1b31530e0c8>,\n",
       "  <matplotlib.axis.XTick at 0x1b37ec57fc8>,\n",
       "  <matplotlib.axis.XTick at 0x1b36e115e08>,\n",
       "  <matplotlib.axis.XTick at 0x1b36d9c7448>,\n",
       "  <matplotlib.axis.XTick at 0x1b308baf0c8>],\n",
       " <a list of 8 Text xticklabel objects>)"
      ]
     },
     "execution_count": 57,
     "metadata": {},
     "output_type": "execute_result"
    },
    {
     "data": {
      "image/png": "[encoded data removed]",
      "text/plain": [
       "<Figure size 360x360 with 1 Axes>"
      ]
     },
     "metadata": {
      "needs_background": "light"
     },
     "output_type": "display_data"
    }
   ],
   "source": [
    "from matplotlib.font_manager import FontProperties\n",
    "myfont = FontProperties(fname=r'C:\\Windows\\Fonts\\msjhbd.ttc')\n",
    "fig = plt.figure(figsize = (5,5))\n",
    "ax1 = fig.add_subplot(111)\n",
    "ax1.set_ylabel('Counts')\n",
    "x_value = np.arange(0,len(df_zone1.groupby('鄉鎮碼')['法人代碼'].count().sort_values(ascending=False).index))\n",
    "bar1 = ax1.bar(x_value,df_zone1.groupby('鄉鎮碼')['法人代碼'].count().sort_values(ascending=False),alpha=0.7,width=0.35,color='r')\n",
    "\n",
    "plt.title('泉州',fontproperties=myfont,fontsize=20)\n",
    "plt.xticks(x_value,df_zone1.groupby('鄉鎮碼')['法人代碼'].count().sort_values(ascending=False).index,fontproperties=myfont,rotation=45)"
   ]
  },
  {
   "cell_type": "code",
   "execution_count": 58,
   "metadata": {},
   "outputs": [
    {
     "name": "stdout",
     "output_type": "stream",
     "text": [
      "鄉鎮碼\n",
      "360502190    30\n",
      "360502001     1\n",
      "Name: 法人代碼, dtype: int64\n",
      "鄉鎮碼\n",
      "360202290    29\n",
      "360202101     2\n",
      "360202001     2\n",
      "360203400     1\n",
      "360203008     1\n",
      "360202002     1\n",
      "Name: 法人代碼, dtype: int64\n"
     ]
    },
    {
     "name": "stderr",
     "output_type": "stream",
     "text": [
      "D:\\Anaconda\\lib\\site-packages\\ipykernel_launcher.py:5: SettingWithCopyWarning: \n",
      "A value is trying to be set on a copy of a slice from a DataFrame.\n",
      "Try using .loc[row_indexer,col_indexer] = value instead\n",
      "\n",
      "See the caveats in the documentation: http://pandas.pydata.org/pandas-docs/stable/user_guide/indexing.html#returning-a-view-versus-a-copy\n",
      "  \"\"\"\n"
     ]
    }
   ],
   "source": [
    "#江西\n",
    "df = pd.read_excel(r'E:\\paper\\名稱merge\\江西_結果.xlsx',index_col=0)\n",
    "df.fillna('',inplace=True)\n",
    "df_region = df[df['區域代碼']!='']\n",
    "df_region['鄉鎮碼'] = df_region['區域代碼'].astype(str).map(lambda x:x[0:9])\n",
    "df_zone1 = df_region[df_region['新余']<2.1]\n",
    "df_zone2 = df_region[df_region['景德鎮']<2.3]\n",
    "print(df_zone1.groupby('鄉鎮碼')['法人代碼'].count().sort_values(ascending=False))\n",
    "print(df_zone2.groupby('鄉鎮碼')['法人代碼'].count().sort_values(ascending=False))"
   ]
  },
  {
   "cell_type": "code",
   "execution_count": 59,
   "metadata": {
    "collapsed": true
   },
   "outputs": [
    {
     "data": {
      "text/plain": [
       "([<matplotlib.axis.XTick at 0x1b30636c248>,\n",
       "  <matplotlib.axis.XTick at 0x1b31181b788>],\n",
       " <a list of 2 Text xticklabel objects>)"
      ]
     },
     "execution_count": 59,
     "metadata": {},
     "output_type": "execute_result"
    },
    {
     "data": {
      "image/png": "[encoded data removed]",
      "text/plain": [
       "<Figure size 360x360 with 1 Axes>"
      ]
     },
     "metadata": {
      "needs_background": "light"
     },
     "output_type": "display_data"
    }
   ],
   "source": [
    "from matplotlib.font_manager import FontProperties\n",
    "myfont = FontProperties(fname=r'C:\\Windows\\Fonts\\msjhbd.ttc')\n",
    "fig = plt.figure(figsize = (5,5))\n",
    "ax1 = fig.add_subplot(111)\n",
    "ax1.set_ylabel('Counts')\n",
    "x_value = np.arange(0,len(df_zone1.groupby('鄉鎮碼')['法人代碼'].count().sort_values(ascending=False).index))\n",
    "bar1 = ax1.bar(x_value,df_zone1.groupby('鄉鎮碼')['法人代碼'].count().sort_values(ascending=False),alpha=0.7,width=0.35,color='r')\n",
    "\n",
    "ax1.set_xlim([-1,2])\n",
    "plt.title('新余',fontproperties=myfont,fontsize=20)\n",
    "plt.xticks(x_value,df_zone1.groupby('鄉鎮碼')['法人代碼'].count().sort_values(ascending=False).index,fontproperties=myfont)"
   ]
  },
  {
   "cell_type": "code",
   "execution_count": 60,
   "metadata": {
    "collapsed": true
   },
   "outputs": [
    {
     "data": {
      "text/plain": [
       "([<matplotlib.axis.XTick at 0x1b36d9a4388>,\n",
       "  <matplotlib.axis.XTick at 0x1b372a631c8>,\n",
       "  <matplotlib.axis.XTick at 0x1b305cdb508>,\n",
       "  <matplotlib.axis.XTick at 0x1b307031e08>,\n",
       "  <matplotlib.axis.XTick at 0x1b301e8da08>,\n",
       "  <matplotlib.axis.XTick at 0x1b301e8dd88>],\n",
       " <a list of 6 Text xticklabel objects>)"
      ]
     },
     "execution_count": 60,
     "metadata": {},
     "output_type": "execute_result"
    },
    {
     "data": {
      "image/png": "[encoded data removed]",
      "text/plain": [
       "<Figure size 360x360 with 1 Axes>"
      ]
     },
     "metadata": {
      "needs_background": "light"
     },
     "output_type": "display_data"
    }
   ],
   "source": [
    "from matplotlib.font_manager import FontProperties\n",
    "myfont = FontProperties(fname=r'C:\\Windows\\Fonts\\msjhbd.ttc')\n",
    "fig = plt.figure(figsize = (5,5))\n",
    "ax1 = fig.add_subplot(111)\n",
    "ax1.set_ylabel('Counts')\n",
    "x_value = np.arange(0,len(df_zone2.groupby('鄉鎮碼')['法人代碼'].count().sort_values(ascending=False).index))\n",
    "bar1 = ax1.bar(x_value,df_zone2.groupby('鄉鎮碼')['法人代碼'].count().sort_values(ascending=False),alpha=0.7,width=0.35,color='r')\n",
    "\n",
    "plt.title('景德鎮',fontproperties=myfont,fontsize=20)\n",
    "plt.xticks(x_value,df_zone2.groupby('鄉鎮碼')['法人代碼'].count().sort_values(ascending=False).index,fontproperties=myfont,rotation=45)"
   ]
  },
  {
   "cell_type": "code",
   "execution_count": 61,
   "metadata": {},
   "outputs": [
    {
     "name": "stdout",
     "output_type": "stream",
     "text": [
      "鄉鎮碼\n",
      "370811004    31\n",
      "370811003     4\n",
      "370811010     1\n",
      "370811009     1\n",
      "370811008     1\n",
      "370811005     1\n",
      "370802006     1\n",
      "Name: 法人代碼, dtype: int64\n",
      "鄉鎮碼\n",
      "370613007    19\n",
      "370613002     1\n",
      "Name: 法人代碼, dtype: int64\n"
     ]
    },
    {
     "name": "stderr",
     "output_type": "stream",
     "text": [
      "D:\\Anaconda\\lib\\site-packages\\ipykernel_launcher.py:5: SettingWithCopyWarning: \n",
      "A value is trying to be set on a copy of a slice from a DataFrame.\n",
      "Try using .loc[row_indexer,col_indexer] = value instead\n",
      "\n",
      "See the caveats in the documentation: http://pandas.pydata.org/pandas-docs/stable/user_guide/indexing.html#returning-a-view-versus-a-copy\n",
      "  \"\"\"\n"
     ]
    }
   ],
   "source": [
    "#山東\n",
    "df = pd.read_excel(r'E:\\paper\\名稱merge\\山東_結果.xlsx',index_col=0)\n",
    "df.fillna('',inplace=True)\n",
    "df_region = df[df['區域代碼']!='']\n",
    "df_region['鄉鎮碼'] = df_region['區域代碼'].astype(str).map(lambda x:x[0:9])\n",
    "df_zone1 = df_region[df_region['濟寧']<1.8]\n",
    "df_zone2 = df_region[df_region['煙台']<2.2]\n",
    "print(df_zone1.groupby('鄉鎮碼')['法人代碼'].count().sort_values(ascending=False))\n",
    "print(df_zone2.groupby('鄉鎮碼')['法人代碼'].count().sort_values(ascending=False))"
   ]
  },
  {
   "cell_type": "code",
   "execution_count": 63,
   "metadata": {
    "collapsed": true
   },
   "outputs": [
    {
     "data": {
      "text/plain": [
       "([<matplotlib.axis.XTick at 0x1b301096f88>,\n",
       "  <matplotlib.axis.XTick at 0x1b373cb2f88>,\n",
       "  <matplotlib.axis.XTick at 0x1b3010321c8>,\n",
       "  <matplotlib.axis.XTick at 0x1b3058a4a08>,\n",
       "  <matplotlib.axis.XTick at 0x1b37a6e2a08>,\n",
       "  <matplotlib.axis.XTick at 0x1b37a6e2088>,\n",
       "  <matplotlib.axis.XTick at 0x1b3110a2308>],\n",
       " <a list of 7 Text xticklabel objects>)"
      ]
     },
     "execution_count": 63,
     "metadata": {},
     "output_type": "execute_result"
    },
    {
     "data": {
      "image/png": "[encoded data removed]",
      "text/plain": [
       "<Figure size 360x360 with 1 Axes>"
      ]
     },
     "metadata": {
      "needs_background": "light"
     },
     "output_type": "display_data"
    }
   ],
   "source": [
    "from matplotlib.font_manager import FontProperties\n",
    "myfont = FontProperties(fname=r'C:\\Windows\\Fonts\\msjhbd.ttc')\n",
    "fig = plt.figure(figsize = (5,5))\n",
    "ax1 = fig.add_subplot(111)\n",
    "ax1.set_ylabel('Counts')\n",
    "x_value = np.arange(0,len(df_zone1.groupby('鄉鎮碼')['法人代碼'].count().sort_values(ascending=False).index))\n",
    "bar1 = ax1.bar(x_value,df_zone1.groupby('鄉鎮碼')['法人代碼'].count().sort_values(ascending=False),alpha=0.7,width=0.35,color='r')\n",
    "\n",
    "plt.title('濟寧',fontproperties=myfont,fontsize=20)\n",
    "plt.xticks(x_value,df_zone1.groupby('鄉鎮碼')['法人代碼'].count().sort_values(ascending=False).index,fontproperties=myfont,rotation=45)"
   ]
  },
  {
   "cell_type": "code",
   "execution_count": 64,
   "metadata": {
    "collapsed": true
   },
   "outputs": [
    {
     "data": {
      "text/plain": [
       "([<matplotlib.axis.XTick at 0x1b3117673c8>,\n",
       "  <matplotlib.axis.XTick at 0x1b311767f88>],\n",
       " <a list of 2 Text xticklabel objects>)"
      ]
     },
     "execution_count": 64,
     "metadata": {},
     "output_type": "execute_result"
    },
    {
     "data": {
      "image/png": "[encoded data removed]",
      "text/plain": [
       "<Figure size 360x360 with 1 Axes>"
      ]
     },
     "metadata": {
      "needs_background": "light"
     },
     "output_type": "display_data"
    }
   ],
   "source": [
    "from matplotlib.font_manager import FontProperties\n",
    "myfont = FontProperties(fname=r'C:\\Windows\\Fonts\\msjhbd.ttc')\n",
    "fig = plt.figure(figsize = (5,5))\n",
    "ax1 = fig.add_subplot(111)\n",
    "ax1.set_ylabel('Counts')\n",
    "x_value = np.arange(0,len(df_zone2.groupby('鄉鎮碼')['法人代碼'].count().sort_values(ascending=False).index))\n",
    "bar1 = ax1.bar(x_value,df_zone2.groupby('鄉鎮碼')['法人代碼'].count().sort_values(ascending=False),alpha=0.7,width=0.35,color='r')\n",
    "\n",
    "ax1.set_xlim([-1,2])\n",
    "plt.title('煙台',fontproperties=myfont,fontsize=20)\n",
    "plt.xticks(x_value,df_zone2.groupby('鄉鎮碼')['法人代碼'].count().sort_values(ascending=False).index,fontproperties=myfont)"
   ]
  },
  {
   "cell_type": "code",
   "execution_count": 67,
   "metadata": {},
   "outputs": [
    {
     "name": "stdout",
     "output_type": "stream",
     "text": [
      "鄉鎮碼\n",
      "410502564    13\n",
      "410502563     4\n",
      "410522204     1\n",
      "410502101     1\n",
      "410502012     1\n",
      "Name: 法人代碼, dtype: int64\n",
      "鄉鎮碼\n",
      "411303060    8\n",
      "411303061    2\n",
      "411303002    2\n",
      "411302301    2\n",
      "411322002    1\n",
      "411303306    1\n",
      "411303305    1\n",
      "411303007    1\n",
      "411303005    1\n",
      "411302302    1\n",
      "411302104    1\n",
      "411302001    1\n",
      "Name: 法人代碼, dtype: int64\n"
     ]
    },
    {
     "name": "stderr",
     "output_type": "stream",
     "text": [
      "D:\\Anaconda\\lib\\site-packages\\ipykernel_launcher.py:5: SettingWithCopyWarning: \n",
      "A value is trying to be set on a copy of a slice from a DataFrame.\n",
      "Try using .loc[row_indexer,col_indexer] = value instead\n",
      "\n",
      "See the caveats in the documentation: http://pandas.pydata.org/pandas-docs/stable/user_guide/indexing.html#returning-a-view-versus-a-copy\n",
      "  \"\"\"\n"
     ]
    }
   ],
   "source": [
    "#河南\n",
    "df = pd.read_excel(r'E:\\paper\\名稱merge\\河南_結果.xlsx',index_col=0)\n",
    "df.fillna('',inplace=True)\n",
    "df_region = df[df['區域代碼']!='']\n",
    "df_region['鄉鎮碼'] = df_region['區域代碼'].astype(str).map(lambda x:x[0:9])\n",
    "df_zone1 = df_region[df_region['安陽']<1.4]\n",
    "df_zone2 = df_region[df_region['南陽']<1.8]\n",
    "print(df_zone1.groupby('鄉鎮碼')['法人代碼'].count().sort_values(ascending=False))\n",
    "print(df_zone2.groupby('鄉鎮碼')['法人代碼'].count().sort_values(ascending=False))"
   ]
  },
  {
   "cell_type": "code",
   "execution_count": 68,
   "metadata": {
    "collapsed": true
   },
   "outputs": [
    {
     "data": {
      "text/plain": [
       "([<matplotlib.axis.XTick at 0x1b336de7088>,\n",
       "  <matplotlib.axis.XTick at 0x1b372b44788>,\n",
       "  <matplotlib.axis.XTick at 0x1b372b444c8>,\n",
       "  <matplotlib.axis.XTick at 0x1b30232e2c8>,\n",
       "  <matplotlib.axis.XTick at 0x1b37259e988>],\n",
       " <a list of 5 Text xticklabel objects>)"
      ]
     },
     "execution_count": 68,
     "metadata": {},
     "output_type": "execute_result"
    },
    {
     "data": {
      "image/png": "[encoded data removed]",
      "text/plain": [
       "<Figure size 360x360 with 1 Axes>"
      ]
     },
     "metadata": {
      "needs_background": "light"
     },
     "output_type": "display_data"
    }
   ],
   "source": [
    "from matplotlib.font_manager import FontProperties\n",
    "myfont = FontProperties(fname=r'C:\\Windows\\Fonts\\msjhbd.ttc')\n",
    "fig = plt.figure(figsize = (5,5))\n",
    "ax1 = fig.add_subplot(111)\n",
    "ax1.set_ylabel('Counts')\n",
    "x_value = np.arange(0,len(df_zone1.groupby('鄉鎮碼')['法人代碼'].count().sort_values(ascending=False).index))\n",
    "bar1 = ax1.bar(x_value,df_zone1.groupby('鄉鎮碼')['法人代碼'].count().sort_values(ascending=False),alpha=0.7,width=0.35,color='r')\n",
    "\n",
    "plt.title('安陽',fontproperties=myfont,fontsize=20)\n",
    "plt.xticks(x_value,df_zone1.groupby('鄉鎮碼')['法人代碼'].count().sort_values(ascending=False).index,fontproperties=myfont,rotation=45)"
   ]
  },
  {
   "cell_type": "code",
   "execution_count": 69,
   "metadata": {
    "collapsed": true
   },
   "outputs": [
    {
     "data": {
      "text/plain": [
       "([<matplotlib.axis.XTick at 0x1b307092748>,\n",
       "  <matplotlib.axis.XTick at 0x1b372702408>,\n",
       "  <matplotlib.axis.XTick at 0x1b372702fc8>,\n",
       "  <matplotlib.axis.XTick at 0x1b37c28af88>,\n",
       "  <matplotlib.axis.XTick at 0x1b37c28ae88>,\n",
       "  <matplotlib.axis.XTick at 0x1b37c28a408>,\n",
       "  <matplotlib.axis.XTick at 0x1b3729a9588>,\n",
       "  <matplotlib.axis.XTick at 0x1b37c28ac88>,\n",
       "  <matplotlib.axis.XTick at 0x1b3729a2ac8>,\n",
       "  <matplotlib.axis.XTick at 0x1b372ae8448>,\n",
       "  <matplotlib.axis.XTick at 0x1b372ae8ac8>,\n",
       "  <matplotlib.axis.XTick at 0x1b373d93b48>],\n",
       " <a list of 12 Text xticklabel objects>)"
      ]
     },
     "execution_count": 69,
     "metadata": {},
     "output_type": "execute_result"
    },
    {
     "data": {
      "image/png": "[encoded data removed]",
      "text/plain": [
       "<Figure size 360x360 with 1 Axes>"
      ]
     },
     "metadata": {
      "needs_background": "light"
     },
     "output_type": "display_data"
    }
   ],
   "source": [
    "from matplotlib.font_manager import FontProperties\n",
    "myfont = FontProperties(fname=r'C:\\Windows\\Fonts\\msjhbd.ttc')\n",
    "fig = plt.figure(figsize = (5,5))\n",
    "ax1 = fig.add_subplot(111)\n",
    "ax1.set_ylabel('Counts')\n",
    "x_value = np.arange(0,len(df_zone2.groupby('鄉鎮碼')['法人代碼'].count().sort_values(ascending=False).index))\n",
    "bar1 = ax1.bar(x_value,df_zone2.groupby('鄉鎮碼')['法人代碼'].count().sort_values(ascending=False),alpha=0.7,width=0.35,color='r')\n",
    "\n",
    "plt.title('南陽',fontproperties=myfont,fontsize=20)\n",
    "plt.xticks(x_value,df_zone2.groupby('鄉鎮碼')['法人代碼'].count().sort_values(ascending=False).index,fontproperties=myfont,rotation=45)"
   ]
  },
  {
   "cell_type": "code",
   "execution_count": 70,
   "metadata": {},
   "outputs": [
    {
     "name": "stdout",
     "output_type": "stream",
     "text": [
      "鄉鎮碼\n",
      "420502071    15\n",
      "420583102     1\n",
      "420506002     1\n",
      "420505001     1\n",
      "420502201     1\n",
      "Name: 法人代碼, dtype: int64\n"
     ]
    },
    {
     "name": "stderr",
     "output_type": "stream",
     "text": [
      "D:\\Anaconda\\lib\\site-packages\\ipykernel_launcher.py:5: SettingWithCopyWarning: \n",
      "A value is trying to be set on a copy of a slice from a DataFrame.\n",
      "Try using .loc[row_indexer,col_indexer] = value instead\n",
      "\n",
      "See the caveats in the documentation: http://pandas.pydata.org/pandas-docs/stable/user_guide/indexing.html#returning-a-view-versus-a-copy\n",
      "  \"\"\"\n"
     ]
    }
   ],
   "source": [
    "#湖北\n",
    "df = pd.read_excel(r'E:\\paper\\名稱merge\\湖北_結果.xlsx',index_col=0)\n",
    "df.fillna('',inplace=True)\n",
    "df_region = df[df['區域代碼']!='']\n",
    "df_region['鄉鎮碼'] = df_region['區域代碼'].astype(str).map(lambda x:x[0:9])\n",
    "df_zone1 = df_region[df_region['宜昌']<1.5]\n",
    "print(df_zone1.groupby('鄉鎮碼')['法人代碼'].count().sort_values(ascending=False))"
   ]
  },
  {
   "cell_type": "code",
   "execution_count": 72,
   "metadata": {
    "collapsed": true
   },
   "outputs": [
    {
     "data": {
      "text/plain": [
       "([<matplotlib.axis.XTick at 0x1b3726f74c8>,\n",
       "  <matplotlib.axis.XTick at 0x1b3110afac8>,\n",
       "  <matplotlib.axis.XTick at 0x1b3110af548>,\n",
       "  <matplotlib.axis.XTick at 0x1b309467b48>,\n",
       "  <matplotlib.axis.XTick at 0x1b309467dc8>],\n",
       " <a list of 5 Text xticklabel objects>)"
      ]
     },
     "execution_count": 72,
     "metadata": {},
     "output_type": "execute_result"
    },
    {
     "data": {
      "image/png": "[encoded data removed]",
      "text/plain": [
       "<Figure size 360x360 with 1 Axes>"
      ]
     },
     "metadata": {
      "needs_background": "light"
     },
     "output_type": "display_data"
    }
   ],
   "source": [
    "from matplotlib.font_manager import FontProperties\n",
    "myfont = FontProperties(fname=r'C:\\Windows\\Fonts\\msjhbd.ttc')\n",
    "fig = plt.figure(figsize = (5,5))\n",
    "ax1 = fig.add_subplot(111)\n",
    "ax1.set_ylabel('Counts')\n",
    "x_value = np.arange(0,len(df_zone1.groupby('鄉鎮碼')['法人代碼'].count().sort_values(ascending=False).index))\n",
    "bar1 = ax1.bar(x_value,df_zone1.groupby('鄉鎮碼')['法人代碼'].count().sort_values(ascending=False),alpha=0.7,width=0.35,color='r')\n",
    "\n",
    "plt.title('宜昌',fontproperties=myfont,fontsize=20)\n",
    "plt.xticks(x_value,df_zone1.groupby('鄉鎮碼')['法人代碼'].count().sort_values(ascending=False).index,fontproperties=myfont,rotation=45)"
   ]
  },
  {
   "cell_type": "code",
   "execution_count": 75,
   "metadata": {},
   "outputs": [
    {
     "name": "stdout",
     "output_type": "stream",
     "text": [
      "鄉鎮碼\n",
      "441901401    23\n",
      "441901121     2\n",
      "441901113     2\n",
      "441901115     1\n",
      "Name: 法人代碼, dtype: int64\n",
      "鄉鎮碼\n",
      "441284450    35\n",
      "Name: 法人代碼, dtype: int64\n",
      "鄉鎮碼\n",
      "440704004    28\n",
      "440705109     1\n",
      "Name: 法人代碼, dtype: int64\n"
     ]
    },
    {
     "name": "stderr",
     "output_type": "stream",
     "text": [
      "D:\\Anaconda\\lib\\site-packages\\ipykernel_launcher.py:5: SettingWithCopyWarning: \n",
      "A value is trying to be set on a copy of a slice from a DataFrame.\n",
      "Try using .loc[row_indexer,col_indexer] = value instead\n",
      "\n",
      "See the caveats in the documentation: http://pandas.pydata.org/pandas-docs/stable/user_guide/indexing.html#returning-a-view-versus-a-copy\n",
      "  \"\"\"\n"
     ]
    }
   ],
   "source": [
    "#廣東\n",
    "df = pd.read_excel(r'E:\\paper\\名稱merge\\廣東_結果.xlsx',index_col=0)\n",
    "df.fillna('',inplace=True)\n",
    "df_region = df[df['區域代碼']!='']\n",
    "df_region['鄉鎮碼'] = df_region['區域代碼'].astype(str).map(lambda x:x[0:9])\n",
    "df_zone1 = df_region[df_region['東莞松山湖']<1.9]\n",
    "df_zone2 = df_region[df_region['肇慶']<2.8]\n",
    "df_zone3 = df_region[df_region['江門']<2.1]\n",
    "print(df_zone1.groupby('鄉鎮碼')['法人代碼'].count().sort_values(ascending=False))\n",
    "print(df_zone2.groupby('鄉鎮碼')['法人代碼'].count().sort_values(ascending=False))\n",
    "print(df_zone3.groupby('鄉鎮碼')['法人代碼'].count().sort_values(ascending=False))"
   ]
  },
  {
   "cell_type": "code",
   "execution_count": 76,
   "metadata": {
    "collapsed": true
   },
   "outputs": [
    {
     "data": {
      "text/plain": [
       "([<matplotlib.axis.XTick at 0x1b3040b8bc8>,\n",
       "  <matplotlib.axis.XTick at 0x1b3729bf208>,\n",
       "  <matplotlib.axis.XTick at 0x1b30689fa88>,\n",
       "  <matplotlib.axis.XTick at 0x1b3013c5ac8>],\n",
       " <a list of 4 Text xticklabel objects>)"
      ]
     },
     "execution_count": 76,
     "metadata": {},
     "output_type": "execute_result"
    },
    {
     "data": {
      "image/png": "[encoded data removed]",
      "text/plain": [
       "<Figure size 360x360 with 1 Axes>"
      ]
     },
     "metadata": {
      "needs_background": "light"
     },
     "output_type": "display_data"
    }
   ],
   "source": [
    "from matplotlib.font_manager import FontProperties\n",
    "myfont = FontProperties(fname=r'C:\\Windows\\Fonts\\msjhbd.ttc')\n",
    "fig = plt.figure(figsize = (5,5))\n",
    "ax1 = fig.add_subplot(111)\n",
    "ax1.set_ylabel('Counts')\n",
    "x_value = np.arange(0,len(df_zone1.groupby('鄉鎮碼')['法人代碼'].count().sort_values(ascending=False).index))\n",
    "bar1 = ax1.bar(x_value,df_zone1.groupby('鄉鎮碼')['法人代碼'].count().sort_values(ascending=False),alpha=0.7,width=0.35,color='r')\n",
    "\n",
    "plt.title('東莞松山湖',fontproperties=myfont,fontsize=20)\n",
    "plt.xticks(x_value,df_zone1.groupby('鄉鎮碼')['法人代碼'].count().sort_values(ascending=False).index,fontproperties=myfont,rotation=45)"
   ]
  },
  {
   "cell_type": "code",
   "execution_count": 78,
   "metadata": {
    "collapsed": true
   },
   "outputs": [
    {
     "data": {
      "text/plain": [
       "([<matplotlib.axis.XTick at 0x1b301bd60c8>],\n",
       " <a list of 1 Text xticklabel objects>)"
      ]
     },
     "execution_count": 78,
     "metadata": {},
     "output_type": "execute_result"
    },
    {
     "data": {
      "image/png": "[encoded data removed]",
      "text/plain": [
       "<Figure size 360x360 with 1 Axes>"
      ]
     },
     "metadata": {
      "needs_background": "light"
     },
     "output_type": "display_data"
    }
   ],
   "source": [
    "from matplotlib.font_manager import FontProperties\n",
    "myfont = FontProperties(fname=r'C:\\Windows\\Fonts\\msjhbd.ttc')\n",
    "fig = plt.figure(figsize = (5,5))\n",
    "ax1 = fig.add_subplot(111)\n",
    "ax1.set_ylabel('Counts')\n",
    "x_value = np.arange(0,len(df_zone2.groupby('鄉鎮碼')['法人代碼'].count().sort_values(ascending=False).index))\n",
    "bar1 = ax1.bar(x_value,df_zone2.groupby('鄉鎮碼')['法人代碼'].count().sort_values(ascending=False),alpha=0.7,width=0.35,color='r')\n",
    "\n",
    "ax1.set_xlim([-1,1])\n",
    "plt.title('肇慶',fontproperties=myfont,fontsize=20)\n",
    "plt.xticks(x_value,df_zone2.groupby('鄉鎮碼')['法人代碼'].count().sort_values(ascending=False).index,fontproperties=myfont)"
   ]
  },
  {
   "cell_type": "code",
   "execution_count": 80,
   "metadata": {
    "collapsed": true
   },
   "outputs": [
    {
     "data": {
      "text/plain": [
       "([<matplotlib.axis.XTick at 0x1b301d814c8>,\n",
       "  <matplotlib.axis.XTick at 0x1b30a3b5a48>],\n",
       " <a list of 2 Text xticklabel objects>)"
      ]
     },
     "execution_count": 80,
     "metadata": {},
     "output_type": "execute_result"
    },
    {
     "data": {
      "image/png": "[encoded data removed]",
      "text/plain": [
       "<Figure size 360x360 with 1 Axes>"
      ]
     },
     "metadata": {
      "needs_background": "light"
     },
     "output_type": "display_data"
    }
   ],
   "source": [
    "from matplotlib.font_manager import FontProperties\n",
    "myfont = FontProperties(fname=r'C:\\Windows\\Fonts\\msjhbd.ttc')\n",
    "fig = plt.figure(figsize = (5,5))\n",
    "ax1 = fig.add_subplot(111)\n",
    "ax1.set_ylabel('Counts')\n",
    "x_value = np.arange(0,len(df_zone3.groupby('鄉鎮碼')['法人代碼'].count().sort_values(ascending=False).index))\n",
    "bar1 = ax1.bar(x_value,df_zone3.groupby('鄉鎮碼')['法人代碼'].count().sort_values(ascending=False),alpha=0.7,width=0.35,color='r')\n",
    "\n",
    "ax1.set_xlim([-1,2])\n",
    "plt.title('江門',fontproperties=myfont,fontsize=20)\n",
    "plt.xticks(x_value,df_zone3.groupby('鄉鎮碼')['法人代碼'].count().sort_values(ascending=False).index,fontproperties=myfont)"
   ]
  },
  {
   "cell_type": "code",
   "execution_count": 84,
   "metadata": {},
   "outputs": [
    {
     "name": "stdout",
     "output_type": "stream",
     "text": [
      "鄉鎮碼\n",
      "450221100    1\n",
      "450202005    1\n",
      "Name: 法人代碼, dtype: int64\n"
     ]
    },
    {
     "name": "stderr",
     "output_type": "stream",
     "text": [
      "D:\\Anaconda\\lib\\site-packages\\ipykernel_launcher.py:5: SettingWithCopyWarning: \n",
      "A value is trying to be set on a copy of a slice from a DataFrame.\n",
      "Try using .loc[row_indexer,col_indexer] = value instead\n",
      "\n",
      "See the caveats in the documentation: http://pandas.pydata.org/pandas-docs/stable/user_guide/indexing.html#returning-a-view-versus-a-copy\n",
      "  \"\"\"\n"
     ]
    }
   ],
   "source": [
    "#廣西\n",
    "df = pd.read_excel(r'E:\\paper\\名稱merge\\廣西_結果.xlsx',index_col=0)\n",
    "df.fillna('',inplace=True)\n",
    "df_region = df[df['區域代碼']!='']\n",
    "df_region['鄉鎮碼'] = df_region['區域代碼'].astype(str).map(lambda x:x[0:9])\n",
    "df_zone1 = df_region[df_region['柳州']<0.7]\n",
    "print(df_zone1.groupby('鄉鎮碼')['法人代碼'].count().sort_values(ascending=False))"
   ]
  },
  {
   "cell_type": "code",
   "execution_count": 86,
   "metadata": {
    "collapsed": true
   },
   "outputs": [
    {
     "data": {
      "text/plain": [
       "([<matplotlib.axis.XTick at 0x1b36db222c8>,\n",
       "  <matplotlib.axis.XTick at 0x1b30f0212c8>],\n",
       " <a list of 2 Text xticklabel objects>)"
      ]
     },
     "execution_count": 86,
     "metadata": {},
     "output_type": "execute_result"
    },
    {
     "data": {
      "image/png": "[encoded data removed]",
      "text/plain": [
       "<Figure size 360x360 with 1 Axes>"
      ]
     },
     "metadata": {
      "needs_background": "light"
     },
     "output_type": "display_data"
    }
   ],
   "source": [
    "from matplotlib.font_manager import FontProperties\n",
    "myfont = FontProperties(fname=r'C:\\Windows\\Fonts\\msjhbd.ttc')\n",
    "fig = plt.figure(figsize = (5,5))\n",
    "ax1 = fig.add_subplot(111)\n",
    "ax1.set_ylabel('Counts')\n",
    "x_value = np.arange(0,len(df_zone1.groupby('鄉鎮碼')['法人代碼'].count().sort_values(ascending=False).index))\n",
    "bar1 = ax1.bar(x_value,df_zone1.groupby('鄉鎮碼')['法人代碼'].count().sort_values(ascending=False),alpha=0.7,width=0.35,color='r')\n",
    "\n",
    "ax1.set_xlim([-1,2])\n",
    "plt.title('柳州',fontproperties=myfont,fontsize=20)\n",
    "plt.xticks(x_value,df_zone1.groupby('鄉鎮碼')['法人代碼'].count().sort_values(ascending=False).index,fontproperties=myfont)"
   ]
  },
  {
   "cell_type": "code",
   "execution_count": 87,
   "metadata": {},
   "outputs": [
    {
     "name": "stdout",
     "output_type": "stream",
     "text": [
      "鄉鎮碼\n",
      "610502008    14\n",
      "610502007     6\n",
      "610502106     3\n",
      "610115003     2\n",
      "Name: 法人代碼, dtype: int64\n"
     ]
    },
    {
     "name": "stderr",
     "output_type": "stream",
     "text": [
      "D:\\Anaconda\\lib\\site-packages\\ipykernel_launcher.py:5: SettingWithCopyWarning: \n",
      "A value is trying to be set on a copy of a slice from a DataFrame.\n",
      "Try using .loc[row_indexer,col_indexer] = value instead\n",
      "\n",
      "See the caveats in the documentation: http://pandas.pydata.org/pandas-docs/stable/user_guide/indexing.html#returning-a-view-versus-a-copy\n",
      "  \"\"\"\n"
     ]
    }
   ],
   "source": [
    "#陝西\n",
    "df = pd.read_excel(r'E:\\paper\\名稱merge\\陝西_結果.xlsx',index_col=0)\n",
    "df.fillna('',inplace=True)\n",
    "df_region = df[df['區域代碼']!='']\n",
    "df_region['鄉鎮碼'] = df_region['區域代碼'].astype(str).map(lambda x:x[0:9])\n",
    "df_zone1 = df_region[df_region['渭南']<2.2]\n",
    "print(df_zone1.groupby('鄉鎮碼')['法人代碼'].count().sort_values(ascending=False))"
   ]
  },
  {
   "cell_type": "code",
   "execution_count": 88,
   "metadata": {
    "collapsed": true
   },
   "outputs": [
    {
     "data": {
      "text/plain": [
       "([<matplotlib.axis.XTick at 0x1b311174dc8>,\n",
       "  <matplotlib.axis.XTick at 0x1b327342208>,\n",
       "  <matplotlib.axis.XTick at 0x1b3273420c8>,\n",
       "  <matplotlib.axis.XTick at 0x1b32a328908>],\n",
       " <a list of 4 Text xticklabel objects>)"
      ]
     },
     "execution_count": 88,
     "metadata": {},
     "output_type": "execute_result"
    },
    {
     "data": {
      "image/png": "[encoded data removed]",
      "text/plain": [
       "<Figure size 360x360 with 1 Axes>"
      ]
     },
     "metadata": {
      "needs_background": "light"
     },
     "output_type": "display_data"
    }
   ],
   "source": [
    "from matplotlib.font_manager import FontProperties\n",
    "myfont = FontProperties(fname=r'C:\\Windows\\Fonts\\msjhbd.ttc')\n",
    "fig = plt.figure(figsize = (5,5))\n",
    "ax1 = fig.add_subplot(111)\n",
    "ax1.set_ylabel('Counts')\n",
    "x_value = np.arange(0,len(df_zone1.groupby('鄉鎮碼')['法人代碼'].count().sort_values(ascending=False).index))\n",
    "bar1 = ax1.bar(x_value,df_zone1.groupby('鄉鎮碼')['法人代碼'].count().sort_values(ascending=False),alpha=0.7,width=0.35,color='r')\n",
    "\n",
    "plt.title('渭南',fontproperties=myfont,fontsize=20)\n",
    "plt.xticks(x_value,df_zone1.groupby('鄉鎮碼')['法人代碼'].count().sort_values(ascending=False).index,fontproperties=myfont,rotation=45)"
   ]
  },
  {
   "cell_type": "code",
   "execution_count": 89,
   "metadata": {},
   "outputs": [
    {
     "name": "stdout",
     "output_type": "stream",
     "text": [
      "鄉鎮碼\n",
      "620402005    13\n",
      "620402002     5\n",
      "620402102     1\n",
      "620402004     1\n",
      "620402003     1\n",
      "Name: 法人代碼, dtype: int64\n"
     ]
    },
    {
     "name": "stderr",
     "output_type": "stream",
     "text": [
      "D:\\Anaconda\\lib\\site-packages\\ipykernel_launcher.py:5: SettingWithCopyWarning: \n",
      "A value is trying to be set on a copy of a slice from a DataFrame.\n",
      "Try using .loc[row_indexer,col_indexer] = value instead\n",
      "\n",
      "See the caveats in the documentation: http://pandas.pydata.org/pandas-docs/stable/user_guide/indexing.html#returning-a-view-versus-a-copy\n",
      "  \"\"\"\n"
     ]
    }
   ],
   "source": [
    "#甘肅\n",
    "df = pd.read_excel(r'E:\\paper\\名稱merge\\甘肅_結果.xlsx',index_col=0)\n",
    "df.fillna('',inplace=True)\n",
    "df_region = df[df['區域代碼']!='']\n",
    "df_region['鄉鎮碼'] = df_region['區域代碼'].astype(str).map(lambda x:x[0:9])\n",
    "df_zone1 = df_region[df_region['白銀']<1.7]\n",
    "print(df_zone1.groupby('鄉鎮碼')['法人代碼'].count().sort_values(ascending=False))"
   ]
  },
  {
   "cell_type": "code",
   "execution_count": 91,
   "metadata": {},
   "outputs": [
    {
     "data": {
      "text/plain": [
       "([<matplotlib.axis.XTick at 0x1b3057f6588>,\n",
       "  <matplotlib.axis.XTick at 0x1b30073ab08>,\n",
       "  <matplotlib.axis.XTick at 0x1b30073a848>,\n",
       "  <matplotlib.axis.XTick at 0x1b322f456c8>,\n",
       "  <matplotlib.axis.XTick at 0x1b3069645c8>],\n",
       " <a list of 5 Text xticklabel objects>)"
      ]
     },
     "execution_count": 91,
     "metadata": {},
     "output_type": "execute_result"
    },
    {
     "data": {
      "image/png": "[encoded data removed]",
      "text/plain": [
       "<Figure size 360x360 with 1 Axes>"
      ]
     },
     "metadata": {
      "needs_background": "light"
     },
     "output_type": "display_data"
    }
   ],
   "source": [
    "from matplotlib.font_manager import FontProperties\n",
    "myfont = FontProperties(fname=r'C:\\Windows\\Fonts\\msjhbd.ttc')\n",
    "fig = plt.figure(figsize = (5,5))\n",
    "ax1 = fig.add_subplot(111)\n",
    "ax1.set_ylabel('Counts')\n",
    "x_value = np.arange(0,len(df_zone1.groupby('鄉鎮碼')['法人代碼'].count().sort_values(ascending=False).index))\n",
    "bar1 = ax1.bar(x_value,df_zone1.groupby('鄉鎮碼')['法人代碼'].count().sort_values(ascending=False),alpha=0.7,width=0.35,color='r')\n",
    "\n",
    "plt.title('白銀',fontproperties=myfont,fontsize=20)\n",
    "plt.xticks(x_value,df_zone1.groupby('鄉鎮碼')['法人代碼'].count().sort_values(ascending=False).index,fontproperties=myfont,rotation=45)"
   ]
  },
  {
   "cell_type": "code",
   "execution_count": 92,
   "metadata": {},
   "outputs": [
    {
     "name": "stdout",
     "output_type": "stream",
     "text": [
      "鄉鎮碼\n",
      "630105101    1\n",
      "630105003    1\n",
      "630105002    1\n",
      "630105001    1\n",
      "Name: 法人代碼, dtype: int64\n"
     ]
    },
    {
     "name": "stderr",
     "output_type": "stream",
     "text": [
      "D:\\Anaconda\\lib\\site-packages\\ipykernel_launcher.py:5: SettingWithCopyWarning: \n",
      "A value is trying to be set on a copy of a slice from a DataFrame.\n",
      "Try using .loc[row_indexer,col_indexer] = value instead\n",
      "\n",
      "See the caveats in the documentation: http://pandas.pydata.org/pandas-docs/stable/user_guide/indexing.html#returning-a-view-versus-a-copy\n",
      "  \"\"\"\n"
     ]
    }
   ],
   "source": [
    "#青海\n",
    "df = pd.read_excel(r'E:\\paper\\名稱merge\\青海_結果.xlsx',index_col=0)\n",
    "df.fillna('',inplace=True)\n",
    "df_region = df[df['區域代碼']!='']\n",
    "df_region['鄉鎮碼'] = df_region['區域代碼'].astype(str).map(lambda x:x[0:9])\n",
    "df_zone1 = df_region[df_region['青海']<1.2]\n",
    "print(df_zone1.groupby('鄉鎮碼')['法人代碼'].count().sort_values(ascending=False))"
   ]
  },
  {
   "cell_type": "code",
   "execution_count": 93,
   "metadata": {},
   "outputs": [
    {
     "data": {
      "text/plain": [
       "([<matplotlib.axis.XTick at 0x1b36da03288>,\n",
       "  <matplotlib.axis.XTick at 0x1b36e004208>,\n",
       "  <matplotlib.axis.XTick at 0x1b3013c41c8>,\n",
       "  <matplotlib.axis.XTick at 0x1b3077d9108>],\n",
       " <a list of 4 Text xticklabel objects>)"
      ]
     },
     "execution_count": 93,
     "metadata": {},
     "output_type": "execute_result"
    },
    {
     "data": {
      "image/png": "[encoded data removed]",
      "text/plain": [
       "<Figure size 360x360 with 1 Axes>"
      ]
     },
     "metadata": {
      "needs_background": "light"
     },
     "output_type": "display_data"
    }
   ],
   "source": [
    "from matplotlib.font_manager import FontProperties\n",
    "myfont = FontProperties(fname=r'C:\\Windows\\Fonts\\msjhbd.ttc')\n",
    "fig = plt.figure(figsize = (5,5))\n",
    "ax1 = fig.add_subplot(111)\n",
    "ax1.set_ylabel('Counts')\n",
    "x_value = np.arange(0,len(df_zone1.groupby('鄉鎮碼')['法人代碼'].count().sort_values(ascending=False).index))\n",
    "bar1 = ax1.bar(x_value,df_zone1.groupby('鄉鎮碼')['法人代碼'].count().sort_values(ascending=False),alpha=0.7,width=0.35,color='r')\n",
    "\n",
    "plt.title('青海',fontproperties=myfont,fontsize=20)\n",
    "plt.xticks(x_value,df_zone1.groupby('鄉鎮碼')['法人代碼'].count().sort_values(ascending=False).index,fontproperties=myfont,rotation=45)"
   ]
  },
  {
   "cell_type": "code",
   "execution_count": 94,
   "metadata": {},
   "outputs": [
    {
     "name": "stdout",
     "output_type": "stream",
     "text": [
      "鄉鎮碼\n",
      "640106004    8\n",
      "640106002    1\n",
      "640105002    1\n",
      "640104001    1\n",
      "Name: 法人代碼, dtype: int64\n"
     ]
    },
    {
     "name": "stderr",
     "output_type": "stream",
     "text": [
      "D:\\Anaconda\\lib\\site-packages\\ipykernel_launcher.py:5: SettingWithCopyWarning: \n",
      "A value is trying to be set on a copy of a slice from a DataFrame.\n",
      "Try using .loc[row_indexer,col_indexer] = value instead\n",
      "\n",
      "See the caveats in the documentation: http://pandas.pydata.org/pandas-docs/stable/user_guide/indexing.html#returning-a-view-versus-a-copy\n",
      "  \"\"\"\n"
     ]
    }
   ],
   "source": [
    "#寧夏\n",
    "df = pd.read_excel(r'E:\\paper\\名稱merge\\寧夏_結果.xlsx',index_col=0)\n",
    "df.fillna('',inplace=True)\n",
    "df_region = df[df['區域代碼']!='']\n",
    "df_region['鄉鎮碼'] = df_region['區域代碼'].astype(str).map(lambda x:x[0:9])\n",
    "df_zone1 = df_region[df_region['銀川']<0.7]\n",
    "print(df_zone1.groupby('鄉鎮碼')['法人代碼'].count().sort_values(ascending=False))"
   ]
  },
  {
   "cell_type": "code",
   "execution_count": 96,
   "metadata": {},
   "outputs": [
    {
     "data": {
      "text/plain": [
       "([<matplotlib.axis.XTick at 0x1b309435f88>,\n",
       "  <matplotlib.axis.XTick at 0x1b30618f388>,\n",
       "  <matplotlib.axis.XTick at 0x1b30618f988>,\n",
       "  <matplotlib.axis.XTick at 0x1b31f141448>],\n",
       " <a list of 4 Text xticklabel objects>)"
      ]
     },
     "execution_count": 96,
     "metadata": {},
     "output_type": "execute_result"
    },
    {
     "data": {
      "image/png": "[encoded data removed]",
      "text/plain": [
       "<Figure size 360x360 with 1 Axes>"
      ]
     },
     "metadata": {
      "needs_background": "light"
     },
     "output_type": "display_data"
    }
   ],
   "source": [
    "from matplotlib.font_manager import FontProperties\n",
    "myfont = FontProperties(fname=r'C:\\Windows\\Fonts\\msjhbd.ttc')\n",
    "fig = plt.figure(figsize = (5,5))\n",
    "ax1 = fig.add_subplot(111)\n",
    "ax1.set_ylabel('Counts')\n",
    "x_value = np.arange(0,len(df_zone1.groupby('鄉鎮碼')['法人代碼'].count().sort_values(ascending=False).index))\n",
    "bar1 = ax1.bar(x_value,df_zone1.groupby('鄉鎮碼')['法人代碼'].count().sort_values(ascending=False),alpha=0.7,width=0.35,color='r')\n",
    "\n",
    "plt.title('銀川',fontproperties=myfont,fontsize=20)\n",
    "plt.xticks(x_value,df_zone1.groupby('鄉鎮碼')['法人代碼'].count().sort_values(ascending=False).index,fontproperties=myfont,rotation=45)"
   ]
  },
  {
   "cell_type": "code",
   "execution_count": 97,
   "metadata": {},
   "outputs": [
    {
     "name": "stdout",
     "output_type": "stream",
     "text": [
      "鄉鎮碼\n",
      "652301006    4\n",
      "652301003    2\n",
      "652301104    1\n",
      "652301102    1\n",
      "652301005    1\n",
      "652301002    1\n",
      "650106004    1\n",
      "Name: 法人代碼, dtype: int64\n"
     ]
    },
    {
     "name": "stderr",
     "output_type": "stream",
     "text": [
      "D:\\Anaconda\\lib\\site-packages\\ipykernel_launcher.py:5: SettingWithCopyWarning: \n",
      "A value is trying to be set on a copy of a slice from a DataFrame.\n",
      "Try using .loc[row_indexer,col_indexer] = value instead\n",
      "\n",
      "See the caveats in the documentation: http://pandas.pydata.org/pandas-docs/stable/user_guide/indexing.html#returning-a-view-versus-a-copy\n",
      "  \"\"\"\n"
     ]
    }
   ],
   "source": [
    "#新疆\n",
    "df = pd.read_excel(r'E:\\paper\\名稱merge\\新疆_結果.xlsx',index_col=0)\n",
    "df.fillna('',inplace=True)\n",
    "df_region = df[df['區域代碼']!='']\n",
    "df_region['鄉鎮碼'] = df_region['區域代碼'].astype(str).map(lambda x:x[0:9])\n",
    "df_zone1 = df_region[df_region['昌吉']<2]\n",
    "print(df_zone1.groupby('鄉鎮碼')['法人代碼'].count().sort_values(ascending=False))"
   ]
  },
  {
   "cell_type": "code",
   "execution_count": 98,
   "metadata": {},
   "outputs": [
    {
     "data": {
      "text/plain": [
       "([<matplotlib.axis.XTick at 0x1b3725ddec8>,\n",
       "  <matplotlib.axis.XTick at 0x1b3745c3bc8>,\n",
       "  <matplotlib.axis.XTick at 0x1b3745c3cc8>,\n",
       "  <matplotlib.axis.XTick at 0x1b373abd308>,\n",
       "  <matplotlib.axis.XTick at 0x1b3010d0908>,\n",
       "  <matplotlib.axis.XTick at 0x1b30c1d3b08>,\n",
       "  <matplotlib.axis.XTick at 0x1b3136487c8>],\n",
       " <a list of 7 Text xticklabel objects>)"
      ]
     },
     "execution_count": 98,
     "metadata": {},
     "output_type": "execute_result"
    },
    {
     "data": {
      "image/png": "[encoded data removed]",
      "text/plain": [
       "<Figure size 360x360 with 1 Axes>"
      ]
     },
     "metadata": {
      "needs_background": "light"
     },
     "output_type": "display_data"
    }
   ],
   "source": [
    "from matplotlib.font_manager import FontProperties\n",
    "myfont = FontProperties(fname=r'C:\\Windows\\Fonts\\msjhbd.ttc')\n",
    "fig = plt.figure(figsize = (5,5))\n",
    "ax1 = fig.add_subplot(111)\n",
    "ax1.set_ylabel('Counts')\n",
    "x_value = np.arange(0,len(df_zone1.groupby('鄉鎮碼')['法人代碼'].count().sort_values(ascending=False).index))\n",
    "bar1 = ax1.bar(x_value,df_zone1.groupby('鄉鎮碼')['法人代碼'].count().sort_values(ascending=False),alpha=0.7,width=0.35,color='r')\n",
    "\n",
    "plt.title('昌吉',fontproperties=myfont,fontsize=20)\n",
    "plt.xticks(x_value,df_zone1.groupby('鄉鎮碼')['法人代碼'].count().sort_values(ascending=False).index,fontproperties=myfont,rotation=45)"
   ]
  },
  {
   "cell_type": "code",
   "execution_count": null,
   "metadata": {},
   "outputs": [],
   "source": []
  }
 ],
 "metadata": {
  "kernelspec": {
   "display_name": "Python 3",
   "language": "python",
   "name": "python3"
  },
  "language_info": {
   "codemirror_mode": {
    "name": "ipython",
    "version": 3
   },
   "file_extension": ".py",
   "mimetype": "text/x-python",
   "name": "python",
   "nbconvert_exporter": "python",
   "pygments_lexer": "ipython3",
   "version": "3.7.4"
  }
 },
 "nbformat": 4,
 "nbformat_minor": 2
}
