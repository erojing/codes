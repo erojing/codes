{
 "cells": [
  {
   "cell_type": "code",
   "execution_count": 1,
   "metadata": {},
   "outputs": [],
   "source": [
    "import pandas as pd\n",
    "import numpy as np\n",
    "import matplotlib.pyplot as plt\n",
    "import re\n",
    "import time\n",
    "import datetime\n",
    "import geocoder\n",
    "pd.set_option('display.max_rows',500)\n",
    "pd.set_option('display.max_columns',50)\n",
    "pd.set_option('max_colwidth',200)\n",
    "%matplotlib inline"
   ]
  },
  {
   "cell_type": "code",
   "execution_count": 2,
   "metadata": {
    "collapsed": true
   },
   "outputs": [
    {
     "name": "stdout",
     "output_type": "stream",
     "text": [
      "鄉鎮碼\n",
      "130802401    4\n",
      "130802103    1\n",
      "Name: 法人代碼, dtype: int64\n"
     ]
    },
    {
     "name": "stderr",
     "output_type": "stream",
     "text": [
      "D:\\Anaconda\\lib\\site-packages\\ipykernel_launcher.py:5: SettingWithCopyWarning: \n",
      "A value is trying to be set on a copy of a slice from a DataFrame.\n",
      "Try using .loc[row_indexer,col_indexer] = value instead\n",
      "\n",
      "See the caveats in the documentation: http://pandas.pydata.org/pandas-docs/stable/user_guide/indexing.html#returning-a-view-versus-a-copy\n",
      "  \"\"\"\n"
     ]
    }
   ],
   "source": [
    "#河北\n",
    "df = pd.read_excel(r'E:\\paper\\名稱merge\\河北_結果.xlsx',index_col=0)\n",
    "df.fillna('',inplace=True)\n",
    "df_region = df[df['區域代碼']!='']\n",
    "df_region['鄉鎮碼'] = df_region['區域代碼'].astype(str).map(lambda x:x[0:9])\n",
    "df_zone1 = df_region[df_region['承德']<1.5]\n",
    "print(df_zone1.groupby('鄉鎮碼')['法人代碼'].count().sort_values(ascending=False))"
   ]
  },
  {
   "cell_type": "code",
   "execution_count": 3,
   "metadata": {
    "collapsed": true
   },
   "outputs": [
    {
     "name": "stdout",
     "output_type": "stream",
     "text": [
      "鄉鎮碼\n",
      "210503010    30\n",
      "210504001     1\n",
      "210503013     1\n",
      "Name: 法人代碼, dtype: int64\n"
     ]
    },
    {
     "name": "stderr",
     "output_type": "stream",
     "text": [
      "D:\\Anaconda\\lib\\site-packages\\ipykernel_launcher.py:5: SettingWithCopyWarning: \n",
      "A value is trying to be set on a copy of a slice from a DataFrame.\n",
      "Try using .loc[row_indexer,col_indexer] = value instead\n",
      "\n",
      "See the caveats in the documentation: http://pandas.pydata.org/pandas-docs/stable/user_guide/indexing.html#returning-a-view-versus-a-copy\n",
      "  \"\"\"\n"
     ]
    }
   ],
   "source": [
    "#遼寧\n",
    "df = pd.read_excel(r'E:\\paper\\名稱merge\\遼寧_結果.xlsx',index_col=0)\n",
    "df.fillna('',inplace=True)\n",
    "df_region = df[df['區域代碼']!='']\n",
    "df_region['鄉鎮碼'] = df_region['區域代碼'].astype(str).map(lambda x:x[0:9])\n",
    "df_zone1 = df_region[df_region['本溪']<1.8]\n",
    "print(df_zone1.groupby('鄉鎮碼')['法人代碼'].count().sort_values(ascending=False))"
   ]
  },
  {
   "cell_type": "code",
   "execution_count": 6,
   "metadata": {
    "collapsed": true
   },
   "outputs": [
    {
     "name": "stdout",
     "output_type": "stream",
     "text": [
      "鄉鎮碼\n",
      "220102072    13\n",
      "220102071     9\n",
      "220102170     7\n",
      "220102172     3\n",
      "220102171     2\n",
      "220881209     1\n",
      "220105070     1\n",
      "Name: 法人代碼, dtype: int64\n"
     ]
    },
    {
     "name": "stderr",
     "output_type": "stream",
     "text": [
      "D:\\Anaconda\\lib\\site-packages\\ipykernel_launcher.py:5: SettingWithCopyWarning: \n",
      "A value is trying to be set on a copy of a slice from a DataFrame.\n",
      "Try using .loc[row_indexer,col_indexer] = value instead\n",
      "\n",
      "See the caveats in the documentation: http://pandas.pydata.org/pandas-docs/stable/user_guide/indexing.html#returning-a-view-versus-a-copy\n",
      "  \"\"\"\n"
     ]
    }
   ],
   "source": [
    "#吉林\n",
    "df = pd.read_excel(r'E:\\paper\\名稱merge\\吉林_結果.xlsx',index_col=0)\n",
    "df.fillna('',inplace=True)\n",
    "df_region = df[df['區域代碼']!='']\n",
    "df_region['鄉鎮碼'] = df_region['區域代碼'].astype(str).map(lambda x:x[0:9])\n",
    "df_zone1 = df_region[df_region['長春淨月']<2.7]\n",
    "print(df_zone1.groupby('鄉鎮碼')['法人代碼'].count().sort_values(ascending=False))"
   ]
  },
  {
   "cell_type": "code",
   "execution_count": 7,
   "metadata": {
    "collapsed": true
   },
   "outputs": [
    {
     "name": "stdout",
     "output_type": "stream",
     "text": [
      "鄉鎮碼\n",
      "310112110    8\n",
      "310112103    5\n",
      "Name: 法人代碼, dtype: int64\n"
     ]
    },
    {
     "name": "stderr",
     "output_type": "stream",
     "text": [
      "D:\\Anaconda\\lib\\site-packages\\ipykernel_launcher.py:5: SettingWithCopyWarning: \n",
      "A value is trying to be set on a copy of a slice from a DataFrame.\n",
      "Try using .loc[row_indexer,col_indexer] = value instead\n",
      "\n",
      "See the caveats in the documentation: http://pandas.pydata.org/pandas-docs/stable/user_guide/indexing.html#returning-a-view-versus-a-copy\n",
      "  \"\"\"\n"
     ]
    }
   ],
   "source": [
    "#上海\n",
    "df = pd.read_excel(r'E:\\paper\\名稱merge\\上海_結果.xlsx',index_col=0)\n",
    "df.fillna('',inplace=True)\n",
    "df_region = df[df['區域代碼']!='']\n",
    "df_region['鄉鎮碼'] = df_region['區域代碼'].astype(str).map(lambda x:x[0:9])\n",
    "df_zone1 = df_region[df_region['上海紫竹']<1.8]\n",
    "print(df_zone1.groupby('鄉鎮碼')['法人代碼'].count().sort_values(ascending=False))"
   ]
  },
  {
   "cell_type": "code",
   "execution_count": 8,
   "metadata": {
    "collapsed": true
   },
   "outputs": [
    {
     "name": "stdout",
     "output_type": "stream",
     "text": [
      "鄉鎮碼\n",
      "320281400    34\n",
      "320281100    13\n",
      "320211451     4\n",
      "320211054     2\n",
      "320211051     2\n",
      "320211050     2\n",
      "320281002     1\n",
      "320211055     1\n",
      "320211052     1\n",
      "Name: 法人代碼, dtype: int64\n",
      "鄉鎮碼\n",
      "320412411    76\n",
      "Name: 法人代碼, dtype: int64\n",
      "鄉鎮碼\n",
      "320312101    16\n",
      "320382403     4\n",
      "320382101     2\n",
      "320312402     1\n",
      "320312110     1\n",
      "Name: 法人代碼, dtype: int64\n"
     ]
    },
    {
     "name": "stderr",
     "output_type": "stream",
     "text": [
      "D:\\Anaconda\\lib\\site-packages\\ipykernel_launcher.py:5: SettingWithCopyWarning: \n",
      "A value is trying to be set on a copy of a slice from a DataFrame.\n",
      "Try using .loc[row_indexer,col_indexer] = value instead\n",
      "\n",
      "See the caveats in the documentation: http://pandas.pydata.org/pandas-docs/stable/user_guide/indexing.html#returning-a-view-versus-a-copy\n",
      "  \"\"\"\n"
     ]
    }
   ],
   "source": [
    "#江蘇\n",
    "df = pd.read_excel(r'E:\\paper\\名稱merge\\江蘇_結果.xlsx',index_col=0)\n",
    "df.fillna('',inplace=True)\n",
    "df_region = df[df['區域代碼']!='']\n",
    "df_region['鄉鎮碼'] = df_region['區域代碼'].astype(str).map(lambda x:x[0:9])\n",
    "df_zone1 = df_region[df_region['江陰']<1.6]\n",
    "df_zone2 = df_region[df_region['武進']<1.1]\n",
    "df_zone3 = df_region[df_region['徐州']<1.6]\n",
    "print(df_zone1.groupby('鄉鎮碼')['法人代碼'].count().sort_values(ascending=False))\n",
    "print(df_zone2.groupby('鄉鎮碼')['法人代碼'].count().sort_values(ascending=False))\n",
    "print(df_zone3.groupby('鄉鎮碼')['法人代碼'].count().sort_values(ascending=False))"
   ]
  },
  {
   "cell_type": "code",
   "execution_count": 9,
   "metadata": {
    "collapsed": true
   },
   "outputs": [
    {
     "name": "stdout",
     "output_type": "stream",
     "text": [
      "鄉鎮碼\n",
      "330303002    17\n",
      "330303006     5\n",
      "330303001     5\n",
      "330303011     3\n",
      "330304010     1\n",
      "330303007     1\n",
      "330303005     1\n",
      "330302025     1\n",
      "Name: 法人代碼, dtype: int64\n"
     ]
    },
    {
     "name": "stderr",
     "output_type": "stream",
     "text": [
      "D:\\Anaconda\\lib\\site-packages\\ipykernel_launcher.py:5: SettingWithCopyWarning: \n",
      "A value is trying to be set on a copy of a slice from a DataFrame.\n",
      "Try using .loc[row_indexer,col_indexer] = value instead\n",
      "\n",
      "See the caveats in the documentation: http://pandas.pydata.org/pandas-docs/stable/user_guide/indexing.html#returning-a-view-versus-a-copy\n",
      "  \"\"\"\n"
     ]
    }
   ],
   "source": [
    "#浙江\n",
    "df = pd.read_excel(r'E:\\paper\\名稱merge\\浙江_結果.xlsx',index_col=0)\n",
    "df.fillna('',inplace=True)\n",
    "df_region = df[df['區域代碼']!='']\n",
    "df_region['鄉鎮碼'] = df_region['區域代碼'].astype(str).map(lambda x:x[0:9])\n",
    "df_zone1 = df_region[df_region['溫州']<1.3]\n",
    "print(df_zone1.groupby('鄉鎮碼')['法人代碼'].count().sort_values(ascending=False))"
   ]
  },
  {
   "cell_type": "code",
   "execution_count": 10,
   "metadata": {
    "collapsed": true
   },
   "outputs": [
    {
     "name": "stdout",
     "output_type": "stream",
     "text": [
      "鄉鎮碼\n",
      "340503400    19\n",
      "340503200     6\n",
      "340503008     4\n",
      "340523106     1\n",
      "340521400     1\n",
      "Name: 法人代碼, dtype: int64\n"
     ]
    },
    {
     "name": "stderr",
     "output_type": "stream",
     "text": [
      "D:\\Anaconda\\lib\\site-packages\\ipykernel_launcher.py:5: SettingWithCopyWarning: \n",
      "A value is trying to be set on a copy of a slice from a DataFrame.\n",
      "Try using .loc[row_indexer,col_indexer] = value instead\n",
      "\n",
      "See the caveats in the documentation: http://pandas.pydata.org/pandas-docs/stable/user_guide/indexing.html#returning-a-view-versus-a-copy\n",
      "  \"\"\"\n"
     ]
    }
   ],
   "source": [
    "#安徽\n",
    "df = pd.read_excel(r'E:\\paper\\名稱merge\\安徽_結果.xlsx',index_col=0)\n",
    "df.fillna('',inplace=True)\n",
    "df_region = df[df['區域代碼']!='']\n",
    "df_region['鄉鎮碼'] = df_region['區域代碼'].astype(str).map(lambda x:x[0:9])\n",
    "df_zone1 = df_region[df_region['馬鞍山慈湖']<2]\n",
    "print(df_zone1.groupby('鄉鎮碼')['法人代碼'].count().sort_values(ascending=False))"
   ]
  },
  {
   "cell_type": "code",
   "execution_count": 11,
   "metadata": {
    "collapsed": true
   },
   "outputs": [
    {
     "name": "stdout",
     "output_type": "stream",
     "text": [
      "鄉鎮碼\n",
      "350303104    31\n",
      "350303102     4\n",
      "350303100     4\n",
      "350303500     1\n",
      "350303001     1\n",
      "Name: 法人代碼, dtype: int64\n"
     ]
    },
    {
     "name": "stderr",
     "output_type": "stream",
     "text": [
      "D:\\Anaconda\\lib\\site-packages\\ipykernel_launcher.py:5: SettingWithCopyWarning: \n",
      "A value is trying to be set on a copy of a slice from a DataFrame.\n",
      "Try using .loc[row_indexer,col_indexer] = value instead\n",
      "\n",
      "See the caveats in the documentation: http://pandas.pydata.org/pandas-docs/stable/user_guide/indexing.html#returning-a-view-versus-a-copy\n",
      "  \"\"\"\n"
     ]
    }
   ],
   "source": [
    "#福建\n",
    "df = pd.read_excel(r'E:\\paper\\名稱merge\\福建_結果.xlsx',index_col=0)\n",
    "df.fillna('',inplace=True)\n",
    "df_region = df[df['區域代碼']!='']\n",
    "df_region['鄉鎮碼'] = df_region['區域代碼'].astype(str).map(lambda x:x[0:9])\n",
    "df_zone1 = df_region[df_region['莆田']<2]\n",
    "print(df_zone1.groupby('鄉鎮碼')['法人代碼'].count().sort_values(ascending=False))"
   ]
  },
  {
   "cell_type": "code",
   "execution_count": 12,
   "metadata": {
    "collapsed": true
   },
   "outputs": [
    {
     "name": "stdout",
     "output_type": "stream",
     "text": [
      "鄉鎮碼\n",
      "360602006    19\n",
      "360602003     1\n",
      "360602002     1\n",
      "Name: 法人代碼, dtype: int64\n"
     ]
    },
    {
     "name": "stderr",
     "output_type": "stream",
     "text": [
      "D:\\Anaconda\\lib\\site-packages\\ipykernel_launcher.py:5: SettingWithCopyWarning: \n",
      "A value is trying to be set on a copy of a slice from a DataFrame.\n",
      "Try using .loc[row_indexer,col_indexer] = value instead\n",
      "\n",
      "See the caveats in the documentation: http://pandas.pydata.org/pandas-docs/stable/user_guide/indexing.html#returning-a-view-versus-a-copy\n",
      "  \"\"\"\n"
     ]
    }
   ],
   "source": [
    "#江西\n",
    "df = pd.read_excel(r'E:\\paper\\名稱merge\\江西_結果.xlsx',index_col=0)\n",
    "df.fillna('',inplace=True)\n",
    "df_region = df[df['區域代碼']!='']\n",
    "df_region['鄉鎮碼'] = df_region['區域代碼'].astype(str).map(lambda x:x[0:9])\n",
    "df_zone1 = df_region[df_region['鷹潭']<2]\n",
    "print(df_zone1.groupby('鄉鎮碼')['法人代碼'].count().sort_values(ascending=False))"
   ]
  },
  {
   "cell_type": "code",
   "execution_count": 13,
   "metadata": {
    "collapsed": true
   },
   "outputs": [
    {
     "name": "stdout",
     "output_type": "stream",
     "text": [
      "鄉鎮碼\n",
      "371311003    59\n",
      "371311001    15\n",
      "371311008     1\n",
      "371311007     1\n",
      "Name: 法人代碼, dtype: int64\n",
      "鄉鎮碼\n",
      "370902004    26\n",
      "370902003     4\n",
      "370911102     1\n",
      "370911003     1\n",
      "370902101     1\n",
      "370902100     1\n",
      "Name: 法人代碼, dtype: int64\n"
     ]
    },
    {
     "name": "stderr",
     "output_type": "stream",
     "text": [
      "D:\\Anaconda\\lib\\site-packages\\ipykernel_launcher.py:5: SettingWithCopyWarning: \n",
      "A value is trying to be set on a copy of a slice from a DataFrame.\n",
      "Try using .loc[row_indexer,col_indexer] = value instead\n",
      "\n",
      "See the caveats in the documentation: http://pandas.pydata.org/pandas-docs/stable/user_guide/indexing.html#returning-a-view-versus-a-copy\n",
      "  \"\"\"\n"
     ]
    }
   ],
   "source": [
    "#山東\n",
    "df = pd.read_excel(r'E:\\paper\\名稱merge\\山東_結果.xlsx',index_col=0)\n",
    "df.fillna('',inplace=True)\n",
    "df_region = df[df['區域代碼']!='']\n",
    "df_region['鄉鎮碼'] = df_region['區域代碼'].astype(str).map(lambda x:x[0:9])\n",
    "df_zone1 = df_region[df_region['臨沂']<2]\n",
    "df_zone2 = df_region[df_region['泰安']<2.2]\n",
    "print(df_zone1.groupby('鄉鎮碼')['法人代碼'].count().sort_values(ascending=False))\n",
    "print(df_zone2.groupby('鄉鎮碼')['法人代碼'].count().sort_values(ascending=False))"
   ]
  },
  {
   "cell_type": "code",
   "execution_count": 14,
   "metadata": {},
   "outputs": [
    {
     "name": "stdout",
     "output_type": "stream",
     "text": [
      "鄉鎮碼\n",
      "410702560    5\n",
      "410721560    1\n",
      "410702400    1\n",
      "410702360    1\n",
      "Name: 法人代碼, dtype: int64\n"
     ]
    },
    {
     "name": "stderr",
     "output_type": "stream",
     "text": [
      "D:\\Anaconda\\lib\\site-packages\\ipykernel_launcher.py:5: SettingWithCopyWarning: \n",
      "A value is trying to be set on a copy of a slice from a DataFrame.\n",
      "Try using .loc[row_indexer,col_indexer] = value instead\n",
      "\n",
      "See the caveats in the documentation: http://pandas.pydata.org/pandas-docs/stable/user_guide/indexing.html#returning-a-view-versus-a-copy\n",
      "  \"\"\"\n"
     ]
    }
   ],
   "source": [
    "#河南\n",
    "df = pd.read_excel(r'E:\\paper\\名稱merge\\河南_結果.xlsx',index_col=0)\n",
    "df.fillna('',inplace=True)\n",
    "df_region = df[df['區域代碼']!='']\n",
    "df_region['鄉鎮碼'] = df_region['區域代碼'].astype(str).map(lambda x:x[0:9])\n",
    "df_zone1 = df_region[df_region['新鄉']<1.2]\n",
    "print(df_zone1.groupby('鄉鎮碼')['法人代碼'].count().sort_values(ascending=False))"
   ]
  },
  {
   "cell_type": "code",
   "execution_count": 15,
   "metadata": {
    "collapsed": true
   },
   "outputs": [
    {
     "name": "stdout",
     "output_type": "stream",
     "text": [
      "鄉鎮碼\n",
      "420902570    13\n",
      "420902571     5\n",
      "420902004     5\n",
      "420984103     2\n",
      "420902500     2\n",
      "420902003     2\n",
      "420902002     2\n",
      "420981001     1\n",
      "420902450     1\n",
      "420902105     1\n",
      "420902104     1\n",
      "420902100     1\n",
      "Name: 法人代碼, dtype: int64\n"
     ]
    },
    {
     "name": "stderr",
     "output_type": "stream",
     "text": [
      "D:\\Anaconda\\lib\\site-packages\\ipykernel_launcher.py:5: SettingWithCopyWarning: \n",
      "A value is trying to be set on a copy of a slice from a DataFrame.\n",
      "Try using .loc[row_indexer,col_indexer] = value instead\n",
      "\n",
      "See the caveats in the documentation: http://pandas.pydata.org/pandas-docs/stable/user_guide/indexing.html#returning-a-view-versus-a-copy\n",
      "  \"\"\"\n"
     ]
    }
   ],
   "source": [
    "#湖北\n",
    "df = pd.read_excel(r'E:\\paper\\名稱merge\\湖北_結果.xlsx',index_col=0)\n",
    "df.fillna('',inplace=True)\n",
    "df_region = df[df['區域代碼']!='']\n",
    "df_region['鄉鎮碼'] = df_region['區域代碼'].astype(str).map(lambda x:x[0:9])\n",
    "df_zone1 = df_region[df_region['孝感']<2.1]\n",
    "print(df_zone1.groupby('鄉鎮碼')['法人代碼'].count().sort_values(ascending=False))"
   ]
  },
  {
   "cell_type": "code",
   "execution_count": 24,
   "metadata": {
    "collapsed": true
   },
   "outputs": [
    {
     "name": "stdout",
     "output_type": "stream",
     "text": [
      "鄉鎮碼\n",
      "510302102    9\n",
      "510302005    6\n",
      "510311101    3\n",
      "510302002    3\n",
      "510302103    2\n",
      "510302101    2\n",
      "510302006    2\n",
      "510302203    1\n",
      "510302201    1\n",
      "510302003    1\n",
      "Name: 法人代碼, dtype: int64\n",
      "鄉鎮碼\n",
      "511102115    2\n",
      "511112100    1\n",
      "511102103    1\n",
      "511102102    1\n",
      "511102006    1\n",
      "511102003    1\n",
      "Name: 法人代碼, dtype: int64\n"
     ]
    },
    {
     "name": "stderr",
     "output_type": "stream",
     "text": [
      "D:\\Anaconda\\lib\\site-packages\\ipykernel_launcher.py:5: SettingWithCopyWarning: \n",
      "A value is trying to be set on a copy of a slice from a DataFrame.\n",
      "Try using .loc[row_indexer,col_indexer] = value instead\n",
      "\n",
      "See the caveats in the documentation: http://pandas.pydata.org/pandas-docs/stable/user_guide/indexing.html#returning-a-view-versus-a-copy\n",
      "  \"\"\"\n"
     ]
    }
   ],
   "source": [
    "#四川\n",
    "df = pd.read_excel(r'E:\\paper\\名稱merge\\四川_結果.xlsx',index_col=0)\n",
    "df.fillna('',inplace=True)\n",
    "df_region = df[df['區域代碼']!='']\n",
    "df_region['鄉鎮碼'] = df_region['區域代碼'].astype(str).map(lambda x:x[0:9])\n",
    "df_zone1 = df_region[df_region['自貢']<1.7]\n",
    "df_zone2 = df_region[df_region['樂山']<1.2]\n",
    "print(df_zone1.groupby('鄉鎮碼')['法人代碼'].count().sort_values(ascending=False))\n",
    "print(df_zone2.groupby('鄉鎮碼')['法人代碼'].count().sort_values(ascending=False))"
   ]
  },
  {
   "cell_type": "code",
   "execution_count": 22,
   "metadata": {
    "collapsed": true
   },
   "outputs": [
    {
     "name": "stdout",
     "output_type": "stream",
     "text": [
      "鄉鎮碼\n",
      "530402002    14\n",
      "530402009     3\n",
      "530402007     3\n",
      "530402005     2\n",
      "530402003     2\n",
      "530402008     1\n",
      "Name: 法人代碼, dtype: int64\n"
     ]
    },
    {
     "name": "stderr",
     "output_type": "stream",
     "text": [
      "D:\\Anaconda\\lib\\site-packages\\ipykernel_launcher.py:5: SettingWithCopyWarning: \n",
      "A value is trying to be set on a copy of a slice from a DataFrame.\n",
      "Try using .loc[row_indexer,col_indexer] = value instead\n",
      "\n",
      "See the caveats in the documentation: http://pandas.pydata.org/pandas-docs/stable/user_guide/indexing.html#returning-a-view-versus-a-copy\n",
      "  \"\"\"\n"
     ]
    }
   ],
   "source": [
    "#雲南\n",
    "df = pd.read_excel(r'E:\\paper\\名稱merge\\雲南_結果.xlsx',index_col=0)\n",
    "df.fillna('',inplace=True)\n",
    "df_region = df[df['區域代碼']!='']\n",
    "df_region['鄉鎮碼'] = df_region['區域代碼'].astype(str).map(lambda x:x[0:9])\n",
    "df_zone1 = df_region[df_region['玉溪']<2.1]\n",
    "print(df_zone1.groupby('鄉鎮碼')['法人代碼'].count().sort_values(ascending=False))"
   ]
  },
  {
   "cell_type": "code",
   "execution_count": 27,
   "metadata": {
    "collapsed": true
   },
   "outputs": [
    {
     "name": "stdout",
     "output_type": "stream",
     "text": [
      "鄉鎮碼\n",
      "610802007    4\n",
      "610802105    2\n",
      "610802110    1\n",
      "610802002    1\n",
      "Name: 法人代碼, dtype: int64\n",
      "鄉鎮碼\n",
      "610402001    4\n",
      "610402002    4\n",
      "610402006    4\n",
      "610404002    3\n",
      "610402003    3\n",
      "610481002    2\n",
      "610402007    2\n",
      "610402005    2\n",
      "610402008    2\n",
      "610402010    2\n",
      "610404003    2\n",
      "610116005    2\n",
      "610424100    1\n",
      "610402009    1\n",
      "610402011    1\n",
      "610402004    1\n",
      "610402105    1\n",
      "610423102    1\n",
      "Name: 法人代碼, dtype: int64\n"
     ]
    },
    {
     "name": "stderr",
     "output_type": "stream",
     "text": [
      "D:\\Anaconda\\lib\\site-packages\\ipykernel_launcher.py:5: SettingWithCopyWarning: \n",
      "A value is trying to be set on a copy of a slice from a DataFrame.\n",
      "Try using .loc[row_indexer,col_indexer] = value instead\n",
      "\n",
      "See the caveats in the documentation: http://pandas.pydata.org/pandas-docs/stable/user_guide/indexing.html#returning-a-view-versus-a-copy\n",
      "  \"\"\"\n"
     ]
    }
   ],
   "source": [
    "#陝西\n",
    "df = pd.read_excel(r'E:\\paper\\名稱merge\\陝西_結果.xlsx',index_col=0)\n",
    "df.fillna('',inplace=True)\n",
    "df_region = df[df['區域代碼']!='']\n",
    "df_region['鄉鎮碼'] = df_region['區域代碼'].astype(str).map(lambda x:x[0:9])\n",
    "df_zone1 = df_region[df_region['榆林']<2.1]\n",
    "df_zone2 = df_region[df_region['咸陽']<2.6]\n",
    "print(df_zone1.groupby('鄉鎮碼')['法人代碼'].count().sort_values(ascending=False))\n",
    "print(df_zone2.groupby('鄉鎮碼')['法人代碼'].count().sort_values(ascending=False))"
   ]
  },
  {
   "cell_type": "code",
   "execution_count": null,
   "metadata": {},
   "outputs": [],
   "source": []
  }
 ],
 "metadata": {
  "kernelspec": {
   "display_name": "Python 3",
   "language": "python",
   "name": "python3"
  },
  "language_info": {
   "codemirror_mode": {
    "name": "ipython",
    "version": 3
   },
   "file_extension": ".py",
   "mimetype": "text/x-python",
   "name": "python",
   "nbconvert_exporter": "python",
   "pygments_lexer": "ipython3",
   "version": "3.7.4"
  }
 },
 "nbformat": 4,
 "nbformat_minor": 2
}
